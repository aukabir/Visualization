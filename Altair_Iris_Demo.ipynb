{
  "cells": [
    {
      "cell_type": "markdown",
      "metadata": {
        "id": "view-in-github",
        "colab_type": "text"
      },
      "source": [
        "<a href=\"https://colab.research.google.com/github/aukabir/Visualization/blob/main/Altair_Iris_Demo.ipynb\" target=\"_parent\"><img src=\"https://colab.research.google.com/assets/colab-badge.svg\" alt=\"Open In Colab\"/></a>"
      ]
    },
    {
      "cell_type": "markdown",
      "metadata": {
        "id": "Dc5DOGNDu27T"
      },
      "source": [
        "# Demo: Exploring the Iris Dataset\n",
        "\n",
        "We'll start this tutorial with a demo to whet your appetite for learning more. This section purposely moves quickly through many of the concepts (e.g. data, marks, encodings, aggregation, data types, selections, etc.)\n",
        "We will return to treat each of these in more depth later in the tutorial, so don't worry if it all seems to go a bit quickly!\n",
        "\n",
        "In the live tutorial, this will be done from scratch in a blank notebook.\n",
        "However, for the sake of people who want to look back on what we did live, I'll do my best to reproduce the examples and the discussion here."
      ]
    },
    {
      "cell_type": "markdown",
      "metadata": {
        "id": "DEUpz6Wru27V"
      },
      "source": [
        "## 1. Imports and Data\n",
        "\n",
        "We'll start with importing the [Altair package](http://altair-viz.github.io/) and enabling the appropriate renderer (if necessary):"
      ]
    },
    {
      "cell_type": "code",
      "execution_count": 1,
      "metadata": {
        "id": "uDzNNLO9u27W"
      },
      "outputs": [],
      "source": [
        "import altair as alt\n",
        "\n",
        "# Altair plots render by default in JupyterLab and nteract\n",
        "\n",
        "# Uncomment/run this line to enable Altair in the classic notebook (not in JupyterLab)\n",
        "# alt.renderers.enable('notebook')\n",
        "\n",
        "# Uncomment/run this line to enable Altair in Colab\n",
        "# alt.renderers.enable('colab')"
      ]
    },
    {
      "cell_type": "markdown",
      "metadata": {
        "id": "91Juo8bou27X"
      },
      "source": [
        "Now we'll use the [vega_datasets package](https://github.com/altair-viz/vega_datasets), to load an example dataset:"
      ]
    },
    {
      "cell_type": "markdown",
      "source": [
        "# Open Source Dataset"
      ],
      "metadata": {
        "id": "W_lsExxx1O9I"
      }
    },
    {
      "cell_type": "code",
      "source": [
        "from vega_datasets import data\n",
        "data.list_datasets()"
      ],
      "metadata": {
        "colab": {
          "base_uri": "https://localhost:8080/"
        },
        "id": "045XMqJbvOGy",
        "outputId": "652dc3c8-4f46-44bf-eeeb-b0bb810fd7f3"
      },
      "execution_count": 10,
      "outputs": [
        {
          "output_type": "execute_result",
          "data": {
            "text/plain": [
              "['7zip',\n",
              " 'airports',\n",
              " 'annual-precip',\n",
              " 'anscombe',\n",
              " 'barley',\n",
              " 'birdstrikes',\n",
              " 'budget',\n",
              " 'budgets',\n",
              " 'burtin',\n",
              " 'cars',\n",
              " 'climate',\n",
              " 'co2-concentration',\n",
              " 'countries',\n",
              " 'crimea',\n",
              " 'disasters',\n",
              " 'driving',\n",
              " 'earthquakes',\n",
              " 'ffox',\n",
              " 'flare',\n",
              " 'flare-dependencies',\n",
              " 'flights-10k',\n",
              " 'flights-200k',\n",
              " 'flights-20k',\n",
              " 'flights-2k',\n",
              " 'flights-3m',\n",
              " 'flights-5k',\n",
              " 'flights-airport',\n",
              " 'gapminder',\n",
              " 'gapminder-health-income',\n",
              " 'gimp',\n",
              " 'github',\n",
              " 'graticule',\n",
              " 'income',\n",
              " 'iowa-electricity',\n",
              " 'iris',\n",
              " 'jobs',\n",
              " 'la-riots',\n",
              " 'londonBoroughs',\n",
              " 'londonCentroids',\n",
              " 'londonTubeLines',\n",
              " 'lookup_groups',\n",
              " 'lookup_people',\n",
              " 'miserables',\n",
              " 'monarchs',\n",
              " 'movies',\n",
              " 'normal-2d',\n",
              " 'obesity',\n",
              " 'ohlc',\n",
              " 'points',\n",
              " 'population',\n",
              " 'population_engineers_hurricanes',\n",
              " 'seattle-temps',\n",
              " 'seattle-weather',\n",
              " 'sf-temps',\n",
              " 'sp500',\n",
              " 'stocks',\n",
              " 'udistrict',\n",
              " 'unemployment',\n",
              " 'unemployment-across-industries',\n",
              " 'uniform-2d',\n",
              " 'us-10m',\n",
              " 'us-employment',\n",
              " 'us-state-capitals',\n",
              " 'volcano',\n",
              " 'weather',\n",
              " 'weball26',\n",
              " 'wheat',\n",
              " 'windvectors',\n",
              " 'world-110m',\n",
              " 'zipcodes']"
            ]
          },
          "metadata": {},
          "execution_count": 10
        }
      ]
    },
    {
      "cell_type": "code",
      "source": [
        "from vega_datasets import local_data\n",
        "local_data.list_datasets()"
      ],
      "metadata": {
        "colab": {
          "base_uri": "https://localhost:8080/"
        },
        "id": "toJi0JHTvo5P",
        "outputId": "a3136ace-d06e-4bfc-a0de-fdd7ad2694ac"
      },
      "execution_count": 6,
      "outputs": [
        {
          "output_type": "execute_result",
          "data": {
            "text/plain": [
              "['airports',\n",
              " 'anscombe',\n",
              " 'barley',\n",
              " 'burtin',\n",
              " 'cars',\n",
              " 'crimea',\n",
              " 'driving',\n",
              " 'iowa-electricity',\n",
              " 'iris',\n",
              " 'la-riots',\n",
              " 'ohlc',\n",
              " 'seattle-temps',\n",
              " 'seattle-weather',\n",
              " 'sf-temps',\n",
              " 'stocks',\n",
              " 'us-employment',\n",
              " 'wheat']"
            ]
          },
          "metadata": {},
          "execution_count": 6
        }
      ]
    },
    {
      "cell_type": "code",
      "execution_count": 11,
      "metadata": {
        "colab": {
          "base_uri": "https://localhost:8080/",
          "height": 206
        },
        "id": "hbl3h_z_u27Y",
        "outputId": "79285fab-767b-47dd-9637-3fd3f5570717"
      },
      "outputs": [
        {
          "output_type": "execute_result",
          "data": {
            "text/plain": [
              "   sepalLength  sepalWidth  petalLength  petalWidth species\n",
              "0          5.1         3.5          1.4         0.2  setosa\n",
              "1          4.9         3.0          1.4         0.2  setosa\n",
              "2          4.7         3.2          1.3         0.2  setosa\n",
              "3          4.6         3.1          1.5         0.2  setosa\n",
              "4          5.0         3.6          1.4         0.2  setosa"
            ],
            "text/html": [
              "\n",
              "  <div id=\"df-ab6fd62f-a9f2-4ec5-93ba-272ce77c6a69\" class=\"colab-df-container\">\n",
              "    <div>\n",
              "<style scoped>\n",
              "    .dataframe tbody tr th:only-of-type {\n",
              "        vertical-align: middle;\n",
              "    }\n",
              "\n",
              "    .dataframe tbody tr th {\n",
              "        vertical-align: top;\n",
              "    }\n",
              "\n",
              "    .dataframe thead th {\n",
              "        text-align: right;\n",
              "    }\n",
              "</style>\n",
              "<table border=\"1\" class=\"dataframe\">\n",
              "  <thead>\n",
              "    <tr style=\"text-align: right;\">\n",
              "      <th></th>\n",
              "      <th>sepalLength</th>\n",
              "      <th>sepalWidth</th>\n",
              "      <th>petalLength</th>\n",
              "      <th>petalWidth</th>\n",
              "      <th>species</th>\n",
              "    </tr>\n",
              "  </thead>\n",
              "  <tbody>\n",
              "    <tr>\n",
              "      <th>0</th>\n",
              "      <td>5.1</td>\n",
              "      <td>3.5</td>\n",
              "      <td>1.4</td>\n",
              "      <td>0.2</td>\n",
              "      <td>setosa</td>\n",
              "    </tr>\n",
              "    <tr>\n",
              "      <th>1</th>\n",
              "      <td>4.9</td>\n",
              "      <td>3.0</td>\n",
              "      <td>1.4</td>\n",
              "      <td>0.2</td>\n",
              "      <td>setosa</td>\n",
              "    </tr>\n",
              "    <tr>\n",
              "      <th>2</th>\n",
              "      <td>4.7</td>\n",
              "      <td>3.2</td>\n",
              "      <td>1.3</td>\n",
              "      <td>0.2</td>\n",
              "      <td>setosa</td>\n",
              "    </tr>\n",
              "    <tr>\n",
              "      <th>3</th>\n",
              "      <td>4.6</td>\n",
              "      <td>3.1</td>\n",
              "      <td>1.5</td>\n",
              "      <td>0.2</td>\n",
              "      <td>setosa</td>\n",
              "    </tr>\n",
              "    <tr>\n",
              "      <th>4</th>\n",
              "      <td>5.0</td>\n",
              "      <td>3.6</td>\n",
              "      <td>1.4</td>\n",
              "      <td>0.2</td>\n",
              "      <td>setosa</td>\n",
              "    </tr>\n",
              "  </tbody>\n",
              "</table>\n",
              "</div>\n",
              "    <div class=\"colab-df-buttons\">\n",
              "\n",
              "  <div class=\"colab-df-container\">\n",
              "    <button class=\"colab-df-convert\" onclick=\"convertToInteractive('df-ab6fd62f-a9f2-4ec5-93ba-272ce77c6a69')\"\n",
              "            title=\"Convert this dataframe to an interactive table.\"\n",
              "            style=\"display:none;\">\n",
              "\n",
              "  <svg xmlns=\"http://www.w3.org/2000/svg\" height=\"24px\" viewBox=\"0 -960 960 960\">\n",
              "    <path d=\"M120-120v-720h720v720H120Zm60-500h600v-160H180v160Zm220 220h160v-160H400v160Zm0 220h160v-160H400v160ZM180-400h160v-160H180v160Zm440 0h160v-160H620v160ZM180-180h160v-160H180v160Zm440 0h160v-160H620v160Z\"/>\n",
              "  </svg>\n",
              "    </button>\n",
              "\n",
              "  <style>\n",
              "    .colab-df-container {\n",
              "      display:flex;\n",
              "      gap: 12px;\n",
              "    }\n",
              "\n",
              "    .colab-df-convert {\n",
              "      background-color: #E8F0FE;\n",
              "      border: none;\n",
              "      border-radius: 50%;\n",
              "      cursor: pointer;\n",
              "      display: none;\n",
              "      fill: #1967D2;\n",
              "      height: 32px;\n",
              "      padding: 0 0 0 0;\n",
              "      width: 32px;\n",
              "    }\n",
              "\n",
              "    .colab-df-convert:hover {\n",
              "      background-color: #E2EBFA;\n",
              "      box-shadow: 0px 1px 2px rgba(60, 64, 67, 0.3), 0px 1px 3px 1px rgba(60, 64, 67, 0.15);\n",
              "      fill: #174EA6;\n",
              "    }\n",
              "\n",
              "    .colab-df-buttons div {\n",
              "      margin-bottom: 4px;\n",
              "    }\n",
              "\n",
              "    [theme=dark] .colab-df-convert {\n",
              "      background-color: #3B4455;\n",
              "      fill: #D2E3FC;\n",
              "    }\n",
              "\n",
              "    [theme=dark] .colab-df-convert:hover {\n",
              "      background-color: #434B5C;\n",
              "      box-shadow: 0px 1px 3px 1px rgba(0, 0, 0, 0.15);\n",
              "      filter: drop-shadow(0px 1px 2px rgba(0, 0, 0, 0.3));\n",
              "      fill: #FFFFFF;\n",
              "    }\n",
              "  </style>\n",
              "\n",
              "    <script>\n",
              "      const buttonEl =\n",
              "        document.querySelector('#df-ab6fd62f-a9f2-4ec5-93ba-272ce77c6a69 button.colab-df-convert');\n",
              "      buttonEl.style.display =\n",
              "        google.colab.kernel.accessAllowed ? 'block' : 'none';\n",
              "\n",
              "      async function convertToInteractive(key) {\n",
              "        const element = document.querySelector('#df-ab6fd62f-a9f2-4ec5-93ba-272ce77c6a69');\n",
              "        const dataTable =\n",
              "          await google.colab.kernel.invokeFunction('convertToInteractive',\n",
              "                                                    [key], {});\n",
              "        if (!dataTable) return;\n",
              "\n",
              "        const docLinkHtml = 'Like what you see? Visit the ' +\n",
              "          '<a target=\"_blank\" href=https://colab.research.google.com/notebooks/data_table.ipynb>data table notebook</a>'\n",
              "          + ' to learn more about interactive tables.';\n",
              "        element.innerHTML = '';\n",
              "        dataTable['output_type'] = 'display_data';\n",
              "        await google.colab.output.renderOutput(dataTable, element);\n",
              "        const docLink = document.createElement('div');\n",
              "        docLink.innerHTML = docLinkHtml;\n",
              "        element.appendChild(docLink);\n",
              "      }\n",
              "    </script>\n",
              "  </div>\n",
              "\n",
              "\n",
              "<div id=\"df-38fab238-5860-420f-9269-3a80eac4d08a\">\n",
              "  <button class=\"colab-df-quickchart\" onclick=\"quickchart('df-38fab238-5860-420f-9269-3a80eac4d08a')\"\n",
              "            title=\"Suggest charts\"\n",
              "            style=\"display:none;\">\n",
              "\n",
              "<svg xmlns=\"http://www.w3.org/2000/svg\" height=\"24px\"viewBox=\"0 0 24 24\"\n",
              "     width=\"24px\">\n",
              "    <g>\n",
              "        <path d=\"M19 3H5c-1.1 0-2 .9-2 2v14c0 1.1.9 2 2 2h14c1.1 0 2-.9 2-2V5c0-1.1-.9-2-2-2zM9 17H7v-7h2v7zm4 0h-2V7h2v10zm4 0h-2v-4h2v4z\"/>\n",
              "    </g>\n",
              "</svg>\n",
              "  </button>\n",
              "\n",
              "<style>\n",
              "  .colab-df-quickchart {\n",
              "      --bg-color: #E8F0FE;\n",
              "      --fill-color: #1967D2;\n",
              "      --hover-bg-color: #E2EBFA;\n",
              "      --hover-fill-color: #174EA6;\n",
              "      --disabled-fill-color: #AAA;\n",
              "      --disabled-bg-color: #DDD;\n",
              "  }\n",
              "\n",
              "  [theme=dark] .colab-df-quickchart {\n",
              "      --bg-color: #3B4455;\n",
              "      --fill-color: #D2E3FC;\n",
              "      --hover-bg-color: #434B5C;\n",
              "      --hover-fill-color: #FFFFFF;\n",
              "      --disabled-bg-color: #3B4455;\n",
              "      --disabled-fill-color: #666;\n",
              "  }\n",
              "\n",
              "  .colab-df-quickchart {\n",
              "    background-color: var(--bg-color);\n",
              "    border: none;\n",
              "    border-radius: 50%;\n",
              "    cursor: pointer;\n",
              "    display: none;\n",
              "    fill: var(--fill-color);\n",
              "    height: 32px;\n",
              "    padding: 0;\n",
              "    width: 32px;\n",
              "  }\n",
              "\n",
              "  .colab-df-quickchart:hover {\n",
              "    background-color: var(--hover-bg-color);\n",
              "    box-shadow: 0 1px 2px rgba(60, 64, 67, 0.3), 0 1px 3px 1px rgba(60, 64, 67, 0.15);\n",
              "    fill: var(--button-hover-fill-color);\n",
              "  }\n",
              "\n",
              "  .colab-df-quickchart-complete:disabled,\n",
              "  .colab-df-quickchart-complete:disabled:hover {\n",
              "    background-color: var(--disabled-bg-color);\n",
              "    fill: var(--disabled-fill-color);\n",
              "    box-shadow: none;\n",
              "  }\n",
              "\n",
              "  .colab-df-spinner {\n",
              "    border: 2px solid var(--fill-color);\n",
              "    border-color: transparent;\n",
              "    border-bottom-color: var(--fill-color);\n",
              "    animation:\n",
              "      spin 1s steps(1) infinite;\n",
              "  }\n",
              "\n",
              "  @keyframes spin {\n",
              "    0% {\n",
              "      border-color: transparent;\n",
              "      border-bottom-color: var(--fill-color);\n",
              "      border-left-color: var(--fill-color);\n",
              "    }\n",
              "    20% {\n",
              "      border-color: transparent;\n",
              "      border-left-color: var(--fill-color);\n",
              "      border-top-color: var(--fill-color);\n",
              "    }\n",
              "    30% {\n",
              "      border-color: transparent;\n",
              "      border-left-color: var(--fill-color);\n",
              "      border-top-color: var(--fill-color);\n",
              "      border-right-color: var(--fill-color);\n",
              "    }\n",
              "    40% {\n",
              "      border-color: transparent;\n",
              "      border-right-color: var(--fill-color);\n",
              "      border-top-color: var(--fill-color);\n",
              "    }\n",
              "    60% {\n",
              "      border-color: transparent;\n",
              "      border-right-color: var(--fill-color);\n",
              "    }\n",
              "    80% {\n",
              "      border-color: transparent;\n",
              "      border-right-color: var(--fill-color);\n",
              "      border-bottom-color: var(--fill-color);\n",
              "    }\n",
              "    90% {\n",
              "      border-color: transparent;\n",
              "      border-bottom-color: var(--fill-color);\n",
              "    }\n",
              "  }\n",
              "</style>\n",
              "\n",
              "  <script>\n",
              "    async function quickchart(key) {\n",
              "      const quickchartButtonEl =\n",
              "        document.querySelector('#' + key + ' button');\n",
              "      quickchartButtonEl.disabled = true;  // To prevent multiple clicks.\n",
              "      quickchartButtonEl.classList.add('colab-df-spinner');\n",
              "      try {\n",
              "        const charts = await google.colab.kernel.invokeFunction(\n",
              "            'suggestCharts', [key], {});\n",
              "      } catch (error) {\n",
              "        console.error('Error during call to suggestCharts:', error);\n",
              "      }\n",
              "      quickchartButtonEl.classList.remove('colab-df-spinner');\n",
              "      quickchartButtonEl.classList.add('colab-df-quickchart-complete');\n",
              "    }\n",
              "    (() => {\n",
              "      let quickchartButtonEl =\n",
              "        document.querySelector('#df-38fab238-5860-420f-9269-3a80eac4d08a button');\n",
              "      quickchartButtonEl.style.display =\n",
              "        google.colab.kernel.accessAllowed ? 'block' : 'none';\n",
              "    })();\n",
              "  </script>\n",
              "</div>\n",
              "\n",
              "    </div>\n",
              "  </div>\n"
            ],
            "application/vnd.google.colaboratory.intrinsic+json": {
              "type": "dataframe",
              "variable_name": "iris",
              "summary": "{\n  \"name\": \"iris\",\n  \"rows\": 150,\n  \"fields\": [\n    {\n      \"column\": \"sepalLength\",\n      \"properties\": {\n        \"dtype\": \"number\",\n        \"std\": 0.828066127977863,\n        \"min\": 4.3,\n        \"max\": 7.9,\n        \"num_unique_values\": 35,\n        \"samples\": [\n          6.2,\n          4.5,\n          5.6\n        ],\n        \"semantic_type\": \"\",\n        \"description\": \"\"\n      }\n    },\n    {\n      \"column\": \"sepalWidth\",\n      \"properties\": {\n        \"dtype\": \"number\",\n        \"std\": 0.4358662849366982,\n        \"min\": 2.0,\n        \"max\": 4.4,\n        \"num_unique_values\": 23,\n        \"samples\": [\n          2.3,\n          4.0,\n          3.5\n        ],\n        \"semantic_type\": \"\",\n        \"description\": \"\"\n      }\n    },\n    {\n      \"column\": \"petalLength\",\n      \"properties\": {\n        \"dtype\": \"number\",\n        \"std\": 1.7652982332594662,\n        \"min\": 1.0,\n        \"max\": 6.9,\n        \"num_unique_values\": 43,\n        \"samples\": [\n          6.7,\n          3.8,\n          3.7\n        ],\n        \"semantic_type\": \"\",\n        \"description\": \"\"\n      }\n    },\n    {\n      \"column\": \"petalWidth\",\n      \"properties\": {\n        \"dtype\": \"number\",\n        \"std\": 0.7622376689603467,\n        \"min\": 0.1,\n        \"max\": 2.5,\n        \"num_unique_values\": 22,\n        \"samples\": [\n          0.2,\n          1.2,\n          1.3\n        ],\n        \"semantic_type\": \"\",\n        \"description\": \"\"\n      }\n    },\n    {\n      \"column\": \"species\",\n      \"properties\": {\n        \"dtype\": \"category\",\n        \"num_unique_values\": 3,\n        \"samples\": [\n          \"setosa\",\n          \"versicolor\",\n          \"virginica\"\n        ],\n        \"semantic_type\": \"\",\n        \"description\": \"\"\n      }\n    }\n  ]\n}"
            }
          },
          "metadata": {},
          "execution_count": 11
        }
      ],
      "source": [
        "from vega_datasets import data\n",
        "\n",
        "iris = data.iris()\n",
        "iris.head()"
      ]
    },
    {
      "cell_type": "markdown",
      "metadata": {
        "id": "_Mq26hApu27Z"
      },
      "source": [
        "Notice that this data is in columnar format: that is, each column contains an attribute of a data point, and each row contains a single instance of the data (here, the measurament of a single flower)."
      ]
    },
    {
      "cell_type": "markdown",
      "metadata": {
        "id": "mXGlnSaMu27Z"
      },
      "source": [
        "## 2. Zero, One, and Two-dimensional Charts\n",
        "\n",
        "Using Altair, we can begin to explore this data.\n",
        "\n",
        "The most basic chart contains the dataset, along with a mark to represent each row:"
      ]
    },
    {
      "cell_type": "code",
      "execution_count": 12,
      "metadata": {
        "colab": {
          "base_uri": "https://localhost:8080/",
          "height": 51
        },
        "id": "IzaeLnlFu27a",
        "outputId": "f69f7fcf-a176-44bf-9481-b0930b33c9e8"
      },
      "outputs": [
        {
          "output_type": "execute_result",
          "data": {
            "text/html": [
              "\n",
              "<div id=\"altair-viz-12ecd25a282048f5865458ea88d5cd22\"></div>\n",
              "<script type=\"text/javascript\">\n",
              "  var VEGA_DEBUG = (typeof VEGA_DEBUG == \"undefined\") ? {} : VEGA_DEBUG;\n",
              "  (function(spec, embedOpt){\n",
              "    let outputDiv = document.currentScript.previousElementSibling;\n",
              "    if (outputDiv.id !== \"altair-viz-12ecd25a282048f5865458ea88d5cd22\") {\n",
              "      outputDiv = document.getElementById(\"altair-viz-12ecd25a282048f5865458ea88d5cd22\");\n",
              "    }\n",
              "    const paths = {\n",
              "      \"vega\": \"https://cdn.jsdelivr.net/npm//vega@5?noext\",\n",
              "      \"vega-lib\": \"https://cdn.jsdelivr.net/npm//vega-lib?noext\",\n",
              "      \"vega-lite\": \"https://cdn.jsdelivr.net/npm//vega-lite@4.17.0?noext\",\n",
              "      \"vega-embed\": \"https://cdn.jsdelivr.net/npm//vega-embed@6?noext\",\n",
              "    };\n",
              "\n",
              "    function maybeLoadScript(lib, version) {\n",
              "      var key = `${lib.replace(\"-\", \"\")}_version`;\n",
              "      return (VEGA_DEBUG[key] == version) ?\n",
              "        Promise.resolve(paths[lib]) :\n",
              "        new Promise(function(resolve, reject) {\n",
              "          var s = document.createElement('script');\n",
              "          document.getElementsByTagName(\"head\")[0].appendChild(s);\n",
              "          s.async = true;\n",
              "          s.onload = () => {\n",
              "            VEGA_DEBUG[key] = version;\n",
              "            return resolve(paths[lib]);\n",
              "          };\n",
              "          s.onerror = () => reject(`Error loading script: ${paths[lib]}`);\n",
              "          s.src = paths[lib];\n",
              "        });\n",
              "    }\n",
              "\n",
              "    function showError(err) {\n",
              "      outputDiv.innerHTML = `<div class=\"error\" style=\"color:red;\">${err}</div>`;\n",
              "      throw err;\n",
              "    }\n",
              "\n",
              "    function displayChart(vegaEmbed) {\n",
              "      vegaEmbed(outputDiv, spec, embedOpt)\n",
              "        .catch(err => showError(`Javascript Error: ${err.message}<br>This usually means there's a typo in your chart specification. See the javascript console for the full traceback.`));\n",
              "    }\n",
              "\n",
              "    if(typeof define === \"function\" && define.amd) {\n",
              "      requirejs.config({paths});\n",
              "      require([\"vega-embed\"], displayChart, err => showError(`Error loading script: ${err.message}`));\n",
              "    } else {\n",
              "      maybeLoadScript(\"vega\", \"5\")\n",
              "        .then(() => maybeLoadScript(\"vega-lite\", \"4.17.0\"))\n",
              "        .then(() => maybeLoadScript(\"vega-embed\", \"6\"))\n",
              "        .catch(showError)\n",
              "        .then(() => displayChart(vegaEmbed));\n",
              "    }\n",
              "  })({\"config\": {\"view\": {\"continuousWidth\": 400, \"continuousHeight\": 300}}, \"data\": {\"name\": \"data-a264acbd6e539a8b3afc0cb5f240fb57\"}, \"mark\": \"point\", \"$schema\": \"https://vega.github.io/schema/vega-lite/v4.17.0.json\", \"datasets\": {\"data-a264acbd6e539a8b3afc0cb5f240fb57\": [{\"sepalLength\": 5.1, \"sepalWidth\": 3.5, \"petalLength\": 1.4, \"petalWidth\": 0.2, \"species\": \"setosa\"}, {\"sepalLength\": 4.9, \"sepalWidth\": 3.0, \"petalLength\": 1.4, \"petalWidth\": 0.2, \"species\": \"setosa\"}, {\"sepalLength\": 4.7, \"sepalWidth\": 3.2, \"petalLength\": 1.3, \"petalWidth\": 0.2, \"species\": \"setosa\"}, {\"sepalLength\": 4.6, \"sepalWidth\": 3.1, \"petalLength\": 1.5, \"petalWidth\": 0.2, \"species\": \"setosa\"}, {\"sepalLength\": 5.0, \"sepalWidth\": 3.6, \"petalLength\": 1.4, \"petalWidth\": 0.2, \"species\": \"setosa\"}, {\"sepalLength\": 5.4, \"sepalWidth\": 3.9, \"petalLength\": 1.7000000000000002, \"petalWidth\": 0.4, \"species\": \"setosa\"}, {\"sepalLength\": 4.6, \"sepalWidth\": 3.4, \"petalLength\": 1.4, \"petalWidth\": 0.30000000000000004, \"species\": \"setosa\"}, {\"sepalLength\": 5.0, \"sepalWidth\": 3.4, \"petalLength\": 1.5, \"petalWidth\": 0.2, \"species\": \"setosa\"}, {\"sepalLength\": 4.4, \"sepalWidth\": 2.9, \"petalLength\": 1.4, \"petalWidth\": 0.2, \"species\": \"setosa\"}, {\"sepalLength\": 4.9, \"sepalWidth\": 3.1, \"petalLength\": 1.5, \"petalWidth\": 0.1, \"species\": \"setosa\"}, {\"sepalLength\": 5.4, \"sepalWidth\": 3.7, \"petalLength\": 1.5, \"petalWidth\": 0.2, \"species\": \"setosa\"}, {\"sepalLength\": 4.8, \"sepalWidth\": 3.4, \"petalLength\": 1.6, \"petalWidth\": 0.2, \"species\": \"setosa\"}, {\"sepalLength\": 4.8, \"sepalWidth\": 3.0, \"petalLength\": 1.4, \"petalWidth\": 0.1, \"species\": \"setosa\"}, {\"sepalLength\": 4.3, \"sepalWidth\": 3.0, \"petalLength\": 1.1, \"petalWidth\": 0.1, \"species\": \"setosa\"}, {\"sepalLength\": 5.8, \"sepalWidth\": 4.0, \"petalLength\": 1.2, \"petalWidth\": 0.2, \"species\": \"setosa\"}, {\"sepalLength\": 5.7, \"sepalWidth\": 4.4, \"petalLength\": 1.5, \"petalWidth\": 0.4, \"species\": \"setosa\"}, {\"sepalLength\": 5.4, \"sepalWidth\": 3.9, \"petalLength\": 1.3, \"petalWidth\": 0.4, \"species\": \"setosa\"}, {\"sepalLength\": 5.1, \"sepalWidth\": 3.5, \"petalLength\": 1.4, \"petalWidth\": 0.30000000000000004, \"species\": \"setosa\"}, {\"sepalLength\": 5.7, \"sepalWidth\": 3.8, \"petalLength\": 1.7000000000000002, \"petalWidth\": 0.30000000000000004, \"species\": \"setosa\"}, {\"sepalLength\": 5.1, \"sepalWidth\": 3.8, \"petalLength\": 1.5, \"petalWidth\": 0.30000000000000004, \"species\": \"setosa\"}, {\"sepalLength\": 5.4, \"sepalWidth\": 3.4, \"petalLength\": 1.7000000000000002, \"petalWidth\": 0.2, \"species\": \"setosa\"}, {\"sepalLength\": 5.1, \"sepalWidth\": 3.7, \"petalLength\": 1.5, \"petalWidth\": 0.4, \"species\": \"setosa\"}, {\"sepalLength\": 4.6, \"sepalWidth\": 3.6, \"petalLength\": 1.0, \"petalWidth\": 0.2, \"species\": \"setosa\"}, {\"sepalLength\": 5.1, \"sepalWidth\": 3.3, \"petalLength\": 1.7000000000000002, \"petalWidth\": 0.5, \"species\": \"setosa\"}, {\"sepalLength\": 4.8, \"sepalWidth\": 3.4, \"petalLength\": 1.9, \"petalWidth\": 0.2, \"species\": \"setosa\"}, {\"sepalLength\": 5.0, \"sepalWidth\": 3.0, \"petalLength\": 1.6, \"petalWidth\": 0.2, \"species\": \"setosa\"}, {\"sepalLength\": 5.0, \"sepalWidth\": 3.4, \"petalLength\": 1.6, \"petalWidth\": 0.4, \"species\": \"setosa\"}, {\"sepalLength\": 5.2, \"sepalWidth\": 3.5, \"petalLength\": 1.5, \"petalWidth\": 0.2, \"species\": \"setosa\"}, {\"sepalLength\": 5.2, \"sepalWidth\": 3.4, \"petalLength\": 1.4, \"petalWidth\": 0.2, \"species\": \"setosa\"}, {\"sepalLength\": 4.7, \"sepalWidth\": 3.2, \"petalLength\": 1.6, \"petalWidth\": 0.2, \"species\": \"setosa\"}, {\"sepalLength\": 4.8, \"sepalWidth\": 3.1, \"petalLength\": 1.6, \"petalWidth\": 0.2, \"species\": \"setosa\"}, {\"sepalLength\": 5.4, \"sepalWidth\": 3.4, \"petalLength\": 1.5, \"petalWidth\": 0.4, \"species\": \"setosa\"}, {\"sepalLength\": 5.2, \"sepalWidth\": 4.1, \"petalLength\": 1.5, \"petalWidth\": 0.1, \"species\": \"setosa\"}, {\"sepalLength\": 5.5, \"sepalWidth\": 4.2, \"petalLength\": 1.4, \"petalWidth\": 0.2, \"species\": \"setosa\"}, {\"sepalLength\": 4.9, \"sepalWidth\": 3.1, \"petalLength\": 1.5, \"petalWidth\": 0.2, \"species\": \"setosa\"}, {\"sepalLength\": 5.0, \"sepalWidth\": 3.2, \"petalLength\": 1.2, \"petalWidth\": 0.2, \"species\": \"setosa\"}, {\"sepalLength\": 5.5, \"sepalWidth\": 3.5, \"petalLength\": 1.3, \"petalWidth\": 0.2, \"species\": \"setosa\"}, {\"sepalLength\": 4.9, \"sepalWidth\": 3.6, \"petalLength\": 1.4, \"petalWidth\": 0.1, \"species\": \"setosa\"}, {\"sepalLength\": 4.4, \"sepalWidth\": 3.0, \"petalLength\": 1.3, \"petalWidth\": 0.2, \"species\": \"setosa\"}, {\"sepalLength\": 5.1, \"sepalWidth\": 3.4, \"petalLength\": 1.5, \"petalWidth\": 0.2, \"species\": \"setosa\"}, {\"sepalLength\": 5.0, \"sepalWidth\": 3.5, \"petalLength\": 1.3, \"petalWidth\": 0.30000000000000004, \"species\": \"setosa\"}, {\"sepalLength\": 4.5, \"sepalWidth\": 2.3, \"petalLength\": 1.3, \"petalWidth\": 0.30000000000000004, \"species\": \"setosa\"}, {\"sepalLength\": 4.4, \"sepalWidth\": 3.2, \"petalLength\": 1.3, \"petalWidth\": 0.2, \"species\": \"setosa\"}, {\"sepalLength\": 5.0, \"sepalWidth\": 3.5, \"petalLength\": 1.6, \"petalWidth\": 0.6000000000000001, \"species\": \"setosa\"}, {\"sepalLength\": 5.1, \"sepalWidth\": 3.8, \"petalLength\": 1.9, \"petalWidth\": 0.4, \"species\": \"setosa\"}, {\"sepalLength\": 4.8, \"sepalWidth\": 3.0, \"petalLength\": 1.4, \"petalWidth\": 0.30000000000000004, \"species\": \"setosa\"}, {\"sepalLength\": 5.1, \"sepalWidth\": 3.8, \"petalLength\": 1.6, \"petalWidth\": 0.2, \"species\": \"setosa\"}, {\"sepalLength\": 4.6, \"sepalWidth\": 3.2, \"petalLength\": 1.4, \"petalWidth\": 0.2, \"species\": \"setosa\"}, {\"sepalLength\": 5.3, \"sepalWidth\": 3.7, \"petalLength\": 1.5, \"petalWidth\": 0.2, \"species\": \"setosa\"}, {\"sepalLength\": 5.0, \"sepalWidth\": 3.3, \"petalLength\": 1.4, \"petalWidth\": 0.2, \"species\": \"setosa\"}, {\"sepalLength\": 7.0, \"sepalWidth\": 3.2, \"petalLength\": 4.7, \"petalWidth\": 1.4, \"species\": \"versicolor\"}, {\"sepalLength\": 6.4, \"sepalWidth\": 3.2, \"petalLength\": 4.5, \"petalWidth\": 1.5, \"species\": \"versicolor\"}, {\"sepalLength\": 6.9, \"sepalWidth\": 3.1, \"petalLength\": 4.9, \"petalWidth\": 1.5, \"species\": \"versicolor\"}, {\"sepalLength\": 5.5, \"sepalWidth\": 2.3, \"petalLength\": 4.0, \"petalWidth\": 1.3, \"species\": \"versicolor\"}, {\"sepalLength\": 6.5, \"sepalWidth\": 2.8, \"petalLength\": 4.6, \"petalWidth\": 1.5, \"species\": \"versicolor\"}, {\"sepalLength\": 5.7, \"sepalWidth\": 2.8, \"petalLength\": 4.5, \"petalWidth\": 1.3, \"species\": \"versicolor\"}, {\"sepalLength\": 6.3, \"sepalWidth\": 3.3, \"petalLength\": 4.7, \"petalWidth\": 1.6, \"species\": \"versicolor\"}, {\"sepalLength\": 4.9, \"sepalWidth\": 2.4, \"petalLength\": 3.3, \"petalWidth\": 1.0, \"species\": \"versicolor\"}, {\"sepalLength\": 6.6, \"sepalWidth\": 2.9, \"petalLength\": 4.6, \"petalWidth\": 1.3, \"species\": \"versicolor\"}, {\"sepalLength\": 5.2, \"sepalWidth\": 2.7, \"petalLength\": 3.9, \"petalWidth\": 1.4, \"species\": \"versicolor\"}, {\"sepalLength\": 5.0, \"sepalWidth\": 2.0, \"petalLength\": 3.5, \"petalWidth\": 1.0, \"species\": \"versicolor\"}, {\"sepalLength\": 5.9, \"sepalWidth\": 3.0, \"petalLength\": 4.2, \"petalWidth\": 1.5, \"species\": \"versicolor\"}, {\"sepalLength\": 6.0, \"sepalWidth\": 2.2, \"petalLength\": 4.0, \"petalWidth\": 1.0, \"species\": \"versicolor\"}, {\"sepalLength\": 6.1, \"sepalWidth\": 2.9, \"petalLength\": 4.7, \"petalWidth\": 1.4, \"species\": \"versicolor\"}, {\"sepalLength\": 5.6, \"sepalWidth\": 2.9, \"petalLength\": 3.6, \"petalWidth\": 1.3, \"species\": \"versicolor\"}, {\"sepalLength\": 6.7, \"sepalWidth\": 3.1, \"petalLength\": 4.4, \"petalWidth\": 1.4, \"species\": \"versicolor\"}, {\"sepalLength\": 5.6, \"sepalWidth\": 3.0, \"petalLength\": 4.5, \"petalWidth\": 1.5, \"species\": \"versicolor\"}, {\"sepalLength\": 5.8, \"sepalWidth\": 2.7, \"petalLength\": 4.1, \"petalWidth\": 1.0, \"species\": \"versicolor\"}, {\"sepalLength\": 6.2, \"sepalWidth\": 2.2, \"petalLength\": 4.5, \"petalWidth\": 1.5, \"species\": \"versicolor\"}, {\"sepalLength\": 5.6, \"sepalWidth\": 2.5, \"petalLength\": 3.9, \"petalWidth\": 1.1, \"species\": \"versicolor\"}, {\"sepalLength\": 5.9, \"sepalWidth\": 3.2, \"petalLength\": 4.8, \"petalWidth\": 1.8, \"species\": \"versicolor\"}, {\"sepalLength\": 6.1, \"sepalWidth\": 2.8, \"petalLength\": 4.0, \"petalWidth\": 1.3, \"species\": \"versicolor\"}, {\"sepalLength\": 6.3, \"sepalWidth\": 2.5, \"petalLength\": 4.9, \"petalWidth\": 1.5, \"species\": \"versicolor\"}, {\"sepalLength\": 6.1, \"sepalWidth\": 2.8, \"petalLength\": 4.7, \"petalWidth\": 1.2, \"species\": \"versicolor\"}, {\"sepalLength\": 6.4, \"sepalWidth\": 2.9, \"petalLength\": 4.3, \"petalWidth\": 1.3, \"species\": \"versicolor\"}, {\"sepalLength\": 6.6, \"sepalWidth\": 3.0, \"petalLength\": 4.4, \"petalWidth\": 1.4, \"species\": \"versicolor\"}, {\"sepalLength\": 6.8, \"sepalWidth\": 2.8, \"petalLength\": 4.8, \"petalWidth\": 1.4, \"species\": \"versicolor\"}, {\"sepalLength\": 6.7, \"sepalWidth\": 3.0, \"petalLength\": 5.0, \"petalWidth\": 1.7000000000000002, \"species\": \"versicolor\"}, {\"sepalLength\": 6.0, \"sepalWidth\": 2.9, \"petalLength\": 4.5, \"petalWidth\": 1.5, \"species\": \"versicolor\"}, {\"sepalLength\": 5.7, \"sepalWidth\": 2.6, \"petalLength\": 3.5, \"petalWidth\": 1.0, \"species\": \"versicolor\"}, {\"sepalLength\": 5.5, \"sepalWidth\": 2.4, \"petalLength\": 3.8, \"petalWidth\": 1.1, \"species\": \"versicolor\"}, {\"sepalLength\": 5.5, \"sepalWidth\": 2.4, \"petalLength\": 3.7, \"petalWidth\": 1.0, \"species\": \"versicolor\"}, {\"sepalLength\": 5.8, \"sepalWidth\": 2.7, \"petalLength\": 3.9, \"petalWidth\": 1.2, \"species\": \"versicolor\"}, {\"sepalLength\": 6.0, \"sepalWidth\": 2.7, \"petalLength\": 5.1, \"petalWidth\": 1.6, \"species\": \"versicolor\"}, {\"sepalLength\": 5.4, \"sepalWidth\": 3.0, \"petalLength\": 4.5, \"petalWidth\": 1.5, \"species\": \"versicolor\"}, {\"sepalLength\": 6.0, \"sepalWidth\": 3.4, \"petalLength\": 4.5, \"petalWidth\": 1.6, \"species\": \"versicolor\"}, {\"sepalLength\": 6.7, \"sepalWidth\": 3.1, \"petalLength\": 4.7, \"petalWidth\": 1.5, \"species\": \"versicolor\"}, {\"sepalLength\": 6.3, \"sepalWidth\": 2.3, \"petalLength\": 4.4, \"petalWidth\": 1.3, \"species\": \"versicolor\"}, {\"sepalLength\": 5.6, \"sepalWidth\": 3.0, \"petalLength\": 4.1, \"petalWidth\": 1.3, \"species\": \"versicolor\"}, {\"sepalLength\": 5.5, \"sepalWidth\": 2.5, \"petalLength\": 4.0, \"petalWidth\": 1.3, \"species\": \"versicolor\"}, {\"sepalLength\": 5.5, \"sepalWidth\": 2.6, \"petalLength\": 4.4, \"petalWidth\": 1.2, \"species\": \"versicolor\"}, {\"sepalLength\": 6.1, \"sepalWidth\": 3.0, \"petalLength\": 4.6, \"petalWidth\": 1.4, \"species\": \"versicolor\"}, {\"sepalLength\": 5.8, \"sepalWidth\": 2.6, \"petalLength\": 4.0, \"petalWidth\": 1.2, \"species\": \"versicolor\"}, {\"sepalLength\": 5.0, \"sepalWidth\": 2.3, \"petalLength\": 3.3, \"petalWidth\": 1.0, \"species\": \"versicolor\"}, {\"sepalLength\": 5.6, \"sepalWidth\": 2.7, \"petalLength\": 4.2, \"petalWidth\": 1.3, \"species\": \"versicolor\"}, {\"sepalLength\": 5.7, \"sepalWidth\": 3.0, \"petalLength\": 4.2, \"petalWidth\": 1.2, \"species\": \"versicolor\"}, {\"sepalLength\": 5.7, \"sepalWidth\": 2.9, \"petalLength\": 4.2, \"petalWidth\": 1.3, \"species\": \"versicolor\"}, {\"sepalLength\": 6.2, \"sepalWidth\": 2.9, \"petalLength\": 4.3, \"petalWidth\": 1.3, \"species\": \"versicolor\"}, {\"sepalLength\": 5.1, \"sepalWidth\": 2.5, \"petalLength\": 3.0, \"petalWidth\": 1.1, \"species\": \"versicolor\"}, {\"sepalLength\": 5.7, \"sepalWidth\": 2.8, \"petalLength\": 4.1, \"petalWidth\": 1.3, \"species\": \"versicolor\"}, {\"sepalLength\": 6.3, \"sepalWidth\": 3.3, \"petalLength\": 6.0, \"petalWidth\": 2.5, \"species\": \"virginica\"}, {\"sepalLength\": 5.8, \"sepalWidth\": 2.7, \"petalLength\": 5.1, \"petalWidth\": 1.9, \"species\": \"virginica\"}, {\"sepalLength\": 7.1, \"sepalWidth\": 3.0, \"petalLength\": 5.9, \"petalWidth\": 2.1, \"species\": \"virginica\"}, {\"sepalLength\": 6.3, \"sepalWidth\": 2.9, \"petalLength\": 5.6, \"petalWidth\": 1.8, \"species\": \"virginica\"}, {\"sepalLength\": 6.5, \"sepalWidth\": 3.0, \"petalLength\": 5.8, \"petalWidth\": 2.2, \"species\": \"virginica\"}, {\"sepalLength\": 7.6, \"sepalWidth\": 3.0, \"petalLength\": 6.6, \"petalWidth\": 2.1, \"species\": \"virginica\"}, {\"sepalLength\": 4.9, \"sepalWidth\": 2.5, \"petalLength\": 4.5, \"petalWidth\": 1.7000000000000002, \"species\": \"virginica\"}, {\"sepalLength\": 7.3, \"sepalWidth\": 2.9, \"petalLength\": 6.3, \"petalWidth\": 1.8, \"species\": \"virginica\"}, {\"sepalLength\": 6.7, \"sepalWidth\": 2.5, \"petalLength\": 5.8, \"petalWidth\": 1.8, \"species\": \"virginica\"}, {\"sepalLength\": 7.2, \"sepalWidth\": 3.6, \"petalLength\": 6.1, \"petalWidth\": 2.5, \"species\": \"virginica\"}, {\"sepalLength\": 6.5, \"sepalWidth\": 3.2, \"petalLength\": 5.1, \"petalWidth\": 2.0, \"species\": \"virginica\"}, {\"sepalLength\": 6.4, \"sepalWidth\": 2.7, \"petalLength\": 5.3, \"petalWidth\": 1.9, \"species\": \"virginica\"}, {\"sepalLength\": 6.8, \"sepalWidth\": 3.0, \"petalLength\": 5.5, \"petalWidth\": 2.1, \"species\": \"virginica\"}, {\"sepalLength\": 5.7, \"sepalWidth\": 2.5, \"petalLength\": 5.0, \"petalWidth\": 2.0, \"species\": \"virginica\"}, {\"sepalLength\": 5.8, \"sepalWidth\": 2.8, \"petalLength\": 5.1, \"petalWidth\": 2.4, \"species\": \"virginica\"}, {\"sepalLength\": 6.4, \"sepalWidth\": 3.2, \"petalLength\": 5.3, \"petalWidth\": 2.3, \"species\": \"virginica\"}, {\"sepalLength\": 6.5, \"sepalWidth\": 3.0, \"petalLength\": 5.5, \"petalWidth\": 1.8, \"species\": \"virginica\"}, {\"sepalLength\": 7.7, \"sepalWidth\": 3.8, \"petalLength\": 6.7, \"petalWidth\": 2.2, \"species\": \"virginica\"}, {\"sepalLength\": 7.7, \"sepalWidth\": 2.6, \"petalLength\": 6.9, \"petalWidth\": 2.3, \"species\": \"virginica\"}, {\"sepalLength\": 6.0, \"sepalWidth\": 2.2, \"petalLength\": 5.0, \"petalWidth\": 1.5, \"species\": \"virginica\"}, {\"sepalLength\": 6.9, \"sepalWidth\": 3.2, \"petalLength\": 5.7, \"petalWidth\": 2.3, \"species\": \"virginica\"}, {\"sepalLength\": 5.6, \"sepalWidth\": 2.8, \"petalLength\": 4.9, \"petalWidth\": 2.0, \"species\": \"virginica\"}, {\"sepalLength\": 7.7, \"sepalWidth\": 2.8, \"petalLength\": 6.7, \"petalWidth\": 2.0, \"species\": \"virginica\"}, {\"sepalLength\": 6.3, \"sepalWidth\": 2.7, \"petalLength\": 4.9, \"petalWidth\": 1.8, \"species\": \"virginica\"}, {\"sepalLength\": 6.7, \"sepalWidth\": 3.3, \"petalLength\": 5.7, \"petalWidth\": 2.1, \"species\": \"virginica\"}, {\"sepalLength\": 7.2, \"sepalWidth\": 3.2, \"petalLength\": 6.0, \"petalWidth\": 1.8, \"species\": \"virginica\"}, {\"sepalLength\": 6.2, \"sepalWidth\": 2.8, \"petalLength\": 4.8, \"petalWidth\": 1.8, \"species\": \"virginica\"}, {\"sepalLength\": 6.1, \"sepalWidth\": 3.0, \"petalLength\": 4.9, \"petalWidth\": 1.8, \"species\": \"virginica\"}, {\"sepalLength\": 6.4, \"sepalWidth\": 2.8, \"petalLength\": 5.6, \"petalWidth\": 2.1, \"species\": \"virginica\"}, {\"sepalLength\": 7.2, \"sepalWidth\": 3.0, \"petalLength\": 5.8, \"petalWidth\": 1.6, \"species\": \"virginica\"}, {\"sepalLength\": 7.4, \"sepalWidth\": 2.8, \"petalLength\": 6.1, \"petalWidth\": 1.9, \"species\": \"virginica\"}, {\"sepalLength\": 7.9, \"sepalWidth\": 3.8, \"petalLength\": 6.4, \"petalWidth\": 2.0, \"species\": \"virginica\"}, {\"sepalLength\": 6.4, \"sepalWidth\": 2.8, \"petalLength\": 5.6, \"petalWidth\": 2.2, \"species\": \"virginica\"}, {\"sepalLength\": 6.3, \"sepalWidth\": 2.8, \"petalLength\": 5.1, \"petalWidth\": 1.5, \"species\": \"virginica\"}, {\"sepalLength\": 6.1, \"sepalWidth\": 2.6, \"petalLength\": 5.6, \"petalWidth\": 1.4, \"species\": \"virginica\"}, {\"sepalLength\": 7.7, \"sepalWidth\": 3.0, \"petalLength\": 6.1, \"petalWidth\": 2.3, \"species\": \"virginica\"}, {\"sepalLength\": 6.3, \"sepalWidth\": 3.4, \"petalLength\": 5.6, \"petalWidth\": 2.4, \"species\": \"virginica\"}, {\"sepalLength\": 6.4, \"sepalWidth\": 3.1, \"petalLength\": 5.5, \"petalWidth\": 1.8, \"species\": \"virginica\"}, {\"sepalLength\": 6.0, \"sepalWidth\": 3.0, \"petalLength\": 4.8, \"petalWidth\": 1.8, \"species\": \"virginica\"}, {\"sepalLength\": 6.9, \"sepalWidth\": 3.1, \"petalLength\": 5.4, \"petalWidth\": 2.1, \"species\": \"virginica\"}, {\"sepalLength\": 6.7, \"sepalWidth\": 3.1, \"petalLength\": 5.6, \"petalWidth\": 2.4, \"species\": \"virginica\"}, {\"sepalLength\": 6.9, \"sepalWidth\": 3.1, \"petalLength\": 5.1, \"petalWidth\": 2.3, \"species\": \"virginica\"}, {\"sepalLength\": 5.8, \"sepalWidth\": 2.7, \"petalLength\": 5.1, \"petalWidth\": 1.9, \"species\": \"virginica\"}, {\"sepalLength\": 6.8, \"sepalWidth\": 3.2, \"petalLength\": 5.9, \"petalWidth\": 2.3, \"species\": \"virginica\"}, {\"sepalLength\": 6.7, \"sepalWidth\": 3.3, \"petalLength\": 5.7, \"petalWidth\": 2.5, \"species\": \"virginica\"}, {\"sepalLength\": 6.7, \"sepalWidth\": 3.0, \"petalLength\": 5.2, \"petalWidth\": 2.3, \"species\": \"virginica\"}, {\"sepalLength\": 6.3, \"sepalWidth\": 2.5, \"petalLength\": 5.0, \"petalWidth\": 1.9, \"species\": \"virginica\"}, {\"sepalLength\": 6.5, \"sepalWidth\": 3.0, \"petalLength\": 5.2, \"petalWidth\": 2.0, \"species\": \"virginica\"}, {\"sepalLength\": 6.2, \"sepalWidth\": 3.4, \"petalLength\": 5.4, \"petalWidth\": 2.3, \"species\": \"virginica\"}, {\"sepalLength\": 5.9, \"sepalWidth\": 3.0, \"petalLength\": 5.1, \"petalWidth\": 1.8, \"species\": \"virginica\"}]}}, {\"mode\": \"vega-lite\"});\n",
              "</script>"
            ],
            "text/plain": [
              "alt.Chart(...)"
            ]
          },
          "metadata": {},
          "execution_count": 12
        }
      ],
      "source": [
        "alt.Chart(iris).mark_point()"
      ]
    },
    {
      "cell_type": "markdown",
      "metadata": {
        "id": "sYMYyraOu27b"
      },
      "source": [
        "This is a pretty silly chart, because it consists of 150 points, all laid-out on top of each other. But this *is* technically a representation of the data!\n",
        "\n",
        "To make it more interesting, we need to *encode* columns of the data into visual features of the plot (e.g. x-position, y-position, size, color, etc.)\n",
        "\n",
        "Let's encode petal length on the x-axis using the ``encode()`` method:"
      ]
    },
    {
      "cell_type": "code",
      "execution_count": 13,
      "metadata": {
        "colab": {
          "base_uri": "https://localhost:8080/",
          "height": 83
        },
        "id": "_szRR2_qu27c",
        "outputId": "ad959ab4-b63a-442c-e41d-4b1664c76af5"
      },
      "outputs": [
        {
          "output_type": "execute_result",
          "data": {
            "text/html": [
              "\n",
              "<div id=\"altair-viz-9386662f34a742bf9756371fe6e22fd6\"></div>\n",
              "<script type=\"text/javascript\">\n",
              "  var VEGA_DEBUG = (typeof VEGA_DEBUG == \"undefined\") ? {} : VEGA_DEBUG;\n",
              "  (function(spec, embedOpt){\n",
              "    let outputDiv = document.currentScript.previousElementSibling;\n",
              "    if (outputDiv.id !== \"altair-viz-9386662f34a742bf9756371fe6e22fd6\") {\n",
              "      outputDiv = document.getElementById(\"altair-viz-9386662f34a742bf9756371fe6e22fd6\");\n",
              "    }\n",
              "    const paths = {\n",
              "      \"vega\": \"https://cdn.jsdelivr.net/npm//vega@5?noext\",\n",
              "      \"vega-lib\": \"https://cdn.jsdelivr.net/npm//vega-lib?noext\",\n",
              "      \"vega-lite\": \"https://cdn.jsdelivr.net/npm//vega-lite@4.17.0?noext\",\n",
              "      \"vega-embed\": \"https://cdn.jsdelivr.net/npm//vega-embed@6?noext\",\n",
              "    };\n",
              "\n",
              "    function maybeLoadScript(lib, version) {\n",
              "      var key = `${lib.replace(\"-\", \"\")}_version`;\n",
              "      return (VEGA_DEBUG[key] == version) ?\n",
              "        Promise.resolve(paths[lib]) :\n",
              "        new Promise(function(resolve, reject) {\n",
              "          var s = document.createElement('script');\n",
              "          document.getElementsByTagName(\"head\")[0].appendChild(s);\n",
              "          s.async = true;\n",
              "          s.onload = () => {\n",
              "            VEGA_DEBUG[key] = version;\n",
              "            return resolve(paths[lib]);\n",
              "          };\n",
              "          s.onerror = () => reject(`Error loading script: ${paths[lib]}`);\n",
              "          s.src = paths[lib];\n",
              "        });\n",
              "    }\n",
              "\n",
              "    function showError(err) {\n",
              "      outputDiv.innerHTML = `<div class=\"error\" style=\"color:red;\">${err}</div>`;\n",
              "      throw err;\n",
              "    }\n",
              "\n",
              "    function displayChart(vegaEmbed) {\n",
              "      vegaEmbed(outputDiv, spec, embedOpt)\n",
              "        .catch(err => showError(`Javascript Error: ${err.message}<br>This usually means there's a typo in your chart specification. See the javascript console for the full traceback.`));\n",
              "    }\n",
              "\n",
              "    if(typeof define === \"function\" && define.amd) {\n",
              "      requirejs.config({paths});\n",
              "      require([\"vega-embed\"], displayChart, err => showError(`Error loading script: ${err.message}`));\n",
              "    } else {\n",
              "      maybeLoadScript(\"vega\", \"5\")\n",
              "        .then(() => maybeLoadScript(\"vega-lite\", \"4.17.0\"))\n",
              "        .then(() => maybeLoadScript(\"vega-embed\", \"6\"))\n",
              "        .catch(showError)\n",
              "        .then(() => displayChart(vegaEmbed));\n",
              "    }\n",
              "  })({\"config\": {\"view\": {\"continuousWidth\": 400, \"continuousHeight\": 300}}, \"data\": {\"name\": \"data-a264acbd6e539a8b3afc0cb5f240fb57\"}, \"mark\": \"point\", \"encoding\": {\"x\": {\"field\": \"petalLength\", \"type\": \"quantitative\"}}, \"$schema\": \"https://vega.github.io/schema/vega-lite/v4.17.0.json\", \"datasets\": {\"data-a264acbd6e539a8b3afc0cb5f240fb57\": [{\"sepalLength\": 5.1, \"sepalWidth\": 3.5, \"petalLength\": 1.4, \"petalWidth\": 0.2, \"species\": \"setosa\"}, {\"sepalLength\": 4.9, \"sepalWidth\": 3.0, \"petalLength\": 1.4, \"petalWidth\": 0.2, \"species\": \"setosa\"}, {\"sepalLength\": 4.7, \"sepalWidth\": 3.2, \"petalLength\": 1.3, \"petalWidth\": 0.2, \"species\": \"setosa\"}, {\"sepalLength\": 4.6, \"sepalWidth\": 3.1, \"petalLength\": 1.5, \"petalWidth\": 0.2, \"species\": \"setosa\"}, {\"sepalLength\": 5.0, \"sepalWidth\": 3.6, \"petalLength\": 1.4, \"petalWidth\": 0.2, \"species\": \"setosa\"}, {\"sepalLength\": 5.4, \"sepalWidth\": 3.9, \"petalLength\": 1.7000000000000002, \"petalWidth\": 0.4, \"species\": \"setosa\"}, {\"sepalLength\": 4.6, \"sepalWidth\": 3.4, \"petalLength\": 1.4, \"petalWidth\": 0.30000000000000004, \"species\": \"setosa\"}, {\"sepalLength\": 5.0, \"sepalWidth\": 3.4, \"petalLength\": 1.5, \"petalWidth\": 0.2, \"species\": \"setosa\"}, {\"sepalLength\": 4.4, \"sepalWidth\": 2.9, \"petalLength\": 1.4, \"petalWidth\": 0.2, \"species\": \"setosa\"}, {\"sepalLength\": 4.9, \"sepalWidth\": 3.1, \"petalLength\": 1.5, \"petalWidth\": 0.1, \"species\": \"setosa\"}, {\"sepalLength\": 5.4, \"sepalWidth\": 3.7, \"petalLength\": 1.5, \"petalWidth\": 0.2, \"species\": \"setosa\"}, {\"sepalLength\": 4.8, \"sepalWidth\": 3.4, \"petalLength\": 1.6, \"petalWidth\": 0.2, \"species\": \"setosa\"}, {\"sepalLength\": 4.8, \"sepalWidth\": 3.0, \"petalLength\": 1.4, \"petalWidth\": 0.1, \"species\": \"setosa\"}, {\"sepalLength\": 4.3, \"sepalWidth\": 3.0, \"petalLength\": 1.1, \"petalWidth\": 0.1, \"species\": \"setosa\"}, {\"sepalLength\": 5.8, \"sepalWidth\": 4.0, \"petalLength\": 1.2, \"petalWidth\": 0.2, \"species\": \"setosa\"}, {\"sepalLength\": 5.7, \"sepalWidth\": 4.4, \"petalLength\": 1.5, \"petalWidth\": 0.4, \"species\": \"setosa\"}, {\"sepalLength\": 5.4, \"sepalWidth\": 3.9, \"petalLength\": 1.3, \"petalWidth\": 0.4, \"species\": \"setosa\"}, {\"sepalLength\": 5.1, \"sepalWidth\": 3.5, \"petalLength\": 1.4, \"petalWidth\": 0.30000000000000004, \"species\": \"setosa\"}, {\"sepalLength\": 5.7, \"sepalWidth\": 3.8, \"petalLength\": 1.7000000000000002, \"petalWidth\": 0.30000000000000004, \"species\": \"setosa\"}, {\"sepalLength\": 5.1, \"sepalWidth\": 3.8, \"petalLength\": 1.5, \"petalWidth\": 0.30000000000000004, \"species\": \"setosa\"}, {\"sepalLength\": 5.4, \"sepalWidth\": 3.4, \"petalLength\": 1.7000000000000002, \"petalWidth\": 0.2, \"species\": \"setosa\"}, {\"sepalLength\": 5.1, \"sepalWidth\": 3.7, \"petalLength\": 1.5, \"petalWidth\": 0.4, \"species\": \"setosa\"}, {\"sepalLength\": 4.6, \"sepalWidth\": 3.6, \"petalLength\": 1.0, \"petalWidth\": 0.2, \"species\": \"setosa\"}, {\"sepalLength\": 5.1, \"sepalWidth\": 3.3, \"petalLength\": 1.7000000000000002, \"petalWidth\": 0.5, \"species\": \"setosa\"}, {\"sepalLength\": 4.8, \"sepalWidth\": 3.4, \"petalLength\": 1.9, \"petalWidth\": 0.2, \"species\": \"setosa\"}, {\"sepalLength\": 5.0, \"sepalWidth\": 3.0, \"petalLength\": 1.6, \"petalWidth\": 0.2, \"species\": \"setosa\"}, {\"sepalLength\": 5.0, \"sepalWidth\": 3.4, \"petalLength\": 1.6, \"petalWidth\": 0.4, \"species\": \"setosa\"}, {\"sepalLength\": 5.2, \"sepalWidth\": 3.5, \"petalLength\": 1.5, \"petalWidth\": 0.2, \"species\": \"setosa\"}, {\"sepalLength\": 5.2, \"sepalWidth\": 3.4, \"petalLength\": 1.4, \"petalWidth\": 0.2, \"species\": \"setosa\"}, {\"sepalLength\": 4.7, \"sepalWidth\": 3.2, \"petalLength\": 1.6, \"petalWidth\": 0.2, \"species\": \"setosa\"}, {\"sepalLength\": 4.8, \"sepalWidth\": 3.1, \"petalLength\": 1.6, \"petalWidth\": 0.2, \"species\": \"setosa\"}, {\"sepalLength\": 5.4, \"sepalWidth\": 3.4, \"petalLength\": 1.5, \"petalWidth\": 0.4, \"species\": \"setosa\"}, {\"sepalLength\": 5.2, \"sepalWidth\": 4.1, \"petalLength\": 1.5, \"petalWidth\": 0.1, \"species\": \"setosa\"}, {\"sepalLength\": 5.5, \"sepalWidth\": 4.2, \"petalLength\": 1.4, \"petalWidth\": 0.2, \"species\": \"setosa\"}, {\"sepalLength\": 4.9, \"sepalWidth\": 3.1, \"petalLength\": 1.5, \"petalWidth\": 0.2, \"species\": \"setosa\"}, {\"sepalLength\": 5.0, \"sepalWidth\": 3.2, \"petalLength\": 1.2, \"petalWidth\": 0.2, \"species\": \"setosa\"}, {\"sepalLength\": 5.5, \"sepalWidth\": 3.5, \"petalLength\": 1.3, \"petalWidth\": 0.2, \"species\": \"setosa\"}, {\"sepalLength\": 4.9, \"sepalWidth\": 3.6, \"petalLength\": 1.4, \"petalWidth\": 0.1, \"species\": \"setosa\"}, {\"sepalLength\": 4.4, \"sepalWidth\": 3.0, \"petalLength\": 1.3, \"petalWidth\": 0.2, \"species\": \"setosa\"}, {\"sepalLength\": 5.1, \"sepalWidth\": 3.4, \"petalLength\": 1.5, \"petalWidth\": 0.2, \"species\": \"setosa\"}, {\"sepalLength\": 5.0, \"sepalWidth\": 3.5, \"petalLength\": 1.3, \"petalWidth\": 0.30000000000000004, \"species\": \"setosa\"}, {\"sepalLength\": 4.5, \"sepalWidth\": 2.3, \"petalLength\": 1.3, \"petalWidth\": 0.30000000000000004, \"species\": \"setosa\"}, {\"sepalLength\": 4.4, \"sepalWidth\": 3.2, \"petalLength\": 1.3, \"petalWidth\": 0.2, \"species\": \"setosa\"}, {\"sepalLength\": 5.0, \"sepalWidth\": 3.5, \"petalLength\": 1.6, \"petalWidth\": 0.6000000000000001, \"species\": \"setosa\"}, {\"sepalLength\": 5.1, \"sepalWidth\": 3.8, \"petalLength\": 1.9, \"petalWidth\": 0.4, \"species\": \"setosa\"}, {\"sepalLength\": 4.8, \"sepalWidth\": 3.0, \"petalLength\": 1.4, \"petalWidth\": 0.30000000000000004, \"species\": \"setosa\"}, {\"sepalLength\": 5.1, \"sepalWidth\": 3.8, \"petalLength\": 1.6, \"petalWidth\": 0.2, \"species\": \"setosa\"}, {\"sepalLength\": 4.6, \"sepalWidth\": 3.2, \"petalLength\": 1.4, \"petalWidth\": 0.2, \"species\": \"setosa\"}, {\"sepalLength\": 5.3, \"sepalWidth\": 3.7, \"petalLength\": 1.5, \"petalWidth\": 0.2, \"species\": \"setosa\"}, {\"sepalLength\": 5.0, \"sepalWidth\": 3.3, \"petalLength\": 1.4, \"petalWidth\": 0.2, \"species\": \"setosa\"}, {\"sepalLength\": 7.0, \"sepalWidth\": 3.2, \"petalLength\": 4.7, \"petalWidth\": 1.4, \"species\": \"versicolor\"}, {\"sepalLength\": 6.4, \"sepalWidth\": 3.2, \"petalLength\": 4.5, \"petalWidth\": 1.5, \"species\": \"versicolor\"}, {\"sepalLength\": 6.9, \"sepalWidth\": 3.1, \"petalLength\": 4.9, \"petalWidth\": 1.5, \"species\": \"versicolor\"}, {\"sepalLength\": 5.5, \"sepalWidth\": 2.3, \"petalLength\": 4.0, \"petalWidth\": 1.3, \"species\": \"versicolor\"}, {\"sepalLength\": 6.5, \"sepalWidth\": 2.8, \"petalLength\": 4.6, \"petalWidth\": 1.5, \"species\": \"versicolor\"}, {\"sepalLength\": 5.7, \"sepalWidth\": 2.8, \"petalLength\": 4.5, \"petalWidth\": 1.3, \"species\": \"versicolor\"}, {\"sepalLength\": 6.3, \"sepalWidth\": 3.3, \"petalLength\": 4.7, \"petalWidth\": 1.6, \"species\": \"versicolor\"}, {\"sepalLength\": 4.9, \"sepalWidth\": 2.4, \"petalLength\": 3.3, \"petalWidth\": 1.0, \"species\": \"versicolor\"}, {\"sepalLength\": 6.6, \"sepalWidth\": 2.9, \"petalLength\": 4.6, \"petalWidth\": 1.3, \"species\": \"versicolor\"}, {\"sepalLength\": 5.2, \"sepalWidth\": 2.7, \"petalLength\": 3.9, \"petalWidth\": 1.4, \"species\": \"versicolor\"}, {\"sepalLength\": 5.0, \"sepalWidth\": 2.0, \"petalLength\": 3.5, \"petalWidth\": 1.0, \"species\": \"versicolor\"}, {\"sepalLength\": 5.9, \"sepalWidth\": 3.0, \"petalLength\": 4.2, \"petalWidth\": 1.5, \"species\": \"versicolor\"}, {\"sepalLength\": 6.0, \"sepalWidth\": 2.2, \"petalLength\": 4.0, \"petalWidth\": 1.0, \"species\": \"versicolor\"}, {\"sepalLength\": 6.1, \"sepalWidth\": 2.9, \"petalLength\": 4.7, \"petalWidth\": 1.4, \"species\": \"versicolor\"}, {\"sepalLength\": 5.6, \"sepalWidth\": 2.9, \"petalLength\": 3.6, \"petalWidth\": 1.3, \"species\": \"versicolor\"}, {\"sepalLength\": 6.7, \"sepalWidth\": 3.1, \"petalLength\": 4.4, \"petalWidth\": 1.4, \"species\": \"versicolor\"}, {\"sepalLength\": 5.6, \"sepalWidth\": 3.0, \"petalLength\": 4.5, \"petalWidth\": 1.5, \"species\": \"versicolor\"}, {\"sepalLength\": 5.8, \"sepalWidth\": 2.7, \"petalLength\": 4.1, \"petalWidth\": 1.0, \"species\": \"versicolor\"}, {\"sepalLength\": 6.2, \"sepalWidth\": 2.2, \"petalLength\": 4.5, \"petalWidth\": 1.5, \"species\": \"versicolor\"}, {\"sepalLength\": 5.6, \"sepalWidth\": 2.5, \"petalLength\": 3.9, \"petalWidth\": 1.1, \"species\": \"versicolor\"}, {\"sepalLength\": 5.9, \"sepalWidth\": 3.2, \"petalLength\": 4.8, \"petalWidth\": 1.8, \"species\": \"versicolor\"}, {\"sepalLength\": 6.1, \"sepalWidth\": 2.8, \"petalLength\": 4.0, \"petalWidth\": 1.3, \"species\": \"versicolor\"}, {\"sepalLength\": 6.3, \"sepalWidth\": 2.5, \"petalLength\": 4.9, \"petalWidth\": 1.5, \"species\": \"versicolor\"}, {\"sepalLength\": 6.1, \"sepalWidth\": 2.8, \"petalLength\": 4.7, \"petalWidth\": 1.2, \"species\": \"versicolor\"}, {\"sepalLength\": 6.4, \"sepalWidth\": 2.9, \"petalLength\": 4.3, \"petalWidth\": 1.3, \"species\": \"versicolor\"}, {\"sepalLength\": 6.6, \"sepalWidth\": 3.0, \"petalLength\": 4.4, \"petalWidth\": 1.4, \"species\": \"versicolor\"}, {\"sepalLength\": 6.8, \"sepalWidth\": 2.8, \"petalLength\": 4.8, \"petalWidth\": 1.4, \"species\": \"versicolor\"}, {\"sepalLength\": 6.7, \"sepalWidth\": 3.0, \"petalLength\": 5.0, \"petalWidth\": 1.7000000000000002, \"species\": \"versicolor\"}, {\"sepalLength\": 6.0, \"sepalWidth\": 2.9, \"petalLength\": 4.5, \"petalWidth\": 1.5, \"species\": \"versicolor\"}, {\"sepalLength\": 5.7, \"sepalWidth\": 2.6, \"petalLength\": 3.5, \"petalWidth\": 1.0, \"species\": \"versicolor\"}, {\"sepalLength\": 5.5, \"sepalWidth\": 2.4, \"petalLength\": 3.8, \"petalWidth\": 1.1, \"species\": \"versicolor\"}, {\"sepalLength\": 5.5, \"sepalWidth\": 2.4, \"petalLength\": 3.7, \"petalWidth\": 1.0, \"species\": \"versicolor\"}, {\"sepalLength\": 5.8, \"sepalWidth\": 2.7, \"petalLength\": 3.9, \"petalWidth\": 1.2, \"species\": \"versicolor\"}, {\"sepalLength\": 6.0, \"sepalWidth\": 2.7, \"petalLength\": 5.1, \"petalWidth\": 1.6, \"species\": \"versicolor\"}, {\"sepalLength\": 5.4, \"sepalWidth\": 3.0, \"petalLength\": 4.5, \"petalWidth\": 1.5, \"species\": \"versicolor\"}, {\"sepalLength\": 6.0, \"sepalWidth\": 3.4, \"petalLength\": 4.5, \"petalWidth\": 1.6, \"species\": \"versicolor\"}, {\"sepalLength\": 6.7, \"sepalWidth\": 3.1, \"petalLength\": 4.7, \"petalWidth\": 1.5, \"species\": \"versicolor\"}, {\"sepalLength\": 6.3, \"sepalWidth\": 2.3, \"petalLength\": 4.4, \"petalWidth\": 1.3, \"species\": \"versicolor\"}, {\"sepalLength\": 5.6, \"sepalWidth\": 3.0, \"petalLength\": 4.1, \"petalWidth\": 1.3, \"species\": \"versicolor\"}, {\"sepalLength\": 5.5, \"sepalWidth\": 2.5, \"petalLength\": 4.0, \"petalWidth\": 1.3, \"species\": \"versicolor\"}, {\"sepalLength\": 5.5, \"sepalWidth\": 2.6, \"petalLength\": 4.4, \"petalWidth\": 1.2, \"species\": \"versicolor\"}, {\"sepalLength\": 6.1, \"sepalWidth\": 3.0, \"petalLength\": 4.6, \"petalWidth\": 1.4, \"species\": \"versicolor\"}, {\"sepalLength\": 5.8, \"sepalWidth\": 2.6, \"petalLength\": 4.0, \"petalWidth\": 1.2, \"species\": \"versicolor\"}, {\"sepalLength\": 5.0, \"sepalWidth\": 2.3, \"petalLength\": 3.3, \"petalWidth\": 1.0, \"species\": \"versicolor\"}, {\"sepalLength\": 5.6, \"sepalWidth\": 2.7, \"petalLength\": 4.2, \"petalWidth\": 1.3, \"species\": \"versicolor\"}, {\"sepalLength\": 5.7, \"sepalWidth\": 3.0, \"petalLength\": 4.2, \"petalWidth\": 1.2, \"species\": \"versicolor\"}, {\"sepalLength\": 5.7, \"sepalWidth\": 2.9, \"petalLength\": 4.2, \"petalWidth\": 1.3, \"species\": \"versicolor\"}, {\"sepalLength\": 6.2, \"sepalWidth\": 2.9, \"petalLength\": 4.3, \"petalWidth\": 1.3, \"species\": \"versicolor\"}, {\"sepalLength\": 5.1, \"sepalWidth\": 2.5, \"petalLength\": 3.0, \"petalWidth\": 1.1, \"species\": \"versicolor\"}, {\"sepalLength\": 5.7, \"sepalWidth\": 2.8, \"petalLength\": 4.1, \"petalWidth\": 1.3, \"species\": \"versicolor\"}, {\"sepalLength\": 6.3, \"sepalWidth\": 3.3, \"petalLength\": 6.0, \"petalWidth\": 2.5, \"species\": \"virginica\"}, {\"sepalLength\": 5.8, \"sepalWidth\": 2.7, \"petalLength\": 5.1, \"petalWidth\": 1.9, \"species\": \"virginica\"}, {\"sepalLength\": 7.1, \"sepalWidth\": 3.0, \"petalLength\": 5.9, \"petalWidth\": 2.1, \"species\": \"virginica\"}, {\"sepalLength\": 6.3, \"sepalWidth\": 2.9, \"petalLength\": 5.6, \"petalWidth\": 1.8, \"species\": \"virginica\"}, {\"sepalLength\": 6.5, \"sepalWidth\": 3.0, \"petalLength\": 5.8, \"petalWidth\": 2.2, \"species\": \"virginica\"}, {\"sepalLength\": 7.6, \"sepalWidth\": 3.0, \"petalLength\": 6.6, \"petalWidth\": 2.1, \"species\": \"virginica\"}, {\"sepalLength\": 4.9, \"sepalWidth\": 2.5, \"petalLength\": 4.5, \"petalWidth\": 1.7000000000000002, \"species\": \"virginica\"}, {\"sepalLength\": 7.3, \"sepalWidth\": 2.9, \"petalLength\": 6.3, \"petalWidth\": 1.8, \"species\": \"virginica\"}, {\"sepalLength\": 6.7, \"sepalWidth\": 2.5, \"petalLength\": 5.8, \"petalWidth\": 1.8, \"species\": \"virginica\"}, {\"sepalLength\": 7.2, \"sepalWidth\": 3.6, \"petalLength\": 6.1, \"petalWidth\": 2.5, \"species\": \"virginica\"}, {\"sepalLength\": 6.5, \"sepalWidth\": 3.2, \"petalLength\": 5.1, \"petalWidth\": 2.0, \"species\": \"virginica\"}, {\"sepalLength\": 6.4, \"sepalWidth\": 2.7, \"petalLength\": 5.3, \"petalWidth\": 1.9, \"species\": \"virginica\"}, {\"sepalLength\": 6.8, \"sepalWidth\": 3.0, \"petalLength\": 5.5, \"petalWidth\": 2.1, \"species\": \"virginica\"}, {\"sepalLength\": 5.7, \"sepalWidth\": 2.5, \"petalLength\": 5.0, \"petalWidth\": 2.0, \"species\": \"virginica\"}, {\"sepalLength\": 5.8, \"sepalWidth\": 2.8, \"petalLength\": 5.1, \"petalWidth\": 2.4, \"species\": \"virginica\"}, {\"sepalLength\": 6.4, \"sepalWidth\": 3.2, \"petalLength\": 5.3, \"petalWidth\": 2.3, \"species\": \"virginica\"}, {\"sepalLength\": 6.5, \"sepalWidth\": 3.0, \"petalLength\": 5.5, \"petalWidth\": 1.8, \"species\": \"virginica\"}, {\"sepalLength\": 7.7, \"sepalWidth\": 3.8, \"petalLength\": 6.7, \"petalWidth\": 2.2, \"species\": \"virginica\"}, {\"sepalLength\": 7.7, \"sepalWidth\": 2.6, \"petalLength\": 6.9, \"petalWidth\": 2.3, \"species\": \"virginica\"}, {\"sepalLength\": 6.0, \"sepalWidth\": 2.2, \"petalLength\": 5.0, \"petalWidth\": 1.5, \"species\": \"virginica\"}, {\"sepalLength\": 6.9, \"sepalWidth\": 3.2, \"petalLength\": 5.7, \"petalWidth\": 2.3, \"species\": \"virginica\"}, {\"sepalLength\": 5.6, \"sepalWidth\": 2.8, \"petalLength\": 4.9, \"petalWidth\": 2.0, \"species\": \"virginica\"}, {\"sepalLength\": 7.7, \"sepalWidth\": 2.8, \"petalLength\": 6.7, \"petalWidth\": 2.0, \"species\": \"virginica\"}, {\"sepalLength\": 6.3, \"sepalWidth\": 2.7, \"petalLength\": 4.9, \"petalWidth\": 1.8, \"species\": \"virginica\"}, {\"sepalLength\": 6.7, \"sepalWidth\": 3.3, \"petalLength\": 5.7, \"petalWidth\": 2.1, \"species\": \"virginica\"}, {\"sepalLength\": 7.2, \"sepalWidth\": 3.2, \"petalLength\": 6.0, \"petalWidth\": 1.8, \"species\": \"virginica\"}, {\"sepalLength\": 6.2, \"sepalWidth\": 2.8, \"petalLength\": 4.8, \"petalWidth\": 1.8, \"species\": \"virginica\"}, {\"sepalLength\": 6.1, \"sepalWidth\": 3.0, \"petalLength\": 4.9, \"petalWidth\": 1.8, \"species\": \"virginica\"}, {\"sepalLength\": 6.4, \"sepalWidth\": 2.8, \"petalLength\": 5.6, \"petalWidth\": 2.1, \"species\": \"virginica\"}, {\"sepalLength\": 7.2, \"sepalWidth\": 3.0, \"petalLength\": 5.8, \"petalWidth\": 1.6, \"species\": \"virginica\"}, {\"sepalLength\": 7.4, \"sepalWidth\": 2.8, \"petalLength\": 6.1, \"petalWidth\": 1.9, \"species\": \"virginica\"}, {\"sepalLength\": 7.9, \"sepalWidth\": 3.8, \"petalLength\": 6.4, \"petalWidth\": 2.0, \"species\": \"virginica\"}, {\"sepalLength\": 6.4, \"sepalWidth\": 2.8, \"petalLength\": 5.6, \"petalWidth\": 2.2, \"species\": \"virginica\"}, {\"sepalLength\": 6.3, \"sepalWidth\": 2.8, \"petalLength\": 5.1, \"petalWidth\": 1.5, \"species\": \"virginica\"}, {\"sepalLength\": 6.1, \"sepalWidth\": 2.6, \"petalLength\": 5.6, \"petalWidth\": 1.4, \"species\": \"virginica\"}, {\"sepalLength\": 7.7, \"sepalWidth\": 3.0, \"petalLength\": 6.1, \"petalWidth\": 2.3, \"species\": \"virginica\"}, {\"sepalLength\": 6.3, \"sepalWidth\": 3.4, \"petalLength\": 5.6, \"petalWidth\": 2.4, \"species\": \"virginica\"}, {\"sepalLength\": 6.4, \"sepalWidth\": 3.1, \"petalLength\": 5.5, \"petalWidth\": 1.8, \"species\": \"virginica\"}, {\"sepalLength\": 6.0, \"sepalWidth\": 3.0, \"petalLength\": 4.8, \"petalWidth\": 1.8, \"species\": \"virginica\"}, {\"sepalLength\": 6.9, \"sepalWidth\": 3.1, \"petalLength\": 5.4, \"petalWidth\": 2.1, \"species\": \"virginica\"}, {\"sepalLength\": 6.7, \"sepalWidth\": 3.1, \"petalLength\": 5.6, \"petalWidth\": 2.4, \"species\": \"virginica\"}, {\"sepalLength\": 6.9, \"sepalWidth\": 3.1, \"petalLength\": 5.1, \"petalWidth\": 2.3, \"species\": \"virginica\"}, {\"sepalLength\": 5.8, \"sepalWidth\": 2.7, \"petalLength\": 5.1, \"petalWidth\": 1.9, \"species\": \"virginica\"}, {\"sepalLength\": 6.8, \"sepalWidth\": 3.2, \"petalLength\": 5.9, \"petalWidth\": 2.3, \"species\": \"virginica\"}, {\"sepalLength\": 6.7, \"sepalWidth\": 3.3, \"petalLength\": 5.7, \"petalWidth\": 2.5, \"species\": \"virginica\"}, {\"sepalLength\": 6.7, \"sepalWidth\": 3.0, \"petalLength\": 5.2, \"petalWidth\": 2.3, \"species\": \"virginica\"}, {\"sepalLength\": 6.3, \"sepalWidth\": 2.5, \"petalLength\": 5.0, \"petalWidth\": 1.9, \"species\": \"virginica\"}, {\"sepalLength\": 6.5, \"sepalWidth\": 3.0, \"petalLength\": 5.2, \"petalWidth\": 2.0, \"species\": \"virginica\"}, {\"sepalLength\": 6.2, \"sepalWidth\": 3.4, \"petalLength\": 5.4, \"petalWidth\": 2.3, \"species\": \"virginica\"}, {\"sepalLength\": 5.9, \"sepalWidth\": 3.0, \"petalLength\": 5.1, \"petalWidth\": 1.8, \"species\": \"virginica\"}]}}, {\"mode\": \"vega-lite\"});\n",
              "</script>"
            ],
            "text/plain": [
              "alt.Chart(...)"
            ]
          },
          "metadata": {},
          "execution_count": 13
        }
      ],
      "source": [
        "alt.Chart(iris).mark_point().encode(\n",
        "    x='petalLength'\n",
        ")"
      ]
    },
    {
      "cell_type": "markdown",
      "metadata": {
        "id": "qPYoz2Wtu27c"
      },
      "source": [
        "This is a bit better, but the ``point`` mark is probably not the best for a 1D chart like this.\n",
        "\n",
        "Let's try the ``tick`` mark instead:"
      ]
    },
    {
      "cell_type": "code",
      "execution_count": 14,
      "metadata": {
        "colab": {
          "base_uri": "https://localhost:8080/",
          "height": 83
        },
        "id": "ULeyUVxnu27d",
        "outputId": "af64d2a2-c0d1-4a45-d7a2-4f49e41b42c9"
      },
      "outputs": [
        {
          "output_type": "execute_result",
          "data": {
            "text/html": [
              "\n",
              "<div id=\"altair-viz-b8310924216d41ccb57777e5b619542c\"></div>\n",
              "<script type=\"text/javascript\">\n",
              "  var VEGA_DEBUG = (typeof VEGA_DEBUG == \"undefined\") ? {} : VEGA_DEBUG;\n",
              "  (function(spec, embedOpt){\n",
              "    let outputDiv = document.currentScript.previousElementSibling;\n",
              "    if (outputDiv.id !== \"altair-viz-b8310924216d41ccb57777e5b619542c\") {\n",
              "      outputDiv = document.getElementById(\"altair-viz-b8310924216d41ccb57777e5b619542c\");\n",
              "    }\n",
              "    const paths = {\n",
              "      \"vega\": \"https://cdn.jsdelivr.net/npm//vega@5?noext\",\n",
              "      \"vega-lib\": \"https://cdn.jsdelivr.net/npm//vega-lib?noext\",\n",
              "      \"vega-lite\": \"https://cdn.jsdelivr.net/npm//vega-lite@4.17.0?noext\",\n",
              "      \"vega-embed\": \"https://cdn.jsdelivr.net/npm//vega-embed@6?noext\",\n",
              "    };\n",
              "\n",
              "    function maybeLoadScript(lib, version) {\n",
              "      var key = `${lib.replace(\"-\", \"\")}_version`;\n",
              "      return (VEGA_DEBUG[key] == version) ?\n",
              "        Promise.resolve(paths[lib]) :\n",
              "        new Promise(function(resolve, reject) {\n",
              "          var s = document.createElement('script');\n",
              "          document.getElementsByTagName(\"head\")[0].appendChild(s);\n",
              "          s.async = true;\n",
              "          s.onload = () => {\n",
              "            VEGA_DEBUG[key] = version;\n",
              "            return resolve(paths[lib]);\n",
              "          };\n",
              "          s.onerror = () => reject(`Error loading script: ${paths[lib]}`);\n",
              "          s.src = paths[lib];\n",
              "        });\n",
              "    }\n",
              "\n",
              "    function showError(err) {\n",
              "      outputDiv.innerHTML = `<div class=\"error\" style=\"color:red;\">${err}</div>`;\n",
              "      throw err;\n",
              "    }\n",
              "\n",
              "    function displayChart(vegaEmbed) {\n",
              "      vegaEmbed(outputDiv, spec, embedOpt)\n",
              "        .catch(err => showError(`Javascript Error: ${err.message}<br>This usually means there's a typo in your chart specification. See the javascript console for the full traceback.`));\n",
              "    }\n",
              "\n",
              "    if(typeof define === \"function\" && define.amd) {\n",
              "      requirejs.config({paths});\n",
              "      require([\"vega-embed\"], displayChart, err => showError(`Error loading script: ${err.message}`));\n",
              "    } else {\n",
              "      maybeLoadScript(\"vega\", \"5\")\n",
              "        .then(() => maybeLoadScript(\"vega-lite\", \"4.17.0\"))\n",
              "        .then(() => maybeLoadScript(\"vega-embed\", \"6\"))\n",
              "        .catch(showError)\n",
              "        .then(() => displayChart(vegaEmbed));\n",
              "    }\n",
              "  })({\"config\": {\"view\": {\"continuousWidth\": 400, \"continuousHeight\": 300}}, \"data\": {\"name\": \"data-a264acbd6e539a8b3afc0cb5f240fb57\"}, \"mark\": \"tick\", \"encoding\": {\"x\": {\"field\": \"petalLength\", \"type\": \"quantitative\"}}, \"$schema\": \"https://vega.github.io/schema/vega-lite/v4.17.0.json\", \"datasets\": {\"data-a264acbd6e539a8b3afc0cb5f240fb57\": [{\"sepalLength\": 5.1, \"sepalWidth\": 3.5, \"petalLength\": 1.4, \"petalWidth\": 0.2, \"species\": \"setosa\"}, {\"sepalLength\": 4.9, \"sepalWidth\": 3.0, \"petalLength\": 1.4, \"petalWidth\": 0.2, \"species\": \"setosa\"}, {\"sepalLength\": 4.7, \"sepalWidth\": 3.2, \"petalLength\": 1.3, \"petalWidth\": 0.2, \"species\": \"setosa\"}, {\"sepalLength\": 4.6, \"sepalWidth\": 3.1, \"petalLength\": 1.5, \"petalWidth\": 0.2, \"species\": \"setosa\"}, {\"sepalLength\": 5.0, \"sepalWidth\": 3.6, \"petalLength\": 1.4, \"petalWidth\": 0.2, \"species\": \"setosa\"}, {\"sepalLength\": 5.4, \"sepalWidth\": 3.9, \"petalLength\": 1.7000000000000002, \"petalWidth\": 0.4, \"species\": \"setosa\"}, {\"sepalLength\": 4.6, \"sepalWidth\": 3.4, \"petalLength\": 1.4, \"petalWidth\": 0.30000000000000004, \"species\": \"setosa\"}, {\"sepalLength\": 5.0, \"sepalWidth\": 3.4, \"petalLength\": 1.5, \"petalWidth\": 0.2, \"species\": \"setosa\"}, {\"sepalLength\": 4.4, \"sepalWidth\": 2.9, \"petalLength\": 1.4, \"petalWidth\": 0.2, \"species\": \"setosa\"}, {\"sepalLength\": 4.9, \"sepalWidth\": 3.1, \"petalLength\": 1.5, \"petalWidth\": 0.1, \"species\": \"setosa\"}, {\"sepalLength\": 5.4, \"sepalWidth\": 3.7, \"petalLength\": 1.5, \"petalWidth\": 0.2, \"species\": \"setosa\"}, {\"sepalLength\": 4.8, \"sepalWidth\": 3.4, \"petalLength\": 1.6, \"petalWidth\": 0.2, \"species\": \"setosa\"}, {\"sepalLength\": 4.8, \"sepalWidth\": 3.0, \"petalLength\": 1.4, \"petalWidth\": 0.1, \"species\": \"setosa\"}, {\"sepalLength\": 4.3, \"sepalWidth\": 3.0, \"petalLength\": 1.1, \"petalWidth\": 0.1, \"species\": \"setosa\"}, {\"sepalLength\": 5.8, \"sepalWidth\": 4.0, \"petalLength\": 1.2, \"petalWidth\": 0.2, \"species\": \"setosa\"}, {\"sepalLength\": 5.7, \"sepalWidth\": 4.4, \"petalLength\": 1.5, \"petalWidth\": 0.4, \"species\": \"setosa\"}, {\"sepalLength\": 5.4, \"sepalWidth\": 3.9, \"petalLength\": 1.3, \"petalWidth\": 0.4, \"species\": \"setosa\"}, {\"sepalLength\": 5.1, \"sepalWidth\": 3.5, \"petalLength\": 1.4, \"petalWidth\": 0.30000000000000004, \"species\": \"setosa\"}, {\"sepalLength\": 5.7, \"sepalWidth\": 3.8, \"petalLength\": 1.7000000000000002, \"petalWidth\": 0.30000000000000004, \"species\": \"setosa\"}, {\"sepalLength\": 5.1, \"sepalWidth\": 3.8, \"petalLength\": 1.5, \"petalWidth\": 0.30000000000000004, \"species\": \"setosa\"}, {\"sepalLength\": 5.4, \"sepalWidth\": 3.4, \"petalLength\": 1.7000000000000002, \"petalWidth\": 0.2, \"species\": \"setosa\"}, {\"sepalLength\": 5.1, \"sepalWidth\": 3.7, \"petalLength\": 1.5, \"petalWidth\": 0.4, \"species\": \"setosa\"}, {\"sepalLength\": 4.6, \"sepalWidth\": 3.6, \"petalLength\": 1.0, \"petalWidth\": 0.2, \"species\": \"setosa\"}, {\"sepalLength\": 5.1, \"sepalWidth\": 3.3, \"petalLength\": 1.7000000000000002, \"petalWidth\": 0.5, \"species\": \"setosa\"}, {\"sepalLength\": 4.8, \"sepalWidth\": 3.4, \"petalLength\": 1.9, \"petalWidth\": 0.2, \"species\": \"setosa\"}, {\"sepalLength\": 5.0, \"sepalWidth\": 3.0, \"petalLength\": 1.6, \"petalWidth\": 0.2, \"species\": \"setosa\"}, {\"sepalLength\": 5.0, \"sepalWidth\": 3.4, \"petalLength\": 1.6, \"petalWidth\": 0.4, \"species\": \"setosa\"}, {\"sepalLength\": 5.2, \"sepalWidth\": 3.5, \"petalLength\": 1.5, \"petalWidth\": 0.2, \"species\": \"setosa\"}, {\"sepalLength\": 5.2, \"sepalWidth\": 3.4, \"petalLength\": 1.4, \"petalWidth\": 0.2, \"species\": \"setosa\"}, {\"sepalLength\": 4.7, \"sepalWidth\": 3.2, \"petalLength\": 1.6, \"petalWidth\": 0.2, \"species\": \"setosa\"}, {\"sepalLength\": 4.8, \"sepalWidth\": 3.1, \"petalLength\": 1.6, \"petalWidth\": 0.2, \"species\": \"setosa\"}, {\"sepalLength\": 5.4, \"sepalWidth\": 3.4, \"petalLength\": 1.5, \"petalWidth\": 0.4, \"species\": \"setosa\"}, {\"sepalLength\": 5.2, \"sepalWidth\": 4.1, \"petalLength\": 1.5, \"petalWidth\": 0.1, \"species\": \"setosa\"}, {\"sepalLength\": 5.5, \"sepalWidth\": 4.2, \"petalLength\": 1.4, \"petalWidth\": 0.2, \"species\": \"setosa\"}, {\"sepalLength\": 4.9, \"sepalWidth\": 3.1, \"petalLength\": 1.5, \"petalWidth\": 0.2, \"species\": \"setosa\"}, {\"sepalLength\": 5.0, \"sepalWidth\": 3.2, \"petalLength\": 1.2, \"petalWidth\": 0.2, \"species\": \"setosa\"}, {\"sepalLength\": 5.5, \"sepalWidth\": 3.5, \"petalLength\": 1.3, \"petalWidth\": 0.2, \"species\": \"setosa\"}, {\"sepalLength\": 4.9, \"sepalWidth\": 3.6, \"petalLength\": 1.4, \"petalWidth\": 0.1, \"species\": \"setosa\"}, {\"sepalLength\": 4.4, \"sepalWidth\": 3.0, \"petalLength\": 1.3, \"petalWidth\": 0.2, \"species\": \"setosa\"}, {\"sepalLength\": 5.1, \"sepalWidth\": 3.4, \"petalLength\": 1.5, \"petalWidth\": 0.2, \"species\": \"setosa\"}, {\"sepalLength\": 5.0, \"sepalWidth\": 3.5, \"petalLength\": 1.3, \"petalWidth\": 0.30000000000000004, \"species\": \"setosa\"}, {\"sepalLength\": 4.5, \"sepalWidth\": 2.3, \"petalLength\": 1.3, \"petalWidth\": 0.30000000000000004, \"species\": \"setosa\"}, {\"sepalLength\": 4.4, \"sepalWidth\": 3.2, \"petalLength\": 1.3, \"petalWidth\": 0.2, \"species\": \"setosa\"}, {\"sepalLength\": 5.0, \"sepalWidth\": 3.5, \"petalLength\": 1.6, \"petalWidth\": 0.6000000000000001, \"species\": \"setosa\"}, {\"sepalLength\": 5.1, \"sepalWidth\": 3.8, \"petalLength\": 1.9, \"petalWidth\": 0.4, \"species\": \"setosa\"}, {\"sepalLength\": 4.8, \"sepalWidth\": 3.0, \"petalLength\": 1.4, \"petalWidth\": 0.30000000000000004, \"species\": \"setosa\"}, {\"sepalLength\": 5.1, \"sepalWidth\": 3.8, \"petalLength\": 1.6, \"petalWidth\": 0.2, \"species\": \"setosa\"}, {\"sepalLength\": 4.6, \"sepalWidth\": 3.2, \"petalLength\": 1.4, \"petalWidth\": 0.2, \"species\": \"setosa\"}, {\"sepalLength\": 5.3, \"sepalWidth\": 3.7, \"petalLength\": 1.5, \"petalWidth\": 0.2, \"species\": \"setosa\"}, {\"sepalLength\": 5.0, \"sepalWidth\": 3.3, \"petalLength\": 1.4, \"petalWidth\": 0.2, \"species\": \"setosa\"}, {\"sepalLength\": 7.0, \"sepalWidth\": 3.2, \"petalLength\": 4.7, \"petalWidth\": 1.4, \"species\": \"versicolor\"}, {\"sepalLength\": 6.4, \"sepalWidth\": 3.2, \"petalLength\": 4.5, \"petalWidth\": 1.5, \"species\": \"versicolor\"}, {\"sepalLength\": 6.9, \"sepalWidth\": 3.1, \"petalLength\": 4.9, \"petalWidth\": 1.5, \"species\": \"versicolor\"}, {\"sepalLength\": 5.5, \"sepalWidth\": 2.3, \"petalLength\": 4.0, \"petalWidth\": 1.3, \"species\": \"versicolor\"}, {\"sepalLength\": 6.5, \"sepalWidth\": 2.8, \"petalLength\": 4.6, \"petalWidth\": 1.5, \"species\": \"versicolor\"}, {\"sepalLength\": 5.7, \"sepalWidth\": 2.8, \"petalLength\": 4.5, \"petalWidth\": 1.3, \"species\": \"versicolor\"}, {\"sepalLength\": 6.3, \"sepalWidth\": 3.3, \"petalLength\": 4.7, \"petalWidth\": 1.6, \"species\": \"versicolor\"}, {\"sepalLength\": 4.9, \"sepalWidth\": 2.4, \"petalLength\": 3.3, \"petalWidth\": 1.0, \"species\": \"versicolor\"}, {\"sepalLength\": 6.6, \"sepalWidth\": 2.9, \"petalLength\": 4.6, \"petalWidth\": 1.3, \"species\": \"versicolor\"}, {\"sepalLength\": 5.2, \"sepalWidth\": 2.7, \"petalLength\": 3.9, \"petalWidth\": 1.4, \"species\": \"versicolor\"}, {\"sepalLength\": 5.0, \"sepalWidth\": 2.0, \"petalLength\": 3.5, \"petalWidth\": 1.0, \"species\": \"versicolor\"}, {\"sepalLength\": 5.9, \"sepalWidth\": 3.0, \"petalLength\": 4.2, \"petalWidth\": 1.5, \"species\": \"versicolor\"}, {\"sepalLength\": 6.0, \"sepalWidth\": 2.2, \"petalLength\": 4.0, \"petalWidth\": 1.0, \"species\": \"versicolor\"}, {\"sepalLength\": 6.1, \"sepalWidth\": 2.9, \"petalLength\": 4.7, \"petalWidth\": 1.4, \"species\": \"versicolor\"}, {\"sepalLength\": 5.6, \"sepalWidth\": 2.9, \"petalLength\": 3.6, \"petalWidth\": 1.3, \"species\": \"versicolor\"}, {\"sepalLength\": 6.7, \"sepalWidth\": 3.1, \"petalLength\": 4.4, \"petalWidth\": 1.4, \"species\": \"versicolor\"}, {\"sepalLength\": 5.6, \"sepalWidth\": 3.0, \"petalLength\": 4.5, \"petalWidth\": 1.5, \"species\": \"versicolor\"}, {\"sepalLength\": 5.8, \"sepalWidth\": 2.7, \"petalLength\": 4.1, \"petalWidth\": 1.0, \"species\": \"versicolor\"}, {\"sepalLength\": 6.2, \"sepalWidth\": 2.2, \"petalLength\": 4.5, \"petalWidth\": 1.5, \"species\": \"versicolor\"}, {\"sepalLength\": 5.6, \"sepalWidth\": 2.5, \"petalLength\": 3.9, \"petalWidth\": 1.1, \"species\": \"versicolor\"}, {\"sepalLength\": 5.9, \"sepalWidth\": 3.2, \"petalLength\": 4.8, \"petalWidth\": 1.8, \"species\": \"versicolor\"}, {\"sepalLength\": 6.1, \"sepalWidth\": 2.8, \"petalLength\": 4.0, \"petalWidth\": 1.3, \"species\": \"versicolor\"}, {\"sepalLength\": 6.3, \"sepalWidth\": 2.5, \"petalLength\": 4.9, \"petalWidth\": 1.5, \"species\": \"versicolor\"}, {\"sepalLength\": 6.1, \"sepalWidth\": 2.8, \"petalLength\": 4.7, \"petalWidth\": 1.2, \"species\": \"versicolor\"}, {\"sepalLength\": 6.4, \"sepalWidth\": 2.9, \"petalLength\": 4.3, \"petalWidth\": 1.3, \"species\": \"versicolor\"}, {\"sepalLength\": 6.6, \"sepalWidth\": 3.0, \"petalLength\": 4.4, \"petalWidth\": 1.4, \"species\": \"versicolor\"}, {\"sepalLength\": 6.8, \"sepalWidth\": 2.8, \"petalLength\": 4.8, \"petalWidth\": 1.4, \"species\": \"versicolor\"}, {\"sepalLength\": 6.7, \"sepalWidth\": 3.0, \"petalLength\": 5.0, \"petalWidth\": 1.7000000000000002, \"species\": \"versicolor\"}, {\"sepalLength\": 6.0, \"sepalWidth\": 2.9, \"petalLength\": 4.5, \"petalWidth\": 1.5, \"species\": \"versicolor\"}, {\"sepalLength\": 5.7, \"sepalWidth\": 2.6, \"petalLength\": 3.5, \"petalWidth\": 1.0, \"species\": \"versicolor\"}, {\"sepalLength\": 5.5, \"sepalWidth\": 2.4, \"petalLength\": 3.8, \"petalWidth\": 1.1, \"species\": \"versicolor\"}, {\"sepalLength\": 5.5, \"sepalWidth\": 2.4, \"petalLength\": 3.7, \"petalWidth\": 1.0, \"species\": \"versicolor\"}, {\"sepalLength\": 5.8, \"sepalWidth\": 2.7, \"petalLength\": 3.9, \"petalWidth\": 1.2, \"species\": \"versicolor\"}, {\"sepalLength\": 6.0, \"sepalWidth\": 2.7, \"petalLength\": 5.1, \"petalWidth\": 1.6, \"species\": \"versicolor\"}, {\"sepalLength\": 5.4, \"sepalWidth\": 3.0, \"petalLength\": 4.5, \"petalWidth\": 1.5, \"species\": \"versicolor\"}, {\"sepalLength\": 6.0, \"sepalWidth\": 3.4, \"petalLength\": 4.5, \"petalWidth\": 1.6, \"species\": \"versicolor\"}, {\"sepalLength\": 6.7, \"sepalWidth\": 3.1, \"petalLength\": 4.7, \"petalWidth\": 1.5, \"species\": \"versicolor\"}, {\"sepalLength\": 6.3, \"sepalWidth\": 2.3, \"petalLength\": 4.4, \"petalWidth\": 1.3, \"species\": \"versicolor\"}, {\"sepalLength\": 5.6, \"sepalWidth\": 3.0, \"petalLength\": 4.1, \"petalWidth\": 1.3, \"species\": \"versicolor\"}, {\"sepalLength\": 5.5, \"sepalWidth\": 2.5, \"petalLength\": 4.0, \"petalWidth\": 1.3, \"species\": \"versicolor\"}, {\"sepalLength\": 5.5, \"sepalWidth\": 2.6, \"petalLength\": 4.4, \"petalWidth\": 1.2, \"species\": \"versicolor\"}, {\"sepalLength\": 6.1, \"sepalWidth\": 3.0, \"petalLength\": 4.6, \"petalWidth\": 1.4, \"species\": \"versicolor\"}, {\"sepalLength\": 5.8, \"sepalWidth\": 2.6, \"petalLength\": 4.0, \"petalWidth\": 1.2, \"species\": \"versicolor\"}, {\"sepalLength\": 5.0, \"sepalWidth\": 2.3, \"petalLength\": 3.3, \"petalWidth\": 1.0, \"species\": \"versicolor\"}, {\"sepalLength\": 5.6, \"sepalWidth\": 2.7, \"petalLength\": 4.2, \"petalWidth\": 1.3, \"species\": \"versicolor\"}, {\"sepalLength\": 5.7, \"sepalWidth\": 3.0, \"petalLength\": 4.2, \"petalWidth\": 1.2, \"species\": \"versicolor\"}, {\"sepalLength\": 5.7, \"sepalWidth\": 2.9, \"petalLength\": 4.2, \"petalWidth\": 1.3, \"species\": \"versicolor\"}, {\"sepalLength\": 6.2, \"sepalWidth\": 2.9, \"petalLength\": 4.3, \"petalWidth\": 1.3, \"species\": \"versicolor\"}, {\"sepalLength\": 5.1, \"sepalWidth\": 2.5, \"petalLength\": 3.0, \"petalWidth\": 1.1, \"species\": \"versicolor\"}, {\"sepalLength\": 5.7, \"sepalWidth\": 2.8, \"petalLength\": 4.1, \"petalWidth\": 1.3, \"species\": \"versicolor\"}, {\"sepalLength\": 6.3, \"sepalWidth\": 3.3, \"petalLength\": 6.0, \"petalWidth\": 2.5, \"species\": \"virginica\"}, {\"sepalLength\": 5.8, \"sepalWidth\": 2.7, \"petalLength\": 5.1, \"petalWidth\": 1.9, \"species\": \"virginica\"}, {\"sepalLength\": 7.1, \"sepalWidth\": 3.0, \"petalLength\": 5.9, \"petalWidth\": 2.1, \"species\": \"virginica\"}, {\"sepalLength\": 6.3, \"sepalWidth\": 2.9, \"petalLength\": 5.6, \"petalWidth\": 1.8, \"species\": \"virginica\"}, {\"sepalLength\": 6.5, \"sepalWidth\": 3.0, \"petalLength\": 5.8, \"petalWidth\": 2.2, \"species\": \"virginica\"}, {\"sepalLength\": 7.6, \"sepalWidth\": 3.0, \"petalLength\": 6.6, \"petalWidth\": 2.1, \"species\": \"virginica\"}, {\"sepalLength\": 4.9, \"sepalWidth\": 2.5, \"petalLength\": 4.5, \"petalWidth\": 1.7000000000000002, \"species\": \"virginica\"}, {\"sepalLength\": 7.3, \"sepalWidth\": 2.9, \"petalLength\": 6.3, \"petalWidth\": 1.8, \"species\": \"virginica\"}, {\"sepalLength\": 6.7, \"sepalWidth\": 2.5, \"petalLength\": 5.8, \"petalWidth\": 1.8, \"species\": \"virginica\"}, {\"sepalLength\": 7.2, \"sepalWidth\": 3.6, \"petalLength\": 6.1, \"petalWidth\": 2.5, \"species\": \"virginica\"}, {\"sepalLength\": 6.5, \"sepalWidth\": 3.2, \"petalLength\": 5.1, \"petalWidth\": 2.0, \"species\": \"virginica\"}, {\"sepalLength\": 6.4, \"sepalWidth\": 2.7, \"petalLength\": 5.3, \"petalWidth\": 1.9, \"species\": \"virginica\"}, {\"sepalLength\": 6.8, \"sepalWidth\": 3.0, \"petalLength\": 5.5, \"petalWidth\": 2.1, \"species\": \"virginica\"}, {\"sepalLength\": 5.7, \"sepalWidth\": 2.5, \"petalLength\": 5.0, \"petalWidth\": 2.0, \"species\": \"virginica\"}, {\"sepalLength\": 5.8, \"sepalWidth\": 2.8, \"petalLength\": 5.1, \"petalWidth\": 2.4, \"species\": \"virginica\"}, {\"sepalLength\": 6.4, \"sepalWidth\": 3.2, \"petalLength\": 5.3, \"petalWidth\": 2.3, \"species\": \"virginica\"}, {\"sepalLength\": 6.5, \"sepalWidth\": 3.0, \"petalLength\": 5.5, \"petalWidth\": 1.8, \"species\": \"virginica\"}, {\"sepalLength\": 7.7, \"sepalWidth\": 3.8, \"petalLength\": 6.7, \"petalWidth\": 2.2, \"species\": \"virginica\"}, {\"sepalLength\": 7.7, \"sepalWidth\": 2.6, \"petalLength\": 6.9, \"petalWidth\": 2.3, \"species\": \"virginica\"}, {\"sepalLength\": 6.0, \"sepalWidth\": 2.2, \"petalLength\": 5.0, \"petalWidth\": 1.5, \"species\": \"virginica\"}, {\"sepalLength\": 6.9, \"sepalWidth\": 3.2, \"petalLength\": 5.7, \"petalWidth\": 2.3, \"species\": \"virginica\"}, {\"sepalLength\": 5.6, \"sepalWidth\": 2.8, \"petalLength\": 4.9, \"petalWidth\": 2.0, \"species\": \"virginica\"}, {\"sepalLength\": 7.7, \"sepalWidth\": 2.8, \"petalLength\": 6.7, \"petalWidth\": 2.0, \"species\": \"virginica\"}, {\"sepalLength\": 6.3, \"sepalWidth\": 2.7, \"petalLength\": 4.9, \"petalWidth\": 1.8, \"species\": \"virginica\"}, {\"sepalLength\": 6.7, \"sepalWidth\": 3.3, \"petalLength\": 5.7, \"petalWidth\": 2.1, \"species\": \"virginica\"}, {\"sepalLength\": 7.2, \"sepalWidth\": 3.2, \"petalLength\": 6.0, \"petalWidth\": 1.8, \"species\": \"virginica\"}, {\"sepalLength\": 6.2, \"sepalWidth\": 2.8, \"petalLength\": 4.8, \"petalWidth\": 1.8, \"species\": \"virginica\"}, {\"sepalLength\": 6.1, \"sepalWidth\": 3.0, \"petalLength\": 4.9, \"petalWidth\": 1.8, \"species\": \"virginica\"}, {\"sepalLength\": 6.4, \"sepalWidth\": 2.8, \"petalLength\": 5.6, \"petalWidth\": 2.1, \"species\": \"virginica\"}, {\"sepalLength\": 7.2, \"sepalWidth\": 3.0, \"petalLength\": 5.8, \"petalWidth\": 1.6, \"species\": \"virginica\"}, {\"sepalLength\": 7.4, \"sepalWidth\": 2.8, \"petalLength\": 6.1, \"petalWidth\": 1.9, \"species\": \"virginica\"}, {\"sepalLength\": 7.9, \"sepalWidth\": 3.8, \"petalLength\": 6.4, \"petalWidth\": 2.0, \"species\": \"virginica\"}, {\"sepalLength\": 6.4, \"sepalWidth\": 2.8, \"petalLength\": 5.6, \"petalWidth\": 2.2, \"species\": \"virginica\"}, {\"sepalLength\": 6.3, \"sepalWidth\": 2.8, \"petalLength\": 5.1, \"petalWidth\": 1.5, \"species\": \"virginica\"}, {\"sepalLength\": 6.1, \"sepalWidth\": 2.6, \"petalLength\": 5.6, \"petalWidth\": 1.4, \"species\": \"virginica\"}, {\"sepalLength\": 7.7, \"sepalWidth\": 3.0, \"petalLength\": 6.1, \"petalWidth\": 2.3, \"species\": \"virginica\"}, {\"sepalLength\": 6.3, \"sepalWidth\": 3.4, \"petalLength\": 5.6, \"petalWidth\": 2.4, \"species\": \"virginica\"}, {\"sepalLength\": 6.4, \"sepalWidth\": 3.1, \"petalLength\": 5.5, \"petalWidth\": 1.8, \"species\": \"virginica\"}, {\"sepalLength\": 6.0, \"sepalWidth\": 3.0, \"petalLength\": 4.8, \"petalWidth\": 1.8, \"species\": \"virginica\"}, {\"sepalLength\": 6.9, \"sepalWidth\": 3.1, \"petalLength\": 5.4, \"petalWidth\": 2.1, \"species\": \"virginica\"}, {\"sepalLength\": 6.7, \"sepalWidth\": 3.1, \"petalLength\": 5.6, \"petalWidth\": 2.4, \"species\": \"virginica\"}, {\"sepalLength\": 6.9, \"sepalWidth\": 3.1, \"petalLength\": 5.1, \"petalWidth\": 2.3, \"species\": \"virginica\"}, {\"sepalLength\": 5.8, \"sepalWidth\": 2.7, \"petalLength\": 5.1, \"petalWidth\": 1.9, \"species\": \"virginica\"}, {\"sepalLength\": 6.8, \"sepalWidth\": 3.2, \"petalLength\": 5.9, \"petalWidth\": 2.3, \"species\": \"virginica\"}, {\"sepalLength\": 6.7, \"sepalWidth\": 3.3, \"petalLength\": 5.7, \"petalWidth\": 2.5, \"species\": \"virginica\"}, {\"sepalLength\": 6.7, \"sepalWidth\": 3.0, \"petalLength\": 5.2, \"petalWidth\": 2.3, \"species\": \"virginica\"}, {\"sepalLength\": 6.3, \"sepalWidth\": 2.5, \"petalLength\": 5.0, \"petalWidth\": 1.9, \"species\": \"virginica\"}, {\"sepalLength\": 6.5, \"sepalWidth\": 3.0, \"petalLength\": 5.2, \"petalWidth\": 2.0, \"species\": \"virginica\"}, {\"sepalLength\": 6.2, \"sepalWidth\": 3.4, \"petalLength\": 5.4, \"petalWidth\": 2.3, \"species\": \"virginica\"}, {\"sepalLength\": 5.9, \"sepalWidth\": 3.0, \"petalLength\": 5.1, \"petalWidth\": 1.8, \"species\": \"virginica\"}]}}, {\"mode\": \"vega-lite\"});\n",
              "</script>"
            ],
            "text/plain": [
              "alt.Chart(...)"
            ]
          },
          "metadata": {},
          "execution_count": 14
        }
      ],
      "source": [
        "alt.Chart(iris).mark_tick().encode(\n",
        "    x='petalLength'\n",
        ")"
      ]
    },
    {
      "cell_type": "markdown",
      "metadata": {
        "id": "eSbw5heQu27d"
      },
      "source": [
        "Another thing we might do with the points is to expand them into a 2D chart by also encoding the y value. We'll return to using ``point`` markers, and put ``petalWidth`` on the y-axis"
      ]
    },
    {
      "cell_type": "code",
      "execution_count": 15,
      "metadata": {
        "colab": {
          "base_uri": "https://localhost:8080/",
          "height": 363
        },
        "id": "sBziiLcIu27e",
        "outputId": "4269a846-3fb7-45ea-fcbb-78cfc990f428"
      },
      "outputs": [
        {
          "output_type": "execute_result",
          "data": {
            "text/html": [
              "\n",
              "<div id=\"altair-viz-48500fc53791488b840cf1547a66a55e\"></div>\n",
              "<script type=\"text/javascript\">\n",
              "  var VEGA_DEBUG = (typeof VEGA_DEBUG == \"undefined\") ? {} : VEGA_DEBUG;\n",
              "  (function(spec, embedOpt){\n",
              "    let outputDiv = document.currentScript.previousElementSibling;\n",
              "    if (outputDiv.id !== \"altair-viz-48500fc53791488b840cf1547a66a55e\") {\n",
              "      outputDiv = document.getElementById(\"altair-viz-48500fc53791488b840cf1547a66a55e\");\n",
              "    }\n",
              "    const paths = {\n",
              "      \"vega\": \"https://cdn.jsdelivr.net/npm//vega@5?noext\",\n",
              "      \"vega-lib\": \"https://cdn.jsdelivr.net/npm//vega-lib?noext\",\n",
              "      \"vega-lite\": \"https://cdn.jsdelivr.net/npm//vega-lite@4.17.0?noext\",\n",
              "      \"vega-embed\": \"https://cdn.jsdelivr.net/npm//vega-embed@6?noext\",\n",
              "    };\n",
              "\n",
              "    function maybeLoadScript(lib, version) {\n",
              "      var key = `${lib.replace(\"-\", \"\")}_version`;\n",
              "      return (VEGA_DEBUG[key] == version) ?\n",
              "        Promise.resolve(paths[lib]) :\n",
              "        new Promise(function(resolve, reject) {\n",
              "          var s = document.createElement('script');\n",
              "          document.getElementsByTagName(\"head\")[0].appendChild(s);\n",
              "          s.async = true;\n",
              "          s.onload = () => {\n",
              "            VEGA_DEBUG[key] = version;\n",
              "            return resolve(paths[lib]);\n",
              "          };\n",
              "          s.onerror = () => reject(`Error loading script: ${paths[lib]}`);\n",
              "          s.src = paths[lib];\n",
              "        });\n",
              "    }\n",
              "\n",
              "    function showError(err) {\n",
              "      outputDiv.innerHTML = `<div class=\"error\" style=\"color:red;\">${err}</div>`;\n",
              "      throw err;\n",
              "    }\n",
              "\n",
              "    function displayChart(vegaEmbed) {\n",
              "      vegaEmbed(outputDiv, spec, embedOpt)\n",
              "        .catch(err => showError(`Javascript Error: ${err.message}<br>This usually means there's a typo in your chart specification. See the javascript console for the full traceback.`));\n",
              "    }\n",
              "\n",
              "    if(typeof define === \"function\" && define.amd) {\n",
              "      requirejs.config({paths});\n",
              "      require([\"vega-embed\"], displayChart, err => showError(`Error loading script: ${err.message}`));\n",
              "    } else {\n",
              "      maybeLoadScript(\"vega\", \"5\")\n",
              "        .then(() => maybeLoadScript(\"vega-lite\", \"4.17.0\"))\n",
              "        .then(() => maybeLoadScript(\"vega-embed\", \"6\"))\n",
              "        .catch(showError)\n",
              "        .then(() => displayChart(vegaEmbed));\n",
              "    }\n",
              "  })({\"config\": {\"view\": {\"continuousWidth\": 400, \"continuousHeight\": 300}}, \"data\": {\"name\": \"data-a264acbd6e539a8b3afc0cb5f240fb57\"}, \"mark\": \"point\", \"encoding\": {\"x\": {\"field\": \"petalLength\", \"type\": \"quantitative\"}, \"y\": {\"field\": \"petalWidth\", \"type\": \"quantitative\"}}, \"$schema\": \"https://vega.github.io/schema/vega-lite/v4.17.0.json\", \"datasets\": {\"data-a264acbd6e539a8b3afc0cb5f240fb57\": [{\"sepalLength\": 5.1, \"sepalWidth\": 3.5, \"petalLength\": 1.4, \"petalWidth\": 0.2, \"species\": \"setosa\"}, {\"sepalLength\": 4.9, \"sepalWidth\": 3.0, \"petalLength\": 1.4, \"petalWidth\": 0.2, \"species\": \"setosa\"}, {\"sepalLength\": 4.7, \"sepalWidth\": 3.2, \"petalLength\": 1.3, \"petalWidth\": 0.2, \"species\": \"setosa\"}, {\"sepalLength\": 4.6, \"sepalWidth\": 3.1, \"petalLength\": 1.5, \"petalWidth\": 0.2, \"species\": \"setosa\"}, {\"sepalLength\": 5.0, \"sepalWidth\": 3.6, \"petalLength\": 1.4, \"petalWidth\": 0.2, \"species\": \"setosa\"}, {\"sepalLength\": 5.4, \"sepalWidth\": 3.9, \"petalLength\": 1.7000000000000002, \"petalWidth\": 0.4, \"species\": \"setosa\"}, {\"sepalLength\": 4.6, \"sepalWidth\": 3.4, \"petalLength\": 1.4, \"petalWidth\": 0.30000000000000004, \"species\": \"setosa\"}, {\"sepalLength\": 5.0, \"sepalWidth\": 3.4, \"petalLength\": 1.5, \"petalWidth\": 0.2, \"species\": \"setosa\"}, {\"sepalLength\": 4.4, \"sepalWidth\": 2.9, \"petalLength\": 1.4, \"petalWidth\": 0.2, \"species\": \"setosa\"}, {\"sepalLength\": 4.9, \"sepalWidth\": 3.1, \"petalLength\": 1.5, \"petalWidth\": 0.1, \"species\": \"setosa\"}, {\"sepalLength\": 5.4, \"sepalWidth\": 3.7, \"petalLength\": 1.5, \"petalWidth\": 0.2, \"species\": \"setosa\"}, {\"sepalLength\": 4.8, \"sepalWidth\": 3.4, \"petalLength\": 1.6, \"petalWidth\": 0.2, \"species\": \"setosa\"}, {\"sepalLength\": 4.8, \"sepalWidth\": 3.0, \"petalLength\": 1.4, \"petalWidth\": 0.1, \"species\": \"setosa\"}, {\"sepalLength\": 4.3, \"sepalWidth\": 3.0, \"petalLength\": 1.1, \"petalWidth\": 0.1, \"species\": \"setosa\"}, {\"sepalLength\": 5.8, \"sepalWidth\": 4.0, \"petalLength\": 1.2, \"petalWidth\": 0.2, \"species\": \"setosa\"}, {\"sepalLength\": 5.7, \"sepalWidth\": 4.4, \"petalLength\": 1.5, \"petalWidth\": 0.4, \"species\": \"setosa\"}, {\"sepalLength\": 5.4, \"sepalWidth\": 3.9, \"petalLength\": 1.3, \"petalWidth\": 0.4, \"species\": \"setosa\"}, {\"sepalLength\": 5.1, \"sepalWidth\": 3.5, \"petalLength\": 1.4, \"petalWidth\": 0.30000000000000004, \"species\": \"setosa\"}, {\"sepalLength\": 5.7, \"sepalWidth\": 3.8, \"petalLength\": 1.7000000000000002, \"petalWidth\": 0.30000000000000004, \"species\": \"setosa\"}, {\"sepalLength\": 5.1, \"sepalWidth\": 3.8, \"petalLength\": 1.5, \"petalWidth\": 0.30000000000000004, \"species\": \"setosa\"}, {\"sepalLength\": 5.4, \"sepalWidth\": 3.4, \"petalLength\": 1.7000000000000002, \"petalWidth\": 0.2, \"species\": \"setosa\"}, {\"sepalLength\": 5.1, \"sepalWidth\": 3.7, \"petalLength\": 1.5, \"petalWidth\": 0.4, \"species\": \"setosa\"}, {\"sepalLength\": 4.6, \"sepalWidth\": 3.6, \"petalLength\": 1.0, \"petalWidth\": 0.2, \"species\": \"setosa\"}, {\"sepalLength\": 5.1, \"sepalWidth\": 3.3, \"petalLength\": 1.7000000000000002, \"petalWidth\": 0.5, \"species\": \"setosa\"}, {\"sepalLength\": 4.8, \"sepalWidth\": 3.4, \"petalLength\": 1.9, \"petalWidth\": 0.2, \"species\": \"setosa\"}, {\"sepalLength\": 5.0, \"sepalWidth\": 3.0, \"petalLength\": 1.6, \"petalWidth\": 0.2, \"species\": \"setosa\"}, {\"sepalLength\": 5.0, \"sepalWidth\": 3.4, \"petalLength\": 1.6, \"petalWidth\": 0.4, \"species\": \"setosa\"}, {\"sepalLength\": 5.2, \"sepalWidth\": 3.5, \"petalLength\": 1.5, \"petalWidth\": 0.2, \"species\": \"setosa\"}, {\"sepalLength\": 5.2, \"sepalWidth\": 3.4, \"petalLength\": 1.4, \"petalWidth\": 0.2, \"species\": \"setosa\"}, {\"sepalLength\": 4.7, \"sepalWidth\": 3.2, \"petalLength\": 1.6, \"petalWidth\": 0.2, \"species\": \"setosa\"}, {\"sepalLength\": 4.8, \"sepalWidth\": 3.1, \"petalLength\": 1.6, \"petalWidth\": 0.2, \"species\": \"setosa\"}, {\"sepalLength\": 5.4, \"sepalWidth\": 3.4, \"petalLength\": 1.5, \"petalWidth\": 0.4, \"species\": \"setosa\"}, {\"sepalLength\": 5.2, \"sepalWidth\": 4.1, \"petalLength\": 1.5, \"petalWidth\": 0.1, \"species\": \"setosa\"}, {\"sepalLength\": 5.5, \"sepalWidth\": 4.2, \"petalLength\": 1.4, \"petalWidth\": 0.2, \"species\": \"setosa\"}, {\"sepalLength\": 4.9, \"sepalWidth\": 3.1, \"petalLength\": 1.5, \"petalWidth\": 0.2, \"species\": \"setosa\"}, {\"sepalLength\": 5.0, \"sepalWidth\": 3.2, \"petalLength\": 1.2, \"petalWidth\": 0.2, \"species\": \"setosa\"}, {\"sepalLength\": 5.5, \"sepalWidth\": 3.5, \"petalLength\": 1.3, \"petalWidth\": 0.2, \"species\": \"setosa\"}, {\"sepalLength\": 4.9, \"sepalWidth\": 3.6, \"petalLength\": 1.4, \"petalWidth\": 0.1, \"species\": \"setosa\"}, {\"sepalLength\": 4.4, \"sepalWidth\": 3.0, \"petalLength\": 1.3, \"petalWidth\": 0.2, \"species\": \"setosa\"}, {\"sepalLength\": 5.1, \"sepalWidth\": 3.4, \"petalLength\": 1.5, \"petalWidth\": 0.2, \"species\": \"setosa\"}, {\"sepalLength\": 5.0, \"sepalWidth\": 3.5, \"petalLength\": 1.3, \"petalWidth\": 0.30000000000000004, \"species\": \"setosa\"}, {\"sepalLength\": 4.5, \"sepalWidth\": 2.3, \"petalLength\": 1.3, \"petalWidth\": 0.30000000000000004, \"species\": \"setosa\"}, {\"sepalLength\": 4.4, \"sepalWidth\": 3.2, \"petalLength\": 1.3, \"petalWidth\": 0.2, \"species\": \"setosa\"}, {\"sepalLength\": 5.0, \"sepalWidth\": 3.5, \"petalLength\": 1.6, \"petalWidth\": 0.6000000000000001, \"species\": \"setosa\"}, {\"sepalLength\": 5.1, \"sepalWidth\": 3.8, \"petalLength\": 1.9, \"petalWidth\": 0.4, \"species\": \"setosa\"}, {\"sepalLength\": 4.8, \"sepalWidth\": 3.0, \"petalLength\": 1.4, \"petalWidth\": 0.30000000000000004, \"species\": \"setosa\"}, {\"sepalLength\": 5.1, \"sepalWidth\": 3.8, \"petalLength\": 1.6, \"petalWidth\": 0.2, \"species\": \"setosa\"}, {\"sepalLength\": 4.6, \"sepalWidth\": 3.2, \"petalLength\": 1.4, \"petalWidth\": 0.2, \"species\": \"setosa\"}, {\"sepalLength\": 5.3, \"sepalWidth\": 3.7, \"petalLength\": 1.5, \"petalWidth\": 0.2, \"species\": \"setosa\"}, {\"sepalLength\": 5.0, \"sepalWidth\": 3.3, \"petalLength\": 1.4, \"petalWidth\": 0.2, \"species\": \"setosa\"}, {\"sepalLength\": 7.0, \"sepalWidth\": 3.2, \"petalLength\": 4.7, \"petalWidth\": 1.4, \"species\": \"versicolor\"}, {\"sepalLength\": 6.4, \"sepalWidth\": 3.2, \"petalLength\": 4.5, \"petalWidth\": 1.5, \"species\": \"versicolor\"}, {\"sepalLength\": 6.9, \"sepalWidth\": 3.1, \"petalLength\": 4.9, \"petalWidth\": 1.5, \"species\": \"versicolor\"}, {\"sepalLength\": 5.5, \"sepalWidth\": 2.3, \"petalLength\": 4.0, \"petalWidth\": 1.3, \"species\": \"versicolor\"}, {\"sepalLength\": 6.5, \"sepalWidth\": 2.8, \"petalLength\": 4.6, \"petalWidth\": 1.5, \"species\": \"versicolor\"}, {\"sepalLength\": 5.7, \"sepalWidth\": 2.8, \"petalLength\": 4.5, \"petalWidth\": 1.3, \"species\": \"versicolor\"}, {\"sepalLength\": 6.3, \"sepalWidth\": 3.3, \"petalLength\": 4.7, \"petalWidth\": 1.6, \"species\": \"versicolor\"}, {\"sepalLength\": 4.9, \"sepalWidth\": 2.4, \"petalLength\": 3.3, \"petalWidth\": 1.0, \"species\": \"versicolor\"}, {\"sepalLength\": 6.6, \"sepalWidth\": 2.9, \"petalLength\": 4.6, \"petalWidth\": 1.3, \"species\": \"versicolor\"}, {\"sepalLength\": 5.2, \"sepalWidth\": 2.7, \"petalLength\": 3.9, \"petalWidth\": 1.4, \"species\": \"versicolor\"}, {\"sepalLength\": 5.0, \"sepalWidth\": 2.0, \"petalLength\": 3.5, \"petalWidth\": 1.0, \"species\": \"versicolor\"}, {\"sepalLength\": 5.9, \"sepalWidth\": 3.0, \"petalLength\": 4.2, \"petalWidth\": 1.5, \"species\": \"versicolor\"}, {\"sepalLength\": 6.0, \"sepalWidth\": 2.2, \"petalLength\": 4.0, \"petalWidth\": 1.0, \"species\": \"versicolor\"}, {\"sepalLength\": 6.1, \"sepalWidth\": 2.9, \"petalLength\": 4.7, \"petalWidth\": 1.4, \"species\": \"versicolor\"}, {\"sepalLength\": 5.6, \"sepalWidth\": 2.9, \"petalLength\": 3.6, \"petalWidth\": 1.3, \"species\": \"versicolor\"}, {\"sepalLength\": 6.7, \"sepalWidth\": 3.1, \"petalLength\": 4.4, \"petalWidth\": 1.4, \"species\": \"versicolor\"}, {\"sepalLength\": 5.6, \"sepalWidth\": 3.0, \"petalLength\": 4.5, \"petalWidth\": 1.5, \"species\": \"versicolor\"}, {\"sepalLength\": 5.8, \"sepalWidth\": 2.7, \"petalLength\": 4.1, \"petalWidth\": 1.0, \"species\": \"versicolor\"}, {\"sepalLength\": 6.2, \"sepalWidth\": 2.2, \"petalLength\": 4.5, \"petalWidth\": 1.5, \"species\": \"versicolor\"}, {\"sepalLength\": 5.6, \"sepalWidth\": 2.5, \"petalLength\": 3.9, \"petalWidth\": 1.1, \"species\": \"versicolor\"}, {\"sepalLength\": 5.9, \"sepalWidth\": 3.2, \"petalLength\": 4.8, \"petalWidth\": 1.8, \"species\": \"versicolor\"}, {\"sepalLength\": 6.1, \"sepalWidth\": 2.8, \"petalLength\": 4.0, \"petalWidth\": 1.3, \"species\": \"versicolor\"}, {\"sepalLength\": 6.3, \"sepalWidth\": 2.5, \"petalLength\": 4.9, \"petalWidth\": 1.5, \"species\": \"versicolor\"}, {\"sepalLength\": 6.1, \"sepalWidth\": 2.8, \"petalLength\": 4.7, \"petalWidth\": 1.2, \"species\": \"versicolor\"}, {\"sepalLength\": 6.4, \"sepalWidth\": 2.9, \"petalLength\": 4.3, \"petalWidth\": 1.3, \"species\": \"versicolor\"}, {\"sepalLength\": 6.6, \"sepalWidth\": 3.0, \"petalLength\": 4.4, \"petalWidth\": 1.4, \"species\": \"versicolor\"}, {\"sepalLength\": 6.8, \"sepalWidth\": 2.8, \"petalLength\": 4.8, \"petalWidth\": 1.4, \"species\": \"versicolor\"}, {\"sepalLength\": 6.7, \"sepalWidth\": 3.0, \"petalLength\": 5.0, \"petalWidth\": 1.7000000000000002, \"species\": \"versicolor\"}, {\"sepalLength\": 6.0, \"sepalWidth\": 2.9, \"petalLength\": 4.5, \"petalWidth\": 1.5, \"species\": \"versicolor\"}, {\"sepalLength\": 5.7, \"sepalWidth\": 2.6, \"petalLength\": 3.5, \"petalWidth\": 1.0, \"species\": \"versicolor\"}, {\"sepalLength\": 5.5, \"sepalWidth\": 2.4, \"petalLength\": 3.8, \"petalWidth\": 1.1, \"species\": \"versicolor\"}, {\"sepalLength\": 5.5, \"sepalWidth\": 2.4, \"petalLength\": 3.7, \"petalWidth\": 1.0, \"species\": \"versicolor\"}, {\"sepalLength\": 5.8, \"sepalWidth\": 2.7, \"petalLength\": 3.9, \"petalWidth\": 1.2, \"species\": \"versicolor\"}, {\"sepalLength\": 6.0, \"sepalWidth\": 2.7, \"petalLength\": 5.1, \"petalWidth\": 1.6, \"species\": \"versicolor\"}, {\"sepalLength\": 5.4, \"sepalWidth\": 3.0, \"petalLength\": 4.5, \"petalWidth\": 1.5, \"species\": \"versicolor\"}, {\"sepalLength\": 6.0, \"sepalWidth\": 3.4, \"petalLength\": 4.5, \"petalWidth\": 1.6, \"species\": \"versicolor\"}, {\"sepalLength\": 6.7, \"sepalWidth\": 3.1, \"petalLength\": 4.7, \"petalWidth\": 1.5, \"species\": \"versicolor\"}, {\"sepalLength\": 6.3, \"sepalWidth\": 2.3, \"petalLength\": 4.4, \"petalWidth\": 1.3, \"species\": \"versicolor\"}, {\"sepalLength\": 5.6, \"sepalWidth\": 3.0, \"petalLength\": 4.1, \"petalWidth\": 1.3, \"species\": \"versicolor\"}, {\"sepalLength\": 5.5, \"sepalWidth\": 2.5, \"petalLength\": 4.0, \"petalWidth\": 1.3, \"species\": \"versicolor\"}, {\"sepalLength\": 5.5, \"sepalWidth\": 2.6, \"petalLength\": 4.4, \"petalWidth\": 1.2, \"species\": \"versicolor\"}, {\"sepalLength\": 6.1, \"sepalWidth\": 3.0, \"petalLength\": 4.6, \"petalWidth\": 1.4, \"species\": \"versicolor\"}, {\"sepalLength\": 5.8, \"sepalWidth\": 2.6, \"petalLength\": 4.0, \"petalWidth\": 1.2, \"species\": \"versicolor\"}, {\"sepalLength\": 5.0, \"sepalWidth\": 2.3, \"petalLength\": 3.3, \"petalWidth\": 1.0, \"species\": \"versicolor\"}, {\"sepalLength\": 5.6, \"sepalWidth\": 2.7, \"petalLength\": 4.2, \"petalWidth\": 1.3, \"species\": \"versicolor\"}, {\"sepalLength\": 5.7, \"sepalWidth\": 3.0, \"petalLength\": 4.2, \"petalWidth\": 1.2, \"species\": \"versicolor\"}, {\"sepalLength\": 5.7, \"sepalWidth\": 2.9, \"petalLength\": 4.2, \"petalWidth\": 1.3, \"species\": \"versicolor\"}, {\"sepalLength\": 6.2, \"sepalWidth\": 2.9, \"petalLength\": 4.3, \"petalWidth\": 1.3, \"species\": \"versicolor\"}, {\"sepalLength\": 5.1, \"sepalWidth\": 2.5, \"petalLength\": 3.0, \"petalWidth\": 1.1, \"species\": \"versicolor\"}, {\"sepalLength\": 5.7, \"sepalWidth\": 2.8, \"petalLength\": 4.1, \"petalWidth\": 1.3, \"species\": \"versicolor\"}, {\"sepalLength\": 6.3, \"sepalWidth\": 3.3, \"petalLength\": 6.0, \"petalWidth\": 2.5, \"species\": \"virginica\"}, {\"sepalLength\": 5.8, \"sepalWidth\": 2.7, \"petalLength\": 5.1, \"petalWidth\": 1.9, \"species\": \"virginica\"}, {\"sepalLength\": 7.1, \"sepalWidth\": 3.0, \"petalLength\": 5.9, \"petalWidth\": 2.1, \"species\": \"virginica\"}, {\"sepalLength\": 6.3, \"sepalWidth\": 2.9, \"petalLength\": 5.6, \"petalWidth\": 1.8, \"species\": \"virginica\"}, {\"sepalLength\": 6.5, \"sepalWidth\": 3.0, \"petalLength\": 5.8, \"petalWidth\": 2.2, \"species\": \"virginica\"}, {\"sepalLength\": 7.6, \"sepalWidth\": 3.0, \"petalLength\": 6.6, \"petalWidth\": 2.1, \"species\": \"virginica\"}, {\"sepalLength\": 4.9, \"sepalWidth\": 2.5, \"petalLength\": 4.5, \"petalWidth\": 1.7000000000000002, \"species\": \"virginica\"}, {\"sepalLength\": 7.3, \"sepalWidth\": 2.9, \"petalLength\": 6.3, \"petalWidth\": 1.8, \"species\": \"virginica\"}, {\"sepalLength\": 6.7, \"sepalWidth\": 2.5, \"petalLength\": 5.8, \"petalWidth\": 1.8, \"species\": \"virginica\"}, {\"sepalLength\": 7.2, \"sepalWidth\": 3.6, \"petalLength\": 6.1, \"petalWidth\": 2.5, \"species\": \"virginica\"}, {\"sepalLength\": 6.5, \"sepalWidth\": 3.2, \"petalLength\": 5.1, \"petalWidth\": 2.0, \"species\": \"virginica\"}, {\"sepalLength\": 6.4, \"sepalWidth\": 2.7, \"petalLength\": 5.3, \"petalWidth\": 1.9, \"species\": \"virginica\"}, {\"sepalLength\": 6.8, \"sepalWidth\": 3.0, \"petalLength\": 5.5, \"petalWidth\": 2.1, \"species\": \"virginica\"}, {\"sepalLength\": 5.7, \"sepalWidth\": 2.5, \"petalLength\": 5.0, \"petalWidth\": 2.0, \"species\": \"virginica\"}, {\"sepalLength\": 5.8, \"sepalWidth\": 2.8, \"petalLength\": 5.1, \"petalWidth\": 2.4, \"species\": \"virginica\"}, {\"sepalLength\": 6.4, \"sepalWidth\": 3.2, \"petalLength\": 5.3, \"petalWidth\": 2.3, \"species\": \"virginica\"}, {\"sepalLength\": 6.5, \"sepalWidth\": 3.0, \"petalLength\": 5.5, \"petalWidth\": 1.8, \"species\": \"virginica\"}, {\"sepalLength\": 7.7, \"sepalWidth\": 3.8, \"petalLength\": 6.7, \"petalWidth\": 2.2, \"species\": \"virginica\"}, {\"sepalLength\": 7.7, \"sepalWidth\": 2.6, \"petalLength\": 6.9, \"petalWidth\": 2.3, \"species\": \"virginica\"}, {\"sepalLength\": 6.0, \"sepalWidth\": 2.2, \"petalLength\": 5.0, \"petalWidth\": 1.5, \"species\": \"virginica\"}, {\"sepalLength\": 6.9, \"sepalWidth\": 3.2, \"petalLength\": 5.7, \"petalWidth\": 2.3, \"species\": \"virginica\"}, {\"sepalLength\": 5.6, \"sepalWidth\": 2.8, \"petalLength\": 4.9, \"petalWidth\": 2.0, \"species\": \"virginica\"}, {\"sepalLength\": 7.7, \"sepalWidth\": 2.8, \"petalLength\": 6.7, \"petalWidth\": 2.0, \"species\": \"virginica\"}, {\"sepalLength\": 6.3, \"sepalWidth\": 2.7, \"petalLength\": 4.9, \"petalWidth\": 1.8, \"species\": \"virginica\"}, {\"sepalLength\": 6.7, \"sepalWidth\": 3.3, \"petalLength\": 5.7, \"petalWidth\": 2.1, \"species\": \"virginica\"}, {\"sepalLength\": 7.2, \"sepalWidth\": 3.2, \"petalLength\": 6.0, \"petalWidth\": 1.8, \"species\": \"virginica\"}, {\"sepalLength\": 6.2, \"sepalWidth\": 2.8, \"petalLength\": 4.8, \"petalWidth\": 1.8, \"species\": \"virginica\"}, {\"sepalLength\": 6.1, \"sepalWidth\": 3.0, \"petalLength\": 4.9, \"petalWidth\": 1.8, \"species\": \"virginica\"}, {\"sepalLength\": 6.4, \"sepalWidth\": 2.8, \"petalLength\": 5.6, \"petalWidth\": 2.1, \"species\": \"virginica\"}, {\"sepalLength\": 7.2, \"sepalWidth\": 3.0, \"petalLength\": 5.8, \"petalWidth\": 1.6, \"species\": \"virginica\"}, {\"sepalLength\": 7.4, \"sepalWidth\": 2.8, \"petalLength\": 6.1, \"petalWidth\": 1.9, \"species\": \"virginica\"}, {\"sepalLength\": 7.9, \"sepalWidth\": 3.8, \"petalLength\": 6.4, \"petalWidth\": 2.0, \"species\": \"virginica\"}, {\"sepalLength\": 6.4, \"sepalWidth\": 2.8, \"petalLength\": 5.6, \"petalWidth\": 2.2, \"species\": \"virginica\"}, {\"sepalLength\": 6.3, \"sepalWidth\": 2.8, \"petalLength\": 5.1, \"petalWidth\": 1.5, \"species\": \"virginica\"}, {\"sepalLength\": 6.1, \"sepalWidth\": 2.6, \"petalLength\": 5.6, \"petalWidth\": 1.4, \"species\": \"virginica\"}, {\"sepalLength\": 7.7, \"sepalWidth\": 3.0, \"petalLength\": 6.1, \"petalWidth\": 2.3, \"species\": \"virginica\"}, {\"sepalLength\": 6.3, \"sepalWidth\": 3.4, \"petalLength\": 5.6, \"petalWidth\": 2.4, \"species\": \"virginica\"}, {\"sepalLength\": 6.4, \"sepalWidth\": 3.1, \"petalLength\": 5.5, \"petalWidth\": 1.8, \"species\": \"virginica\"}, {\"sepalLength\": 6.0, \"sepalWidth\": 3.0, \"petalLength\": 4.8, \"petalWidth\": 1.8, \"species\": \"virginica\"}, {\"sepalLength\": 6.9, \"sepalWidth\": 3.1, \"petalLength\": 5.4, \"petalWidth\": 2.1, \"species\": \"virginica\"}, {\"sepalLength\": 6.7, \"sepalWidth\": 3.1, \"petalLength\": 5.6, \"petalWidth\": 2.4, \"species\": \"virginica\"}, {\"sepalLength\": 6.9, \"sepalWidth\": 3.1, \"petalLength\": 5.1, \"petalWidth\": 2.3, \"species\": \"virginica\"}, {\"sepalLength\": 5.8, \"sepalWidth\": 2.7, \"petalLength\": 5.1, \"petalWidth\": 1.9, \"species\": \"virginica\"}, {\"sepalLength\": 6.8, \"sepalWidth\": 3.2, \"petalLength\": 5.9, \"petalWidth\": 2.3, \"species\": \"virginica\"}, {\"sepalLength\": 6.7, \"sepalWidth\": 3.3, \"petalLength\": 5.7, \"petalWidth\": 2.5, \"species\": \"virginica\"}, {\"sepalLength\": 6.7, \"sepalWidth\": 3.0, \"petalLength\": 5.2, \"petalWidth\": 2.3, \"species\": \"virginica\"}, {\"sepalLength\": 6.3, \"sepalWidth\": 2.5, \"petalLength\": 5.0, \"petalWidth\": 1.9, \"species\": \"virginica\"}, {\"sepalLength\": 6.5, \"sepalWidth\": 3.0, \"petalLength\": 5.2, \"petalWidth\": 2.0, \"species\": \"virginica\"}, {\"sepalLength\": 6.2, \"sepalWidth\": 3.4, \"petalLength\": 5.4, \"petalWidth\": 2.3, \"species\": \"virginica\"}, {\"sepalLength\": 5.9, \"sepalWidth\": 3.0, \"petalLength\": 5.1, \"petalWidth\": 1.8, \"species\": \"virginica\"}]}}, {\"mode\": \"vega-lite\"});\n",
              "</script>"
            ],
            "text/plain": [
              "alt.Chart(...)"
            ]
          },
          "metadata": {},
          "execution_count": 15
        }
      ],
      "source": [
        "alt.Chart(iris).mark_point().encode(\n",
        "    x='petalLength',\n",
        "    y='petalWidth'\n",
        ")"
      ]
    },
    {
      "cell_type": "markdown",
      "metadata": {
        "id": "mYI1tM_au27e"
      },
      "source": [
        "## 3 Simple Interactions\n",
        "\n",
        "One of the nicest features of Altair is the grammar of interaction that it provides.\n",
        "The simplest kind of interaction is the ability to pan and zoom along charts; Altair contains a shortcut to enable this via the ``interactive()`` method:"
      ]
    },
    {
      "cell_type": "code",
      "execution_count": 16,
      "metadata": {
        "colab": {
          "base_uri": "https://localhost:8080/",
          "height": 363
        },
        "id": "EK9wQN9wu27e",
        "outputId": "da5f1c60-9bd1-4f9f-d61f-184018c0e797"
      },
      "outputs": [
        {
          "output_type": "execute_result",
          "data": {
            "text/html": [
              "\n",
              "<div id=\"altair-viz-6744db0f78f34a828e4b17bd8d41ac7a\"></div>\n",
              "<script type=\"text/javascript\">\n",
              "  var VEGA_DEBUG = (typeof VEGA_DEBUG == \"undefined\") ? {} : VEGA_DEBUG;\n",
              "  (function(spec, embedOpt){\n",
              "    let outputDiv = document.currentScript.previousElementSibling;\n",
              "    if (outputDiv.id !== \"altair-viz-6744db0f78f34a828e4b17bd8d41ac7a\") {\n",
              "      outputDiv = document.getElementById(\"altair-viz-6744db0f78f34a828e4b17bd8d41ac7a\");\n",
              "    }\n",
              "    const paths = {\n",
              "      \"vega\": \"https://cdn.jsdelivr.net/npm//vega@5?noext\",\n",
              "      \"vega-lib\": \"https://cdn.jsdelivr.net/npm//vega-lib?noext\",\n",
              "      \"vega-lite\": \"https://cdn.jsdelivr.net/npm//vega-lite@4.17.0?noext\",\n",
              "      \"vega-embed\": \"https://cdn.jsdelivr.net/npm//vega-embed@6?noext\",\n",
              "    };\n",
              "\n",
              "    function maybeLoadScript(lib, version) {\n",
              "      var key = `${lib.replace(\"-\", \"\")}_version`;\n",
              "      return (VEGA_DEBUG[key] == version) ?\n",
              "        Promise.resolve(paths[lib]) :\n",
              "        new Promise(function(resolve, reject) {\n",
              "          var s = document.createElement('script');\n",
              "          document.getElementsByTagName(\"head\")[0].appendChild(s);\n",
              "          s.async = true;\n",
              "          s.onload = () => {\n",
              "            VEGA_DEBUG[key] = version;\n",
              "            return resolve(paths[lib]);\n",
              "          };\n",
              "          s.onerror = () => reject(`Error loading script: ${paths[lib]}`);\n",
              "          s.src = paths[lib];\n",
              "        });\n",
              "    }\n",
              "\n",
              "    function showError(err) {\n",
              "      outputDiv.innerHTML = `<div class=\"error\" style=\"color:red;\">${err}</div>`;\n",
              "      throw err;\n",
              "    }\n",
              "\n",
              "    function displayChart(vegaEmbed) {\n",
              "      vegaEmbed(outputDiv, spec, embedOpt)\n",
              "        .catch(err => showError(`Javascript Error: ${err.message}<br>This usually means there's a typo in your chart specification. See the javascript console for the full traceback.`));\n",
              "    }\n",
              "\n",
              "    if(typeof define === \"function\" && define.amd) {\n",
              "      requirejs.config({paths});\n",
              "      require([\"vega-embed\"], displayChart, err => showError(`Error loading script: ${err.message}`));\n",
              "    } else {\n",
              "      maybeLoadScript(\"vega\", \"5\")\n",
              "        .then(() => maybeLoadScript(\"vega-lite\", \"4.17.0\"))\n",
              "        .then(() => maybeLoadScript(\"vega-embed\", \"6\"))\n",
              "        .catch(showError)\n",
              "        .then(() => displayChart(vegaEmbed));\n",
              "    }\n",
              "  })({\"config\": {\"view\": {\"continuousWidth\": 400, \"continuousHeight\": 300}}, \"data\": {\"name\": \"data-a264acbd6e539a8b3afc0cb5f240fb57\"}, \"mark\": \"point\", \"encoding\": {\"x\": {\"field\": \"petalLength\", \"type\": \"quantitative\"}, \"y\": {\"field\": \"petalWidth\", \"type\": \"quantitative\"}}, \"selection\": {\"selector001\": {\"type\": \"interval\", \"bind\": \"scales\", \"encodings\": [\"x\", \"y\"]}}, \"$schema\": \"https://vega.github.io/schema/vega-lite/v4.17.0.json\", \"datasets\": {\"data-a264acbd6e539a8b3afc0cb5f240fb57\": [{\"sepalLength\": 5.1, \"sepalWidth\": 3.5, \"petalLength\": 1.4, \"petalWidth\": 0.2, \"species\": \"setosa\"}, {\"sepalLength\": 4.9, \"sepalWidth\": 3.0, \"petalLength\": 1.4, \"petalWidth\": 0.2, \"species\": \"setosa\"}, {\"sepalLength\": 4.7, \"sepalWidth\": 3.2, \"petalLength\": 1.3, \"petalWidth\": 0.2, \"species\": \"setosa\"}, {\"sepalLength\": 4.6, \"sepalWidth\": 3.1, \"petalLength\": 1.5, \"petalWidth\": 0.2, \"species\": \"setosa\"}, {\"sepalLength\": 5.0, \"sepalWidth\": 3.6, \"petalLength\": 1.4, \"petalWidth\": 0.2, \"species\": \"setosa\"}, {\"sepalLength\": 5.4, \"sepalWidth\": 3.9, \"petalLength\": 1.7000000000000002, \"petalWidth\": 0.4, \"species\": \"setosa\"}, {\"sepalLength\": 4.6, \"sepalWidth\": 3.4, \"petalLength\": 1.4, \"petalWidth\": 0.30000000000000004, \"species\": \"setosa\"}, {\"sepalLength\": 5.0, \"sepalWidth\": 3.4, \"petalLength\": 1.5, \"petalWidth\": 0.2, \"species\": \"setosa\"}, {\"sepalLength\": 4.4, \"sepalWidth\": 2.9, \"petalLength\": 1.4, \"petalWidth\": 0.2, \"species\": \"setosa\"}, {\"sepalLength\": 4.9, \"sepalWidth\": 3.1, \"petalLength\": 1.5, \"petalWidth\": 0.1, \"species\": \"setosa\"}, {\"sepalLength\": 5.4, \"sepalWidth\": 3.7, \"petalLength\": 1.5, \"petalWidth\": 0.2, \"species\": \"setosa\"}, {\"sepalLength\": 4.8, \"sepalWidth\": 3.4, \"petalLength\": 1.6, \"petalWidth\": 0.2, \"species\": \"setosa\"}, {\"sepalLength\": 4.8, \"sepalWidth\": 3.0, \"petalLength\": 1.4, \"petalWidth\": 0.1, \"species\": \"setosa\"}, {\"sepalLength\": 4.3, \"sepalWidth\": 3.0, \"petalLength\": 1.1, \"petalWidth\": 0.1, \"species\": \"setosa\"}, {\"sepalLength\": 5.8, \"sepalWidth\": 4.0, \"petalLength\": 1.2, \"petalWidth\": 0.2, \"species\": \"setosa\"}, {\"sepalLength\": 5.7, \"sepalWidth\": 4.4, \"petalLength\": 1.5, \"petalWidth\": 0.4, \"species\": \"setosa\"}, {\"sepalLength\": 5.4, \"sepalWidth\": 3.9, \"petalLength\": 1.3, \"petalWidth\": 0.4, \"species\": \"setosa\"}, {\"sepalLength\": 5.1, \"sepalWidth\": 3.5, \"petalLength\": 1.4, \"petalWidth\": 0.30000000000000004, \"species\": \"setosa\"}, {\"sepalLength\": 5.7, \"sepalWidth\": 3.8, \"petalLength\": 1.7000000000000002, \"petalWidth\": 0.30000000000000004, \"species\": \"setosa\"}, {\"sepalLength\": 5.1, \"sepalWidth\": 3.8, \"petalLength\": 1.5, \"petalWidth\": 0.30000000000000004, \"species\": \"setosa\"}, {\"sepalLength\": 5.4, \"sepalWidth\": 3.4, \"petalLength\": 1.7000000000000002, \"petalWidth\": 0.2, \"species\": \"setosa\"}, {\"sepalLength\": 5.1, \"sepalWidth\": 3.7, \"petalLength\": 1.5, \"petalWidth\": 0.4, \"species\": \"setosa\"}, {\"sepalLength\": 4.6, \"sepalWidth\": 3.6, \"petalLength\": 1.0, \"petalWidth\": 0.2, \"species\": \"setosa\"}, {\"sepalLength\": 5.1, \"sepalWidth\": 3.3, \"petalLength\": 1.7000000000000002, \"petalWidth\": 0.5, \"species\": \"setosa\"}, {\"sepalLength\": 4.8, \"sepalWidth\": 3.4, \"petalLength\": 1.9, \"petalWidth\": 0.2, \"species\": \"setosa\"}, {\"sepalLength\": 5.0, \"sepalWidth\": 3.0, \"petalLength\": 1.6, \"petalWidth\": 0.2, \"species\": \"setosa\"}, {\"sepalLength\": 5.0, \"sepalWidth\": 3.4, \"petalLength\": 1.6, \"petalWidth\": 0.4, \"species\": \"setosa\"}, {\"sepalLength\": 5.2, \"sepalWidth\": 3.5, \"petalLength\": 1.5, \"petalWidth\": 0.2, \"species\": \"setosa\"}, {\"sepalLength\": 5.2, \"sepalWidth\": 3.4, \"petalLength\": 1.4, \"petalWidth\": 0.2, \"species\": \"setosa\"}, {\"sepalLength\": 4.7, \"sepalWidth\": 3.2, \"petalLength\": 1.6, \"petalWidth\": 0.2, \"species\": \"setosa\"}, {\"sepalLength\": 4.8, \"sepalWidth\": 3.1, \"petalLength\": 1.6, \"petalWidth\": 0.2, \"species\": \"setosa\"}, {\"sepalLength\": 5.4, \"sepalWidth\": 3.4, \"petalLength\": 1.5, \"petalWidth\": 0.4, \"species\": \"setosa\"}, {\"sepalLength\": 5.2, \"sepalWidth\": 4.1, \"petalLength\": 1.5, \"petalWidth\": 0.1, \"species\": \"setosa\"}, {\"sepalLength\": 5.5, \"sepalWidth\": 4.2, \"petalLength\": 1.4, \"petalWidth\": 0.2, \"species\": \"setosa\"}, {\"sepalLength\": 4.9, \"sepalWidth\": 3.1, \"petalLength\": 1.5, \"petalWidth\": 0.2, \"species\": \"setosa\"}, {\"sepalLength\": 5.0, \"sepalWidth\": 3.2, \"petalLength\": 1.2, \"petalWidth\": 0.2, \"species\": \"setosa\"}, {\"sepalLength\": 5.5, \"sepalWidth\": 3.5, \"petalLength\": 1.3, \"petalWidth\": 0.2, \"species\": \"setosa\"}, {\"sepalLength\": 4.9, \"sepalWidth\": 3.6, \"petalLength\": 1.4, \"petalWidth\": 0.1, \"species\": \"setosa\"}, {\"sepalLength\": 4.4, \"sepalWidth\": 3.0, \"petalLength\": 1.3, \"petalWidth\": 0.2, \"species\": \"setosa\"}, {\"sepalLength\": 5.1, \"sepalWidth\": 3.4, \"petalLength\": 1.5, \"petalWidth\": 0.2, \"species\": \"setosa\"}, {\"sepalLength\": 5.0, \"sepalWidth\": 3.5, \"petalLength\": 1.3, \"petalWidth\": 0.30000000000000004, \"species\": \"setosa\"}, {\"sepalLength\": 4.5, \"sepalWidth\": 2.3, \"petalLength\": 1.3, \"petalWidth\": 0.30000000000000004, \"species\": \"setosa\"}, {\"sepalLength\": 4.4, \"sepalWidth\": 3.2, \"petalLength\": 1.3, \"petalWidth\": 0.2, \"species\": \"setosa\"}, {\"sepalLength\": 5.0, \"sepalWidth\": 3.5, \"petalLength\": 1.6, \"petalWidth\": 0.6000000000000001, \"species\": \"setosa\"}, {\"sepalLength\": 5.1, \"sepalWidth\": 3.8, \"petalLength\": 1.9, \"petalWidth\": 0.4, \"species\": \"setosa\"}, {\"sepalLength\": 4.8, \"sepalWidth\": 3.0, \"petalLength\": 1.4, \"petalWidth\": 0.30000000000000004, \"species\": \"setosa\"}, {\"sepalLength\": 5.1, \"sepalWidth\": 3.8, \"petalLength\": 1.6, \"petalWidth\": 0.2, \"species\": \"setosa\"}, {\"sepalLength\": 4.6, \"sepalWidth\": 3.2, \"petalLength\": 1.4, \"petalWidth\": 0.2, \"species\": \"setosa\"}, {\"sepalLength\": 5.3, \"sepalWidth\": 3.7, \"petalLength\": 1.5, \"petalWidth\": 0.2, \"species\": \"setosa\"}, {\"sepalLength\": 5.0, \"sepalWidth\": 3.3, \"petalLength\": 1.4, \"petalWidth\": 0.2, \"species\": \"setosa\"}, {\"sepalLength\": 7.0, \"sepalWidth\": 3.2, \"petalLength\": 4.7, \"petalWidth\": 1.4, \"species\": \"versicolor\"}, {\"sepalLength\": 6.4, \"sepalWidth\": 3.2, \"petalLength\": 4.5, \"petalWidth\": 1.5, \"species\": \"versicolor\"}, {\"sepalLength\": 6.9, \"sepalWidth\": 3.1, \"petalLength\": 4.9, \"petalWidth\": 1.5, \"species\": \"versicolor\"}, {\"sepalLength\": 5.5, \"sepalWidth\": 2.3, \"petalLength\": 4.0, \"petalWidth\": 1.3, \"species\": \"versicolor\"}, {\"sepalLength\": 6.5, \"sepalWidth\": 2.8, \"petalLength\": 4.6, \"petalWidth\": 1.5, \"species\": \"versicolor\"}, {\"sepalLength\": 5.7, \"sepalWidth\": 2.8, \"petalLength\": 4.5, \"petalWidth\": 1.3, \"species\": \"versicolor\"}, {\"sepalLength\": 6.3, \"sepalWidth\": 3.3, \"petalLength\": 4.7, \"petalWidth\": 1.6, \"species\": \"versicolor\"}, {\"sepalLength\": 4.9, \"sepalWidth\": 2.4, \"petalLength\": 3.3, \"petalWidth\": 1.0, \"species\": \"versicolor\"}, {\"sepalLength\": 6.6, \"sepalWidth\": 2.9, \"petalLength\": 4.6, \"petalWidth\": 1.3, \"species\": \"versicolor\"}, {\"sepalLength\": 5.2, \"sepalWidth\": 2.7, \"petalLength\": 3.9, \"petalWidth\": 1.4, \"species\": \"versicolor\"}, {\"sepalLength\": 5.0, \"sepalWidth\": 2.0, \"petalLength\": 3.5, \"petalWidth\": 1.0, \"species\": \"versicolor\"}, {\"sepalLength\": 5.9, \"sepalWidth\": 3.0, \"petalLength\": 4.2, \"petalWidth\": 1.5, \"species\": \"versicolor\"}, {\"sepalLength\": 6.0, \"sepalWidth\": 2.2, \"petalLength\": 4.0, \"petalWidth\": 1.0, \"species\": \"versicolor\"}, {\"sepalLength\": 6.1, \"sepalWidth\": 2.9, \"petalLength\": 4.7, \"petalWidth\": 1.4, \"species\": \"versicolor\"}, {\"sepalLength\": 5.6, \"sepalWidth\": 2.9, \"petalLength\": 3.6, \"petalWidth\": 1.3, \"species\": \"versicolor\"}, {\"sepalLength\": 6.7, \"sepalWidth\": 3.1, \"petalLength\": 4.4, \"petalWidth\": 1.4, \"species\": \"versicolor\"}, {\"sepalLength\": 5.6, \"sepalWidth\": 3.0, \"petalLength\": 4.5, \"petalWidth\": 1.5, \"species\": \"versicolor\"}, {\"sepalLength\": 5.8, \"sepalWidth\": 2.7, \"petalLength\": 4.1, \"petalWidth\": 1.0, \"species\": \"versicolor\"}, {\"sepalLength\": 6.2, \"sepalWidth\": 2.2, \"petalLength\": 4.5, \"petalWidth\": 1.5, \"species\": \"versicolor\"}, {\"sepalLength\": 5.6, \"sepalWidth\": 2.5, \"petalLength\": 3.9, \"petalWidth\": 1.1, \"species\": \"versicolor\"}, {\"sepalLength\": 5.9, \"sepalWidth\": 3.2, \"petalLength\": 4.8, \"petalWidth\": 1.8, \"species\": \"versicolor\"}, {\"sepalLength\": 6.1, \"sepalWidth\": 2.8, \"petalLength\": 4.0, \"petalWidth\": 1.3, \"species\": \"versicolor\"}, {\"sepalLength\": 6.3, \"sepalWidth\": 2.5, \"petalLength\": 4.9, \"petalWidth\": 1.5, \"species\": \"versicolor\"}, {\"sepalLength\": 6.1, \"sepalWidth\": 2.8, \"petalLength\": 4.7, \"petalWidth\": 1.2, \"species\": \"versicolor\"}, {\"sepalLength\": 6.4, \"sepalWidth\": 2.9, \"petalLength\": 4.3, \"petalWidth\": 1.3, \"species\": \"versicolor\"}, {\"sepalLength\": 6.6, \"sepalWidth\": 3.0, \"petalLength\": 4.4, \"petalWidth\": 1.4, \"species\": \"versicolor\"}, {\"sepalLength\": 6.8, \"sepalWidth\": 2.8, \"petalLength\": 4.8, \"petalWidth\": 1.4, \"species\": \"versicolor\"}, {\"sepalLength\": 6.7, \"sepalWidth\": 3.0, \"petalLength\": 5.0, \"petalWidth\": 1.7000000000000002, \"species\": \"versicolor\"}, {\"sepalLength\": 6.0, \"sepalWidth\": 2.9, \"petalLength\": 4.5, \"petalWidth\": 1.5, \"species\": \"versicolor\"}, {\"sepalLength\": 5.7, \"sepalWidth\": 2.6, \"petalLength\": 3.5, \"petalWidth\": 1.0, \"species\": \"versicolor\"}, {\"sepalLength\": 5.5, \"sepalWidth\": 2.4, \"petalLength\": 3.8, \"petalWidth\": 1.1, \"species\": \"versicolor\"}, {\"sepalLength\": 5.5, \"sepalWidth\": 2.4, \"petalLength\": 3.7, \"petalWidth\": 1.0, \"species\": \"versicolor\"}, {\"sepalLength\": 5.8, \"sepalWidth\": 2.7, \"petalLength\": 3.9, \"petalWidth\": 1.2, \"species\": \"versicolor\"}, {\"sepalLength\": 6.0, \"sepalWidth\": 2.7, \"petalLength\": 5.1, \"petalWidth\": 1.6, \"species\": \"versicolor\"}, {\"sepalLength\": 5.4, \"sepalWidth\": 3.0, \"petalLength\": 4.5, \"petalWidth\": 1.5, \"species\": \"versicolor\"}, {\"sepalLength\": 6.0, \"sepalWidth\": 3.4, \"petalLength\": 4.5, \"petalWidth\": 1.6, \"species\": \"versicolor\"}, {\"sepalLength\": 6.7, \"sepalWidth\": 3.1, \"petalLength\": 4.7, \"petalWidth\": 1.5, \"species\": \"versicolor\"}, {\"sepalLength\": 6.3, \"sepalWidth\": 2.3, \"petalLength\": 4.4, \"petalWidth\": 1.3, \"species\": \"versicolor\"}, {\"sepalLength\": 5.6, \"sepalWidth\": 3.0, \"petalLength\": 4.1, \"petalWidth\": 1.3, \"species\": \"versicolor\"}, {\"sepalLength\": 5.5, \"sepalWidth\": 2.5, \"petalLength\": 4.0, \"petalWidth\": 1.3, \"species\": \"versicolor\"}, {\"sepalLength\": 5.5, \"sepalWidth\": 2.6, \"petalLength\": 4.4, \"petalWidth\": 1.2, \"species\": \"versicolor\"}, {\"sepalLength\": 6.1, \"sepalWidth\": 3.0, \"petalLength\": 4.6, \"petalWidth\": 1.4, \"species\": \"versicolor\"}, {\"sepalLength\": 5.8, \"sepalWidth\": 2.6, \"petalLength\": 4.0, \"petalWidth\": 1.2, \"species\": \"versicolor\"}, {\"sepalLength\": 5.0, \"sepalWidth\": 2.3, \"petalLength\": 3.3, \"petalWidth\": 1.0, \"species\": \"versicolor\"}, {\"sepalLength\": 5.6, \"sepalWidth\": 2.7, \"petalLength\": 4.2, \"petalWidth\": 1.3, \"species\": \"versicolor\"}, {\"sepalLength\": 5.7, \"sepalWidth\": 3.0, \"petalLength\": 4.2, \"petalWidth\": 1.2, \"species\": \"versicolor\"}, {\"sepalLength\": 5.7, \"sepalWidth\": 2.9, \"petalLength\": 4.2, \"petalWidth\": 1.3, \"species\": \"versicolor\"}, {\"sepalLength\": 6.2, \"sepalWidth\": 2.9, \"petalLength\": 4.3, \"petalWidth\": 1.3, \"species\": \"versicolor\"}, {\"sepalLength\": 5.1, \"sepalWidth\": 2.5, \"petalLength\": 3.0, \"petalWidth\": 1.1, \"species\": \"versicolor\"}, {\"sepalLength\": 5.7, \"sepalWidth\": 2.8, \"petalLength\": 4.1, \"petalWidth\": 1.3, \"species\": \"versicolor\"}, {\"sepalLength\": 6.3, \"sepalWidth\": 3.3, \"petalLength\": 6.0, \"petalWidth\": 2.5, \"species\": \"virginica\"}, {\"sepalLength\": 5.8, \"sepalWidth\": 2.7, \"petalLength\": 5.1, \"petalWidth\": 1.9, \"species\": \"virginica\"}, {\"sepalLength\": 7.1, \"sepalWidth\": 3.0, \"petalLength\": 5.9, \"petalWidth\": 2.1, \"species\": \"virginica\"}, {\"sepalLength\": 6.3, \"sepalWidth\": 2.9, \"petalLength\": 5.6, \"petalWidth\": 1.8, \"species\": \"virginica\"}, {\"sepalLength\": 6.5, \"sepalWidth\": 3.0, \"petalLength\": 5.8, \"petalWidth\": 2.2, \"species\": \"virginica\"}, {\"sepalLength\": 7.6, \"sepalWidth\": 3.0, \"petalLength\": 6.6, \"petalWidth\": 2.1, \"species\": \"virginica\"}, {\"sepalLength\": 4.9, \"sepalWidth\": 2.5, \"petalLength\": 4.5, \"petalWidth\": 1.7000000000000002, \"species\": \"virginica\"}, {\"sepalLength\": 7.3, \"sepalWidth\": 2.9, \"petalLength\": 6.3, \"petalWidth\": 1.8, \"species\": \"virginica\"}, {\"sepalLength\": 6.7, \"sepalWidth\": 2.5, \"petalLength\": 5.8, \"petalWidth\": 1.8, \"species\": \"virginica\"}, {\"sepalLength\": 7.2, \"sepalWidth\": 3.6, \"petalLength\": 6.1, \"petalWidth\": 2.5, \"species\": \"virginica\"}, {\"sepalLength\": 6.5, \"sepalWidth\": 3.2, \"petalLength\": 5.1, \"petalWidth\": 2.0, \"species\": \"virginica\"}, {\"sepalLength\": 6.4, \"sepalWidth\": 2.7, \"petalLength\": 5.3, \"petalWidth\": 1.9, \"species\": \"virginica\"}, {\"sepalLength\": 6.8, \"sepalWidth\": 3.0, \"petalLength\": 5.5, \"petalWidth\": 2.1, \"species\": \"virginica\"}, {\"sepalLength\": 5.7, \"sepalWidth\": 2.5, \"petalLength\": 5.0, \"petalWidth\": 2.0, \"species\": \"virginica\"}, {\"sepalLength\": 5.8, \"sepalWidth\": 2.8, \"petalLength\": 5.1, \"petalWidth\": 2.4, \"species\": \"virginica\"}, {\"sepalLength\": 6.4, \"sepalWidth\": 3.2, \"petalLength\": 5.3, \"petalWidth\": 2.3, \"species\": \"virginica\"}, {\"sepalLength\": 6.5, \"sepalWidth\": 3.0, \"petalLength\": 5.5, \"petalWidth\": 1.8, \"species\": \"virginica\"}, {\"sepalLength\": 7.7, \"sepalWidth\": 3.8, \"petalLength\": 6.7, \"petalWidth\": 2.2, \"species\": \"virginica\"}, {\"sepalLength\": 7.7, \"sepalWidth\": 2.6, \"petalLength\": 6.9, \"petalWidth\": 2.3, \"species\": \"virginica\"}, {\"sepalLength\": 6.0, \"sepalWidth\": 2.2, \"petalLength\": 5.0, \"petalWidth\": 1.5, \"species\": \"virginica\"}, {\"sepalLength\": 6.9, \"sepalWidth\": 3.2, \"petalLength\": 5.7, \"petalWidth\": 2.3, \"species\": \"virginica\"}, {\"sepalLength\": 5.6, \"sepalWidth\": 2.8, \"petalLength\": 4.9, \"petalWidth\": 2.0, \"species\": \"virginica\"}, {\"sepalLength\": 7.7, \"sepalWidth\": 2.8, \"petalLength\": 6.7, \"petalWidth\": 2.0, \"species\": \"virginica\"}, {\"sepalLength\": 6.3, \"sepalWidth\": 2.7, \"petalLength\": 4.9, \"petalWidth\": 1.8, \"species\": \"virginica\"}, {\"sepalLength\": 6.7, \"sepalWidth\": 3.3, \"petalLength\": 5.7, \"petalWidth\": 2.1, \"species\": \"virginica\"}, {\"sepalLength\": 7.2, \"sepalWidth\": 3.2, \"petalLength\": 6.0, \"petalWidth\": 1.8, \"species\": \"virginica\"}, {\"sepalLength\": 6.2, \"sepalWidth\": 2.8, \"petalLength\": 4.8, \"petalWidth\": 1.8, \"species\": \"virginica\"}, {\"sepalLength\": 6.1, \"sepalWidth\": 3.0, \"petalLength\": 4.9, \"petalWidth\": 1.8, \"species\": \"virginica\"}, {\"sepalLength\": 6.4, \"sepalWidth\": 2.8, \"petalLength\": 5.6, \"petalWidth\": 2.1, \"species\": \"virginica\"}, {\"sepalLength\": 7.2, \"sepalWidth\": 3.0, \"petalLength\": 5.8, \"petalWidth\": 1.6, \"species\": \"virginica\"}, {\"sepalLength\": 7.4, \"sepalWidth\": 2.8, \"petalLength\": 6.1, \"petalWidth\": 1.9, \"species\": \"virginica\"}, {\"sepalLength\": 7.9, \"sepalWidth\": 3.8, \"petalLength\": 6.4, \"petalWidth\": 2.0, \"species\": \"virginica\"}, {\"sepalLength\": 6.4, \"sepalWidth\": 2.8, \"petalLength\": 5.6, \"petalWidth\": 2.2, \"species\": \"virginica\"}, {\"sepalLength\": 6.3, \"sepalWidth\": 2.8, \"petalLength\": 5.1, \"petalWidth\": 1.5, \"species\": \"virginica\"}, {\"sepalLength\": 6.1, \"sepalWidth\": 2.6, \"petalLength\": 5.6, \"petalWidth\": 1.4, \"species\": \"virginica\"}, {\"sepalLength\": 7.7, \"sepalWidth\": 3.0, \"petalLength\": 6.1, \"petalWidth\": 2.3, \"species\": \"virginica\"}, {\"sepalLength\": 6.3, \"sepalWidth\": 3.4, \"petalLength\": 5.6, \"petalWidth\": 2.4, \"species\": \"virginica\"}, {\"sepalLength\": 6.4, \"sepalWidth\": 3.1, \"petalLength\": 5.5, \"petalWidth\": 1.8, \"species\": \"virginica\"}, {\"sepalLength\": 6.0, \"sepalWidth\": 3.0, \"petalLength\": 4.8, \"petalWidth\": 1.8, \"species\": \"virginica\"}, {\"sepalLength\": 6.9, \"sepalWidth\": 3.1, \"petalLength\": 5.4, \"petalWidth\": 2.1, \"species\": \"virginica\"}, {\"sepalLength\": 6.7, \"sepalWidth\": 3.1, \"petalLength\": 5.6, \"petalWidth\": 2.4, \"species\": \"virginica\"}, {\"sepalLength\": 6.9, \"sepalWidth\": 3.1, \"petalLength\": 5.1, \"petalWidth\": 2.3, \"species\": \"virginica\"}, {\"sepalLength\": 5.8, \"sepalWidth\": 2.7, \"petalLength\": 5.1, \"petalWidth\": 1.9, \"species\": \"virginica\"}, {\"sepalLength\": 6.8, \"sepalWidth\": 3.2, \"petalLength\": 5.9, \"petalWidth\": 2.3, \"species\": \"virginica\"}, {\"sepalLength\": 6.7, \"sepalWidth\": 3.3, \"petalLength\": 5.7, \"petalWidth\": 2.5, \"species\": \"virginica\"}, {\"sepalLength\": 6.7, \"sepalWidth\": 3.0, \"petalLength\": 5.2, \"petalWidth\": 2.3, \"species\": \"virginica\"}, {\"sepalLength\": 6.3, \"sepalWidth\": 2.5, \"petalLength\": 5.0, \"petalWidth\": 1.9, \"species\": \"virginica\"}, {\"sepalLength\": 6.5, \"sepalWidth\": 3.0, \"petalLength\": 5.2, \"petalWidth\": 2.0, \"species\": \"virginica\"}, {\"sepalLength\": 6.2, \"sepalWidth\": 3.4, \"petalLength\": 5.4, \"petalWidth\": 2.3, \"species\": \"virginica\"}, {\"sepalLength\": 5.9, \"sepalWidth\": 3.0, \"petalLength\": 5.1, \"petalWidth\": 1.8, \"species\": \"virginica\"}]}}, {\"mode\": \"vega-lite\"});\n",
              "</script>"
            ],
            "text/plain": [
              "alt.Chart(...)"
            ]
          },
          "metadata": {},
          "execution_count": 16
        }
      ],
      "source": [
        "alt.Chart(iris).mark_point().encode(\n",
        "    x='petalLength',\n",
        "    y='petalWidth'\n",
        ").interactive()"
      ]
    },
    {
      "cell_type": "markdown",
      "metadata": {
        "id": "pr0XibhBu27f"
      },
      "source": [
        "This lets you click and drag, as well as use your computer's scroll/zoom behavior to zoom in and out on the chart.\n",
        "\n",
        "We'll see other interactions later."
      ]
    },
    {
      "cell_type": "markdown",
      "metadata": {
        "id": "DtIW6pTju27f"
      },
      "source": [
        "## 4. A Third Dimension: Color"
      ]
    },
    {
      "cell_type": "markdown",
      "metadata": {
        "id": "1yA1UzyQu27f"
      },
      "source": [
        "A 2D plot allows us to encode two dimensions of the data. Let's look at using color to encode a third:"
      ]
    },
    {
      "cell_type": "code",
      "execution_count": 17,
      "metadata": {
        "colab": {
          "base_uri": "https://localhost:8080/",
          "height": 363
        },
        "id": "NBBYB5tVu27f",
        "outputId": "4d967ad7-cbdb-458e-d047-0d6782e9adb1"
      },
      "outputs": [
        {
          "output_type": "execute_result",
          "data": {
            "text/html": [
              "\n",
              "<div id=\"altair-viz-3980f968bb0b4ec1ac6aba55b13a2aed\"></div>\n",
              "<script type=\"text/javascript\">\n",
              "  var VEGA_DEBUG = (typeof VEGA_DEBUG == \"undefined\") ? {} : VEGA_DEBUG;\n",
              "  (function(spec, embedOpt){\n",
              "    let outputDiv = document.currentScript.previousElementSibling;\n",
              "    if (outputDiv.id !== \"altair-viz-3980f968bb0b4ec1ac6aba55b13a2aed\") {\n",
              "      outputDiv = document.getElementById(\"altair-viz-3980f968bb0b4ec1ac6aba55b13a2aed\");\n",
              "    }\n",
              "    const paths = {\n",
              "      \"vega\": \"https://cdn.jsdelivr.net/npm//vega@5?noext\",\n",
              "      \"vega-lib\": \"https://cdn.jsdelivr.net/npm//vega-lib?noext\",\n",
              "      \"vega-lite\": \"https://cdn.jsdelivr.net/npm//vega-lite@4.17.0?noext\",\n",
              "      \"vega-embed\": \"https://cdn.jsdelivr.net/npm//vega-embed@6?noext\",\n",
              "    };\n",
              "\n",
              "    function maybeLoadScript(lib, version) {\n",
              "      var key = `${lib.replace(\"-\", \"\")}_version`;\n",
              "      return (VEGA_DEBUG[key] == version) ?\n",
              "        Promise.resolve(paths[lib]) :\n",
              "        new Promise(function(resolve, reject) {\n",
              "          var s = document.createElement('script');\n",
              "          document.getElementsByTagName(\"head\")[0].appendChild(s);\n",
              "          s.async = true;\n",
              "          s.onload = () => {\n",
              "            VEGA_DEBUG[key] = version;\n",
              "            return resolve(paths[lib]);\n",
              "          };\n",
              "          s.onerror = () => reject(`Error loading script: ${paths[lib]}`);\n",
              "          s.src = paths[lib];\n",
              "        });\n",
              "    }\n",
              "\n",
              "    function showError(err) {\n",
              "      outputDiv.innerHTML = `<div class=\"error\" style=\"color:red;\">${err}</div>`;\n",
              "      throw err;\n",
              "    }\n",
              "\n",
              "    function displayChart(vegaEmbed) {\n",
              "      vegaEmbed(outputDiv, spec, embedOpt)\n",
              "        .catch(err => showError(`Javascript Error: ${err.message}<br>This usually means there's a typo in your chart specification. See the javascript console for the full traceback.`));\n",
              "    }\n",
              "\n",
              "    if(typeof define === \"function\" && define.amd) {\n",
              "      requirejs.config({paths});\n",
              "      require([\"vega-embed\"], displayChart, err => showError(`Error loading script: ${err.message}`));\n",
              "    } else {\n",
              "      maybeLoadScript(\"vega\", \"5\")\n",
              "        .then(() => maybeLoadScript(\"vega-lite\", \"4.17.0\"))\n",
              "        .then(() => maybeLoadScript(\"vega-embed\", \"6\"))\n",
              "        .catch(showError)\n",
              "        .then(() => displayChart(vegaEmbed));\n",
              "    }\n",
              "  })({\"config\": {\"view\": {\"continuousWidth\": 400, \"continuousHeight\": 300}}, \"data\": {\"name\": \"data-a264acbd6e539a8b3afc0cb5f240fb57\"}, \"mark\": \"point\", \"encoding\": {\"color\": {\"field\": \"species\", \"type\": \"nominal\"}, \"x\": {\"field\": \"petalLength\", \"type\": \"quantitative\"}, \"y\": {\"field\": \"petalWidth\", \"type\": \"quantitative\"}}, \"$schema\": \"https://vega.github.io/schema/vega-lite/v4.17.0.json\", \"datasets\": {\"data-a264acbd6e539a8b3afc0cb5f240fb57\": [{\"sepalLength\": 5.1, \"sepalWidth\": 3.5, \"petalLength\": 1.4, \"petalWidth\": 0.2, \"species\": \"setosa\"}, {\"sepalLength\": 4.9, \"sepalWidth\": 3.0, \"petalLength\": 1.4, \"petalWidth\": 0.2, \"species\": \"setosa\"}, {\"sepalLength\": 4.7, \"sepalWidth\": 3.2, \"petalLength\": 1.3, \"petalWidth\": 0.2, \"species\": \"setosa\"}, {\"sepalLength\": 4.6, \"sepalWidth\": 3.1, \"petalLength\": 1.5, \"petalWidth\": 0.2, \"species\": \"setosa\"}, {\"sepalLength\": 5.0, \"sepalWidth\": 3.6, \"petalLength\": 1.4, \"petalWidth\": 0.2, \"species\": \"setosa\"}, {\"sepalLength\": 5.4, \"sepalWidth\": 3.9, \"petalLength\": 1.7000000000000002, \"petalWidth\": 0.4, \"species\": \"setosa\"}, {\"sepalLength\": 4.6, \"sepalWidth\": 3.4, \"petalLength\": 1.4, \"petalWidth\": 0.30000000000000004, \"species\": \"setosa\"}, {\"sepalLength\": 5.0, \"sepalWidth\": 3.4, \"petalLength\": 1.5, \"petalWidth\": 0.2, \"species\": \"setosa\"}, {\"sepalLength\": 4.4, \"sepalWidth\": 2.9, \"petalLength\": 1.4, \"petalWidth\": 0.2, \"species\": \"setosa\"}, {\"sepalLength\": 4.9, \"sepalWidth\": 3.1, \"petalLength\": 1.5, \"petalWidth\": 0.1, \"species\": \"setosa\"}, {\"sepalLength\": 5.4, \"sepalWidth\": 3.7, \"petalLength\": 1.5, \"petalWidth\": 0.2, \"species\": \"setosa\"}, {\"sepalLength\": 4.8, \"sepalWidth\": 3.4, \"petalLength\": 1.6, \"petalWidth\": 0.2, \"species\": \"setosa\"}, {\"sepalLength\": 4.8, \"sepalWidth\": 3.0, \"petalLength\": 1.4, \"petalWidth\": 0.1, \"species\": \"setosa\"}, {\"sepalLength\": 4.3, \"sepalWidth\": 3.0, \"petalLength\": 1.1, \"petalWidth\": 0.1, \"species\": \"setosa\"}, {\"sepalLength\": 5.8, \"sepalWidth\": 4.0, \"petalLength\": 1.2, \"petalWidth\": 0.2, \"species\": \"setosa\"}, {\"sepalLength\": 5.7, \"sepalWidth\": 4.4, \"petalLength\": 1.5, \"petalWidth\": 0.4, \"species\": \"setosa\"}, {\"sepalLength\": 5.4, \"sepalWidth\": 3.9, \"petalLength\": 1.3, \"petalWidth\": 0.4, \"species\": \"setosa\"}, {\"sepalLength\": 5.1, \"sepalWidth\": 3.5, \"petalLength\": 1.4, \"petalWidth\": 0.30000000000000004, \"species\": \"setosa\"}, {\"sepalLength\": 5.7, \"sepalWidth\": 3.8, \"petalLength\": 1.7000000000000002, \"petalWidth\": 0.30000000000000004, \"species\": \"setosa\"}, {\"sepalLength\": 5.1, \"sepalWidth\": 3.8, \"petalLength\": 1.5, \"petalWidth\": 0.30000000000000004, \"species\": \"setosa\"}, {\"sepalLength\": 5.4, \"sepalWidth\": 3.4, \"petalLength\": 1.7000000000000002, \"petalWidth\": 0.2, \"species\": \"setosa\"}, {\"sepalLength\": 5.1, \"sepalWidth\": 3.7, \"petalLength\": 1.5, \"petalWidth\": 0.4, \"species\": \"setosa\"}, {\"sepalLength\": 4.6, \"sepalWidth\": 3.6, \"petalLength\": 1.0, \"petalWidth\": 0.2, \"species\": \"setosa\"}, {\"sepalLength\": 5.1, \"sepalWidth\": 3.3, \"petalLength\": 1.7000000000000002, \"petalWidth\": 0.5, \"species\": \"setosa\"}, {\"sepalLength\": 4.8, \"sepalWidth\": 3.4, \"petalLength\": 1.9, \"petalWidth\": 0.2, \"species\": \"setosa\"}, {\"sepalLength\": 5.0, \"sepalWidth\": 3.0, \"petalLength\": 1.6, \"petalWidth\": 0.2, \"species\": \"setosa\"}, {\"sepalLength\": 5.0, \"sepalWidth\": 3.4, \"petalLength\": 1.6, \"petalWidth\": 0.4, \"species\": \"setosa\"}, {\"sepalLength\": 5.2, \"sepalWidth\": 3.5, \"petalLength\": 1.5, \"petalWidth\": 0.2, \"species\": \"setosa\"}, {\"sepalLength\": 5.2, \"sepalWidth\": 3.4, \"petalLength\": 1.4, \"petalWidth\": 0.2, \"species\": \"setosa\"}, {\"sepalLength\": 4.7, \"sepalWidth\": 3.2, \"petalLength\": 1.6, \"petalWidth\": 0.2, \"species\": \"setosa\"}, {\"sepalLength\": 4.8, \"sepalWidth\": 3.1, \"petalLength\": 1.6, \"petalWidth\": 0.2, \"species\": \"setosa\"}, {\"sepalLength\": 5.4, \"sepalWidth\": 3.4, \"petalLength\": 1.5, \"petalWidth\": 0.4, \"species\": \"setosa\"}, {\"sepalLength\": 5.2, \"sepalWidth\": 4.1, \"petalLength\": 1.5, \"petalWidth\": 0.1, \"species\": \"setosa\"}, {\"sepalLength\": 5.5, \"sepalWidth\": 4.2, \"petalLength\": 1.4, \"petalWidth\": 0.2, \"species\": \"setosa\"}, {\"sepalLength\": 4.9, \"sepalWidth\": 3.1, \"petalLength\": 1.5, \"petalWidth\": 0.2, \"species\": \"setosa\"}, {\"sepalLength\": 5.0, \"sepalWidth\": 3.2, \"petalLength\": 1.2, \"petalWidth\": 0.2, \"species\": \"setosa\"}, {\"sepalLength\": 5.5, \"sepalWidth\": 3.5, \"petalLength\": 1.3, \"petalWidth\": 0.2, \"species\": \"setosa\"}, {\"sepalLength\": 4.9, \"sepalWidth\": 3.6, \"petalLength\": 1.4, \"petalWidth\": 0.1, \"species\": \"setosa\"}, {\"sepalLength\": 4.4, \"sepalWidth\": 3.0, \"petalLength\": 1.3, \"petalWidth\": 0.2, \"species\": \"setosa\"}, {\"sepalLength\": 5.1, \"sepalWidth\": 3.4, \"petalLength\": 1.5, \"petalWidth\": 0.2, \"species\": \"setosa\"}, {\"sepalLength\": 5.0, \"sepalWidth\": 3.5, \"petalLength\": 1.3, \"petalWidth\": 0.30000000000000004, \"species\": \"setosa\"}, {\"sepalLength\": 4.5, \"sepalWidth\": 2.3, \"petalLength\": 1.3, \"petalWidth\": 0.30000000000000004, \"species\": \"setosa\"}, {\"sepalLength\": 4.4, \"sepalWidth\": 3.2, \"petalLength\": 1.3, \"petalWidth\": 0.2, \"species\": \"setosa\"}, {\"sepalLength\": 5.0, \"sepalWidth\": 3.5, \"petalLength\": 1.6, \"petalWidth\": 0.6000000000000001, \"species\": \"setosa\"}, {\"sepalLength\": 5.1, \"sepalWidth\": 3.8, \"petalLength\": 1.9, \"petalWidth\": 0.4, \"species\": \"setosa\"}, {\"sepalLength\": 4.8, \"sepalWidth\": 3.0, \"petalLength\": 1.4, \"petalWidth\": 0.30000000000000004, \"species\": \"setosa\"}, {\"sepalLength\": 5.1, \"sepalWidth\": 3.8, \"petalLength\": 1.6, \"petalWidth\": 0.2, \"species\": \"setosa\"}, {\"sepalLength\": 4.6, \"sepalWidth\": 3.2, \"petalLength\": 1.4, \"petalWidth\": 0.2, \"species\": \"setosa\"}, {\"sepalLength\": 5.3, \"sepalWidth\": 3.7, \"petalLength\": 1.5, \"petalWidth\": 0.2, \"species\": \"setosa\"}, {\"sepalLength\": 5.0, \"sepalWidth\": 3.3, \"petalLength\": 1.4, \"petalWidth\": 0.2, \"species\": \"setosa\"}, {\"sepalLength\": 7.0, \"sepalWidth\": 3.2, \"petalLength\": 4.7, \"petalWidth\": 1.4, \"species\": \"versicolor\"}, {\"sepalLength\": 6.4, \"sepalWidth\": 3.2, \"petalLength\": 4.5, \"petalWidth\": 1.5, \"species\": \"versicolor\"}, {\"sepalLength\": 6.9, \"sepalWidth\": 3.1, \"petalLength\": 4.9, \"petalWidth\": 1.5, \"species\": \"versicolor\"}, {\"sepalLength\": 5.5, \"sepalWidth\": 2.3, \"petalLength\": 4.0, \"petalWidth\": 1.3, \"species\": \"versicolor\"}, {\"sepalLength\": 6.5, \"sepalWidth\": 2.8, \"petalLength\": 4.6, \"petalWidth\": 1.5, \"species\": \"versicolor\"}, {\"sepalLength\": 5.7, \"sepalWidth\": 2.8, \"petalLength\": 4.5, \"petalWidth\": 1.3, \"species\": \"versicolor\"}, {\"sepalLength\": 6.3, \"sepalWidth\": 3.3, \"petalLength\": 4.7, \"petalWidth\": 1.6, \"species\": \"versicolor\"}, {\"sepalLength\": 4.9, \"sepalWidth\": 2.4, \"petalLength\": 3.3, \"petalWidth\": 1.0, \"species\": \"versicolor\"}, {\"sepalLength\": 6.6, \"sepalWidth\": 2.9, \"petalLength\": 4.6, \"petalWidth\": 1.3, \"species\": \"versicolor\"}, {\"sepalLength\": 5.2, \"sepalWidth\": 2.7, \"petalLength\": 3.9, \"petalWidth\": 1.4, \"species\": \"versicolor\"}, {\"sepalLength\": 5.0, \"sepalWidth\": 2.0, \"petalLength\": 3.5, \"petalWidth\": 1.0, \"species\": \"versicolor\"}, {\"sepalLength\": 5.9, \"sepalWidth\": 3.0, \"petalLength\": 4.2, \"petalWidth\": 1.5, \"species\": \"versicolor\"}, {\"sepalLength\": 6.0, \"sepalWidth\": 2.2, \"petalLength\": 4.0, \"petalWidth\": 1.0, \"species\": \"versicolor\"}, {\"sepalLength\": 6.1, \"sepalWidth\": 2.9, \"petalLength\": 4.7, \"petalWidth\": 1.4, \"species\": \"versicolor\"}, {\"sepalLength\": 5.6, \"sepalWidth\": 2.9, \"petalLength\": 3.6, \"petalWidth\": 1.3, \"species\": \"versicolor\"}, {\"sepalLength\": 6.7, \"sepalWidth\": 3.1, \"petalLength\": 4.4, \"petalWidth\": 1.4, \"species\": \"versicolor\"}, {\"sepalLength\": 5.6, \"sepalWidth\": 3.0, \"petalLength\": 4.5, \"petalWidth\": 1.5, \"species\": \"versicolor\"}, {\"sepalLength\": 5.8, \"sepalWidth\": 2.7, \"petalLength\": 4.1, \"petalWidth\": 1.0, \"species\": \"versicolor\"}, {\"sepalLength\": 6.2, \"sepalWidth\": 2.2, \"petalLength\": 4.5, \"petalWidth\": 1.5, \"species\": \"versicolor\"}, {\"sepalLength\": 5.6, \"sepalWidth\": 2.5, \"petalLength\": 3.9, \"petalWidth\": 1.1, \"species\": \"versicolor\"}, {\"sepalLength\": 5.9, \"sepalWidth\": 3.2, \"petalLength\": 4.8, \"petalWidth\": 1.8, \"species\": \"versicolor\"}, {\"sepalLength\": 6.1, \"sepalWidth\": 2.8, \"petalLength\": 4.0, \"petalWidth\": 1.3, \"species\": \"versicolor\"}, {\"sepalLength\": 6.3, \"sepalWidth\": 2.5, \"petalLength\": 4.9, \"petalWidth\": 1.5, \"species\": \"versicolor\"}, {\"sepalLength\": 6.1, \"sepalWidth\": 2.8, \"petalLength\": 4.7, \"petalWidth\": 1.2, \"species\": \"versicolor\"}, {\"sepalLength\": 6.4, \"sepalWidth\": 2.9, \"petalLength\": 4.3, \"petalWidth\": 1.3, \"species\": \"versicolor\"}, {\"sepalLength\": 6.6, \"sepalWidth\": 3.0, \"petalLength\": 4.4, \"petalWidth\": 1.4, \"species\": \"versicolor\"}, {\"sepalLength\": 6.8, \"sepalWidth\": 2.8, \"petalLength\": 4.8, \"petalWidth\": 1.4, \"species\": \"versicolor\"}, {\"sepalLength\": 6.7, \"sepalWidth\": 3.0, \"petalLength\": 5.0, \"petalWidth\": 1.7000000000000002, \"species\": \"versicolor\"}, {\"sepalLength\": 6.0, \"sepalWidth\": 2.9, \"petalLength\": 4.5, \"petalWidth\": 1.5, \"species\": \"versicolor\"}, {\"sepalLength\": 5.7, \"sepalWidth\": 2.6, \"petalLength\": 3.5, \"petalWidth\": 1.0, \"species\": \"versicolor\"}, {\"sepalLength\": 5.5, \"sepalWidth\": 2.4, \"petalLength\": 3.8, \"petalWidth\": 1.1, \"species\": \"versicolor\"}, {\"sepalLength\": 5.5, \"sepalWidth\": 2.4, \"petalLength\": 3.7, \"petalWidth\": 1.0, \"species\": \"versicolor\"}, {\"sepalLength\": 5.8, \"sepalWidth\": 2.7, \"petalLength\": 3.9, \"petalWidth\": 1.2, \"species\": \"versicolor\"}, {\"sepalLength\": 6.0, \"sepalWidth\": 2.7, \"petalLength\": 5.1, \"petalWidth\": 1.6, \"species\": \"versicolor\"}, {\"sepalLength\": 5.4, \"sepalWidth\": 3.0, \"petalLength\": 4.5, \"petalWidth\": 1.5, \"species\": \"versicolor\"}, {\"sepalLength\": 6.0, \"sepalWidth\": 3.4, \"petalLength\": 4.5, \"petalWidth\": 1.6, \"species\": \"versicolor\"}, {\"sepalLength\": 6.7, \"sepalWidth\": 3.1, \"petalLength\": 4.7, \"petalWidth\": 1.5, \"species\": \"versicolor\"}, {\"sepalLength\": 6.3, \"sepalWidth\": 2.3, \"petalLength\": 4.4, \"petalWidth\": 1.3, \"species\": \"versicolor\"}, {\"sepalLength\": 5.6, \"sepalWidth\": 3.0, \"petalLength\": 4.1, \"petalWidth\": 1.3, \"species\": \"versicolor\"}, {\"sepalLength\": 5.5, \"sepalWidth\": 2.5, \"petalLength\": 4.0, \"petalWidth\": 1.3, \"species\": \"versicolor\"}, {\"sepalLength\": 5.5, \"sepalWidth\": 2.6, \"petalLength\": 4.4, \"petalWidth\": 1.2, \"species\": \"versicolor\"}, {\"sepalLength\": 6.1, \"sepalWidth\": 3.0, \"petalLength\": 4.6, \"petalWidth\": 1.4, \"species\": \"versicolor\"}, {\"sepalLength\": 5.8, \"sepalWidth\": 2.6, \"petalLength\": 4.0, \"petalWidth\": 1.2, \"species\": \"versicolor\"}, {\"sepalLength\": 5.0, \"sepalWidth\": 2.3, \"petalLength\": 3.3, \"petalWidth\": 1.0, \"species\": \"versicolor\"}, {\"sepalLength\": 5.6, \"sepalWidth\": 2.7, \"petalLength\": 4.2, \"petalWidth\": 1.3, \"species\": \"versicolor\"}, {\"sepalLength\": 5.7, \"sepalWidth\": 3.0, \"petalLength\": 4.2, \"petalWidth\": 1.2, \"species\": \"versicolor\"}, {\"sepalLength\": 5.7, \"sepalWidth\": 2.9, \"petalLength\": 4.2, \"petalWidth\": 1.3, \"species\": \"versicolor\"}, {\"sepalLength\": 6.2, \"sepalWidth\": 2.9, \"petalLength\": 4.3, \"petalWidth\": 1.3, \"species\": \"versicolor\"}, {\"sepalLength\": 5.1, \"sepalWidth\": 2.5, \"petalLength\": 3.0, \"petalWidth\": 1.1, \"species\": \"versicolor\"}, {\"sepalLength\": 5.7, \"sepalWidth\": 2.8, \"petalLength\": 4.1, \"petalWidth\": 1.3, \"species\": \"versicolor\"}, {\"sepalLength\": 6.3, \"sepalWidth\": 3.3, \"petalLength\": 6.0, \"petalWidth\": 2.5, \"species\": \"virginica\"}, {\"sepalLength\": 5.8, \"sepalWidth\": 2.7, \"petalLength\": 5.1, \"petalWidth\": 1.9, \"species\": \"virginica\"}, {\"sepalLength\": 7.1, \"sepalWidth\": 3.0, \"petalLength\": 5.9, \"petalWidth\": 2.1, \"species\": \"virginica\"}, {\"sepalLength\": 6.3, \"sepalWidth\": 2.9, \"petalLength\": 5.6, \"petalWidth\": 1.8, \"species\": \"virginica\"}, {\"sepalLength\": 6.5, \"sepalWidth\": 3.0, \"petalLength\": 5.8, \"petalWidth\": 2.2, \"species\": \"virginica\"}, {\"sepalLength\": 7.6, \"sepalWidth\": 3.0, \"petalLength\": 6.6, \"petalWidth\": 2.1, \"species\": \"virginica\"}, {\"sepalLength\": 4.9, \"sepalWidth\": 2.5, \"petalLength\": 4.5, \"petalWidth\": 1.7000000000000002, \"species\": \"virginica\"}, {\"sepalLength\": 7.3, \"sepalWidth\": 2.9, \"petalLength\": 6.3, \"petalWidth\": 1.8, \"species\": \"virginica\"}, {\"sepalLength\": 6.7, \"sepalWidth\": 2.5, \"petalLength\": 5.8, \"petalWidth\": 1.8, \"species\": \"virginica\"}, {\"sepalLength\": 7.2, \"sepalWidth\": 3.6, \"petalLength\": 6.1, \"petalWidth\": 2.5, \"species\": \"virginica\"}, {\"sepalLength\": 6.5, \"sepalWidth\": 3.2, \"petalLength\": 5.1, \"petalWidth\": 2.0, \"species\": \"virginica\"}, {\"sepalLength\": 6.4, \"sepalWidth\": 2.7, \"petalLength\": 5.3, \"petalWidth\": 1.9, \"species\": \"virginica\"}, {\"sepalLength\": 6.8, \"sepalWidth\": 3.0, \"petalLength\": 5.5, \"petalWidth\": 2.1, \"species\": \"virginica\"}, {\"sepalLength\": 5.7, \"sepalWidth\": 2.5, \"petalLength\": 5.0, \"petalWidth\": 2.0, \"species\": \"virginica\"}, {\"sepalLength\": 5.8, \"sepalWidth\": 2.8, \"petalLength\": 5.1, \"petalWidth\": 2.4, \"species\": \"virginica\"}, {\"sepalLength\": 6.4, \"sepalWidth\": 3.2, \"petalLength\": 5.3, \"petalWidth\": 2.3, \"species\": \"virginica\"}, {\"sepalLength\": 6.5, \"sepalWidth\": 3.0, \"petalLength\": 5.5, \"petalWidth\": 1.8, \"species\": \"virginica\"}, {\"sepalLength\": 7.7, \"sepalWidth\": 3.8, \"petalLength\": 6.7, \"petalWidth\": 2.2, \"species\": \"virginica\"}, {\"sepalLength\": 7.7, \"sepalWidth\": 2.6, \"petalLength\": 6.9, \"petalWidth\": 2.3, \"species\": \"virginica\"}, {\"sepalLength\": 6.0, \"sepalWidth\": 2.2, \"petalLength\": 5.0, \"petalWidth\": 1.5, \"species\": \"virginica\"}, {\"sepalLength\": 6.9, \"sepalWidth\": 3.2, \"petalLength\": 5.7, \"petalWidth\": 2.3, \"species\": \"virginica\"}, {\"sepalLength\": 5.6, \"sepalWidth\": 2.8, \"petalLength\": 4.9, \"petalWidth\": 2.0, \"species\": \"virginica\"}, {\"sepalLength\": 7.7, \"sepalWidth\": 2.8, \"petalLength\": 6.7, \"petalWidth\": 2.0, \"species\": \"virginica\"}, {\"sepalLength\": 6.3, \"sepalWidth\": 2.7, \"petalLength\": 4.9, \"petalWidth\": 1.8, \"species\": \"virginica\"}, {\"sepalLength\": 6.7, \"sepalWidth\": 3.3, \"petalLength\": 5.7, \"petalWidth\": 2.1, \"species\": \"virginica\"}, {\"sepalLength\": 7.2, \"sepalWidth\": 3.2, \"petalLength\": 6.0, \"petalWidth\": 1.8, \"species\": \"virginica\"}, {\"sepalLength\": 6.2, \"sepalWidth\": 2.8, \"petalLength\": 4.8, \"petalWidth\": 1.8, \"species\": \"virginica\"}, {\"sepalLength\": 6.1, \"sepalWidth\": 3.0, \"petalLength\": 4.9, \"petalWidth\": 1.8, \"species\": \"virginica\"}, {\"sepalLength\": 6.4, \"sepalWidth\": 2.8, \"petalLength\": 5.6, \"petalWidth\": 2.1, \"species\": \"virginica\"}, {\"sepalLength\": 7.2, \"sepalWidth\": 3.0, \"petalLength\": 5.8, \"petalWidth\": 1.6, \"species\": \"virginica\"}, {\"sepalLength\": 7.4, \"sepalWidth\": 2.8, \"petalLength\": 6.1, \"petalWidth\": 1.9, \"species\": \"virginica\"}, {\"sepalLength\": 7.9, \"sepalWidth\": 3.8, \"petalLength\": 6.4, \"petalWidth\": 2.0, \"species\": \"virginica\"}, {\"sepalLength\": 6.4, \"sepalWidth\": 2.8, \"petalLength\": 5.6, \"petalWidth\": 2.2, \"species\": \"virginica\"}, {\"sepalLength\": 6.3, \"sepalWidth\": 2.8, \"petalLength\": 5.1, \"petalWidth\": 1.5, \"species\": \"virginica\"}, {\"sepalLength\": 6.1, \"sepalWidth\": 2.6, \"petalLength\": 5.6, \"petalWidth\": 1.4, \"species\": \"virginica\"}, {\"sepalLength\": 7.7, \"sepalWidth\": 3.0, \"petalLength\": 6.1, \"petalWidth\": 2.3, \"species\": \"virginica\"}, {\"sepalLength\": 6.3, \"sepalWidth\": 3.4, \"petalLength\": 5.6, \"petalWidth\": 2.4, \"species\": \"virginica\"}, {\"sepalLength\": 6.4, \"sepalWidth\": 3.1, \"petalLength\": 5.5, \"petalWidth\": 1.8, \"species\": \"virginica\"}, {\"sepalLength\": 6.0, \"sepalWidth\": 3.0, \"petalLength\": 4.8, \"petalWidth\": 1.8, \"species\": \"virginica\"}, {\"sepalLength\": 6.9, \"sepalWidth\": 3.1, \"petalLength\": 5.4, \"petalWidth\": 2.1, \"species\": \"virginica\"}, {\"sepalLength\": 6.7, \"sepalWidth\": 3.1, \"petalLength\": 5.6, \"petalWidth\": 2.4, \"species\": \"virginica\"}, {\"sepalLength\": 6.9, \"sepalWidth\": 3.1, \"petalLength\": 5.1, \"petalWidth\": 2.3, \"species\": \"virginica\"}, {\"sepalLength\": 5.8, \"sepalWidth\": 2.7, \"petalLength\": 5.1, \"petalWidth\": 1.9, \"species\": \"virginica\"}, {\"sepalLength\": 6.8, \"sepalWidth\": 3.2, \"petalLength\": 5.9, \"petalWidth\": 2.3, \"species\": \"virginica\"}, {\"sepalLength\": 6.7, \"sepalWidth\": 3.3, \"petalLength\": 5.7, \"petalWidth\": 2.5, \"species\": \"virginica\"}, {\"sepalLength\": 6.7, \"sepalWidth\": 3.0, \"petalLength\": 5.2, \"petalWidth\": 2.3, \"species\": \"virginica\"}, {\"sepalLength\": 6.3, \"sepalWidth\": 2.5, \"petalLength\": 5.0, \"petalWidth\": 1.9, \"species\": \"virginica\"}, {\"sepalLength\": 6.5, \"sepalWidth\": 3.0, \"petalLength\": 5.2, \"petalWidth\": 2.0, \"species\": \"virginica\"}, {\"sepalLength\": 6.2, \"sepalWidth\": 3.4, \"petalLength\": 5.4, \"petalWidth\": 2.3, \"species\": \"virginica\"}, {\"sepalLength\": 5.9, \"sepalWidth\": 3.0, \"petalLength\": 5.1, \"petalWidth\": 1.8, \"species\": \"virginica\"}]}}, {\"mode\": \"vega-lite\"});\n",
              "</script>"
            ],
            "text/plain": [
              "alt.Chart(...)"
            ]
          },
          "metadata": {},
          "execution_count": 17
        }
      ],
      "source": [
        "alt.Chart(iris).mark_point().encode(\n",
        "    x='petalLength',\n",
        "    y='petalWidth',\n",
        "    color='species'\n",
        ")"
      ]
    },
    {
      "cell_type": "markdown",
      "metadata": {
        "id": "5w8S2vOYu27f"
      },
      "source": [
        "Notice that when we use a categorical value for color, it chooses an appropriate color map for categorical data.\n",
        "\n",
        "Let's see what happens when we use a continuous color value:"
      ]
    },
    {
      "cell_type": "code",
      "execution_count": 18,
      "metadata": {
        "colab": {
          "base_uri": "https://localhost:8080/",
          "height": 363
        },
        "id": "u-tlt4L5u27g",
        "outputId": "04d351ef-5664-41ca-8b90-54e89866a19e"
      },
      "outputs": [
        {
          "output_type": "execute_result",
          "data": {
            "text/html": [
              "\n",
              "<div id=\"altair-viz-73a4e7608ef2400499dcbe4c929ce9cd\"></div>\n",
              "<script type=\"text/javascript\">\n",
              "  var VEGA_DEBUG = (typeof VEGA_DEBUG == \"undefined\") ? {} : VEGA_DEBUG;\n",
              "  (function(spec, embedOpt){\n",
              "    let outputDiv = document.currentScript.previousElementSibling;\n",
              "    if (outputDiv.id !== \"altair-viz-73a4e7608ef2400499dcbe4c929ce9cd\") {\n",
              "      outputDiv = document.getElementById(\"altair-viz-73a4e7608ef2400499dcbe4c929ce9cd\");\n",
              "    }\n",
              "    const paths = {\n",
              "      \"vega\": \"https://cdn.jsdelivr.net/npm//vega@5?noext\",\n",
              "      \"vega-lib\": \"https://cdn.jsdelivr.net/npm//vega-lib?noext\",\n",
              "      \"vega-lite\": \"https://cdn.jsdelivr.net/npm//vega-lite@4.17.0?noext\",\n",
              "      \"vega-embed\": \"https://cdn.jsdelivr.net/npm//vega-embed@6?noext\",\n",
              "    };\n",
              "\n",
              "    function maybeLoadScript(lib, version) {\n",
              "      var key = `${lib.replace(\"-\", \"\")}_version`;\n",
              "      return (VEGA_DEBUG[key] == version) ?\n",
              "        Promise.resolve(paths[lib]) :\n",
              "        new Promise(function(resolve, reject) {\n",
              "          var s = document.createElement('script');\n",
              "          document.getElementsByTagName(\"head\")[0].appendChild(s);\n",
              "          s.async = true;\n",
              "          s.onload = () => {\n",
              "            VEGA_DEBUG[key] = version;\n",
              "            return resolve(paths[lib]);\n",
              "          };\n",
              "          s.onerror = () => reject(`Error loading script: ${paths[lib]}`);\n",
              "          s.src = paths[lib];\n",
              "        });\n",
              "    }\n",
              "\n",
              "    function showError(err) {\n",
              "      outputDiv.innerHTML = `<div class=\"error\" style=\"color:red;\">${err}</div>`;\n",
              "      throw err;\n",
              "    }\n",
              "\n",
              "    function displayChart(vegaEmbed) {\n",
              "      vegaEmbed(outputDiv, spec, embedOpt)\n",
              "        .catch(err => showError(`Javascript Error: ${err.message}<br>This usually means there's a typo in your chart specification. See the javascript console for the full traceback.`));\n",
              "    }\n",
              "\n",
              "    if(typeof define === \"function\" && define.amd) {\n",
              "      requirejs.config({paths});\n",
              "      require([\"vega-embed\"], displayChart, err => showError(`Error loading script: ${err.message}`));\n",
              "    } else {\n",
              "      maybeLoadScript(\"vega\", \"5\")\n",
              "        .then(() => maybeLoadScript(\"vega-lite\", \"4.17.0\"))\n",
              "        .then(() => maybeLoadScript(\"vega-embed\", \"6\"))\n",
              "        .catch(showError)\n",
              "        .then(() => displayChart(vegaEmbed));\n",
              "    }\n",
              "  })({\"config\": {\"view\": {\"continuousWidth\": 400, \"continuousHeight\": 300}}, \"data\": {\"name\": \"data-a264acbd6e539a8b3afc0cb5f240fb57\"}, \"mark\": \"point\", \"encoding\": {\"color\": {\"field\": \"sepalLength\", \"type\": \"quantitative\"}, \"x\": {\"field\": \"petalLength\", \"type\": \"quantitative\"}, \"y\": {\"field\": \"petalWidth\", \"type\": \"quantitative\"}}, \"$schema\": \"https://vega.github.io/schema/vega-lite/v4.17.0.json\", \"datasets\": {\"data-a264acbd6e539a8b3afc0cb5f240fb57\": [{\"sepalLength\": 5.1, \"sepalWidth\": 3.5, \"petalLength\": 1.4, \"petalWidth\": 0.2, \"species\": \"setosa\"}, {\"sepalLength\": 4.9, \"sepalWidth\": 3.0, \"petalLength\": 1.4, \"petalWidth\": 0.2, \"species\": \"setosa\"}, {\"sepalLength\": 4.7, \"sepalWidth\": 3.2, \"petalLength\": 1.3, \"petalWidth\": 0.2, \"species\": \"setosa\"}, {\"sepalLength\": 4.6, \"sepalWidth\": 3.1, \"petalLength\": 1.5, \"petalWidth\": 0.2, \"species\": \"setosa\"}, {\"sepalLength\": 5.0, \"sepalWidth\": 3.6, \"petalLength\": 1.4, \"petalWidth\": 0.2, \"species\": \"setosa\"}, {\"sepalLength\": 5.4, \"sepalWidth\": 3.9, \"petalLength\": 1.7000000000000002, \"petalWidth\": 0.4, \"species\": \"setosa\"}, {\"sepalLength\": 4.6, \"sepalWidth\": 3.4, \"petalLength\": 1.4, \"petalWidth\": 0.30000000000000004, \"species\": \"setosa\"}, {\"sepalLength\": 5.0, \"sepalWidth\": 3.4, \"petalLength\": 1.5, \"petalWidth\": 0.2, \"species\": \"setosa\"}, {\"sepalLength\": 4.4, \"sepalWidth\": 2.9, \"petalLength\": 1.4, \"petalWidth\": 0.2, \"species\": \"setosa\"}, {\"sepalLength\": 4.9, \"sepalWidth\": 3.1, \"petalLength\": 1.5, \"petalWidth\": 0.1, \"species\": \"setosa\"}, {\"sepalLength\": 5.4, \"sepalWidth\": 3.7, \"petalLength\": 1.5, \"petalWidth\": 0.2, \"species\": \"setosa\"}, {\"sepalLength\": 4.8, \"sepalWidth\": 3.4, \"petalLength\": 1.6, \"petalWidth\": 0.2, \"species\": \"setosa\"}, {\"sepalLength\": 4.8, \"sepalWidth\": 3.0, \"petalLength\": 1.4, \"petalWidth\": 0.1, \"species\": \"setosa\"}, {\"sepalLength\": 4.3, \"sepalWidth\": 3.0, \"petalLength\": 1.1, \"petalWidth\": 0.1, \"species\": \"setosa\"}, {\"sepalLength\": 5.8, \"sepalWidth\": 4.0, \"petalLength\": 1.2, \"petalWidth\": 0.2, \"species\": \"setosa\"}, {\"sepalLength\": 5.7, \"sepalWidth\": 4.4, \"petalLength\": 1.5, \"petalWidth\": 0.4, \"species\": \"setosa\"}, {\"sepalLength\": 5.4, \"sepalWidth\": 3.9, \"petalLength\": 1.3, \"petalWidth\": 0.4, \"species\": \"setosa\"}, {\"sepalLength\": 5.1, \"sepalWidth\": 3.5, \"petalLength\": 1.4, \"petalWidth\": 0.30000000000000004, \"species\": \"setosa\"}, {\"sepalLength\": 5.7, \"sepalWidth\": 3.8, \"petalLength\": 1.7000000000000002, \"petalWidth\": 0.30000000000000004, \"species\": \"setosa\"}, {\"sepalLength\": 5.1, \"sepalWidth\": 3.8, \"petalLength\": 1.5, \"petalWidth\": 0.30000000000000004, \"species\": \"setosa\"}, {\"sepalLength\": 5.4, \"sepalWidth\": 3.4, \"petalLength\": 1.7000000000000002, \"petalWidth\": 0.2, \"species\": \"setosa\"}, {\"sepalLength\": 5.1, \"sepalWidth\": 3.7, \"petalLength\": 1.5, \"petalWidth\": 0.4, \"species\": \"setosa\"}, {\"sepalLength\": 4.6, \"sepalWidth\": 3.6, \"petalLength\": 1.0, \"petalWidth\": 0.2, \"species\": \"setosa\"}, {\"sepalLength\": 5.1, \"sepalWidth\": 3.3, \"petalLength\": 1.7000000000000002, \"petalWidth\": 0.5, \"species\": \"setosa\"}, {\"sepalLength\": 4.8, \"sepalWidth\": 3.4, \"petalLength\": 1.9, \"petalWidth\": 0.2, \"species\": \"setosa\"}, {\"sepalLength\": 5.0, \"sepalWidth\": 3.0, \"petalLength\": 1.6, \"petalWidth\": 0.2, \"species\": \"setosa\"}, {\"sepalLength\": 5.0, \"sepalWidth\": 3.4, \"petalLength\": 1.6, \"petalWidth\": 0.4, \"species\": \"setosa\"}, {\"sepalLength\": 5.2, \"sepalWidth\": 3.5, \"petalLength\": 1.5, \"petalWidth\": 0.2, \"species\": \"setosa\"}, {\"sepalLength\": 5.2, \"sepalWidth\": 3.4, \"petalLength\": 1.4, \"petalWidth\": 0.2, \"species\": \"setosa\"}, {\"sepalLength\": 4.7, \"sepalWidth\": 3.2, \"petalLength\": 1.6, \"petalWidth\": 0.2, \"species\": \"setosa\"}, {\"sepalLength\": 4.8, \"sepalWidth\": 3.1, \"petalLength\": 1.6, \"petalWidth\": 0.2, \"species\": \"setosa\"}, {\"sepalLength\": 5.4, \"sepalWidth\": 3.4, \"petalLength\": 1.5, \"petalWidth\": 0.4, \"species\": \"setosa\"}, {\"sepalLength\": 5.2, \"sepalWidth\": 4.1, \"petalLength\": 1.5, \"petalWidth\": 0.1, \"species\": \"setosa\"}, {\"sepalLength\": 5.5, \"sepalWidth\": 4.2, \"petalLength\": 1.4, \"petalWidth\": 0.2, \"species\": \"setosa\"}, {\"sepalLength\": 4.9, \"sepalWidth\": 3.1, \"petalLength\": 1.5, \"petalWidth\": 0.2, \"species\": \"setosa\"}, {\"sepalLength\": 5.0, \"sepalWidth\": 3.2, \"petalLength\": 1.2, \"petalWidth\": 0.2, \"species\": \"setosa\"}, {\"sepalLength\": 5.5, \"sepalWidth\": 3.5, \"petalLength\": 1.3, \"petalWidth\": 0.2, \"species\": \"setosa\"}, {\"sepalLength\": 4.9, \"sepalWidth\": 3.6, \"petalLength\": 1.4, \"petalWidth\": 0.1, \"species\": \"setosa\"}, {\"sepalLength\": 4.4, \"sepalWidth\": 3.0, \"petalLength\": 1.3, \"petalWidth\": 0.2, \"species\": \"setosa\"}, {\"sepalLength\": 5.1, \"sepalWidth\": 3.4, \"petalLength\": 1.5, \"petalWidth\": 0.2, \"species\": \"setosa\"}, {\"sepalLength\": 5.0, \"sepalWidth\": 3.5, \"petalLength\": 1.3, \"petalWidth\": 0.30000000000000004, \"species\": \"setosa\"}, {\"sepalLength\": 4.5, \"sepalWidth\": 2.3, \"petalLength\": 1.3, \"petalWidth\": 0.30000000000000004, \"species\": \"setosa\"}, {\"sepalLength\": 4.4, \"sepalWidth\": 3.2, \"petalLength\": 1.3, \"petalWidth\": 0.2, \"species\": \"setosa\"}, {\"sepalLength\": 5.0, \"sepalWidth\": 3.5, \"petalLength\": 1.6, \"petalWidth\": 0.6000000000000001, \"species\": \"setosa\"}, {\"sepalLength\": 5.1, \"sepalWidth\": 3.8, \"petalLength\": 1.9, \"petalWidth\": 0.4, \"species\": \"setosa\"}, {\"sepalLength\": 4.8, \"sepalWidth\": 3.0, \"petalLength\": 1.4, \"petalWidth\": 0.30000000000000004, \"species\": \"setosa\"}, {\"sepalLength\": 5.1, \"sepalWidth\": 3.8, \"petalLength\": 1.6, \"petalWidth\": 0.2, \"species\": \"setosa\"}, {\"sepalLength\": 4.6, \"sepalWidth\": 3.2, \"petalLength\": 1.4, \"petalWidth\": 0.2, \"species\": \"setosa\"}, {\"sepalLength\": 5.3, \"sepalWidth\": 3.7, \"petalLength\": 1.5, \"petalWidth\": 0.2, \"species\": \"setosa\"}, {\"sepalLength\": 5.0, \"sepalWidth\": 3.3, \"petalLength\": 1.4, \"petalWidth\": 0.2, \"species\": \"setosa\"}, {\"sepalLength\": 7.0, \"sepalWidth\": 3.2, \"petalLength\": 4.7, \"petalWidth\": 1.4, \"species\": \"versicolor\"}, {\"sepalLength\": 6.4, \"sepalWidth\": 3.2, \"petalLength\": 4.5, \"petalWidth\": 1.5, \"species\": \"versicolor\"}, {\"sepalLength\": 6.9, \"sepalWidth\": 3.1, \"petalLength\": 4.9, \"petalWidth\": 1.5, \"species\": \"versicolor\"}, {\"sepalLength\": 5.5, \"sepalWidth\": 2.3, \"petalLength\": 4.0, \"petalWidth\": 1.3, \"species\": \"versicolor\"}, {\"sepalLength\": 6.5, \"sepalWidth\": 2.8, \"petalLength\": 4.6, \"petalWidth\": 1.5, \"species\": \"versicolor\"}, {\"sepalLength\": 5.7, \"sepalWidth\": 2.8, \"petalLength\": 4.5, \"petalWidth\": 1.3, \"species\": \"versicolor\"}, {\"sepalLength\": 6.3, \"sepalWidth\": 3.3, \"petalLength\": 4.7, \"petalWidth\": 1.6, \"species\": \"versicolor\"}, {\"sepalLength\": 4.9, \"sepalWidth\": 2.4, \"petalLength\": 3.3, \"petalWidth\": 1.0, \"species\": \"versicolor\"}, {\"sepalLength\": 6.6, \"sepalWidth\": 2.9, \"petalLength\": 4.6, \"petalWidth\": 1.3, \"species\": \"versicolor\"}, {\"sepalLength\": 5.2, \"sepalWidth\": 2.7, \"petalLength\": 3.9, \"petalWidth\": 1.4, \"species\": \"versicolor\"}, {\"sepalLength\": 5.0, \"sepalWidth\": 2.0, \"petalLength\": 3.5, \"petalWidth\": 1.0, \"species\": \"versicolor\"}, {\"sepalLength\": 5.9, \"sepalWidth\": 3.0, \"petalLength\": 4.2, \"petalWidth\": 1.5, \"species\": \"versicolor\"}, {\"sepalLength\": 6.0, \"sepalWidth\": 2.2, \"petalLength\": 4.0, \"petalWidth\": 1.0, \"species\": \"versicolor\"}, {\"sepalLength\": 6.1, \"sepalWidth\": 2.9, \"petalLength\": 4.7, \"petalWidth\": 1.4, \"species\": \"versicolor\"}, {\"sepalLength\": 5.6, \"sepalWidth\": 2.9, \"petalLength\": 3.6, \"petalWidth\": 1.3, \"species\": \"versicolor\"}, {\"sepalLength\": 6.7, \"sepalWidth\": 3.1, \"petalLength\": 4.4, \"petalWidth\": 1.4, \"species\": \"versicolor\"}, {\"sepalLength\": 5.6, \"sepalWidth\": 3.0, \"petalLength\": 4.5, \"petalWidth\": 1.5, \"species\": \"versicolor\"}, {\"sepalLength\": 5.8, \"sepalWidth\": 2.7, \"petalLength\": 4.1, \"petalWidth\": 1.0, \"species\": \"versicolor\"}, {\"sepalLength\": 6.2, \"sepalWidth\": 2.2, \"petalLength\": 4.5, \"petalWidth\": 1.5, \"species\": \"versicolor\"}, {\"sepalLength\": 5.6, \"sepalWidth\": 2.5, \"petalLength\": 3.9, \"petalWidth\": 1.1, \"species\": \"versicolor\"}, {\"sepalLength\": 5.9, \"sepalWidth\": 3.2, \"petalLength\": 4.8, \"petalWidth\": 1.8, \"species\": \"versicolor\"}, {\"sepalLength\": 6.1, \"sepalWidth\": 2.8, \"petalLength\": 4.0, \"petalWidth\": 1.3, \"species\": \"versicolor\"}, {\"sepalLength\": 6.3, \"sepalWidth\": 2.5, \"petalLength\": 4.9, \"petalWidth\": 1.5, \"species\": \"versicolor\"}, {\"sepalLength\": 6.1, \"sepalWidth\": 2.8, \"petalLength\": 4.7, \"petalWidth\": 1.2, \"species\": \"versicolor\"}, {\"sepalLength\": 6.4, \"sepalWidth\": 2.9, \"petalLength\": 4.3, \"petalWidth\": 1.3, \"species\": \"versicolor\"}, {\"sepalLength\": 6.6, \"sepalWidth\": 3.0, \"petalLength\": 4.4, \"petalWidth\": 1.4, \"species\": \"versicolor\"}, {\"sepalLength\": 6.8, \"sepalWidth\": 2.8, \"petalLength\": 4.8, \"petalWidth\": 1.4, \"species\": \"versicolor\"}, {\"sepalLength\": 6.7, \"sepalWidth\": 3.0, \"petalLength\": 5.0, \"petalWidth\": 1.7000000000000002, \"species\": \"versicolor\"}, {\"sepalLength\": 6.0, \"sepalWidth\": 2.9, \"petalLength\": 4.5, \"petalWidth\": 1.5, \"species\": \"versicolor\"}, {\"sepalLength\": 5.7, \"sepalWidth\": 2.6, \"petalLength\": 3.5, \"petalWidth\": 1.0, \"species\": \"versicolor\"}, {\"sepalLength\": 5.5, \"sepalWidth\": 2.4, \"petalLength\": 3.8, \"petalWidth\": 1.1, \"species\": \"versicolor\"}, {\"sepalLength\": 5.5, \"sepalWidth\": 2.4, \"petalLength\": 3.7, \"petalWidth\": 1.0, \"species\": \"versicolor\"}, {\"sepalLength\": 5.8, \"sepalWidth\": 2.7, \"petalLength\": 3.9, \"petalWidth\": 1.2, \"species\": \"versicolor\"}, {\"sepalLength\": 6.0, \"sepalWidth\": 2.7, \"petalLength\": 5.1, \"petalWidth\": 1.6, \"species\": \"versicolor\"}, {\"sepalLength\": 5.4, \"sepalWidth\": 3.0, \"petalLength\": 4.5, \"petalWidth\": 1.5, \"species\": \"versicolor\"}, {\"sepalLength\": 6.0, \"sepalWidth\": 3.4, \"petalLength\": 4.5, \"petalWidth\": 1.6, \"species\": \"versicolor\"}, {\"sepalLength\": 6.7, \"sepalWidth\": 3.1, \"petalLength\": 4.7, \"petalWidth\": 1.5, \"species\": \"versicolor\"}, {\"sepalLength\": 6.3, \"sepalWidth\": 2.3, \"petalLength\": 4.4, \"petalWidth\": 1.3, \"species\": \"versicolor\"}, {\"sepalLength\": 5.6, \"sepalWidth\": 3.0, \"petalLength\": 4.1, \"petalWidth\": 1.3, \"species\": \"versicolor\"}, {\"sepalLength\": 5.5, \"sepalWidth\": 2.5, \"petalLength\": 4.0, \"petalWidth\": 1.3, \"species\": \"versicolor\"}, {\"sepalLength\": 5.5, \"sepalWidth\": 2.6, \"petalLength\": 4.4, \"petalWidth\": 1.2, \"species\": \"versicolor\"}, {\"sepalLength\": 6.1, \"sepalWidth\": 3.0, \"petalLength\": 4.6, \"petalWidth\": 1.4, \"species\": \"versicolor\"}, {\"sepalLength\": 5.8, \"sepalWidth\": 2.6, \"petalLength\": 4.0, \"petalWidth\": 1.2, \"species\": \"versicolor\"}, {\"sepalLength\": 5.0, \"sepalWidth\": 2.3, \"petalLength\": 3.3, \"petalWidth\": 1.0, \"species\": \"versicolor\"}, {\"sepalLength\": 5.6, \"sepalWidth\": 2.7, \"petalLength\": 4.2, \"petalWidth\": 1.3, \"species\": \"versicolor\"}, {\"sepalLength\": 5.7, \"sepalWidth\": 3.0, \"petalLength\": 4.2, \"petalWidth\": 1.2, \"species\": \"versicolor\"}, {\"sepalLength\": 5.7, \"sepalWidth\": 2.9, \"petalLength\": 4.2, \"petalWidth\": 1.3, \"species\": \"versicolor\"}, {\"sepalLength\": 6.2, \"sepalWidth\": 2.9, \"petalLength\": 4.3, \"petalWidth\": 1.3, \"species\": \"versicolor\"}, {\"sepalLength\": 5.1, \"sepalWidth\": 2.5, \"petalLength\": 3.0, \"petalWidth\": 1.1, \"species\": \"versicolor\"}, {\"sepalLength\": 5.7, \"sepalWidth\": 2.8, \"petalLength\": 4.1, \"petalWidth\": 1.3, \"species\": \"versicolor\"}, {\"sepalLength\": 6.3, \"sepalWidth\": 3.3, \"petalLength\": 6.0, \"petalWidth\": 2.5, \"species\": \"virginica\"}, {\"sepalLength\": 5.8, \"sepalWidth\": 2.7, \"petalLength\": 5.1, \"petalWidth\": 1.9, \"species\": \"virginica\"}, {\"sepalLength\": 7.1, \"sepalWidth\": 3.0, \"petalLength\": 5.9, \"petalWidth\": 2.1, \"species\": \"virginica\"}, {\"sepalLength\": 6.3, \"sepalWidth\": 2.9, \"petalLength\": 5.6, \"petalWidth\": 1.8, \"species\": \"virginica\"}, {\"sepalLength\": 6.5, \"sepalWidth\": 3.0, \"petalLength\": 5.8, \"petalWidth\": 2.2, \"species\": \"virginica\"}, {\"sepalLength\": 7.6, \"sepalWidth\": 3.0, \"petalLength\": 6.6, \"petalWidth\": 2.1, \"species\": \"virginica\"}, {\"sepalLength\": 4.9, \"sepalWidth\": 2.5, \"petalLength\": 4.5, \"petalWidth\": 1.7000000000000002, \"species\": \"virginica\"}, {\"sepalLength\": 7.3, \"sepalWidth\": 2.9, \"petalLength\": 6.3, \"petalWidth\": 1.8, \"species\": \"virginica\"}, {\"sepalLength\": 6.7, \"sepalWidth\": 2.5, \"petalLength\": 5.8, \"petalWidth\": 1.8, \"species\": \"virginica\"}, {\"sepalLength\": 7.2, \"sepalWidth\": 3.6, \"petalLength\": 6.1, \"petalWidth\": 2.5, \"species\": \"virginica\"}, {\"sepalLength\": 6.5, \"sepalWidth\": 3.2, \"petalLength\": 5.1, \"petalWidth\": 2.0, \"species\": \"virginica\"}, {\"sepalLength\": 6.4, \"sepalWidth\": 2.7, \"petalLength\": 5.3, \"petalWidth\": 1.9, \"species\": \"virginica\"}, {\"sepalLength\": 6.8, \"sepalWidth\": 3.0, \"petalLength\": 5.5, \"petalWidth\": 2.1, \"species\": \"virginica\"}, {\"sepalLength\": 5.7, \"sepalWidth\": 2.5, \"petalLength\": 5.0, \"petalWidth\": 2.0, \"species\": \"virginica\"}, {\"sepalLength\": 5.8, \"sepalWidth\": 2.8, \"petalLength\": 5.1, \"petalWidth\": 2.4, \"species\": \"virginica\"}, {\"sepalLength\": 6.4, \"sepalWidth\": 3.2, \"petalLength\": 5.3, \"petalWidth\": 2.3, \"species\": \"virginica\"}, {\"sepalLength\": 6.5, \"sepalWidth\": 3.0, \"petalLength\": 5.5, \"petalWidth\": 1.8, \"species\": \"virginica\"}, {\"sepalLength\": 7.7, \"sepalWidth\": 3.8, \"petalLength\": 6.7, \"petalWidth\": 2.2, \"species\": \"virginica\"}, {\"sepalLength\": 7.7, \"sepalWidth\": 2.6, \"petalLength\": 6.9, \"petalWidth\": 2.3, \"species\": \"virginica\"}, {\"sepalLength\": 6.0, \"sepalWidth\": 2.2, \"petalLength\": 5.0, \"petalWidth\": 1.5, \"species\": \"virginica\"}, {\"sepalLength\": 6.9, \"sepalWidth\": 3.2, \"petalLength\": 5.7, \"petalWidth\": 2.3, \"species\": \"virginica\"}, {\"sepalLength\": 5.6, \"sepalWidth\": 2.8, \"petalLength\": 4.9, \"petalWidth\": 2.0, \"species\": \"virginica\"}, {\"sepalLength\": 7.7, \"sepalWidth\": 2.8, \"petalLength\": 6.7, \"petalWidth\": 2.0, \"species\": \"virginica\"}, {\"sepalLength\": 6.3, \"sepalWidth\": 2.7, \"petalLength\": 4.9, \"petalWidth\": 1.8, \"species\": \"virginica\"}, {\"sepalLength\": 6.7, \"sepalWidth\": 3.3, \"petalLength\": 5.7, \"petalWidth\": 2.1, \"species\": \"virginica\"}, {\"sepalLength\": 7.2, \"sepalWidth\": 3.2, \"petalLength\": 6.0, \"petalWidth\": 1.8, \"species\": \"virginica\"}, {\"sepalLength\": 6.2, \"sepalWidth\": 2.8, \"petalLength\": 4.8, \"petalWidth\": 1.8, \"species\": \"virginica\"}, {\"sepalLength\": 6.1, \"sepalWidth\": 3.0, \"petalLength\": 4.9, \"petalWidth\": 1.8, \"species\": \"virginica\"}, {\"sepalLength\": 6.4, \"sepalWidth\": 2.8, \"petalLength\": 5.6, \"petalWidth\": 2.1, \"species\": \"virginica\"}, {\"sepalLength\": 7.2, \"sepalWidth\": 3.0, \"petalLength\": 5.8, \"petalWidth\": 1.6, \"species\": \"virginica\"}, {\"sepalLength\": 7.4, \"sepalWidth\": 2.8, \"petalLength\": 6.1, \"petalWidth\": 1.9, \"species\": \"virginica\"}, {\"sepalLength\": 7.9, \"sepalWidth\": 3.8, \"petalLength\": 6.4, \"petalWidth\": 2.0, \"species\": \"virginica\"}, {\"sepalLength\": 6.4, \"sepalWidth\": 2.8, \"petalLength\": 5.6, \"petalWidth\": 2.2, \"species\": \"virginica\"}, {\"sepalLength\": 6.3, \"sepalWidth\": 2.8, \"petalLength\": 5.1, \"petalWidth\": 1.5, \"species\": \"virginica\"}, {\"sepalLength\": 6.1, \"sepalWidth\": 2.6, \"petalLength\": 5.6, \"petalWidth\": 1.4, \"species\": \"virginica\"}, {\"sepalLength\": 7.7, \"sepalWidth\": 3.0, \"petalLength\": 6.1, \"petalWidth\": 2.3, \"species\": \"virginica\"}, {\"sepalLength\": 6.3, \"sepalWidth\": 3.4, \"petalLength\": 5.6, \"petalWidth\": 2.4, \"species\": \"virginica\"}, {\"sepalLength\": 6.4, \"sepalWidth\": 3.1, \"petalLength\": 5.5, \"petalWidth\": 1.8, \"species\": \"virginica\"}, {\"sepalLength\": 6.0, \"sepalWidth\": 3.0, \"petalLength\": 4.8, \"petalWidth\": 1.8, \"species\": \"virginica\"}, {\"sepalLength\": 6.9, \"sepalWidth\": 3.1, \"petalLength\": 5.4, \"petalWidth\": 2.1, \"species\": \"virginica\"}, {\"sepalLength\": 6.7, \"sepalWidth\": 3.1, \"petalLength\": 5.6, \"petalWidth\": 2.4, \"species\": \"virginica\"}, {\"sepalLength\": 6.9, \"sepalWidth\": 3.1, \"petalLength\": 5.1, \"petalWidth\": 2.3, \"species\": \"virginica\"}, {\"sepalLength\": 5.8, \"sepalWidth\": 2.7, \"petalLength\": 5.1, \"petalWidth\": 1.9, \"species\": \"virginica\"}, {\"sepalLength\": 6.8, \"sepalWidth\": 3.2, \"petalLength\": 5.9, \"petalWidth\": 2.3, \"species\": \"virginica\"}, {\"sepalLength\": 6.7, \"sepalWidth\": 3.3, \"petalLength\": 5.7, \"petalWidth\": 2.5, \"species\": \"virginica\"}, {\"sepalLength\": 6.7, \"sepalWidth\": 3.0, \"petalLength\": 5.2, \"petalWidth\": 2.3, \"species\": \"virginica\"}, {\"sepalLength\": 6.3, \"sepalWidth\": 2.5, \"petalLength\": 5.0, \"petalWidth\": 1.9, \"species\": \"virginica\"}, {\"sepalLength\": 6.5, \"sepalWidth\": 3.0, \"petalLength\": 5.2, \"petalWidth\": 2.0, \"species\": \"virginica\"}, {\"sepalLength\": 6.2, \"sepalWidth\": 3.4, \"petalLength\": 5.4, \"petalWidth\": 2.3, \"species\": \"virginica\"}, {\"sepalLength\": 5.9, \"sepalWidth\": 3.0, \"petalLength\": 5.1, \"petalWidth\": 1.8, \"species\": \"virginica\"}]}}, {\"mode\": \"vega-lite\"});\n",
              "</script>"
            ],
            "text/plain": [
              "alt.Chart(...)"
            ]
          },
          "metadata": {},
          "execution_count": 18
        }
      ],
      "source": [
        "alt.Chart(iris).mark_point().encode(\n",
        "    x='petalLength',\n",
        "    y='petalWidth',\n",
        "    color='sepalLength'\n",
        ")"
      ]
    },
    {
      "cell_type": "markdown",
      "metadata": {
        "id": "_QXY0gSeu27g"
      },
      "source": [
        "A continuous color results in a color scale that is appropriate for continuous data.\n",
        "\n",
        "This is one key feature of Altair: it chooses appropriate scales for the data type.\n",
        "\n",
        "Similar, if we put the categorical value on the x or y axis, it will also create discrete scales:"
      ]
    },
    {
      "cell_type": "code",
      "execution_count": 19,
      "metadata": {
        "colab": {
          "base_uri": "https://localhost:8080/",
          "height": 123
        },
        "id": "FCpOTW7Ju27g",
        "outputId": "ad7ed415-ba0f-479e-e6c5-a76e2b88d944"
      },
      "outputs": [
        {
          "output_type": "execute_result",
          "data": {
            "text/html": [
              "\n",
              "<div id=\"altair-viz-64a3d8dadd7c400aab828eab8384a6a6\"></div>\n",
              "<script type=\"text/javascript\">\n",
              "  var VEGA_DEBUG = (typeof VEGA_DEBUG == \"undefined\") ? {} : VEGA_DEBUG;\n",
              "  (function(spec, embedOpt){\n",
              "    let outputDiv = document.currentScript.previousElementSibling;\n",
              "    if (outputDiv.id !== \"altair-viz-64a3d8dadd7c400aab828eab8384a6a6\") {\n",
              "      outputDiv = document.getElementById(\"altair-viz-64a3d8dadd7c400aab828eab8384a6a6\");\n",
              "    }\n",
              "    const paths = {\n",
              "      \"vega\": \"https://cdn.jsdelivr.net/npm//vega@5?noext\",\n",
              "      \"vega-lib\": \"https://cdn.jsdelivr.net/npm//vega-lib?noext\",\n",
              "      \"vega-lite\": \"https://cdn.jsdelivr.net/npm//vega-lite@4.17.0?noext\",\n",
              "      \"vega-embed\": \"https://cdn.jsdelivr.net/npm//vega-embed@6?noext\",\n",
              "    };\n",
              "\n",
              "    function maybeLoadScript(lib, version) {\n",
              "      var key = `${lib.replace(\"-\", \"\")}_version`;\n",
              "      return (VEGA_DEBUG[key] == version) ?\n",
              "        Promise.resolve(paths[lib]) :\n",
              "        new Promise(function(resolve, reject) {\n",
              "          var s = document.createElement('script');\n",
              "          document.getElementsByTagName(\"head\")[0].appendChild(s);\n",
              "          s.async = true;\n",
              "          s.onload = () => {\n",
              "            VEGA_DEBUG[key] = version;\n",
              "            return resolve(paths[lib]);\n",
              "          };\n",
              "          s.onerror = () => reject(`Error loading script: ${paths[lib]}`);\n",
              "          s.src = paths[lib];\n",
              "        });\n",
              "    }\n",
              "\n",
              "    function showError(err) {\n",
              "      outputDiv.innerHTML = `<div class=\"error\" style=\"color:red;\">${err}</div>`;\n",
              "      throw err;\n",
              "    }\n",
              "\n",
              "    function displayChart(vegaEmbed) {\n",
              "      vegaEmbed(outputDiv, spec, embedOpt)\n",
              "        .catch(err => showError(`Javascript Error: ${err.message}<br>This usually means there's a typo in your chart specification. See the javascript console for the full traceback.`));\n",
              "    }\n",
              "\n",
              "    if(typeof define === \"function\" && define.amd) {\n",
              "      requirejs.config({paths});\n",
              "      require([\"vega-embed\"], displayChart, err => showError(`Error loading script: ${err.message}`));\n",
              "    } else {\n",
              "      maybeLoadScript(\"vega\", \"5\")\n",
              "        .then(() => maybeLoadScript(\"vega-lite\", \"4.17.0\"))\n",
              "        .then(() => maybeLoadScript(\"vega-embed\", \"6\"))\n",
              "        .catch(showError)\n",
              "        .then(() => displayChart(vegaEmbed));\n",
              "    }\n",
              "  })({\"config\": {\"view\": {\"continuousWidth\": 400, \"continuousHeight\": 300}}, \"data\": {\"name\": \"data-a264acbd6e539a8b3afc0cb5f240fb57\"}, \"mark\": \"tick\", \"encoding\": {\"color\": {\"field\": \"species\", \"type\": \"nominal\"}, \"x\": {\"field\": \"petalLength\", \"type\": \"quantitative\"}, \"y\": {\"field\": \"species\", \"type\": \"nominal\"}}, \"$schema\": \"https://vega.github.io/schema/vega-lite/v4.17.0.json\", \"datasets\": {\"data-a264acbd6e539a8b3afc0cb5f240fb57\": [{\"sepalLength\": 5.1, \"sepalWidth\": 3.5, \"petalLength\": 1.4, \"petalWidth\": 0.2, \"species\": \"setosa\"}, {\"sepalLength\": 4.9, \"sepalWidth\": 3.0, \"petalLength\": 1.4, \"petalWidth\": 0.2, \"species\": \"setosa\"}, {\"sepalLength\": 4.7, \"sepalWidth\": 3.2, \"petalLength\": 1.3, \"petalWidth\": 0.2, \"species\": \"setosa\"}, {\"sepalLength\": 4.6, \"sepalWidth\": 3.1, \"petalLength\": 1.5, \"petalWidth\": 0.2, \"species\": \"setosa\"}, {\"sepalLength\": 5.0, \"sepalWidth\": 3.6, \"petalLength\": 1.4, \"petalWidth\": 0.2, \"species\": \"setosa\"}, {\"sepalLength\": 5.4, \"sepalWidth\": 3.9, \"petalLength\": 1.7000000000000002, \"petalWidth\": 0.4, \"species\": \"setosa\"}, {\"sepalLength\": 4.6, \"sepalWidth\": 3.4, \"petalLength\": 1.4, \"petalWidth\": 0.30000000000000004, \"species\": \"setosa\"}, {\"sepalLength\": 5.0, \"sepalWidth\": 3.4, \"petalLength\": 1.5, \"petalWidth\": 0.2, \"species\": \"setosa\"}, {\"sepalLength\": 4.4, \"sepalWidth\": 2.9, \"petalLength\": 1.4, \"petalWidth\": 0.2, \"species\": \"setosa\"}, {\"sepalLength\": 4.9, \"sepalWidth\": 3.1, \"petalLength\": 1.5, \"petalWidth\": 0.1, \"species\": \"setosa\"}, {\"sepalLength\": 5.4, \"sepalWidth\": 3.7, \"petalLength\": 1.5, \"petalWidth\": 0.2, \"species\": \"setosa\"}, {\"sepalLength\": 4.8, \"sepalWidth\": 3.4, \"petalLength\": 1.6, \"petalWidth\": 0.2, \"species\": \"setosa\"}, {\"sepalLength\": 4.8, \"sepalWidth\": 3.0, \"petalLength\": 1.4, \"petalWidth\": 0.1, \"species\": \"setosa\"}, {\"sepalLength\": 4.3, \"sepalWidth\": 3.0, \"petalLength\": 1.1, \"petalWidth\": 0.1, \"species\": \"setosa\"}, {\"sepalLength\": 5.8, \"sepalWidth\": 4.0, \"petalLength\": 1.2, \"petalWidth\": 0.2, \"species\": \"setosa\"}, {\"sepalLength\": 5.7, \"sepalWidth\": 4.4, \"petalLength\": 1.5, \"petalWidth\": 0.4, \"species\": \"setosa\"}, {\"sepalLength\": 5.4, \"sepalWidth\": 3.9, \"petalLength\": 1.3, \"petalWidth\": 0.4, \"species\": \"setosa\"}, {\"sepalLength\": 5.1, \"sepalWidth\": 3.5, \"petalLength\": 1.4, \"petalWidth\": 0.30000000000000004, \"species\": \"setosa\"}, {\"sepalLength\": 5.7, \"sepalWidth\": 3.8, \"petalLength\": 1.7000000000000002, \"petalWidth\": 0.30000000000000004, \"species\": \"setosa\"}, {\"sepalLength\": 5.1, \"sepalWidth\": 3.8, \"petalLength\": 1.5, \"petalWidth\": 0.30000000000000004, \"species\": \"setosa\"}, {\"sepalLength\": 5.4, \"sepalWidth\": 3.4, \"petalLength\": 1.7000000000000002, \"petalWidth\": 0.2, \"species\": \"setosa\"}, {\"sepalLength\": 5.1, \"sepalWidth\": 3.7, \"petalLength\": 1.5, \"petalWidth\": 0.4, \"species\": \"setosa\"}, {\"sepalLength\": 4.6, \"sepalWidth\": 3.6, \"petalLength\": 1.0, \"petalWidth\": 0.2, \"species\": \"setosa\"}, {\"sepalLength\": 5.1, \"sepalWidth\": 3.3, \"petalLength\": 1.7000000000000002, \"petalWidth\": 0.5, \"species\": \"setosa\"}, {\"sepalLength\": 4.8, \"sepalWidth\": 3.4, \"petalLength\": 1.9, \"petalWidth\": 0.2, \"species\": \"setosa\"}, {\"sepalLength\": 5.0, \"sepalWidth\": 3.0, \"petalLength\": 1.6, \"petalWidth\": 0.2, \"species\": \"setosa\"}, {\"sepalLength\": 5.0, \"sepalWidth\": 3.4, \"petalLength\": 1.6, \"petalWidth\": 0.4, \"species\": \"setosa\"}, {\"sepalLength\": 5.2, \"sepalWidth\": 3.5, \"petalLength\": 1.5, \"petalWidth\": 0.2, \"species\": \"setosa\"}, {\"sepalLength\": 5.2, \"sepalWidth\": 3.4, \"petalLength\": 1.4, \"petalWidth\": 0.2, \"species\": \"setosa\"}, {\"sepalLength\": 4.7, \"sepalWidth\": 3.2, \"petalLength\": 1.6, \"petalWidth\": 0.2, \"species\": \"setosa\"}, {\"sepalLength\": 4.8, \"sepalWidth\": 3.1, \"petalLength\": 1.6, \"petalWidth\": 0.2, \"species\": \"setosa\"}, {\"sepalLength\": 5.4, \"sepalWidth\": 3.4, \"petalLength\": 1.5, \"petalWidth\": 0.4, \"species\": \"setosa\"}, {\"sepalLength\": 5.2, \"sepalWidth\": 4.1, \"petalLength\": 1.5, \"petalWidth\": 0.1, \"species\": \"setosa\"}, {\"sepalLength\": 5.5, \"sepalWidth\": 4.2, \"petalLength\": 1.4, \"petalWidth\": 0.2, \"species\": \"setosa\"}, {\"sepalLength\": 4.9, \"sepalWidth\": 3.1, \"petalLength\": 1.5, \"petalWidth\": 0.2, \"species\": \"setosa\"}, {\"sepalLength\": 5.0, \"sepalWidth\": 3.2, \"petalLength\": 1.2, \"petalWidth\": 0.2, \"species\": \"setosa\"}, {\"sepalLength\": 5.5, \"sepalWidth\": 3.5, \"petalLength\": 1.3, \"petalWidth\": 0.2, \"species\": \"setosa\"}, {\"sepalLength\": 4.9, \"sepalWidth\": 3.6, \"petalLength\": 1.4, \"petalWidth\": 0.1, \"species\": \"setosa\"}, {\"sepalLength\": 4.4, \"sepalWidth\": 3.0, \"petalLength\": 1.3, \"petalWidth\": 0.2, \"species\": \"setosa\"}, {\"sepalLength\": 5.1, \"sepalWidth\": 3.4, \"petalLength\": 1.5, \"petalWidth\": 0.2, \"species\": \"setosa\"}, {\"sepalLength\": 5.0, \"sepalWidth\": 3.5, \"petalLength\": 1.3, \"petalWidth\": 0.30000000000000004, \"species\": \"setosa\"}, {\"sepalLength\": 4.5, \"sepalWidth\": 2.3, \"petalLength\": 1.3, \"petalWidth\": 0.30000000000000004, \"species\": \"setosa\"}, {\"sepalLength\": 4.4, \"sepalWidth\": 3.2, \"petalLength\": 1.3, \"petalWidth\": 0.2, \"species\": \"setosa\"}, {\"sepalLength\": 5.0, \"sepalWidth\": 3.5, \"petalLength\": 1.6, \"petalWidth\": 0.6000000000000001, \"species\": \"setosa\"}, {\"sepalLength\": 5.1, \"sepalWidth\": 3.8, \"petalLength\": 1.9, \"petalWidth\": 0.4, \"species\": \"setosa\"}, {\"sepalLength\": 4.8, \"sepalWidth\": 3.0, \"petalLength\": 1.4, \"petalWidth\": 0.30000000000000004, \"species\": \"setosa\"}, {\"sepalLength\": 5.1, \"sepalWidth\": 3.8, \"petalLength\": 1.6, \"petalWidth\": 0.2, \"species\": \"setosa\"}, {\"sepalLength\": 4.6, \"sepalWidth\": 3.2, \"petalLength\": 1.4, \"petalWidth\": 0.2, \"species\": \"setosa\"}, {\"sepalLength\": 5.3, \"sepalWidth\": 3.7, \"petalLength\": 1.5, \"petalWidth\": 0.2, \"species\": \"setosa\"}, {\"sepalLength\": 5.0, \"sepalWidth\": 3.3, \"petalLength\": 1.4, \"petalWidth\": 0.2, \"species\": \"setosa\"}, {\"sepalLength\": 7.0, \"sepalWidth\": 3.2, \"petalLength\": 4.7, \"petalWidth\": 1.4, \"species\": \"versicolor\"}, {\"sepalLength\": 6.4, \"sepalWidth\": 3.2, \"petalLength\": 4.5, \"petalWidth\": 1.5, \"species\": \"versicolor\"}, {\"sepalLength\": 6.9, \"sepalWidth\": 3.1, \"petalLength\": 4.9, \"petalWidth\": 1.5, \"species\": \"versicolor\"}, {\"sepalLength\": 5.5, \"sepalWidth\": 2.3, \"petalLength\": 4.0, \"petalWidth\": 1.3, \"species\": \"versicolor\"}, {\"sepalLength\": 6.5, \"sepalWidth\": 2.8, \"petalLength\": 4.6, \"petalWidth\": 1.5, \"species\": \"versicolor\"}, {\"sepalLength\": 5.7, \"sepalWidth\": 2.8, \"petalLength\": 4.5, \"petalWidth\": 1.3, \"species\": \"versicolor\"}, {\"sepalLength\": 6.3, \"sepalWidth\": 3.3, \"petalLength\": 4.7, \"petalWidth\": 1.6, \"species\": \"versicolor\"}, {\"sepalLength\": 4.9, \"sepalWidth\": 2.4, \"petalLength\": 3.3, \"petalWidth\": 1.0, \"species\": \"versicolor\"}, {\"sepalLength\": 6.6, \"sepalWidth\": 2.9, \"petalLength\": 4.6, \"petalWidth\": 1.3, \"species\": \"versicolor\"}, {\"sepalLength\": 5.2, \"sepalWidth\": 2.7, \"petalLength\": 3.9, \"petalWidth\": 1.4, \"species\": \"versicolor\"}, {\"sepalLength\": 5.0, \"sepalWidth\": 2.0, \"petalLength\": 3.5, \"petalWidth\": 1.0, \"species\": \"versicolor\"}, {\"sepalLength\": 5.9, \"sepalWidth\": 3.0, \"petalLength\": 4.2, \"petalWidth\": 1.5, \"species\": \"versicolor\"}, {\"sepalLength\": 6.0, \"sepalWidth\": 2.2, \"petalLength\": 4.0, \"petalWidth\": 1.0, \"species\": \"versicolor\"}, {\"sepalLength\": 6.1, \"sepalWidth\": 2.9, \"petalLength\": 4.7, \"petalWidth\": 1.4, \"species\": \"versicolor\"}, {\"sepalLength\": 5.6, \"sepalWidth\": 2.9, \"petalLength\": 3.6, \"petalWidth\": 1.3, \"species\": \"versicolor\"}, {\"sepalLength\": 6.7, \"sepalWidth\": 3.1, \"petalLength\": 4.4, \"petalWidth\": 1.4, \"species\": \"versicolor\"}, {\"sepalLength\": 5.6, \"sepalWidth\": 3.0, \"petalLength\": 4.5, \"petalWidth\": 1.5, \"species\": \"versicolor\"}, {\"sepalLength\": 5.8, \"sepalWidth\": 2.7, \"petalLength\": 4.1, \"petalWidth\": 1.0, \"species\": \"versicolor\"}, {\"sepalLength\": 6.2, \"sepalWidth\": 2.2, \"petalLength\": 4.5, \"petalWidth\": 1.5, \"species\": \"versicolor\"}, {\"sepalLength\": 5.6, \"sepalWidth\": 2.5, \"petalLength\": 3.9, \"petalWidth\": 1.1, \"species\": \"versicolor\"}, {\"sepalLength\": 5.9, \"sepalWidth\": 3.2, \"petalLength\": 4.8, \"petalWidth\": 1.8, \"species\": \"versicolor\"}, {\"sepalLength\": 6.1, \"sepalWidth\": 2.8, \"petalLength\": 4.0, \"petalWidth\": 1.3, \"species\": \"versicolor\"}, {\"sepalLength\": 6.3, \"sepalWidth\": 2.5, \"petalLength\": 4.9, \"petalWidth\": 1.5, \"species\": \"versicolor\"}, {\"sepalLength\": 6.1, \"sepalWidth\": 2.8, \"petalLength\": 4.7, \"petalWidth\": 1.2, \"species\": \"versicolor\"}, {\"sepalLength\": 6.4, \"sepalWidth\": 2.9, \"petalLength\": 4.3, \"petalWidth\": 1.3, \"species\": \"versicolor\"}, {\"sepalLength\": 6.6, \"sepalWidth\": 3.0, \"petalLength\": 4.4, \"petalWidth\": 1.4, \"species\": \"versicolor\"}, {\"sepalLength\": 6.8, \"sepalWidth\": 2.8, \"petalLength\": 4.8, \"petalWidth\": 1.4, \"species\": \"versicolor\"}, {\"sepalLength\": 6.7, \"sepalWidth\": 3.0, \"petalLength\": 5.0, \"petalWidth\": 1.7000000000000002, \"species\": \"versicolor\"}, {\"sepalLength\": 6.0, \"sepalWidth\": 2.9, \"petalLength\": 4.5, \"petalWidth\": 1.5, \"species\": \"versicolor\"}, {\"sepalLength\": 5.7, \"sepalWidth\": 2.6, \"petalLength\": 3.5, \"petalWidth\": 1.0, \"species\": \"versicolor\"}, {\"sepalLength\": 5.5, \"sepalWidth\": 2.4, \"petalLength\": 3.8, \"petalWidth\": 1.1, \"species\": \"versicolor\"}, {\"sepalLength\": 5.5, \"sepalWidth\": 2.4, \"petalLength\": 3.7, \"petalWidth\": 1.0, \"species\": \"versicolor\"}, {\"sepalLength\": 5.8, \"sepalWidth\": 2.7, \"petalLength\": 3.9, \"petalWidth\": 1.2, \"species\": \"versicolor\"}, {\"sepalLength\": 6.0, \"sepalWidth\": 2.7, \"petalLength\": 5.1, \"petalWidth\": 1.6, \"species\": \"versicolor\"}, {\"sepalLength\": 5.4, \"sepalWidth\": 3.0, \"petalLength\": 4.5, \"petalWidth\": 1.5, \"species\": \"versicolor\"}, {\"sepalLength\": 6.0, \"sepalWidth\": 3.4, \"petalLength\": 4.5, \"petalWidth\": 1.6, \"species\": \"versicolor\"}, {\"sepalLength\": 6.7, \"sepalWidth\": 3.1, \"petalLength\": 4.7, \"petalWidth\": 1.5, \"species\": \"versicolor\"}, {\"sepalLength\": 6.3, \"sepalWidth\": 2.3, \"petalLength\": 4.4, \"petalWidth\": 1.3, \"species\": \"versicolor\"}, {\"sepalLength\": 5.6, \"sepalWidth\": 3.0, \"petalLength\": 4.1, \"petalWidth\": 1.3, \"species\": \"versicolor\"}, {\"sepalLength\": 5.5, \"sepalWidth\": 2.5, \"petalLength\": 4.0, \"petalWidth\": 1.3, \"species\": \"versicolor\"}, {\"sepalLength\": 5.5, \"sepalWidth\": 2.6, \"petalLength\": 4.4, \"petalWidth\": 1.2, \"species\": \"versicolor\"}, {\"sepalLength\": 6.1, \"sepalWidth\": 3.0, \"petalLength\": 4.6, \"petalWidth\": 1.4, \"species\": \"versicolor\"}, {\"sepalLength\": 5.8, \"sepalWidth\": 2.6, \"petalLength\": 4.0, \"petalWidth\": 1.2, \"species\": \"versicolor\"}, {\"sepalLength\": 5.0, \"sepalWidth\": 2.3, \"petalLength\": 3.3, \"petalWidth\": 1.0, \"species\": \"versicolor\"}, {\"sepalLength\": 5.6, \"sepalWidth\": 2.7, \"petalLength\": 4.2, \"petalWidth\": 1.3, \"species\": \"versicolor\"}, {\"sepalLength\": 5.7, \"sepalWidth\": 3.0, \"petalLength\": 4.2, \"petalWidth\": 1.2, \"species\": \"versicolor\"}, {\"sepalLength\": 5.7, \"sepalWidth\": 2.9, \"petalLength\": 4.2, \"petalWidth\": 1.3, \"species\": \"versicolor\"}, {\"sepalLength\": 6.2, \"sepalWidth\": 2.9, \"petalLength\": 4.3, \"petalWidth\": 1.3, \"species\": \"versicolor\"}, {\"sepalLength\": 5.1, \"sepalWidth\": 2.5, \"petalLength\": 3.0, \"petalWidth\": 1.1, \"species\": \"versicolor\"}, {\"sepalLength\": 5.7, \"sepalWidth\": 2.8, \"petalLength\": 4.1, \"petalWidth\": 1.3, \"species\": \"versicolor\"}, {\"sepalLength\": 6.3, \"sepalWidth\": 3.3, \"petalLength\": 6.0, \"petalWidth\": 2.5, \"species\": \"virginica\"}, {\"sepalLength\": 5.8, \"sepalWidth\": 2.7, \"petalLength\": 5.1, \"petalWidth\": 1.9, \"species\": \"virginica\"}, {\"sepalLength\": 7.1, \"sepalWidth\": 3.0, \"petalLength\": 5.9, \"petalWidth\": 2.1, \"species\": \"virginica\"}, {\"sepalLength\": 6.3, \"sepalWidth\": 2.9, \"petalLength\": 5.6, \"petalWidth\": 1.8, \"species\": \"virginica\"}, {\"sepalLength\": 6.5, \"sepalWidth\": 3.0, \"petalLength\": 5.8, \"petalWidth\": 2.2, \"species\": \"virginica\"}, {\"sepalLength\": 7.6, \"sepalWidth\": 3.0, \"petalLength\": 6.6, \"petalWidth\": 2.1, \"species\": \"virginica\"}, {\"sepalLength\": 4.9, \"sepalWidth\": 2.5, \"petalLength\": 4.5, \"petalWidth\": 1.7000000000000002, \"species\": \"virginica\"}, {\"sepalLength\": 7.3, \"sepalWidth\": 2.9, \"petalLength\": 6.3, \"petalWidth\": 1.8, \"species\": \"virginica\"}, {\"sepalLength\": 6.7, \"sepalWidth\": 2.5, \"petalLength\": 5.8, \"petalWidth\": 1.8, \"species\": \"virginica\"}, {\"sepalLength\": 7.2, \"sepalWidth\": 3.6, \"petalLength\": 6.1, \"petalWidth\": 2.5, \"species\": \"virginica\"}, {\"sepalLength\": 6.5, \"sepalWidth\": 3.2, \"petalLength\": 5.1, \"petalWidth\": 2.0, \"species\": \"virginica\"}, {\"sepalLength\": 6.4, \"sepalWidth\": 2.7, \"petalLength\": 5.3, \"petalWidth\": 1.9, \"species\": \"virginica\"}, {\"sepalLength\": 6.8, \"sepalWidth\": 3.0, \"petalLength\": 5.5, \"petalWidth\": 2.1, \"species\": \"virginica\"}, {\"sepalLength\": 5.7, \"sepalWidth\": 2.5, \"petalLength\": 5.0, \"petalWidth\": 2.0, \"species\": \"virginica\"}, {\"sepalLength\": 5.8, \"sepalWidth\": 2.8, \"petalLength\": 5.1, \"petalWidth\": 2.4, \"species\": \"virginica\"}, {\"sepalLength\": 6.4, \"sepalWidth\": 3.2, \"petalLength\": 5.3, \"petalWidth\": 2.3, \"species\": \"virginica\"}, {\"sepalLength\": 6.5, \"sepalWidth\": 3.0, \"petalLength\": 5.5, \"petalWidth\": 1.8, \"species\": \"virginica\"}, {\"sepalLength\": 7.7, \"sepalWidth\": 3.8, \"petalLength\": 6.7, \"petalWidth\": 2.2, \"species\": \"virginica\"}, {\"sepalLength\": 7.7, \"sepalWidth\": 2.6, \"petalLength\": 6.9, \"petalWidth\": 2.3, \"species\": \"virginica\"}, {\"sepalLength\": 6.0, \"sepalWidth\": 2.2, \"petalLength\": 5.0, \"petalWidth\": 1.5, \"species\": \"virginica\"}, {\"sepalLength\": 6.9, \"sepalWidth\": 3.2, \"petalLength\": 5.7, \"petalWidth\": 2.3, \"species\": \"virginica\"}, {\"sepalLength\": 5.6, \"sepalWidth\": 2.8, \"petalLength\": 4.9, \"petalWidth\": 2.0, \"species\": \"virginica\"}, {\"sepalLength\": 7.7, \"sepalWidth\": 2.8, \"petalLength\": 6.7, \"petalWidth\": 2.0, \"species\": \"virginica\"}, {\"sepalLength\": 6.3, \"sepalWidth\": 2.7, \"petalLength\": 4.9, \"petalWidth\": 1.8, \"species\": \"virginica\"}, {\"sepalLength\": 6.7, \"sepalWidth\": 3.3, \"petalLength\": 5.7, \"petalWidth\": 2.1, \"species\": \"virginica\"}, {\"sepalLength\": 7.2, \"sepalWidth\": 3.2, \"petalLength\": 6.0, \"petalWidth\": 1.8, \"species\": \"virginica\"}, {\"sepalLength\": 6.2, \"sepalWidth\": 2.8, \"petalLength\": 4.8, \"petalWidth\": 1.8, \"species\": \"virginica\"}, {\"sepalLength\": 6.1, \"sepalWidth\": 3.0, \"petalLength\": 4.9, \"petalWidth\": 1.8, \"species\": \"virginica\"}, {\"sepalLength\": 6.4, \"sepalWidth\": 2.8, \"petalLength\": 5.6, \"petalWidth\": 2.1, \"species\": \"virginica\"}, {\"sepalLength\": 7.2, \"sepalWidth\": 3.0, \"petalLength\": 5.8, \"petalWidth\": 1.6, \"species\": \"virginica\"}, {\"sepalLength\": 7.4, \"sepalWidth\": 2.8, \"petalLength\": 6.1, \"petalWidth\": 1.9, \"species\": \"virginica\"}, {\"sepalLength\": 7.9, \"sepalWidth\": 3.8, \"petalLength\": 6.4, \"petalWidth\": 2.0, \"species\": \"virginica\"}, {\"sepalLength\": 6.4, \"sepalWidth\": 2.8, \"petalLength\": 5.6, \"petalWidth\": 2.2, \"species\": \"virginica\"}, {\"sepalLength\": 6.3, \"sepalWidth\": 2.8, \"petalLength\": 5.1, \"petalWidth\": 1.5, \"species\": \"virginica\"}, {\"sepalLength\": 6.1, \"sepalWidth\": 2.6, \"petalLength\": 5.6, \"petalWidth\": 1.4, \"species\": \"virginica\"}, {\"sepalLength\": 7.7, \"sepalWidth\": 3.0, \"petalLength\": 6.1, \"petalWidth\": 2.3, \"species\": \"virginica\"}, {\"sepalLength\": 6.3, \"sepalWidth\": 3.4, \"petalLength\": 5.6, \"petalWidth\": 2.4, \"species\": \"virginica\"}, {\"sepalLength\": 6.4, \"sepalWidth\": 3.1, \"petalLength\": 5.5, \"petalWidth\": 1.8, \"species\": \"virginica\"}, {\"sepalLength\": 6.0, \"sepalWidth\": 3.0, \"petalLength\": 4.8, \"petalWidth\": 1.8, \"species\": \"virginica\"}, {\"sepalLength\": 6.9, \"sepalWidth\": 3.1, \"petalLength\": 5.4, \"petalWidth\": 2.1, \"species\": \"virginica\"}, {\"sepalLength\": 6.7, \"sepalWidth\": 3.1, \"petalLength\": 5.6, \"petalWidth\": 2.4, \"species\": \"virginica\"}, {\"sepalLength\": 6.9, \"sepalWidth\": 3.1, \"petalLength\": 5.1, \"petalWidth\": 2.3, \"species\": \"virginica\"}, {\"sepalLength\": 5.8, \"sepalWidth\": 2.7, \"petalLength\": 5.1, \"petalWidth\": 1.9, \"species\": \"virginica\"}, {\"sepalLength\": 6.8, \"sepalWidth\": 3.2, \"petalLength\": 5.9, \"petalWidth\": 2.3, \"species\": \"virginica\"}, {\"sepalLength\": 6.7, \"sepalWidth\": 3.3, \"petalLength\": 5.7, \"petalWidth\": 2.5, \"species\": \"virginica\"}, {\"sepalLength\": 6.7, \"sepalWidth\": 3.0, \"petalLength\": 5.2, \"petalWidth\": 2.3, \"species\": \"virginica\"}, {\"sepalLength\": 6.3, \"sepalWidth\": 2.5, \"petalLength\": 5.0, \"petalWidth\": 1.9, \"species\": \"virginica\"}, {\"sepalLength\": 6.5, \"sepalWidth\": 3.0, \"petalLength\": 5.2, \"petalWidth\": 2.0, \"species\": \"virginica\"}, {\"sepalLength\": 6.2, \"sepalWidth\": 3.4, \"petalLength\": 5.4, \"petalWidth\": 2.3, \"species\": \"virginica\"}, {\"sepalLength\": 5.9, \"sepalWidth\": 3.0, \"petalLength\": 5.1, \"petalWidth\": 1.8, \"species\": \"virginica\"}]}}, {\"mode\": \"vega-lite\"});\n",
              "</script>"
            ],
            "text/plain": [
              "alt.Chart(...)"
            ]
          },
          "metadata": {},
          "execution_count": 19
        }
      ],
      "source": [
        "alt.Chart(iris).mark_tick().encode(\n",
        "    x='petalLength',\n",
        "    y='species',\n",
        "    color='species'\n",
        ")"
      ]
    },
    {
      "cell_type": "markdown",
      "metadata": {
        "id": "SaMYaJiVu27g"
      },
      "source": [
        "Altair also can choose the orientation of the tick mark appropriately given the types of the x and y encodings:"
      ]
    },
    {
      "cell_type": "code",
      "execution_count": 20,
      "metadata": {
        "colab": {
          "base_uri": "https://localhost:8080/",
          "height": 401
        },
        "id": "hms2X-Eou27g",
        "outputId": "346fa3a2-80a2-4e8d-803a-08afb04a4831"
      },
      "outputs": [
        {
          "output_type": "execute_result",
          "data": {
            "text/html": [
              "\n",
              "<div id=\"altair-viz-48725e4759284fdbac442557fc40806b\"></div>\n",
              "<script type=\"text/javascript\">\n",
              "  var VEGA_DEBUG = (typeof VEGA_DEBUG == \"undefined\") ? {} : VEGA_DEBUG;\n",
              "  (function(spec, embedOpt){\n",
              "    let outputDiv = document.currentScript.previousElementSibling;\n",
              "    if (outputDiv.id !== \"altair-viz-48725e4759284fdbac442557fc40806b\") {\n",
              "      outputDiv = document.getElementById(\"altair-viz-48725e4759284fdbac442557fc40806b\");\n",
              "    }\n",
              "    const paths = {\n",
              "      \"vega\": \"https://cdn.jsdelivr.net/npm//vega@5?noext\",\n",
              "      \"vega-lib\": \"https://cdn.jsdelivr.net/npm//vega-lib?noext\",\n",
              "      \"vega-lite\": \"https://cdn.jsdelivr.net/npm//vega-lite@4.17.0?noext\",\n",
              "      \"vega-embed\": \"https://cdn.jsdelivr.net/npm//vega-embed@6?noext\",\n",
              "    };\n",
              "\n",
              "    function maybeLoadScript(lib, version) {\n",
              "      var key = `${lib.replace(\"-\", \"\")}_version`;\n",
              "      return (VEGA_DEBUG[key] == version) ?\n",
              "        Promise.resolve(paths[lib]) :\n",
              "        new Promise(function(resolve, reject) {\n",
              "          var s = document.createElement('script');\n",
              "          document.getElementsByTagName(\"head\")[0].appendChild(s);\n",
              "          s.async = true;\n",
              "          s.onload = () => {\n",
              "            VEGA_DEBUG[key] = version;\n",
              "            return resolve(paths[lib]);\n",
              "          };\n",
              "          s.onerror = () => reject(`Error loading script: ${paths[lib]}`);\n",
              "          s.src = paths[lib];\n",
              "        });\n",
              "    }\n",
              "\n",
              "    function showError(err) {\n",
              "      outputDiv.innerHTML = `<div class=\"error\" style=\"color:red;\">${err}</div>`;\n",
              "      throw err;\n",
              "    }\n",
              "\n",
              "    function displayChart(vegaEmbed) {\n",
              "      vegaEmbed(outputDiv, spec, embedOpt)\n",
              "        .catch(err => showError(`Javascript Error: ${err.message}<br>This usually means there's a typo in your chart specification. See the javascript console for the full traceback.`));\n",
              "    }\n",
              "\n",
              "    if(typeof define === \"function\" && define.amd) {\n",
              "      requirejs.config({paths});\n",
              "      require([\"vega-embed\"], displayChart, err => showError(`Error loading script: ${err.message}`));\n",
              "    } else {\n",
              "      maybeLoadScript(\"vega\", \"5\")\n",
              "        .then(() => maybeLoadScript(\"vega-lite\", \"4.17.0\"))\n",
              "        .then(() => maybeLoadScript(\"vega-embed\", \"6\"))\n",
              "        .catch(showError)\n",
              "        .then(() => displayChart(vegaEmbed));\n",
              "    }\n",
              "  })({\"config\": {\"view\": {\"continuousWidth\": 400, \"continuousHeight\": 300}}, \"data\": {\"name\": \"data-a264acbd6e539a8b3afc0cb5f240fb57\"}, \"mark\": \"tick\", \"encoding\": {\"color\": {\"field\": \"species\", \"type\": \"nominal\"}, \"x\": {\"field\": \"species\", \"type\": \"nominal\"}, \"y\": {\"field\": \"petalLength\", \"type\": \"quantitative\"}}, \"$schema\": \"https://vega.github.io/schema/vega-lite/v4.17.0.json\", \"datasets\": {\"data-a264acbd6e539a8b3afc0cb5f240fb57\": [{\"sepalLength\": 5.1, \"sepalWidth\": 3.5, \"petalLength\": 1.4, \"petalWidth\": 0.2, \"species\": \"setosa\"}, {\"sepalLength\": 4.9, \"sepalWidth\": 3.0, \"petalLength\": 1.4, \"petalWidth\": 0.2, \"species\": \"setosa\"}, {\"sepalLength\": 4.7, \"sepalWidth\": 3.2, \"petalLength\": 1.3, \"petalWidth\": 0.2, \"species\": \"setosa\"}, {\"sepalLength\": 4.6, \"sepalWidth\": 3.1, \"petalLength\": 1.5, \"petalWidth\": 0.2, \"species\": \"setosa\"}, {\"sepalLength\": 5.0, \"sepalWidth\": 3.6, \"petalLength\": 1.4, \"petalWidth\": 0.2, \"species\": \"setosa\"}, {\"sepalLength\": 5.4, \"sepalWidth\": 3.9, \"petalLength\": 1.7000000000000002, \"petalWidth\": 0.4, \"species\": \"setosa\"}, {\"sepalLength\": 4.6, \"sepalWidth\": 3.4, \"petalLength\": 1.4, \"petalWidth\": 0.30000000000000004, \"species\": \"setosa\"}, {\"sepalLength\": 5.0, \"sepalWidth\": 3.4, \"petalLength\": 1.5, \"petalWidth\": 0.2, \"species\": \"setosa\"}, {\"sepalLength\": 4.4, \"sepalWidth\": 2.9, \"petalLength\": 1.4, \"petalWidth\": 0.2, \"species\": \"setosa\"}, {\"sepalLength\": 4.9, \"sepalWidth\": 3.1, \"petalLength\": 1.5, \"petalWidth\": 0.1, \"species\": \"setosa\"}, {\"sepalLength\": 5.4, \"sepalWidth\": 3.7, \"petalLength\": 1.5, \"petalWidth\": 0.2, \"species\": \"setosa\"}, {\"sepalLength\": 4.8, \"sepalWidth\": 3.4, \"petalLength\": 1.6, \"petalWidth\": 0.2, \"species\": \"setosa\"}, {\"sepalLength\": 4.8, \"sepalWidth\": 3.0, \"petalLength\": 1.4, \"petalWidth\": 0.1, \"species\": \"setosa\"}, {\"sepalLength\": 4.3, \"sepalWidth\": 3.0, \"petalLength\": 1.1, \"petalWidth\": 0.1, \"species\": \"setosa\"}, {\"sepalLength\": 5.8, \"sepalWidth\": 4.0, \"petalLength\": 1.2, \"petalWidth\": 0.2, \"species\": \"setosa\"}, {\"sepalLength\": 5.7, \"sepalWidth\": 4.4, \"petalLength\": 1.5, \"petalWidth\": 0.4, \"species\": \"setosa\"}, {\"sepalLength\": 5.4, \"sepalWidth\": 3.9, \"petalLength\": 1.3, \"petalWidth\": 0.4, \"species\": \"setosa\"}, {\"sepalLength\": 5.1, \"sepalWidth\": 3.5, \"petalLength\": 1.4, \"petalWidth\": 0.30000000000000004, \"species\": \"setosa\"}, {\"sepalLength\": 5.7, \"sepalWidth\": 3.8, \"petalLength\": 1.7000000000000002, \"petalWidth\": 0.30000000000000004, \"species\": \"setosa\"}, {\"sepalLength\": 5.1, \"sepalWidth\": 3.8, \"petalLength\": 1.5, \"petalWidth\": 0.30000000000000004, \"species\": \"setosa\"}, {\"sepalLength\": 5.4, \"sepalWidth\": 3.4, \"petalLength\": 1.7000000000000002, \"petalWidth\": 0.2, \"species\": \"setosa\"}, {\"sepalLength\": 5.1, \"sepalWidth\": 3.7, \"petalLength\": 1.5, \"petalWidth\": 0.4, \"species\": \"setosa\"}, {\"sepalLength\": 4.6, \"sepalWidth\": 3.6, \"petalLength\": 1.0, \"petalWidth\": 0.2, \"species\": \"setosa\"}, {\"sepalLength\": 5.1, \"sepalWidth\": 3.3, \"petalLength\": 1.7000000000000002, \"petalWidth\": 0.5, \"species\": \"setosa\"}, {\"sepalLength\": 4.8, \"sepalWidth\": 3.4, \"petalLength\": 1.9, \"petalWidth\": 0.2, \"species\": \"setosa\"}, {\"sepalLength\": 5.0, \"sepalWidth\": 3.0, \"petalLength\": 1.6, \"petalWidth\": 0.2, \"species\": \"setosa\"}, {\"sepalLength\": 5.0, \"sepalWidth\": 3.4, \"petalLength\": 1.6, \"petalWidth\": 0.4, \"species\": \"setosa\"}, {\"sepalLength\": 5.2, \"sepalWidth\": 3.5, \"petalLength\": 1.5, \"petalWidth\": 0.2, \"species\": \"setosa\"}, {\"sepalLength\": 5.2, \"sepalWidth\": 3.4, \"petalLength\": 1.4, \"petalWidth\": 0.2, \"species\": \"setosa\"}, {\"sepalLength\": 4.7, \"sepalWidth\": 3.2, \"petalLength\": 1.6, \"petalWidth\": 0.2, \"species\": \"setosa\"}, {\"sepalLength\": 4.8, \"sepalWidth\": 3.1, \"petalLength\": 1.6, \"petalWidth\": 0.2, \"species\": \"setosa\"}, {\"sepalLength\": 5.4, \"sepalWidth\": 3.4, \"petalLength\": 1.5, \"petalWidth\": 0.4, \"species\": \"setosa\"}, {\"sepalLength\": 5.2, \"sepalWidth\": 4.1, \"petalLength\": 1.5, \"petalWidth\": 0.1, \"species\": \"setosa\"}, {\"sepalLength\": 5.5, \"sepalWidth\": 4.2, \"petalLength\": 1.4, \"petalWidth\": 0.2, \"species\": \"setosa\"}, {\"sepalLength\": 4.9, \"sepalWidth\": 3.1, \"petalLength\": 1.5, \"petalWidth\": 0.2, \"species\": \"setosa\"}, {\"sepalLength\": 5.0, \"sepalWidth\": 3.2, \"petalLength\": 1.2, \"petalWidth\": 0.2, \"species\": \"setosa\"}, {\"sepalLength\": 5.5, \"sepalWidth\": 3.5, \"petalLength\": 1.3, \"petalWidth\": 0.2, \"species\": \"setosa\"}, {\"sepalLength\": 4.9, \"sepalWidth\": 3.6, \"petalLength\": 1.4, \"petalWidth\": 0.1, \"species\": \"setosa\"}, {\"sepalLength\": 4.4, \"sepalWidth\": 3.0, \"petalLength\": 1.3, \"petalWidth\": 0.2, \"species\": \"setosa\"}, {\"sepalLength\": 5.1, \"sepalWidth\": 3.4, \"petalLength\": 1.5, \"petalWidth\": 0.2, \"species\": \"setosa\"}, {\"sepalLength\": 5.0, \"sepalWidth\": 3.5, \"petalLength\": 1.3, \"petalWidth\": 0.30000000000000004, \"species\": \"setosa\"}, {\"sepalLength\": 4.5, \"sepalWidth\": 2.3, \"petalLength\": 1.3, \"petalWidth\": 0.30000000000000004, \"species\": \"setosa\"}, {\"sepalLength\": 4.4, \"sepalWidth\": 3.2, \"petalLength\": 1.3, \"petalWidth\": 0.2, \"species\": \"setosa\"}, {\"sepalLength\": 5.0, \"sepalWidth\": 3.5, \"petalLength\": 1.6, \"petalWidth\": 0.6000000000000001, \"species\": \"setosa\"}, {\"sepalLength\": 5.1, \"sepalWidth\": 3.8, \"petalLength\": 1.9, \"petalWidth\": 0.4, \"species\": \"setosa\"}, {\"sepalLength\": 4.8, \"sepalWidth\": 3.0, \"petalLength\": 1.4, \"petalWidth\": 0.30000000000000004, \"species\": \"setosa\"}, {\"sepalLength\": 5.1, \"sepalWidth\": 3.8, \"petalLength\": 1.6, \"petalWidth\": 0.2, \"species\": \"setosa\"}, {\"sepalLength\": 4.6, \"sepalWidth\": 3.2, \"petalLength\": 1.4, \"petalWidth\": 0.2, \"species\": \"setosa\"}, {\"sepalLength\": 5.3, \"sepalWidth\": 3.7, \"petalLength\": 1.5, \"petalWidth\": 0.2, \"species\": \"setosa\"}, {\"sepalLength\": 5.0, \"sepalWidth\": 3.3, \"petalLength\": 1.4, \"petalWidth\": 0.2, \"species\": \"setosa\"}, {\"sepalLength\": 7.0, \"sepalWidth\": 3.2, \"petalLength\": 4.7, \"petalWidth\": 1.4, \"species\": \"versicolor\"}, {\"sepalLength\": 6.4, \"sepalWidth\": 3.2, \"petalLength\": 4.5, \"petalWidth\": 1.5, \"species\": \"versicolor\"}, {\"sepalLength\": 6.9, \"sepalWidth\": 3.1, \"petalLength\": 4.9, \"petalWidth\": 1.5, \"species\": \"versicolor\"}, {\"sepalLength\": 5.5, \"sepalWidth\": 2.3, \"petalLength\": 4.0, \"petalWidth\": 1.3, \"species\": \"versicolor\"}, {\"sepalLength\": 6.5, \"sepalWidth\": 2.8, \"petalLength\": 4.6, \"petalWidth\": 1.5, \"species\": \"versicolor\"}, {\"sepalLength\": 5.7, \"sepalWidth\": 2.8, \"petalLength\": 4.5, \"petalWidth\": 1.3, \"species\": \"versicolor\"}, {\"sepalLength\": 6.3, \"sepalWidth\": 3.3, \"petalLength\": 4.7, \"petalWidth\": 1.6, \"species\": \"versicolor\"}, {\"sepalLength\": 4.9, \"sepalWidth\": 2.4, \"petalLength\": 3.3, \"petalWidth\": 1.0, \"species\": \"versicolor\"}, {\"sepalLength\": 6.6, \"sepalWidth\": 2.9, \"petalLength\": 4.6, \"petalWidth\": 1.3, \"species\": \"versicolor\"}, {\"sepalLength\": 5.2, \"sepalWidth\": 2.7, \"petalLength\": 3.9, \"petalWidth\": 1.4, \"species\": \"versicolor\"}, {\"sepalLength\": 5.0, \"sepalWidth\": 2.0, \"petalLength\": 3.5, \"petalWidth\": 1.0, \"species\": \"versicolor\"}, {\"sepalLength\": 5.9, \"sepalWidth\": 3.0, \"petalLength\": 4.2, \"petalWidth\": 1.5, \"species\": \"versicolor\"}, {\"sepalLength\": 6.0, \"sepalWidth\": 2.2, \"petalLength\": 4.0, \"petalWidth\": 1.0, \"species\": \"versicolor\"}, {\"sepalLength\": 6.1, \"sepalWidth\": 2.9, \"petalLength\": 4.7, \"petalWidth\": 1.4, \"species\": \"versicolor\"}, {\"sepalLength\": 5.6, \"sepalWidth\": 2.9, \"petalLength\": 3.6, \"petalWidth\": 1.3, \"species\": \"versicolor\"}, {\"sepalLength\": 6.7, \"sepalWidth\": 3.1, \"petalLength\": 4.4, \"petalWidth\": 1.4, \"species\": \"versicolor\"}, {\"sepalLength\": 5.6, \"sepalWidth\": 3.0, \"petalLength\": 4.5, \"petalWidth\": 1.5, \"species\": \"versicolor\"}, {\"sepalLength\": 5.8, \"sepalWidth\": 2.7, \"petalLength\": 4.1, \"petalWidth\": 1.0, \"species\": \"versicolor\"}, {\"sepalLength\": 6.2, \"sepalWidth\": 2.2, \"petalLength\": 4.5, \"petalWidth\": 1.5, \"species\": \"versicolor\"}, {\"sepalLength\": 5.6, \"sepalWidth\": 2.5, \"petalLength\": 3.9, \"petalWidth\": 1.1, \"species\": \"versicolor\"}, {\"sepalLength\": 5.9, \"sepalWidth\": 3.2, \"petalLength\": 4.8, \"petalWidth\": 1.8, \"species\": \"versicolor\"}, {\"sepalLength\": 6.1, \"sepalWidth\": 2.8, \"petalLength\": 4.0, \"petalWidth\": 1.3, \"species\": \"versicolor\"}, {\"sepalLength\": 6.3, \"sepalWidth\": 2.5, \"petalLength\": 4.9, \"petalWidth\": 1.5, \"species\": \"versicolor\"}, {\"sepalLength\": 6.1, \"sepalWidth\": 2.8, \"petalLength\": 4.7, \"petalWidth\": 1.2, \"species\": \"versicolor\"}, {\"sepalLength\": 6.4, \"sepalWidth\": 2.9, \"petalLength\": 4.3, \"petalWidth\": 1.3, \"species\": \"versicolor\"}, {\"sepalLength\": 6.6, \"sepalWidth\": 3.0, \"petalLength\": 4.4, \"petalWidth\": 1.4, \"species\": \"versicolor\"}, {\"sepalLength\": 6.8, \"sepalWidth\": 2.8, \"petalLength\": 4.8, \"petalWidth\": 1.4, \"species\": \"versicolor\"}, {\"sepalLength\": 6.7, \"sepalWidth\": 3.0, \"petalLength\": 5.0, \"petalWidth\": 1.7000000000000002, \"species\": \"versicolor\"}, {\"sepalLength\": 6.0, \"sepalWidth\": 2.9, \"petalLength\": 4.5, \"petalWidth\": 1.5, \"species\": \"versicolor\"}, {\"sepalLength\": 5.7, \"sepalWidth\": 2.6, \"petalLength\": 3.5, \"petalWidth\": 1.0, \"species\": \"versicolor\"}, {\"sepalLength\": 5.5, \"sepalWidth\": 2.4, \"petalLength\": 3.8, \"petalWidth\": 1.1, \"species\": \"versicolor\"}, {\"sepalLength\": 5.5, \"sepalWidth\": 2.4, \"petalLength\": 3.7, \"petalWidth\": 1.0, \"species\": \"versicolor\"}, {\"sepalLength\": 5.8, \"sepalWidth\": 2.7, \"petalLength\": 3.9, \"petalWidth\": 1.2, \"species\": \"versicolor\"}, {\"sepalLength\": 6.0, \"sepalWidth\": 2.7, \"petalLength\": 5.1, \"petalWidth\": 1.6, \"species\": \"versicolor\"}, {\"sepalLength\": 5.4, \"sepalWidth\": 3.0, \"petalLength\": 4.5, \"petalWidth\": 1.5, \"species\": \"versicolor\"}, {\"sepalLength\": 6.0, \"sepalWidth\": 3.4, \"petalLength\": 4.5, \"petalWidth\": 1.6, \"species\": \"versicolor\"}, {\"sepalLength\": 6.7, \"sepalWidth\": 3.1, \"petalLength\": 4.7, \"petalWidth\": 1.5, \"species\": \"versicolor\"}, {\"sepalLength\": 6.3, \"sepalWidth\": 2.3, \"petalLength\": 4.4, \"petalWidth\": 1.3, \"species\": \"versicolor\"}, {\"sepalLength\": 5.6, \"sepalWidth\": 3.0, \"petalLength\": 4.1, \"petalWidth\": 1.3, \"species\": \"versicolor\"}, {\"sepalLength\": 5.5, \"sepalWidth\": 2.5, \"petalLength\": 4.0, \"petalWidth\": 1.3, \"species\": \"versicolor\"}, {\"sepalLength\": 5.5, \"sepalWidth\": 2.6, \"petalLength\": 4.4, \"petalWidth\": 1.2, \"species\": \"versicolor\"}, {\"sepalLength\": 6.1, \"sepalWidth\": 3.0, \"petalLength\": 4.6, \"petalWidth\": 1.4, \"species\": \"versicolor\"}, {\"sepalLength\": 5.8, \"sepalWidth\": 2.6, \"petalLength\": 4.0, \"petalWidth\": 1.2, \"species\": \"versicolor\"}, {\"sepalLength\": 5.0, \"sepalWidth\": 2.3, \"petalLength\": 3.3, \"petalWidth\": 1.0, \"species\": \"versicolor\"}, {\"sepalLength\": 5.6, \"sepalWidth\": 2.7, \"petalLength\": 4.2, \"petalWidth\": 1.3, \"species\": \"versicolor\"}, {\"sepalLength\": 5.7, \"sepalWidth\": 3.0, \"petalLength\": 4.2, \"petalWidth\": 1.2, \"species\": \"versicolor\"}, {\"sepalLength\": 5.7, \"sepalWidth\": 2.9, \"petalLength\": 4.2, \"petalWidth\": 1.3, \"species\": \"versicolor\"}, {\"sepalLength\": 6.2, \"sepalWidth\": 2.9, \"petalLength\": 4.3, \"petalWidth\": 1.3, \"species\": \"versicolor\"}, {\"sepalLength\": 5.1, \"sepalWidth\": 2.5, \"petalLength\": 3.0, \"petalWidth\": 1.1, \"species\": \"versicolor\"}, {\"sepalLength\": 5.7, \"sepalWidth\": 2.8, \"petalLength\": 4.1, \"petalWidth\": 1.3, \"species\": \"versicolor\"}, {\"sepalLength\": 6.3, \"sepalWidth\": 3.3, \"petalLength\": 6.0, \"petalWidth\": 2.5, \"species\": \"virginica\"}, {\"sepalLength\": 5.8, \"sepalWidth\": 2.7, \"petalLength\": 5.1, \"petalWidth\": 1.9, \"species\": \"virginica\"}, {\"sepalLength\": 7.1, \"sepalWidth\": 3.0, \"petalLength\": 5.9, \"petalWidth\": 2.1, \"species\": \"virginica\"}, {\"sepalLength\": 6.3, \"sepalWidth\": 2.9, \"petalLength\": 5.6, \"petalWidth\": 1.8, \"species\": \"virginica\"}, {\"sepalLength\": 6.5, \"sepalWidth\": 3.0, \"petalLength\": 5.8, \"petalWidth\": 2.2, \"species\": \"virginica\"}, {\"sepalLength\": 7.6, \"sepalWidth\": 3.0, \"petalLength\": 6.6, \"petalWidth\": 2.1, \"species\": \"virginica\"}, {\"sepalLength\": 4.9, \"sepalWidth\": 2.5, \"petalLength\": 4.5, \"petalWidth\": 1.7000000000000002, \"species\": \"virginica\"}, {\"sepalLength\": 7.3, \"sepalWidth\": 2.9, \"petalLength\": 6.3, \"petalWidth\": 1.8, \"species\": \"virginica\"}, {\"sepalLength\": 6.7, \"sepalWidth\": 2.5, \"petalLength\": 5.8, \"petalWidth\": 1.8, \"species\": \"virginica\"}, {\"sepalLength\": 7.2, \"sepalWidth\": 3.6, \"petalLength\": 6.1, \"petalWidth\": 2.5, \"species\": \"virginica\"}, {\"sepalLength\": 6.5, \"sepalWidth\": 3.2, \"petalLength\": 5.1, \"petalWidth\": 2.0, \"species\": \"virginica\"}, {\"sepalLength\": 6.4, \"sepalWidth\": 2.7, \"petalLength\": 5.3, \"petalWidth\": 1.9, \"species\": \"virginica\"}, {\"sepalLength\": 6.8, \"sepalWidth\": 3.0, \"petalLength\": 5.5, \"petalWidth\": 2.1, \"species\": \"virginica\"}, {\"sepalLength\": 5.7, \"sepalWidth\": 2.5, \"petalLength\": 5.0, \"petalWidth\": 2.0, \"species\": \"virginica\"}, {\"sepalLength\": 5.8, \"sepalWidth\": 2.8, \"petalLength\": 5.1, \"petalWidth\": 2.4, \"species\": \"virginica\"}, {\"sepalLength\": 6.4, \"sepalWidth\": 3.2, \"petalLength\": 5.3, \"petalWidth\": 2.3, \"species\": \"virginica\"}, {\"sepalLength\": 6.5, \"sepalWidth\": 3.0, \"petalLength\": 5.5, \"petalWidth\": 1.8, \"species\": \"virginica\"}, {\"sepalLength\": 7.7, \"sepalWidth\": 3.8, \"petalLength\": 6.7, \"petalWidth\": 2.2, \"species\": \"virginica\"}, {\"sepalLength\": 7.7, \"sepalWidth\": 2.6, \"petalLength\": 6.9, \"petalWidth\": 2.3, \"species\": \"virginica\"}, {\"sepalLength\": 6.0, \"sepalWidth\": 2.2, \"petalLength\": 5.0, \"petalWidth\": 1.5, \"species\": \"virginica\"}, {\"sepalLength\": 6.9, \"sepalWidth\": 3.2, \"petalLength\": 5.7, \"petalWidth\": 2.3, \"species\": \"virginica\"}, {\"sepalLength\": 5.6, \"sepalWidth\": 2.8, \"petalLength\": 4.9, \"petalWidth\": 2.0, \"species\": \"virginica\"}, {\"sepalLength\": 7.7, \"sepalWidth\": 2.8, \"petalLength\": 6.7, \"petalWidth\": 2.0, \"species\": \"virginica\"}, {\"sepalLength\": 6.3, \"sepalWidth\": 2.7, \"petalLength\": 4.9, \"petalWidth\": 1.8, \"species\": \"virginica\"}, {\"sepalLength\": 6.7, \"sepalWidth\": 3.3, \"petalLength\": 5.7, \"petalWidth\": 2.1, \"species\": \"virginica\"}, {\"sepalLength\": 7.2, \"sepalWidth\": 3.2, \"petalLength\": 6.0, \"petalWidth\": 1.8, \"species\": \"virginica\"}, {\"sepalLength\": 6.2, \"sepalWidth\": 2.8, \"petalLength\": 4.8, \"petalWidth\": 1.8, \"species\": \"virginica\"}, {\"sepalLength\": 6.1, \"sepalWidth\": 3.0, \"petalLength\": 4.9, \"petalWidth\": 1.8, \"species\": \"virginica\"}, {\"sepalLength\": 6.4, \"sepalWidth\": 2.8, \"petalLength\": 5.6, \"petalWidth\": 2.1, \"species\": \"virginica\"}, {\"sepalLength\": 7.2, \"sepalWidth\": 3.0, \"petalLength\": 5.8, \"petalWidth\": 1.6, \"species\": \"virginica\"}, {\"sepalLength\": 7.4, \"sepalWidth\": 2.8, \"petalLength\": 6.1, \"petalWidth\": 1.9, \"species\": \"virginica\"}, {\"sepalLength\": 7.9, \"sepalWidth\": 3.8, \"petalLength\": 6.4, \"petalWidth\": 2.0, \"species\": \"virginica\"}, {\"sepalLength\": 6.4, \"sepalWidth\": 2.8, \"petalLength\": 5.6, \"petalWidth\": 2.2, \"species\": \"virginica\"}, {\"sepalLength\": 6.3, \"sepalWidth\": 2.8, \"petalLength\": 5.1, \"petalWidth\": 1.5, \"species\": \"virginica\"}, {\"sepalLength\": 6.1, \"sepalWidth\": 2.6, \"petalLength\": 5.6, \"petalWidth\": 1.4, \"species\": \"virginica\"}, {\"sepalLength\": 7.7, \"sepalWidth\": 3.0, \"petalLength\": 6.1, \"petalWidth\": 2.3, \"species\": \"virginica\"}, {\"sepalLength\": 6.3, \"sepalWidth\": 3.4, \"petalLength\": 5.6, \"petalWidth\": 2.4, \"species\": \"virginica\"}, {\"sepalLength\": 6.4, \"sepalWidth\": 3.1, \"petalLength\": 5.5, \"petalWidth\": 1.8, \"species\": \"virginica\"}, {\"sepalLength\": 6.0, \"sepalWidth\": 3.0, \"petalLength\": 4.8, \"petalWidth\": 1.8, \"species\": \"virginica\"}, {\"sepalLength\": 6.9, \"sepalWidth\": 3.1, \"petalLength\": 5.4, \"petalWidth\": 2.1, \"species\": \"virginica\"}, {\"sepalLength\": 6.7, \"sepalWidth\": 3.1, \"petalLength\": 5.6, \"petalWidth\": 2.4, \"species\": \"virginica\"}, {\"sepalLength\": 6.9, \"sepalWidth\": 3.1, \"petalLength\": 5.1, \"petalWidth\": 2.3, \"species\": \"virginica\"}, {\"sepalLength\": 5.8, \"sepalWidth\": 2.7, \"petalLength\": 5.1, \"petalWidth\": 1.9, \"species\": \"virginica\"}, {\"sepalLength\": 6.8, \"sepalWidth\": 3.2, \"petalLength\": 5.9, \"petalWidth\": 2.3, \"species\": \"virginica\"}, {\"sepalLength\": 6.7, \"sepalWidth\": 3.3, \"petalLength\": 5.7, \"petalWidth\": 2.5, \"species\": \"virginica\"}, {\"sepalLength\": 6.7, \"sepalWidth\": 3.0, \"petalLength\": 5.2, \"petalWidth\": 2.3, \"species\": \"virginica\"}, {\"sepalLength\": 6.3, \"sepalWidth\": 2.5, \"petalLength\": 5.0, \"petalWidth\": 1.9, \"species\": \"virginica\"}, {\"sepalLength\": 6.5, \"sepalWidth\": 3.0, \"petalLength\": 5.2, \"petalWidth\": 2.0, \"species\": \"virginica\"}, {\"sepalLength\": 6.2, \"sepalWidth\": 3.4, \"petalLength\": 5.4, \"petalWidth\": 2.3, \"species\": \"virginica\"}, {\"sepalLength\": 5.9, \"sepalWidth\": 3.0, \"petalLength\": 5.1, \"petalWidth\": 1.8, \"species\": \"virginica\"}]}}, {\"mode\": \"vega-lite\"});\n",
              "</script>"
            ],
            "text/plain": [
              "alt.Chart(...)"
            ]
          },
          "metadata": {},
          "execution_count": 20
        }
      ],
      "source": [
        "alt.Chart(iris).mark_tick().encode(\n",
        "    y='petalLength',\n",
        "    x='species',\n",
        "    color='species'\n",
        ")"
      ]
    },
    {
      "cell_type": "markdown",
      "metadata": {
        "id": "xpwGjqkgu27g"
      },
      "source": [
        "## 5. Binning and aggregation\n",
        "\n",
        "Let's return quickly to our 1D chart of petal length:"
      ]
    },
    {
      "cell_type": "code",
      "execution_count": 21,
      "metadata": {
        "colab": {
          "base_uri": "https://localhost:8080/",
          "height": 83
        },
        "id": "JyUUlMiRu27h",
        "outputId": "8dfd5b07-0634-4c70-ab04-47d4c6c11574"
      },
      "outputs": [
        {
          "output_type": "execute_result",
          "data": {
            "text/html": [
              "\n",
              "<div id=\"altair-viz-4e28c19b5d8044a0b82849e7c1e1cc8f\"></div>\n",
              "<script type=\"text/javascript\">\n",
              "  var VEGA_DEBUG = (typeof VEGA_DEBUG == \"undefined\") ? {} : VEGA_DEBUG;\n",
              "  (function(spec, embedOpt){\n",
              "    let outputDiv = document.currentScript.previousElementSibling;\n",
              "    if (outputDiv.id !== \"altair-viz-4e28c19b5d8044a0b82849e7c1e1cc8f\") {\n",
              "      outputDiv = document.getElementById(\"altair-viz-4e28c19b5d8044a0b82849e7c1e1cc8f\");\n",
              "    }\n",
              "    const paths = {\n",
              "      \"vega\": \"https://cdn.jsdelivr.net/npm//vega@5?noext\",\n",
              "      \"vega-lib\": \"https://cdn.jsdelivr.net/npm//vega-lib?noext\",\n",
              "      \"vega-lite\": \"https://cdn.jsdelivr.net/npm//vega-lite@4.17.0?noext\",\n",
              "      \"vega-embed\": \"https://cdn.jsdelivr.net/npm//vega-embed@6?noext\",\n",
              "    };\n",
              "\n",
              "    function maybeLoadScript(lib, version) {\n",
              "      var key = `${lib.replace(\"-\", \"\")}_version`;\n",
              "      return (VEGA_DEBUG[key] == version) ?\n",
              "        Promise.resolve(paths[lib]) :\n",
              "        new Promise(function(resolve, reject) {\n",
              "          var s = document.createElement('script');\n",
              "          document.getElementsByTagName(\"head\")[0].appendChild(s);\n",
              "          s.async = true;\n",
              "          s.onload = () => {\n",
              "            VEGA_DEBUG[key] = version;\n",
              "            return resolve(paths[lib]);\n",
              "          };\n",
              "          s.onerror = () => reject(`Error loading script: ${paths[lib]}`);\n",
              "          s.src = paths[lib];\n",
              "        });\n",
              "    }\n",
              "\n",
              "    function showError(err) {\n",
              "      outputDiv.innerHTML = `<div class=\"error\" style=\"color:red;\">${err}</div>`;\n",
              "      throw err;\n",
              "    }\n",
              "\n",
              "    function displayChart(vegaEmbed) {\n",
              "      vegaEmbed(outputDiv, spec, embedOpt)\n",
              "        .catch(err => showError(`Javascript Error: ${err.message}<br>This usually means there's a typo in your chart specification. See the javascript console for the full traceback.`));\n",
              "    }\n",
              "\n",
              "    if(typeof define === \"function\" && define.amd) {\n",
              "      requirejs.config({paths});\n",
              "      require([\"vega-embed\"], displayChart, err => showError(`Error loading script: ${err.message}`));\n",
              "    } else {\n",
              "      maybeLoadScript(\"vega\", \"5\")\n",
              "        .then(() => maybeLoadScript(\"vega-lite\", \"4.17.0\"))\n",
              "        .then(() => maybeLoadScript(\"vega-embed\", \"6\"))\n",
              "        .catch(showError)\n",
              "        .then(() => displayChart(vegaEmbed));\n",
              "    }\n",
              "  })({\"config\": {\"view\": {\"continuousWidth\": 400, \"continuousHeight\": 300}}, \"data\": {\"name\": \"data-a264acbd6e539a8b3afc0cb5f240fb57\"}, \"mark\": \"tick\", \"encoding\": {\"x\": {\"field\": \"petalLength\", \"type\": \"quantitative\"}}, \"$schema\": \"https://vega.github.io/schema/vega-lite/v4.17.0.json\", \"datasets\": {\"data-a264acbd6e539a8b3afc0cb5f240fb57\": [{\"sepalLength\": 5.1, \"sepalWidth\": 3.5, \"petalLength\": 1.4, \"petalWidth\": 0.2, \"species\": \"setosa\"}, {\"sepalLength\": 4.9, \"sepalWidth\": 3.0, \"petalLength\": 1.4, \"petalWidth\": 0.2, \"species\": \"setosa\"}, {\"sepalLength\": 4.7, \"sepalWidth\": 3.2, \"petalLength\": 1.3, \"petalWidth\": 0.2, \"species\": \"setosa\"}, {\"sepalLength\": 4.6, \"sepalWidth\": 3.1, \"petalLength\": 1.5, \"petalWidth\": 0.2, \"species\": \"setosa\"}, {\"sepalLength\": 5.0, \"sepalWidth\": 3.6, \"petalLength\": 1.4, \"petalWidth\": 0.2, \"species\": \"setosa\"}, {\"sepalLength\": 5.4, \"sepalWidth\": 3.9, \"petalLength\": 1.7000000000000002, \"petalWidth\": 0.4, \"species\": \"setosa\"}, {\"sepalLength\": 4.6, \"sepalWidth\": 3.4, \"petalLength\": 1.4, \"petalWidth\": 0.30000000000000004, \"species\": \"setosa\"}, {\"sepalLength\": 5.0, \"sepalWidth\": 3.4, \"petalLength\": 1.5, \"petalWidth\": 0.2, \"species\": \"setosa\"}, {\"sepalLength\": 4.4, \"sepalWidth\": 2.9, \"petalLength\": 1.4, \"petalWidth\": 0.2, \"species\": \"setosa\"}, {\"sepalLength\": 4.9, \"sepalWidth\": 3.1, \"petalLength\": 1.5, \"petalWidth\": 0.1, \"species\": \"setosa\"}, {\"sepalLength\": 5.4, \"sepalWidth\": 3.7, \"petalLength\": 1.5, \"petalWidth\": 0.2, \"species\": \"setosa\"}, {\"sepalLength\": 4.8, \"sepalWidth\": 3.4, \"petalLength\": 1.6, \"petalWidth\": 0.2, \"species\": \"setosa\"}, {\"sepalLength\": 4.8, \"sepalWidth\": 3.0, \"petalLength\": 1.4, \"petalWidth\": 0.1, \"species\": \"setosa\"}, {\"sepalLength\": 4.3, \"sepalWidth\": 3.0, \"petalLength\": 1.1, \"petalWidth\": 0.1, \"species\": \"setosa\"}, {\"sepalLength\": 5.8, \"sepalWidth\": 4.0, \"petalLength\": 1.2, \"petalWidth\": 0.2, \"species\": \"setosa\"}, {\"sepalLength\": 5.7, \"sepalWidth\": 4.4, \"petalLength\": 1.5, \"petalWidth\": 0.4, \"species\": \"setosa\"}, {\"sepalLength\": 5.4, \"sepalWidth\": 3.9, \"petalLength\": 1.3, \"petalWidth\": 0.4, \"species\": \"setosa\"}, {\"sepalLength\": 5.1, \"sepalWidth\": 3.5, \"petalLength\": 1.4, \"petalWidth\": 0.30000000000000004, \"species\": \"setosa\"}, {\"sepalLength\": 5.7, \"sepalWidth\": 3.8, \"petalLength\": 1.7000000000000002, \"petalWidth\": 0.30000000000000004, \"species\": \"setosa\"}, {\"sepalLength\": 5.1, \"sepalWidth\": 3.8, \"petalLength\": 1.5, \"petalWidth\": 0.30000000000000004, \"species\": \"setosa\"}, {\"sepalLength\": 5.4, \"sepalWidth\": 3.4, \"petalLength\": 1.7000000000000002, \"petalWidth\": 0.2, \"species\": \"setosa\"}, {\"sepalLength\": 5.1, \"sepalWidth\": 3.7, \"petalLength\": 1.5, \"petalWidth\": 0.4, \"species\": \"setosa\"}, {\"sepalLength\": 4.6, \"sepalWidth\": 3.6, \"petalLength\": 1.0, \"petalWidth\": 0.2, \"species\": \"setosa\"}, {\"sepalLength\": 5.1, \"sepalWidth\": 3.3, \"petalLength\": 1.7000000000000002, \"petalWidth\": 0.5, \"species\": \"setosa\"}, {\"sepalLength\": 4.8, \"sepalWidth\": 3.4, \"petalLength\": 1.9, \"petalWidth\": 0.2, \"species\": \"setosa\"}, {\"sepalLength\": 5.0, \"sepalWidth\": 3.0, \"petalLength\": 1.6, \"petalWidth\": 0.2, \"species\": \"setosa\"}, {\"sepalLength\": 5.0, \"sepalWidth\": 3.4, \"petalLength\": 1.6, \"petalWidth\": 0.4, \"species\": \"setosa\"}, {\"sepalLength\": 5.2, \"sepalWidth\": 3.5, \"petalLength\": 1.5, \"petalWidth\": 0.2, \"species\": \"setosa\"}, {\"sepalLength\": 5.2, \"sepalWidth\": 3.4, \"petalLength\": 1.4, \"petalWidth\": 0.2, \"species\": \"setosa\"}, {\"sepalLength\": 4.7, \"sepalWidth\": 3.2, \"petalLength\": 1.6, \"petalWidth\": 0.2, \"species\": \"setosa\"}, {\"sepalLength\": 4.8, \"sepalWidth\": 3.1, \"petalLength\": 1.6, \"petalWidth\": 0.2, \"species\": \"setosa\"}, {\"sepalLength\": 5.4, \"sepalWidth\": 3.4, \"petalLength\": 1.5, \"petalWidth\": 0.4, \"species\": \"setosa\"}, {\"sepalLength\": 5.2, \"sepalWidth\": 4.1, \"petalLength\": 1.5, \"petalWidth\": 0.1, \"species\": \"setosa\"}, {\"sepalLength\": 5.5, \"sepalWidth\": 4.2, \"petalLength\": 1.4, \"petalWidth\": 0.2, \"species\": \"setosa\"}, {\"sepalLength\": 4.9, \"sepalWidth\": 3.1, \"petalLength\": 1.5, \"petalWidth\": 0.2, \"species\": \"setosa\"}, {\"sepalLength\": 5.0, \"sepalWidth\": 3.2, \"petalLength\": 1.2, \"petalWidth\": 0.2, \"species\": \"setosa\"}, {\"sepalLength\": 5.5, \"sepalWidth\": 3.5, \"petalLength\": 1.3, \"petalWidth\": 0.2, \"species\": \"setosa\"}, {\"sepalLength\": 4.9, \"sepalWidth\": 3.6, \"petalLength\": 1.4, \"petalWidth\": 0.1, \"species\": \"setosa\"}, {\"sepalLength\": 4.4, \"sepalWidth\": 3.0, \"petalLength\": 1.3, \"petalWidth\": 0.2, \"species\": \"setosa\"}, {\"sepalLength\": 5.1, \"sepalWidth\": 3.4, \"petalLength\": 1.5, \"petalWidth\": 0.2, \"species\": \"setosa\"}, {\"sepalLength\": 5.0, \"sepalWidth\": 3.5, \"petalLength\": 1.3, \"petalWidth\": 0.30000000000000004, \"species\": \"setosa\"}, {\"sepalLength\": 4.5, \"sepalWidth\": 2.3, \"petalLength\": 1.3, \"petalWidth\": 0.30000000000000004, \"species\": \"setosa\"}, {\"sepalLength\": 4.4, \"sepalWidth\": 3.2, \"petalLength\": 1.3, \"petalWidth\": 0.2, \"species\": \"setosa\"}, {\"sepalLength\": 5.0, \"sepalWidth\": 3.5, \"petalLength\": 1.6, \"petalWidth\": 0.6000000000000001, \"species\": \"setosa\"}, {\"sepalLength\": 5.1, \"sepalWidth\": 3.8, \"petalLength\": 1.9, \"petalWidth\": 0.4, \"species\": \"setosa\"}, {\"sepalLength\": 4.8, \"sepalWidth\": 3.0, \"petalLength\": 1.4, \"petalWidth\": 0.30000000000000004, \"species\": \"setosa\"}, {\"sepalLength\": 5.1, \"sepalWidth\": 3.8, \"petalLength\": 1.6, \"petalWidth\": 0.2, \"species\": \"setosa\"}, {\"sepalLength\": 4.6, \"sepalWidth\": 3.2, \"petalLength\": 1.4, \"petalWidth\": 0.2, \"species\": \"setosa\"}, {\"sepalLength\": 5.3, \"sepalWidth\": 3.7, \"petalLength\": 1.5, \"petalWidth\": 0.2, \"species\": \"setosa\"}, {\"sepalLength\": 5.0, \"sepalWidth\": 3.3, \"petalLength\": 1.4, \"petalWidth\": 0.2, \"species\": \"setosa\"}, {\"sepalLength\": 7.0, \"sepalWidth\": 3.2, \"petalLength\": 4.7, \"petalWidth\": 1.4, \"species\": \"versicolor\"}, {\"sepalLength\": 6.4, \"sepalWidth\": 3.2, \"petalLength\": 4.5, \"petalWidth\": 1.5, \"species\": \"versicolor\"}, {\"sepalLength\": 6.9, \"sepalWidth\": 3.1, \"petalLength\": 4.9, \"petalWidth\": 1.5, \"species\": \"versicolor\"}, {\"sepalLength\": 5.5, \"sepalWidth\": 2.3, \"petalLength\": 4.0, \"petalWidth\": 1.3, \"species\": \"versicolor\"}, {\"sepalLength\": 6.5, \"sepalWidth\": 2.8, \"petalLength\": 4.6, \"petalWidth\": 1.5, \"species\": \"versicolor\"}, {\"sepalLength\": 5.7, \"sepalWidth\": 2.8, \"petalLength\": 4.5, \"petalWidth\": 1.3, \"species\": \"versicolor\"}, {\"sepalLength\": 6.3, \"sepalWidth\": 3.3, \"petalLength\": 4.7, \"petalWidth\": 1.6, \"species\": \"versicolor\"}, {\"sepalLength\": 4.9, \"sepalWidth\": 2.4, \"petalLength\": 3.3, \"petalWidth\": 1.0, \"species\": \"versicolor\"}, {\"sepalLength\": 6.6, \"sepalWidth\": 2.9, \"petalLength\": 4.6, \"petalWidth\": 1.3, \"species\": \"versicolor\"}, {\"sepalLength\": 5.2, \"sepalWidth\": 2.7, \"petalLength\": 3.9, \"petalWidth\": 1.4, \"species\": \"versicolor\"}, {\"sepalLength\": 5.0, \"sepalWidth\": 2.0, \"petalLength\": 3.5, \"petalWidth\": 1.0, \"species\": \"versicolor\"}, {\"sepalLength\": 5.9, \"sepalWidth\": 3.0, \"petalLength\": 4.2, \"petalWidth\": 1.5, \"species\": \"versicolor\"}, {\"sepalLength\": 6.0, \"sepalWidth\": 2.2, \"petalLength\": 4.0, \"petalWidth\": 1.0, \"species\": \"versicolor\"}, {\"sepalLength\": 6.1, \"sepalWidth\": 2.9, \"petalLength\": 4.7, \"petalWidth\": 1.4, \"species\": \"versicolor\"}, {\"sepalLength\": 5.6, \"sepalWidth\": 2.9, \"petalLength\": 3.6, \"petalWidth\": 1.3, \"species\": \"versicolor\"}, {\"sepalLength\": 6.7, \"sepalWidth\": 3.1, \"petalLength\": 4.4, \"petalWidth\": 1.4, \"species\": \"versicolor\"}, {\"sepalLength\": 5.6, \"sepalWidth\": 3.0, \"petalLength\": 4.5, \"petalWidth\": 1.5, \"species\": \"versicolor\"}, {\"sepalLength\": 5.8, \"sepalWidth\": 2.7, \"petalLength\": 4.1, \"petalWidth\": 1.0, \"species\": \"versicolor\"}, {\"sepalLength\": 6.2, \"sepalWidth\": 2.2, \"petalLength\": 4.5, \"petalWidth\": 1.5, \"species\": \"versicolor\"}, {\"sepalLength\": 5.6, \"sepalWidth\": 2.5, \"petalLength\": 3.9, \"petalWidth\": 1.1, \"species\": \"versicolor\"}, {\"sepalLength\": 5.9, \"sepalWidth\": 3.2, \"petalLength\": 4.8, \"petalWidth\": 1.8, \"species\": \"versicolor\"}, {\"sepalLength\": 6.1, \"sepalWidth\": 2.8, \"petalLength\": 4.0, \"petalWidth\": 1.3, \"species\": \"versicolor\"}, {\"sepalLength\": 6.3, \"sepalWidth\": 2.5, \"petalLength\": 4.9, \"petalWidth\": 1.5, \"species\": \"versicolor\"}, {\"sepalLength\": 6.1, \"sepalWidth\": 2.8, \"petalLength\": 4.7, \"petalWidth\": 1.2, \"species\": \"versicolor\"}, {\"sepalLength\": 6.4, \"sepalWidth\": 2.9, \"petalLength\": 4.3, \"petalWidth\": 1.3, \"species\": \"versicolor\"}, {\"sepalLength\": 6.6, \"sepalWidth\": 3.0, \"petalLength\": 4.4, \"petalWidth\": 1.4, \"species\": \"versicolor\"}, {\"sepalLength\": 6.8, \"sepalWidth\": 2.8, \"petalLength\": 4.8, \"petalWidth\": 1.4, \"species\": \"versicolor\"}, {\"sepalLength\": 6.7, \"sepalWidth\": 3.0, \"petalLength\": 5.0, \"petalWidth\": 1.7000000000000002, \"species\": \"versicolor\"}, {\"sepalLength\": 6.0, \"sepalWidth\": 2.9, \"petalLength\": 4.5, \"petalWidth\": 1.5, \"species\": \"versicolor\"}, {\"sepalLength\": 5.7, \"sepalWidth\": 2.6, \"petalLength\": 3.5, \"petalWidth\": 1.0, \"species\": \"versicolor\"}, {\"sepalLength\": 5.5, \"sepalWidth\": 2.4, \"petalLength\": 3.8, \"petalWidth\": 1.1, \"species\": \"versicolor\"}, {\"sepalLength\": 5.5, \"sepalWidth\": 2.4, \"petalLength\": 3.7, \"petalWidth\": 1.0, \"species\": \"versicolor\"}, {\"sepalLength\": 5.8, \"sepalWidth\": 2.7, \"petalLength\": 3.9, \"petalWidth\": 1.2, \"species\": \"versicolor\"}, {\"sepalLength\": 6.0, \"sepalWidth\": 2.7, \"petalLength\": 5.1, \"petalWidth\": 1.6, \"species\": \"versicolor\"}, {\"sepalLength\": 5.4, \"sepalWidth\": 3.0, \"petalLength\": 4.5, \"petalWidth\": 1.5, \"species\": \"versicolor\"}, {\"sepalLength\": 6.0, \"sepalWidth\": 3.4, \"petalLength\": 4.5, \"petalWidth\": 1.6, \"species\": \"versicolor\"}, {\"sepalLength\": 6.7, \"sepalWidth\": 3.1, \"petalLength\": 4.7, \"petalWidth\": 1.5, \"species\": \"versicolor\"}, {\"sepalLength\": 6.3, \"sepalWidth\": 2.3, \"petalLength\": 4.4, \"petalWidth\": 1.3, \"species\": \"versicolor\"}, {\"sepalLength\": 5.6, \"sepalWidth\": 3.0, \"petalLength\": 4.1, \"petalWidth\": 1.3, \"species\": \"versicolor\"}, {\"sepalLength\": 5.5, \"sepalWidth\": 2.5, \"petalLength\": 4.0, \"petalWidth\": 1.3, \"species\": \"versicolor\"}, {\"sepalLength\": 5.5, \"sepalWidth\": 2.6, \"petalLength\": 4.4, \"petalWidth\": 1.2, \"species\": \"versicolor\"}, {\"sepalLength\": 6.1, \"sepalWidth\": 3.0, \"petalLength\": 4.6, \"petalWidth\": 1.4, \"species\": \"versicolor\"}, {\"sepalLength\": 5.8, \"sepalWidth\": 2.6, \"petalLength\": 4.0, \"petalWidth\": 1.2, \"species\": \"versicolor\"}, {\"sepalLength\": 5.0, \"sepalWidth\": 2.3, \"petalLength\": 3.3, \"petalWidth\": 1.0, \"species\": \"versicolor\"}, {\"sepalLength\": 5.6, \"sepalWidth\": 2.7, \"petalLength\": 4.2, \"petalWidth\": 1.3, \"species\": \"versicolor\"}, {\"sepalLength\": 5.7, \"sepalWidth\": 3.0, \"petalLength\": 4.2, \"petalWidth\": 1.2, \"species\": \"versicolor\"}, {\"sepalLength\": 5.7, \"sepalWidth\": 2.9, \"petalLength\": 4.2, \"petalWidth\": 1.3, \"species\": \"versicolor\"}, {\"sepalLength\": 6.2, \"sepalWidth\": 2.9, \"petalLength\": 4.3, \"petalWidth\": 1.3, \"species\": \"versicolor\"}, {\"sepalLength\": 5.1, \"sepalWidth\": 2.5, \"petalLength\": 3.0, \"petalWidth\": 1.1, \"species\": \"versicolor\"}, {\"sepalLength\": 5.7, \"sepalWidth\": 2.8, \"petalLength\": 4.1, \"petalWidth\": 1.3, \"species\": \"versicolor\"}, {\"sepalLength\": 6.3, \"sepalWidth\": 3.3, \"petalLength\": 6.0, \"petalWidth\": 2.5, \"species\": \"virginica\"}, {\"sepalLength\": 5.8, \"sepalWidth\": 2.7, \"petalLength\": 5.1, \"petalWidth\": 1.9, \"species\": \"virginica\"}, {\"sepalLength\": 7.1, \"sepalWidth\": 3.0, \"petalLength\": 5.9, \"petalWidth\": 2.1, \"species\": \"virginica\"}, {\"sepalLength\": 6.3, \"sepalWidth\": 2.9, \"petalLength\": 5.6, \"petalWidth\": 1.8, \"species\": \"virginica\"}, {\"sepalLength\": 6.5, \"sepalWidth\": 3.0, \"petalLength\": 5.8, \"petalWidth\": 2.2, \"species\": \"virginica\"}, {\"sepalLength\": 7.6, \"sepalWidth\": 3.0, \"petalLength\": 6.6, \"petalWidth\": 2.1, \"species\": \"virginica\"}, {\"sepalLength\": 4.9, \"sepalWidth\": 2.5, \"petalLength\": 4.5, \"petalWidth\": 1.7000000000000002, \"species\": \"virginica\"}, {\"sepalLength\": 7.3, \"sepalWidth\": 2.9, \"petalLength\": 6.3, \"petalWidth\": 1.8, \"species\": \"virginica\"}, {\"sepalLength\": 6.7, \"sepalWidth\": 2.5, \"petalLength\": 5.8, \"petalWidth\": 1.8, \"species\": \"virginica\"}, {\"sepalLength\": 7.2, \"sepalWidth\": 3.6, \"petalLength\": 6.1, \"petalWidth\": 2.5, \"species\": \"virginica\"}, {\"sepalLength\": 6.5, \"sepalWidth\": 3.2, \"petalLength\": 5.1, \"petalWidth\": 2.0, \"species\": \"virginica\"}, {\"sepalLength\": 6.4, \"sepalWidth\": 2.7, \"petalLength\": 5.3, \"petalWidth\": 1.9, \"species\": \"virginica\"}, {\"sepalLength\": 6.8, \"sepalWidth\": 3.0, \"petalLength\": 5.5, \"petalWidth\": 2.1, \"species\": \"virginica\"}, {\"sepalLength\": 5.7, \"sepalWidth\": 2.5, \"petalLength\": 5.0, \"petalWidth\": 2.0, \"species\": \"virginica\"}, {\"sepalLength\": 5.8, \"sepalWidth\": 2.8, \"petalLength\": 5.1, \"petalWidth\": 2.4, \"species\": \"virginica\"}, {\"sepalLength\": 6.4, \"sepalWidth\": 3.2, \"petalLength\": 5.3, \"petalWidth\": 2.3, \"species\": \"virginica\"}, {\"sepalLength\": 6.5, \"sepalWidth\": 3.0, \"petalLength\": 5.5, \"petalWidth\": 1.8, \"species\": \"virginica\"}, {\"sepalLength\": 7.7, \"sepalWidth\": 3.8, \"petalLength\": 6.7, \"petalWidth\": 2.2, \"species\": \"virginica\"}, {\"sepalLength\": 7.7, \"sepalWidth\": 2.6, \"petalLength\": 6.9, \"petalWidth\": 2.3, \"species\": \"virginica\"}, {\"sepalLength\": 6.0, \"sepalWidth\": 2.2, \"petalLength\": 5.0, \"petalWidth\": 1.5, \"species\": \"virginica\"}, {\"sepalLength\": 6.9, \"sepalWidth\": 3.2, \"petalLength\": 5.7, \"petalWidth\": 2.3, \"species\": \"virginica\"}, {\"sepalLength\": 5.6, \"sepalWidth\": 2.8, \"petalLength\": 4.9, \"petalWidth\": 2.0, \"species\": \"virginica\"}, {\"sepalLength\": 7.7, \"sepalWidth\": 2.8, \"petalLength\": 6.7, \"petalWidth\": 2.0, \"species\": \"virginica\"}, {\"sepalLength\": 6.3, \"sepalWidth\": 2.7, \"petalLength\": 4.9, \"petalWidth\": 1.8, \"species\": \"virginica\"}, {\"sepalLength\": 6.7, \"sepalWidth\": 3.3, \"petalLength\": 5.7, \"petalWidth\": 2.1, \"species\": \"virginica\"}, {\"sepalLength\": 7.2, \"sepalWidth\": 3.2, \"petalLength\": 6.0, \"petalWidth\": 1.8, \"species\": \"virginica\"}, {\"sepalLength\": 6.2, \"sepalWidth\": 2.8, \"petalLength\": 4.8, \"petalWidth\": 1.8, \"species\": \"virginica\"}, {\"sepalLength\": 6.1, \"sepalWidth\": 3.0, \"petalLength\": 4.9, \"petalWidth\": 1.8, \"species\": \"virginica\"}, {\"sepalLength\": 6.4, \"sepalWidth\": 2.8, \"petalLength\": 5.6, \"petalWidth\": 2.1, \"species\": \"virginica\"}, {\"sepalLength\": 7.2, \"sepalWidth\": 3.0, \"petalLength\": 5.8, \"petalWidth\": 1.6, \"species\": \"virginica\"}, {\"sepalLength\": 7.4, \"sepalWidth\": 2.8, \"petalLength\": 6.1, \"petalWidth\": 1.9, \"species\": \"virginica\"}, {\"sepalLength\": 7.9, \"sepalWidth\": 3.8, \"petalLength\": 6.4, \"petalWidth\": 2.0, \"species\": \"virginica\"}, {\"sepalLength\": 6.4, \"sepalWidth\": 2.8, \"petalLength\": 5.6, \"petalWidth\": 2.2, \"species\": \"virginica\"}, {\"sepalLength\": 6.3, \"sepalWidth\": 2.8, \"petalLength\": 5.1, \"petalWidth\": 1.5, \"species\": \"virginica\"}, {\"sepalLength\": 6.1, \"sepalWidth\": 2.6, \"petalLength\": 5.6, \"petalWidth\": 1.4, \"species\": \"virginica\"}, {\"sepalLength\": 7.7, \"sepalWidth\": 3.0, \"petalLength\": 6.1, \"petalWidth\": 2.3, \"species\": \"virginica\"}, {\"sepalLength\": 6.3, \"sepalWidth\": 3.4, \"petalLength\": 5.6, \"petalWidth\": 2.4, \"species\": \"virginica\"}, {\"sepalLength\": 6.4, \"sepalWidth\": 3.1, \"petalLength\": 5.5, \"petalWidth\": 1.8, \"species\": \"virginica\"}, {\"sepalLength\": 6.0, \"sepalWidth\": 3.0, \"petalLength\": 4.8, \"petalWidth\": 1.8, \"species\": \"virginica\"}, {\"sepalLength\": 6.9, \"sepalWidth\": 3.1, \"petalLength\": 5.4, \"petalWidth\": 2.1, \"species\": \"virginica\"}, {\"sepalLength\": 6.7, \"sepalWidth\": 3.1, \"petalLength\": 5.6, \"petalWidth\": 2.4, \"species\": \"virginica\"}, {\"sepalLength\": 6.9, \"sepalWidth\": 3.1, \"petalLength\": 5.1, \"petalWidth\": 2.3, \"species\": \"virginica\"}, {\"sepalLength\": 5.8, \"sepalWidth\": 2.7, \"petalLength\": 5.1, \"petalWidth\": 1.9, \"species\": \"virginica\"}, {\"sepalLength\": 6.8, \"sepalWidth\": 3.2, \"petalLength\": 5.9, \"petalWidth\": 2.3, \"species\": \"virginica\"}, {\"sepalLength\": 6.7, \"sepalWidth\": 3.3, \"petalLength\": 5.7, \"petalWidth\": 2.5, \"species\": \"virginica\"}, {\"sepalLength\": 6.7, \"sepalWidth\": 3.0, \"petalLength\": 5.2, \"petalWidth\": 2.3, \"species\": \"virginica\"}, {\"sepalLength\": 6.3, \"sepalWidth\": 2.5, \"petalLength\": 5.0, \"petalWidth\": 1.9, \"species\": \"virginica\"}, {\"sepalLength\": 6.5, \"sepalWidth\": 3.0, \"petalLength\": 5.2, \"petalWidth\": 2.0, \"species\": \"virginica\"}, {\"sepalLength\": 6.2, \"sepalWidth\": 3.4, \"petalLength\": 5.4, \"petalWidth\": 2.3, \"species\": \"virginica\"}, {\"sepalLength\": 5.9, \"sepalWidth\": 3.0, \"petalLength\": 5.1, \"petalWidth\": 1.8, \"species\": \"virginica\"}]}}, {\"mode\": \"vega-lite\"});\n",
              "</script>"
            ],
            "text/plain": [
              "alt.Chart(...)"
            ]
          },
          "metadata": {},
          "execution_count": 21
        }
      ],
      "source": [
        "alt.Chart(iris).mark_tick().encode(\n",
        "    x='petalLength',\n",
        ")"
      ]
    },
    {
      "cell_type": "markdown",
      "metadata": {
        "id": "eJeYB3B7u27h"
      },
      "source": [
        "Another way we might represent this data is to creat a histogram: to bin the x data and show the count on the y axis.\n",
        "In many plotting libraries this is done with a special method like ``hist()``. In Altair, such binning and aggregation is part of the declarative API.\n",
        "\n",
        "To move beyond a simple field name, we use ``alt.X()`` for the x encoding, and we use ``'count()'`` for the y encoding:"
      ]
    },
    {
      "cell_type": "code",
      "execution_count": 22,
      "metadata": {
        "colab": {
          "base_uri": "https://localhost:8080/",
          "height": 368
        },
        "id": "smcE8kzmu27h",
        "outputId": "8ed831b7-ecbe-412d-c67c-ec7e0a0b82b4"
      },
      "outputs": [
        {
          "output_type": "execute_result",
          "data": {
            "text/html": [
              "\n",
              "<div id=\"altair-viz-7d3695c71eb24cbfa8a6f6fbc03515c3\"></div>\n",
              "<script type=\"text/javascript\">\n",
              "  var VEGA_DEBUG = (typeof VEGA_DEBUG == \"undefined\") ? {} : VEGA_DEBUG;\n",
              "  (function(spec, embedOpt){\n",
              "    let outputDiv = document.currentScript.previousElementSibling;\n",
              "    if (outputDiv.id !== \"altair-viz-7d3695c71eb24cbfa8a6f6fbc03515c3\") {\n",
              "      outputDiv = document.getElementById(\"altair-viz-7d3695c71eb24cbfa8a6f6fbc03515c3\");\n",
              "    }\n",
              "    const paths = {\n",
              "      \"vega\": \"https://cdn.jsdelivr.net/npm//vega@5?noext\",\n",
              "      \"vega-lib\": \"https://cdn.jsdelivr.net/npm//vega-lib?noext\",\n",
              "      \"vega-lite\": \"https://cdn.jsdelivr.net/npm//vega-lite@4.17.0?noext\",\n",
              "      \"vega-embed\": \"https://cdn.jsdelivr.net/npm//vega-embed@6?noext\",\n",
              "    };\n",
              "\n",
              "    function maybeLoadScript(lib, version) {\n",
              "      var key = `${lib.replace(\"-\", \"\")}_version`;\n",
              "      return (VEGA_DEBUG[key] == version) ?\n",
              "        Promise.resolve(paths[lib]) :\n",
              "        new Promise(function(resolve, reject) {\n",
              "          var s = document.createElement('script');\n",
              "          document.getElementsByTagName(\"head\")[0].appendChild(s);\n",
              "          s.async = true;\n",
              "          s.onload = () => {\n",
              "            VEGA_DEBUG[key] = version;\n",
              "            return resolve(paths[lib]);\n",
              "          };\n",
              "          s.onerror = () => reject(`Error loading script: ${paths[lib]}`);\n",
              "          s.src = paths[lib];\n",
              "        });\n",
              "    }\n",
              "\n",
              "    function showError(err) {\n",
              "      outputDiv.innerHTML = `<div class=\"error\" style=\"color:red;\">${err}</div>`;\n",
              "      throw err;\n",
              "    }\n",
              "\n",
              "    function displayChart(vegaEmbed) {\n",
              "      vegaEmbed(outputDiv, spec, embedOpt)\n",
              "        .catch(err => showError(`Javascript Error: ${err.message}<br>This usually means there's a typo in your chart specification. See the javascript console for the full traceback.`));\n",
              "    }\n",
              "\n",
              "    if(typeof define === \"function\" && define.amd) {\n",
              "      requirejs.config({paths});\n",
              "      require([\"vega-embed\"], displayChart, err => showError(`Error loading script: ${err.message}`));\n",
              "    } else {\n",
              "      maybeLoadScript(\"vega\", \"5\")\n",
              "        .then(() => maybeLoadScript(\"vega-lite\", \"4.17.0\"))\n",
              "        .then(() => maybeLoadScript(\"vega-embed\", \"6\"))\n",
              "        .catch(showError)\n",
              "        .then(() => displayChart(vegaEmbed));\n",
              "    }\n",
              "  })({\"config\": {\"view\": {\"continuousWidth\": 400, \"continuousHeight\": 300}}, \"data\": {\"name\": \"data-a264acbd6e539a8b3afc0cb5f240fb57\"}, \"mark\": \"bar\", \"encoding\": {\"x\": {\"bin\": true, \"field\": \"petalLength\", \"type\": \"quantitative\"}, \"y\": {\"aggregate\": \"count\", \"type\": \"quantitative\"}}, \"$schema\": \"https://vega.github.io/schema/vega-lite/v4.17.0.json\", \"datasets\": {\"data-a264acbd6e539a8b3afc0cb5f240fb57\": [{\"sepalLength\": 5.1, \"sepalWidth\": 3.5, \"petalLength\": 1.4, \"petalWidth\": 0.2, \"species\": \"setosa\"}, {\"sepalLength\": 4.9, \"sepalWidth\": 3.0, \"petalLength\": 1.4, \"petalWidth\": 0.2, \"species\": \"setosa\"}, {\"sepalLength\": 4.7, \"sepalWidth\": 3.2, \"petalLength\": 1.3, \"petalWidth\": 0.2, \"species\": \"setosa\"}, {\"sepalLength\": 4.6, \"sepalWidth\": 3.1, \"petalLength\": 1.5, \"petalWidth\": 0.2, \"species\": \"setosa\"}, {\"sepalLength\": 5.0, \"sepalWidth\": 3.6, \"petalLength\": 1.4, \"petalWidth\": 0.2, \"species\": \"setosa\"}, {\"sepalLength\": 5.4, \"sepalWidth\": 3.9, \"petalLength\": 1.7000000000000002, \"petalWidth\": 0.4, \"species\": \"setosa\"}, {\"sepalLength\": 4.6, \"sepalWidth\": 3.4, \"petalLength\": 1.4, \"petalWidth\": 0.30000000000000004, \"species\": \"setosa\"}, {\"sepalLength\": 5.0, \"sepalWidth\": 3.4, \"petalLength\": 1.5, \"petalWidth\": 0.2, \"species\": \"setosa\"}, {\"sepalLength\": 4.4, \"sepalWidth\": 2.9, \"petalLength\": 1.4, \"petalWidth\": 0.2, \"species\": \"setosa\"}, {\"sepalLength\": 4.9, \"sepalWidth\": 3.1, \"petalLength\": 1.5, \"petalWidth\": 0.1, \"species\": \"setosa\"}, {\"sepalLength\": 5.4, \"sepalWidth\": 3.7, \"petalLength\": 1.5, \"petalWidth\": 0.2, \"species\": \"setosa\"}, {\"sepalLength\": 4.8, \"sepalWidth\": 3.4, \"petalLength\": 1.6, \"petalWidth\": 0.2, \"species\": \"setosa\"}, {\"sepalLength\": 4.8, \"sepalWidth\": 3.0, \"petalLength\": 1.4, \"petalWidth\": 0.1, \"species\": \"setosa\"}, {\"sepalLength\": 4.3, \"sepalWidth\": 3.0, \"petalLength\": 1.1, \"petalWidth\": 0.1, \"species\": \"setosa\"}, {\"sepalLength\": 5.8, \"sepalWidth\": 4.0, \"petalLength\": 1.2, \"petalWidth\": 0.2, \"species\": \"setosa\"}, {\"sepalLength\": 5.7, \"sepalWidth\": 4.4, \"petalLength\": 1.5, \"petalWidth\": 0.4, \"species\": \"setosa\"}, {\"sepalLength\": 5.4, \"sepalWidth\": 3.9, \"petalLength\": 1.3, \"petalWidth\": 0.4, \"species\": \"setosa\"}, {\"sepalLength\": 5.1, \"sepalWidth\": 3.5, \"petalLength\": 1.4, \"petalWidth\": 0.30000000000000004, \"species\": \"setosa\"}, {\"sepalLength\": 5.7, \"sepalWidth\": 3.8, \"petalLength\": 1.7000000000000002, \"petalWidth\": 0.30000000000000004, \"species\": \"setosa\"}, {\"sepalLength\": 5.1, \"sepalWidth\": 3.8, \"petalLength\": 1.5, \"petalWidth\": 0.30000000000000004, \"species\": \"setosa\"}, {\"sepalLength\": 5.4, \"sepalWidth\": 3.4, \"petalLength\": 1.7000000000000002, \"petalWidth\": 0.2, \"species\": \"setosa\"}, {\"sepalLength\": 5.1, \"sepalWidth\": 3.7, \"petalLength\": 1.5, \"petalWidth\": 0.4, \"species\": \"setosa\"}, {\"sepalLength\": 4.6, \"sepalWidth\": 3.6, \"petalLength\": 1.0, \"petalWidth\": 0.2, \"species\": \"setosa\"}, {\"sepalLength\": 5.1, \"sepalWidth\": 3.3, \"petalLength\": 1.7000000000000002, \"petalWidth\": 0.5, \"species\": \"setosa\"}, {\"sepalLength\": 4.8, \"sepalWidth\": 3.4, \"petalLength\": 1.9, \"petalWidth\": 0.2, \"species\": \"setosa\"}, {\"sepalLength\": 5.0, \"sepalWidth\": 3.0, \"petalLength\": 1.6, \"petalWidth\": 0.2, \"species\": \"setosa\"}, {\"sepalLength\": 5.0, \"sepalWidth\": 3.4, \"petalLength\": 1.6, \"petalWidth\": 0.4, \"species\": \"setosa\"}, {\"sepalLength\": 5.2, \"sepalWidth\": 3.5, \"petalLength\": 1.5, \"petalWidth\": 0.2, \"species\": \"setosa\"}, {\"sepalLength\": 5.2, \"sepalWidth\": 3.4, \"petalLength\": 1.4, \"petalWidth\": 0.2, \"species\": \"setosa\"}, {\"sepalLength\": 4.7, \"sepalWidth\": 3.2, \"petalLength\": 1.6, \"petalWidth\": 0.2, \"species\": \"setosa\"}, {\"sepalLength\": 4.8, \"sepalWidth\": 3.1, \"petalLength\": 1.6, \"petalWidth\": 0.2, \"species\": \"setosa\"}, {\"sepalLength\": 5.4, \"sepalWidth\": 3.4, \"petalLength\": 1.5, \"petalWidth\": 0.4, \"species\": \"setosa\"}, {\"sepalLength\": 5.2, \"sepalWidth\": 4.1, \"petalLength\": 1.5, \"petalWidth\": 0.1, \"species\": \"setosa\"}, {\"sepalLength\": 5.5, \"sepalWidth\": 4.2, \"petalLength\": 1.4, \"petalWidth\": 0.2, \"species\": \"setosa\"}, {\"sepalLength\": 4.9, \"sepalWidth\": 3.1, \"petalLength\": 1.5, \"petalWidth\": 0.2, \"species\": \"setosa\"}, {\"sepalLength\": 5.0, \"sepalWidth\": 3.2, \"petalLength\": 1.2, \"petalWidth\": 0.2, \"species\": \"setosa\"}, {\"sepalLength\": 5.5, \"sepalWidth\": 3.5, \"petalLength\": 1.3, \"petalWidth\": 0.2, \"species\": \"setosa\"}, {\"sepalLength\": 4.9, \"sepalWidth\": 3.6, \"petalLength\": 1.4, \"petalWidth\": 0.1, \"species\": \"setosa\"}, {\"sepalLength\": 4.4, \"sepalWidth\": 3.0, \"petalLength\": 1.3, \"petalWidth\": 0.2, \"species\": \"setosa\"}, {\"sepalLength\": 5.1, \"sepalWidth\": 3.4, \"petalLength\": 1.5, \"petalWidth\": 0.2, \"species\": \"setosa\"}, {\"sepalLength\": 5.0, \"sepalWidth\": 3.5, \"petalLength\": 1.3, \"petalWidth\": 0.30000000000000004, \"species\": \"setosa\"}, {\"sepalLength\": 4.5, \"sepalWidth\": 2.3, \"petalLength\": 1.3, \"petalWidth\": 0.30000000000000004, \"species\": \"setosa\"}, {\"sepalLength\": 4.4, \"sepalWidth\": 3.2, \"petalLength\": 1.3, \"petalWidth\": 0.2, \"species\": \"setosa\"}, {\"sepalLength\": 5.0, \"sepalWidth\": 3.5, \"petalLength\": 1.6, \"petalWidth\": 0.6000000000000001, \"species\": \"setosa\"}, {\"sepalLength\": 5.1, \"sepalWidth\": 3.8, \"petalLength\": 1.9, \"petalWidth\": 0.4, \"species\": \"setosa\"}, {\"sepalLength\": 4.8, \"sepalWidth\": 3.0, \"petalLength\": 1.4, \"petalWidth\": 0.30000000000000004, \"species\": \"setosa\"}, {\"sepalLength\": 5.1, \"sepalWidth\": 3.8, \"petalLength\": 1.6, \"petalWidth\": 0.2, \"species\": \"setosa\"}, {\"sepalLength\": 4.6, \"sepalWidth\": 3.2, \"petalLength\": 1.4, \"petalWidth\": 0.2, \"species\": \"setosa\"}, {\"sepalLength\": 5.3, \"sepalWidth\": 3.7, \"petalLength\": 1.5, \"petalWidth\": 0.2, \"species\": \"setosa\"}, {\"sepalLength\": 5.0, \"sepalWidth\": 3.3, \"petalLength\": 1.4, \"petalWidth\": 0.2, \"species\": \"setosa\"}, {\"sepalLength\": 7.0, \"sepalWidth\": 3.2, \"petalLength\": 4.7, \"petalWidth\": 1.4, \"species\": \"versicolor\"}, {\"sepalLength\": 6.4, \"sepalWidth\": 3.2, \"petalLength\": 4.5, \"petalWidth\": 1.5, \"species\": \"versicolor\"}, {\"sepalLength\": 6.9, \"sepalWidth\": 3.1, \"petalLength\": 4.9, \"petalWidth\": 1.5, \"species\": \"versicolor\"}, {\"sepalLength\": 5.5, \"sepalWidth\": 2.3, \"petalLength\": 4.0, \"petalWidth\": 1.3, \"species\": \"versicolor\"}, {\"sepalLength\": 6.5, \"sepalWidth\": 2.8, \"petalLength\": 4.6, \"petalWidth\": 1.5, \"species\": \"versicolor\"}, {\"sepalLength\": 5.7, \"sepalWidth\": 2.8, \"petalLength\": 4.5, \"petalWidth\": 1.3, \"species\": \"versicolor\"}, {\"sepalLength\": 6.3, \"sepalWidth\": 3.3, \"petalLength\": 4.7, \"petalWidth\": 1.6, \"species\": \"versicolor\"}, {\"sepalLength\": 4.9, \"sepalWidth\": 2.4, \"petalLength\": 3.3, \"petalWidth\": 1.0, \"species\": \"versicolor\"}, {\"sepalLength\": 6.6, \"sepalWidth\": 2.9, \"petalLength\": 4.6, \"petalWidth\": 1.3, \"species\": \"versicolor\"}, {\"sepalLength\": 5.2, \"sepalWidth\": 2.7, \"petalLength\": 3.9, \"petalWidth\": 1.4, \"species\": \"versicolor\"}, {\"sepalLength\": 5.0, \"sepalWidth\": 2.0, \"petalLength\": 3.5, \"petalWidth\": 1.0, \"species\": \"versicolor\"}, {\"sepalLength\": 5.9, \"sepalWidth\": 3.0, \"petalLength\": 4.2, \"petalWidth\": 1.5, \"species\": \"versicolor\"}, {\"sepalLength\": 6.0, \"sepalWidth\": 2.2, \"petalLength\": 4.0, \"petalWidth\": 1.0, \"species\": \"versicolor\"}, {\"sepalLength\": 6.1, \"sepalWidth\": 2.9, \"petalLength\": 4.7, \"petalWidth\": 1.4, \"species\": \"versicolor\"}, {\"sepalLength\": 5.6, \"sepalWidth\": 2.9, \"petalLength\": 3.6, \"petalWidth\": 1.3, \"species\": \"versicolor\"}, {\"sepalLength\": 6.7, \"sepalWidth\": 3.1, \"petalLength\": 4.4, \"petalWidth\": 1.4, \"species\": \"versicolor\"}, {\"sepalLength\": 5.6, \"sepalWidth\": 3.0, \"petalLength\": 4.5, \"petalWidth\": 1.5, \"species\": \"versicolor\"}, {\"sepalLength\": 5.8, \"sepalWidth\": 2.7, \"petalLength\": 4.1, \"petalWidth\": 1.0, \"species\": \"versicolor\"}, {\"sepalLength\": 6.2, \"sepalWidth\": 2.2, \"petalLength\": 4.5, \"petalWidth\": 1.5, \"species\": \"versicolor\"}, {\"sepalLength\": 5.6, \"sepalWidth\": 2.5, \"petalLength\": 3.9, \"petalWidth\": 1.1, \"species\": \"versicolor\"}, {\"sepalLength\": 5.9, \"sepalWidth\": 3.2, \"petalLength\": 4.8, \"petalWidth\": 1.8, \"species\": \"versicolor\"}, {\"sepalLength\": 6.1, \"sepalWidth\": 2.8, \"petalLength\": 4.0, \"petalWidth\": 1.3, \"species\": \"versicolor\"}, {\"sepalLength\": 6.3, \"sepalWidth\": 2.5, \"petalLength\": 4.9, \"petalWidth\": 1.5, \"species\": \"versicolor\"}, {\"sepalLength\": 6.1, \"sepalWidth\": 2.8, \"petalLength\": 4.7, \"petalWidth\": 1.2, \"species\": \"versicolor\"}, {\"sepalLength\": 6.4, \"sepalWidth\": 2.9, \"petalLength\": 4.3, \"petalWidth\": 1.3, \"species\": \"versicolor\"}, {\"sepalLength\": 6.6, \"sepalWidth\": 3.0, \"petalLength\": 4.4, \"petalWidth\": 1.4, \"species\": \"versicolor\"}, {\"sepalLength\": 6.8, \"sepalWidth\": 2.8, \"petalLength\": 4.8, \"petalWidth\": 1.4, \"species\": \"versicolor\"}, {\"sepalLength\": 6.7, \"sepalWidth\": 3.0, \"petalLength\": 5.0, \"petalWidth\": 1.7000000000000002, \"species\": \"versicolor\"}, {\"sepalLength\": 6.0, \"sepalWidth\": 2.9, \"petalLength\": 4.5, \"petalWidth\": 1.5, \"species\": \"versicolor\"}, {\"sepalLength\": 5.7, \"sepalWidth\": 2.6, \"petalLength\": 3.5, \"petalWidth\": 1.0, \"species\": \"versicolor\"}, {\"sepalLength\": 5.5, \"sepalWidth\": 2.4, \"petalLength\": 3.8, \"petalWidth\": 1.1, \"species\": \"versicolor\"}, {\"sepalLength\": 5.5, \"sepalWidth\": 2.4, \"petalLength\": 3.7, \"petalWidth\": 1.0, \"species\": \"versicolor\"}, {\"sepalLength\": 5.8, \"sepalWidth\": 2.7, \"petalLength\": 3.9, \"petalWidth\": 1.2, \"species\": \"versicolor\"}, {\"sepalLength\": 6.0, \"sepalWidth\": 2.7, \"petalLength\": 5.1, \"petalWidth\": 1.6, \"species\": \"versicolor\"}, {\"sepalLength\": 5.4, \"sepalWidth\": 3.0, \"petalLength\": 4.5, \"petalWidth\": 1.5, \"species\": \"versicolor\"}, {\"sepalLength\": 6.0, \"sepalWidth\": 3.4, \"petalLength\": 4.5, \"petalWidth\": 1.6, \"species\": \"versicolor\"}, {\"sepalLength\": 6.7, \"sepalWidth\": 3.1, \"petalLength\": 4.7, \"petalWidth\": 1.5, \"species\": \"versicolor\"}, {\"sepalLength\": 6.3, \"sepalWidth\": 2.3, \"petalLength\": 4.4, \"petalWidth\": 1.3, \"species\": \"versicolor\"}, {\"sepalLength\": 5.6, \"sepalWidth\": 3.0, \"petalLength\": 4.1, \"petalWidth\": 1.3, \"species\": \"versicolor\"}, {\"sepalLength\": 5.5, \"sepalWidth\": 2.5, \"petalLength\": 4.0, \"petalWidth\": 1.3, \"species\": \"versicolor\"}, {\"sepalLength\": 5.5, \"sepalWidth\": 2.6, \"petalLength\": 4.4, \"petalWidth\": 1.2, \"species\": \"versicolor\"}, {\"sepalLength\": 6.1, \"sepalWidth\": 3.0, \"petalLength\": 4.6, \"petalWidth\": 1.4, \"species\": \"versicolor\"}, {\"sepalLength\": 5.8, \"sepalWidth\": 2.6, \"petalLength\": 4.0, \"petalWidth\": 1.2, \"species\": \"versicolor\"}, {\"sepalLength\": 5.0, \"sepalWidth\": 2.3, \"petalLength\": 3.3, \"petalWidth\": 1.0, \"species\": \"versicolor\"}, {\"sepalLength\": 5.6, \"sepalWidth\": 2.7, \"petalLength\": 4.2, \"petalWidth\": 1.3, \"species\": \"versicolor\"}, {\"sepalLength\": 5.7, \"sepalWidth\": 3.0, \"petalLength\": 4.2, \"petalWidth\": 1.2, \"species\": \"versicolor\"}, {\"sepalLength\": 5.7, \"sepalWidth\": 2.9, \"petalLength\": 4.2, \"petalWidth\": 1.3, \"species\": \"versicolor\"}, {\"sepalLength\": 6.2, \"sepalWidth\": 2.9, \"petalLength\": 4.3, \"petalWidth\": 1.3, \"species\": \"versicolor\"}, {\"sepalLength\": 5.1, \"sepalWidth\": 2.5, \"petalLength\": 3.0, \"petalWidth\": 1.1, \"species\": \"versicolor\"}, {\"sepalLength\": 5.7, \"sepalWidth\": 2.8, \"petalLength\": 4.1, \"petalWidth\": 1.3, \"species\": \"versicolor\"}, {\"sepalLength\": 6.3, \"sepalWidth\": 3.3, \"petalLength\": 6.0, \"petalWidth\": 2.5, \"species\": \"virginica\"}, {\"sepalLength\": 5.8, \"sepalWidth\": 2.7, \"petalLength\": 5.1, \"petalWidth\": 1.9, \"species\": \"virginica\"}, {\"sepalLength\": 7.1, \"sepalWidth\": 3.0, \"petalLength\": 5.9, \"petalWidth\": 2.1, \"species\": \"virginica\"}, {\"sepalLength\": 6.3, \"sepalWidth\": 2.9, \"petalLength\": 5.6, \"petalWidth\": 1.8, \"species\": \"virginica\"}, {\"sepalLength\": 6.5, \"sepalWidth\": 3.0, \"petalLength\": 5.8, \"petalWidth\": 2.2, \"species\": \"virginica\"}, {\"sepalLength\": 7.6, \"sepalWidth\": 3.0, \"petalLength\": 6.6, \"petalWidth\": 2.1, \"species\": \"virginica\"}, {\"sepalLength\": 4.9, \"sepalWidth\": 2.5, \"petalLength\": 4.5, \"petalWidth\": 1.7000000000000002, \"species\": \"virginica\"}, {\"sepalLength\": 7.3, \"sepalWidth\": 2.9, \"petalLength\": 6.3, \"petalWidth\": 1.8, \"species\": \"virginica\"}, {\"sepalLength\": 6.7, \"sepalWidth\": 2.5, \"petalLength\": 5.8, \"petalWidth\": 1.8, \"species\": \"virginica\"}, {\"sepalLength\": 7.2, \"sepalWidth\": 3.6, \"petalLength\": 6.1, \"petalWidth\": 2.5, \"species\": \"virginica\"}, {\"sepalLength\": 6.5, \"sepalWidth\": 3.2, \"petalLength\": 5.1, \"petalWidth\": 2.0, \"species\": \"virginica\"}, {\"sepalLength\": 6.4, \"sepalWidth\": 2.7, \"petalLength\": 5.3, \"petalWidth\": 1.9, \"species\": \"virginica\"}, {\"sepalLength\": 6.8, \"sepalWidth\": 3.0, \"petalLength\": 5.5, \"petalWidth\": 2.1, \"species\": \"virginica\"}, {\"sepalLength\": 5.7, \"sepalWidth\": 2.5, \"petalLength\": 5.0, \"petalWidth\": 2.0, \"species\": \"virginica\"}, {\"sepalLength\": 5.8, \"sepalWidth\": 2.8, \"petalLength\": 5.1, \"petalWidth\": 2.4, \"species\": \"virginica\"}, {\"sepalLength\": 6.4, \"sepalWidth\": 3.2, \"petalLength\": 5.3, \"petalWidth\": 2.3, \"species\": \"virginica\"}, {\"sepalLength\": 6.5, \"sepalWidth\": 3.0, \"petalLength\": 5.5, \"petalWidth\": 1.8, \"species\": \"virginica\"}, {\"sepalLength\": 7.7, \"sepalWidth\": 3.8, \"petalLength\": 6.7, \"petalWidth\": 2.2, \"species\": \"virginica\"}, {\"sepalLength\": 7.7, \"sepalWidth\": 2.6, \"petalLength\": 6.9, \"petalWidth\": 2.3, \"species\": \"virginica\"}, {\"sepalLength\": 6.0, \"sepalWidth\": 2.2, \"petalLength\": 5.0, \"petalWidth\": 1.5, \"species\": \"virginica\"}, {\"sepalLength\": 6.9, \"sepalWidth\": 3.2, \"petalLength\": 5.7, \"petalWidth\": 2.3, \"species\": \"virginica\"}, {\"sepalLength\": 5.6, \"sepalWidth\": 2.8, \"petalLength\": 4.9, \"petalWidth\": 2.0, \"species\": \"virginica\"}, {\"sepalLength\": 7.7, \"sepalWidth\": 2.8, \"petalLength\": 6.7, \"petalWidth\": 2.0, \"species\": \"virginica\"}, {\"sepalLength\": 6.3, \"sepalWidth\": 2.7, \"petalLength\": 4.9, \"petalWidth\": 1.8, \"species\": \"virginica\"}, {\"sepalLength\": 6.7, \"sepalWidth\": 3.3, \"petalLength\": 5.7, \"petalWidth\": 2.1, \"species\": \"virginica\"}, {\"sepalLength\": 7.2, \"sepalWidth\": 3.2, \"petalLength\": 6.0, \"petalWidth\": 1.8, \"species\": \"virginica\"}, {\"sepalLength\": 6.2, \"sepalWidth\": 2.8, \"petalLength\": 4.8, \"petalWidth\": 1.8, \"species\": \"virginica\"}, {\"sepalLength\": 6.1, \"sepalWidth\": 3.0, \"petalLength\": 4.9, \"petalWidth\": 1.8, \"species\": \"virginica\"}, {\"sepalLength\": 6.4, \"sepalWidth\": 2.8, \"petalLength\": 5.6, \"petalWidth\": 2.1, \"species\": \"virginica\"}, {\"sepalLength\": 7.2, \"sepalWidth\": 3.0, \"petalLength\": 5.8, \"petalWidth\": 1.6, \"species\": \"virginica\"}, {\"sepalLength\": 7.4, \"sepalWidth\": 2.8, \"petalLength\": 6.1, \"petalWidth\": 1.9, \"species\": \"virginica\"}, {\"sepalLength\": 7.9, \"sepalWidth\": 3.8, \"petalLength\": 6.4, \"petalWidth\": 2.0, \"species\": \"virginica\"}, {\"sepalLength\": 6.4, \"sepalWidth\": 2.8, \"petalLength\": 5.6, \"petalWidth\": 2.2, \"species\": \"virginica\"}, {\"sepalLength\": 6.3, \"sepalWidth\": 2.8, \"petalLength\": 5.1, \"petalWidth\": 1.5, \"species\": \"virginica\"}, {\"sepalLength\": 6.1, \"sepalWidth\": 2.6, \"petalLength\": 5.6, \"petalWidth\": 1.4, \"species\": \"virginica\"}, {\"sepalLength\": 7.7, \"sepalWidth\": 3.0, \"petalLength\": 6.1, \"petalWidth\": 2.3, \"species\": \"virginica\"}, {\"sepalLength\": 6.3, \"sepalWidth\": 3.4, \"petalLength\": 5.6, \"petalWidth\": 2.4, \"species\": \"virginica\"}, {\"sepalLength\": 6.4, \"sepalWidth\": 3.1, \"petalLength\": 5.5, \"petalWidth\": 1.8, \"species\": \"virginica\"}, {\"sepalLength\": 6.0, \"sepalWidth\": 3.0, \"petalLength\": 4.8, \"petalWidth\": 1.8, \"species\": \"virginica\"}, {\"sepalLength\": 6.9, \"sepalWidth\": 3.1, \"petalLength\": 5.4, \"petalWidth\": 2.1, \"species\": \"virginica\"}, {\"sepalLength\": 6.7, \"sepalWidth\": 3.1, \"petalLength\": 5.6, \"petalWidth\": 2.4, \"species\": \"virginica\"}, {\"sepalLength\": 6.9, \"sepalWidth\": 3.1, \"petalLength\": 5.1, \"petalWidth\": 2.3, \"species\": \"virginica\"}, {\"sepalLength\": 5.8, \"sepalWidth\": 2.7, \"petalLength\": 5.1, \"petalWidth\": 1.9, \"species\": \"virginica\"}, {\"sepalLength\": 6.8, \"sepalWidth\": 3.2, \"petalLength\": 5.9, \"petalWidth\": 2.3, \"species\": \"virginica\"}, {\"sepalLength\": 6.7, \"sepalWidth\": 3.3, \"petalLength\": 5.7, \"petalWidth\": 2.5, \"species\": \"virginica\"}, {\"sepalLength\": 6.7, \"sepalWidth\": 3.0, \"petalLength\": 5.2, \"petalWidth\": 2.3, \"species\": \"virginica\"}, {\"sepalLength\": 6.3, \"sepalWidth\": 2.5, \"petalLength\": 5.0, \"petalWidth\": 1.9, \"species\": \"virginica\"}, {\"sepalLength\": 6.5, \"sepalWidth\": 3.0, \"petalLength\": 5.2, \"petalWidth\": 2.0, \"species\": \"virginica\"}, {\"sepalLength\": 6.2, \"sepalWidth\": 3.4, \"petalLength\": 5.4, \"petalWidth\": 2.3, \"species\": \"virginica\"}, {\"sepalLength\": 5.9, \"sepalWidth\": 3.0, \"petalLength\": 5.1, \"petalWidth\": 1.8, \"species\": \"virginica\"}]}}, {\"mode\": \"vega-lite\"});\n",
              "</script>"
            ],
            "text/plain": [
              "alt.Chart(...)"
            ]
          },
          "metadata": {},
          "execution_count": 22
        }
      ],
      "source": [
        "alt.Chart(iris).mark_bar().encode(\n",
        "    x=alt.X('petalLength', bin=True),\n",
        "    y='count()'\n",
        ")"
      ]
    },
    {
      "cell_type": "markdown",
      "metadata": {
        "id": "_1WxC-D5u27h"
      },
      "source": [
        "If we want more control over the bins, we can use ``alt.Bin`` to adjust bin parameters"
      ]
    },
    {
      "cell_type": "code",
      "execution_count": 23,
      "metadata": {
        "colab": {
          "base_uri": "https://localhost:8080/",
          "height": 363
        },
        "id": "twqskOSYu27h",
        "outputId": "c81dd2f3-8cb2-4d45-c4fd-e0497833fdff"
      },
      "outputs": [
        {
          "output_type": "execute_result",
          "data": {
            "text/html": [
              "\n",
              "<div id=\"altair-viz-798cd3a1509d4e82a1c77a2a6be5a3e9\"></div>\n",
              "<script type=\"text/javascript\">\n",
              "  var VEGA_DEBUG = (typeof VEGA_DEBUG == \"undefined\") ? {} : VEGA_DEBUG;\n",
              "  (function(spec, embedOpt){\n",
              "    let outputDiv = document.currentScript.previousElementSibling;\n",
              "    if (outputDiv.id !== \"altair-viz-798cd3a1509d4e82a1c77a2a6be5a3e9\") {\n",
              "      outputDiv = document.getElementById(\"altair-viz-798cd3a1509d4e82a1c77a2a6be5a3e9\");\n",
              "    }\n",
              "    const paths = {\n",
              "      \"vega\": \"https://cdn.jsdelivr.net/npm//vega@5?noext\",\n",
              "      \"vega-lib\": \"https://cdn.jsdelivr.net/npm//vega-lib?noext\",\n",
              "      \"vega-lite\": \"https://cdn.jsdelivr.net/npm//vega-lite@4.17.0?noext\",\n",
              "      \"vega-embed\": \"https://cdn.jsdelivr.net/npm//vega-embed@6?noext\",\n",
              "    };\n",
              "\n",
              "    function maybeLoadScript(lib, version) {\n",
              "      var key = `${lib.replace(\"-\", \"\")}_version`;\n",
              "      return (VEGA_DEBUG[key] == version) ?\n",
              "        Promise.resolve(paths[lib]) :\n",
              "        new Promise(function(resolve, reject) {\n",
              "          var s = document.createElement('script');\n",
              "          document.getElementsByTagName(\"head\")[0].appendChild(s);\n",
              "          s.async = true;\n",
              "          s.onload = () => {\n",
              "            VEGA_DEBUG[key] = version;\n",
              "            return resolve(paths[lib]);\n",
              "          };\n",
              "          s.onerror = () => reject(`Error loading script: ${paths[lib]}`);\n",
              "          s.src = paths[lib];\n",
              "        });\n",
              "    }\n",
              "\n",
              "    function showError(err) {\n",
              "      outputDiv.innerHTML = `<div class=\"error\" style=\"color:red;\">${err}</div>`;\n",
              "      throw err;\n",
              "    }\n",
              "\n",
              "    function displayChart(vegaEmbed) {\n",
              "      vegaEmbed(outputDiv, spec, embedOpt)\n",
              "        .catch(err => showError(`Javascript Error: ${err.message}<br>This usually means there's a typo in your chart specification. See the javascript console for the full traceback.`));\n",
              "    }\n",
              "\n",
              "    if(typeof define === \"function\" && define.amd) {\n",
              "      requirejs.config({paths});\n",
              "      require([\"vega-embed\"], displayChart, err => showError(`Error loading script: ${err.message}`));\n",
              "    } else {\n",
              "      maybeLoadScript(\"vega\", \"5\")\n",
              "        .then(() => maybeLoadScript(\"vega-lite\", \"4.17.0\"))\n",
              "        .then(() => maybeLoadScript(\"vega-embed\", \"6\"))\n",
              "        .catch(showError)\n",
              "        .then(() => displayChart(vegaEmbed));\n",
              "    }\n",
              "  })({\"config\": {\"view\": {\"continuousWidth\": 400, \"continuousHeight\": 300}}, \"data\": {\"name\": \"data-a264acbd6e539a8b3afc0cb5f240fb57\"}, \"mark\": \"bar\", \"encoding\": {\"x\": {\"bin\": {\"maxbins\": 50}, \"field\": \"petalLength\", \"type\": \"quantitative\"}, \"y\": {\"aggregate\": \"count\", \"type\": \"quantitative\"}}, \"$schema\": \"https://vega.github.io/schema/vega-lite/v4.17.0.json\", \"datasets\": {\"data-a264acbd6e539a8b3afc0cb5f240fb57\": [{\"sepalLength\": 5.1, \"sepalWidth\": 3.5, \"petalLength\": 1.4, \"petalWidth\": 0.2, \"species\": \"setosa\"}, {\"sepalLength\": 4.9, \"sepalWidth\": 3.0, \"petalLength\": 1.4, \"petalWidth\": 0.2, \"species\": \"setosa\"}, {\"sepalLength\": 4.7, \"sepalWidth\": 3.2, \"petalLength\": 1.3, \"petalWidth\": 0.2, \"species\": \"setosa\"}, {\"sepalLength\": 4.6, \"sepalWidth\": 3.1, \"petalLength\": 1.5, \"petalWidth\": 0.2, \"species\": \"setosa\"}, {\"sepalLength\": 5.0, \"sepalWidth\": 3.6, \"petalLength\": 1.4, \"petalWidth\": 0.2, \"species\": \"setosa\"}, {\"sepalLength\": 5.4, \"sepalWidth\": 3.9, \"petalLength\": 1.7000000000000002, \"petalWidth\": 0.4, \"species\": \"setosa\"}, {\"sepalLength\": 4.6, \"sepalWidth\": 3.4, \"petalLength\": 1.4, \"petalWidth\": 0.30000000000000004, \"species\": \"setosa\"}, {\"sepalLength\": 5.0, \"sepalWidth\": 3.4, \"petalLength\": 1.5, \"petalWidth\": 0.2, \"species\": \"setosa\"}, {\"sepalLength\": 4.4, \"sepalWidth\": 2.9, \"petalLength\": 1.4, \"petalWidth\": 0.2, \"species\": \"setosa\"}, {\"sepalLength\": 4.9, \"sepalWidth\": 3.1, \"petalLength\": 1.5, \"petalWidth\": 0.1, \"species\": \"setosa\"}, {\"sepalLength\": 5.4, \"sepalWidth\": 3.7, \"petalLength\": 1.5, \"petalWidth\": 0.2, \"species\": \"setosa\"}, {\"sepalLength\": 4.8, \"sepalWidth\": 3.4, \"petalLength\": 1.6, \"petalWidth\": 0.2, \"species\": \"setosa\"}, {\"sepalLength\": 4.8, \"sepalWidth\": 3.0, \"petalLength\": 1.4, \"petalWidth\": 0.1, \"species\": \"setosa\"}, {\"sepalLength\": 4.3, \"sepalWidth\": 3.0, \"petalLength\": 1.1, \"petalWidth\": 0.1, \"species\": \"setosa\"}, {\"sepalLength\": 5.8, \"sepalWidth\": 4.0, \"petalLength\": 1.2, \"petalWidth\": 0.2, \"species\": \"setosa\"}, {\"sepalLength\": 5.7, \"sepalWidth\": 4.4, \"petalLength\": 1.5, \"petalWidth\": 0.4, \"species\": \"setosa\"}, {\"sepalLength\": 5.4, \"sepalWidth\": 3.9, \"petalLength\": 1.3, \"petalWidth\": 0.4, \"species\": \"setosa\"}, {\"sepalLength\": 5.1, \"sepalWidth\": 3.5, \"petalLength\": 1.4, \"petalWidth\": 0.30000000000000004, \"species\": \"setosa\"}, {\"sepalLength\": 5.7, \"sepalWidth\": 3.8, \"petalLength\": 1.7000000000000002, \"petalWidth\": 0.30000000000000004, \"species\": \"setosa\"}, {\"sepalLength\": 5.1, \"sepalWidth\": 3.8, \"petalLength\": 1.5, \"petalWidth\": 0.30000000000000004, \"species\": \"setosa\"}, {\"sepalLength\": 5.4, \"sepalWidth\": 3.4, \"petalLength\": 1.7000000000000002, \"petalWidth\": 0.2, \"species\": \"setosa\"}, {\"sepalLength\": 5.1, \"sepalWidth\": 3.7, \"petalLength\": 1.5, \"petalWidth\": 0.4, \"species\": \"setosa\"}, {\"sepalLength\": 4.6, \"sepalWidth\": 3.6, \"petalLength\": 1.0, \"petalWidth\": 0.2, \"species\": \"setosa\"}, {\"sepalLength\": 5.1, \"sepalWidth\": 3.3, \"petalLength\": 1.7000000000000002, \"petalWidth\": 0.5, \"species\": \"setosa\"}, {\"sepalLength\": 4.8, \"sepalWidth\": 3.4, \"petalLength\": 1.9, \"petalWidth\": 0.2, \"species\": \"setosa\"}, {\"sepalLength\": 5.0, \"sepalWidth\": 3.0, \"petalLength\": 1.6, \"petalWidth\": 0.2, \"species\": \"setosa\"}, {\"sepalLength\": 5.0, \"sepalWidth\": 3.4, \"petalLength\": 1.6, \"petalWidth\": 0.4, \"species\": \"setosa\"}, {\"sepalLength\": 5.2, \"sepalWidth\": 3.5, \"petalLength\": 1.5, \"petalWidth\": 0.2, \"species\": \"setosa\"}, {\"sepalLength\": 5.2, \"sepalWidth\": 3.4, \"petalLength\": 1.4, \"petalWidth\": 0.2, \"species\": \"setosa\"}, {\"sepalLength\": 4.7, \"sepalWidth\": 3.2, \"petalLength\": 1.6, \"petalWidth\": 0.2, \"species\": \"setosa\"}, {\"sepalLength\": 4.8, \"sepalWidth\": 3.1, \"petalLength\": 1.6, \"petalWidth\": 0.2, \"species\": \"setosa\"}, {\"sepalLength\": 5.4, \"sepalWidth\": 3.4, \"petalLength\": 1.5, \"petalWidth\": 0.4, \"species\": \"setosa\"}, {\"sepalLength\": 5.2, \"sepalWidth\": 4.1, \"petalLength\": 1.5, \"petalWidth\": 0.1, \"species\": \"setosa\"}, {\"sepalLength\": 5.5, \"sepalWidth\": 4.2, \"petalLength\": 1.4, \"petalWidth\": 0.2, \"species\": \"setosa\"}, {\"sepalLength\": 4.9, \"sepalWidth\": 3.1, \"petalLength\": 1.5, \"petalWidth\": 0.2, \"species\": \"setosa\"}, {\"sepalLength\": 5.0, \"sepalWidth\": 3.2, \"petalLength\": 1.2, \"petalWidth\": 0.2, \"species\": \"setosa\"}, {\"sepalLength\": 5.5, \"sepalWidth\": 3.5, \"petalLength\": 1.3, \"petalWidth\": 0.2, \"species\": \"setosa\"}, {\"sepalLength\": 4.9, \"sepalWidth\": 3.6, \"petalLength\": 1.4, \"petalWidth\": 0.1, \"species\": \"setosa\"}, {\"sepalLength\": 4.4, \"sepalWidth\": 3.0, \"petalLength\": 1.3, \"petalWidth\": 0.2, \"species\": \"setosa\"}, {\"sepalLength\": 5.1, \"sepalWidth\": 3.4, \"petalLength\": 1.5, \"petalWidth\": 0.2, \"species\": \"setosa\"}, {\"sepalLength\": 5.0, \"sepalWidth\": 3.5, \"petalLength\": 1.3, \"petalWidth\": 0.30000000000000004, \"species\": \"setosa\"}, {\"sepalLength\": 4.5, \"sepalWidth\": 2.3, \"petalLength\": 1.3, \"petalWidth\": 0.30000000000000004, \"species\": \"setosa\"}, {\"sepalLength\": 4.4, \"sepalWidth\": 3.2, \"petalLength\": 1.3, \"petalWidth\": 0.2, \"species\": \"setosa\"}, {\"sepalLength\": 5.0, \"sepalWidth\": 3.5, \"petalLength\": 1.6, \"petalWidth\": 0.6000000000000001, \"species\": \"setosa\"}, {\"sepalLength\": 5.1, \"sepalWidth\": 3.8, \"petalLength\": 1.9, \"petalWidth\": 0.4, \"species\": \"setosa\"}, {\"sepalLength\": 4.8, \"sepalWidth\": 3.0, \"petalLength\": 1.4, \"petalWidth\": 0.30000000000000004, \"species\": \"setosa\"}, {\"sepalLength\": 5.1, \"sepalWidth\": 3.8, \"petalLength\": 1.6, \"petalWidth\": 0.2, \"species\": \"setosa\"}, {\"sepalLength\": 4.6, \"sepalWidth\": 3.2, \"petalLength\": 1.4, \"petalWidth\": 0.2, \"species\": \"setosa\"}, {\"sepalLength\": 5.3, \"sepalWidth\": 3.7, \"petalLength\": 1.5, \"petalWidth\": 0.2, \"species\": \"setosa\"}, {\"sepalLength\": 5.0, \"sepalWidth\": 3.3, \"petalLength\": 1.4, \"petalWidth\": 0.2, \"species\": \"setosa\"}, {\"sepalLength\": 7.0, \"sepalWidth\": 3.2, \"petalLength\": 4.7, \"petalWidth\": 1.4, \"species\": \"versicolor\"}, {\"sepalLength\": 6.4, \"sepalWidth\": 3.2, \"petalLength\": 4.5, \"petalWidth\": 1.5, \"species\": \"versicolor\"}, {\"sepalLength\": 6.9, \"sepalWidth\": 3.1, \"petalLength\": 4.9, \"petalWidth\": 1.5, \"species\": \"versicolor\"}, {\"sepalLength\": 5.5, \"sepalWidth\": 2.3, \"petalLength\": 4.0, \"petalWidth\": 1.3, \"species\": \"versicolor\"}, {\"sepalLength\": 6.5, \"sepalWidth\": 2.8, \"petalLength\": 4.6, \"petalWidth\": 1.5, \"species\": \"versicolor\"}, {\"sepalLength\": 5.7, \"sepalWidth\": 2.8, \"petalLength\": 4.5, \"petalWidth\": 1.3, \"species\": \"versicolor\"}, {\"sepalLength\": 6.3, \"sepalWidth\": 3.3, \"petalLength\": 4.7, \"petalWidth\": 1.6, \"species\": \"versicolor\"}, {\"sepalLength\": 4.9, \"sepalWidth\": 2.4, \"petalLength\": 3.3, \"petalWidth\": 1.0, \"species\": \"versicolor\"}, {\"sepalLength\": 6.6, \"sepalWidth\": 2.9, \"petalLength\": 4.6, \"petalWidth\": 1.3, \"species\": \"versicolor\"}, {\"sepalLength\": 5.2, \"sepalWidth\": 2.7, \"petalLength\": 3.9, \"petalWidth\": 1.4, \"species\": \"versicolor\"}, {\"sepalLength\": 5.0, \"sepalWidth\": 2.0, \"petalLength\": 3.5, \"petalWidth\": 1.0, \"species\": \"versicolor\"}, {\"sepalLength\": 5.9, \"sepalWidth\": 3.0, \"petalLength\": 4.2, \"petalWidth\": 1.5, \"species\": \"versicolor\"}, {\"sepalLength\": 6.0, \"sepalWidth\": 2.2, \"petalLength\": 4.0, \"petalWidth\": 1.0, \"species\": \"versicolor\"}, {\"sepalLength\": 6.1, \"sepalWidth\": 2.9, \"petalLength\": 4.7, \"petalWidth\": 1.4, \"species\": \"versicolor\"}, {\"sepalLength\": 5.6, \"sepalWidth\": 2.9, \"petalLength\": 3.6, \"petalWidth\": 1.3, \"species\": \"versicolor\"}, {\"sepalLength\": 6.7, \"sepalWidth\": 3.1, \"petalLength\": 4.4, \"petalWidth\": 1.4, \"species\": \"versicolor\"}, {\"sepalLength\": 5.6, \"sepalWidth\": 3.0, \"petalLength\": 4.5, \"petalWidth\": 1.5, \"species\": \"versicolor\"}, {\"sepalLength\": 5.8, \"sepalWidth\": 2.7, \"petalLength\": 4.1, \"petalWidth\": 1.0, \"species\": \"versicolor\"}, {\"sepalLength\": 6.2, \"sepalWidth\": 2.2, \"petalLength\": 4.5, \"petalWidth\": 1.5, \"species\": \"versicolor\"}, {\"sepalLength\": 5.6, \"sepalWidth\": 2.5, \"petalLength\": 3.9, \"petalWidth\": 1.1, \"species\": \"versicolor\"}, {\"sepalLength\": 5.9, \"sepalWidth\": 3.2, \"petalLength\": 4.8, \"petalWidth\": 1.8, \"species\": \"versicolor\"}, {\"sepalLength\": 6.1, \"sepalWidth\": 2.8, \"petalLength\": 4.0, \"petalWidth\": 1.3, \"species\": \"versicolor\"}, {\"sepalLength\": 6.3, \"sepalWidth\": 2.5, \"petalLength\": 4.9, \"petalWidth\": 1.5, \"species\": \"versicolor\"}, {\"sepalLength\": 6.1, \"sepalWidth\": 2.8, \"petalLength\": 4.7, \"petalWidth\": 1.2, \"species\": \"versicolor\"}, {\"sepalLength\": 6.4, \"sepalWidth\": 2.9, \"petalLength\": 4.3, \"petalWidth\": 1.3, \"species\": \"versicolor\"}, {\"sepalLength\": 6.6, \"sepalWidth\": 3.0, \"petalLength\": 4.4, \"petalWidth\": 1.4, \"species\": \"versicolor\"}, {\"sepalLength\": 6.8, \"sepalWidth\": 2.8, \"petalLength\": 4.8, \"petalWidth\": 1.4, \"species\": \"versicolor\"}, {\"sepalLength\": 6.7, \"sepalWidth\": 3.0, \"petalLength\": 5.0, \"petalWidth\": 1.7000000000000002, \"species\": \"versicolor\"}, {\"sepalLength\": 6.0, \"sepalWidth\": 2.9, \"petalLength\": 4.5, \"petalWidth\": 1.5, \"species\": \"versicolor\"}, {\"sepalLength\": 5.7, \"sepalWidth\": 2.6, \"petalLength\": 3.5, \"petalWidth\": 1.0, \"species\": \"versicolor\"}, {\"sepalLength\": 5.5, \"sepalWidth\": 2.4, \"petalLength\": 3.8, \"petalWidth\": 1.1, \"species\": \"versicolor\"}, {\"sepalLength\": 5.5, \"sepalWidth\": 2.4, \"petalLength\": 3.7, \"petalWidth\": 1.0, \"species\": \"versicolor\"}, {\"sepalLength\": 5.8, \"sepalWidth\": 2.7, \"petalLength\": 3.9, \"petalWidth\": 1.2, \"species\": \"versicolor\"}, {\"sepalLength\": 6.0, \"sepalWidth\": 2.7, \"petalLength\": 5.1, \"petalWidth\": 1.6, \"species\": \"versicolor\"}, {\"sepalLength\": 5.4, \"sepalWidth\": 3.0, \"petalLength\": 4.5, \"petalWidth\": 1.5, \"species\": \"versicolor\"}, {\"sepalLength\": 6.0, \"sepalWidth\": 3.4, \"petalLength\": 4.5, \"petalWidth\": 1.6, \"species\": \"versicolor\"}, {\"sepalLength\": 6.7, \"sepalWidth\": 3.1, \"petalLength\": 4.7, \"petalWidth\": 1.5, \"species\": \"versicolor\"}, {\"sepalLength\": 6.3, \"sepalWidth\": 2.3, \"petalLength\": 4.4, \"petalWidth\": 1.3, \"species\": \"versicolor\"}, {\"sepalLength\": 5.6, \"sepalWidth\": 3.0, \"petalLength\": 4.1, \"petalWidth\": 1.3, \"species\": \"versicolor\"}, {\"sepalLength\": 5.5, \"sepalWidth\": 2.5, \"petalLength\": 4.0, \"petalWidth\": 1.3, \"species\": \"versicolor\"}, {\"sepalLength\": 5.5, \"sepalWidth\": 2.6, \"petalLength\": 4.4, \"petalWidth\": 1.2, \"species\": \"versicolor\"}, {\"sepalLength\": 6.1, \"sepalWidth\": 3.0, \"petalLength\": 4.6, \"petalWidth\": 1.4, \"species\": \"versicolor\"}, {\"sepalLength\": 5.8, \"sepalWidth\": 2.6, \"petalLength\": 4.0, \"petalWidth\": 1.2, \"species\": \"versicolor\"}, {\"sepalLength\": 5.0, \"sepalWidth\": 2.3, \"petalLength\": 3.3, \"petalWidth\": 1.0, \"species\": \"versicolor\"}, {\"sepalLength\": 5.6, \"sepalWidth\": 2.7, \"petalLength\": 4.2, \"petalWidth\": 1.3, \"species\": \"versicolor\"}, {\"sepalLength\": 5.7, \"sepalWidth\": 3.0, \"petalLength\": 4.2, \"petalWidth\": 1.2, \"species\": \"versicolor\"}, {\"sepalLength\": 5.7, \"sepalWidth\": 2.9, \"petalLength\": 4.2, \"petalWidth\": 1.3, \"species\": \"versicolor\"}, {\"sepalLength\": 6.2, \"sepalWidth\": 2.9, \"petalLength\": 4.3, \"petalWidth\": 1.3, \"species\": \"versicolor\"}, {\"sepalLength\": 5.1, \"sepalWidth\": 2.5, \"petalLength\": 3.0, \"petalWidth\": 1.1, \"species\": \"versicolor\"}, {\"sepalLength\": 5.7, \"sepalWidth\": 2.8, \"petalLength\": 4.1, \"petalWidth\": 1.3, \"species\": \"versicolor\"}, {\"sepalLength\": 6.3, \"sepalWidth\": 3.3, \"petalLength\": 6.0, \"petalWidth\": 2.5, \"species\": \"virginica\"}, {\"sepalLength\": 5.8, \"sepalWidth\": 2.7, \"petalLength\": 5.1, \"petalWidth\": 1.9, \"species\": \"virginica\"}, {\"sepalLength\": 7.1, \"sepalWidth\": 3.0, \"petalLength\": 5.9, \"petalWidth\": 2.1, \"species\": \"virginica\"}, {\"sepalLength\": 6.3, \"sepalWidth\": 2.9, \"petalLength\": 5.6, \"petalWidth\": 1.8, \"species\": \"virginica\"}, {\"sepalLength\": 6.5, \"sepalWidth\": 3.0, \"petalLength\": 5.8, \"petalWidth\": 2.2, \"species\": \"virginica\"}, {\"sepalLength\": 7.6, \"sepalWidth\": 3.0, \"petalLength\": 6.6, \"petalWidth\": 2.1, \"species\": \"virginica\"}, {\"sepalLength\": 4.9, \"sepalWidth\": 2.5, \"petalLength\": 4.5, \"petalWidth\": 1.7000000000000002, \"species\": \"virginica\"}, {\"sepalLength\": 7.3, \"sepalWidth\": 2.9, \"petalLength\": 6.3, \"petalWidth\": 1.8, \"species\": \"virginica\"}, {\"sepalLength\": 6.7, \"sepalWidth\": 2.5, \"petalLength\": 5.8, \"petalWidth\": 1.8, \"species\": \"virginica\"}, {\"sepalLength\": 7.2, \"sepalWidth\": 3.6, \"petalLength\": 6.1, \"petalWidth\": 2.5, \"species\": \"virginica\"}, {\"sepalLength\": 6.5, \"sepalWidth\": 3.2, \"petalLength\": 5.1, \"petalWidth\": 2.0, \"species\": \"virginica\"}, {\"sepalLength\": 6.4, \"sepalWidth\": 2.7, \"petalLength\": 5.3, \"petalWidth\": 1.9, \"species\": \"virginica\"}, {\"sepalLength\": 6.8, \"sepalWidth\": 3.0, \"petalLength\": 5.5, \"petalWidth\": 2.1, \"species\": \"virginica\"}, {\"sepalLength\": 5.7, \"sepalWidth\": 2.5, \"petalLength\": 5.0, \"petalWidth\": 2.0, \"species\": \"virginica\"}, {\"sepalLength\": 5.8, \"sepalWidth\": 2.8, \"petalLength\": 5.1, \"petalWidth\": 2.4, \"species\": \"virginica\"}, {\"sepalLength\": 6.4, \"sepalWidth\": 3.2, \"petalLength\": 5.3, \"petalWidth\": 2.3, \"species\": \"virginica\"}, {\"sepalLength\": 6.5, \"sepalWidth\": 3.0, \"petalLength\": 5.5, \"petalWidth\": 1.8, \"species\": \"virginica\"}, {\"sepalLength\": 7.7, \"sepalWidth\": 3.8, \"petalLength\": 6.7, \"petalWidth\": 2.2, \"species\": \"virginica\"}, {\"sepalLength\": 7.7, \"sepalWidth\": 2.6, \"petalLength\": 6.9, \"petalWidth\": 2.3, \"species\": \"virginica\"}, {\"sepalLength\": 6.0, \"sepalWidth\": 2.2, \"petalLength\": 5.0, \"petalWidth\": 1.5, \"species\": \"virginica\"}, {\"sepalLength\": 6.9, \"sepalWidth\": 3.2, \"petalLength\": 5.7, \"petalWidth\": 2.3, \"species\": \"virginica\"}, {\"sepalLength\": 5.6, \"sepalWidth\": 2.8, \"petalLength\": 4.9, \"petalWidth\": 2.0, \"species\": \"virginica\"}, {\"sepalLength\": 7.7, \"sepalWidth\": 2.8, \"petalLength\": 6.7, \"petalWidth\": 2.0, \"species\": \"virginica\"}, {\"sepalLength\": 6.3, \"sepalWidth\": 2.7, \"petalLength\": 4.9, \"petalWidth\": 1.8, \"species\": \"virginica\"}, {\"sepalLength\": 6.7, \"sepalWidth\": 3.3, \"petalLength\": 5.7, \"petalWidth\": 2.1, \"species\": \"virginica\"}, {\"sepalLength\": 7.2, \"sepalWidth\": 3.2, \"petalLength\": 6.0, \"petalWidth\": 1.8, \"species\": \"virginica\"}, {\"sepalLength\": 6.2, \"sepalWidth\": 2.8, \"petalLength\": 4.8, \"petalWidth\": 1.8, \"species\": \"virginica\"}, {\"sepalLength\": 6.1, \"sepalWidth\": 3.0, \"petalLength\": 4.9, \"petalWidth\": 1.8, \"species\": \"virginica\"}, {\"sepalLength\": 6.4, \"sepalWidth\": 2.8, \"petalLength\": 5.6, \"petalWidth\": 2.1, \"species\": \"virginica\"}, {\"sepalLength\": 7.2, \"sepalWidth\": 3.0, \"petalLength\": 5.8, \"petalWidth\": 1.6, \"species\": \"virginica\"}, {\"sepalLength\": 7.4, \"sepalWidth\": 2.8, \"petalLength\": 6.1, \"petalWidth\": 1.9, \"species\": \"virginica\"}, {\"sepalLength\": 7.9, \"sepalWidth\": 3.8, \"petalLength\": 6.4, \"petalWidth\": 2.0, \"species\": \"virginica\"}, {\"sepalLength\": 6.4, \"sepalWidth\": 2.8, \"petalLength\": 5.6, \"petalWidth\": 2.2, \"species\": \"virginica\"}, {\"sepalLength\": 6.3, \"sepalWidth\": 2.8, \"petalLength\": 5.1, \"petalWidth\": 1.5, \"species\": \"virginica\"}, {\"sepalLength\": 6.1, \"sepalWidth\": 2.6, \"petalLength\": 5.6, \"petalWidth\": 1.4, \"species\": \"virginica\"}, {\"sepalLength\": 7.7, \"sepalWidth\": 3.0, \"petalLength\": 6.1, \"petalWidth\": 2.3, \"species\": \"virginica\"}, {\"sepalLength\": 6.3, \"sepalWidth\": 3.4, \"petalLength\": 5.6, \"petalWidth\": 2.4, \"species\": \"virginica\"}, {\"sepalLength\": 6.4, \"sepalWidth\": 3.1, \"petalLength\": 5.5, \"petalWidth\": 1.8, \"species\": \"virginica\"}, {\"sepalLength\": 6.0, \"sepalWidth\": 3.0, \"petalLength\": 4.8, \"petalWidth\": 1.8, \"species\": \"virginica\"}, {\"sepalLength\": 6.9, \"sepalWidth\": 3.1, \"petalLength\": 5.4, \"petalWidth\": 2.1, \"species\": \"virginica\"}, {\"sepalLength\": 6.7, \"sepalWidth\": 3.1, \"petalLength\": 5.6, \"petalWidth\": 2.4, \"species\": \"virginica\"}, {\"sepalLength\": 6.9, \"sepalWidth\": 3.1, \"petalLength\": 5.1, \"petalWidth\": 2.3, \"species\": \"virginica\"}, {\"sepalLength\": 5.8, \"sepalWidth\": 2.7, \"petalLength\": 5.1, \"petalWidth\": 1.9, \"species\": \"virginica\"}, {\"sepalLength\": 6.8, \"sepalWidth\": 3.2, \"petalLength\": 5.9, \"petalWidth\": 2.3, \"species\": \"virginica\"}, {\"sepalLength\": 6.7, \"sepalWidth\": 3.3, \"petalLength\": 5.7, \"petalWidth\": 2.5, \"species\": \"virginica\"}, {\"sepalLength\": 6.7, \"sepalWidth\": 3.0, \"petalLength\": 5.2, \"petalWidth\": 2.3, \"species\": \"virginica\"}, {\"sepalLength\": 6.3, \"sepalWidth\": 2.5, \"petalLength\": 5.0, \"petalWidth\": 1.9, \"species\": \"virginica\"}, {\"sepalLength\": 6.5, \"sepalWidth\": 3.0, \"petalLength\": 5.2, \"petalWidth\": 2.0, \"species\": \"virginica\"}, {\"sepalLength\": 6.2, \"sepalWidth\": 3.4, \"petalLength\": 5.4, \"petalWidth\": 2.3, \"species\": \"virginica\"}, {\"sepalLength\": 5.9, \"sepalWidth\": 3.0, \"petalLength\": 5.1, \"petalWidth\": 1.8, \"species\": \"virginica\"}]}}, {\"mode\": \"vega-lite\"});\n",
              "</script>"
            ],
            "text/plain": [
              "alt.Chart(...)"
            ]
          },
          "metadata": {},
          "execution_count": 23
        }
      ],
      "source": [
        "alt.Chart(iris).mark_bar().encode(\n",
        "    x=alt.X('petalLength', bin=alt.Bin(maxbins=50)),\n",
        "    y='count()'\n",
        ")"
      ]
    },
    {
      "cell_type": "markdown",
      "metadata": {
        "id": "1cT3oMP9u27h"
      },
      "source": [
        "If we apply another encoding (such as ``color``), the data will be automatically grouped within each bin:"
      ]
    },
    {
      "cell_type": "code",
      "execution_count": 24,
      "metadata": {
        "colab": {
          "base_uri": "https://localhost:8080/",
          "height": 363
        },
        "id": "9iB0RHjru27i",
        "outputId": "fb9399cf-fe80-471d-bec5-d8f60fc67031"
      },
      "outputs": [
        {
          "output_type": "execute_result",
          "data": {
            "text/html": [
              "\n",
              "<div id=\"altair-viz-23a8ecbe84c1428ebdf153bdccb1ca8e\"></div>\n",
              "<script type=\"text/javascript\">\n",
              "  var VEGA_DEBUG = (typeof VEGA_DEBUG == \"undefined\") ? {} : VEGA_DEBUG;\n",
              "  (function(spec, embedOpt){\n",
              "    let outputDiv = document.currentScript.previousElementSibling;\n",
              "    if (outputDiv.id !== \"altair-viz-23a8ecbe84c1428ebdf153bdccb1ca8e\") {\n",
              "      outputDiv = document.getElementById(\"altair-viz-23a8ecbe84c1428ebdf153bdccb1ca8e\");\n",
              "    }\n",
              "    const paths = {\n",
              "      \"vega\": \"https://cdn.jsdelivr.net/npm//vega@5?noext\",\n",
              "      \"vega-lib\": \"https://cdn.jsdelivr.net/npm//vega-lib?noext\",\n",
              "      \"vega-lite\": \"https://cdn.jsdelivr.net/npm//vega-lite@4.17.0?noext\",\n",
              "      \"vega-embed\": \"https://cdn.jsdelivr.net/npm//vega-embed@6?noext\",\n",
              "    };\n",
              "\n",
              "    function maybeLoadScript(lib, version) {\n",
              "      var key = `${lib.replace(\"-\", \"\")}_version`;\n",
              "      return (VEGA_DEBUG[key] == version) ?\n",
              "        Promise.resolve(paths[lib]) :\n",
              "        new Promise(function(resolve, reject) {\n",
              "          var s = document.createElement('script');\n",
              "          document.getElementsByTagName(\"head\")[0].appendChild(s);\n",
              "          s.async = true;\n",
              "          s.onload = () => {\n",
              "            VEGA_DEBUG[key] = version;\n",
              "            return resolve(paths[lib]);\n",
              "          };\n",
              "          s.onerror = () => reject(`Error loading script: ${paths[lib]}`);\n",
              "          s.src = paths[lib];\n",
              "        });\n",
              "    }\n",
              "\n",
              "    function showError(err) {\n",
              "      outputDiv.innerHTML = `<div class=\"error\" style=\"color:red;\">${err}</div>`;\n",
              "      throw err;\n",
              "    }\n",
              "\n",
              "    function displayChart(vegaEmbed) {\n",
              "      vegaEmbed(outputDiv, spec, embedOpt)\n",
              "        .catch(err => showError(`Javascript Error: ${err.message}<br>This usually means there's a typo in your chart specification. See the javascript console for the full traceback.`));\n",
              "    }\n",
              "\n",
              "    if(typeof define === \"function\" && define.amd) {\n",
              "      requirejs.config({paths});\n",
              "      require([\"vega-embed\"], displayChart, err => showError(`Error loading script: ${err.message}`));\n",
              "    } else {\n",
              "      maybeLoadScript(\"vega\", \"5\")\n",
              "        .then(() => maybeLoadScript(\"vega-lite\", \"4.17.0\"))\n",
              "        .then(() => maybeLoadScript(\"vega-embed\", \"6\"))\n",
              "        .catch(showError)\n",
              "        .then(() => displayChart(vegaEmbed));\n",
              "    }\n",
              "  })({\"config\": {\"view\": {\"continuousWidth\": 400, \"continuousHeight\": 300}}, \"data\": {\"name\": \"data-a264acbd6e539a8b3afc0cb5f240fb57\"}, \"mark\": \"bar\", \"encoding\": {\"color\": {\"field\": \"species\", \"type\": \"nominal\"}, \"x\": {\"bin\": {\"maxbins\": 50}, \"field\": \"petalLength\", \"type\": \"quantitative\"}, \"y\": {\"aggregate\": \"count\", \"type\": \"quantitative\"}}, \"$schema\": \"https://vega.github.io/schema/vega-lite/v4.17.0.json\", \"datasets\": {\"data-a264acbd6e539a8b3afc0cb5f240fb57\": [{\"sepalLength\": 5.1, \"sepalWidth\": 3.5, \"petalLength\": 1.4, \"petalWidth\": 0.2, \"species\": \"setosa\"}, {\"sepalLength\": 4.9, \"sepalWidth\": 3.0, \"petalLength\": 1.4, \"petalWidth\": 0.2, \"species\": \"setosa\"}, {\"sepalLength\": 4.7, \"sepalWidth\": 3.2, \"petalLength\": 1.3, \"petalWidth\": 0.2, \"species\": \"setosa\"}, {\"sepalLength\": 4.6, \"sepalWidth\": 3.1, \"petalLength\": 1.5, \"petalWidth\": 0.2, \"species\": \"setosa\"}, {\"sepalLength\": 5.0, \"sepalWidth\": 3.6, \"petalLength\": 1.4, \"petalWidth\": 0.2, \"species\": \"setosa\"}, {\"sepalLength\": 5.4, \"sepalWidth\": 3.9, \"petalLength\": 1.7000000000000002, \"petalWidth\": 0.4, \"species\": \"setosa\"}, {\"sepalLength\": 4.6, \"sepalWidth\": 3.4, \"petalLength\": 1.4, \"petalWidth\": 0.30000000000000004, \"species\": \"setosa\"}, {\"sepalLength\": 5.0, \"sepalWidth\": 3.4, \"petalLength\": 1.5, \"petalWidth\": 0.2, \"species\": \"setosa\"}, {\"sepalLength\": 4.4, \"sepalWidth\": 2.9, \"petalLength\": 1.4, \"petalWidth\": 0.2, \"species\": \"setosa\"}, {\"sepalLength\": 4.9, \"sepalWidth\": 3.1, \"petalLength\": 1.5, \"petalWidth\": 0.1, \"species\": \"setosa\"}, {\"sepalLength\": 5.4, \"sepalWidth\": 3.7, \"petalLength\": 1.5, \"petalWidth\": 0.2, \"species\": \"setosa\"}, {\"sepalLength\": 4.8, \"sepalWidth\": 3.4, \"petalLength\": 1.6, \"petalWidth\": 0.2, \"species\": \"setosa\"}, {\"sepalLength\": 4.8, \"sepalWidth\": 3.0, \"petalLength\": 1.4, \"petalWidth\": 0.1, \"species\": \"setosa\"}, {\"sepalLength\": 4.3, \"sepalWidth\": 3.0, \"petalLength\": 1.1, \"petalWidth\": 0.1, \"species\": \"setosa\"}, {\"sepalLength\": 5.8, \"sepalWidth\": 4.0, \"petalLength\": 1.2, \"petalWidth\": 0.2, \"species\": \"setosa\"}, {\"sepalLength\": 5.7, \"sepalWidth\": 4.4, \"petalLength\": 1.5, \"petalWidth\": 0.4, \"species\": \"setosa\"}, {\"sepalLength\": 5.4, \"sepalWidth\": 3.9, \"petalLength\": 1.3, \"petalWidth\": 0.4, \"species\": \"setosa\"}, {\"sepalLength\": 5.1, \"sepalWidth\": 3.5, \"petalLength\": 1.4, \"petalWidth\": 0.30000000000000004, \"species\": \"setosa\"}, {\"sepalLength\": 5.7, \"sepalWidth\": 3.8, \"petalLength\": 1.7000000000000002, \"petalWidth\": 0.30000000000000004, \"species\": \"setosa\"}, {\"sepalLength\": 5.1, \"sepalWidth\": 3.8, \"petalLength\": 1.5, \"petalWidth\": 0.30000000000000004, \"species\": \"setosa\"}, {\"sepalLength\": 5.4, \"sepalWidth\": 3.4, \"petalLength\": 1.7000000000000002, \"petalWidth\": 0.2, \"species\": \"setosa\"}, {\"sepalLength\": 5.1, \"sepalWidth\": 3.7, \"petalLength\": 1.5, \"petalWidth\": 0.4, \"species\": \"setosa\"}, {\"sepalLength\": 4.6, \"sepalWidth\": 3.6, \"petalLength\": 1.0, \"petalWidth\": 0.2, \"species\": \"setosa\"}, {\"sepalLength\": 5.1, \"sepalWidth\": 3.3, \"petalLength\": 1.7000000000000002, \"petalWidth\": 0.5, \"species\": \"setosa\"}, {\"sepalLength\": 4.8, \"sepalWidth\": 3.4, \"petalLength\": 1.9, \"petalWidth\": 0.2, \"species\": \"setosa\"}, {\"sepalLength\": 5.0, \"sepalWidth\": 3.0, \"petalLength\": 1.6, \"petalWidth\": 0.2, \"species\": \"setosa\"}, {\"sepalLength\": 5.0, \"sepalWidth\": 3.4, \"petalLength\": 1.6, \"petalWidth\": 0.4, \"species\": \"setosa\"}, {\"sepalLength\": 5.2, \"sepalWidth\": 3.5, \"petalLength\": 1.5, \"petalWidth\": 0.2, \"species\": \"setosa\"}, {\"sepalLength\": 5.2, \"sepalWidth\": 3.4, \"petalLength\": 1.4, \"petalWidth\": 0.2, \"species\": \"setosa\"}, {\"sepalLength\": 4.7, \"sepalWidth\": 3.2, \"petalLength\": 1.6, \"petalWidth\": 0.2, \"species\": \"setosa\"}, {\"sepalLength\": 4.8, \"sepalWidth\": 3.1, \"petalLength\": 1.6, \"petalWidth\": 0.2, \"species\": \"setosa\"}, {\"sepalLength\": 5.4, \"sepalWidth\": 3.4, \"petalLength\": 1.5, \"petalWidth\": 0.4, \"species\": \"setosa\"}, {\"sepalLength\": 5.2, \"sepalWidth\": 4.1, \"petalLength\": 1.5, \"petalWidth\": 0.1, \"species\": \"setosa\"}, {\"sepalLength\": 5.5, \"sepalWidth\": 4.2, \"petalLength\": 1.4, \"petalWidth\": 0.2, \"species\": \"setosa\"}, {\"sepalLength\": 4.9, \"sepalWidth\": 3.1, \"petalLength\": 1.5, \"petalWidth\": 0.2, \"species\": \"setosa\"}, {\"sepalLength\": 5.0, \"sepalWidth\": 3.2, \"petalLength\": 1.2, \"petalWidth\": 0.2, \"species\": \"setosa\"}, {\"sepalLength\": 5.5, \"sepalWidth\": 3.5, \"petalLength\": 1.3, \"petalWidth\": 0.2, \"species\": \"setosa\"}, {\"sepalLength\": 4.9, \"sepalWidth\": 3.6, \"petalLength\": 1.4, \"petalWidth\": 0.1, \"species\": \"setosa\"}, {\"sepalLength\": 4.4, \"sepalWidth\": 3.0, \"petalLength\": 1.3, \"petalWidth\": 0.2, \"species\": \"setosa\"}, {\"sepalLength\": 5.1, \"sepalWidth\": 3.4, \"petalLength\": 1.5, \"petalWidth\": 0.2, \"species\": \"setosa\"}, {\"sepalLength\": 5.0, \"sepalWidth\": 3.5, \"petalLength\": 1.3, \"petalWidth\": 0.30000000000000004, \"species\": \"setosa\"}, {\"sepalLength\": 4.5, \"sepalWidth\": 2.3, \"petalLength\": 1.3, \"petalWidth\": 0.30000000000000004, \"species\": \"setosa\"}, {\"sepalLength\": 4.4, \"sepalWidth\": 3.2, \"petalLength\": 1.3, \"petalWidth\": 0.2, \"species\": \"setosa\"}, {\"sepalLength\": 5.0, \"sepalWidth\": 3.5, \"petalLength\": 1.6, \"petalWidth\": 0.6000000000000001, \"species\": \"setosa\"}, {\"sepalLength\": 5.1, \"sepalWidth\": 3.8, \"petalLength\": 1.9, \"petalWidth\": 0.4, \"species\": \"setosa\"}, {\"sepalLength\": 4.8, \"sepalWidth\": 3.0, \"petalLength\": 1.4, \"petalWidth\": 0.30000000000000004, \"species\": \"setosa\"}, {\"sepalLength\": 5.1, \"sepalWidth\": 3.8, \"petalLength\": 1.6, \"petalWidth\": 0.2, \"species\": \"setosa\"}, {\"sepalLength\": 4.6, \"sepalWidth\": 3.2, \"petalLength\": 1.4, \"petalWidth\": 0.2, \"species\": \"setosa\"}, {\"sepalLength\": 5.3, \"sepalWidth\": 3.7, \"petalLength\": 1.5, \"petalWidth\": 0.2, \"species\": \"setosa\"}, {\"sepalLength\": 5.0, \"sepalWidth\": 3.3, \"petalLength\": 1.4, \"petalWidth\": 0.2, \"species\": \"setosa\"}, {\"sepalLength\": 7.0, \"sepalWidth\": 3.2, \"petalLength\": 4.7, \"petalWidth\": 1.4, \"species\": \"versicolor\"}, {\"sepalLength\": 6.4, \"sepalWidth\": 3.2, \"petalLength\": 4.5, \"petalWidth\": 1.5, \"species\": \"versicolor\"}, {\"sepalLength\": 6.9, \"sepalWidth\": 3.1, \"petalLength\": 4.9, \"petalWidth\": 1.5, \"species\": \"versicolor\"}, {\"sepalLength\": 5.5, \"sepalWidth\": 2.3, \"petalLength\": 4.0, \"petalWidth\": 1.3, \"species\": \"versicolor\"}, {\"sepalLength\": 6.5, \"sepalWidth\": 2.8, \"petalLength\": 4.6, \"petalWidth\": 1.5, \"species\": \"versicolor\"}, {\"sepalLength\": 5.7, \"sepalWidth\": 2.8, \"petalLength\": 4.5, \"petalWidth\": 1.3, \"species\": \"versicolor\"}, {\"sepalLength\": 6.3, \"sepalWidth\": 3.3, \"petalLength\": 4.7, \"petalWidth\": 1.6, \"species\": \"versicolor\"}, {\"sepalLength\": 4.9, \"sepalWidth\": 2.4, \"petalLength\": 3.3, \"petalWidth\": 1.0, \"species\": \"versicolor\"}, {\"sepalLength\": 6.6, \"sepalWidth\": 2.9, \"petalLength\": 4.6, \"petalWidth\": 1.3, \"species\": \"versicolor\"}, {\"sepalLength\": 5.2, \"sepalWidth\": 2.7, \"petalLength\": 3.9, \"petalWidth\": 1.4, \"species\": \"versicolor\"}, {\"sepalLength\": 5.0, \"sepalWidth\": 2.0, \"petalLength\": 3.5, \"petalWidth\": 1.0, \"species\": \"versicolor\"}, {\"sepalLength\": 5.9, \"sepalWidth\": 3.0, \"petalLength\": 4.2, \"petalWidth\": 1.5, \"species\": \"versicolor\"}, {\"sepalLength\": 6.0, \"sepalWidth\": 2.2, \"petalLength\": 4.0, \"petalWidth\": 1.0, \"species\": \"versicolor\"}, {\"sepalLength\": 6.1, \"sepalWidth\": 2.9, \"petalLength\": 4.7, \"petalWidth\": 1.4, \"species\": \"versicolor\"}, {\"sepalLength\": 5.6, \"sepalWidth\": 2.9, \"petalLength\": 3.6, \"petalWidth\": 1.3, \"species\": \"versicolor\"}, {\"sepalLength\": 6.7, \"sepalWidth\": 3.1, \"petalLength\": 4.4, \"petalWidth\": 1.4, \"species\": \"versicolor\"}, {\"sepalLength\": 5.6, \"sepalWidth\": 3.0, \"petalLength\": 4.5, \"petalWidth\": 1.5, \"species\": \"versicolor\"}, {\"sepalLength\": 5.8, \"sepalWidth\": 2.7, \"petalLength\": 4.1, \"petalWidth\": 1.0, \"species\": \"versicolor\"}, {\"sepalLength\": 6.2, \"sepalWidth\": 2.2, \"petalLength\": 4.5, \"petalWidth\": 1.5, \"species\": \"versicolor\"}, {\"sepalLength\": 5.6, \"sepalWidth\": 2.5, \"petalLength\": 3.9, \"petalWidth\": 1.1, \"species\": \"versicolor\"}, {\"sepalLength\": 5.9, \"sepalWidth\": 3.2, \"petalLength\": 4.8, \"petalWidth\": 1.8, \"species\": \"versicolor\"}, {\"sepalLength\": 6.1, \"sepalWidth\": 2.8, \"petalLength\": 4.0, \"petalWidth\": 1.3, \"species\": \"versicolor\"}, {\"sepalLength\": 6.3, \"sepalWidth\": 2.5, \"petalLength\": 4.9, \"petalWidth\": 1.5, \"species\": \"versicolor\"}, {\"sepalLength\": 6.1, \"sepalWidth\": 2.8, \"petalLength\": 4.7, \"petalWidth\": 1.2, \"species\": \"versicolor\"}, {\"sepalLength\": 6.4, \"sepalWidth\": 2.9, \"petalLength\": 4.3, \"petalWidth\": 1.3, \"species\": \"versicolor\"}, {\"sepalLength\": 6.6, \"sepalWidth\": 3.0, \"petalLength\": 4.4, \"petalWidth\": 1.4, \"species\": \"versicolor\"}, {\"sepalLength\": 6.8, \"sepalWidth\": 2.8, \"petalLength\": 4.8, \"petalWidth\": 1.4, \"species\": \"versicolor\"}, {\"sepalLength\": 6.7, \"sepalWidth\": 3.0, \"petalLength\": 5.0, \"petalWidth\": 1.7000000000000002, \"species\": \"versicolor\"}, {\"sepalLength\": 6.0, \"sepalWidth\": 2.9, \"petalLength\": 4.5, \"petalWidth\": 1.5, \"species\": \"versicolor\"}, {\"sepalLength\": 5.7, \"sepalWidth\": 2.6, \"petalLength\": 3.5, \"petalWidth\": 1.0, \"species\": \"versicolor\"}, {\"sepalLength\": 5.5, \"sepalWidth\": 2.4, \"petalLength\": 3.8, \"petalWidth\": 1.1, \"species\": \"versicolor\"}, {\"sepalLength\": 5.5, \"sepalWidth\": 2.4, \"petalLength\": 3.7, \"petalWidth\": 1.0, \"species\": \"versicolor\"}, {\"sepalLength\": 5.8, \"sepalWidth\": 2.7, \"petalLength\": 3.9, \"petalWidth\": 1.2, \"species\": \"versicolor\"}, {\"sepalLength\": 6.0, \"sepalWidth\": 2.7, \"petalLength\": 5.1, \"petalWidth\": 1.6, \"species\": \"versicolor\"}, {\"sepalLength\": 5.4, \"sepalWidth\": 3.0, \"petalLength\": 4.5, \"petalWidth\": 1.5, \"species\": \"versicolor\"}, {\"sepalLength\": 6.0, \"sepalWidth\": 3.4, \"petalLength\": 4.5, \"petalWidth\": 1.6, \"species\": \"versicolor\"}, {\"sepalLength\": 6.7, \"sepalWidth\": 3.1, \"petalLength\": 4.7, \"petalWidth\": 1.5, \"species\": \"versicolor\"}, {\"sepalLength\": 6.3, \"sepalWidth\": 2.3, \"petalLength\": 4.4, \"petalWidth\": 1.3, \"species\": \"versicolor\"}, {\"sepalLength\": 5.6, \"sepalWidth\": 3.0, \"petalLength\": 4.1, \"petalWidth\": 1.3, \"species\": \"versicolor\"}, {\"sepalLength\": 5.5, \"sepalWidth\": 2.5, \"petalLength\": 4.0, \"petalWidth\": 1.3, \"species\": \"versicolor\"}, {\"sepalLength\": 5.5, \"sepalWidth\": 2.6, \"petalLength\": 4.4, \"petalWidth\": 1.2, \"species\": \"versicolor\"}, {\"sepalLength\": 6.1, \"sepalWidth\": 3.0, \"petalLength\": 4.6, \"petalWidth\": 1.4, \"species\": \"versicolor\"}, {\"sepalLength\": 5.8, \"sepalWidth\": 2.6, \"petalLength\": 4.0, \"petalWidth\": 1.2, \"species\": \"versicolor\"}, {\"sepalLength\": 5.0, \"sepalWidth\": 2.3, \"petalLength\": 3.3, \"petalWidth\": 1.0, \"species\": \"versicolor\"}, {\"sepalLength\": 5.6, \"sepalWidth\": 2.7, \"petalLength\": 4.2, \"petalWidth\": 1.3, \"species\": \"versicolor\"}, {\"sepalLength\": 5.7, \"sepalWidth\": 3.0, \"petalLength\": 4.2, \"petalWidth\": 1.2, \"species\": \"versicolor\"}, {\"sepalLength\": 5.7, \"sepalWidth\": 2.9, \"petalLength\": 4.2, \"petalWidth\": 1.3, \"species\": \"versicolor\"}, {\"sepalLength\": 6.2, \"sepalWidth\": 2.9, \"petalLength\": 4.3, \"petalWidth\": 1.3, \"species\": \"versicolor\"}, {\"sepalLength\": 5.1, \"sepalWidth\": 2.5, \"petalLength\": 3.0, \"petalWidth\": 1.1, \"species\": \"versicolor\"}, {\"sepalLength\": 5.7, \"sepalWidth\": 2.8, \"petalLength\": 4.1, \"petalWidth\": 1.3, \"species\": \"versicolor\"}, {\"sepalLength\": 6.3, \"sepalWidth\": 3.3, \"petalLength\": 6.0, \"petalWidth\": 2.5, \"species\": \"virginica\"}, {\"sepalLength\": 5.8, \"sepalWidth\": 2.7, \"petalLength\": 5.1, \"petalWidth\": 1.9, \"species\": \"virginica\"}, {\"sepalLength\": 7.1, \"sepalWidth\": 3.0, \"petalLength\": 5.9, \"petalWidth\": 2.1, \"species\": \"virginica\"}, {\"sepalLength\": 6.3, \"sepalWidth\": 2.9, \"petalLength\": 5.6, \"petalWidth\": 1.8, \"species\": \"virginica\"}, {\"sepalLength\": 6.5, \"sepalWidth\": 3.0, \"petalLength\": 5.8, \"petalWidth\": 2.2, \"species\": \"virginica\"}, {\"sepalLength\": 7.6, \"sepalWidth\": 3.0, \"petalLength\": 6.6, \"petalWidth\": 2.1, \"species\": \"virginica\"}, {\"sepalLength\": 4.9, \"sepalWidth\": 2.5, \"petalLength\": 4.5, \"petalWidth\": 1.7000000000000002, \"species\": \"virginica\"}, {\"sepalLength\": 7.3, \"sepalWidth\": 2.9, \"petalLength\": 6.3, \"petalWidth\": 1.8, \"species\": \"virginica\"}, {\"sepalLength\": 6.7, \"sepalWidth\": 2.5, \"petalLength\": 5.8, \"petalWidth\": 1.8, \"species\": \"virginica\"}, {\"sepalLength\": 7.2, \"sepalWidth\": 3.6, \"petalLength\": 6.1, \"petalWidth\": 2.5, \"species\": \"virginica\"}, {\"sepalLength\": 6.5, \"sepalWidth\": 3.2, \"petalLength\": 5.1, \"petalWidth\": 2.0, \"species\": \"virginica\"}, {\"sepalLength\": 6.4, \"sepalWidth\": 2.7, \"petalLength\": 5.3, \"petalWidth\": 1.9, \"species\": \"virginica\"}, {\"sepalLength\": 6.8, \"sepalWidth\": 3.0, \"petalLength\": 5.5, \"petalWidth\": 2.1, \"species\": \"virginica\"}, {\"sepalLength\": 5.7, \"sepalWidth\": 2.5, \"petalLength\": 5.0, \"petalWidth\": 2.0, \"species\": \"virginica\"}, {\"sepalLength\": 5.8, \"sepalWidth\": 2.8, \"petalLength\": 5.1, \"petalWidth\": 2.4, \"species\": \"virginica\"}, {\"sepalLength\": 6.4, \"sepalWidth\": 3.2, \"petalLength\": 5.3, \"petalWidth\": 2.3, \"species\": \"virginica\"}, {\"sepalLength\": 6.5, \"sepalWidth\": 3.0, \"petalLength\": 5.5, \"petalWidth\": 1.8, \"species\": \"virginica\"}, {\"sepalLength\": 7.7, \"sepalWidth\": 3.8, \"petalLength\": 6.7, \"petalWidth\": 2.2, \"species\": \"virginica\"}, {\"sepalLength\": 7.7, \"sepalWidth\": 2.6, \"petalLength\": 6.9, \"petalWidth\": 2.3, \"species\": \"virginica\"}, {\"sepalLength\": 6.0, \"sepalWidth\": 2.2, \"petalLength\": 5.0, \"petalWidth\": 1.5, \"species\": \"virginica\"}, {\"sepalLength\": 6.9, \"sepalWidth\": 3.2, \"petalLength\": 5.7, \"petalWidth\": 2.3, \"species\": \"virginica\"}, {\"sepalLength\": 5.6, \"sepalWidth\": 2.8, \"petalLength\": 4.9, \"petalWidth\": 2.0, \"species\": \"virginica\"}, {\"sepalLength\": 7.7, \"sepalWidth\": 2.8, \"petalLength\": 6.7, \"petalWidth\": 2.0, \"species\": \"virginica\"}, {\"sepalLength\": 6.3, \"sepalWidth\": 2.7, \"petalLength\": 4.9, \"petalWidth\": 1.8, \"species\": \"virginica\"}, {\"sepalLength\": 6.7, \"sepalWidth\": 3.3, \"petalLength\": 5.7, \"petalWidth\": 2.1, \"species\": \"virginica\"}, {\"sepalLength\": 7.2, \"sepalWidth\": 3.2, \"petalLength\": 6.0, \"petalWidth\": 1.8, \"species\": \"virginica\"}, {\"sepalLength\": 6.2, \"sepalWidth\": 2.8, \"petalLength\": 4.8, \"petalWidth\": 1.8, \"species\": \"virginica\"}, {\"sepalLength\": 6.1, \"sepalWidth\": 3.0, \"petalLength\": 4.9, \"petalWidth\": 1.8, \"species\": \"virginica\"}, {\"sepalLength\": 6.4, \"sepalWidth\": 2.8, \"petalLength\": 5.6, \"petalWidth\": 2.1, \"species\": \"virginica\"}, {\"sepalLength\": 7.2, \"sepalWidth\": 3.0, \"petalLength\": 5.8, \"petalWidth\": 1.6, \"species\": \"virginica\"}, {\"sepalLength\": 7.4, \"sepalWidth\": 2.8, \"petalLength\": 6.1, \"petalWidth\": 1.9, \"species\": \"virginica\"}, {\"sepalLength\": 7.9, \"sepalWidth\": 3.8, \"petalLength\": 6.4, \"petalWidth\": 2.0, \"species\": \"virginica\"}, {\"sepalLength\": 6.4, \"sepalWidth\": 2.8, \"petalLength\": 5.6, \"petalWidth\": 2.2, \"species\": \"virginica\"}, {\"sepalLength\": 6.3, \"sepalWidth\": 2.8, \"petalLength\": 5.1, \"petalWidth\": 1.5, \"species\": \"virginica\"}, {\"sepalLength\": 6.1, \"sepalWidth\": 2.6, \"petalLength\": 5.6, \"petalWidth\": 1.4, \"species\": \"virginica\"}, {\"sepalLength\": 7.7, \"sepalWidth\": 3.0, \"petalLength\": 6.1, \"petalWidth\": 2.3, \"species\": \"virginica\"}, {\"sepalLength\": 6.3, \"sepalWidth\": 3.4, \"petalLength\": 5.6, \"petalWidth\": 2.4, \"species\": \"virginica\"}, {\"sepalLength\": 6.4, \"sepalWidth\": 3.1, \"petalLength\": 5.5, \"petalWidth\": 1.8, \"species\": \"virginica\"}, {\"sepalLength\": 6.0, \"sepalWidth\": 3.0, \"petalLength\": 4.8, \"petalWidth\": 1.8, \"species\": \"virginica\"}, {\"sepalLength\": 6.9, \"sepalWidth\": 3.1, \"petalLength\": 5.4, \"petalWidth\": 2.1, \"species\": \"virginica\"}, {\"sepalLength\": 6.7, \"sepalWidth\": 3.1, \"petalLength\": 5.6, \"petalWidth\": 2.4, \"species\": \"virginica\"}, {\"sepalLength\": 6.9, \"sepalWidth\": 3.1, \"petalLength\": 5.1, \"petalWidth\": 2.3, \"species\": \"virginica\"}, {\"sepalLength\": 5.8, \"sepalWidth\": 2.7, \"petalLength\": 5.1, \"petalWidth\": 1.9, \"species\": \"virginica\"}, {\"sepalLength\": 6.8, \"sepalWidth\": 3.2, \"petalLength\": 5.9, \"petalWidth\": 2.3, \"species\": \"virginica\"}, {\"sepalLength\": 6.7, \"sepalWidth\": 3.3, \"petalLength\": 5.7, \"petalWidth\": 2.5, \"species\": \"virginica\"}, {\"sepalLength\": 6.7, \"sepalWidth\": 3.0, \"petalLength\": 5.2, \"petalWidth\": 2.3, \"species\": \"virginica\"}, {\"sepalLength\": 6.3, \"sepalWidth\": 2.5, \"petalLength\": 5.0, \"petalWidth\": 1.9, \"species\": \"virginica\"}, {\"sepalLength\": 6.5, \"sepalWidth\": 3.0, \"petalLength\": 5.2, \"petalWidth\": 2.0, \"species\": \"virginica\"}, {\"sepalLength\": 6.2, \"sepalWidth\": 3.4, \"petalLength\": 5.4, \"petalWidth\": 2.3, \"species\": \"virginica\"}, {\"sepalLength\": 5.9, \"sepalWidth\": 3.0, \"petalLength\": 5.1, \"petalWidth\": 1.8, \"species\": \"virginica\"}]}}, {\"mode\": \"vega-lite\"});\n",
              "</script>"
            ],
            "text/plain": [
              "alt.Chart(...)"
            ]
          },
          "metadata": {},
          "execution_count": 24
        }
      ],
      "source": [
        "alt.Chart(iris).mark_bar().encode(\n",
        "    x=alt.X('petalLength', bin=alt.Bin(maxbins=50)),\n",
        "    y='count()',\n",
        "    color='species'\n",
        ")"
      ]
    },
    {
      "cell_type": "markdown",
      "metadata": {
        "id": "jPa6iB-pu27i"
      },
      "source": [
        "If you prefer a separate plot for each category, the ``column`` encoding can help:"
      ]
    },
    {
      "cell_type": "code",
      "execution_count": 25,
      "metadata": {
        "colab": {
          "base_uri": "https://localhost:8080/",
          "height": 436
        },
        "id": "KOyCvbOQu27i",
        "outputId": "6cd6a071-fcef-4ffb-85d5-b555acd4c558"
      },
      "outputs": [
        {
          "output_type": "execute_result",
          "data": {
            "text/html": [
              "\n",
              "<div id=\"altair-viz-6341ab4c27f7436a888439fb766447ee\"></div>\n",
              "<script type=\"text/javascript\">\n",
              "  var VEGA_DEBUG = (typeof VEGA_DEBUG == \"undefined\") ? {} : VEGA_DEBUG;\n",
              "  (function(spec, embedOpt){\n",
              "    let outputDiv = document.currentScript.previousElementSibling;\n",
              "    if (outputDiv.id !== \"altair-viz-6341ab4c27f7436a888439fb766447ee\") {\n",
              "      outputDiv = document.getElementById(\"altair-viz-6341ab4c27f7436a888439fb766447ee\");\n",
              "    }\n",
              "    const paths = {\n",
              "      \"vega\": \"https://cdn.jsdelivr.net/npm//vega@5?noext\",\n",
              "      \"vega-lib\": \"https://cdn.jsdelivr.net/npm//vega-lib?noext\",\n",
              "      \"vega-lite\": \"https://cdn.jsdelivr.net/npm//vega-lite@4.17.0?noext\",\n",
              "      \"vega-embed\": \"https://cdn.jsdelivr.net/npm//vega-embed@6?noext\",\n",
              "    };\n",
              "\n",
              "    function maybeLoadScript(lib, version) {\n",
              "      var key = `${lib.replace(\"-\", \"\")}_version`;\n",
              "      return (VEGA_DEBUG[key] == version) ?\n",
              "        Promise.resolve(paths[lib]) :\n",
              "        new Promise(function(resolve, reject) {\n",
              "          var s = document.createElement('script');\n",
              "          document.getElementsByTagName(\"head\")[0].appendChild(s);\n",
              "          s.async = true;\n",
              "          s.onload = () => {\n",
              "            VEGA_DEBUG[key] = version;\n",
              "            return resolve(paths[lib]);\n",
              "          };\n",
              "          s.onerror = () => reject(`Error loading script: ${paths[lib]}`);\n",
              "          s.src = paths[lib];\n",
              "        });\n",
              "    }\n",
              "\n",
              "    function showError(err) {\n",
              "      outputDiv.innerHTML = `<div class=\"error\" style=\"color:red;\">${err}</div>`;\n",
              "      throw err;\n",
              "    }\n",
              "\n",
              "    function displayChart(vegaEmbed) {\n",
              "      vegaEmbed(outputDiv, spec, embedOpt)\n",
              "        .catch(err => showError(`Javascript Error: ${err.message}<br>This usually means there's a typo in your chart specification. See the javascript console for the full traceback.`));\n",
              "    }\n",
              "\n",
              "    if(typeof define === \"function\" && define.amd) {\n",
              "      requirejs.config({paths});\n",
              "      require([\"vega-embed\"], displayChart, err => showError(`Error loading script: ${err.message}`));\n",
              "    } else {\n",
              "      maybeLoadScript(\"vega\", \"5\")\n",
              "        .then(() => maybeLoadScript(\"vega-lite\", \"4.17.0\"))\n",
              "        .then(() => maybeLoadScript(\"vega-embed\", \"6\"))\n",
              "        .catch(showError)\n",
              "        .then(() => displayChart(vegaEmbed));\n",
              "    }\n",
              "  })({\"config\": {\"view\": {\"continuousWidth\": 400, \"continuousHeight\": 300}}, \"data\": {\"name\": \"data-a264acbd6e539a8b3afc0cb5f240fb57\"}, \"mark\": \"bar\", \"encoding\": {\"color\": {\"field\": \"species\", \"type\": \"nominal\"}, \"column\": {\"field\": \"species\", \"type\": \"nominal\"}, \"x\": {\"bin\": {\"maxbins\": 50}, \"field\": \"petalLength\", \"type\": \"quantitative\"}, \"y\": {\"aggregate\": \"count\", \"type\": \"quantitative\"}}, \"$schema\": \"https://vega.github.io/schema/vega-lite/v4.17.0.json\", \"datasets\": {\"data-a264acbd6e539a8b3afc0cb5f240fb57\": [{\"sepalLength\": 5.1, \"sepalWidth\": 3.5, \"petalLength\": 1.4, \"petalWidth\": 0.2, \"species\": \"setosa\"}, {\"sepalLength\": 4.9, \"sepalWidth\": 3.0, \"petalLength\": 1.4, \"petalWidth\": 0.2, \"species\": \"setosa\"}, {\"sepalLength\": 4.7, \"sepalWidth\": 3.2, \"petalLength\": 1.3, \"petalWidth\": 0.2, \"species\": \"setosa\"}, {\"sepalLength\": 4.6, \"sepalWidth\": 3.1, \"petalLength\": 1.5, \"petalWidth\": 0.2, \"species\": \"setosa\"}, {\"sepalLength\": 5.0, \"sepalWidth\": 3.6, \"petalLength\": 1.4, \"petalWidth\": 0.2, \"species\": \"setosa\"}, {\"sepalLength\": 5.4, \"sepalWidth\": 3.9, \"petalLength\": 1.7000000000000002, \"petalWidth\": 0.4, \"species\": \"setosa\"}, {\"sepalLength\": 4.6, \"sepalWidth\": 3.4, \"petalLength\": 1.4, \"petalWidth\": 0.30000000000000004, \"species\": \"setosa\"}, {\"sepalLength\": 5.0, \"sepalWidth\": 3.4, \"petalLength\": 1.5, \"petalWidth\": 0.2, \"species\": \"setosa\"}, {\"sepalLength\": 4.4, \"sepalWidth\": 2.9, \"petalLength\": 1.4, \"petalWidth\": 0.2, \"species\": \"setosa\"}, {\"sepalLength\": 4.9, \"sepalWidth\": 3.1, \"petalLength\": 1.5, \"petalWidth\": 0.1, \"species\": \"setosa\"}, {\"sepalLength\": 5.4, \"sepalWidth\": 3.7, \"petalLength\": 1.5, \"petalWidth\": 0.2, \"species\": \"setosa\"}, {\"sepalLength\": 4.8, \"sepalWidth\": 3.4, \"petalLength\": 1.6, \"petalWidth\": 0.2, \"species\": \"setosa\"}, {\"sepalLength\": 4.8, \"sepalWidth\": 3.0, \"petalLength\": 1.4, \"petalWidth\": 0.1, \"species\": \"setosa\"}, {\"sepalLength\": 4.3, \"sepalWidth\": 3.0, \"petalLength\": 1.1, \"petalWidth\": 0.1, \"species\": \"setosa\"}, {\"sepalLength\": 5.8, \"sepalWidth\": 4.0, \"petalLength\": 1.2, \"petalWidth\": 0.2, \"species\": \"setosa\"}, {\"sepalLength\": 5.7, \"sepalWidth\": 4.4, \"petalLength\": 1.5, \"petalWidth\": 0.4, \"species\": \"setosa\"}, {\"sepalLength\": 5.4, \"sepalWidth\": 3.9, \"petalLength\": 1.3, \"petalWidth\": 0.4, \"species\": \"setosa\"}, {\"sepalLength\": 5.1, \"sepalWidth\": 3.5, \"petalLength\": 1.4, \"petalWidth\": 0.30000000000000004, \"species\": \"setosa\"}, {\"sepalLength\": 5.7, \"sepalWidth\": 3.8, \"petalLength\": 1.7000000000000002, \"petalWidth\": 0.30000000000000004, \"species\": \"setosa\"}, {\"sepalLength\": 5.1, \"sepalWidth\": 3.8, \"petalLength\": 1.5, \"petalWidth\": 0.30000000000000004, \"species\": \"setosa\"}, {\"sepalLength\": 5.4, \"sepalWidth\": 3.4, \"petalLength\": 1.7000000000000002, \"petalWidth\": 0.2, \"species\": \"setosa\"}, {\"sepalLength\": 5.1, \"sepalWidth\": 3.7, \"petalLength\": 1.5, \"petalWidth\": 0.4, \"species\": \"setosa\"}, {\"sepalLength\": 4.6, \"sepalWidth\": 3.6, \"petalLength\": 1.0, \"petalWidth\": 0.2, \"species\": \"setosa\"}, {\"sepalLength\": 5.1, \"sepalWidth\": 3.3, \"petalLength\": 1.7000000000000002, \"petalWidth\": 0.5, \"species\": \"setosa\"}, {\"sepalLength\": 4.8, \"sepalWidth\": 3.4, \"petalLength\": 1.9, \"petalWidth\": 0.2, \"species\": \"setosa\"}, {\"sepalLength\": 5.0, \"sepalWidth\": 3.0, \"petalLength\": 1.6, \"petalWidth\": 0.2, \"species\": \"setosa\"}, {\"sepalLength\": 5.0, \"sepalWidth\": 3.4, \"petalLength\": 1.6, \"petalWidth\": 0.4, \"species\": \"setosa\"}, {\"sepalLength\": 5.2, \"sepalWidth\": 3.5, \"petalLength\": 1.5, \"petalWidth\": 0.2, \"species\": \"setosa\"}, {\"sepalLength\": 5.2, \"sepalWidth\": 3.4, \"petalLength\": 1.4, \"petalWidth\": 0.2, \"species\": \"setosa\"}, {\"sepalLength\": 4.7, \"sepalWidth\": 3.2, \"petalLength\": 1.6, \"petalWidth\": 0.2, \"species\": \"setosa\"}, {\"sepalLength\": 4.8, \"sepalWidth\": 3.1, \"petalLength\": 1.6, \"petalWidth\": 0.2, \"species\": \"setosa\"}, {\"sepalLength\": 5.4, \"sepalWidth\": 3.4, \"petalLength\": 1.5, \"petalWidth\": 0.4, \"species\": \"setosa\"}, {\"sepalLength\": 5.2, \"sepalWidth\": 4.1, \"petalLength\": 1.5, \"petalWidth\": 0.1, \"species\": \"setosa\"}, {\"sepalLength\": 5.5, \"sepalWidth\": 4.2, \"petalLength\": 1.4, \"petalWidth\": 0.2, \"species\": \"setosa\"}, {\"sepalLength\": 4.9, \"sepalWidth\": 3.1, \"petalLength\": 1.5, \"petalWidth\": 0.2, \"species\": \"setosa\"}, {\"sepalLength\": 5.0, \"sepalWidth\": 3.2, \"petalLength\": 1.2, \"petalWidth\": 0.2, \"species\": \"setosa\"}, {\"sepalLength\": 5.5, \"sepalWidth\": 3.5, \"petalLength\": 1.3, \"petalWidth\": 0.2, \"species\": \"setosa\"}, {\"sepalLength\": 4.9, \"sepalWidth\": 3.6, \"petalLength\": 1.4, \"petalWidth\": 0.1, \"species\": \"setosa\"}, {\"sepalLength\": 4.4, \"sepalWidth\": 3.0, \"petalLength\": 1.3, \"petalWidth\": 0.2, \"species\": \"setosa\"}, {\"sepalLength\": 5.1, \"sepalWidth\": 3.4, \"petalLength\": 1.5, \"petalWidth\": 0.2, \"species\": \"setosa\"}, {\"sepalLength\": 5.0, \"sepalWidth\": 3.5, \"petalLength\": 1.3, \"petalWidth\": 0.30000000000000004, \"species\": \"setosa\"}, {\"sepalLength\": 4.5, \"sepalWidth\": 2.3, \"petalLength\": 1.3, \"petalWidth\": 0.30000000000000004, \"species\": \"setosa\"}, {\"sepalLength\": 4.4, \"sepalWidth\": 3.2, \"petalLength\": 1.3, \"petalWidth\": 0.2, \"species\": \"setosa\"}, {\"sepalLength\": 5.0, \"sepalWidth\": 3.5, \"petalLength\": 1.6, \"petalWidth\": 0.6000000000000001, \"species\": \"setosa\"}, {\"sepalLength\": 5.1, \"sepalWidth\": 3.8, \"petalLength\": 1.9, \"petalWidth\": 0.4, \"species\": \"setosa\"}, {\"sepalLength\": 4.8, \"sepalWidth\": 3.0, \"petalLength\": 1.4, \"petalWidth\": 0.30000000000000004, \"species\": \"setosa\"}, {\"sepalLength\": 5.1, \"sepalWidth\": 3.8, \"petalLength\": 1.6, \"petalWidth\": 0.2, \"species\": \"setosa\"}, {\"sepalLength\": 4.6, \"sepalWidth\": 3.2, \"petalLength\": 1.4, \"petalWidth\": 0.2, \"species\": \"setosa\"}, {\"sepalLength\": 5.3, \"sepalWidth\": 3.7, \"petalLength\": 1.5, \"petalWidth\": 0.2, \"species\": \"setosa\"}, {\"sepalLength\": 5.0, \"sepalWidth\": 3.3, \"petalLength\": 1.4, \"petalWidth\": 0.2, \"species\": \"setosa\"}, {\"sepalLength\": 7.0, \"sepalWidth\": 3.2, \"petalLength\": 4.7, \"petalWidth\": 1.4, \"species\": \"versicolor\"}, {\"sepalLength\": 6.4, \"sepalWidth\": 3.2, \"petalLength\": 4.5, \"petalWidth\": 1.5, \"species\": \"versicolor\"}, {\"sepalLength\": 6.9, \"sepalWidth\": 3.1, \"petalLength\": 4.9, \"petalWidth\": 1.5, \"species\": \"versicolor\"}, {\"sepalLength\": 5.5, \"sepalWidth\": 2.3, \"petalLength\": 4.0, \"petalWidth\": 1.3, \"species\": \"versicolor\"}, {\"sepalLength\": 6.5, \"sepalWidth\": 2.8, \"petalLength\": 4.6, \"petalWidth\": 1.5, \"species\": \"versicolor\"}, {\"sepalLength\": 5.7, \"sepalWidth\": 2.8, \"petalLength\": 4.5, \"petalWidth\": 1.3, \"species\": \"versicolor\"}, {\"sepalLength\": 6.3, \"sepalWidth\": 3.3, \"petalLength\": 4.7, \"petalWidth\": 1.6, \"species\": \"versicolor\"}, {\"sepalLength\": 4.9, \"sepalWidth\": 2.4, \"petalLength\": 3.3, \"petalWidth\": 1.0, \"species\": \"versicolor\"}, {\"sepalLength\": 6.6, \"sepalWidth\": 2.9, \"petalLength\": 4.6, \"petalWidth\": 1.3, \"species\": \"versicolor\"}, {\"sepalLength\": 5.2, \"sepalWidth\": 2.7, \"petalLength\": 3.9, \"petalWidth\": 1.4, \"species\": \"versicolor\"}, {\"sepalLength\": 5.0, \"sepalWidth\": 2.0, \"petalLength\": 3.5, \"petalWidth\": 1.0, \"species\": \"versicolor\"}, {\"sepalLength\": 5.9, \"sepalWidth\": 3.0, \"petalLength\": 4.2, \"petalWidth\": 1.5, \"species\": \"versicolor\"}, {\"sepalLength\": 6.0, \"sepalWidth\": 2.2, \"petalLength\": 4.0, \"petalWidth\": 1.0, \"species\": \"versicolor\"}, {\"sepalLength\": 6.1, \"sepalWidth\": 2.9, \"petalLength\": 4.7, \"petalWidth\": 1.4, \"species\": \"versicolor\"}, {\"sepalLength\": 5.6, \"sepalWidth\": 2.9, \"petalLength\": 3.6, \"petalWidth\": 1.3, \"species\": \"versicolor\"}, {\"sepalLength\": 6.7, \"sepalWidth\": 3.1, \"petalLength\": 4.4, \"petalWidth\": 1.4, \"species\": \"versicolor\"}, {\"sepalLength\": 5.6, \"sepalWidth\": 3.0, \"petalLength\": 4.5, \"petalWidth\": 1.5, \"species\": \"versicolor\"}, {\"sepalLength\": 5.8, \"sepalWidth\": 2.7, \"petalLength\": 4.1, \"petalWidth\": 1.0, \"species\": \"versicolor\"}, {\"sepalLength\": 6.2, \"sepalWidth\": 2.2, \"petalLength\": 4.5, \"petalWidth\": 1.5, \"species\": \"versicolor\"}, {\"sepalLength\": 5.6, \"sepalWidth\": 2.5, \"petalLength\": 3.9, \"petalWidth\": 1.1, \"species\": \"versicolor\"}, {\"sepalLength\": 5.9, \"sepalWidth\": 3.2, \"petalLength\": 4.8, \"petalWidth\": 1.8, \"species\": \"versicolor\"}, {\"sepalLength\": 6.1, \"sepalWidth\": 2.8, \"petalLength\": 4.0, \"petalWidth\": 1.3, \"species\": \"versicolor\"}, {\"sepalLength\": 6.3, \"sepalWidth\": 2.5, \"petalLength\": 4.9, \"petalWidth\": 1.5, \"species\": \"versicolor\"}, {\"sepalLength\": 6.1, \"sepalWidth\": 2.8, \"petalLength\": 4.7, \"petalWidth\": 1.2, \"species\": \"versicolor\"}, {\"sepalLength\": 6.4, \"sepalWidth\": 2.9, \"petalLength\": 4.3, \"petalWidth\": 1.3, \"species\": \"versicolor\"}, {\"sepalLength\": 6.6, \"sepalWidth\": 3.0, \"petalLength\": 4.4, \"petalWidth\": 1.4, \"species\": \"versicolor\"}, {\"sepalLength\": 6.8, \"sepalWidth\": 2.8, \"petalLength\": 4.8, \"petalWidth\": 1.4, \"species\": \"versicolor\"}, {\"sepalLength\": 6.7, \"sepalWidth\": 3.0, \"petalLength\": 5.0, \"petalWidth\": 1.7000000000000002, \"species\": \"versicolor\"}, {\"sepalLength\": 6.0, \"sepalWidth\": 2.9, \"petalLength\": 4.5, \"petalWidth\": 1.5, \"species\": \"versicolor\"}, {\"sepalLength\": 5.7, \"sepalWidth\": 2.6, \"petalLength\": 3.5, \"petalWidth\": 1.0, \"species\": \"versicolor\"}, {\"sepalLength\": 5.5, \"sepalWidth\": 2.4, \"petalLength\": 3.8, \"petalWidth\": 1.1, \"species\": \"versicolor\"}, {\"sepalLength\": 5.5, \"sepalWidth\": 2.4, \"petalLength\": 3.7, \"petalWidth\": 1.0, \"species\": \"versicolor\"}, {\"sepalLength\": 5.8, \"sepalWidth\": 2.7, \"petalLength\": 3.9, \"petalWidth\": 1.2, \"species\": \"versicolor\"}, {\"sepalLength\": 6.0, \"sepalWidth\": 2.7, \"petalLength\": 5.1, \"petalWidth\": 1.6, \"species\": \"versicolor\"}, {\"sepalLength\": 5.4, \"sepalWidth\": 3.0, \"petalLength\": 4.5, \"petalWidth\": 1.5, \"species\": \"versicolor\"}, {\"sepalLength\": 6.0, \"sepalWidth\": 3.4, \"petalLength\": 4.5, \"petalWidth\": 1.6, \"species\": \"versicolor\"}, {\"sepalLength\": 6.7, \"sepalWidth\": 3.1, \"petalLength\": 4.7, \"petalWidth\": 1.5, \"species\": \"versicolor\"}, {\"sepalLength\": 6.3, \"sepalWidth\": 2.3, \"petalLength\": 4.4, \"petalWidth\": 1.3, \"species\": \"versicolor\"}, {\"sepalLength\": 5.6, \"sepalWidth\": 3.0, \"petalLength\": 4.1, \"petalWidth\": 1.3, \"species\": \"versicolor\"}, {\"sepalLength\": 5.5, \"sepalWidth\": 2.5, \"petalLength\": 4.0, \"petalWidth\": 1.3, \"species\": \"versicolor\"}, {\"sepalLength\": 5.5, \"sepalWidth\": 2.6, \"petalLength\": 4.4, \"petalWidth\": 1.2, \"species\": \"versicolor\"}, {\"sepalLength\": 6.1, \"sepalWidth\": 3.0, \"petalLength\": 4.6, \"petalWidth\": 1.4, \"species\": \"versicolor\"}, {\"sepalLength\": 5.8, \"sepalWidth\": 2.6, \"petalLength\": 4.0, \"petalWidth\": 1.2, \"species\": \"versicolor\"}, {\"sepalLength\": 5.0, \"sepalWidth\": 2.3, \"petalLength\": 3.3, \"petalWidth\": 1.0, \"species\": \"versicolor\"}, {\"sepalLength\": 5.6, \"sepalWidth\": 2.7, \"petalLength\": 4.2, \"petalWidth\": 1.3, \"species\": \"versicolor\"}, {\"sepalLength\": 5.7, \"sepalWidth\": 3.0, \"petalLength\": 4.2, \"petalWidth\": 1.2, \"species\": \"versicolor\"}, {\"sepalLength\": 5.7, \"sepalWidth\": 2.9, \"petalLength\": 4.2, \"petalWidth\": 1.3, \"species\": \"versicolor\"}, {\"sepalLength\": 6.2, \"sepalWidth\": 2.9, \"petalLength\": 4.3, \"petalWidth\": 1.3, \"species\": \"versicolor\"}, {\"sepalLength\": 5.1, \"sepalWidth\": 2.5, \"petalLength\": 3.0, \"petalWidth\": 1.1, \"species\": \"versicolor\"}, {\"sepalLength\": 5.7, \"sepalWidth\": 2.8, \"petalLength\": 4.1, \"petalWidth\": 1.3, \"species\": \"versicolor\"}, {\"sepalLength\": 6.3, \"sepalWidth\": 3.3, \"petalLength\": 6.0, \"petalWidth\": 2.5, \"species\": \"virginica\"}, {\"sepalLength\": 5.8, \"sepalWidth\": 2.7, \"petalLength\": 5.1, \"petalWidth\": 1.9, \"species\": \"virginica\"}, {\"sepalLength\": 7.1, \"sepalWidth\": 3.0, \"petalLength\": 5.9, \"petalWidth\": 2.1, \"species\": \"virginica\"}, {\"sepalLength\": 6.3, \"sepalWidth\": 2.9, \"petalLength\": 5.6, \"petalWidth\": 1.8, \"species\": \"virginica\"}, {\"sepalLength\": 6.5, \"sepalWidth\": 3.0, \"petalLength\": 5.8, \"petalWidth\": 2.2, \"species\": \"virginica\"}, {\"sepalLength\": 7.6, \"sepalWidth\": 3.0, \"petalLength\": 6.6, \"petalWidth\": 2.1, \"species\": \"virginica\"}, {\"sepalLength\": 4.9, \"sepalWidth\": 2.5, \"petalLength\": 4.5, \"petalWidth\": 1.7000000000000002, \"species\": \"virginica\"}, {\"sepalLength\": 7.3, \"sepalWidth\": 2.9, \"petalLength\": 6.3, \"petalWidth\": 1.8, \"species\": \"virginica\"}, {\"sepalLength\": 6.7, \"sepalWidth\": 2.5, \"petalLength\": 5.8, \"petalWidth\": 1.8, \"species\": \"virginica\"}, {\"sepalLength\": 7.2, \"sepalWidth\": 3.6, \"petalLength\": 6.1, \"petalWidth\": 2.5, \"species\": \"virginica\"}, {\"sepalLength\": 6.5, \"sepalWidth\": 3.2, \"petalLength\": 5.1, \"petalWidth\": 2.0, \"species\": \"virginica\"}, {\"sepalLength\": 6.4, \"sepalWidth\": 2.7, \"petalLength\": 5.3, \"petalWidth\": 1.9, \"species\": \"virginica\"}, {\"sepalLength\": 6.8, \"sepalWidth\": 3.0, \"petalLength\": 5.5, \"petalWidth\": 2.1, \"species\": \"virginica\"}, {\"sepalLength\": 5.7, \"sepalWidth\": 2.5, \"petalLength\": 5.0, \"petalWidth\": 2.0, \"species\": \"virginica\"}, {\"sepalLength\": 5.8, \"sepalWidth\": 2.8, \"petalLength\": 5.1, \"petalWidth\": 2.4, \"species\": \"virginica\"}, {\"sepalLength\": 6.4, \"sepalWidth\": 3.2, \"petalLength\": 5.3, \"petalWidth\": 2.3, \"species\": \"virginica\"}, {\"sepalLength\": 6.5, \"sepalWidth\": 3.0, \"petalLength\": 5.5, \"petalWidth\": 1.8, \"species\": \"virginica\"}, {\"sepalLength\": 7.7, \"sepalWidth\": 3.8, \"petalLength\": 6.7, \"petalWidth\": 2.2, \"species\": \"virginica\"}, {\"sepalLength\": 7.7, \"sepalWidth\": 2.6, \"petalLength\": 6.9, \"petalWidth\": 2.3, \"species\": \"virginica\"}, {\"sepalLength\": 6.0, \"sepalWidth\": 2.2, \"petalLength\": 5.0, \"petalWidth\": 1.5, \"species\": \"virginica\"}, {\"sepalLength\": 6.9, \"sepalWidth\": 3.2, \"petalLength\": 5.7, \"petalWidth\": 2.3, \"species\": \"virginica\"}, {\"sepalLength\": 5.6, \"sepalWidth\": 2.8, \"petalLength\": 4.9, \"petalWidth\": 2.0, \"species\": \"virginica\"}, {\"sepalLength\": 7.7, \"sepalWidth\": 2.8, \"petalLength\": 6.7, \"petalWidth\": 2.0, \"species\": \"virginica\"}, {\"sepalLength\": 6.3, \"sepalWidth\": 2.7, \"petalLength\": 4.9, \"petalWidth\": 1.8, \"species\": \"virginica\"}, {\"sepalLength\": 6.7, \"sepalWidth\": 3.3, \"petalLength\": 5.7, \"petalWidth\": 2.1, \"species\": \"virginica\"}, {\"sepalLength\": 7.2, \"sepalWidth\": 3.2, \"petalLength\": 6.0, \"petalWidth\": 1.8, \"species\": \"virginica\"}, {\"sepalLength\": 6.2, \"sepalWidth\": 2.8, \"petalLength\": 4.8, \"petalWidth\": 1.8, \"species\": \"virginica\"}, {\"sepalLength\": 6.1, \"sepalWidth\": 3.0, \"petalLength\": 4.9, \"petalWidth\": 1.8, \"species\": \"virginica\"}, {\"sepalLength\": 6.4, \"sepalWidth\": 2.8, \"petalLength\": 5.6, \"petalWidth\": 2.1, \"species\": \"virginica\"}, {\"sepalLength\": 7.2, \"sepalWidth\": 3.0, \"petalLength\": 5.8, \"petalWidth\": 1.6, \"species\": \"virginica\"}, {\"sepalLength\": 7.4, \"sepalWidth\": 2.8, \"petalLength\": 6.1, \"petalWidth\": 1.9, \"species\": \"virginica\"}, {\"sepalLength\": 7.9, \"sepalWidth\": 3.8, \"petalLength\": 6.4, \"petalWidth\": 2.0, \"species\": \"virginica\"}, {\"sepalLength\": 6.4, \"sepalWidth\": 2.8, \"petalLength\": 5.6, \"petalWidth\": 2.2, \"species\": \"virginica\"}, {\"sepalLength\": 6.3, \"sepalWidth\": 2.8, \"petalLength\": 5.1, \"petalWidth\": 1.5, \"species\": \"virginica\"}, {\"sepalLength\": 6.1, \"sepalWidth\": 2.6, \"petalLength\": 5.6, \"petalWidth\": 1.4, \"species\": \"virginica\"}, {\"sepalLength\": 7.7, \"sepalWidth\": 3.0, \"petalLength\": 6.1, \"petalWidth\": 2.3, \"species\": \"virginica\"}, {\"sepalLength\": 6.3, \"sepalWidth\": 3.4, \"petalLength\": 5.6, \"petalWidth\": 2.4, \"species\": \"virginica\"}, {\"sepalLength\": 6.4, \"sepalWidth\": 3.1, \"petalLength\": 5.5, \"petalWidth\": 1.8, \"species\": \"virginica\"}, {\"sepalLength\": 6.0, \"sepalWidth\": 3.0, \"petalLength\": 4.8, \"petalWidth\": 1.8, \"species\": \"virginica\"}, {\"sepalLength\": 6.9, \"sepalWidth\": 3.1, \"petalLength\": 5.4, \"petalWidth\": 2.1, \"species\": \"virginica\"}, {\"sepalLength\": 6.7, \"sepalWidth\": 3.1, \"petalLength\": 5.6, \"petalWidth\": 2.4, \"species\": \"virginica\"}, {\"sepalLength\": 6.9, \"sepalWidth\": 3.1, \"petalLength\": 5.1, \"petalWidth\": 2.3, \"species\": \"virginica\"}, {\"sepalLength\": 5.8, \"sepalWidth\": 2.7, \"petalLength\": 5.1, \"petalWidth\": 1.9, \"species\": \"virginica\"}, {\"sepalLength\": 6.8, \"sepalWidth\": 3.2, \"petalLength\": 5.9, \"petalWidth\": 2.3, \"species\": \"virginica\"}, {\"sepalLength\": 6.7, \"sepalWidth\": 3.3, \"petalLength\": 5.7, \"petalWidth\": 2.5, \"species\": \"virginica\"}, {\"sepalLength\": 6.7, \"sepalWidth\": 3.0, \"petalLength\": 5.2, \"petalWidth\": 2.3, \"species\": \"virginica\"}, {\"sepalLength\": 6.3, \"sepalWidth\": 2.5, \"petalLength\": 5.0, \"petalWidth\": 1.9, \"species\": \"virginica\"}, {\"sepalLength\": 6.5, \"sepalWidth\": 3.0, \"petalLength\": 5.2, \"petalWidth\": 2.0, \"species\": \"virginica\"}, {\"sepalLength\": 6.2, \"sepalWidth\": 3.4, \"petalLength\": 5.4, \"petalWidth\": 2.3, \"species\": \"virginica\"}, {\"sepalLength\": 5.9, \"sepalWidth\": 3.0, \"petalLength\": 5.1, \"petalWidth\": 1.8, \"species\": \"virginica\"}]}}, {\"mode\": \"vega-lite\"});\n",
              "</script>"
            ],
            "text/plain": [
              "alt.Chart(...)"
            ]
          },
          "metadata": {},
          "execution_count": 25
        }
      ],
      "source": [
        "alt.Chart(iris).mark_bar().encode(\n",
        "    x=alt.X('petalLength', bin=alt.Bin(maxbins=50)),\n",
        "    y='count()',\n",
        "    color='species',\n",
        "    column='species'\n",
        ")"
      ]
    },
    {
      "cell_type": "markdown",
      "metadata": {
        "id": "zB5O2n4Ju27i"
      },
      "source": [
        "Binning and aggregation works in two dimensions as well; we can use the ``rect`` marker and visualize the count using the color:"
      ]
    },
    {
      "cell_type": "code",
      "execution_count": 26,
      "metadata": {
        "colab": {
          "base_uri": "https://localhost:8080/",
          "height": 368
        },
        "id": "fukKevj-u27i",
        "outputId": "d0d2f5ef-12a3-4a7b-e3a6-302f6c859775"
      },
      "outputs": [
        {
          "output_type": "execute_result",
          "data": {
            "text/html": [
              "\n",
              "<div id=\"altair-viz-2cd7f619353c4de38716a7ee0660980e\"></div>\n",
              "<script type=\"text/javascript\">\n",
              "  var VEGA_DEBUG = (typeof VEGA_DEBUG == \"undefined\") ? {} : VEGA_DEBUG;\n",
              "  (function(spec, embedOpt){\n",
              "    let outputDiv = document.currentScript.previousElementSibling;\n",
              "    if (outputDiv.id !== \"altair-viz-2cd7f619353c4de38716a7ee0660980e\") {\n",
              "      outputDiv = document.getElementById(\"altair-viz-2cd7f619353c4de38716a7ee0660980e\");\n",
              "    }\n",
              "    const paths = {\n",
              "      \"vega\": \"https://cdn.jsdelivr.net/npm//vega@5?noext\",\n",
              "      \"vega-lib\": \"https://cdn.jsdelivr.net/npm//vega-lib?noext\",\n",
              "      \"vega-lite\": \"https://cdn.jsdelivr.net/npm//vega-lite@4.17.0?noext\",\n",
              "      \"vega-embed\": \"https://cdn.jsdelivr.net/npm//vega-embed@6?noext\",\n",
              "    };\n",
              "\n",
              "    function maybeLoadScript(lib, version) {\n",
              "      var key = `${lib.replace(\"-\", \"\")}_version`;\n",
              "      return (VEGA_DEBUG[key] == version) ?\n",
              "        Promise.resolve(paths[lib]) :\n",
              "        new Promise(function(resolve, reject) {\n",
              "          var s = document.createElement('script');\n",
              "          document.getElementsByTagName(\"head\")[0].appendChild(s);\n",
              "          s.async = true;\n",
              "          s.onload = () => {\n",
              "            VEGA_DEBUG[key] = version;\n",
              "            return resolve(paths[lib]);\n",
              "          };\n",
              "          s.onerror = () => reject(`Error loading script: ${paths[lib]}`);\n",
              "          s.src = paths[lib];\n",
              "        });\n",
              "    }\n",
              "\n",
              "    function showError(err) {\n",
              "      outputDiv.innerHTML = `<div class=\"error\" style=\"color:red;\">${err}</div>`;\n",
              "      throw err;\n",
              "    }\n",
              "\n",
              "    function displayChart(vegaEmbed) {\n",
              "      vegaEmbed(outputDiv, spec, embedOpt)\n",
              "        .catch(err => showError(`Javascript Error: ${err.message}<br>This usually means there's a typo in your chart specification. See the javascript console for the full traceback.`));\n",
              "    }\n",
              "\n",
              "    if(typeof define === \"function\" && define.amd) {\n",
              "      requirejs.config({paths});\n",
              "      require([\"vega-embed\"], displayChart, err => showError(`Error loading script: ${err.message}`));\n",
              "    } else {\n",
              "      maybeLoadScript(\"vega\", \"5\")\n",
              "        .then(() => maybeLoadScript(\"vega-lite\", \"4.17.0\"))\n",
              "        .then(() => maybeLoadScript(\"vega-embed\", \"6\"))\n",
              "        .catch(showError)\n",
              "        .then(() => displayChart(vegaEmbed));\n",
              "    }\n",
              "  })({\"config\": {\"view\": {\"continuousWidth\": 400, \"continuousHeight\": 300}}, \"data\": {\"name\": \"data-a264acbd6e539a8b3afc0cb5f240fb57\"}, \"mark\": \"rect\", \"encoding\": {\"color\": {\"aggregate\": \"count\", \"type\": \"quantitative\"}, \"x\": {\"bin\": true, \"field\": \"petalLength\", \"type\": \"quantitative\"}, \"y\": {\"bin\": true, \"field\": \"sepalLength\", \"type\": \"quantitative\"}}, \"$schema\": \"https://vega.github.io/schema/vega-lite/v4.17.0.json\", \"datasets\": {\"data-a264acbd6e539a8b3afc0cb5f240fb57\": [{\"sepalLength\": 5.1, \"sepalWidth\": 3.5, \"petalLength\": 1.4, \"petalWidth\": 0.2, \"species\": \"setosa\"}, {\"sepalLength\": 4.9, \"sepalWidth\": 3.0, \"petalLength\": 1.4, \"petalWidth\": 0.2, \"species\": \"setosa\"}, {\"sepalLength\": 4.7, \"sepalWidth\": 3.2, \"petalLength\": 1.3, \"petalWidth\": 0.2, \"species\": \"setosa\"}, {\"sepalLength\": 4.6, \"sepalWidth\": 3.1, \"petalLength\": 1.5, \"petalWidth\": 0.2, \"species\": \"setosa\"}, {\"sepalLength\": 5.0, \"sepalWidth\": 3.6, \"petalLength\": 1.4, \"petalWidth\": 0.2, \"species\": \"setosa\"}, {\"sepalLength\": 5.4, \"sepalWidth\": 3.9, \"petalLength\": 1.7000000000000002, \"petalWidth\": 0.4, \"species\": \"setosa\"}, {\"sepalLength\": 4.6, \"sepalWidth\": 3.4, \"petalLength\": 1.4, \"petalWidth\": 0.30000000000000004, \"species\": \"setosa\"}, {\"sepalLength\": 5.0, \"sepalWidth\": 3.4, \"petalLength\": 1.5, \"petalWidth\": 0.2, \"species\": \"setosa\"}, {\"sepalLength\": 4.4, \"sepalWidth\": 2.9, \"petalLength\": 1.4, \"petalWidth\": 0.2, \"species\": \"setosa\"}, {\"sepalLength\": 4.9, \"sepalWidth\": 3.1, \"petalLength\": 1.5, \"petalWidth\": 0.1, \"species\": \"setosa\"}, {\"sepalLength\": 5.4, \"sepalWidth\": 3.7, \"petalLength\": 1.5, \"petalWidth\": 0.2, \"species\": \"setosa\"}, {\"sepalLength\": 4.8, \"sepalWidth\": 3.4, \"petalLength\": 1.6, \"petalWidth\": 0.2, \"species\": \"setosa\"}, {\"sepalLength\": 4.8, \"sepalWidth\": 3.0, \"petalLength\": 1.4, \"petalWidth\": 0.1, \"species\": \"setosa\"}, {\"sepalLength\": 4.3, \"sepalWidth\": 3.0, \"petalLength\": 1.1, \"petalWidth\": 0.1, \"species\": \"setosa\"}, {\"sepalLength\": 5.8, \"sepalWidth\": 4.0, \"petalLength\": 1.2, \"petalWidth\": 0.2, \"species\": \"setosa\"}, {\"sepalLength\": 5.7, \"sepalWidth\": 4.4, \"petalLength\": 1.5, \"petalWidth\": 0.4, \"species\": \"setosa\"}, {\"sepalLength\": 5.4, \"sepalWidth\": 3.9, \"petalLength\": 1.3, \"petalWidth\": 0.4, \"species\": \"setosa\"}, {\"sepalLength\": 5.1, \"sepalWidth\": 3.5, \"petalLength\": 1.4, \"petalWidth\": 0.30000000000000004, \"species\": \"setosa\"}, {\"sepalLength\": 5.7, \"sepalWidth\": 3.8, \"petalLength\": 1.7000000000000002, \"petalWidth\": 0.30000000000000004, \"species\": \"setosa\"}, {\"sepalLength\": 5.1, \"sepalWidth\": 3.8, \"petalLength\": 1.5, \"petalWidth\": 0.30000000000000004, \"species\": \"setosa\"}, {\"sepalLength\": 5.4, \"sepalWidth\": 3.4, \"petalLength\": 1.7000000000000002, \"petalWidth\": 0.2, \"species\": \"setosa\"}, {\"sepalLength\": 5.1, \"sepalWidth\": 3.7, \"petalLength\": 1.5, \"petalWidth\": 0.4, \"species\": \"setosa\"}, {\"sepalLength\": 4.6, \"sepalWidth\": 3.6, \"petalLength\": 1.0, \"petalWidth\": 0.2, \"species\": \"setosa\"}, {\"sepalLength\": 5.1, \"sepalWidth\": 3.3, \"petalLength\": 1.7000000000000002, \"petalWidth\": 0.5, \"species\": \"setosa\"}, {\"sepalLength\": 4.8, \"sepalWidth\": 3.4, \"petalLength\": 1.9, \"petalWidth\": 0.2, \"species\": \"setosa\"}, {\"sepalLength\": 5.0, \"sepalWidth\": 3.0, \"petalLength\": 1.6, \"petalWidth\": 0.2, \"species\": \"setosa\"}, {\"sepalLength\": 5.0, \"sepalWidth\": 3.4, \"petalLength\": 1.6, \"petalWidth\": 0.4, \"species\": \"setosa\"}, {\"sepalLength\": 5.2, \"sepalWidth\": 3.5, \"petalLength\": 1.5, \"petalWidth\": 0.2, \"species\": \"setosa\"}, {\"sepalLength\": 5.2, \"sepalWidth\": 3.4, \"petalLength\": 1.4, \"petalWidth\": 0.2, \"species\": \"setosa\"}, {\"sepalLength\": 4.7, \"sepalWidth\": 3.2, \"petalLength\": 1.6, \"petalWidth\": 0.2, \"species\": \"setosa\"}, {\"sepalLength\": 4.8, \"sepalWidth\": 3.1, \"petalLength\": 1.6, \"petalWidth\": 0.2, \"species\": \"setosa\"}, {\"sepalLength\": 5.4, \"sepalWidth\": 3.4, \"petalLength\": 1.5, \"petalWidth\": 0.4, \"species\": \"setosa\"}, {\"sepalLength\": 5.2, \"sepalWidth\": 4.1, \"petalLength\": 1.5, \"petalWidth\": 0.1, \"species\": \"setosa\"}, {\"sepalLength\": 5.5, \"sepalWidth\": 4.2, \"petalLength\": 1.4, \"petalWidth\": 0.2, \"species\": \"setosa\"}, {\"sepalLength\": 4.9, \"sepalWidth\": 3.1, \"petalLength\": 1.5, \"petalWidth\": 0.2, \"species\": \"setosa\"}, {\"sepalLength\": 5.0, \"sepalWidth\": 3.2, \"petalLength\": 1.2, \"petalWidth\": 0.2, \"species\": \"setosa\"}, {\"sepalLength\": 5.5, \"sepalWidth\": 3.5, \"petalLength\": 1.3, \"petalWidth\": 0.2, \"species\": \"setosa\"}, {\"sepalLength\": 4.9, \"sepalWidth\": 3.6, \"petalLength\": 1.4, \"petalWidth\": 0.1, \"species\": \"setosa\"}, {\"sepalLength\": 4.4, \"sepalWidth\": 3.0, \"petalLength\": 1.3, \"petalWidth\": 0.2, \"species\": \"setosa\"}, {\"sepalLength\": 5.1, \"sepalWidth\": 3.4, \"petalLength\": 1.5, \"petalWidth\": 0.2, \"species\": \"setosa\"}, {\"sepalLength\": 5.0, \"sepalWidth\": 3.5, \"petalLength\": 1.3, \"petalWidth\": 0.30000000000000004, \"species\": \"setosa\"}, {\"sepalLength\": 4.5, \"sepalWidth\": 2.3, \"petalLength\": 1.3, \"petalWidth\": 0.30000000000000004, \"species\": \"setosa\"}, {\"sepalLength\": 4.4, \"sepalWidth\": 3.2, \"petalLength\": 1.3, \"petalWidth\": 0.2, \"species\": \"setosa\"}, {\"sepalLength\": 5.0, \"sepalWidth\": 3.5, \"petalLength\": 1.6, \"petalWidth\": 0.6000000000000001, \"species\": \"setosa\"}, {\"sepalLength\": 5.1, \"sepalWidth\": 3.8, \"petalLength\": 1.9, \"petalWidth\": 0.4, \"species\": \"setosa\"}, {\"sepalLength\": 4.8, \"sepalWidth\": 3.0, \"petalLength\": 1.4, \"petalWidth\": 0.30000000000000004, \"species\": \"setosa\"}, {\"sepalLength\": 5.1, \"sepalWidth\": 3.8, \"petalLength\": 1.6, \"petalWidth\": 0.2, \"species\": \"setosa\"}, {\"sepalLength\": 4.6, \"sepalWidth\": 3.2, \"petalLength\": 1.4, \"petalWidth\": 0.2, \"species\": \"setosa\"}, {\"sepalLength\": 5.3, \"sepalWidth\": 3.7, \"petalLength\": 1.5, \"petalWidth\": 0.2, \"species\": \"setosa\"}, {\"sepalLength\": 5.0, \"sepalWidth\": 3.3, \"petalLength\": 1.4, \"petalWidth\": 0.2, \"species\": \"setosa\"}, {\"sepalLength\": 7.0, \"sepalWidth\": 3.2, \"petalLength\": 4.7, \"petalWidth\": 1.4, \"species\": \"versicolor\"}, {\"sepalLength\": 6.4, \"sepalWidth\": 3.2, \"petalLength\": 4.5, \"petalWidth\": 1.5, \"species\": \"versicolor\"}, {\"sepalLength\": 6.9, \"sepalWidth\": 3.1, \"petalLength\": 4.9, \"petalWidth\": 1.5, \"species\": \"versicolor\"}, {\"sepalLength\": 5.5, \"sepalWidth\": 2.3, \"petalLength\": 4.0, \"petalWidth\": 1.3, \"species\": \"versicolor\"}, {\"sepalLength\": 6.5, \"sepalWidth\": 2.8, \"petalLength\": 4.6, \"petalWidth\": 1.5, \"species\": \"versicolor\"}, {\"sepalLength\": 5.7, \"sepalWidth\": 2.8, \"petalLength\": 4.5, \"petalWidth\": 1.3, \"species\": \"versicolor\"}, {\"sepalLength\": 6.3, \"sepalWidth\": 3.3, \"petalLength\": 4.7, \"petalWidth\": 1.6, \"species\": \"versicolor\"}, {\"sepalLength\": 4.9, \"sepalWidth\": 2.4, \"petalLength\": 3.3, \"petalWidth\": 1.0, \"species\": \"versicolor\"}, {\"sepalLength\": 6.6, \"sepalWidth\": 2.9, \"petalLength\": 4.6, \"petalWidth\": 1.3, \"species\": \"versicolor\"}, {\"sepalLength\": 5.2, \"sepalWidth\": 2.7, \"petalLength\": 3.9, \"petalWidth\": 1.4, \"species\": \"versicolor\"}, {\"sepalLength\": 5.0, \"sepalWidth\": 2.0, \"petalLength\": 3.5, \"petalWidth\": 1.0, \"species\": \"versicolor\"}, {\"sepalLength\": 5.9, \"sepalWidth\": 3.0, \"petalLength\": 4.2, \"petalWidth\": 1.5, \"species\": \"versicolor\"}, {\"sepalLength\": 6.0, \"sepalWidth\": 2.2, \"petalLength\": 4.0, \"petalWidth\": 1.0, \"species\": \"versicolor\"}, {\"sepalLength\": 6.1, \"sepalWidth\": 2.9, \"petalLength\": 4.7, \"petalWidth\": 1.4, \"species\": \"versicolor\"}, {\"sepalLength\": 5.6, \"sepalWidth\": 2.9, \"petalLength\": 3.6, \"petalWidth\": 1.3, \"species\": \"versicolor\"}, {\"sepalLength\": 6.7, \"sepalWidth\": 3.1, \"petalLength\": 4.4, \"petalWidth\": 1.4, \"species\": \"versicolor\"}, {\"sepalLength\": 5.6, \"sepalWidth\": 3.0, \"petalLength\": 4.5, \"petalWidth\": 1.5, \"species\": \"versicolor\"}, {\"sepalLength\": 5.8, \"sepalWidth\": 2.7, \"petalLength\": 4.1, \"petalWidth\": 1.0, \"species\": \"versicolor\"}, {\"sepalLength\": 6.2, \"sepalWidth\": 2.2, \"petalLength\": 4.5, \"petalWidth\": 1.5, \"species\": \"versicolor\"}, {\"sepalLength\": 5.6, \"sepalWidth\": 2.5, \"petalLength\": 3.9, \"petalWidth\": 1.1, \"species\": \"versicolor\"}, {\"sepalLength\": 5.9, \"sepalWidth\": 3.2, \"petalLength\": 4.8, \"petalWidth\": 1.8, \"species\": \"versicolor\"}, {\"sepalLength\": 6.1, \"sepalWidth\": 2.8, \"petalLength\": 4.0, \"petalWidth\": 1.3, \"species\": \"versicolor\"}, {\"sepalLength\": 6.3, \"sepalWidth\": 2.5, \"petalLength\": 4.9, \"petalWidth\": 1.5, \"species\": \"versicolor\"}, {\"sepalLength\": 6.1, \"sepalWidth\": 2.8, \"petalLength\": 4.7, \"petalWidth\": 1.2, \"species\": \"versicolor\"}, {\"sepalLength\": 6.4, \"sepalWidth\": 2.9, \"petalLength\": 4.3, \"petalWidth\": 1.3, \"species\": \"versicolor\"}, {\"sepalLength\": 6.6, \"sepalWidth\": 3.0, \"petalLength\": 4.4, \"petalWidth\": 1.4, \"species\": \"versicolor\"}, {\"sepalLength\": 6.8, \"sepalWidth\": 2.8, \"petalLength\": 4.8, \"petalWidth\": 1.4, \"species\": \"versicolor\"}, {\"sepalLength\": 6.7, \"sepalWidth\": 3.0, \"petalLength\": 5.0, \"petalWidth\": 1.7000000000000002, \"species\": \"versicolor\"}, {\"sepalLength\": 6.0, \"sepalWidth\": 2.9, \"petalLength\": 4.5, \"petalWidth\": 1.5, \"species\": \"versicolor\"}, {\"sepalLength\": 5.7, \"sepalWidth\": 2.6, \"petalLength\": 3.5, \"petalWidth\": 1.0, \"species\": \"versicolor\"}, {\"sepalLength\": 5.5, \"sepalWidth\": 2.4, \"petalLength\": 3.8, \"petalWidth\": 1.1, \"species\": \"versicolor\"}, {\"sepalLength\": 5.5, \"sepalWidth\": 2.4, \"petalLength\": 3.7, \"petalWidth\": 1.0, \"species\": \"versicolor\"}, {\"sepalLength\": 5.8, \"sepalWidth\": 2.7, \"petalLength\": 3.9, \"petalWidth\": 1.2, \"species\": \"versicolor\"}, {\"sepalLength\": 6.0, \"sepalWidth\": 2.7, \"petalLength\": 5.1, \"petalWidth\": 1.6, \"species\": \"versicolor\"}, {\"sepalLength\": 5.4, \"sepalWidth\": 3.0, \"petalLength\": 4.5, \"petalWidth\": 1.5, \"species\": \"versicolor\"}, {\"sepalLength\": 6.0, \"sepalWidth\": 3.4, \"petalLength\": 4.5, \"petalWidth\": 1.6, \"species\": \"versicolor\"}, {\"sepalLength\": 6.7, \"sepalWidth\": 3.1, \"petalLength\": 4.7, \"petalWidth\": 1.5, \"species\": \"versicolor\"}, {\"sepalLength\": 6.3, \"sepalWidth\": 2.3, \"petalLength\": 4.4, \"petalWidth\": 1.3, \"species\": \"versicolor\"}, {\"sepalLength\": 5.6, \"sepalWidth\": 3.0, \"petalLength\": 4.1, \"petalWidth\": 1.3, \"species\": \"versicolor\"}, {\"sepalLength\": 5.5, \"sepalWidth\": 2.5, \"petalLength\": 4.0, \"petalWidth\": 1.3, \"species\": \"versicolor\"}, {\"sepalLength\": 5.5, \"sepalWidth\": 2.6, \"petalLength\": 4.4, \"petalWidth\": 1.2, \"species\": \"versicolor\"}, {\"sepalLength\": 6.1, \"sepalWidth\": 3.0, \"petalLength\": 4.6, \"petalWidth\": 1.4, \"species\": \"versicolor\"}, {\"sepalLength\": 5.8, \"sepalWidth\": 2.6, \"petalLength\": 4.0, \"petalWidth\": 1.2, \"species\": \"versicolor\"}, {\"sepalLength\": 5.0, \"sepalWidth\": 2.3, \"petalLength\": 3.3, \"petalWidth\": 1.0, \"species\": \"versicolor\"}, {\"sepalLength\": 5.6, \"sepalWidth\": 2.7, \"petalLength\": 4.2, \"petalWidth\": 1.3, \"species\": \"versicolor\"}, {\"sepalLength\": 5.7, \"sepalWidth\": 3.0, \"petalLength\": 4.2, \"petalWidth\": 1.2, \"species\": \"versicolor\"}, {\"sepalLength\": 5.7, \"sepalWidth\": 2.9, \"petalLength\": 4.2, \"petalWidth\": 1.3, \"species\": \"versicolor\"}, {\"sepalLength\": 6.2, \"sepalWidth\": 2.9, \"petalLength\": 4.3, \"petalWidth\": 1.3, \"species\": \"versicolor\"}, {\"sepalLength\": 5.1, \"sepalWidth\": 2.5, \"petalLength\": 3.0, \"petalWidth\": 1.1, \"species\": \"versicolor\"}, {\"sepalLength\": 5.7, \"sepalWidth\": 2.8, \"petalLength\": 4.1, \"petalWidth\": 1.3, \"species\": \"versicolor\"}, {\"sepalLength\": 6.3, \"sepalWidth\": 3.3, \"petalLength\": 6.0, \"petalWidth\": 2.5, \"species\": \"virginica\"}, {\"sepalLength\": 5.8, \"sepalWidth\": 2.7, \"petalLength\": 5.1, \"petalWidth\": 1.9, \"species\": \"virginica\"}, {\"sepalLength\": 7.1, \"sepalWidth\": 3.0, \"petalLength\": 5.9, \"petalWidth\": 2.1, \"species\": \"virginica\"}, {\"sepalLength\": 6.3, \"sepalWidth\": 2.9, \"petalLength\": 5.6, \"petalWidth\": 1.8, \"species\": \"virginica\"}, {\"sepalLength\": 6.5, \"sepalWidth\": 3.0, \"petalLength\": 5.8, \"petalWidth\": 2.2, \"species\": \"virginica\"}, {\"sepalLength\": 7.6, \"sepalWidth\": 3.0, \"petalLength\": 6.6, \"petalWidth\": 2.1, \"species\": \"virginica\"}, {\"sepalLength\": 4.9, \"sepalWidth\": 2.5, \"petalLength\": 4.5, \"petalWidth\": 1.7000000000000002, \"species\": \"virginica\"}, {\"sepalLength\": 7.3, \"sepalWidth\": 2.9, \"petalLength\": 6.3, \"petalWidth\": 1.8, \"species\": \"virginica\"}, {\"sepalLength\": 6.7, \"sepalWidth\": 2.5, \"petalLength\": 5.8, \"petalWidth\": 1.8, \"species\": \"virginica\"}, {\"sepalLength\": 7.2, \"sepalWidth\": 3.6, \"petalLength\": 6.1, \"petalWidth\": 2.5, \"species\": \"virginica\"}, {\"sepalLength\": 6.5, \"sepalWidth\": 3.2, \"petalLength\": 5.1, \"petalWidth\": 2.0, \"species\": \"virginica\"}, {\"sepalLength\": 6.4, \"sepalWidth\": 2.7, \"petalLength\": 5.3, \"petalWidth\": 1.9, \"species\": \"virginica\"}, {\"sepalLength\": 6.8, \"sepalWidth\": 3.0, \"petalLength\": 5.5, \"petalWidth\": 2.1, \"species\": \"virginica\"}, {\"sepalLength\": 5.7, \"sepalWidth\": 2.5, \"petalLength\": 5.0, \"petalWidth\": 2.0, \"species\": \"virginica\"}, {\"sepalLength\": 5.8, \"sepalWidth\": 2.8, \"petalLength\": 5.1, \"petalWidth\": 2.4, \"species\": \"virginica\"}, {\"sepalLength\": 6.4, \"sepalWidth\": 3.2, \"petalLength\": 5.3, \"petalWidth\": 2.3, \"species\": \"virginica\"}, {\"sepalLength\": 6.5, \"sepalWidth\": 3.0, \"petalLength\": 5.5, \"petalWidth\": 1.8, \"species\": \"virginica\"}, {\"sepalLength\": 7.7, \"sepalWidth\": 3.8, \"petalLength\": 6.7, \"petalWidth\": 2.2, \"species\": \"virginica\"}, {\"sepalLength\": 7.7, \"sepalWidth\": 2.6, \"petalLength\": 6.9, \"petalWidth\": 2.3, \"species\": \"virginica\"}, {\"sepalLength\": 6.0, \"sepalWidth\": 2.2, \"petalLength\": 5.0, \"petalWidth\": 1.5, \"species\": \"virginica\"}, {\"sepalLength\": 6.9, \"sepalWidth\": 3.2, \"petalLength\": 5.7, \"petalWidth\": 2.3, \"species\": \"virginica\"}, {\"sepalLength\": 5.6, \"sepalWidth\": 2.8, \"petalLength\": 4.9, \"petalWidth\": 2.0, \"species\": \"virginica\"}, {\"sepalLength\": 7.7, \"sepalWidth\": 2.8, \"petalLength\": 6.7, \"petalWidth\": 2.0, \"species\": \"virginica\"}, {\"sepalLength\": 6.3, \"sepalWidth\": 2.7, \"petalLength\": 4.9, \"petalWidth\": 1.8, \"species\": \"virginica\"}, {\"sepalLength\": 6.7, \"sepalWidth\": 3.3, \"petalLength\": 5.7, \"petalWidth\": 2.1, \"species\": \"virginica\"}, {\"sepalLength\": 7.2, \"sepalWidth\": 3.2, \"petalLength\": 6.0, \"petalWidth\": 1.8, \"species\": \"virginica\"}, {\"sepalLength\": 6.2, \"sepalWidth\": 2.8, \"petalLength\": 4.8, \"petalWidth\": 1.8, \"species\": \"virginica\"}, {\"sepalLength\": 6.1, \"sepalWidth\": 3.0, \"petalLength\": 4.9, \"petalWidth\": 1.8, \"species\": \"virginica\"}, {\"sepalLength\": 6.4, \"sepalWidth\": 2.8, \"petalLength\": 5.6, \"petalWidth\": 2.1, \"species\": \"virginica\"}, {\"sepalLength\": 7.2, \"sepalWidth\": 3.0, \"petalLength\": 5.8, \"petalWidth\": 1.6, \"species\": \"virginica\"}, {\"sepalLength\": 7.4, \"sepalWidth\": 2.8, \"petalLength\": 6.1, \"petalWidth\": 1.9, \"species\": \"virginica\"}, {\"sepalLength\": 7.9, \"sepalWidth\": 3.8, \"petalLength\": 6.4, \"petalWidth\": 2.0, \"species\": \"virginica\"}, {\"sepalLength\": 6.4, \"sepalWidth\": 2.8, \"petalLength\": 5.6, \"petalWidth\": 2.2, \"species\": \"virginica\"}, {\"sepalLength\": 6.3, \"sepalWidth\": 2.8, \"petalLength\": 5.1, \"petalWidth\": 1.5, \"species\": \"virginica\"}, {\"sepalLength\": 6.1, \"sepalWidth\": 2.6, \"petalLength\": 5.6, \"petalWidth\": 1.4, \"species\": \"virginica\"}, {\"sepalLength\": 7.7, \"sepalWidth\": 3.0, \"petalLength\": 6.1, \"petalWidth\": 2.3, \"species\": \"virginica\"}, {\"sepalLength\": 6.3, \"sepalWidth\": 3.4, \"petalLength\": 5.6, \"petalWidth\": 2.4, \"species\": \"virginica\"}, {\"sepalLength\": 6.4, \"sepalWidth\": 3.1, \"petalLength\": 5.5, \"petalWidth\": 1.8, \"species\": \"virginica\"}, {\"sepalLength\": 6.0, \"sepalWidth\": 3.0, \"petalLength\": 4.8, \"petalWidth\": 1.8, \"species\": \"virginica\"}, {\"sepalLength\": 6.9, \"sepalWidth\": 3.1, \"petalLength\": 5.4, \"petalWidth\": 2.1, \"species\": \"virginica\"}, {\"sepalLength\": 6.7, \"sepalWidth\": 3.1, \"petalLength\": 5.6, \"petalWidth\": 2.4, \"species\": \"virginica\"}, {\"sepalLength\": 6.9, \"sepalWidth\": 3.1, \"petalLength\": 5.1, \"petalWidth\": 2.3, \"species\": \"virginica\"}, {\"sepalLength\": 5.8, \"sepalWidth\": 2.7, \"petalLength\": 5.1, \"petalWidth\": 1.9, \"species\": \"virginica\"}, {\"sepalLength\": 6.8, \"sepalWidth\": 3.2, \"petalLength\": 5.9, \"petalWidth\": 2.3, \"species\": \"virginica\"}, {\"sepalLength\": 6.7, \"sepalWidth\": 3.3, \"petalLength\": 5.7, \"petalWidth\": 2.5, \"species\": \"virginica\"}, {\"sepalLength\": 6.7, \"sepalWidth\": 3.0, \"petalLength\": 5.2, \"petalWidth\": 2.3, \"species\": \"virginica\"}, {\"sepalLength\": 6.3, \"sepalWidth\": 2.5, \"petalLength\": 5.0, \"petalWidth\": 1.9, \"species\": \"virginica\"}, {\"sepalLength\": 6.5, \"sepalWidth\": 3.0, \"petalLength\": 5.2, \"petalWidth\": 2.0, \"species\": \"virginica\"}, {\"sepalLength\": 6.2, \"sepalWidth\": 3.4, \"petalLength\": 5.4, \"petalWidth\": 2.3, \"species\": \"virginica\"}, {\"sepalLength\": 5.9, \"sepalWidth\": 3.0, \"petalLength\": 5.1, \"petalWidth\": 1.8, \"species\": \"virginica\"}]}}, {\"mode\": \"vega-lite\"});\n",
              "</script>"
            ],
            "text/plain": [
              "alt.Chart(...)"
            ]
          },
          "metadata": {},
          "execution_count": 26
        }
      ],
      "source": [
        "alt.Chart(iris).mark_rect().encode(\n",
        "    x=alt.X('petalLength', bin=True),\n",
        "    y=alt.Y('sepalLength', bin=True),\n",
        "    color='count()'\n",
        ")"
      ]
    },
    {
      "cell_type": "markdown",
      "metadata": {
        "id": "8aaIhlPPu27j"
      },
      "source": [
        "Aggregations can be more than simple counts; we can also aggregate and compute the mean of a third quantity within each bin"
      ]
    },
    {
      "cell_type": "code",
      "execution_count": 27,
      "metadata": {
        "colab": {
          "base_uri": "https://localhost:8080/",
          "height": 368
        },
        "id": "eIWPWdNVu27p",
        "outputId": "7e1223c5-2e20-45d7-d088-0cc1735b8cd6"
      },
      "outputs": [
        {
          "output_type": "execute_result",
          "data": {
            "text/html": [
              "\n",
              "<div id=\"altair-viz-b9b85c824c944cf7964d6d86e45d75cd\"></div>\n",
              "<script type=\"text/javascript\">\n",
              "  var VEGA_DEBUG = (typeof VEGA_DEBUG == \"undefined\") ? {} : VEGA_DEBUG;\n",
              "  (function(spec, embedOpt){\n",
              "    let outputDiv = document.currentScript.previousElementSibling;\n",
              "    if (outputDiv.id !== \"altair-viz-b9b85c824c944cf7964d6d86e45d75cd\") {\n",
              "      outputDiv = document.getElementById(\"altair-viz-b9b85c824c944cf7964d6d86e45d75cd\");\n",
              "    }\n",
              "    const paths = {\n",
              "      \"vega\": \"https://cdn.jsdelivr.net/npm//vega@5?noext\",\n",
              "      \"vega-lib\": \"https://cdn.jsdelivr.net/npm//vega-lib?noext\",\n",
              "      \"vega-lite\": \"https://cdn.jsdelivr.net/npm//vega-lite@4.17.0?noext\",\n",
              "      \"vega-embed\": \"https://cdn.jsdelivr.net/npm//vega-embed@6?noext\",\n",
              "    };\n",
              "\n",
              "    function maybeLoadScript(lib, version) {\n",
              "      var key = `${lib.replace(\"-\", \"\")}_version`;\n",
              "      return (VEGA_DEBUG[key] == version) ?\n",
              "        Promise.resolve(paths[lib]) :\n",
              "        new Promise(function(resolve, reject) {\n",
              "          var s = document.createElement('script');\n",
              "          document.getElementsByTagName(\"head\")[0].appendChild(s);\n",
              "          s.async = true;\n",
              "          s.onload = () => {\n",
              "            VEGA_DEBUG[key] = version;\n",
              "            return resolve(paths[lib]);\n",
              "          };\n",
              "          s.onerror = () => reject(`Error loading script: ${paths[lib]}`);\n",
              "          s.src = paths[lib];\n",
              "        });\n",
              "    }\n",
              "\n",
              "    function showError(err) {\n",
              "      outputDiv.innerHTML = `<div class=\"error\" style=\"color:red;\">${err}</div>`;\n",
              "      throw err;\n",
              "    }\n",
              "\n",
              "    function displayChart(vegaEmbed) {\n",
              "      vegaEmbed(outputDiv, spec, embedOpt)\n",
              "        .catch(err => showError(`Javascript Error: ${err.message}<br>This usually means there's a typo in your chart specification. See the javascript console for the full traceback.`));\n",
              "    }\n",
              "\n",
              "    if(typeof define === \"function\" && define.amd) {\n",
              "      requirejs.config({paths});\n",
              "      require([\"vega-embed\"], displayChart, err => showError(`Error loading script: ${err.message}`));\n",
              "    } else {\n",
              "      maybeLoadScript(\"vega\", \"5\")\n",
              "        .then(() => maybeLoadScript(\"vega-lite\", \"4.17.0\"))\n",
              "        .then(() => maybeLoadScript(\"vega-embed\", \"6\"))\n",
              "        .catch(showError)\n",
              "        .then(() => displayChart(vegaEmbed));\n",
              "    }\n",
              "  })({\"config\": {\"view\": {\"continuousWidth\": 400, \"continuousHeight\": 300}}, \"data\": {\"name\": \"data-a264acbd6e539a8b3afc0cb5f240fb57\"}, \"mark\": \"rect\", \"encoding\": {\"color\": {\"aggregate\": \"mean\", \"field\": \"petalWidth\", \"type\": \"quantitative\"}, \"x\": {\"bin\": true, \"field\": \"petalLength\", \"type\": \"quantitative\"}, \"y\": {\"bin\": true, \"field\": \"sepalLength\", \"type\": \"quantitative\"}}, \"$schema\": \"https://vega.github.io/schema/vega-lite/v4.17.0.json\", \"datasets\": {\"data-a264acbd6e539a8b3afc0cb5f240fb57\": [{\"sepalLength\": 5.1, \"sepalWidth\": 3.5, \"petalLength\": 1.4, \"petalWidth\": 0.2, \"species\": \"setosa\"}, {\"sepalLength\": 4.9, \"sepalWidth\": 3.0, \"petalLength\": 1.4, \"petalWidth\": 0.2, \"species\": \"setosa\"}, {\"sepalLength\": 4.7, \"sepalWidth\": 3.2, \"petalLength\": 1.3, \"petalWidth\": 0.2, \"species\": \"setosa\"}, {\"sepalLength\": 4.6, \"sepalWidth\": 3.1, \"petalLength\": 1.5, \"petalWidth\": 0.2, \"species\": \"setosa\"}, {\"sepalLength\": 5.0, \"sepalWidth\": 3.6, \"petalLength\": 1.4, \"petalWidth\": 0.2, \"species\": \"setosa\"}, {\"sepalLength\": 5.4, \"sepalWidth\": 3.9, \"petalLength\": 1.7000000000000002, \"petalWidth\": 0.4, \"species\": \"setosa\"}, {\"sepalLength\": 4.6, \"sepalWidth\": 3.4, \"petalLength\": 1.4, \"petalWidth\": 0.30000000000000004, \"species\": \"setosa\"}, {\"sepalLength\": 5.0, \"sepalWidth\": 3.4, \"petalLength\": 1.5, \"petalWidth\": 0.2, \"species\": \"setosa\"}, {\"sepalLength\": 4.4, \"sepalWidth\": 2.9, \"petalLength\": 1.4, \"petalWidth\": 0.2, \"species\": \"setosa\"}, {\"sepalLength\": 4.9, \"sepalWidth\": 3.1, \"petalLength\": 1.5, \"petalWidth\": 0.1, \"species\": \"setosa\"}, {\"sepalLength\": 5.4, \"sepalWidth\": 3.7, \"petalLength\": 1.5, \"petalWidth\": 0.2, \"species\": \"setosa\"}, {\"sepalLength\": 4.8, \"sepalWidth\": 3.4, \"petalLength\": 1.6, \"petalWidth\": 0.2, \"species\": \"setosa\"}, {\"sepalLength\": 4.8, \"sepalWidth\": 3.0, \"petalLength\": 1.4, \"petalWidth\": 0.1, \"species\": \"setosa\"}, {\"sepalLength\": 4.3, \"sepalWidth\": 3.0, \"petalLength\": 1.1, \"petalWidth\": 0.1, \"species\": \"setosa\"}, {\"sepalLength\": 5.8, \"sepalWidth\": 4.0, \"petalLength\": 1.2, \"petalWidth\": 0.2, \"species\": \"setosa\"}, {\"sepalLength\": 5.7, \"sepalWidth\": 4.4, \"petalLength\": 1.5, \"petalWidth\": 0.4, \"species\": \"setosa\"}, {\"sepalLength\": 5.4, \"sepalWidth\": 3.9, \"petalLength\": 1.3, \"petalWidth\": 0.4, \"species\": \"setosa\"}, {\"sepalLength\": 5.1, \"sepalWidth\": 3.5, \"petalLength\": 1.4, \"petalWidth\": 0.30000000000000004, \"species\": \"setosa\"}, {\"sepalLength\": 5.7, \"sepalWidth\": 3.8, \"petalLength\": 1.7000000000000002, \"petalWidth\": 0.30000000000000004, \"species\": \"setosa\"}, {\"sepalLength\": 5.1, \"sepalWidth\": 3.8, \"petalLength\": 1.5, \"petalWidth\": 0.30000000000000004, \"species\": \"setosa\"}, {\"sepalLength\": 5.4, \"sepalWidth\": 3.4, \"petalLength\": 1.7000000000000002, \"petalWidth\": 0.2, \"species\": \"setosa\"}, {\"sepalLength\": 5.1, \"sepalWidth\": 3.7, \"petalLength\": 1.5, \"petalWidth\": 0.4, \"species\": \"setosa\"}, {\"sepalLength\": 4.6, \"sepalWidth\": 3.6, \"petalLength\": 1.0, \"petalWidth\": 0.2, \"species\": \"setosa\"}, {\"sepalLength\": 5.1, \"sepalWidth\": 3.3, \"petalLength\": 1.7000000000000002, \"petalWidth\": 0.5, \"species\": \"setosa\"}, {\"sepalLength\": 4.8, \"sepalWidth\": 3.4, \"petalLength\": 1.9, \"petalWidth\": 0.2, \"species\": \"setosa\"}, {\"sepalLength\": 5.0, \"sepalWidth\": 3.0, \"petalLength\": 1.6, \"petalWidth\": 0.2, \"species\": \"setosa\"}, {\"sepalLength\": 5.0, \"sepalWidth\": 3.4, \"petalLength\": 1.6, \"petalWidth\": 0.4, \"species\": \"setosa\"}, {\"sepalLength\": 5.2, \"sepalWidth\": 3.5, \"petalLength\": 1.5, \"petalWidth\": 0.2, \"species\": \"setosa\"}, {\"sepalLength\": 5.2, \"sepalWidth\": 3.4, \"petalLength\": 1.4, \"petalWidth\": 0.2, \"species\": \"setosa\"}, {\"sepalLength\": 4.7, \"sepalWidth\": 3.2, \"petalLength\": 1.6, \"petalWidth\": 0.2, \"species\": \"setosa\"}, {\"sepalLength\": 4.8, \"sepalWidth\": 3.1, \"petalLength\": 1.6, \"petalWidth\": 0.2, \"species\": \"setosa\"}, {\"sepalLength\": 5.4, \"sepalWidth\": 3.4, \"petalLength\": 1.5, \"petalWidth\": 0.4, \"species\": \"setosa\"}, {\"sepalLength\": 5.2, \"sepalWidth\": 4.1, \"petalLength\": 1.5, \"petalWidth\": 0.1, \"species\": \"setosa\"}, {\"sepalLength\": 5.5, \"sepalWidth\": 4.2, \"petalLength\": 1.4, \"petalWidth\": 0.2, \"species\": \"setosa\"}, {\"sepalLength\": 4.9, \"sepalWidth\": 3.1, \"petalLength\": 1.5, \"petalWidth\": 0.2, \"species\": \"setosa\"}, {\"sepalLength\": 5.0, \"sepalWidth\": 3.2, \"petalLength\": 1.2, \"petalWidth\": 0.2, \"species\": \"setosa\"}, {\"sepalLength\": 5.5, \"sepalWidth\": 3.5, \"petalLength\": 1.3, \"petalWidth\": 0.2, \"species\": \"setosa\"}, {\"sepalLength\": 4.9, \"sepalWidth\": 3.6, \"petalLength\": 1.4, \"petalWidth\": 0.1, \"species\": \"setosa\"}, {\"sepalLength\": 4.4, \"sepalWidth\": 3.0, \"petalLength\": 1.3, \"petalWidth\": 0.2, \"species\": \"setosa\"}, {\"sepalLength\": 5.1, \"sepalWidth\": 3.4, \"petalLength\": 1.5, \"petalWidth\": 0.2, \"species\": \"setosa\"}, {\"sepalLength\": 5.0, \"sepalWidth\": 3.5, \"petalLength\": 1.3, \"petalWidth\": 0.30000000000000004, \"species\": \"setosa\"}, {\"sepalLength\": 4.5, \"sepalWidth\": 2.3, \"petalLength\": 1.3, \"petalWidth\": 0.30000000000000004, \"species\": \"setosa\"}, {\"sepalLength\": 4.4, \"sepalWidth\": 3.2, \"petalLength\": 1.3, \"petalWidth\": 0.2, \"species\": \"setosa\"}, {\"sepalLength\": 5.0, \"sepalWidth\": 3.5, \"petalLength\": 1.6, \"petalWidth\": 0.6000000000000001, \"species\": \"setosa\"}, {\"sepalLength\": 5.1, \"sepalWidth\": 3.8, \"petalLength\": 1.9, \"petalWidth\": 0.4, \"species\": \"setosa\"}, {\"sepalLength\": 4.8, \"sepalWidth\": 3.0, \"petalLength\": 1.4, \"petalWidth\": 0.30000000000000004, \"species\": \"setosa\"}, {\"sepalLength\": 5.1, \"sepalWidth\": 3.8, \"petalLength\": 1.6, \"petalWidth\": 0.2, \"species\": \"setosa\"}, {\"sepalLength\": 4.6, \"sepalWidth\": 3.2, \"petalLength\": 1.4, \"petalWidth\": 0.2, \"species\": \"setosa\"}, {\"sepalLength\": 5.3, \"sepalWidth\": 3.7, \"petalLength\": 1.5, \"petalWidth\": 0.2, \"species\": \"setosa\"}, {\"sepalLength\": 5.0, \"sepalWidth\": 3.3, \"petalLength\": 1.4, \"petalWidth\": 0.2, \"species\": \"setosa\"}, {\"sepalLength\": 7.0, \"sepalWidth\": 3.2, \"petalLength\": 4.7, \"petalWidth\": 1.4, \"species\": \"versicolor\"}, {\"sepalLength\": 6.4, \"sepalWidth\": 3.2, \"petalLength\": 4.5, \"petalWidth\": 1.5, \"species\": \"versicolor\"}, {\"sepalLength\": 6.9, \"sepalWidth\": 3.1, \"petalLength\": 4.9, \"petalWidth\": 1.5, \"species\": \"versicolor\"}, {\"sepalLength\": 5.5, \"sepalWidth\": 2.3, \"petalLength\": 4.0, \"petalWidth\": 1.3, \"species\": \"versicolor\"}, {\"sepalLength\": 6.5, \"sepalWidth\": 2.8, \"petalLength\": 4.6, \"petalWidth\": 1.5, \"species\": \"versicolor\"}, {\"sepalLength\": 5.7, \"sepalWidth\": 2.8, \"petalLength\": 4.5, \"petalWidth\": 1.3, \"species\": \"versicolor\"}, {\"sepalLength\": 6.3, \"sepalWidth\": 3.3, \"petalLength\": 4.7, \"petalWidth\": 1.6, \"species\": \"versicolor\"}, {\"sepalLength\": 4.9, \"sepalWidth\": 2.4, \"petalLength\": 3.3, \"petalWidth\": 1.0, \"species\": \"versicolor\"}, {\"sepalLength\": 6.6, \"sepalWidth\": 2.9, \"petalLength\": 4.6, \"petalWidth\": 1.3, \"species\": \"versicolor\"}, {\"sepalLength\": 5.2, \"sepalWidth\": 2.7, \"petalLength\": 3.9, \"petalWidth\": 1.4, \"species\": \"versicolor\"}, {\"sepalLength\": 5.0, \"sepalWidth\": 2.0, \"petalLength\": 3.5, \"petalWidth\": 1.0, \"species\": \"versicolor\"}, {\"sepalLength\": 5.9, \"sepalWidth\": 3.0, \"petalLength\": 4.2, \"petalWidth\": 1.5, \"species\": \"versicolor\"}, {\"sepalLength\": 6.0, \"sepalWidth\": 2.2, \"petalLength\": 4.0, \"petalWidth\": 1.0, \"species\": \"versicolor\"}, {\"sepalLength\": 6.1, \"sepalWidth\": 2.9, \"petalLength\": 4.7, \"petalWidth\": 1.4, \"species\": \"versicolor\"}, {\"sepalLength\": 5.6, \"sepalWidth\": 2.9, \"petalLength\": 3.6, \"petalWidth\": 1.3, \"species\": \"versicolor\"}, {\"sepalLength\": 6.7, \"sepalWidth\": 3.1, \"petalLength\": 4.4, \"petalWidth\": 1.4, \"species\": \"versicolor\"}, {\"sepalLength\": 5.6, \"sepalWidth\": 3.0, \"petalLength\": 4.5, \"petalWidth\": 1.5, \"species\": \"versicolor\"}, {\"sepalLength\": 5.8, \"sepalWidth\": 2.7, \"petalLength\": 4.1, \"petalWidth\": 1.0, \"species\": \"versicolor\"}, {\"sepalLength\": 6.2, \"sepalWidth\": 2.2, \"petalLength\": 4.5, \"petalWidth\": 1.5, \"species\": \"versicolor\"}, {\"sepalLength\": 5.6, \"sepalWidth\": 2.5, \"petalLength\": 3.9, \"petalWidth\": 1.1, \"species\": \"versicolor\"}, {\"sepalLength\": 5.9, \"sepalWidth\": 3.2, \"petalLength\": 4.8, \"petalWidth\": 1.8, \"species\": \"versicolor\"}, {\"sepalLength\": 6.1, \"sepalWidth\": 2.8, \"petalLength\": 4.0, \"petalWidth\": 1.3, \"species\": \"versicolor\"}, {\"sepalLength\": 6.3, \"sepalWidth\": 2.5, \"petalLength\": 4.9, \"petalWidth\": 1.5, \"species\": \"versicolor\"}, {\"sepalLength\": 6.1, \"sepalWidth\": 2.8, \"petalLength\": 4.7, \"petalWidth\": 1.2, \"species\": \"versicolor\"}, {\"sepalLength\": 6.4, \"sepalWidth\": 2.9, \"petalLength\": 4.3, \"petalWidth\": 1.3, \"species\": \"versicolor\"}, {\"sepalLength\": 6.6, \"sepalWidth\": 3.0, \"petalLength\": 4.4, \"petalWidth\": 1.4, \"species\": \"versicolor\"}, {\"sepalLength\": 6.8, \"sepalWidth\": 2.8, \"petalLength\": 4.8, \"petalWidth\": 1.4, \"species\": \"versicolor\"}, {\"sepalLength\": 6.7, \"sepalWidth\": 3.0, \"petalLength\": 5.0, \"petalWidth\": 1.7000000000000002, \"species\": \"versicolor\"}, {\"sepalLength\": 6.0, \"sepalWidth\": 2.9, \"petalLength\": 4.5, \"petalWidth\": 1.5, \"species\": \"versicolor\"}, {\"sepalLength\": 5.7, \"sepalWidth\": 2.6, \"petalLength\": 3.5, \"petalWidth\": 1.0, \"species\": \"versicolor\"}, {\"sepalLength\": 5.5, \"sepalWidth\": 2.4, \"petalLength\": 3.8, \"petalWidth\": 1.1, \"species\": \"versicolor\"}, {\"sepalLength\": 5.5, \"sepalWidth\": 2.4, \"petalLength\": 3.7, \"petalWidth\": 1.0, \"species\": \"versicolor\"}, {\"sepalLength\": 5.8, \"sepalWidth\": 2.7, \"petalLength\": 3.9, \"petalWidth\": 1.2, \"species\": \"versicolor\"}, {\"sepalLength\": 6.0, \"sepalWidth\": 2.7, \"petalLength\": 5.1, \"petalWidth\": 1.6, \"species\": \"versicolor\"}, {\"sepalLength\": 5.4, \"sepalWidth\": 3.0, \"petalLength\": 4.5, \"petalWidth\": 1.5, \"species\": \"versicolor\"}, {\"sepalLength\": 6.0, \"sepalWidth\": 3.4, \"petalLength\": 4.5, \"petalWidth\": 1.6, \"species\": \"versicolor\"}, {\"sepalLength\": 6.7, \"sepalWidth\": 3.1, \"petalLength\": 4.7, \"petalWidth\": 1.5, \"species\": \"versicolor\"}, {\"sepalLength\": 6.3, \"sepalWidth\": 2.3, \"petalLength\": 4.4, \"petalWidth\": 1.3, \"species\": \"versicolor\"}, {\"sepalLength\": 5.6, \"sepalWidth\": 3.0, \"petalLength\": 4.1, \"petalWidth\": 1.3, \"species\": \"versicolor\"}, {\"sepalLength\": 5.5, \"sepalWidth\": 2.5, \"petalLength\": 4.0, \"petalWidth\": 1.3, \"species\": \"versicolor\"}, {\"sepalLength\": 5.5, \"sepalWidth\": 2.6, \"petalLength\": 4.4, \"petalWidth\": 1.2, \"species\": \"versicolor\"}, {\"sepalLength\": 6.1, \"sepalWidth\": 3.0, \"petalLength\": 4.6, \"petalWidth\": 1.4, \"species\": \"versicolor\"}, {\"sepalLength\": 5.8, \"sepalWidth\": 2.6, \"petalLength\": 4.0, \"petalWidth\": 1.2, \"species\": \"versicolor\"}, {\"sepalLength\": 5.0, \"sepalWidth\": 2.3, \"petalLength\": 3.3, \"petalWidth\": 1.0, \"species\": \"versicolor\"}, {\"sepalLength\": 5.6, \"sepalWidth\": 2.7, \"petalLength\": 4.2, \"petalWidth\": 1.3, \"species\": \"versicolor\"}, {\"sepalLength\": 5.7, \"sepalWidth\": 3.0, \"petalLength\": 4.2, \"petalWidth\": 1.2, \"species\": \"versicolor\"}, {\"sepalLength\": 5.7, \"sepalWidth\": 2.9, \"petalLength\": 4.2, \"petalWidth\": 1.3, \"species\": \"versicolor\"}, {\"sepalLength\": 6.2, \"sepalWidth\": 2.9, \"petalLength\": 4.3, \"petalWidth\": 1.3, \"species\": \"versicolor\"}, {\"sepalLength\": 5.1, \"sepalWidth\": 2.5, \"petalLength\": 3.0, \"petalWidth\": 1.1, \"species\": \"versicolor\"}, {\"sepalLength\": 5.7, \"sepalWidth\": 2.8, \"petalLength\": 4.1, \"petalWidth\": 1.3, \"species\": \"versicolor\"}, {\"sepalLength\": 6.3, \"sepalWidth\": 3.3, \"petalLength\": 6.0, \"petalWidth\": 2.5, \"species\": \"virginica\"}, {\"sepalLength\": 5.8, \"sepalWidth\": 2.7, \"petalLength\": 5.1, \"petalWidth\": 1.9, \"species\": \"virginica\"}, {\"sepalLength\": 7.1, \"sepalWidth\": 3.0, \"petalLength\": 5.9, \"petalWidth\": 2.1, \"species\": \"virginica\"}, {\"sepalLength\": 6.3, \"sepalWidth\": 2.9, \"petalLength\": 5.6, \"petalWidth\": 1.8, \"species\": \"virginica\"}, {\"sepalLength\": 6.5, \"sepalWidth\": 3.0, \"petalLength\": 5.8, \"petalWidth\": 2.2, \"species\": \"virginica\"}, {\"sepalLength\": 7.6, \"sepalWidth\": 3.0, \"petalLength\": 6.6, \"petalWidth\": 2.1, \"species\": \"virginica\"}, {\"sepalLength\": 4.9, \"sepalWidth\": 2.5, \"petalLength\": 4.5, \"petalWidth\": 1.7000000000000002, \"species\": \"virginica\"}, {\"sepalLength\": 7.3, \"sepalWidth\": 2.9, \"petalLength\": 6.3, \"petalWidth\": 1.8, \"species\": \"virginica\"}, {\"sepalLength\": 6.7, \"sepalWidth\": 2.5, \"petalLength\": 5.8, \"petalWidth\": 1.8, \"species\": \"virginica\"}, {\"sepalLength\": 7.2, \"sepalWidth\": 3.6, \"petalLength\": 6.1, \"petalWidth\": 2.5, \"species\": \"virginica\"}, {\"sepalLength\": 6.5, \"sepalWidth\": 3.2, \"petalLength\": 5.1, \"petalWidth\": 2.0, \"species\": \"virginica\"}, {\"sepalLength\": 6.4, \"sepalWidth\": 2.7, \"petalLength\": 5.3, \"petalWidth\": 1.9, \"species\": \"virginica\"}, {\"sepalLength\": 6.8, \"sepalWidth\": 3.0, \"petalLength\": 5.5, \"petalWidth\": 2.1, \"species\": \"virginica\"}, {\"sepalLength\": 5.7, \"sepalWidth\": 2.5, \"petalLength\": 5.0, \"petalWidth\": 2.0, \"species\": \"virginica\"}, {\"sepalLength\": 5.8, \"sepalWidth\": 2.8, \"petalLength\": 5.1, \"petalWidth\": 2.4, \"species\": \"virginica\"}, {\"sepalLength\": 6.4, \"sepalWidth\": 3.2, \"petalLength\": 5.3, \"petalWidth\": 2.3, \"species\": \"virginica\"}, {\"sepalLength\": 6.5, \"sepalWidth\": 3.0, \"petalLength\": 5.5, \"petalWidth\": 1.8, \"species\": \"virginica\"}, {\"sepalLength\": 7.7, \"sepalWidth\": 3.8, \"petalLength\": 6.7, \"petalWidth\": 2.2, \"species\": \"virginica\"}, {\"sepalLength\": 7.7, \"sepalWidth\": 2.6, \"petalLength\": 6.9, \"petalWidth\": 2.3, \"species\": \"virginica\"}, {\"sepalLength\": 6.0, \"sepalWidth\": 2.2, \"petalLength\": 5.0, \"petalWidth\": 1.5, \"species\": \"virginica\"}, {\"sepalLength\": 6.9, \"sepalWidth\": 3.2, \"petalLength\": 5.7, \"petalWidth\": 2.3, \"species\": \"virginica\"}, {\"sepalLength\": 5.6, \"sepalWidth\": 2.8, \"petalLength\": 4.9, \"petalWidth\": 2.0, \"species\": \"virginica\"}, {\"sepalLength\": 7.7, \"sepalWidth\": 2.8, \"petalLength\": 6.7, \"petalWidth\": 2.0, \"species\": \"virginica\"}, {\"sepalLength\": 6.3, \"sepalWidth\": 2.7, \"petalLength\": 4.9, \"petalWidth\": 1.8, \"species\": \"virginica\"}, {\"sepalLength\": 6.7, \"sepalWidth\": 3.3, \"petalLength\": 5.7, \"petalWidth\": 2.1, \"species\": \"virginica\"}, {\"sepalLength\": 7.2, \"sepalWidth\": 3.2, \"petalLength\": 6.0, \"petalWidth\": 1.8, \"species\": \"virginica\"}, {\"sepalLength\": 6.2, \"sepalWidth\": 2.8, \"petalLength\": 4.8, \"petalWidth\": 1.8, \"species\": \"virginica\"}, {\"sepalLength\": 6.1, \"sepalWidth\": 3.0, \"petalLength\": 4.9, \"petalWidth\": 1.8, \"species\": \"virginica\"}, {\"sepalLength\": 6.4, \"sepalWidth\": 2.8, \"petalLength\": 5.6, \"petalWidth\": 2.1, \"species\": \"virginica\"}, {\"sepalLength\": 7.2, \"sepalWidth\": 3.0, \"petalLength\": 5.8, \"petalWidth\": 1.6, \"species\": \"virginica\"}, {\"sepalLength\": 7.4, \"sepalWidth\": 2.8, \"petalLength\": 6.1, \"petalWidth\": 1.9, \"species\": \"virginica\"}, {\"sepalLength\": 7.9, \"sepalWidth\": 3.8, \"petalLength\": 6.4, \"petalWidth\": 2.0, \"species\": \"virginica\"}, {\"sepalLength\": 6.4, \"sepalWidth\": 2.8, \"petalLength\": 5.6, \"petalWidth\": 2.2, \"species\": \"virginica\"}, {\"sepalLength\": 6.3, \"sepalWidth\": 2.8, \"petalLength\": 5.1, \"petalWidth\": 1.5, \"species\": \"virginica\"}, {\"sepalLength\": 6.1, \"sepalWidth\": 2.6, \"petalLength\": 5.6, \"petalWidth\": 1.4, \"species\": \"virginica\"}, {\"sepalLength\": 7.7, \"sepalWidth\": 3.0, \"petalLength\": 6.1, \"petalWidth\": 2.3, \"species\": \"virginica\"}, {\"sepalLength\": 6.3, \"sepalWidth\": 3.4, \"petalLength\": 5.6, \"petalWidth\": 2.4, \"species\": \"virginica\"}, {\"sepalLength\": 6.4, \"sepalWidth\": 3.1, \"petalLength\": 5.5, \"petalWidth\": 1.8, \"species\": \"virginica\"}, {\"sepalLength\": 6.0, \"sepalWidth\": 3.0, \"petalLength\": 4.8, \"petalWidth\": 1.8, \"species\": \"virginica\"}, {\"sepalLength\": 6.9, \"sepalWidth\": 3.1, \"petalLength\": 5.4, \"petalWidth\": 2.1, \"species\": \"virginica\"}, {\"sepalLength\": 6.7, \"sepalWidth\": 3.1, \"petalLength\": 5.6, \"petalWidth\": 2.4, \"species\": \"virginica\"}, {\"sepalLength\": 6.9, \"sepalWidth\": 3.1, \"petalLength\": 5.1, \"petalWidth\": 2.3, \"species\": \"virginica\"}, {\"sepalLength\": 5.8, \"sepalWidth\": 2.7, \"petalLength\": 5.1, \"petalWidth\": 1.9, \"species\": \"virginica\"}, {\"sepalLength\": 6.8, \"sepalWidth\": 3.2, \"petalLength\": 5.9, \"petalWidth\": 2.3, \"species\": \"virginica\"}, {\"sepalLength\": 6.7, \"sepalWidth\": 3.3, \"petalLength\": 5.7, \"petalWidth\": 2.5, \"species\": \"virginica\"}, {\"sepalLength\": 6.7, \"sepalWidth\": 3.0, \"petalLength\": 5.2, \"petalWidth\": 2.3, \"species\": \"virginica\"}, {\"sepalLength\": 6.3, \"sepalWidth\": 2.5, \"petalLength\": 5.0, \"petalWidth\": 1.9, \"species\": \"virginica\"}, {\"sepalLength\": 6.5, \"sepalWidth\": 3.0, \"petalLength\": 5.2, \"petalWidth\": 2.0, \"species\": \"virginica\"}, {\"sepalLength\": 6.2, \"sepalWidth\": 3.4, \"petalLength\": 5.4, \"petalWidth\": 2.3, \"species\": \"virginica\"}, {\"sepalLength\": 5.9, \"sepalWidth\": 3.0, \"petalLength\": 5.1, \"petalWidth\": 1.8, \"species\": \"virginica\"}]}}, {\"mode\": \"vega-lite\"});\n",
              "</script>"
            ],
            "text/plain": [
              "alt.Chart(...)"
            ]
          },
          "metadata": {},
          "execution_count": 27
        }
      ],
      "source": [
        "alt.Chart(iris).mark_rect().encode(\n",
        "    x=alt.X('petalLength', bin=True),\n",
        "    y=alt.Y('sepalLength', bin=True),\n",
        "    color='mean(petalWidth)'\n",
        ")"
      ]
    },
    {
      "cell_type": "markdown",
      "metadata": {
        "id": "1_mlVIUiu27p"
      },
      "source": [
        "## 6. Stacking and Layering\n",
        "\n",
        "Sometimes a multi-panel view is helpful in order to see relationships between points.\n",
        "Altair provides the ``hconcat()`` and ``vconcat()`` functions, and the associated ``|`` and ``&`` operators to concatenate charts together (note this is different than the column-wise faceting we saw above, because each panel contains the *entire* dataset)"
      ]
    },
    {
      "cell_type": "code",
      "execution_count": 28,
      "metadata": {
        "colab": {
          "base_uri": "https://localhost:8080/",
          "height": 370
        },
        "id": "l0JMYcODu27p",
        "outputId": "16a7b8c6-10e0-4da2-cd50-9e58485e4655"
      },
      "outputs": [
        {
          "output_type": "execute_result",
          "data": {
            "text/html": [
              "\n",
              "<div id=\"altair-viz-341777be24e34931a61fa5413d4dfb14\"></div>\n",
              "<script type=\"text/javascript\">\n",
              "  var VEGA_DEBUG = (typeof VEGA_DEBUG == \"undefined\") ? {} : VEGA_DEBUG;\n",
              "  (function(spec, embedOpt){\n",
              "    let outputDiv = document.currentScript.previousElementSibling;\n",
              "    if (outputDiv.id !== \"altair-viz-341777be24e34931a61fa5413d4dfb14\") {\n",
              "      outputDiv = document.getElementById(\"altair-viz-341777be24e34931a61fa5413d4dfb14\");\n",
              "    }\n",
              "    const paths = {\n",
              "      \"vega\": \"https://cdn.jsdelivr.net/npm//vega@5?noext\",\n",
              "      \"vega-lib\": \"https://cdn.jsdelivr.net/npm//vega-lib?noext\",\n",
              "      \"vega-lite\": \"https://cdn.jsdelivr.net/npm//vega-lite@4.17.0?noext\",\n",
              "      \"vega-embed\": \"https://cdn.jsdelivr.net/npm//vega-embed@6?noext\",\n",
              "    };\n",
              "\n",
              "    function maybeLoadScript(lib, version) {\n",
              "      var key = `${lib.replace(\"-\", \"\")}_version`;\n",
              "      return (VEGA_DEBUG[key] == version) ?\n",
              "        Promise.resolve(paths[lib]) :\n",
              "        new Promise(function(resolve, reject) {\n",
              "          var s = document.createElement('script');\n",
              "          document.getElementsByTagName(\"head\")[0].appendChild(s);\n",
              "          s.async = true;\n",
              "          s.onload = () => {\n",
              "            VEGA_DEBUG[key] = version;\n",
              "            return resolve(paths[lib]);\n",
              "          };\n",
              "          s.onerror = () => reject(`Error loading script: ${paths[lib]}`);\n",
              "          s.src = paths[lib];\n",
              "        });\n",
              "    }\n",
              "\n",
              "    function showError(err) {\n",
              "      outputDiv.innerHTML = `<div class=\"error\" style=\"color:red;\">${err}</div>`;\n",
              "      throw err;\n",
              "    }\n",
              "\n",
              "    function displayChart(vegaEmbed) {\n",
              "      vegaEmbed(outputDiv, spec, embedOpt)\n",
              "        .catch(err => showError(`Javascript Error: ${err.message}<br>This usually means there's a typo in your chart specification. See the javascript console for the full traceback.`));\n",
              "    }\n",
              "\n",
              "    if(typeof define === \"function\" && define.amd) {\n",
              "      requirejs.config({paths});\n",
              "      require([\"vega-embed\"], displayChart, err => showError(`Error loading script: ${err.message}`));\n",
              "    } else {\n",
              "      maybeLoadScript(\"vega\", \"5\")\n",
              "        .then(() => maybeLoadScript(\"vega-lite\", \"4.17.0\"))\n",
              "        .then(() => maybeLoadScript(\"vega-embed\", \"6\"))\n",
              "        .catch(showError)\n",
              "        .then(() => displayChart(vegaEmbed));\n",
              "    }\n",
              "  })({\"config\": {\"view\": {\"continuousWidth\": 400, \"continuousHeight\": 300}}, \"hconcat\": [{\"mark\": \"point\", \"encoding\": {\"color\": {\"field\": \"species\", \"type\": \"nominal\"}, \"x\": {\"field\": \"petalWidth\", \"type\": \"quantitative\"}, \"y\": {\"field\": \"sepalWidth\", \"type\": \"quantitative\"}}}, {\"mark\": \"point\", \"encoding\": {\"color\": {\"field\": \"species\", \"type\": \"nominal\"}, \"x\": {\"field\": \"sepalLength\", \"type\": \"quantitative\"}, \"y\": {\"field\": \"sepalWidth\", \"type\": \"quantitative\"}}}], \"data\": {\"name\": \"data-a264acbd6e539a8b3afc0cb5f240fb57\"}, \"$schema\": \"https://vega.github.io/schema/vega-lite/v4.17.0.json\", \"datasets\": {\"data-a264acbd6e539a8b3afc0cb5f240fb57\": [{\"sepalLength\": 5.1, \"sepalWidth\": 3.5, \"petalLength\": 1.4, \"petalWidth\": 0.2, \"species\": \"setosa\"}, {\"sepalLength\": 4.9, \"sepalWidth\": 3.0, \"petalLength\": 1.4, \"petalWidth\": 0.2, \"species\": \"setosa\"}, {\"sepalLength\": 4.7, \"sepalWidth\": 3.2, \"petalLength\": 1.3, \"petalWidth\": 0.2, \"species\": \"setosa\"}, {\"sepalLength\": 4.6, \"sepalWidth\": 3.1, \"petalLength\": 1.5, \"petalWidth\": 0.2, \"species\": \"setosa\"}, {\"sepalLength\": 5.0, \"sepalWidth\": 3.6, \"petalLength\": 1.4, \"petalWidth\": 0.2, \"species\": \"setosa\"}, {\"sepalLength\": 5.4, \"sepalWidth\": 3.9, \"petalLength\": 1.7000000000000002, \"petalWidth\": 0.4, \"species\": \"setosa\"}, {\"sepalLength\": 4.6, \"sepalWidth\": 3.4, \"petalLength\": 1.4, \"petalWidth\": 0.30000000000000004, \"species\": \"setosa\"}, {\"sepalLength\": 5.0, \"sepalWidth\": 3.4, \"petalLength\": 1.5, \"petalWidth\": 0.2, \"species\": \"setosa\"}, {\"sepalLength\": 4.4, \"sepalWidth\": 2.9, \"petalLength\": 1.4, \"petalWidth\": 0.2, \"species\": \"setosa\"}, {\"sepalLength\": 4.9, \"sepalWidth\": 3.1, \"petalLength\": 1.5, \"petalWidth\": 0.1, \"species\": \"setosa\"}, {\"sepalLength\": 5.4, \"sepalWidth\": 3.7, \"petalLength\": 1.5, \"petalWidth\": 0.2, \"species\": \"setosa\"}, {\"sepalLength\": 4.8, \"sepalWidth\": 3.4, \"petalLength\": 1.6, \"petalWidth\": 0.2, \"species\": \"setosa\"}, {\"sepalLength\": 4.8, \"sepalWidth\": 3.0, \"petalLength\": 1.4, \"petalWidth\": 0.1, \"species\": \"setosa\"}, {\"sepalLength\": 4.3, \"sepalWidth\": 3.0, \"petalLength\": 1.1, \"petalWidth\": 0.1, \"species\": \"setosa\"}, {\"sepalLength\": 5.8, \"sepalWidth\": 4.0, \"petalLength\": 1.2, \"petalWidth\": 0.2, \"species\": \"setosa\"}, {\"sepalLength\": 5.7, \"sepalWidth\": 4.4, \"petalLength\": 1.5, \"petalWidth\": 0.4, \"species\": \"setosa\"}, {\"sepalLength\": 5.4, \"sepalWidth\": 3.9, \"petalLength\": 1.3, \"petalWidth\": 0.4, \"species\": \"setosa\"}, {\"sepalLength\": 5.1, \"sepalWidth\": 3.5, \"petalLength\": 1.4, \"petalWidth\": 0.30000000000000004, \"species\": \"setosa\"}, {\"sepalLength\": 5.7, \"sepalWidth\": 3.8, \"petalLength\": 1.7000000000000002, \"petalWidth\": 0.30000000000000004, \"species\": \"setosa\"}, {\"sepalLength\": 5.1, \"sepalWidth\": 3.8, \"petalLength\": 1.5, \"petalWidth\": 0.30000000000000004, \"species\": \"setosa\"}, {\"sepalLength\": 5.4, \"sepalWidth\": 3.4, \"petalLength\": 1.7000000000000002, \"petalWidth\": 0.2, \"species\": \"setosa\"}, {\"sepalLength\": 5.1, \"sepalWidth\": 3.7, \"petalLength\": 1.5, \"petalWidth\": 0.4, \"species\": \"setosa\"}, {\"sepalLength\": 4.6, \"sepalWidth\": 3.6, \"petalLength\": 1.0, \"petalWidth\": 0.2, \"species\": \"setosa\"}, {\"sepalLength\": 5.1, \"sepalWidth\": 3.3, \"petalLength\": 1.7000000000000002, \"petalWidth\": 0.5, \"species\": \"setosa\"}, {\"sepalLength\": 4.8, \"sepalWidth\": 3.4, \"petalLength\": 1.9, \"petalWidth\": 0.2, \"species\": \"setosa\"}, {\"sepalLength\": 5.0, \"sepalWidth\": 3.0, \"petalLength\": 1.6, \"petalWidth\": 0.2, \"species\": \"setosa\"}, {\"sepalLength\": 5.0, \"sepalWidth\": 3.4, \"petalLength\": 1.6, \"petalWidth\": 0.4, \"species\": \"setosa\"}, {\"sepalLength\": 5.2, \"sepalWidth\": 3.5, \"petalLength\": 1.5, \"petalWidth\": 0.2, \"species\": \"setosa\"}, {\"sepalLength\": 5.2, \"sepalWidth\": 3.4, \"petalLength\": 1.4, \"petalWidth\": 0.2, \"species\": \"setosa\"}, {\"sepalLength\": 4.7, \"sepalWidth\": 3.2, \"petalLength\": 1.6, \"petalWidth\": 0.2, \"species\": \"setosa\"}, {\"sepalLength\": 4.8, \"sepalWidth\": 3.1, \"petalLength\": 1.6, \"petalWidth\": 0.2, \"species\": \"setosa\"}, {\"sepalLength\": 5.4, \"sepalWidth\": 3.4, \"petalLength\": 1.5, \"petalWidth\": 0.4, \"species\": \"setosa\"}, {\"sepalLength\": 5.2, \"sepalWidth\": 4.1, \"petalLength\": 1.5, \"petalWidth\": 0.1, \"species\": \"setosa\"}, {\"sepalLength\": 5.5, \"sepalWidth\": 4.2, \"petalLength\": 1.4, \"petalWidth\": 0.2, \"species\": \"setosa\"}, {\"sepalLength\": 4.9, \"sepalWidth\": 3.1, \"petalLength\": 1.5, \"petalWidth\": 0.2, \"species\": \"setosa\"}, {\"sepalLength\": 5.0, \"sepalWidth\": 3.2, \"petalLength\": 1.2, \"petalWidth\": 0.2, \"species\": \"setosa\"}, {\"sepalLength\": 5.5, \"sepalWidth\": 3.5, \"petalLength\": 1.3, \"petalWidth\": 0.2, \"species\": \"setosa\"}, {\"sepalLength\": 4.9, \"sepalWidth\": 3.6, \"petalLength\": 1.4, \"petalWidth\": 0.1, \"species\": \"setosa\"}, {\"sepalLength\": 4.4, \"sepalWidth\": 3.0, \"petalLength\": 1.3, \"petalWidth\": 0.2, \"species\": \"setosa\"}, {\"sepalLength\": 5.1, \"sepalWidth\": 3.4, \"petalLength\": 1.5, \"petalWidth\": 0.2, \"species\": \"setosa\"}, {\"sepalLength\": 5.0, \"sepalWidth\": 3.5, \"petalLength\": 1.3, \"petalWidth\": 0.30000000000000004, \"species\": \"setosa\"}, {\"sepalLength\": 4.5, \"sepalWidth\": 2.3, \"petalLength\": 1.3, \"petalWidth\": 0.30000000000000004, \"species\": \"setosa\"}, {\"sepalLength\": 4.4, \"sepalWidth\": 3.2, \"petalLength\": 1.3, \"petalWidth\": 0.2, \"species\": \"setosa\"}, {\"sepalLength\": 5.0, \"sepalWidth\": 3.5, \"petalLength\": 1.6, \"petalWidth\": 0.6000000000000001, \"species\": \"setosa\"}, {\"sepalLength\": 5.1, \"sepalWidth\": 3.8, \"petalLength\": 1.9, \"petalWidth\": 0.4, \"species\": \"setosa\"}, {\"sepalLength\": 4.8, \"sepalWidth\": 3.0, \"petalLength\": 1.4, \"petalWidth\": 0.30000000000000004, \"species\": \"setosa\"}, {\"sepalLength\": 5.1, \"sepalWidth\": 3.8, \"petalLength\": 1.6, \"petalWidth\": 0.2, \"species\": \"setosa\"}, {\"sepalLength\": 4.6, \"sepalWidth\": 3.2, \"petalLength\": 1.4, \"petalWidth\": 0.2, \"species\": \"setosa\"}, {\"sepalLength\": 5.3, \"sepalWidth\": 3.7, \"petalLength\": 1.5, \"petalWidth\": 0.2, \"species\": \"setosa\"}, {\"sepalLength\": 5.0, \"sepalWidth\": 3.3, \"petalLength\": 1.4, \"petalWidth\": 0.2, \"species\": \"setosa\"}, {\"sepalLength\": 7.0, \"sepalWidth\": 3.2, \"petalLength\": 4.7, \"petalWidth\": 1.4, \"species\": \"versicolor\"}, {\"sepalLength\": 6.4, \"sepalWidth\": 3.2, \"petalLength\": 4.5, \"petalWidth\": 1.5, \"species\": \"versicolor\"}, {\"sepalLength\": 6.9, \"sepalWidth\": 3.1, \"petalLength\": 4.9, \"petalWidth\": 1.5, \"species\": \"versicolor\"}, {\"sepalLength\": 5.5, \"sepalWidth\": 2.3, \"petalLength\": 4.0, \"petalWidth\": 1.3, \"species\": \"versicolor\"}, {\"sepalLength\": 6.5, \"sepalWidth\": 2.8, \"petalLength\": 4.6, \"petalWidth\": 1.5, \"species\": \"versicolor\"}, {\"sepalLength\": 5.7, \"sepalWidth\": 2.8, \"petalLength\": 4.5, \"petalWidth\": 1.3, \"species\": \"versicolor\"}, {\"sepalLength\": 6.3, \"sepalWidth\": 3.3, \"petalLength\": 4.7, \"petalWidth\": 1.6, \"species\": \"versicolor\"}, {\"sepalLength\": 4.9, \"sepalWidth\": 2.4, \"petalLength\": 3.3, \"petalWidth\": 1.0, \"species\": \"versicolor\"}, {\"sepalLength\": 6.6, \"sepalWidth\": 2.9, \"petalLength\": 4.6, \"petalWidth\": 1.3, \"species\": \"versicolor\"}, {\"sepalLength\": 5.2, \"sepalWidth\": 2.7, \"petalLength\": 3.9, \"petalWidth\": 1.4, \"species\": \"versicolor\"}, {\"sepalLength\": 5.0, \"sepalWidth\": 2.0, \"petalLength\": 3.5, \"petalWidth\": 1.0, \"species\": \"versicolor\"}, {\"sepalLength\": 5.9, \"sepalWidth\": 3.0, \"petalLength\": 4.2, \"petalWidth\": 1.5, \"species\": \"versicolor\"}, {\"sepalLength\": 6.0, \"sepalWidth\": 2.2, \"petalLength\": 4.0, \"petalWidth\": 1.0, \"species\": \"versicolor\"}, {\"sepalLength\": 6.1, \"sepalWidth\": 2.9, \"petalLength\": 4.7, \"petalWidth\": 1.4, \"species\": \"versicolor\"}, {\"sepalLength\": 5.6, \"sepalWidth\": 2.9, \"petalLength\": 3.6, \"petalWidth\": 1.3, \"species\": \"versicolor\"}, {\"sepalLength\": 6.7, \"sepalWidth\": 3.1, \"petalLength\": 4.4, \"petalWidth\": 1.4, \"species\": \"versicolor\"}, {\"sepalLength\": 5.6, \"sepalWidth\": 3.0, \"petalLength\": 4.5, \"petalWidth\": 1.5, \"species\": \"versicolor\"}, {\"sepalLength\": 5.8, \"sepalWidth\": 2.7, \"petalLength\": 4.1, \"petalWidth\": 1.0, \"species\": \"versicolor\"}, {\"sepalLength\": 6.2, \"sepalWidth\": 2.2, \"petalLength\": 4.5, \"petalWidth\": 1.5, \"species\": \"versicolor\"}, {\"sepalLength\": 5.6, \"sepalWidth\": 2.5, \"petalLength\": 3.9, \"petalWidth\": 1.1, \"species\": \"versicolor\"}, {\"sepalLength\": 5.9, \"sepalWidth\": 3.2, \"petalLength\": 4.8, \"petalWidth\": 1.8, \"species\": \"versicolor\"}, {\"sepalLength\": 6.1, \"sepalWidth\": 2.8, \"petalLength\": 4.0, \"petalWidth\": 1.3, \"species\": \"versicolor\"}, {\"sepalLength\": 6.3, \"sepalWidth\": 2.5, \"petalLength\": 4.9, \"petalWidth\": 1.5, \"species\": \"versicolor\"}, {\"sepalLength\": 6.1, \"sepalWidth\": 2.8, \"petalLength\": 4.7, \"petalWidth\": 1.2, \"species\": \"versicolor\"}, {\"sepalLength\": 6.4, \"sepalWidth\": 2.9, \"petalLength\": 4.3, \"petalWidth\": 1.3, \"species\": \"versicolor\"}, {\"sepalLength\": 6.6, \"sepalWidth\": 3.0, \"petalLength\": 4.4, \"petalWidth\": 1.4, \"species\": \"versicolor\"}, {\"sepalLength\": 6.8, \"sepalWidth\": 2.8, \"petalLength\": 4.8, \"petalWidth\": 1.4, \"species\": \"versicolor\"}, {\"sepalLength\": 6.7, \"sepalWidth\": 3.0, \"petalLength\": 5.0, \"petalWidth\": 1.7000000000000002, \"species\": \"versicolor\"}, {\"sepalLength\": 6.0, \"sepalWidth\": 2.9, \"petalLength\": 4.5, \"petalWidth\": 1.5, \"species\": \"versicolor\"}, {\"sepalLength\": 5.7, \"sepalWidth\": 2.6, \"petalLength\": 3.5, \"petalWidth\": 1.0, \"species\": \"versicolor\"}, {\"sepalLength\": 5.5, \"sepalWidth\": 2.4, \"petalLength\": 3.8, \"petalWidth\": 1.1, \"species\": \"versicolor\"}, {\"sepalLength\": 5.5, \"sepalWidth\": 2.4, \"petalLength\": 3.7, \"petalWidth\": 1.0, \"species\": \"versicolor\"}, {\"sepalLength\": 5.8, \"sepalWidth\": 2.7, \"petalLength\": 3.9, \"petalWidth\": 1.2, \"species\": \"versicolor\"}, {\"sepalLength\": 6.0, \"sepalWidth\": 2.7, \"petalLength\": 5.1, \"petalWidth\": 1.6, \"species\": \"versicolor\"}, {\"sepalLength\": 5.4, \"sepalWidth\": 3.0, \"petalLength\": 4.5, \"petalWidth\": 1.5, \"species\": \"versicolor\"}, {\"sepalLength\": 6.0, \"sepalWidth\": 3.4, \"petalLength\": 4.5, \"petalWidth\": 1.6, \"species\": \"versicolor\"}, {\"sepalLength\": 6.7, \"sepalWidth\": 3.1, \"petalLength\": 4.7, \"petalWidth\": 1.5, \"species\": \"versicolor\"}, {\"sepalLength\": 6.3, \"sepalWidth\": 2.3, \"petalLength\": 4.4, \"petalWidth\": 1.3, \"species\": \"versicolor\"}, {\"sepalLength\": 5.6, \"sepalWidth\": 3.0, \"petalLength\": 4.1, \"petalWidth\": 1.3, \"species\": \"versicolor\"}, {\"sepalLength\": 5.5, \"sepalWidth\": 2.5, \"petalLength\": 4.0, \"petalWidth\": 1.3, \"species\": \"versicolor\"}, {\"sepalLength\": 5.5, \"sepalWidth\": 2.6, \"petalLength\": 4.4, \"petalWidth\": 1.2, \"species\": \"versicolor\"}, {\"sepalLength\": 6.1, \"sepalWidth\": 3.0, \"petalLength\": 4.6, \"petalWidth\": 1.4, \"species\": \"versicolor\"}, {\"sepalLength\": 5.8, \"sepalWidth\": 2.6, \"petalLength\": 4.0, \"petalWidth\": 1.2, \"species\": \"versicolor\"}, {\"sepalLength\": 5.0, \"sepalWidth\": 2.3, \"petalLength\": 3.3, \"petalWidth\": 1.0, \"species\": \"versicolor\"}, {\"sepalLength\": 5.6, \"sepalWidth\": 2.7, \"petalLength\": 4.2, \"petalWidth\": 1.3, \"species\": \"versicolor\"}, {\"sepalLength\": 5.7, \"sepalWidth\": 3.0, \"petalLength\": 4.2, \"petalWidth\": 1.2, \"species\": \"versicolor\"}, {\"sepalLength\": 5.7, \"sepalWidth\": 2.9, \"petalLength\": 4.2, \"petalWidth\": 1.3, \"species\": \"versicolor\"}, {\"sepalLength\": 6.2, \"sepalWidth\": 2.9, \"petalLength\": 4.3, \"petalWidth\": 1.3, \"species\": \"versicolor\"}, {\"sepalLength\": 5.1, \"sepalWidth\": 2.5, \"petalLength\": 3.0, \"petalWidth\": 1.1, \"species\": \"versicolor\"}, {\"sepalLength\": 5.7, \"sepalWidth\": 2.8, \"petalLength\": 4.1, \"petalWidth\": 1.3, \"species\": \"versicolor\"}, {\"sepalLength\": 6.3, \"sepalWidth\": 3.3, \"petalLength\": 6.0, \"petalWidth\": 2.5, \"species\": \"virginica\"}, {\"sepalLength\": 5.8, \"sepalWidth\": 2.7, \"petalLength\": 5.1, \"petalWidth\": 1.9, \"species\": \"virginica\"}, {\"sepalLength\": 7.1, \"sepalWidth\": 3.0, \"petalLength\": 5.9, \"petalWidth\": 2.1, \"species\": \"virginica\"}, {\"sepalLength\": 6.3, \"sepalWidth\": 2.9, \"petalLength\": 5.6, \"petalWidth\": 1.8, \"species\": \"virginica\"}, {\"sepalLength\": 6.5, \"sepalWidth\": 3.0, \"petalLength\": 5.8, \"petalWidth\": 2.2, \"species\": \"virginica\"}, {\"sepalLength\": 7.6, \"sepalWidth\": 3.0, \"petalLength\": 6.6, \"petalWidth\": 2.1, \"species\": \"virginica\"}, {\"sepalLength\": 4.9, \"sepalWidth\": 2.5, \"petalLength\": 4.5, \"petalWidth\": 1.7000000000000002, \"species\": \"virginica\"}, {\"sepalLength\": 7.3, \"sepalWidth\": 2.9, \"petalLength\": 6.3, \"petalWidth\": 1.8, \"species\": \"virginica\"}, {\"sepalLength\": 6.7, \"sepalWidth\": 2.5, \"petalLength\": 5.8, \"petalWidth\": 1.8, \"species\": \"virginica\"}, {\"sepalLength\": 7.2, \"sepalWidth\": 3.6, \"petalLength\": 6.1, \"petalWidth\": 2.5, \"species\": \"virginica\"}, {\"sepalLength\": 6.5, \"sepalWidth\": 3.2, \"petalLength\": 5.1, \"petalWidth\": 2.0, \"species\": \"virginica\"}, {\"sepalLength\": 6.4, \"sepalWidth\": 2.7, \"petalLength\": 5.3, \"petalWidth\": 1.9, \"species\": \"virginica\"}, {\"sepalLength\": 6.8, \"sepalWidth\": 3.0, \"petalLength\": 5.5, \"petalWidth\": 2.1, \"species\": \"virginica\"}, {\"sepalLength\": 5.7, \"sepalWidth\": 2.5, \"petalLength\": 5.0, \"petalWidth\": 2.0, \"species\": \"virginica\"}, {\"sepalLength\": 5.8, \"sepalWidth\": 2.8, \"petalLength\": 5.1, \"petalWidth\": 2.4, \"species\": \"virginica\"}, {\"sepalLength\": 6.4, \"sepalWidth\": 3.2, \"petalLength\": 5.3, \"petalWidth\": 2.3, \"species\": \"virginica\"}, {\"sepalLength\": 6.5, \"sepalWidth\": 3.0, \"petalLength\": 5.5, \"petalWidth\": 1.8, \"species\": \"virginica\"}, {\"sepalLength\": 7.7, \"sepalWidth\": 3.8, \"petalLength\": 6.7, \"petalWidth\": 2.2, \"species\": \"virginica\"}, {\"sepalLength\": 7.7, \"sepalWidth\": 2.6, \"petalLength\": 6.9, \"petalWidth\": 2.3, \"species\": \"virginica\"}, {\"sepalLength\": 6.0, \"sepalWidth\": 2.2, \"petalLength\": 5.0, \"petalWidth\": 1.5, \"species\": \"virginica\"}, {\"sepalLength\": 6.9, \"sepalWidth\": 3.2, \"petalLength\": 5.7, \"petalWidth\": 2.3, \"species\": \"virginica\"}, {\"sepalLength\": 5.6, \"sepalWidth\": 2.8, \"petalLength\": 4.9, \"petalWidth\": 2.0, \"species\": \"virginica\"}, {\"sepalLength\": 7.7, \"sepalWidth\": 2.8, \"petalLength\": 6.7, \"petalWidth\": 2.0, \"species\": \"virginica\"}, {\"sepalLength\": 6.3, \"sepalWidth\": 2.7, \"petalLength\": 4.9, \"petalWidth\": 1.8, \"species\": \"virginica\"}, {\"sepalLength\": 6.7, \"sepalWidth\": 3.3, \"petalLength\": 5.7, \"petalWidth\": 2.1, \"species\": \"virginica\"}, {\"sepalLength\": 7.2, \"sepalWidth\": 3.2, \"petalLength\": 6.0, \"petalWidth\": 1.8, \"species\": \"virginica\"}, {\"sepalLength\": 6.2, \"sepalWidth\": 2.8, \"petalLength\": 4.8, \"petalWidth\": 1.8, \"species\": \"virginica\"}, {\"sepalLength\": 6.1, \"sepalWidth\": 3.0, \"petalLength\": 4.9, \"petalWidth\": 1.8, \"species\": \"virginica\"}, {\"sepalLength\": 6.4, \"sepalWidth\": 2.8, \"petalLength\": 5.6, \"petalWidth\": 2.1, \"species\": \"virginica\"}, {\"sepalLength\": 7.2, \"sepalWidth\": 3.0, \"petalLength\": 5.8, \"petalWidth\": 1.6, \"species\": \"virginica\"}, {\"sepalLength\": 7.4, \"sepalWidth\": 2.8, \"petalLength\": 6.1, \"petalWidth\": 1.9, \"species\": \"virginica\"}, {\"sepalLength\": 7.9, \"sepalWidth\": 3.8, \"petalLength\": 6.4, \"petalWidth\": 2.0, \"species\": \"virginica\"}, {\"sepalLength\": 6.4, \"sepalWidth\": 2.8, \"petalLength\": 5.6, \"petalWidth\": 2.2, \"species\": \"virginica\"}, {\"sepalLength\": 6.3, \"sepalWidth\": 2.8, \"petalLength\": 5.1, \"petalWidth\": 1.5, \"species\": \"virginica\"}, {\"sepalLength\": 6.1, \"sepalWidth\": 2.6, \"petalLength\": 5.6, \"petalWidth\": 1.4, \"species\": \"virginica\"}, {\"sepalLength\": 7.7, \"sepalWidth\": 3.0, \"petalLength\": 6.1, \"petalWidth\": 2.3, \"species\": \"virginica\"}, {\"sepalLength\": 6.3, \"sepalWidth\": 3.4, \"petalLength\": 5.6, \"petalWidth\": 2.4, \"species\": \"virginica\"}, {\"sepalLength\": 6.4, \"sepalWidth\": 3.1, \"petalLength\": 5.5, \"petalWidth\": 1.8, \"species\": \"virginica\"}, {\"sepalLength\": 6.0, \"sepalWidth\": 3.0, \"petalLength\": 4.8, \"petalWidth\": 1.8, \"species\": \"virginica\"}, {\"sepalLength\": 6.9, \"sepalWidth\": 3.1, \"petalLength\": 5.4, \"petalWidth\": 2.1, \"species\": \"virginica\"}, {\"sepalLength\": 6.7, \"sepalWidth\": 3.1, \"petalLength\": 5.6, \"petalWidth\": 2.4, \"species\": \"virginica\"}, {\"sepalLength\": 6.9, \"sepalWidth\": 3.1, \"petalLength\": 5.1, \"petalWidth\": 2.3, \"species\": \"virginica\"}, {\"sepalLength\": 5.8, \"sepalWidth\": 2.7, \"petalLength\": 5.1, \"petalWidth\": 1.9, \"species\": \"virginica\"}, {\"sepalLength\": 6.8, \"sepalWidth\": 3.2, \"petalLength\": 5.9, \"petalWidth\": 2.3, \"species\": \"virginica\"}, {\"sepalLength\": 6.7, \"sepalWidth\": 3.3, \"petalLength\": 5.7, \"petalWidth\": 2.5, \"species\": \"virginica\"}, {\"sepalLength\": 6.7, \"sepalWidth\": 3.0, \"petalLength\": 5.2, \"petalWidth\": 2.3, \"species\": \"virginica\"}, {\"sepalLength\": 6.3, \"sepalWidth\": 2.5, \"petalLength\": 5.0, \"petalWidth\": 1.9, \"species\": \"virginica\"}, {\"sepalLength\": 6.5, \"sepalWidth\": 3.0, \"petalLength\": 5.2, \"petalWidth\": 2.0, \"species\": \"virginica\"}, {\"sepalLength\": 6.2, \"sepalWidth\": 3.4, \"petalLength\": 5.4, \"petalWidth\": 2.3, \"species\": \"virginica\"}, {\"sepalLength\": 5.9, \"sepalWidth\": 3.0, \"petalLength\": 5.1, \"petalWidth\": 1.8, \"species\": \"virginica\"}]}}, {\"mode\": \"vega-lite\"});\n",
              "</script>"
            ],
            "text/plain": [
              "alt.HConcatChart(...)"
            ]
          },
          "metadata": {},
          "execution_count": 28
        }
      ],
      "source": [
        "chart1 = alt.Chart(iris).mark_point().encode(\n",
        "    x='petalWidth',\n",
        "    y='sepalWidth',\n",
        "    color='species'\n",
        ")\n",
        "\n",
        "chart2 = alt.Chart(iris).mark_point().encode(\n",
        "    x='sepalLength',\n",
        "    y='sepalWidth',\n",
        "    color='species'\n",
        ")\n",
        "\n",
        "chart1 | chart2"
      ]
    },
    {
      "cell_type": "markdown",
      "metadata": {
        "id": "hv1tgXA-u27p"
      },
      "source": [
        "A useful trick for this sort of situation is to create a base chart, and concatenate two slightly different copies of it:"
      ]
    },
    {
      "cell_type": "code",
      "execution_count": 29,
      "metadata": {
        "colab": {
          "base_uri": "https://localhost:8080/",
          "height": 370
        },
        "id": "FxrT69Xuu27p",
        "outputId": "3584f322-e9d6-404e-d537-43f18793d653"
      },
      "outputs": [
        {
          "output_type": "execute_result",
          "data": {
            "text/html": [
              "\n",
              "<div id=\"altair-viz-49d150380e4842c1a9b03a43bfbf6cf2\"></div>\n",
              "<script type=\"text/javascript\">\n",
              "  var VEGA_DEBUG = (typeof VEGA_DEBUG == \"undefined\") ? {} : VEGA_DEBUG;\n",
              "  (function(spec, embedOpt){\n",
              "    let outputDiv = document.currentScript.previousElementSibling;\n",
              "    if (outputDiv.id !== \"altair-viz-49d150380e4842c1a9b03a43bfbf6cf2\") {\n",
              "      outputDiv = document.getElementById(\"altair-viz-49d150380e4842c1a9b03a43bfbf6cf2\");\n",
              "    }\n",
              "    const paths = {\n",
              "      \"vega\": \"https://cdn.jsdelivr.net/npm//vega@5?noext\",\n",
              "      \"vega-lib\": \"https://cdn.jsdelivr.net/npm//vega-lib?noext\",\n",
              "      \"vega-lite\": \"https://cdn.jsdelivr.net/npm//vega-lite@4.17.0?noext\",\n",
              "      \"vega-embed\": \"https://cdn.jsdelivr.net/npm//vega-embed@6?noext\",\n",
              "    };\n",
              "\n",
              "    function maybeLoadScript(lib, version) {\n",
              "      var key = `${lib.replace(\"-\", \"\")}_version`;\n",
              "      return (VEGA_DEBUG[key] == version) ?\n",
              "        Promise.resolve(paths[lib]) :\n",
              "        new Promise(function(resolve, reject) {\n",
              "          var s = document.createElement('script');\n",
              "          document.getElementsByTagName(\"head\")[0].appendChild(s);\n",
              "          s.async = true;\n",
              "          s.onload = () => {\n",
              "            VEGA_DEBUG[key] = version;\n",
              "            return resolve(paths[lib]);\n",
              "          };\n",
              "          s.onerror = () => reject(`Error loading script: ${paths[lib]}`);\n",
              "          s.src = paths[lib];\n",
              "        });\n",
              "    }\n",
              "\n",
              "    function showError(err) {\n",
              "      outputDiv.innerHTML = `<div class=\"error\" style=\"color:red;\">${err}</div>`;\n",
              "      throw err;\n",
              "    }\n",
              "\n",
              "    function displayChart(vegaEmbed) {\n",
              "      vegaEmbed(outputDiv, spec, embedOpt)\n",
              "        .catch(err => showError(`Javascript Error: ${err.message}<br>This usually means there's a typo in your chart specification. See the javascript console for the full traceback.`));\n",
              "    }\n",
              "\n",
              "    if(typeof define === \"function\" && define.amd) {\n",
              "      requirejs.config({paths});\n",
              "      require([\"vega-embed\"], displayChart, err => showError(`Error loading script: ${err.message}`));\n",
              "    } else {\n",
              "      maybeLoadScript(\"vega\", \"5\")\n",
              "        .then(() => maybeLoadScript(\"vega-lite\", \"4.17.0\"))\n",
              "        .then(() => maybeLoadScript(\"vega-embed\", \"6\"))\n",
              "        .catch(showError)\n",
              "        .then(() => displayChart(vegaEmbed));\n",
              "    }\n",
              "  })({\"config\": {\"view\": {\"continuousWidth\": 400, \"continuousHeight\": 300}}, \"hconcat\": [{\"mark\": \"point\", \"encoding\": {\"color\": {\"field\": \"species\", \"type\": \"nominal\"}, \"x\": {\"field\": \"petalWidth\", \"type\": \"quantitative\"}, \"y\": {\"field\": \"sepalWidth\", \"type\": \"quantitative\"}}}, {\"mark\": \"point\", \"encoding\": {\"color\": {\"field\": \"species\", \"type\": \"nominal\"}, \"x\": {\"field\": \"sepalLength\", \"type\": \"quantitative\"}, \"y\": {\"field\": \"sepalWidth\", \"type\": \"quantitative\"}}}], \"data\": {\"name\": \"data-a264acbd6e539a8b3afc0cb5f240fb57\"}, \"$schema\": \"https://vega.github.io/schema/vega-lite/v4.17.0.json\", \"datasets\": {\"data-a264acbd6e539a8b3afc0cb5f240fb57\": [{\"sepalLength\": 5.1, \"sepalWidth\": 3.5, \"petalLength\": 1.4, \"petalWidth\": 0.2, \"species\": \"setosa\"}, {\"sepalLength\": 4.9, \"sepalWidth\": 3.0, \"petalLength\": 1.4, \"petalWidth\": 0.2, \"species\": \"setosa\"}, {\"sepalLength\": 4.7, \"sepalWidth\": 3.2, \"petalLength\": 1.3, \"petalWidth\": 0.2, \"species\": \"setosa\"}, {\"sepalLength\": 4.6, \"sepalWidth\": 3.1, \"petalLength\": 1.5, \"petalWidth\": 0.2, \"species\": \"setosa\"}, {\"sepalLength\": 5.0, \"sepalWidth\": 3.6, \"petalLength\": 1.4, \"petalWidth\": 0.2, \"species\": \"setosa\"}, {\"sepalLength\": 5.4, \"sepalWidth\": 3.9, \"petalLength\": 1.7000000000000002, \"petalWidth\": 0.4, \"species\": \"setosa\"}, {\"sepalLength\": 4.6, \"sepalWidth\": 3.4, \"petalLength\": 1.4, \"petalWidth\": 0.30000000000000004, \"species\": \"setosa\"}, {\"sepalLength\": 5.0, \"sepalWidth\": 3.4, \"petalLength\": 1.5, \"petalWidth\": 0.2, \"species\": \"setosa\"}, {\"sepalLength\": 4.4, \"sepalWidth\": 2.9, \"petalLength\": 1.4, \"petalWidth\": 0.2, \"species\": \"setosa\"}, {\"sepalLength\": 4.9, \"sepalWidth\": 3.1, \"petalLength\": 1.5, \"petalWidth\": 0.1, \"species\": \"setosa\"}, {\"sepalLength\": 5.4, \"sepalWidth\": 3.7, \"petalLength\": 1.5, \"petalWidth\": 0.2, \"species\": \"setosa\"}, {\"sepalLength\": 4.8, \"sepalWidth\": 3.4, \"petalLength\": 1.6, \"petalWidth\": 0.2, \"species\": \"setosa\"}, {\"sepalLength\": 4.8, \"sepalWidth\": 3.0, \"petalLength\": 1.4, \"petalWidth\": 0.1, \"species\": \"setosa\"}, {\"sepalLength\": 4.3, \"sepalWidth\": 3.0, \"petalLength\": 1.1, \"petalWidth\": 0.1, \"species\": \"setosa\"}, {\"sepalLength\": 5.8, \"sepalWidth\": 4.0, \"petalLength\": 1.2, \"petalWidth\": 0.2, \"species\": \"setosa\"}, {\"sepalLength\": 5.7, \"sepalWidth\": 4.4, \"petalLength\": 1.5, \"petalWidth\": 0.4, \"species\": \"setosa\"}, {\"sepalLength\": 5.4, \"sepalWidth\": 3.9, \"petalLength\": 1.3, \"petalWidth\": 0.4, \"species\": \"setosa\"}, {\"sepalLength\": 5.1, \"sepalWidth\": 3.5, \"petalLength\": 1.4, \"petalWidth\": 0.30000000000000004, \"species\": \"setosa\"}, {\"sepalLength\": 5.7, \"sepalWidth\": 3.8, \"petalLength\": 1.7000000000000002, \"petalWidth\": 0.30000000000000004, \"species\": \"setosa\"}, {\"sepalLength\": 5.1, \"sepalWidth\": 3.8, \"petalLength\": 1.5, \"petalWidth\": 0.30000000000000004, \"species\": \"setosa\"}, {\"sepalLength\": 5.4, \"sepalWidth\": 3.4, \"petalLength\": 1.7000000000000002, \"petalWidth\": 0.2, \"species\": \"setosa\"}, {\"sepalLength\": 5.1, \"sepalWidth\": 3.7, \"petalLength\": 1.5, \"petalWidth\": 0.4, \"species\": \"setosa\"}, {\"sepalLength\": 4.6, \"sepalWidth\": 3.6, \"petalLength\": 1.0, \"petalWidth\": 0.2, \"species\": \"setosa\"}, {\"sepalLength\": 5.1, \"sepalWidth\": 3.3, \"petalLength\": 1.7000000000000002, \"petalWidth\": 0.5, \"species\": \"setosa\"}, {\"sepalLength\": 4.8, \"sepalWidth\": 3.4, \"petalLength\": 1.9, \"petalWidth\": 0.2, \"species\": \"setosa\"}, {\"sepalLength\": 5.0, \"sepalWidth\": 3.0, \"petalLength\": 1.6, \"petalWidth\": 0.2, \"species\": \"setosa\"}, {\"sepalLength\": 5.0, \"sepalWidth\": 3.4, \"petalLength\": 1.6, \"petalWidth\": 0.4, \"species\": \"setosa\"}, {\"sepalLength\": 5.2, \"sepalWidth\": 3.5, \"petalLength\": 1.5, \"petalWidth\": 0.2, \"species\": \"setosa\"}, {\"sepalLength\": 5.2, \"sepalWidth\": 3.4, \"petalLength\": 1.4, \"petalWidth\": 0.2, \"species\": \"setosa\"}, {\"sepalLength\": 4.7, \"sepalWidth\": 3.2, \"petalLength\": 1.6, \"petalWidth\": 0.2, \"species\": \"setosa\"}, {\"sepalLength\": 4.8, \"sepalWidth\": 3.1, \"petalLength\": 1.6, \"petalWidth\": 0.2, \"species\": \"setosa\"}, {\"sepalLength\": 5.4, \"sepalWidth\": 3.4, \"petalLength\": 1.5, \"petalWidth\": 0.4, \"species\": \"setosa\"}, {\"sepalLength\": 5.2, \"sepalWidth\": 4.1, \"petalLength\": 1.5, \"petalWidth\": 0.1, \"species\": \"setosa\"}, {\"sepalLength\": 5.5, \"sepalWidth\": 4.2, \"petalLength\": 1.4, \"petalWidth\": 0.2, \"species\": \"setosa\"}, {\"sepalLength\": 4.9, \"sepalWidth\": 3.1, \"petalLength\": 1.5, \"petalWidth\": 0.2, \"species\": \"setosa\"}, {\"sepalLength\": 5.0, \"sepalWidth\": 3.2, \"petalLength\": 1.2, \"petalWidth\": 0.2, \"species\": \"setosa\"}, {\"sepalLength\": 5.5, \"sepalWidth\": 3.5, \"petalLength\": 1.3, \"petalWidth\": 0.2, \"species\": \"setosa\"}, {\"sepalLength\": 4.9, \"sepalWidth\": 3.6, \"petalLength\": 1.4, \"petalWidth\": 0.1, \"species\": \"setosa\"}, {\"sepalLength\": 4.4, \"sepalWidth\": 3.0, \"petalLength\": 1.3, \"petalWidth\": 0.2, \"species\": \"setosa\"}, {\"sepalLength\": 5.1, \"sepalWidth\": 3.4, \"petalLength\": 1.5, \"petalWidth\": 0.2, \"species\": \"setosa\"}, {\"sepalLength\": 5.0, \"sepalWidth\": 3.5, \"petalLength\": 1.3, \"petalWidth\": 0.30000000000000004, \"species\": \"setosa\"}, {\"sepalLength\": 4.5, \"sepalWidth\": 2.3, \"petalLength\": 1.3, \"petalWidth\": 0.30000000000000004, \"species\": \"setosa\"}, {\"sepalLength\": 4.4, \"sepalWidth\": 3.2, \"petalLength\": 1.3, \"petalWidth\": 0.2, \"species\": \"setosa\"}, {\"sepalLength\": 5.0, \"sepalWidth\": 3.5, \"petalLength\": 1.6, \"petalWidth\": 0.6000000000000001, \"species\": \"setosa\"}, {\"sepalLength\": 5.1, \"sepalWidth\": 3.8, \"petalLength\": 1.9, \"petalWidth\": 0.4, \"species\": \"setosa\"}, {\"sepalLength\": 4.8, \"sepalWidth\": 3.0, \"petalLength\": 1.4, \"petalWidth\": 0.30000000000000004, \"species\": \"setosa\"}, {\"sepalLength\": 5.1, \"sepalWidth\": 3.8, \"petalLength\": 1.6, \"petalWidth\": 0.2, \"species\": \"setosa\"}, {\"sepalLength\": 4.6, \"sepalWidth\": 3.2, \"petalLength\": 1.4, \"petalWidth\": 0.2, \"species\": \"setosa\"}, {\"sepalLength\": 5.3, \"sepalWidth\": 3.7, \"petalLength\": 1.5, \"petalWidth\": 0.2, \"species\": \"setosa\"}, {\"sepalLength\": 5.0, \"sepalWidth\": 3.3, \"petalLength\": 1.4, \"petalWidth\": 0.2, \"species\": \"setosa\"}, {\"sepalLength\": 7.0, \"sepalWidth\": 3.2, \"petalLength\": 4.7, \"petalWidth\": 1.4, \"species\": \"versicolor\"}, {\"sepalLength\": 6.4, \"sepalWidth\": 3.2, \"petalLength\": 4.5, \"petalWidth\": 1.5, \"species\": \"versicolor\"}, {\"sepalLength\": 6.9, \"sepalWidth\": 3.1, \"petalLength\": 4.9, \"petalWidth\": 1.5, \"species\": \"versicolor\"}, {\"sepalLength\": 5.5, \"sepalWidth\": 2.3, \"petalLength\": 4.0, \"petalWidth\": 1.3, \"species\": \"versicolor\"}, {\"sepalLength\": 6.5, \"sepalWidth\": 2.8, \"petalLength\": 4.6, \"petalWidth\": 1.5, \"species\": \"versicolor\"}, {\"sepalLength\": 5.7, \"sepalWidth\": 2.8, \"petalLength\": 4.5, \"petalWidth\": 1.3, \"species\": \"versicolor\"}, {\"sepalLength\": 6.3, \"sepalWidth\": 3.3, \"petalLength\": 4.7, \"petalWidth\": 1.6, \"species\": \"versicolor\"}, {\"sepalLength\": 4.9, \"sepalWidth\": 2.4, \"petalLength\": 3.3, \"petalWidth\": 1.0, \"species\": \"versicolor\"}, {\"sepalLength\": 6.6, \"sepalWidth\": 2.9, \"petalLength\": 4.6, \"petalWidth\": 1.3, \"species\": \"versicolor\"}, {\"sepalLength\": 5.2, \"sepalWidth\": 2.7, \"petalLength\": 3.9, \"petalWidth\": 1.4, \"species\": \"versicolor\"}, {\"sepalLength\": 5.0, \"sepalWidth\": 2.0, \"petalLength\": 3.5, \"petalWidth\": 1.0, \"species\": \"versicolor\"}, {\"sepalLength\": 5.9, \"sepalWidth\": 3.0, \"petalLength\": 4.2, \"petalWidth\": 1.5, \"species\": \"versicolor\"}, {\"sepalLength\": 6.0, \"sepalWidth\": 2.2, \"petalLength\": 4.0, \"petalWidth\": 1.0, \"species\": \"versicolor\"}, {\"sepalLength\": 6.1, \"sepalWidth\": 2.9, \"petalLength\": 4.7, \"petalWidth\": 1.4, \"species\": \"versicolor\"}, {\"sepalLength\": 5.6, \"sepalWidth\": 2.9, \"petalLength\": 3.6, \"petalWidth\": 1.3, \"species\": \"versicolor\"}, {\"sepalLength\": 6.7, \"sepalWidth\": 3.1, \"petalLength\": 4.4, \"petalWidth\": 1.4, \"species\": \"versicolor\"}, {\"sepalLength\": 5.6, \"sepalWidth\": 3.0, \"petalLength\": 4.5, \"petalWidth\": 1.5, \"species\": \"versicolor\"}, {\"sepalLength\": 5.8, \"sepalWidth\": 2.7, \"petalLength\": 4.1, \"petalWidth\": 1.0, \"species\": \"versicolor\"}, {\"sepalLength\": 6.2, \"sepalWidth\": 2.2, \"petalLength\": 4.5, \"petalWidth\": 1.5, \"species\": \"versicolor\"}, {\"sepalLength\": 5.6, \"sepalWidth\": 2.5, \"petalLength\": 3.9, \"petalWidth\": 1.1, \"species\": \"versicolor\"}, {\"sepalLength\": 5.9, \"sepalWidth\": 3.2, \"petalLength\": 4.8, \"petalWidth\": 1.8, \"species\": \"versicolor\"}, {\"sepalLength\": 6.1, \"sepalWidth\": 2.8, \"petalLength\": 4.0, \"petalWidth\": 1.3, \"species\": \"versicolor\"}, {\"sepalLength\": 6.3, \"sepalWidth\": 2.5, \"petalLength\": 4.9, \"petalWidth\": 1.5, \"species\": \"versicolor\"}, {\"sepalLength\": 6.1, \"sepalWidth\": 2.8, \"petalLength\": 4.7, \"petalWidth\": 1.2, \"species\": \"versicolor\"}, {\"sepalLength\": 6.4, \"sepalWidth\": 2.9, \"petalLength\": 4.3, \"petalWidth\": 1.3, \"species\": \"versicolor\"}, {\"sepalLength\": 6.6, \"sepalWidth\": 3.0, \"petalLength\": 4.4, \"petalWidth\": 1.4, \"species\": \"versicolor\"}, {\"sepalLength\": 6.8, \"sepalWidth\": 2.8, \"petalLength\": 4.8, \"petalWidth\": 1.4, \"species\": \"versicolor\"}, {\"sepalLength\": 6.7, \"sepalWidth\": 3.0, \"petalLength\": 5.0, \"petalWidth\": 1.7000000000000002, \"species\": \"versicolor\"}, {\"sepalLength\": 6.0, \"sepalWidth\": 2.9, \"petalLength\": 4.5, \"petalWidth\": 1.5, \"species\": \"versicolor\"}, {\"sepalLength\": 5.7, \"sepalWidth\": 2.6, \"petalLength\": 3.5, \"petalWidth\": 1.0, \"species\": \"versicolor\"}, {\"sepalLength\": 5.5, \"sepalWidth\": 2.4, \"petalLength\": 3.8, \"petalWidth\": 1.1, \"species\": \"versicolor\"}, {\"sepalLength\": 5.5, \"sepalWidth\": 2.4, \"petalLength\": 3.7, \"petalWidth\": 1.0, \"species\": \"versicolor\"}, {\"sepalLength\": 5.8, \"sepalWidth\": 2.7, \"petalLength\": 3.9, \"petalWidth\": 1.2, \"species\": \"versicolor\"}, {\"sepalLength\": 6.0, \"sepalWidth\": 2.7, \"petalLength\": 5.1, \"petalWidth\": 1.6, \"species\": \"versicolor\"}, {\"sepalLength\": 5.4, \"sepalWidth\": 3.0, \"petalLength\": 4.5, \"petalWidth\": 1.5, \"species\": \"versicolor\"}, {\"sepalLength\": 6.0, \"sepalWidth\": 3.4, \"petalLength\": 4.5, \"petalWidth\": 1.6, \"species\": \"versicolor\"}, {\"sepalLength\": 6.7, \"sepalWidth\": 3.1, \"petalLength\": 4.7, \"petalWidth\": 1.5, \"species\": \"versicolor\"}, {\"sepalLength\": 6.3, \"sepalWidth\": 2.3, \"petalLength\": 4.4, \"petalWidth\": 1.3, \"species\": \"versicolor\"}, {\"sepalLength\": 5.6, \"sepalWidth\": 3.0, \"petalLength\": 4.1, \"petalWidth\": 1.3, \"species\": \"versicolor\"}, {\"sepalLength\": 5.5, \"sepalWidth\": 2.5, \"petalLength\": 4.0, \"petalWidth\": 1.3, \"species\": \"versicolor\"}, {\"sepalLength\": 5.5, \"sepalWidth\": 2.6, \"petalLength\": 4.4, \"petalWidth\": 1.2, \"species\": \"versicolor\"}, {\"sepalLength\": 6.1, \"sepalWidth\": 3.0, \"petalLength\": 4.6, \"petalWidth\": 1.4, \"species\": \"versicolor\"}, {\"sepalLength\": 5.8, \"sepalWidth\": 2.6, \"petalLength\": 4.0, \"petalWidth\": 1.2, \"species\": \"versicolor\"}, {\"sepalLength\": 5.0, \"sepalWidth\": 2.3, \"petalLength\": 3.3, \"petalWidth\": 1.0, \"species\": \"versicolor\"}, {\"sepalLength\": 5.6, \"sepalWidth\": 2.7, \"petalLength\": 4.2, \"petalWidth\": 1.3, \"species\": \"versicolor\"}, {\"sepalLength\": 5.7, \"sepalWidth\": 3.0, \"petalLength\": 4.2, \"petalWidth\": 1.2, \"species\": \"versicolor\"}, {\"sepalLength\": 5.7, \"sepalWidth\": 2.9, \"petalLength\": 4.2, \"petalWidth\": 1.3, \"species\": \"versicolor\"}, {\"sepalLength\": 6.2, \"sepalWidth\": 2.9, \"petalLength\": 4.3, \"petalWidth\": 1.3, \"species\": \"versicolor\"}, {\"sepalLength\": 5.1, \"sepalWidth\": 2.5, \"petalLength\": 3.0, \"petalWidth\": 1.1, \"species\": \"versicolor\"}, {\"sepalLength\": 5.7, \"sepalWidth\": 2.8, \"petalLength\": 4.1, \"petalWidth\": 1.3, \"species\": \"versicolor\"}, {\"sepalLength\": 6.3, \"sepalWidth\": 3.3, \"petalLength\": 6.0, \"petalWidth\": 2.5, \"species\": \"virginica\"}, {\"sepalLength\": 5.8, \"sepalWidth\": 2.7, \"petalLength\": 5.1, \"petalWidth\": 1.9, \"species\": \"virginica\"}, {\"sepalLength\": 7.1, \"sepalWidth\": 3.0, \"petalLength\": 5.9, \"petalWidth\": 2.1, \"species\": \"virginica\"}, {\"sepalLength\": 6.3, \"sepalWidth\": 2.9, \"petalLength\": 5.6, \"petalWidth\": 1.8, \"species\": \"virginica\"}, {\"sepalLength\": 6.5, \"sepalWidth\": 3.0, \"petalLength\": 5.8, \"petalWidth\": 2.2, \"species\": \"virginica\"}, {\"sepalLength\": 7.6, \"sepalWidth\": 3.0, \"petalLength\": 6.6, \"petalWidth\": 2.1, \"species\": \"virginica\"}, {\"sepalLength\": 4.9, \"sepalWidth\": 2.5, \"petalLength\": 4.5, \"petalWidth\": 1.7000000000000002, \"species\": \"virginica\"}, {\"sepalLength\": 7.3, \"sepalWidth\": 2.9, \"petalLength\": 6.3, \"petalWidth\": 1.8, \"species\": \"virginica\"}, {\"sepalLength\": 6.7, \"sepalWidth\": 2.5, \"petalLength\": 5.8, \"petalWidth\": 1.8, \"species\": \"virginica\"}, {\"sepalLength\": 7.2, \"sepalWidth\": 3.6, \"petalLength\": 6.1, \"petalWidth\": 2.5, \"species\": \"virginica\"}, {\"sepalLength\": 6.5, \"sepalWidth\": 3.2, \"petalLength\": 5.1, \"petalWidth\": 2.0, \"species\": \"virginica\"}, {\"sepalLength\": 6.4, \"sepalWidth\": 2.7, \"petalLength\": 5.3, \"petalWidth\": 1.9, \"species\": \"virginica\"}, {\"sepalLength\": 6.8, \"sepalWidth\": 3.0, \"petalLength\": 5.5, \"petalWidth\": 2.1, \"species\": \"virginica\"}, {\"sepalLength\": 5.7, \"sepalWidth\": 2.5, \"petalLength\": 5.0, \"petalWidth\": 2.0, \"species\": \"virginica\"}, {\"sepalLength\": 5.8, \"sepalWidth\": 2.8, \"petalLength\": 5.1, \"petalWidth\": 2.4, \"species\": \"virginica\"}, {\"sepalLength\": 6.4, \"sepalWidth\": 3.2, \"petalLength\": 5.3, \"petalWidth\": 2.3, \"species\": \"virginica\"}, {\"sepalLength\": 6.5, \"sepalWidth\": 3.0, \"petalLength\": 5.5, \"petalWidth\": 1.8, \"species\": \"virginica\"}, {\"sepalLength\": 7.7, \"sepalWidth\": 3.8, \"petalLength\": 6.7, \"petalWidth\": 2.2, \"species\": \"virginica\"}, {\"sepalLength\": 7.7, \"sepalWidth\": 2.6, \"petalLength\": 6.9, \"petalWidth\": 2.3, \"species\": \"virginica\"}, {\"sepalLength\": 6.0, \"sepalWidth\": 2.2, \"petalLength\": 5.0, \"petalWidth\": 1.5, \"species\": \"virginica\"}, {\"sepalLength\": 6.9, \"sepalWidth\": 3.2, \"petalLength\": 5.7, \"petalWidth\": 2.3, \"species\": \"virginica\"}, {\"sepalLength\": 5.6, \"sepalWidth\": 2.8, \"petalLength\": 4.9, \"petalWidth\": 2.0, \"species\": \"virginica\"}, {\"sepalLength\": 7.7, \"sepalWidth\": 2.8, \"petalLength\": 6.7, \"petalWidth\": 2.0, \"species\": \"virginica\"}, {\"sepalLength\": 6.3, \"sepalWidth\": 2.7, \"petalLength\": 4.9, \"petalWidth\": 1.8, \"species\": \"virginica\"}, {\"sepalLength\": 6.7, \"sepalWidth\": 3.3, \"petalLength\": 5.7, \"petalWidth\": 2.1, \"species\": \"virginica\"}, {\"sepalLength\": 7.2, \"sepalWidth\": 3.2, \"petalLength\": 6.0, \"petalWidth\": 1.8, \"species\": \"virginica\"}, {\"sepalLength\": 6.2, \"sepalWidth\": 2.8, \"petalLength\": 4.8, \"petalWidth\": 1.8, \"species\": \"virginica\"}, {\"sepalLength\": 6.1, \"sepalWidth\": 3.0, \"petalLength\": 4.9, \"petalWidth\": 1.8, \"species\": \"virginica\"}, {\"sepalLength\": 6.4, \"sepalWidth\": 2.8, \"petalLength\": 5.6, \"petalWidth\": 2.1, \"species\": \"virginica\"}, {\"sepalLength\": 7.2, \"sepalWidth\": 3.0, \"petalLength\": 5.8, \"petalWidth\": 1.6, \"species\": \"virginica\"}, {\"sepalLength\": 7.4, \"sepalWidth\": 2.8, \"petalLength\": 6.1, \"petalWidth\": 1.9, \"species\": \"virginica\"}, {\"sepalLength\": 7.9, \"sepalWidth\": 3.8, \"petalLength\": 6.4, \"petalWidth\": 2.0, \"species\": \"virginica\"}, {\"sepalLength\": 6.4, \"sepalWidth\": 2.8, \"petalLength\": 5.6, \"petalWidth\": 2.2, \"species\": \"virginica\"}, {\"sepalLength\": 6.3, \"sepalWidth\": 2.8, \"petalLength\": 5.1, \"petalWidth\": 1.5, \"species\": \"virginica\"}, {\"sepalLength\": 6.1, \"sepalWidth\": 2.6, \"petalLength\": 5.6, \"petalWidth\": 1.4, \"species\": \"virginica\"}, {\"sepalLength\": 7.7, \"sepalWidth\": 3.0, \"petalLength\": 6.1, \"petalWidth\": 2.3, \"species\": \"virginica\"}, {\"sepalLength\": 6.3, \"sepalWidth\": 3.4, \"petalLength\": 5.6, \"petalWidth\": 2.4, \"species\": \"virginica\"}, {\"sepalLength\": 6.4, \"sepalWidth\": 3.1, \"petalLength\": 5.5, \"petalWidth\": 1.8, \"species\": \"virginica\"}, {\"sepalLength\": 6.0, \"sepalWidth\": 3.0, \"petalLength\": 4.8, \"petalWidth\": 1.8, \"species\": \"virginica\"}, {\"sepalLength\": 6.9, \"sepalWidth\": 3.1, \"petalLength\": 5.4, \"petalWidth\": 2.1, \"species\": \"virginica\"}, {\"sepalLength\": 6.7, \"sepalWidth\": 3.1, \"petalLength\": 5.6, \"petalWidth\": 2.4, \"species\": \"virginica\"}, {\"sepalLength\": 6.9, \"sepalWidth\": 3.1, \"petalLength\": 5.1, \"petalWidth\": 2.3, \"species\": \"virginica\"}, {\"sepalLength\": 5.8, \"sepalWidth\": 2.7, \"petalLength\": 5.1, \"petalWidth\": 1.9, \"species\": \"virginica\"}, {\"sepalLength\": 6.8, \"sepalWidth\": 3.2, \"petalLength\": 5.9, \"petalWidth\": 2.3, \"species\": \"virginica\"}, {\"sepalLength\": 6.7, \"sepalWidth\": 3.3, \"petalLength\": 5.7, \"petalWidth\": 2.5, \"species\": \"virginica\"}, {\"sepalLength\": 6.7, \"sepalWidth\": 3.0, \"petalLength\": 5.2, \"petalWidth\": 2.3, \"species\": \"virginica\"}, {\"sepalLength\": 6.3, \"sepalWidth\": 2.5, \"petalLength\": 5.0, \"petalWidth\": 1.9, \"species\": \"virginica\"}, {\"sepalLength\": 6.5, \"sepalWidth\": 3.0, \"petalLength\": 5.2, \"petalWidth\": 2.0, \"species\": \"virginica\"}, {\"sepalLength\": 6.2, \"sepalWidth\": 3.4, \"petalLength\": 5.4, \"petalWidth\": 2.3, \"species\": \"virginica\"}, {\"sepalLength\": 5.9, \"sepalWidth\": 3.0, \"petalLength\": 5.1, \"petalWidth\": 1.8, \"species\": \"virginica\"}]}}, {\"mode\": \"vega-lite\"});\n",
              "</script>"
            ],
            "text/plain": [
              "alt.HConcatChart(...)"
            ]
          },
          "metadata": {},
          "execution_count": 29
        }
      ],
      "source": [
        "base = alt.Chart(iris).mark_point().encode(\n",
        "    y='sepalWidth',\n",
        "    color='species'\n",
        ")\n",
        "\n",
        "base.encode(x='petalWidth') | base.encode(x='sepalLength')"
      ]
    },
    {
      "cell_type": "markdown",
      "metadata": {
        "id": "mNV0oKJJu27p"
      },
      "source": [
        "Another type of compound chart is a layered chart, built using ``alt.layer()`` or equivalently the ``+`` operator.\n",
        "For example, we could layer points on top of the binned counts from before:"
      ]
    },
    {
      "cell_type": "code",
      "execution_count": 30,
      "metadata": {
        "colab": {
          "base_uri": "https://localhost:8080/",
          "height": 368
        },
        "id": "ecOGoRdLu27p",
        "outputId": "bcf55811-63a8-46cf-a655-b2e39caab325"
      },
      "outputs": [
        {
          "output_type": "execute_result",
          "data": {
            "text/html": [
              "\n",
              "<div id=\"altair-viz-591c1679694249059e15bca7c952966d\"></div>\n",
              "<script type=\"text/javascript\">\n",
              "  var VEGA_DEBUG = (typeof VEGA_DEBUG == \"undefined\") ? {} : VEGA_DEBUG;\n",
              "  (function(spec, embedOpt){\n",
              "    let outputDiv = document.currentScript.previousElementSibling;\n",
              "    if (outputDiv.id !== \"altair-viz-591c1679694249059e15bca7c952966d\") {\n",
              "      outputDiv = document.getElementById(\"altair-viz-591c1679694249059e15bca7c952966d\");\n",
              "    }\n",
              "    const paths = {\n",
              "      \"vega\": \"https://cdn.jsdelivr.net/npm//vega@5?noext\",\n",
              "      \"vega-lib\": \"https://cdn.jsdelivr.net/npm//vega-lib?noext\",\n",
              "      \"vega-lite\": \"https://cdn.jsdelivr.net/npm//vega-lite@4.17.0?noext\",\n",
              "      \"vega-embed\": \"https://cdn.jsdelivr.net/npm//vega-embed@6?noext\",\n",
              "    };\n",
              "\n",
              "    function maybeLoadScript(lib, version) {\n",
              "      var key = `${lib.replace(\"-\", \"\")}_version`;\n",
              "      return (VEGA_DEBUG[key] == version) ?\n",
              "        Promise.resolve(paths[lib]) :\n",
              "        new Promise(function(resolve, reject) {\n",
              "          var s = document.createElement('script');\n",
              "          document.getElementsByTagName(\"head\")[0].appendChild(s);\n",
              "          s.async = true;\n",
              "          s.onload = () => {\n",
              "            VEGA_DEBUG[key] = version;\n",
              "            return resolve(paths[lib]);\n",
              "          };\n",
              "          s.onerror = () => reject(`Error loading script: ${paths[lib]}`);\n",
              "          s.src = paths[lib];\n",
              "        });\n",
              "    }\n",
              "\n",
              "    function showError(err) {\n",
              "      outputDiv.innerHTML = `<div class=\"error\" style=\"color:red;\">${err}</div>`;\n",
              "      throw err;\n",
              "    }\n",
              "\n",
              "    function displayChart(vegaEmbed) {\n",
              "      vegaEmbed(outputDiv, spec, embedOpt)\n",
              "        .catch(err => showError(`Javascript Error: ${err.message}<br>This usually means there's a typo in your chart specification. See the javascript console for the full traceback.`));\n",
              "    }\n",
              "\n",
              "    if(typeof define === \"function\" && define.amd) {\n",
              "      requirejs.config({paths});\n",
              "      require([\"vega-embed\"], displayChart, err => showError(`Error loading script: ${err.message}`));\n",
              "    } else {\n",
              "      maybeLoadScript(\"vega\", \"5\")\n",
              "        .then(() => maybeLoadScript(\"vega-lite\", \"4.17.0\"))\n",
              "        .then(() => maybeLoadScript(\"vega-embed\", \"6\"))\n",
              "        .catch(showError)\n",
              "        .then(() => displayChart(vegaEmbed));\n",
              "    }\n",
              "  })({\"config\": {\"view\": {\"continuousWidth\": 400, \"continuousHeight\": 300}}, \"layer\": [{\"mark\": {\"type\": \"rect\", \"opacity\": 0.3}, \"encoding\": {\"color\": {\"aggregate\": \"count\", \"type\": \"quantitative\"}, \"x\": {\"bin\": true, \"field\": \"petalLength\", \"type\": \"quantitative\"}, \"y\": {\"bin\": true, \"field\": \"sepalLength\", \"type\": \"quantitative\"}}}, {\"mark\": \"point\", \"encoding\": {\"color\": {\"field\": \"species\", \"type\": \"nominal\"}, \"x\": {\"field\": \"petalLength\", \"type\": \"quantitative\"}, \"y\": {\"field\": \"sepalLength\", \"type\": \"quantitative\"}}}], \"data\": {\"name\": \"data-a264acbd6e539a8b3afc0cb5f240fb57\"}, \"$schema\": \"https://vega.github.io/schema/vega-lite/v4.17.0.json\", \"datasets\": {\"data-a264acbd6e539a8b3afc0cb5f240fb57\": [{\"sepalLength\": 5.1, \"sepalWidth\": 3.5, \"petalLength\": 1.4, \"petalWidth\": 0.2, \"species\": \"setosa\"}, {\"sepalLength\": 4.9, \"sepalWidth\": 3.0, \"petalLength\": 1.4, \"petalWidth\": 0.2, \"species\": \"setosa\"}, {\"sepalLength\": 4.7, \"sepalWidth\": 3.2, \"petalLength\": 1.3, \"petalWidth\": 0.2, \"species\": \"setosa\"}, {\"sepalLength\": 4.6, \"sepalWidth\": 3.1, \"petalLength\": 1.5, \"petalWidth\": 0.2, \"species\": \"setosa\"}, {\"sepalLength\": 5.0, \"sepalWidth\": 3.6, \"petalLength\": 1.4, \"petalWidth\": 0.2, \"species\": \"setosa\"}, {\"sepalLength\": 5.4, \"sepalWidth\": 3.9, \"petalLength\": 1.7000000000000002, \"petalWidth\": 0.4, \"species\": \"setosa\"}, {\"sepalLength\": 4.6, \"sepalWidth\": 3.4, \"petalLength\": 1.4, \"petalWidth\": 0.30000000000000004, \"species\": \"setosa\"}, {\"sepalLength\": 5.0, \"sepalWidth\": 3.4, \"petalLength\": 1.5, \"petalWidth\": 0.2, \"species\": \"setosa\"}, {\"sepalLength\": 4.4, \"sepalWidth\": 2.9, \"petalLength\": 1.4, \"petalWidth\": 0.2, \"species\": \"setosa\"}, {\"sepalLength\": 4.9, \"sepalWidth\": 3.1, \"petalLength\": 1.5, \"petalWidth\": 0.1, \"species\": \"setosa\"}, {\"sepalLength\": 5.4, \"sepalWidth\": 3.7, \"petalLength\": 1.5, \"petalWidth\": 0.2, \"species\": \"setosa\"}, {\"sepalLength\": 4.8, \"sepalWidth\": 3.4, \"petalLength\": 1.6, \"petalWidth\": 0.2, \"species\": \"setosa\"}, {\"sepalLength\": 4.8, \"sepalWidth\": 3.0, \"petalLength\": 1.4, \"petalWidth\": 0.1, \"species\": \"setosa\"}, {\"sepalLength\": 4.3, \"sepalWidth\": 3.0, \"petalLength\": 1.1, \"petalWidth\": 0.1, \"species\": \"setosa\"}, {\"sepalLength\": 5.8, \"sepalWidth\": 4.0, \"petalLength\": 1.2, \"petalWidth\": 0.2, \"species\": \"setosa\"}, {\"sepalLength\": 5.7, \"sepalWidth\": 4.4, \"petalLength\": 1.5, \"petalWidth\": 0.4, \"species\": \"setosa\"}, {\"sepalLength\": 5.4, \"sepalWidth\": 3.9, \"petalLength\": 1.3, \"petalWidth\": 0.4, \"species\": \"setosa\"}, {\"sepalLength\": 5.1, \"sepalWidth\": 3.5, \"petalLength\": 1.4, \"petalWidth\": 0.30000000000000004, \"species\": \"setosa\"}, {\"sepalLength\": 5.7, \"sepalWidth\": 3.8, \"petalLength\": 1.7000000000000002, \"petalWidth\": 0.30000000000000004, \"species\": \"setosa\"}, {\"sepalLength\": 5.1, \"sepalWidth\": 3.8, \"petalLength\": 1.5, \"petalWidth\": 0.30000000000000004, \"species\": \"setosa\"}, {\"sepalLength\": 5.4, \"sepalWidth\": 3.4, \"petalLength\": 1.7000000000000002, \"petalWidth\": 0.2, \"species\": \"setosa\"}, {\"sepalLength\": 5.1, \"sepalWidth\": 3.7, \"petalLength\": 1.5, \"petalWidth\": 0.4, \"species\": \"setosa\"}, {\"sepalLength\": 4.6, \"sepalWidth\": 3.6, \"petalLength\": 1.0, \"petalWidth\": 0.2, \"species\": \"setosa\"}, {\"sepalLength\": 5.1, \"sepalWidth\": 3.3, \"petalLength\": 1.7000000000000002, \"petalWidth\": 0.5, \"species\": \"setosa\"}, {\"sepalLength\": 4.8, \"sepalWidth\": 3.4, \"petalLength\": 1.9, \"petalWidth\": 0.2, \"species\": \"setosa\"}, {\"sepalLength\": 5.0, \"sepalWidth\": 3.0, \"petalLength\": 1.6, \"petalWidth\": 0.2, \"species\": \"setosa\"}, {\"sepalLength\": 5.0, \"sepalWidth\": 3.4, \"petalLength\": 1.6, \"petalWidth\": 0.4, \"species\": \"setosa\"}, {\"sepalLength\": 5.2, \"sepalWidth\": 3.5, \"petalLength\": 1.5, \"petalWidth\": 0.2, \"species\": \"setosa\"}, {\"sepalLength\": 5.2, \"sepalWidth\": 3.4, \"petalLength\": 1.4, \"petalWidth\": 0.2, \"species\": \"setosa\"}, {\"sepalLength\": 4.7, \"sepalWidth\": 3.2, \"petalLength\": 1.6, \"petalWidth\": 0.2, \"species\": \"setosa\"}, {\"sepalLength\": 4.8, \"sepalWidth\": 3.1, \"petalLength\": 1.6, \"petalWidth\": 0.2, \"species\": \"setosa\"}, {\"sepalLength\": 5.4, \"sepalWidth\": 3.4, \"petalLength\": 1.5, \"petalWidth\": 0.4, \"species\": \"setosa\"}, {\"sepalLength\": 5.2, \"sepalWidth\": 4.1, \"petalLength\": 1.5, \"petalWidth\": 0.1, \"species\": \"setosa\"}, {\"sepalLength\": 5.5, \"sepalWidth\": 4.2, \"petalLength\": 1.4, \"petalWidth\": 0.2, \"species\": \"setosa\"}, {\"sepalLength\": 4.9, \"sepalWidth\": 3.1, \"petalLength\": 1.5, \"petalWidth\": 0.2, \"species\": \"setosa\"}, {\"sepalLength\": 5.0, \"sepalWidth\": 3.2, \"petalLength\": 1.2, \"petalWidth\": 0.2, \"species\": \"setosa\"}, {\"sepalLength\": 5.5, \"sepalWidth\": 3.5, \"petalLength\": 1.3, \"petalWidth\": 0.2, \"species\": \"setosa\"}, {\"sepalLength\": 4.9, \"sepalWidth\": 3.6, \"petalLength\": 1.4, \"petalWidth\": 0.1, \"species\": \"setosa\"}, {\"sepalLength\": 4.4, \"sepalWidth\": 3.0, \"petalLength\": 1.3, \"petalWidth\": 0.2, \"species\": \"setosa\"}, {\"sepalLength\": 5.1, \"sepalWidth\": 3.4, \"petalLength\": 1.5, \"petalWidth\": 0.2, \"species\": \"setosa\"}, {\"sepalLength\": 5.0, \"sepalWidth\": 3.5, \"petalLength\": 1.3, \"petalWidth\": 0.30000000000000004, \"species\": \"setosa\"}, {\"sepalLength\": 4.5, \"sepalWidth\": 2.3, \"petalLength\": 1.3, \"petalWidth\": 0.30000000000000004, \"species\": \"setosa\"}, {\"sepalLength\": 4.4, \"sepalWidth\": 3.2, \"petalLength\": 1.3, \"petalWidth\": 0.2, \"species\": \"setosa\"}, {\"sepalLength\": 5.0, \"sepalWidth\": 3.5, \"petalLength\": 1.6, \"petalWidth\": 0.6000000000000001, \"species\": \"setosa\"}, {\"sepalLength\": 5.1, \"sepalWidth\": 3.8, \"petalLength\": 1.9, \"petalWidth\": 0.4, \"species\": \"setosa\"}, {\"sepalLength\": 4.8, \"sepalWidth\": 3.0, \"petalLength\": 1.4, \"petalWidth\": 0.30000000000000004, \"species\": \"setosa\"}, {\"sepalLength\": 5.1, \"sepalWidth\": 3.8, \"petalLength\": 1.6, \"petalWidth\": 0.2, \"species\": \"setosa\"}, {\"sepalLength\": 4.6, \"sepalWidth\": 3.2, \"petalLength\": 1.4, \"petalWidth\": 0.2, \"species\": \"setosa\"}, {\"sepalLength\": 5.3, \"sepalWidth\": 3.7, \"petalLength\": 1.5, \"petalWidth\": 0.2, \"species\": \"setosa\"}, {\"sepalLength\": 5.0, \"sepalWidth\": 3.3, \"petalLength\": 1.4, \"petalWidth\": 0.2, \"species\": \"setosa\"}, {\"sepalLength\": 7.0, \"sepalWidth\": 3.2, \"petalLength\": 4.7, \"petalWidth\": 1.4, \"species\": \"versicolor\"}, {\"sepalLength\": 6.4, \"sepalWidth\": 3.2, \"petalLength\": 4.5, \"petalWidth\": 1.5, \"species\": \"versicolor\"}, {\"sepalLength\": 6.9, \"sepalWidth\": 3.1, \"petalLength\": 4.9, \"petalWidth\": 1.5, \"species\": \"versicolor\"}, {\"sepalLength\": 5.5, \"sepalWidth\": 2.3, \"petalLength\": 4.0, \"petalWidth\": 1.3, \"species\": \"versicolor\"}, {\"sepalLength\": 6.5, \"sepalWidth\": 2.8, \"petalLength\": 4.6, \"petalWidth\": 1.5, \"species\": \"versicolor\"}, {\"sepalLength\": 5.7, \"sepalWidth\": 2.8, \"petalLength\": 4.5, \"petalWidth\": 1.3, \"species\": \"versicolor\"}, {\"sepalLength\": 6.3, \"sepalWidth\": 3.3, \"petalLength\": 4.7, \"petalWidth\": 1.6, \"species\": \"versicolor\"}, {\"sepalLength\": 4.9, \"sepalWidth\": 2.4, \"petalLength\": 3.3, \"petalWidth\": 1.0, \"species\": \"versicolor\"}, {\"sepalLength\": 6.6, \"sepalWidth\": 2.9, \"petalLength\": 4.6, \"petalWidth\": 1.3, \"species\": \"versicolor\"}, {\"sepalLength\": 5.2, \"sepalWidth\": 2.7, \"petalLength\": 3.9, \"petalWidth\": 1.4, \"species\": \"versicolor\"}, {\"sepalLength\": 5.0, \"sepalWidth\": 2.0, \"petalLength\": 3.5, \"petalWidth\": 1.0, \"species\": \"versicolor\"}, {\"sepalLength\": 5.9, \"sepalWidth\": 3.0, \"petalLength\": 4.2, \"petalWidth\": 1.5, \"species\": \"versicolor\"}, {\"sepalLength\": 6.0, \"sepalWidth\": 2.2, \"petalLength\": 4.0, \"petalWidth\": 1.0, \"species\": \"versicolor\"}, {\"sepalLength\": 6.1, \"sepalWidth\": 2.9, \"petalLength\": 4.7, \"petalWidth\": 1.4, \"species\": \"versicolor\"}, {\"sepalLength\": 5.6, \"sepalWidth\": 2.9, \"petalLength\": 3.6, \"petalWidth\": 1.3, \"species\": \"versicolor\"}, {\"sepalLength\": 6.7, \"sepalWidth\": 3.1, \"petalLength\": 4.4, \"petalWidth\": 1.4, \"species\": \"versicolor\"}, {\"sepalLength\": 5.6, \"sepalWidth\": 3.0, \"petalLength\": 4.5, \"petalWidth\": 1.5, \"species\": \"versicolor\"}, {\"sepalLength\": 5.8, \"sepalWidth\": 2.7, \"petalLength\": 4.1, \"petalWidth\": 1.0, \"species\": \"versicolor\"}, {\"sepalLength\": 6.2, \"sepalWidth\": 2.2, \"petalLength\": 4.5, \"petalWidth\": 1.5, \"species\": \"versicolor\"}, {\"sepalLength\": 5.6, \"sepalWidth\": 2.5, \"petalLength\": 3.9, \"petalWidth\": 1.1, \"species\": \"versicolor\"}, {\"sepalLength\": 5.9, \"sepalWidth\": 3.2, \"petalLength\": 4.8, \"petalWidth\": 1.8, \"species\": \"versicolor\"}, {\"sepalLength\": 6.1, \"sepalWidth\": 2.8, \"petalLength\": 4.0, \"petalWidth\": 1.3, \"species\": \"versicolor\"}, {\"sepalLength\": 6.3, \"sepalWidth\": 2.5, \"petalLength\": 4.9, \"petalWidth\": 1.5, \"species\": \"versicolor\"}, {\"sepalLength\": 6.1, \"sepalWidth\": 2.8, \"petalLength\": 4.7, \"petalWidth\": 1.2, \"species\": \"versicolor\"}, {\"sepalLength\": 6.4, \"sepalWidth\": 2.9, \"petalLength\": 4.3, \"petalWidth\": 1.3, \"species\": \"versicolor\"}, {\"sepalLength\": 6.6, \"sepalWidth\": 3.0, \"petalLength\": 4.4, \"petalWidth\": 1.4, \"species\": \"versicolor\"}, {\"sepalLength\": 6.8, \"sepalWidth\": 2.8, \"petalLength\": 4.8, \"petalWidth\": 1.4, \"species\": \"versicolor\"}, {\"sepalLength\": 6.7, \"sepalWidth\": 3.0, \"petalLength\": 5.0, \"petalWidth\": 1.7000000000000002, \"species\": \"versicolor\"}, {\"sepalLength\": 6.0, \"sepalWidth\": 2.9, \"petalLength\": 4.5, \"petalWidth\": 1.5, \"species\": \"versicolor\"}, {\"sepalLength\": 5.7, \"sepalWidth\": 2.6, \"petalLength\": 3.5, \"petalWidth\": 1.0, \"species\": \"versicolor\"}, {\"sepalLength\": 5.5, \"sepalWidth\": 2.4, \"petalLength\": 3.8, \"petalWidth\": 1.1, \"species\": \"versicolor\"}, {\"sepalLength\": 5.5, \"sepalWidth\": 2.4, \"petalLength\": 3.7, \"petalWidth\": 1.0, \"species\": \"versicolor\"}, {\"sepalLength\": 5.8, \"sepalWidth\": 2.7, \"petalLength\": 3.9, \"petalWidth\": 1.2, \"species\": \"versicolor\"}, {\"sepalLength\": 6.0, \"sepalWidth\": 2.7, \"petalLength\": 5.1, \"petalWidth\": 1.6, \"species\": \"versicolor\"}, {\"sepalLength\": 5.4, \"sepalWidth\": 3.0, \"petalLength\": 4.5, \"petalWidth\": 1.5, \"species\": \"versicolor\"}, {\"sepalLength\": 6.0, \"sepalWidth\": 3.4, \"petalLength\": 4.5, \"petalWidth\": 1.6, \"species\": \"versicolor\"}, {\"sepalLength\": 6.7, \"sepalWidth\": 3.1, \"petalLength\": 4.7, \"petalWidth\": 1.5, \"species\": \"versicolor\"}, {\"sepalLength\": 6.3, \"sepalWidth\": 2.3, \"petalLength\": 4.4, \"petalWidth\": 1.3, \"species\": \"versicolor\"}, {\"sepalLength\": 5.6, \"sepalWidth\": 3.0, \"petalLength\": 4.1, \"petalWidth\": 1.3, \"species\": \"versicolor\"}, {\"sepalLength\": 5.5, \"sepalWidth\": 2.5, \"petalLength\": 4.0, \"petalWidth\": 1.3, \"species\": \"versicolor\"}, {\"sepalLength\": 5.5, \"sepalWidth\": 2.6, \"petalLength\": 4.4, \"petalWidth\": 1.2, \"species\": \"versicolor\"}, {\"sepalLength\": 6.1, \"sepalWidth\": 3.0, \"petalLength\": 4.6, \"petalWidth\": 1.4, \"species\": \"versicolor\"}, {\"sepalLength\": 5.8, \"sepalWidth\": 2.6, \"petalLength\": 4.0, \"petalWidth\": 1.2, \"species\": \"versicolor\"}, {\"sepalLength\": 5.0, \"sepalWidth\": 2.3, \"petalLength\": 3.3, \"petalWidth\": 1.0, \"species\": \"versicolor\"}, {\"sepalLength\": 5.6, \"sepalWidth\": 2.7, \"petalLength\": 4.2, \"petalWidth\": 1.3, \"species\": \"versicolor\"}, {\"sepalLength\": 5.7, \"sepalWidth\": 3.0, \"petalLength\": 4.2, \"petalWidth\": 1.2, \"species\": \"versicolor\"}, {\"sepalLength\": 5.7, \"sepalWidth\": 2.9, \"petalLength\": 4.2, \"petalWidth\": 1.3, \"species\": \"versicolor\"}, {\"sepalLength\": 6.2, \"sepalWidth\": 2.9, \"petalLength\": 4.3, \"petalWidth\": 1.3, \"species\": \"versicolor\"}, {\"sepalLength\": 5.1, \"sepalWidth\": 2.5, \"petalLength\": 3.0, \"petalWidth\": 1.1, \"species\": \"versicolor\"}, {\"sepalLength\": 5.7, \"sepalWidth\": 2.8, \"petalLength\": 4.1, \"petalWidth\": 1.3, \"species\": \"versicolor\"}, {\"sepalLength\": 6.3, \"sepalWidth\": 3.3, \"petalLength\": 6.0, \"petalWidth\": 2.5, \"species\": \"virginica\"}, {\"sepalLength\": 5.8, \"sepalWidth\": 2.7, \"petalLength\": 5.1, \"petalWidth\": 1.9, \"species\": \"virginica\"}, {\"sepalLength\": 7.1, \"sepalWidth\": 3.0, \"petalLength\": 5.9, \"petalWidth\": 2.1, \"species\": \"virginica\"}, {\"sepalLength\": 6.3, \"sepalWidth\": 2.9, \"petalLength\": 5.6, \"petalWidth\": 1.8, \"species\": \"virginica\"}, {\"sepalLength\": 6.5, \"sepalWidth\": 3.0, \"petalLength\": 5.8, \"petalWidth\": 2.2, \"species\": \"virginica\"}, {\"sepalLength\": 7.6, \"sepalWidth\": 3.0, \"petalLength\": 6.6, \"petalWidth\": 2.1, \"species\": \"virginica\"}, {\"sepalLength\": 4.9, \"sepalWidth\": 2.5, \"petalLength\": 4.5, \"petalWidth\": 1.7000000000000002, \"species\": \"virginica\"}, {\"sepalLength\": 7.3, \"sepalWidth\": 2.9, \"petalLength\": 6.3, \"petalWidth\": 1.8, \"species\": \"virginica\"}, {\"sepalLength\": 6.7, \"sepalWidth\": 2.5, \"petalLength\": 5.8, \"petalWidth\": 1.8, \"species\": \"virginica\"}, {\"sepalLength\": 7.2, \"sepalWidth\": 3.6, \"petalLength\": 6.1, \"petalWidth\": 2.5, \"species\": \"virginica\"}, {\"sepalLength\": 6.5, \"sepalWidth\": 3.2, \"petalLength\": 5.1, \"petalWidth\": 2.0, \"species\": \"virginica\"}, {\"sepalLength\": 6.4, \"sepalWidth\": 2.7, \"petalLength\": 5.3, \"petalWidth\": 1.9, \"species\": \"virginica\"}, {\"sepalLength\": 6.8, \"sepalWidth\": 3.0, \"petalLength\": 5.5, \"petalWidth\": 2.1, \"species\": \"virginica\"}, {\"sepalLength\": 5.7, \"sepalWidth\": 2.5, \"petalLength\": 5.0, \"petalWidth\": 2.0, \"species\": \"virginica\"}, {\"sepalLength\": 5.8, \"sepalWidth\": 2.8, \"petalLength\": 5.1, \"petalWidth\": 2.4, \"species\": \"virginica\"}, {\"sepalLength\": 6.4, \"sepalWidth\": 3.2, \"petalLength\": 5.3, \"petalWidth\": 2.3, \"species\": \"virginica\"}, {\"sepalLength\": 6.5, \"sepalWidth\": 3.0, \"petalLength\": 5.5, \"petalWidth\": 1.8, \"species\": \"virginica\"}, {\"sepalLength\": 7.7, \"sepalWidth\": 3.8, \"petalLength\": 6.7, \"petalWidth\": 2.2, \"species\": \"virginica\"}, {\"sepalLength\": 7.7, \"sepalWidth\": 2.6, \"petalLength\": 6.9, \"petalWidth\": 2.3, \"species\": \"virginica\"}, {\"sepalLength\": 6.0, \"sepalWidth\": 2.2, \"petalLength\": 5.0, \"petalWidth\": 1.5, \"species\": \"virginica\"}, {\"sepalLength\": 6.9, \"sepalWidth\": 3.2, \"petalLength\": 5.7, \"petalWidth\": 2.3, \"species\": \"virginica\"}, {\"sepalLength\": 5.6, \"sepalWidth\": 2.8, \"petalLength\": 4.9, \"petalWidth\": 2.0, \"species\": \"virginica\"}, {\"sepalLength\": 7.7, \"sepalWidth\": 2.8, \"petalLength\": 6.7, \"petalWidth\": 2.0, \"species\": \"virginica\"}, {\"sepalLength\": 6.3, \"sepalWidth\": 2.7, \"petalLength\": 4.9, \"petalWidth\": 1.8, \"species\": \"virginica\"}, {\"sepalLength\": 6.7, \"sepalWidth\": 3.3, \"petalLength\": 5.7, \"petalWidth\": 2.1, \"species\": \"virginica\"}, {\"sepalLength\": 7.2, \"sepalWidth\": 3.2, \"petalLength\": 6.0, \"petalWidth\": 1.8, \"species\": \"virginica\"}, {\"sepalLength\": 6.2, \"sepalWidth\": 2.8, \"petalLength\": 4.8, \"petalWidth\": 1.8, \"species\": \"virginica\"}, {\"sepalLength\": 6.1, \"sepalWidth\": 3.0, \"petalLength\": 4.9, \"petalWidth\": 1.8, \"species\": \"virginica\"}, {\"sepalLength\": 6.4, \"sepalWidth\": 2.8, \"petalLength\": 5.6, \"petalWidth\": 2.1, \"species\": \"virginica\"}, {\"sepalLength\": 7.2, \"sepalWidth\": 3.0, \"petalLength\": 5.8, \"petalWidth\": 1.6, \"species\": \"virginica\"}, {\"sepalLength\": 7.4, \"sepalWidth\": 2.8, \"petalLength\": 6.1, \"petalWidth\": 1.9, \"species\": \"virginica\"}, {\"sepalLength\": 7.9, \"sepalWidth\": 3.8, \"petalLength\": 6.4, \"petalWidth\": 2.0, \"species\": \"virginica\"}, {\"sepalLength\": 6.4, \"sepalWidth\": 2.8, \"petalLength\": 5.6, \"petalWidth\": 2.2, \"species\": \"virginica\"}, {\"sepalLength\": 6.3, \"sepalWidth\": 2.8, \"petalLength\": 5.1, \"petalWidth\": 1.5, \"species\": \"virginica\"}, {\"sepalLength\": 6.1, \"sepalWidth\": 2.6, \"petalLength\": 5.6, \"petalWidth\": 1.4, \"species\": \"virginica\"}, {\"sepalLength\": 7.7, \"sepalWidth\": 3.0, \"petalLength\": 6.1, \"petalWidth\": 2.3, \"species\": \"virginica\"}, {\"sepalLength\": 6.3, \"sepalWidth\": 3.4, \"petalLength\": 5.6, \"petalWidth\": 2.4, \"species\": \"virginica\"}, {\"sepalLength\": 6.4, \"sepalWidth\": 3.1, \"petalLength\": 5.5, \"petalWidth\": 1.8, \"species\": \"virginica\"}, {\"sepalLength\": 6.0, \"sepalWidth\": 3.0, \"petalLength\": 4.8, \"petalWidth\": 1.8, \"species\": \"virginica\"}, {\"sepalLength\": 6.9, \"sepalWidth\": 3.1, \"petalLength\": 5.4, \"petalWidth\": 2.1, \"species\": \"virginica\"}, {\"sepalLength\": 6.7, \"sepalWidth\": 3.1, \"petalLength\": 5.6, \"petalWidth\": 2.4, \"species\": \"virginica\"}, {\"sepalLength\": 6.9, \"sepalWidth\": 3.1, \"petalLength\": 5.1, \"petalWidth\": 2.3, \"species\": \"virginica\"}, {\"sepalLength\": 5.8, \"sepalWidth\": 2.7, \"petalLength\": 5.1, \"petalWidth\": 1.9, \"species\": \"virginica\"}, {\"sepalLength\": 6.8, \"sepalWidth\": 3.2, \"petalLength\": 5.9, \"petalWidth\": 2.3, \"species\": \"virginica\"}, {\"sepalLength\": 6.7, \"sepalWidth\": 3.3, \"petalLength\": 5.7, \"petalWidth\": 2.5, \"species\": \"virginica\"}, {\"sepalLength\": 6.7, \"sepalWidth\": 3.0, \"petalLength\": 5.2, \"petalWidth\": 2.3, \"species\": \"virginica\"}, {\"sepalLength\": 6.3, \"sepalWidth\": 2.5, \"petalLength\": 5.0, \"petalWidth\": 1.9, \"species\": \"virginica\"}, {\"sepalLength\": 6.5, \"sepalWidth\": 3.0, \"petalLength\": 5.2, \"petalWidth\": 2.0, \"species\": \"virginica\"}, {\"sepalLength\": 6.2, \"sepalWidth\": 3.4, \"petalLength\": 5.4, \"petalWidth\": 2.3, \"species\": \"virginica\"}, {\"sepalLength\": 5.9, \"sepalWidth\": 3.0, \"petalLength\": 5.1, \"petalWidth\": 1.8, \"species\": \"virginica\"}]}}, {\"mode\": \"vega-lite\"});\n",
              "</script>"
            ],
            "text/plain": [
              "alt.LayerChart(...)"
            ]
          },
          "metadata": {},
          "execution_count": 30
        }
      ],
      "source": [
        "counts = alt.Chart(iris).mark_rect(opacity=0.3).encode(\n",
        "    x=alt.X('petalLength', bin=True),\n",
        "    y=alt.Y('sepalLength', bin=True),\n",
        "    color='count()'\n",
        ")\n",
        "\n",
        "points = alt.Chart(iris).mark_point().encode(\n",
        "    x='petalLength',\n",
        "    y='sepalLength',\n",
        "    color='species'\n",
        ")\n",
        "\n",
        "counts + points"
      ]
    },
    {
      "cell_type": "markdown",
      "metadata": {
        "id": "YT1ptfweu27p"
      },
      "source": [
        "We'll see a use of this kind of chart stacking in the interactivity section, below."
      ]
    },
    {
      "cell_type": "markdown",
      "metadata": {
        "id": "bql0ZQyvu27q"
      },
      "source": [
        "## 7. Interactivity: Selections\n",
        "\n",
        "Let's return to our scatter plot, and take a look at the other types of interactivity that Altair offers:"
      ]
    },
    {
      "cell_type": "code",
      "execution_count": 31,
      "metadata": {
        "colab": {
          "base_uri": "https://localhost:8080/",
          "height": 363
        },
        "id": "T_dti3ZZu27q",
        "outputId": "56749e47-6a95-46c6-f52c-eda1e8cbe25c"
      },
      "outputs": [
        {
          "output_type": "execute_result",
          "data": {
            "text/html": [
              "\n",
              "<div id=\"altair-viz-6e56c34ee7064f94823d7464c00e1709\"></div>\n",
              "<script type=\"text/javascript\">\n",
              "  var VEGA_DEBUG = (typeof VEGA_DEBUG == \"undefined\") ? {} : VEGA_DEBUG;\n",
              "  (function(spec, embedOpt){\n",
              "    let outputDiv = document.currentScript.previousElementSibling;\n",
              "    if (outputDiv.id !== \"altair-viz-6e56c34ee7064f94823d7464c00e1709\") {\n",
              "      outputDiv = document.getElementById(\"altair-viz-6e56c34ee7064f94823d7464c00e1709\");\n",
              "    }\n",
              "    const paths = {\n",
              "      \"vega\": \"https://cdn.jsdelivr.net/npm//vega@5?noext\",\n",
              "      \"vega-lib\": \"https://cdn.jsdelivr.net/npm//vega-lib?noext\",\n",
              "      \"vega-lite\": \"https://cdn.jsdelivr.net/npm//vega-lite@4.17.0?noext\",\n",
              "      \"vega-embed\": \"https://cdn.jsdelivr.net/npm//vega-embed@6?noext\",\n",
              "    };\n",
              "\n",
              "    function maybeLoadScript(lib, version) {\n",
              "      var key = `${lib.replace(\"-\", \"\")}_version`;\n",
              "      return (VEGA_DEBUG[key] == version) ?\n",
              "        Promise.resolve(paths[lib]) :\n",
              "        new Promise(function(resolve, reject) {\n",
              "          var s = document.createElement('script');\n",
              "          document.getElementsByTagName(\"head\")[0].appendChild(s);\n",
              "          s.async = true;\n",
              "          s.onload = () => {\n",
              "            VEGA_DEBUG[key] = version;\n",
              "            return resolve(paths[lib]);\n",
              "          };\n",
              "          s.onerror = () => reject(`Error loading script: ${paths[lib]}`);\n",
              "          s.src = paths[lib];\n",
              "        });\n",
              "    }\n",
              "\n",
              "    function showError(err) {\n",
              "      outputDiv.innerHTML = `<div class=\"error\" style=\"color:red;\">${err}</div>`;\n",
              "      throw err;\n",
              "    }\n",
              "\n",
              "    function displayChart(vegaEmbed) {\n",
              "      vegaEmbed(outputDiv, spec, embedOpt)\n",
              "        .catch(err => showError(`Javascript Error: ${err.message}<br>This usually means there's a typo in your chart specification. See the javascript console for the full traceback.`));\n",
              "    }\n",
              "\n",
              "    if(typeof define === \"function\" && define.amd) {\n",
              "      requirejs.config({paths});\n",
              "      require([\"vega-embed\"], displayChart, err => showError(`Error loading script: ${err.message}`));\n",
              "    } else {\n",
              "      maybeLoadScript(\"vega\", \"5\")\n",
              "        .then(() => maybeLoadScript(\"vega-lite\", \"4.17.0\"))\n",
              "        .then(() => maybeLoadScript(\"vega-embed\", \"6\"))\n",
              "        .catch(showError)\n",
              "        .then(() => displayChart(vegaEmbed));\n",
              "    }\n",
              "  })({\"config\": {\"view\": {\"continuousWidth\": 400, \"continuousHeight\": 300}}, \"data\": {\"name\": \"data-a264acbd6e539a8b3afc0cb5f240fb57\"}, \"mark\": \"point\", \"encoding\": {\"color\": {\"field\": \"species\", \"type\": \"nominal\"}, \"x\": {\"field\": \"petalLength\", \"type\": \"quantitative\"}, \"y\": {\"field\": \"petalWidth\", \"type\": \"quantitative\"}}, \"$schema\": \"https://vega.github.io/schema/vega-lite/v4.17.0.json\", \"datasets\": {\"data-a264acbd6e539a8b3afc0cb5f240fb57\": [{\"sepalLength\": 5.1, \"sepalWidth\": 3.5, \"petalLength\": 1.4, \"petalWidth\": 0.2, \"species\": \"setosa\"}, {\"sepalLength\": 4.9, \"sepalWidth\": 3.0, \"petalLength\": 1.4, \"petalWidth\": 0.2, \"species\": \"setosa\"}, {\"sepalLength\": 4.7, \"sepalWidth\": 3.2, \"petalLength\": 1.3, \"petalWidth\": 0.2, \"species\": \"setosa\"}, {\"sepalLength\": 4.6, \"sepalWidth\": 3.1, \"petalLength\": 1.5, \"petalWidth\": 0.2, \"species\": \"setosa\"}, {\"sepalLength\": 5.0, \"sepalWidth\": 3.6, \"petalLength\": 1.4, \"petalWidth\": 0.2, \"species\": \"setosa\"}, {\"sepalLength\": 5.4, \"sepalWidth\": 3.9, \"petalLength\": 1.7000000000000002, \"petalWidth\": 0.4, \"species\": \"setosa\"}, {\"sepalLength\": 4.6, \"sepalWidth\": 3.4, \"petalLength\": 1.4, \"petalWidth\": 0.30000000000000004, \"species\": \"setosa\"}, {\"sepalLength\": 5.0, \"sepalWidth\": 3.4, \"petalLength\": 1.5, \"petalWidth\": 0.2, \"species\": \"setosa\"}, {\"sepalLength\": 4.4, \"sepalWidth\": 2.9, \"petalLength\": 1.4, \"petalWidth\": 0.2, \"species\": \"setosa\"}, {\"sepalLength\": 4.9, \"sepalWidth\": 3.1, \"petalLength\": 1.5, \"petalWidth\": 0.1, \"species\": \"setosa\"}, {\"sepalLength\": 5.4, \"sepalWidth\": 3.7, \"petalLength\": 1.5, \"petalWidth\": 0.2, \"species\": \"setosa\"}, {\"sepalLength\": 4.8, \"sepalWidth\": 3.4, \"petalLength\": 1.6, \"petalWidth\": 0.2, \"species\": \"setosa\"}, {\"sepalLength\": 4.8, \"sepalWidth\": 3.0, \"petalLength\": 1.4, \"petalWidth\": 0.1, \"species\": \"setosa\"}, {\"sepalLength\": 4.3, \"sepalWidth\": 3.0, \"petalLength\": 1.1, \"petalWidth\": 0.1, \"species\": \"setosa\"}, {\"sepalLength\": 5.8, \"sepalWidth\": 4.0, \"petalLength\": 1.2, \"petalWidth\": 0.2, \"species\": \"setosa\"}, {\"sepalLength\": 5.7, \"sepalWidth\": 4.4, \"petalLength\": 1.5, \"petalWidth\": 0.4, \"species\": \"setosa\"}, {\"sepalLength\": 5.4, \"sepalWidth\": 3.9, \"petalLength\": 1.3, \"petalWidth\": 0.4, \"species\": \"setosa\"}, {\"sepalLength\": 5.1, \"sepalWidth\": 3.5, \"petalLength\": 1.4, \"petalWidth\": 0.30000000000000004, \"species\": \"setosa\"}, {\"sepalLength\": 5.7, \"sepalWidth\": 3.8, \"petalLength\": 1.7000000000000002, \"petalWidth\": 0.30000000000000004, \"species\": \"setosa\"}, {\"sepalLength\": 5.1, \"sepalWidth\": 3.8, \"petalLength\": 1.5, \"petalWidth\": 0.30000000000000004, \"species\": \"setosa\"}, {\"sepalLength\": 5.4, \"sepalWidth\": 3.4, \"petalLength\": 1.7000000000000002, \"petalWidth\": 0.2, \"species\": \"setosa\"}, {\"sepalLength\": 5.1, \"sepalWidth\": 3.7, \"petalLength\": 1.5, \"petalWidth\": 0.4, \"species\": \"setosa\"}, {\"sepalLength\": 4.6, \"sepalWidth\": 3.6, \"petalLength\": 1.0, \"petalWidth\": 0.2, \"species\": \"setosa\"}, {\"sepalLength\": 5.1, \"sepalWidth\": 3.3, \"petalLength\": 1.7000000000000002, \"petalWidth\": 0.5, \"species\": \"setosa\"}, {\"sepalLength\": 4.8, \"sepalWidth\": 3.4, \"petalLength\": 1.9, \"petalWidth\": 0.2, \"species\": \"setosa\"}, {\"sepalLength\": 5.0, \"sepalWidth\": 3.0, \"petalLength\": 1.6, \"petalWidth\": 0.2, \"species\": \"setosa\"}, {\"sepalLength\": 5.0, \"sepalWidth\": 3.4, \"petalLength\": 1.6, \"petalWidth\": 0.4, \"species\": \"setosa\"}, {\"sepalLength\": 5.2, \"sepalWidth\": 3.5, \"petalLength\": 1.5, \"petalWidth\": 0.2, \"species\": \"setosa\"}, {\"sepalLength\": 5.2, \"sepalWidth\": 3.4, \"petalLength\": 1.4, \"petalWidth\": 0.2, \"species\": \"setosa\"}, {\"sepalLength\": 4.7, \"sepalWidth\": 3.2, \"petalLength\": 1.6, \"petalWidth\": 0.2, \"species\": \"setosa\"}, {\"sepalLength\": 4.8, \"sepalWidth\": 3.1, \"petalLength\": 1.6, \"petalWidth\": 0.2, \"species\": \"setosa\"}, {\"sepalLength\": 5.4, \"sepalWidth\": 3.4, \"petalLength\": 1.5, \"petalWidth\": 0.4, \"species\": \"setosa\"}, {\"sepalLength\": 5.2, \"sepalWidth\": 4.1, \"petalLength\": 1.5, \"petalWidth\": 0.1, \"species\": \"setosa\"}, {\"sepalLength\": 5.5, \"sepalWidth\": 4.2, \"petalLength\": 1.4, \"petalWidth\": 0.2, \"species\": \"setosa\"}, {\"sepalLength\": 4.9, \"sepalWidth\": 3.1, \"petalLength\": 1.5, \"petalWidth\": 0.2, \"species\": \"setosa\"}, {\"sepalLength\": 5.0, \"sepalWidth\": 3.2, \"petalLength\": 1.2, \"petalWidth\": 0.2, \"species\": \"setosa\"}, {\"sepalLength\": 5.5, \"sepalWidth\": 3.5, \"petalLength\": 1.3, \"petalWidth\": 0.2, \"species\": \"setosa\"}, {\"sepalLength\": 4.9, \"sepalWidth\": 3.6, \"petalLength\": 1.4, \"petalWidth\": 0.1, \"species\": \"setosa\"}, {\"sepalLength\": 4.4, \"sepalWidth\": 3.0, \"petalLength\": 1.3, \"petalWidth\": 0.2, \"species\": \"setosa\"}, {\"sepalLength\": 5.1, \"sepalWidth\": 3.4, \"petalLength\": 1.5, \"petalWidth\": 0.2, \"species\": \"setosa\"}, {\"sepalLength\": 5.0, \"sepalWidth\": 3.5, \"petalLength\": 1.3, \"petalWidth\": 0.30000000000000004, \"species\": \"setosa\"}, {\"sepalLength\": 4.5, \"sepalWidth\": 2.3, \"petalLength\": 1.3, \"petalWidth\": 0.30000000000000004, \"species\": \"setosa\"}, {\"sepalLength\": 4.4, \"sepalWidth\": 3.2, \"petalLength\": 1.3, \"petalWidth\": 0.2, \"species\": \"setosa\"}, {\"sepalLength\": 5.0, \"sepalWidth\": 3.5, \"petalLength\": 1.6, \"petalWidth\": 0.6000000000000001, \"species\": \"setosa\"}, {\"sepalLength\": 5.1, \"sepalWidth\": 3.8, \"petalLength\": 1.9, \"petalWidth\": 0.4, \"species\": \"setosa\"}, {\"sepalLength\": 4.8, \"sepalWidth\": 3.0, \"petalLength\": 1.4, \"petalWidth\": 0.30000000000000004, \"species\": \"setosa\"}, {\"sepalLength\": 5.1, \"sepalWidth\": 3.8, \"petalLength\": 1.6, \"petalWidth\": 0.2, \"species\": \"setosa\"}, {\"sepalLength\": 4.6, \"sepalWidth\": 3.2, \"petalLength\": 1.4, \"petalWidth\": 0.2, \"species\": \"setosa\"}, {\"sepalLength\": 5.3, \"sepalWidth\": 3.7, \"petalLength\": 1.5, \"petalWidth\": 0.2, \"species\": \"setosa\"}, {\"sepalLength\": 5.0, \"sepalWidth\": 3.3, \"petalLength\": 1.4, \"petalWidth\": 0.2, \"species\": \"setosa\"}, {\"sepalLength\": 7.0, \"sepalWidth\": 3.2, \"petalLength\": 4.7, \"petalWidth\": 1.4, \"species\": \"versicolor\"}, {\"sepalLength\": 6.4, \"sepalWidth\": 3.2, \"petalLength\": 4.5, \"petalWidth\": 1.5, \"species\": \"versicolor\"}, {\"sepalLength\": 6.9, \"sepalWidth\": 3.1, \"petalLength\": 4.9, \"petalWidth\": 1.5, \"species\": \"versicolor\"}, {\"sepalLength\": 5.5, \"sepalWidth\": 2.3, \"petalLength\": 4.0, \"petalWidth\": 1.3, \"species\": \"versicolor\"}, {\"sepalLength\": 6.5, \"sepalWidth\": 2.8, \"petalLength\": 4.6, \"petalWidth\": 1.5, \"species\": \"versicolor\"}, {\"sepalLength\": 5.7, \"sepalWidth\": 2.8, \"petalLength\": 4.5, \"petalWidth\": 1.3, \"species\": \"versicolor\"}, {\"sepalLength\": 6.3, \"sepalWidth\": 3.3, \"petalLength\": 4.7, \"petalWidth\": 1.6, \"species\": \"versicolor\"}, {\"sepalLength\": 4.9, \"sepalWidth\": 2.4, \"petalLength\": 3.3, \"petalWidth\": 1.0, \"species\": \"versicolor\"}, {\"sepalLength\": 6.6, \"sepalWidth\": 2.9, \"petalLength\": 4.6, \"petalWidth\": 1.3, \"species\": \"versicolor\"}, {\"sepalLength\": 5.2, \"sepalWidth\": 2.7, \"petalLength\": 3.9, \"petalWidth\": 1.4, \"species\": \"versicolor\"}, {\"sepalLength\": 5.0, \"sepalWidth\": 2.0, \"petalLength\": 3.5, \"petalWidth\": 1.0, \"species\": \"versicolor\"}, {\"sepalLength\": 5.9, \"sepalWidth\": 3.0, \"petalLength\": 4.2, \"petalWidth\": 1.5, \"species\": \"versicolor\"}, {\"sepalLength\": 6.0, \"sepalWidth\": 2.2, \"petalLength\": 4.0, \"petalWidth\": 1.0, \"species\": \"versicolor\"}, {\"sepalLength\": 6.1, \"sepalWidth\": 2.9, \"petalLength\": 4.7, \"petalWidth\": 1.4, \"species\": \"versicolor\"}, {\"sepalLength\": 5.6, \"sepalWidth\": 2.9, \"petalLength\": 3.6, \"petalWidth\": 1.3, \"species\": \"versicolor\"}, {\"sepalLength\": 6.7, \"sepalWidth\": 3.1, \"petalLength\": 4.4, \"petalWidth\": 1.4, \"species\": \"versicolor\"}, {\"sepalLength\": 5.6, \"sepalWidth\": 3.0, \"petalLength\": 4.5, \"petalWidth\": 1.5, \"species\": \"versicolor\"}, {\"sepalLength\": 5.8, \"sepalWidth\": 2.7, \"petalLength\": 4.1, \"petalWidth\": 1.0, \"species\": \"versicolor\"}, {\"sepalLength\": 6.2, \"sepalWidth\": 2.2, \"petalLength\": 4.5, \"petalWidth\": 1.5, \"species\": \"versicolor\"}, {\"sepalLength\": 5.6, \"sepalWidth\": 2.5, \"petalLength\": 3.9, \"petalWidth\": 1.1, \"species\": \"versicolor\"}, {\"sepalLength\": 5.9, \"sepalWidth\": 3.2, \"petalLength\": 4.8, \"petalWidth\": 1.8, \"species\": \"versicolor\"}, {\"sepalLength\": 6.1, \"sepalWidth\": 2.8, \"petalLength\": 4.0, \"petalWidth\": 1.3, \"species\": \"versicolor\"}, {\"sepalLength\": 6.3, \"sepalWidth\": 2.5, \"petalLength\": 4.9, \"petalWidth\": 1.5, \"species\": \"versicolor\"}, {\"sepalLength\": 6.1, \"sepalWidth\": 2.8, \"petalLength\": 4.7, \"petalWidth\": 1.2, \"species\": \"versicolor\"}, {\"sepalLength\": 6.4, \"sepalWidth\": 2.9, \"petalLength\": 4.3, \"petalWidth\": 1.3, \"species\": \"versicolor\"}, {\"sepalLength\": 6.6, \"sepalWidth\": 3.0, \"petalLength\": 4.4, \"petalWidth\": 1.4, \"species\": \"versicolor\"}, {\"sepalLength\": 6.8, \"sepalWidth\": 2.8, \"petalLength\": 4.8, \"petalWidth\": 1.4, \"species\": \"versicolor\"}, {\"sepalLength\": 6.7, \"sepalWidth\": 3.0, \"petalLength\": 5.0, \"petalWidth\": 1.7000000000000002, \"species\": \"versicolor\"}, {\"sepalLength\": 6.0, \"sepalWidth\": 2.9, \"petalLength\": 4.5, \"petalWidth\": 1.5, \"species\": \"versicolor\"}, {\"sepalLength\": 5.7, \"sepalWidth\": 2.6, \"petalLength\": 3.5, \"petalWidth\": 1.0, \"species\": \"versicolor\"}, {\"sepalLength\": 5.5, \"sepalWidth\": 2.4, \"petalLength\": 3.8, \"petalWidth\": 1.1, \"species\": \"versicolor\"}, {\"sepalLength\": 5.5, \"sepalWidth\": 2.4, \"petalLength\": 3.7, \"petalWidth\": 1.0, \"species\": \"versicolor\"}, {\"sepalLength\": 5.8, \"sepalWidth\": 2.7, \"petalLength\": 3.9, \"petalWidth\": 1.2, \"species\": \"versicolor\"}, {\"sepalLength\": 6.0, \"sepalWidth\": 2.7, \"petalLength\": 5.1, \"petalWidth\": 1.6, \"species\": \"versicolor\"}, {\"sepalLength\": 5.4, \"sepalWidth\": 3.0, \"petalLength\": 4.5, \"petalWidth\": 1.5, \"species\": \"versicolor\"}, {\"sepalLength\": 6.0, \"sepalWidth\": 3.4, \"petalLength\": 4.5, \"petalWidth\": 1.6, \"species\": \"versicolor\"}, {\"sepalLength\": 6.7, \"sepalWidth\": 3.1, \"petalLength\": 4.7, \"petalWidth\": 1.5, \"species\": \"versicolor\"}, {\"sepalLength\": 6.3, \"sepalWidth\": 2.3, \"petalLength\": 4.4, \"petalWidth\": 1.3, \"species\": \"versicolor\"}, {\"sepalLength\": 5.6, \"sepalWidth\": 3.0, \"petalLength\": 4.1, \"petalWidth\": 1.3, \"species\": \"versicolor\"}, {\"sepalLength\": 5.5, \"sepalWidth\": 2.5, \"petalLength\": 4.0, \"petalWidth\": 1.3, \"species\": \"versicolor\"}, {\"sepalLength\": 5.5, \"sepalWidth\": 2.6, \"petalLength\": 4.4, \"petalWidth\": 1.2, \"species\": \"versicolor\"}, {\"sepalLength\": 6.1, \"sepalWidth\": 3.0, \"petalLength\": 4.6, \"petalWidth\": 1.4, \"species\": \"versicolor\"}, {\"sepalLength\": 5.8, \"sepalWidth\": 2.6, \"petalLength\": 4.0, \"petalWidth\": 1.2, \"species\": \"versicolor\"}, {\"sepalLength\": 5.0, \"sepalWidth\": 2.3, \"petalLength\": 3.3, \"petalWidth\": 1.0, \"species\": \"versicolor\"}, {\"sepalLength\": 5.6, \"sepalWidth\": 2.7, \"petalLength\": 4.2, \"petalWidth\": 1.3, \"species\": \"versicolor\"}, {\"sepalLength\": 5.7, \"sepalWidth\": 3.0, \"petalLength\": 4.2, \"petalWidth\": 1.2, \"species\": \"versicolor\"}, {\"sepalLength\": 5.7, \"sepalWidth\": 2.9, \"petalLength\": 4.2, \"petalWidth\": 1.3, \"species\": \"versicolor\"}, {\"sepalLength\": 6.2, \"sepalWidth\": 2.9, \"petalLength\": 4.3, \"petalWidth\": 1.3, \"species\": \"versicolor\"}, {\"sepalLength\": 5.1, \"sepalWidth\": 2.5, \"petalLength\": 3.0, \"petalWidth\": 1.1, \"species\": \"versicolor\"}, {\"sepalLength\": 5.7, \"sepalWidth\": 2.8, \"petalLength\": 4.1, \"petalWidth\": 1.3, \"species\": \"versicolor\"}, {\"sepalLength\": 6.3, \"sepalWidth\": 3.3, \"petalLength\": 6.0, \"petalWidth\": 2.5, \"species\": \"virginica\"}, {\"sepalLength\": 5.8, \"sepalWidth\": 2.7, \"petalLength\": 5.1, \"petalWidth\": 1.9, \"species\": \"virginica\"}, {\"sepalLength\": 7.1, \"sepalWidth\": 3.0, \"petalLength\": 5.9, \"petalWidth\": 2.1, \"species\": \"virginica\"}, {\"sepalLength\": 6.3, \"sepalWidth\": 2.9, \"petalLength\": 5.6, \"petalWidth\": 1.8, \"species\": \"virginica\"}, {\"sepalLength\": 6.5, \"sepalWidth\": 3.0, \"petalLength\": 5.8, \"petalWidth\": 2.2, \"species\": \"virginica\"}, {\"sepalLength\": 7.6, \"sepalWidth\": 3.0, \"petalLength\": 6.6, \"petalWidth\": 2.1, \"species\": \"virginica\"}, {\"sepalLength\": 4.9, \"sepalWidth\": 2.5, \"petalLength\": 4.5, \"petalWidth\": 1.7000000000000002, \"species\": \"virginica\"}, {\"sepalLength\": 7.3, \"sepalWidth\": 2.9, \"petalLength\": 6.3, \"petalWidth\": 1.8, \"species\": \"virginica\"}, {\"sepalLength\": 6.7, \"sepalWidth\": 2.5, \"petalLength\": 5.8, \"petalWidth\": 1.8, \"species\": \"virginica\"}, {\"sepalLength\": 7.2, \"sepalWidth\": 3.6, \"petalLength\": 6.1, \"petalWidth\": 2.5, \"species\": \"virginica\"}, {\"sepalLength\": 6.5, \"sepalWidth\": 3.2, \"petalLength\": 5.1, \"petalWidth\": 2.0, \"species\": \"virginica\"}, {\"sepalLength\": 6.4, \"sepalWidth\": 2.7, \"petalLength\": 5.3, \"petalWidth\": 1.9, \"species\": \"virginica\"}, {\"sepalLength\": 6.8, \"sepalWidth\": 3.0, \"petalLength\": 5.5, \"petalWidth\": 2.1, \"species\": \"virginica\"}, {\"sepalLength\": 5.7, \"sepalWidth\": 2.5, \"petalLength\": 5.0, \"petalWidth\": 2.0, \"species\": \"virginica\"}, {\"sepalLength\": 5.8, \"sepalWidth\": 2.8, \"petalLength\": 5.1, \"petalWidth\": 2.4, \"species\": \"virginica\"}, {\"sepalLength\": 6.4, \"sepalWidth\": 3.2, \"petalLength\": 5.3, \"petalWidth\": 2.3, \"species\": \"virginica\"}, {\"sepalLength\": 6.5, \"sepalWidth\": 3.0, \"petalLength\": 5.5, \"petalWidth\": 1.8, \"species\": \"virginica\"}, {\"sepalLength\": 7.7, \"sepalWidth\": 3.8, \"petalLength\": 6.7, \"petalWidth\": 2.2, \"species\": \"virginica\"}, {\"sepalLength\": 7.7, \"sepalWidth\": 2.6, \"petalLength\": 6.9, \"petalWidth\": 2.3, \"species\": \"virginica\"}, {\"sepalLength\": 6.0, \"sepalWidth\": 2.2, \"petalLength\": 5.0, \"petalWidth\": 1.5, \"species\": \"virginica\"}, {\"sepalLength\": 6.9, \"sepalWidth\": 3.2, \"petalLength\": 5.7, \"petalWidth\": 2.3, \"species\": \"virginica\"}, {\"sepalLength\": 5.6, \"sepalWidth\": 2.8, \"petalLength\": 4.9, \"petalWidth\": 2.0, \"species\": \"virginica\"}, {\"sepalLength\": 7.7, \"sepalWidth\": 2.8, \"petalLength\": 6.7, \"petalWidth\": 2.0, \"species\": \"virginica\"}, {\"sepalLength\": 6.3, \"sepalWidth\": 2.7, \"petalLength\": 4.9, \"petalWidth\": 1.8, \"species\": \"virginica\"}, {\"sepalLength\": 6.7, \"sepalWidth\": 3.3, \"petalLength\": 5.7, \"petalWidth\": 2.1, \"species\": \"virginica\"}, {\"sepalLength\": 7.2, \"sepalWidth\": 3.2, \"petalLength\": 6.0, \"petalWidth\": 1.8, \"species\": \"virginica\"}, {\"sepalLength\": 6.2, \"sepalWidth\": 2.8, \"petalLength\": 4.8, \"petalWidth\": 1.8, \"species\": \"virginica\"}, {\"sepalLength\": 6.1, \"sepalWidth\": 3.0, \"petalLength\": 4.9, \"petalWidth\": 1.8, \"species\": \"virginica\"}, {\"sepalLength\": 6.4, \"sepalWidth\": 2.8, \"petalLength\": 5.6, \"petalWidth\": 2.1, \"species\": \"virginica\"}, {\"sepalLength\": 7.2, \"sepalWidth\": 3.0, \"petalLength\": 5.8, \"petalWidth\": 1.6, \"species\": \"virginica\"}, {\"sepalLength\": 7.4, \"sepalWidth\": 2.8, \"petalLength\": 6.1, \"petalWidth\": 1.9, \"species\": \"virginica\"}, {\"sepalLength\": 7.9, \"sepalWidth\": 3.8, \"petalLength\": 6.4, \"petalWidth\": 2.0, \"species\": \"virginica\"}, {\"sepalLength\": 6.4, \"sepalWidth\": 2.8, \"petalLength\": 5.6, \"petalWidth\": 2.2, \"species\": \"virginica\"}, {\"sepalLength\": 6.3, \"sepalWidth\": 2.8, \"petalLength\": 5.1, \"petalWidth\": 1.5, \"species\": \"virginica\"}, {\"sepalLength\": 6.1, \"sepalWidth\": 2.6, \"petalLength\": 5.6, \"petalWidth\": 1.4, \"species\": \"virginica\"}, {\"sepalLength\": 7.7, \"sepalWidth\": 3.0, \"petalLength\": 6.1, \"petalWidth\": 2.3, \"species\": \"virginica\"}, {\"sepalLength\": 6.3, \"sepalWidth\": 3.4, \"petalLength\": 5.6, \"petalWidth\": 2.4, \"species\": \"virginica\"}, {\"sepalLength\": 6.4, \"sepalWidth\": 3.1, \"petalLength\": 5.5, \"petalWidth\": 1.8, \"species\": \"virginica\"}, {\"sepalLength\": 6.0, \"sepalWidth\": 3.0, \"petalLength\": 4.8, \"petalWidth\": 1.8, \"species\": \"virginica\"}, {\"sepalLength\": 6.9, \"sepalWidth\": 3.1, \"petalLength\": 5.4, \"petalWidth\": 2.1, \"species\": \"virginica\"}, {\"sepalLength\": 6.7, \"sepalWidth\": 3.1, \"petalLength\": 5.6, \"petalWidth\": 2.4, \"species\": \"virginica\"}, {\"sepalLength\": 6.9, \"sepalWidth\": 3.1, \"petalLength\": 5.1, \"petalWidth\": 2.3, \"species\": \"virginica\"}, {\"sepalLength\": 5.8, \"sepalWidth\": 2.7, \"petalLength\": 5.1, \"petalWidth\": 1.9, \"species\": \"virginica\"}, {\"sepalLength\": 6.8, \"sepalWidth\": 3.2, \"petalLength\": 5.9, \"petalWidth\": 2.3, \"species\": \"virginica\"}, {\"sepalLength\": 6.7, \"sepalWidth\": 3.3, \"petalLength\": 5.7, \"petalWidth\": 2.5, \"species\": \"virginica\"}, {\"sepalLength\": 6.7, \"sepalWidth\": 3.0, \"petalLength\": 5.2, \"petalWidth\": 2.3, \"species\": \"virginica\"}, {\"sepalLength\": 6.3, \"sepalWidth\": 2.5, \"petalLength\": 5.0, \"petalWidth\": 1.9, \"species\": \"virginica\"}, {\"sepalLength\": 6.5, \"sepalWidth\": 3.0, \"petalLength\": 5.2, \"petalWidth\": 2.0, \"species\": \"virginica\"}, {\"sepalLength\": 6.2, \"sepalWidth\": 3.4, \"petalLength\": 5.4, \"petalWidth\": 2.3, \"species\": \"virginica\"}, {\"sepalLength\": 5.9, \"sepalWidth\": 3.0, \"petalLength\": 5.1, \"petalWidth\": 1.8, \"species\": \"virginica\"}]}}, {\"mode\": \"vega-lite\"});\n",
              "</script>"
            ],
            "text/plain": [
              "alt.Chart(...)"
            ]
          },
          "metadata": {},
          "execution_count": 31
        }
      ],
      "source": [
        "alt.Chart(iris).mark_point().encode(\n",
        "    x='petalLength',\n",
        "    y='petalWidth',\n",
        "    color='species'\n",
        ")"
      ]
    },
    {
      "cell_type": "markdown",
      "metadata": {
        "id": "bwY7J7Wru27q"
      },
      "source": [
        "Recall that you can add ``interactive()`` to the end of a chart to enable the most basic interactive scales:"
      ]
    },
    {
      "cell_type": "code",
      "execution_count": 32,
      "metadata": {
        "colab": {
          "base_uri": "https://localhost:8080/",
          "height": 363
        },
        "id": "vrlbLbRuu27q",
        "outputId": "c6ea6a8c-49b2-4de2-9853-4a5d59c8d0d3"
      },
      "outputs": [
        {
          "output_type": "execute_result",
          "data": {
            "text/html": [
              "\n",
              "<div id=\"altair-viz-e0eb2287c553434997fbe7abad6b147c\"></div>\n",
              "<script type=\"text/javascript\">\n",
              "  var VEGA_DEBUG = (typeof VEGA_DEBUG == \"undefined\") ? {} : VEGA_DEBUG;\n",
              "  (function(spec, embedOpt){\n",
              "    let outputDiv = document.currentScript.previousElementSibling;\n",
              "    if (outputDiv.id !== \"altair-viz-e0eb2287c553434997fbe7abad6b147c\") {\n",
              "      outputDiv = document.getElementById(\"altair-viz-e0eb2287c553434997fbe7abad6b147c\");\n",
              "    }\n",
              "    const paths = {\n",
              "      \"vega\": \"https://cdn.jsdelivr.net/npm//vega@5?noext\",\n",
              "      \"vega-lib\": \"https://cdn.jsdelivr.net/npm//vega-lib?noext\",\n",
              "      \"vega-lite\": \"https://cdn.jsdelivr.net/npm//vega-lite@4.17.0?noext\",\n",
              "      \"vega-embed\": \"https://cdn.jsdelivr.net/npm//vega-embed@6?noext\",\n",
              "    };\n",
              "\n",
              "    function maybeLoadScript(lib, version) {\n",
              "      var key = `${lib.replace(\"-\", \"\")}_version`;\n",
              "      return (VEGA_DEBUG[key] == version) ?\n",
              "        Promise.resolve(paths[lib]) :\n",
              "        new Promise(function(resolve, reject) {\n",
              "          var s = document.createElement('script');\n",
              "          document.getElementsByTagName(\"head\")[0].appendChild(s);\n",
              "          s.async = true;\n",
              "          s.onload = () => {\n",
              "            VEGA_DEBUG[key] = version;\n",
              "            return resolve(paths[lib]);\n",
              "          };\n",
              "          s.onerror = () => reject(`Error loading script: ${paths[lib]}`);\n",
              "          s.src = paths[lib];\n",
              "        });\n",
              "    }\n",
              "\n",
              "    function showError(err) {\n",
              "      outputDiv.innerHTML = `<div class=\"error\" style=\"color:red;\">${err}</div>`;\n",
              "      throw err;\n",
              "    }\n",
              "\n",
              "    function displayChart(vegaEmbed) {\n",
              "      vegaEmbed(outputDiv, spec, embedOpt)\n",
              "        .catch(err => showError(`Javascript Error: ${err.message}<br>This usually means there's a typo in your chart specification. See the javascript console for the full traceback.`));\n",
              "    }\n",
              "\n",
              "    if(typeof define === \"function\" && define.amd) {\n",
              "      requirejs.config({paths});\n",
              "      require([\"vega-embed\"], displayChart, err => showError(`Error loading script: ${err.message}`));\n",
              "    } else {\n",
              "      maybeLoadScript(\"vega\", \"5\")\n",
              "        .then(() => maybeLoadScript(\"vega-lite\", \"4.17.0\"))\n",
              "        .then(() => maybeLoadScript(\"vega-embed\", \"6\"))\n",
              "        .catch(showError)\n",
              "        .then(() => displayChart(vegaEmbed));\n",
              "    }\n",
              "  })({\"config\": {\"view\": {\"continuousWidth\": 400, \"continuousHeight\": 300}}, \"data\": {\"name\": \"data-a264acbd6e539a8b3afc0cb5f240fb57\"}, \"mark\": \"point\", \"encoding\": {\"color\": {\"field\": \"species\", \"type\": \"nominal\"}, \"x\": {\"field\": \"petalLength\", \"type\": \"quantitative\"}, \"y\": {\"field\": \"petalWidth\", \"type\": \"quantitative\"}}, \"selection\": {\"selector002\": {\"type\": \"interval\", \"bind\": \"scales\", \"encodings\": [\"x\", \"y\"]}}, \"$schema\": \"https://vega.github.io/schema/vega-lite/v4.17.0.json\", \"datasets\": {\"data-a264acbd6e539a8b3afc0cb5f240fb57\": [{\"sepalLength\": 5.1, \"sepalWidth\": 3.5, \"petalLength\": 1.4, \"petalWidth\": 0.2, \"species\": \"setosa\"}, {\"sepalLength\": 4.9, \"sepalWidth\": 3.0, \"petalLength\": 1.4, \"petalWidth\": 0.2, \"species\": \"setosa\"}, {\"sepalLength\": 4.7, \"sepalWidth\": 3.2, \"petalLength\": 1.3, \"petalWidth\": 0.2, \"species\": \"setosa\"}, {\"sepalLength\": 4.6, \"sepalWidth\": 3.1, \"petalLength\": 1.5, \"petalWidth\": 0.2, \"species\": \"setosa\"}, {\"sepalLength\": 5.0, \"sepalWidth\": 3.6, \"petalLength\": 1.4, \"petalWidth\": 0.2, \"species\": \"setosa\"}, {\"sepalLength\": 5.4, \"sepalWidth\": 3.9, \"petalLength\": 1.7000000000000002, \"petalWidth\": 0.4, \"species\": \"setosa\"}, {\"sepalLength\": 4.6, \"sepalWidth\": 3.4, \"petalLength\": 1.4, \"petalWidth\": 0.30000000000000004, \"species\": \"setosa\"}, {\"sepalLength\": 5.0, \"sepalWidth\": 3.4, \"petalLength\": 1.5, \"petalWidth\": 0.2, \"species\": \"setosa\"}, {\"sepalLength\": 4.4, \"sepalWidth\": 2.9, \"petalLength\": 1.4, \"petalWidth\": 0.2, \"species\": \"setosa\"}, {\"sepalLength\": 4.9, \"sepalWidth\": 3.1, \"petalLength\": 1.5, \"petalWidth\": 0.1, \"species\": \"setosa\"}, {\"sepalLength\": 5.4, \"sepalWidth\": 3.7, \"petalLength\": 1.5, \"petalWidth\": 0.2, \"species\": \"setosa\"}, {\"sepalLength\": 4.8, \"sepalWidth\": 3.4, \"petalLength\": 1.6, \"petalWidth\": 0.2, \"species\": \"setosa\"}, {\"sepalLength\": 4.8, \"sepalWidth\": 3.0, \"petalLength\": 1.4, \"petalWidth\": 0.1, \"species\": \"setosa\"}, {\"sepalLength\": 4.3, \"sepalWidth\": 3.0, \"petalLength\": 1.1, \"petalWidth\": 0.1, \"species\": \"setosa\"}, {\"sepalLength\": 5.8, \"sepalWidth\": 4.0, \"petalLength\": 1.2, \"petalWidth\": 0.2, \"species\": \"setosa\"}, {\"sepalLength\": 5.7, \"sepalWidth\": 4.4, \"petalLength\": 1.5, \"petalWidth\": 0.4, \"species\": \"setosa\"}, {\"sepalLength\": 5.4, \"sepalWidth\": 3.9, \"petalLength\": 1.3, \"petalWidth\": 0.4, \"species\": \"setosa\"}, {\"sepalLength\": 5.1, \"sepalWidth\": 3.5, \"petalLength\": 1.4, \"petalWidth\": 0.30000000000000004, \"species\": \"setosa\"}, {\"sepalLength\": 5.7, \"sepalWidth\": 3.8, \"petalLength\": 1.7000000000000002, \"petalWidth\": 0.30000000000000004, \"species\": \"setosa\"}, {\"sepalLength\": 5.1, \"sepalWidth\": 3.8, \"petalLength\": 1.5, \"petalWidth\": 0.30000000000000004, \"species\": \"setosa\"}, {\"sepalLength\": 5.4, \"sepalWidth\": 3.4, \"petalLength\": 1.7000000000000002, \"petalWidth\": 0.2, \"species\": \"setosa\"}, {\"sepalLength\": 5.1, \"sepalWidth\": 3.7, \"petalLength\": 1.5, \"petalWidth\": 0.4, \"species\": \"setosa\"}, {\"sepalLength\": 4.6, \"sepalWidth\": 3.6, \"petalLength\": 1.0, \"petalWidth\": 0.2, \"species\": \"setosa\"}, {\"sepalLength\": 5.1, \"sepalWidth\": 3.3, \"petalLength\": 1.7000000000000002, \"petalWidth\": 0.5, \"species\": \"setosa\"}, {\"sepalLength\": 4.8, \"sepalWidth\": 3.4, \"petalLength\": 1.9, \"petalWidth\": 0.2, \"species\": \"setosa\"}, {\"sepalLength\": 5.0, \"sepalWidth\": 3.0, \"petalLength\": 1.6, \"petalWidth\": 0.2, \"species\": \"setosa\"}, {\"sepalLength\": 5.0, \"sepalWidth\": 3.4, \"petalLength\": 1.6, \"petalWidth\": 0.4, \"species\": \"setosa\"}, {\"sepalLength\": 5.2, \"sepalWidth\": 3.5, \"petalLength\": 1.5, \"petalWidth\": 0.2, \"species\": \"setosa\"}, {\"sepalLength\": 5.2, \"sepalWidth\": 3.4, \"petalLength\": 1.4, \"petalWidth\": 0.2, \"species\": \"setosa\"}, {\"sepalLength\": 4.7, \"sepalWidth\": 3.2, \"petalLength\": 1.6, \"petalWidth\": 0.2, \"species\": \"setosa\"}, {\"sepalLength\": 4.8, \"sepalWidth\": 3.1, \"petalLength\": 1.6, \"petalWidth\": 0.2, \"species\": \"setosa\"}, {\"sepalLength\": 5.4, \"sepalWidth\": 3.4, \"petalLength\": 1.5, \"petalWidth\": 0.4, \"species\": \"setosa\"}, {\"sepalLength\": 5.2, \"sepalWidth\": 4.1, \"petalLength\": 1.5, \"petalWidth\": 0.1, \"species\": \"setosa\"}, {\"sepalLength\": 5.5, \"sepalWidth\": 4.2, \"petalLength\": 1.4, \"petalWidth\": 0.2, \"species\": \"setosa\"}, {\"sepalLength\": 4.9, \"sepalWidth\": 3.1, \"petalLength\": 1.5, \"petalWidth\": 0.2, \"species\": \"setosa\"}, {\"sepalLength\": 5.0, \"sepalWidth\": 3.2, \"petalLength\": 1.2, \"petalWidth\": 0.2, \"species\": \"setosa\"}, {\"sepalLength\": 5.5, \"sepalWidth\": 3.5, \"petalLength\": 1.3, \"petalWidth\": 0.2, \"species\": \"setosa\"}, {\"sepalLength\": 4.9, \"sepalWidth\": 3.6, \"petalLength\": 1.4, \"petalWidth\": 0.1, \"species\": \"setosa\"}, {\"sepalLength\": 4.4, \"sepalWidth\": 3.0, \"petalLength\": 1.3, \"petalWidth\": 0.2, \"species\": \"setosa\"}, {\"sepalLength\": 5.1, \"sepalWidth\": 3.4, \"petalLength\": 1.5, \"petalWidth\": 0.2, \"species\": \"setosa\"}, {\"sepalLength\": 5.0, \"sepalWidth\": 3.5, \"petalLength\": 1.3, \"petalWidth\": 0.30000000000000004, \"species\": \"setosa\"}, {\"sepalLength\": 4.5, \"sepalWidth\": 2.3, \"petalLength\": 1.3, \"petalWidth\": 0.30000000000000004, \"species\": \"setosa\"}, {\"sepalLength\": 4.4, \"sepalWidth\": 3.2, \"petalLength\": 1.3, \"petalWidth\": 0.2, \"species\": \"setosa\"}, {\"sepalLength\": 5.0, \"sepalWidth\": 3.5, \"petalLength\": 1.6, \"petalWidth\": 0.6000000000000001, \"species\": \"setosa\"}, {\"sepalLength\": 5.1, \"sepalWidth\": 3.8, \"petalLength\": 1.9, \"petalWidth\": 0.4, \"species\": \"setosa\"}, {\"sepalLength\": 4.8, \"sepalWidth\": 3.0, \"petalLength\": 1.4, \"petalWidth\": 0.30000000000000004, \"species\": \"setosa\"}, {\"sepalLength\": 5.1, \"sepalWidth\": 3.8, \"petalLength\": 1.6, \"petalWidth\": 0.2, \"species\": \"setosa\"}, {\"sepalLength\": 4.6, \"sepalWidth\": 3.2, \"petalLength\": 1.4, \"petalWidth\": 0.2, \"species\": \"setosa\"}, {\"sepalLength\": 5.3, \"sepalWidth\": 3.7, \"petalLength\": 1.5, \"petalWidth\": 0.2, \"species\": \"setosa\"}, {\"sepalLength\": 5.0, \"sepalWidth\": 3.3, \"petalLength\": 1.4, \"petalWidth\": 0.2, \"species\": \"setosa\"}, {\"sepalLength\": 7.0, \"sepalWidth\": 3.2, \"petalLength\": 4.7, \"petalWidth\": 1.4, \"species\": \"versicolor\"}, {\"sepalLength\": 6.4, \"sepalWidth\": 3.2, \"petalLength\": 4.5, \"petalWidth\": 1.5, \"species\": \"versicolor\"}, {\"sepalLength\": 6.9, \"sepalWidth\": 3.1, \"petalLength\": 4.9, \"petalWidth\": 1.5, \"species\": \"versicolor\"}, {\"sepalLength\": 5.5, \"sepalWidth\": 2.3, \"petalLength\": 4.0, \"petalWidth\": 1.3, \"species\": \"versicolor\"}, {\"sepalLength\": 6.5, \"sepalWidth\": 2.8, \"petalLength\": 4.6, \"petalWidth\": 1.5, \"species\": \"versicolor\"}, {\"sepalLength\": 5.7, \"sepalWidth\": 2.8, \"petalLength\": 4.5, \"petalWidth\": 1.3, \"species\": \"versicolor\"}, {\"sepalLength\": 6.3, \"sepalWidth\": 3.3, \"petalLength\": 4.7, \"petalWidth\": 1.6, \"species\": \"versicolor\"}, {\"sepalLength\": 4.9, \"sepalWidth\": 2.4, \"petalLength\": 3.3, \"petalWidth\": 1.0, \"species\": \"versicolor\"}, {\"sepalLength\": 6.6, \"sepalWidth\": 2.9, \"petalLength\": 4.6, \"petalWidth\": 1.3, \"species\": \"versicolor\"}, {\"sepalLength\": 5.2, \"sepalWidth\": 2.7, \"petalLength\": 3.9, \"petalWidth\": 1.4, \"species\": \"versicolor\"}, {\"sepalLength\": 5.0, \"sepalWidth\": 2.0, \"petalLength\": 3.5, \"petalWidth\": 1.0, \"species\": \"versicolor\"}, {\"sepalLength\": 5.9, \"sepalWidth\": 3.0, \"petalLength\": 4.2, \"petalWidth\": 1.5, \"species\": \"versicolor\"}, {\"sepalLength\": 6.0, \"sepalWidth\": 2.2, \"petalLength\": 4.0, \"petalWidth\": 1.0, \"species\": \"versicolor\"}, {\"sepalLength\": 6.1, \"sepalWidth\": 2.9, \"petalLength\": 4.7, \"petalWidth\": 1.4, \"species\": \"versicolor\"}, {\"sepalLength\": 5.6, \"sepalWidth\": 2.9, \"petalLength\": 3.6, \"petalWidth\": 1.3, \"species\": \"versicolor\"}, {\"sepalLength\": 6.7, \"sepalWidth\": 3.1, \"petalLength\": 4.4, \"petalWidth\": 1.4, \"species\": \"versicolor\"}, {\"sepalLength\": 5.6, \"sepalWidth\": 3.0, \"petalLength\": 4.5, \"petalWidth\": 1.5, \"species\": \"versicolor\"}, {\"sepalLength\": 5.8, \"sepalWidth\": 2.7, \"petalLength\": 4.1, \"petalWidth\": 1.0, \"species\": \"versicolor\"}, {\"sepalLength\": 6.2, \"sepalWidth\": 2.2, \"petalLength\": 4.5, \"petalWidth\": 1.5, \"species\": \"versicolor\"}, {\"sepalLength\": 5.6, \"sepalWidth\": 2.5, \"petalLength\": 3.9, \"petalWidth\": 1.1, \"species\": \"versicolor\"}, {\"sepalLength\": 5.9, \"sepalWidth\": 3.2, \"petalLength\": 4.8, \"petalWidth\": 1.8, \"species\": \"versicolor\"}, {\"sepalLength\": 6.1, \"sepalWidth\": 2.8, \"petalLength\": 4.0, \"petalWidth\": 1.3, \"species\": \"versicolor\"}, {\"sepalLength\": 6.3, \"sepalWidth\": 2.5, \"petalLength\": 4.9, \"petalWidth\": 1.5, \"species\": \"versicolor\"}, {\"sepalLength\": 6.1, \"sepalWidth\": 2.8, \"petalLength\": 4.7, \"petalWidth\": 1.2, \"species\": \"versicolor\"}, {\"sepalLength\": 6.4, \"sepalWidth\": 2.9, \"petalLength\": 4.3, \"petalWidth\": 1.3, \"species\": \"versicolor\"}, {\"sepalLength\": 6.6, \"sepalWidth\": 3.0, \"petalLength\": 4.4, \"petalWidth\": 1.4, \"species\": \"versicolor\"}, {\"sepalLength\": 6.8, \"sepalWidth\": 2.8, \"petalLength\": 4.8, \"petalWidth\": 1.4, \"species\": \"versicolor\"}, {\"sepalLength\": 6.7, \"sepalWidth\": 3.0, \"petalLength\": 5.0, \"petalWidth\": 1.7000000000000002, \"species\": \"versicolor\"}, {\"sepalLength\": 6.0, \"sepalWidth\": 2.9, \"petalLength\": 4.5, \"petalWidth\": 1.5, \"species\": \"versicolor\"}, {\"sepalLength\": 5.7, \"sepalWidth\": 2.6, \"petalLength\": 3.5, \"petalWidth\": 1.0, \"species\": \"versicolor\"}, {\"sepalLength\": 5.5, \"sepalWidth\": 2.4, \"petalLength\": 3.8, \"petalWidth\": 1.1, \"species\": \"versicolor\"}, {\"sepalLength\": 5.5, \"sepalWidth\": 2.4, \"petalLength\": 3.7, \"petalWidth\": 1.0, \"species\": \"versicolor\"}, {\"sepalLength\": 5.8, \"sepalWidth\": 2.7, \"petalLength\": 3.9, \"petalWidth\": 1.2, \"species\": \"versicolor\"}, {\"sepalLength\": 6.0, \"sepalWidth\": 2.7, \"petalLength\": 5.1, \"petalWidth\": 1.6, \"species\": \"versicolor\"}, {\"sepalLength\": 5.4, \"sepalWidth\": 3.0, \"petalLength\": 4.5, \"petalWidth\": 1.5, \"species\": \"versicolor\"}, {\"sepalLength\": 6.0, \"sepalWidth\": 3.4, \"petalLength\": 4.5, \"petalWidth\": 1.6, \"species\": \"versicolor\"}, {\"sepalLength\": 6.7, \"sepalWidth\": 3.1, \"petalLength\": 4.7, \"petalWidth\": 1.5, \"species\": \"versicolor\"}, {\"sepalLength\": 6.3, \"sepalWidth\": 2.3, \"petalLength\": 4.4, \"petalWidth\": 1.3, \"species\": \"versicolor\"}, {\"sepalLength\": 5.6, \"sepalWidth\": 3.0, \"petalLength\": 4.1, \"petalWidth\": 1.3, \"species\": \"versicolor\"}, {\"sepalLength\": 5.5, \"sepalWidth\": 2.5, \"petalLength\": 4.0, \"petalWidth\": 1.3, \"species\": \"versicolor\"}, {\"sepalLength\": 5.5, \"sepalWidth\": 2.6, \"petalLength\": 4.4, \"petalWidth\": 1.2, \"species\": \"versicolor\"}, {\"sepalLength\": 6.1, \"sepalWidth\": 3.0, \"petalLength\": 4.6, \"petalWidth\": 1.4, \"species\": \"versicolor\"}, {\"sepalLength\": 5.8, \"sepalWidth\": 2.6, \"petalLength\": 4.0, \"petalWidth\": 1.2, \"species\": \"versicolor\"}, {\"sepalLength\": 5.0, \"sepalWidth\": 2.3, \"petalLength\": 3.3, \"petalWidth\": 1.0, \"species\": \"versicolor\"}, {\"sepalLength\": 5.6, \"sepalWidth\": 2.7, \"petalLength\": 4.2, \"petalWidth\": 1.3, \"species\": \"versicolor\"}, {\"sepalLength\": 5.7, \"sepalWidth\": 3.0, \"petalLength\": 4.2, \"petalWidth\": 1.2, \"species\": \"versicolor\"}, {\"sepalLength\": 5.7, \"sepalWidth\": 2.9, \"petalLength\": 4.2, \"petalWidth\": 1.3, \"species\": \"versicolor\"}, {\"sepalLength\": 6.2, \"sepalWidth\": 2.9, \"petalLength\": 4.3, \"petalWidth\": 1.3, \"species\": \"versicolor\"}, {\"sepalLength\": 5.1, \"sepalWidth\": 2.5, \"petalLength\": 3.0, \"petalWidth\": 1.1, \"species\": \"versicolor\"}, {\"sepalLength\": 5.7, \"sepalWidth\": 2.8, \"petalLength\": 4.1, \"petalWidth\": 1.3, \"species\": \"versicolor\"}, {\"sepalLength\": 6.3, \"sepalWidth\": 3.3, \"petalLength\": 6.0, \"petalWidth\": 2.5, \"species\": \"virginica\"}, {\"sepalLength\": 5.8, \"sepalWidth\": 2.7, \"petalLength\": 5.1, \"petalWidth\": 1.9, \"species\": \"virginica\"}, {\"sepalLength\": 7.1, \"sepalWidth\": 3.0, \"petalLength\": 5.9, \"petalWidth\": 2.1, \"species\": \"virginica\"}, {\"sepalLength\": 6.3, \"sepalWidth\": 2.9, \"petalLength\": 5.6, \"petalWidth\": 1.8, \"species\": \"virginica\"}, {\"sepalLength\": 6.5, \"sepalWidth\": 3.0, \"petalLength\": 5.8, \"petalWidth\": 2.2, \"species\": \"virginica\"}, {\"sepalLength\": 7.6, \"sepalWidth\": 3.0, \"petalLength\": 6.6, \"petalWidth\": 2.1, \"species\": \"virginica\"}, {\"sepalLength\": 4.9, \"sepalWidth\": 2.5, \"petalLength\": 4.5, \"petalWidth\": 1.7000000000000002, \"species\": \"virginica\"}, {\"sepalLength\": 7.3, \"sepalWidth\": 2.9, \"petalLength\": 6.3, \"petalWidth\": 1.8, \"species\": \"virginica\"}, {\"sepalLength\": 6.7, \"sepalWidth\": 2.5, \"petalLength\": 5.8, \"petalWidth\": 1.8, \"species\": \"virginica\"}, {\"sepalLength\": 7.2, \"sepalWidth\": 3.6, \"petalLength\": 6.1, \"petalWidth\": 2.5, \"species\": \"virginica\"}, {\"sepalLength\": 6.5, \"sepalWidth\": 3.2, \"petalLength\": 5.1, \"petalWidth\": 2.0, \"species\": \"virginica\"}, {\"sepalLength\": 6.4, \"sepalWidth\": 2.7, \"petalLength\": 5.3, \"petalWidth\": 1.9, \"species\": \"virginica\"}, {\"sepalLength\": 6.8, \"sepalWidth\": 3.0, \"petalLength\": 5.5, \"petalWidth\": 2.1, \"species\": \"virginica\"}, {\"sepalLength\": 5.7, \"sepalWidth\": 2.5, \"petalLength\": 5.0, \"petalWidth\": 2.0, \"species\": \"virginica\"}, {\"sepalLength\": 5.8, \"sepalWidth\": 2.8, \"petalLength\": 5.1, \"petalWidth\": 2.4, \"species\": \"virginica\"}, {\"sepalLength\": 6.4, \"sepalWidth\": 3.2, \"petalLength\": 5.3, \"petalWidth\": 2.3, \"species\": \"virginica\"}, {\"sepalLength\": 6.5, \"sepalWidth\": 3.0, \"petalLength\": 5.5, \"petalWidth\": 1.8, \"species\": \"virginica\"}, {\"sepalLength\": 7.7, \"sepalWidth\": 3.8, \"petalLength\": 6.7, \"petalWidth\": 2.2, \"species\": \"virginica\"}, {\"sepalLength\": 7.7, \"sepalWidth\": 2.6, \"petalLength\": 6.9, \"petalWidth\": 2.3, \"species\": \"virginica\"}, {\"sepalLength\": 6.0, \"sepalWidth\": 2.2, \"petalLength\": 5.0, \"petalWidth\": 1.5, \"species\": \"virginica\"}, {\"sepalLength\": 6.9, \"sepalWidth\": 3.2, \"petalLength\": 5.7, \"petalWidth\": 2.3, \"species\": \"virginica\"}, {\"sepalLength\": 5.6, \"sepalWidth\": 2.8, \"petalLength\": 4.9, \"petalWidth\": 2.0, \"species\": \"virginica\"}, {\"sepalLength\": 7.7, \"sepalWidth\": 2.8, \"petalLength\": 6.7, \"petalWidth\": 2.0, \"species\": \"virginica\"}, {\"sepalLength\": 6.3, \"sepalWidth\": 2.7, \"petalLength\": 4.9, \"petalWidth\": 1.8, \"species\": \"virginica\"}, {\"sepalLength\": 6.7, \"sepalWidth\": 3.3, \"petalLength\": 5.7, \"petalWidth\": 2.1, \"species\": \"virginica\"}, {\"sepalLength\": 7.2, \"sepalWidth\": 3.2, \"petalLength\": 6.0, \"petalWidth\": 1.8, \"species\": \"virginica\"}, {\"sepalLength\": 6.2, \"sepalWidth\": 2.8, \"petalLength\": 4.8, \"petalWidth\": 1.8, \"species\": \"virginica\"}, {\"sepalLength\": 6.1, \"sepalWidth\": 3.0, \"petalLength\": 4.9, \"petalWidth\": 1.8, \"species\": \"virginica\"}, {\"sepalLength\": 6.4, \"sepalWidth\": 2.8, \"petalLength\": 5.6, \"petalWidth\": 2.1, \"species\": \"virginica\"}, {\"sepalLength\": 7.2, \"sepalWidth\": 3.0, \"petalLength\": 5.8, \"petalWidth\": 1.6, \"species\": \"virginica\"}, {\"sepalLength\": 7.4, \"sepalWidth\": 2.8, \"petalLength\": 6.1, \"petalWidth\": 1.9, \"species\": \"virginica\"}, {\"sepalLength\": 7.9, \"sepalWidth\": 3.8, \"petalLength\": 6.4, \"petalWidth\": 2.0, \"species\": \"virginica\"}, {\"sepalLength\": 6.4, \"sepalWidth\": 2.8, \"petalLength\": 5.6, \"petalWidth\": 2.2, \"species\": \"virginica\"}, {\"sepalLength\": 6.3, \"sepalWidth\": 2.8, \"petalLength\": 5.1, \"petalWidth\": 1.5, \"species\": \"virginica\"}, {\"sepalLength\": 6.1, \"sepalWidth\": 2.6, \"petalLength\": 5.6, \"petalWidth\": 1.4, \"species\": \"virginica\"}, {\"sepalLength\": 7.7, \"sepalWidth\": 3.0, \"petalLength\": 6.1, \"petalWidth\": 2.3, \"species\": \"virginica\"}, {\"sepalLength\": 6.3, \"sepalWidth\": 3.4, \"petalLength\": 5.6, \"petalWidth\": 2.4, \"species\": \"virginica\"}, {\"sepalLength\": 6.4, \"sepalWidth\": 3.1, \"petalLength\": 5.5, \"petalWidth\": 1.8, \"species\": \"virginica\"}, {\"sepalLength\": 6.0, \"sepalWidth\": 3.0, \"petalLength\": 4.8, \"petalWidth\": 1.8, \"species\": \"virginica\"}, {\"sepalLength\": 6.9, \"sepalWidth\": 3.1, \"petalLength\": 5.4, \"petalWidth\": 2.1, \"species\": \"virginica\"}, {\"sepalLength\": 6.7, \"sepalWidth\": 3.1, \"petalLength\": 5.6, \"petalWidth\": 2.4, \"species\": \"virginica\"}, {\"sepalLength\": 6.9, \"sepalWidth\": 3.1, \"petalLength\": 5.1, \"petalWidth\": 2.3, \"species\": \"virginica\"}, {\"sepalLength\": 5.8, \"sepalWidth\": 2.7, \"petalLength\": 5.1, \"petalWidth\": 1.9, \"species\": \"virginica\"}, {\"sepalLength\": 6.8, \"sepalWidth\": 3.2, \"petalLength\": 5.9, \"petalWidth\": 2.3, \"species\": \"virginica\"}, {\"sepalLength\": 6.7, \"sepalWidth\": 3.3, \"petalLength\": 5.7, \"petalWidth\": 2.5, \"species\": \"virginica\"}, {\"sepalLength\": 6.7, \"sepalWidth\": 3.0, \"petalLength\": 5.2, \"petalWidth\": 2.3, \"species\": \"virginica\"}, {\"sepalLength\": 6.3, \"sepalWidth\": 2.5, \"petalLength\": 5.0, \"petalWidth\": 1.9, \"species\": \"virginica\"}, {\"sepalLength\": 6.5, \"sepalWidth\": 3.0, \"petalLength\": 5.2, \"petalWidth\": 2.0, \"species\": \"virginica\"}, {\"sepalLength\": 6.2, \"sepalWidth\": 3.4, \"petalLength\": 5.4, \"petalWidth\": 2.3, \"species\": \"virginica\"}, {\"sepalLength\": 5.9, \"sepalWidth\": 3.0, \"petalLength\": 5.1, \"petalWidth\": 1.8, \"species\": \"virginica\"}]}}, {\"mode\": \"vega-lite\"});\n",
              "</script>"
            ],
            "text/plain": [
              "alt.Chart(...)"
            ]
          },
          "metadata": {},
          "execution_count": 32
        }
      ],
      "source": [
        "alt.Chart(iris).mark_point().encode(\n",
        "    x='petalLength',\n",
        "    y='petalWidth',\n",
        "    color='species'\n",
        ").interactive()"
      ]
    },
    {
      "cell_type": "markdown",
      "metadata": {
        "id": "47OpLe0Qu27q"
      },
      "source": [
        "Altair provides a general ``selection`` API for creating interactive plots; for example, here we create an interval selection:"
      ]
    },
    {
      "cell_type": "code",
      "execution_count": 33,
      "metadata": {
        "colab": {
          "base_uri": "https://localhost:8080/",
          "height": 363
        },
        "id": "ep_DfLE7u27q",
        "outputId": "affbb861-5597-4fa2-9dae-c444f72307b2"
      },
      "outputs": [
        {
          "output_type": "execute_result",
          "data": {
            "text/html": [
              "\n",
              "<div id=\"altair-viz-4af015718ed64a66a7dd5e6cff4a21b9\"></div>\n",
              "<script type=\"text/javascript\">\n",
              "  var VEGA_DEBUG = (typeof VEGA_DEBUG == \"undefined\") ? {} : VEGA_DEBUG;\n",
              "  (function(spec, embedOpt){\n",
              "    let outputDiv = document.currentScript.previousElementSibling;\n",
              "    if (outputDiv.id !== \"altair-viz-4af015718ed64a66a7dd5e6cff4a21b9\") {\n",
              "      outputDiv = document.getElementById(\"altair-viz-4af015718ed64a66a7dd5e6cff4a21b9\");\n",
              "    }\n",
              "    const paths = {\n",
              "      \"vega\": \"https://cdn.jsdelivr.net/npm//vega@5?noext\",\n",
              "      \"vega-lib\": \"https://cdn.jsdelivr.net/npm//vega-lib?noext\",\n",
              "      \"vega-lite\": \"https://cdn.jsdelivr.net/npm//vega-lite@4.17.0?noext\",\n",
              "      \"vega-embed\": \"https://cdn.jsdelivr.net/npm//vega-embed@6?noext\",\n",
              "    };\n",
              "\n",
              "    function maybeLoadScript(lib, version) {\n",
              "      var key = `${lib.replace(\"-\", \"\")}_version`;\n",
              "      return (VEGA_DEBUG[key] == version) ?\n",
              "        Promise.resolve(paths[lib]) :\n",
              "        new Promise(function(resolve, reject) {\n",
              "          var s = document.createElement('script');\n",
              "          document.getElementsByTagName(\"head\")[0].appendChild(s);\n",
              "          s.async = true;\n",
              "          s.onload = () => {\n",
              "            VEGA_DEBUG[key] = version;\n",
              "            return resolve(paths[lib]);\n",
              "          };\n",
              "          s.onerror = () => reject(`Error loading script: ${paths[lib]}`);\n",
              "          s.src = paths[lib];\n",
              "        });\n",
              "    }\n",
              "\n",
              "    function showError(err) {\n",
              "      outputDiv.innerHTML = `<div class=\"error\" style=\"color:red;\">${err}</div>`;\n",
              "      throw err;\n",
              "    }\n",
              "\n",
              "    function displayChart(vegaEmbed) {\n",
              "      vegaEmbed(outputDiv, spec, embedOpt)\n",
              "        .catch(err => showError(`Javascript Error: ${err.message}<br>This usually means there's a typo in your chart specification. See the javascript console for the full traceback.`));\n",
              "    }\n",
              "\n",
              "    if(typeof define === \"function\" && define.amd) {\n",
              "      requirejs.config({paths});\n",
              "      require([\"vega-embed\"], displayChart, err => showError(`Error loading script: ${err.message}`));\n",
              "    } else {\n",
              "      maybeLoadScript(\"vega\", \"5\")\n",
              "        .then(() => maybeLoadScript(\"vega-lite\", \"4.17.0\"))\n",
              "        .then(() => maybeLoadScript(\"vega-embed\", \"6\"))\n",
              "        .catch(showError)\n",
              "        .then(() => displayChart(vegaEmbed));\n",
              "    }\n",
              "  })({\"config\": {\"view\": {\"continuousWidth\": 400, \"continuousHeight\": 300}}, \"data\": {\"name\": \"data-a264acbd6e539a8b3afc0cb5f240fb57\"}, \"mark\": \"point\", \"encoding\": {\"color\": {\"field\": \"species\", \"type\": \"nominal\"}, \"x\": {\"field\": \"petalLength\", \"type\": \"quantitative\"}, \"y\": {\"field\": \"petalWidth\", \"type\": \"quantitative\"}}, \"selection\": {\"selector003\": {\"type\": \"interval\"}}, \"$schema\": \"https://vega.github.io/schema/vega-lite/v4.17.0.json\", \"datasets\": {\"data-a264acbd6e539a8b3afc0cb5f240fb57\": [{\"sepalLength\": 5.1, \"sepalWidth\": 3.5, \"petalLength\": 1.4, \"petalWidth\": 0.2, \"species\": \"setosa\"}, {\"sepalLength\": 4.9, \"sepalWidth\": 3.0, \"petalLength\": 1.4, \"petalWidth\": 0.2, \"species\": \"setosa\"}, {\"sepalLength\": 4.7, \"sepalWidth\": 3.2, \"petalLength\": 1.3, \"petalWidth\": 0.2, \"species\": \"setosa\"}, {\"sepalLength\": 4.6, \"sepalWidth\": 3.1, \"petalLength\": 1.5, \"petalWidth\": 0.2, \"species\": \"setosa\"}, {\"sepalLength\": 5.0, \"sepalWidth\": 3.6, \"petalLength\": 1.4, \"petalWidth\": 0.2, \"species\": \"setosa\"}, {\"sepalLength\": 5.4, \"sepalWidth\": 3.9, \"petalLength\": 1.7000000000000002, \"petalWidth\": 0.4, \"species\": \"setosa\"}, {\"sepalLength\": 4.6, \"sepalWidth\": 3.4, \"petalLength\": 1.4, \"petalWidth\": 0.30000000000000004, \"species\": \"setosa\"}, {\"sepalLength\": 5.0, \"sepalWidth\": 3.4, \"petalLength\": 1.5, \"petalWidth\": 0.2, \"species\": \"setosa\"}, {\"sepalLength\": 4.4, \"sepalWidth\": 2.9, \"petalLength\": 1.4, \"petalWidth\": 0.2, \"species\": \"setosa\"}, {\"sepalLength\": 4.9, \"sepalWidth\": 3.1, \"petalLength\": 1.5, \"petalWidth\": 0.1, \"species\": \"setosa\"}, {\"sepalLength\": 5.4, \"sepalWidth\": 3.7, \"petalLength\": 1.5, \"petalWidth\": 0.2, \"species\": \"setosa\"}, {\"sepalLength\": 4.8, \"sepalWidth\": 3.4, \"petalLength\": 1.6, \"petalWidth\": 0.2, \"species\": \"setosa\"}, {\"sepalLength\": 4.8, \"sepalWidth\": 3.0, \"petalLength\": 1.4, \"petalWidth\": 0.1, \"species\": \"setosa\"}, {\"sepalLength\": 4.3, \"sepalWidth\": 3.0, \"petalLength\": 1.1, \"petalWidth\": 0.1, \"species\": \"setosa\"}, {\"sepalLength\": 5.8, \"sepalWidth\": 4.0, \"petalLength\": 1.2, \"petalWidth\": 0.2, \"species\": \"setosa\"}, {\"sepalLength\": 5.7, \"sepalWidth\": 4.4, \"petalLength\": 1.5, \"petalWidth\": 0.4, \"species\": \"setosa\"}, {\"sepalLength\": 5.4, \"sepalWidth\": 3.9, \"petalLength\": 1.3, \"petalWidth\": 0.4, \"species\": \"setosa\"}, {\"sepalLength\": 5.1, \"sepalWidth\": 3.5, \"petalLength\": 1.4, \"petalWidth\": 0.30000000000000004, \"species\": \"setosa\"}, {\"sepalLength\": 5.7, \"sepalWidth\": 3.8, \"petalLength\": 1.7000000000000002, \"petalWidth\": 0.30000000000000004, \"species\": \"setosa\"}, {\"sepalLength\": 5.1, \"sepalWidth\": 3.8, \"petalLength\": 1.5, \"petalWidth\": 0.30000000000000004, \"species\": \"setosa\"}, {\"sepalLength\": 5.4, \"sepalWidth\": 3.4, \"petalLength\": 1.7000000000000002, \"petalWidth\": 0.2, \"species\": \"setosa\"}, {\"sepalLength\": 5.1, \"sepalWidth\": 3.7, \"petalLength\": 1.5, \"petalWidth\": 0.4, \"species\": \"setosa\"}, {\"sepalLength\": 4.6, \"sepalWidth\": 3.6, \"petalLength\": 1.0, \"petalWidth\": 0.2, \"species\": \"setosa\"}, {\"sepalLength\": 5.1, \"sepalWidth\": 3.3, \"petalLength\": 1.7000000000000002, \"petalWidth\": 0.5, \"species\": \"setosa\"}, {\"sepalLength\": 4.8, \"sepalWidth\": 3.4, \"petalLength\": 1.9, \"petalWidth\": 0.2, \"species\": \"setosa\"}, {\"sepalLength\": 5.0, \"sepalWidth\": 3.0, \"petalLength\": 1.6, \"petalWidth\": 0.2, \"species\": \"setosa\"}, {\"sepalLength\": 5.0, \"sepalWidth\": 3.4, \"petalLength\": 1.6, \"petalWidth\": 0.4, \"species\": \"setosa\"}, {\"sepalLength\": 5.2, \"sepalWidth\": 3.5, \"petalLength\": 1.5, \"petalWidth\": 0.2, \"species\": \"setosa\"}, {\"sepalLength\": 5.2, \"sepalWidth\": 3.4, \"petalLength\": 1.4, \"petalWidth\": 0.2, \"species\": \"setosa\"}, {\"sepalLength\": 4.7, \"sepalWidth\": 3.2, \"petalLength\": 1.6, \"petalWidth\": 0.2, \"species\": \"setosa\"}, {\"sepalLength\": 4.8, \"sepalWidth\": 3.1, \"petalLength\": 1.6, \"petalWidth\": 0.2, \"species\": \"setosa\"}, {\"sepalLength\": 5.4, \"sepalWidth\": 3.4, \"petalLength\": 1.5, \"petalWidth\": 0.4, \"species\": \"setosa\"}, {\"sepalLength\": 5.2, \"sepalWidth\": 4.1, \"petalLength\": 1.5, \"petalWidth\": 0.1, \"species\": \"setosa\"}, {\"sepalLength\": 5.5, \"sepalWidth\": 4.2, \"petalLength\": 1.4, \"petalWidth\": 0.2, \"species\": \"setosa\"}, {\"sepalLength\": 4.9, \"sepalWidth\": 3.1, \"petalLength\": 1.5, \"petalWidth\": 0.2, \"species\": \"setosa\"}, {\"sepalLength\": 5.0, \"sepalWidth\": 3.2, \"petalLength\": 1.2, \"petalWidth\": 0.2, \"species\": \"setosa\"}, {\"sepalLength\": 5.5, \"sepalWidth\": 3.5, \"petalLength\": 1.3, \"petalWidth\": 0.2, \"species\": \"setosa\"}, {\"sepalLength\": 4.9, \"sepalWidth\": 3.6, \"petalLength\": 1.4, \"petalWidth\": 0.1, \"species\": \"setosa\"}, {\"sepalLength\": 4.4, \"sepalWidth\": 3.0, \"petalLength\": 1.3, \"petalWidth\": 0.2, \"species\": \"setosa\"}, {\"sepalLength\": 5.1, \"sepalWidth\": 3.4, \"petalLength\": 1.5, \"petalWidth\": 0.2, \"species\": \"setosa\"}, {\"sepalLength\": 5.0, \"sepalWidth\": 3.5, \"petalLength\": 1.3, \"petalWidth\": 0.30000000000000004, \"species\": \"setosa\"}, {\"sepalLength\": 4.5, \"sepalWidth\": 2.3, \"petalLength\": 1.3, \"petalWidth\": 0.30000000000000004, \"species\": \"setosa\"}, {\"sepalLength\": 4.4, \"sepalWidth\": 3.2, \"petalLength\": 1.3, \"petalWidth\": 0.2, \"species\": \"setosa\"}, {\"sepalLength\": 5.0, \"sepalWidth\": 3.5, \"petalLength\": 1.6, \"petalWidth\": 0.6000000000000001, \"species\": \"setosa\"}, {\"sepalLength\": 5.1, \"sepalWidth\": 3.8, \"petalLength\": 1.9, \"petalWidth\": 0.4, \"species\": \"setosa\"}, {\"sepalLength\": 4.8, \"sepalWidth\": 3.0, \"petalLength\": 1.4, \"petalWidth\": 0.30000000000000004, \"species\": \"setosa\"}, {\"sepalLength\": 5.1, \"sepalWidth\": 3.8, \"petalLength\": 1.6, \"petalWidth\": 0.2, \"species\": \"setosa\"}, {\"sepalLength\": 4.6, \"sepalWidth\": 3.2, \"petalLength\": 1.4, \"petalWidth\": 0.2, \"species\": \"setosa\"}, {\"sepalLength\": 5.3, \"sepalWidth\": 3.7, \"petalLength\": 1.5, \"petalWidth\": 0.2, \"species\": \"setosa\"}, {\"sepalLength\": 5.0, \"sepalWidth\": 3.3, \"petalLength\": 1.4, \"petalWidth\": 0.2, \"species\": \"setosa\"}, {\"sepalLength\": 7.0, \"sepalWidth\": 3.2, \"petalLength\": 4.7, \"petalWidth\": 1.4, \"species\": \"versicolor\"}, {\"sepalLength\": 6.4, \"sepalWidth\": 3.2, \"petalLength\": 4.5, \"petalWidth\": 1.5, \"species\": \"versicolor\"}, {\"sepalLength\": 6.9, \"sepalWidth\": 3.1, \"petalLength\": 4.9, \"petalWidth\": 1.5, \"species\": \"versicolor\"}, {\"sepalLength\": 5.5, \"sepalWidth\": 2.3, \"petalLength\": 4.0, \"petalWidth\": 1.3, \"species\": \"versicolor\"}, {\"sepalLength\": 6.5, \"sepalWidth\": 2.8, \"petalLength\": 4.6, \"petalWidth\": 1.5, \"species\": \"versicolor\"}, {\"sepalLength\": 5.7, \"sepalWidth\": 2.8, \"petalLength\": 4.5, \"petalWidth\": 1.3, \"species\": \"versicolor\"}, {\"sepalLength\": 6.3, \"sepalWidth\": 3.3, \"petalLength\": 4.7, \"petalWidth\": 1.6, \"species\": \"versicolor\"}, {\"sepalLength\": 4.9, \"sepalWidth\": 2.4, \"petalLength\": 3.3, \"petalWidth\": 1.0, \"species\": \"versicolor\"}, {\"sepalLength\": 6.6, \"sepalWidth\": 2.9, \"petalLength\": 4.6, \"petalWidth\": 1.3, \"species\": \"versicolor\"}, {\"sepalLength\": 5.2, \"sepalWidth\": 2.7, \"petalLength\": 3.9, \"petalWidth\": 1.4, \"species\": \"versicolor\"}, {\"sepalLength\": 5.0, \"sepalWidth\": 2.0, \"petalLength\": 3.5, \"petalWidth\": 1.0, \"species\": \"versicolor\"}, {\"sepalLength\": 5.9, \"sepalWidth\": 3.0, \"petalLength\": 4.2, \"petalWidth\": 1.5, \"species\": \"versicolor\"}, {\"sepalLength\": 6.0, \"sepalWidth\": 2.2, \"petalLength\": 4.0, \"petalWidth\": 1.0, \"species\": \"versicolor\"}, {\"sepalLength\": 6.1, \"sepalWidth\": 2.9, \"petalLength\": 4.7, \"petalWidth\": 1.4, \"species\": \"versicolor\"}, {\"sepalLength\": 5.6, \"sepalWidth\": 2.9, \"petalLength\": 3.6, \"petalWidth\": 1.3, \"species\": \"versicolor\"}, {\"sepalLength\": 6.7, \"sepalWidth\": 3.1, \"petalLength\": 4.4, \"petalWidth\": 1.4, \"species\": \"versicolor\"}, {\"sepalLength\": 5.6, \"sepalWidth\": 3.0, \"petalLength\": 4.5, \"petalWidth\": 1.5, \"species\": \"versicolor\"}, {\"sepalLength\": 5.8, \"sepalWidth\": 2.7, \"petalLength\": 4.1, \"petalWidth\": 1.0, \"species\": \"versicolor\"}, {\"sepalLength\": 6.2, \"sepalWidth\": 2.2, \"petalLength\": 4.5, \"petalWidth\": 1.5, \"species\": \"versicolor\"}, {\"sepalLength\": 5.6, \"sepalWidth\": 2.5, \"petalLength\": 3.9, \"petalWidth\": 1.1, \"species\": \"versicolor\"}, {\"sepalLength\": 5.9, \"sepalWidth\": 3.2, \"petalLength\": 4.8, \"petalWidth\": 1.8, \"species\": \"versicolor\"}, {\"sepalLength\": 6.1, \"sepalWidth\": 2.8, \"petalLength\": 4.0, \"petalWidth\": 1.3, \"species\": \"versicolor\"}, {\"sepalLength\": 6.3, \"sepalWidth\": 2.5, \"petalLength\": 4.9, \"petalWidth\": 1.5, \"species\": \"versicolor\"}, {\"sepalLength\": 6.1, \"sepalWidth\": 2.8, \"petalLength\": 4.7, \"petalWidth\": 1.2, \"species\": \"versicolor\"}, {\"sepalLength\": 6.4, \"sepalWidth\": 2.9, \"petalLength\": 4.3, \"petalWidth\": 1.3, \"species\": \"versicolor\"}, {\"sepalLength\": 6.6, \"sepalWidth\": 3.0, \"petalLength\": 4.4, \"petalWidth\": 1.4, \"species\": \"versicolor\"}, {\"sepalLength\": 6.8, \"sepalWidth\": 2.8, \"petalLength\": 4.8, \"petalWidth\": 1.4, \"species\": \"versicolor\"}, {\"sepalLength\": 6.7, \"sepalWidth\": 3.0, \"petalLength\": 5.0, \"petalWidth\": 1.7000000000000002, \"species\": \"versicolor\"}, {\"sepalLength\": 6.0, \"sepalWidth\": 2.9, \"petalLength\": 4.5, \"petalWidth\": 1.5, \"species\": \"versicolor\"}, {\"sepalLength\": 5.7, \"sepalWidth\": 2.6, \"petalLength\": 3.5, \"petalWidth\": 1.0, \"species\": \"versicolor\"}, {\"sepalLength\": 5.5, \"sepalWidth\": 2.4, \"petalLength\": 3.8, \"petalWidth\": 1.1, \"species\": \"versicolor\"}, {\"sepalLength\": 5.5, \"sepalWidth\": 2.4, \"petalLength\": 3.7, \"petalWidth\": 1.0, \"species\": \"versicolor\"}, {\"sepalLength\": 5.8, \"sepalWidth\": 2.7, \"petalLength\": 3.9, \"petalWidth\": 1.2, \"species\": \"versicolor\"}, {\"sepalLength\": 6.0, \"sepalWidth\": 2.7, \"petalLength\": 5.1, \"petalWidth\": 1.6, \"species\": \"versicolor\"}, {\"sepalLength\": 5.4, \"sepalWidth\": 3.0, \"petalLength\": 4.5, \"petalWidth\": 1.5, \"species\": \"versicolor\"}, {\"sepalLength\": 6.0, \"sepalWidth\": 3.4, \"petalLength\": 4.5, \"petalWidth\": 1.6, \"species\": \"versicolor\"}, {\"sepalLength\": 6.7, \"sepalWidth\": 3.1, \"petalLength\": 4.7, \"petalWidth\": 1.5, \"species\": \"versicolor\"}, {\"sepalLength\": 6.3, \"sepalWidth\": 2.3, \"petalLength\": 4.4, \"petalWidth\": 1.3, \"species\": \"versicolor\"}, {\"sepalLength\": 5.6, \"sepalWidth\": 3.0, \"petalLength\": 4.1, \"petalWidth\": 1.3, \"species\": \"versicolor\"}, {\"sepalLength\": 5.5, \"sepalWidth\": 2.5, \"petalLength\": 4.0, \"petalWidth\": 1.3, \"species\": \"versicolor\"}, {\"sepalLength\": 5.5, \"sepalWidth\": 2.6, \"petalLength\": 4.4, \"petalWidth\": 1.2, \"species\": \"versicolor\"}, {\"sepalLength\": 6.1, \"sepalWidth\": 3.0, \"petalLength\": 4.6, \"petalWidth\": 1.4, \"species\": \"versicolor\"}, {\"sepalLength\": 5.8, \"sepalWidth\": 2.6, \"petalLength\": 4.0, \"petalWidth\": 1.2, \"species\": \"versicolor\"}, {\"sepalLength\": 5.0, \"sepalWidth\": 2.3, \"petalLength\": 3.3, \"petalWidth\": 1.0, \"species\": \"versicolor\"}, {\"sepalLength\": 5.6, \"sepalWidth\": 2.7, \"petalLength\": 4.2, \"petalWidth\": 1.3, \"species\": \"versicolor\"}, {\"sepalLength\": 5.7, \"sepalWidth\": 3.0, \"petalLength\": 4.2, \"petalWidth\": 1.2, \"species\": \"versicolor\"}, {\"sepalLength\": 5.7, \"sepalWidth\": 2.9, \"petalLength\": 4.2, \"petalWidth\": 1.3, \"species\": \"versicolor\"}, {\"sepalLength\": 6.2, \"sepalWidth\": 2.9, \"petalLength\": 4.3, \"petalWidth\": 1.3, \"species\": \"versicolor\"}, {\"sepalLength\": 5.1, \"sepalWidth\": 2.5, \"petalLength\": 3.0, \"petalWidth\": 1.1, \"species\": \"versicolor\"}, {\"sepalLength\": 5.7, \"sepalWidth\": 2.8, \"petalLength\": 4.1, \"petalWidth\": 1.3, \"species\": \"versicolor\"}, {\"sepalLength\": 6.3, \"sepalWidth\": 3.3, \"petalLength\": 6.0, \"petalWidth\": 2.5, \"species\": \"virginica\"}, {\"sepalLength\": 5.8, \"sepalWidth\": 2.7, \"petalLength\": 5.1, \"petalWidth\": 1.9, \"species\": \"virginica\"}, {\"sepalLength\": 7.1, \"sepalWidth\": 3.0, \"petalLength\": 5.9, \"petalWidth\": 2.1, \"species\": \"virginica\"}, {\"sepalLength\": 6.3, \"sepalWidth\": 2.9, \"petalLength\": 5.6, \"petalWidth\": 1.8, \"species\": \"virginica\"}, {\"sepalLength\": 6.5, \"sepalWidth\": 3.0, \"petalLength\": 5.8, \"petalWidth\": 2.2, \"species\": \"virginica\"}, {\"sepalLength\": 7.6, \"sepalWidth\": 3.0, \"petalLength\": 6.6, \"petalWidth\": 2.1, \"species\": \"virginica\"}, {\"sepalLength\": 4.9, \"sepalWidth\": 2.5, \"petalLength\": 4.5, \"petalWidth\": 1.7000000000000002, \"species\": \"virginica\"}, {\"sepalLength\": 7.3, \"sepalWidth\": 2.9, \"petalLength\": 6.3, \"petalWidth\": 1.8, \"species\": \"virginica\"}, {\"sepalLength\": 6.7, \"sepalWidth\": 2.5, \"petalLength\": 5.8, \"petalWidth\": 1.8, \"species\": \"virginica\"}, {\"sepalLength\": 7.2, \"sepalWidth\": 3.6, \"petalLength\": 6.1, \"petalWidth\": 2.5, \"species\": \"virginica\"}, {\"sepalLength\": 6.5, \"sepalWidth\": 3.2, \"petalLength\": 5.1, \"petalWidth\": 2.0, \"species\": \"virginica\"}, {\"sepalLength\": 6.4, \"sepalWidth\": 2.7, \"petalLength\": 5.3, \"petalWidth\": 1.9, \"species\": \"virginica\"}, {\"sepalLength\": 6.8, \"sepalWidth\": 3.0, \"petalLength\": 5.5, \"petalWidth\": 2.1, \"species\": \"virginica\"}, {\"sepalLength\": 5.7, \"sepalWidth\": 2.5, \"petalLength\": 5.0, \"petalWidth\": 2.0, \"species\": \"virginica\"}, {\"sepalLength\": 5.8, \"sepalWidth\": 2.8, \"petalLength\": 5.1, \"petalWidth\": 2.4, \"species\": \"virginica\"}, {\"sepalLength\": 6.4, \"sepalWidth\": 3.2, \"petalLength\": 5.3, \"petalWidth\": 2.3, \"species\": \"virginica\"}, {\"sepalLength\": 6.5, \"sepalWidth\": 3.0, \"petalLength\": 5.5, \"petalWidth\": 1.8, \"species\": \"virginica\"}, {\"sepalLength\": 7.7, \"sepalWidth\": 3.8, \"petalLength\": 6.7, \"petalWidth\": 2.2, \"species\": \"virginica\"}, {\"sepalLength\": 7.7, \"sepalWidth\": 2.6, \"petalLength\": 6.9, \"petalWidth\": 2.3, \"species\": \"virginica\"}, {\"sepalLength\": 6.0, \"sepalWidth\": 2.2, \"petalLength\": 5.0, \"petalWidth\": 1.5, \"species\": \"virginica\"}, {\"sepalLength\": 6.9, \"sepalWidth\": 3.2, \"petalLength\": 5.7, \"petalWidth\": 2.3, \"species\": \"virginica\"}, {\"sepalLength\": 5.6, \"sepalWidth\": 2.8, \"petalLength\": 4.9, \"petalWidth\": 2.0, \"species\": \"virginica\"}, {\"sepalLength\": 7.7, \"sepalWidth\": 2.8, \"petalLength\": 6.7, \"petalWidth\": 2.0, \"species\": \"virginica\"}, {\"sepalLength\": 6.3, \"sepalWidth\": 2.7, \"petalLength\": 4.9, \"petalWidth\": 1.8, \"species\": \"virginica\"}, {\"sepalLength\": 6.7, \"sepalWidth\": 3.3, \"petalLength\": 5.7, \"petalWidth\": 2.1, \"species\": \"virginica\"}, {\"sepalLength\": 7.2, \"sepalWidth\": 3.2, \"petalLength\": 6.0, \"petalWidth\": 1.8, \"species\": \"virginica\"}, {\"sepalLength\": 6.2, \"sepalWidth\": 2.8, \"petalLength\": 4.8, \"petalWidth\": 1.8, \"species\": \"virginica\"}, {\"sepalLength\": 6.1, \"sepalWidth\": 3.0, \"petalLength\": 4.9, \"petalWidth\": 1.8, \"species\": \"virginica\"}, {\"sepalLength\": 6.4, \"sepalWidth\": 2.8, \"petalLength\": 5.6, \"petalWidth\": 2.1, \"species\": \"virginica\"}, {\"sepalLength\": 7.2, \"sepalWidth\": 3.0, \"petalLength\": 5.8, \"petalWidth\": 1.6, \"species\": \"virginica\"}, {\"sepalLength\": 7.4, \"sepalWidth\": 2.8, \"petalLength\": 6.1, \"petalWidth\": 1.9, \"species\": \"virginica\"}, {\"sepalLength\": 7.9, \"sepalWidth\": 3.8, \"petalLength\": 6.4, \"petalWidth\": 2.0, \"species\": \"virginica\"}, {\"sepalLength\": 6.4, \"sepalWidth\": 2.8, \"petalLength\": 5.6, \"petalWidth\": 2.2, \"species\": \"virginica\"}, {\"sepalLength\": 6.3, \"sepalWidth\": 2.8, \"petalLength\": 5.1, \"petalWidth\": 1.5, \"species\": \"virginica\"}, {\"sepalLength\": 6.1, \"sepalWidth\": 2.6, \"petalLength\": 5.6, \"petalWidth\": 1.4, \"species\": \"virginica\"}, {\"sepalLength\": 7.7, \"sepalWidth\": 3.0, \"petalLength\": 6.1, \"petalWidth\": 2.3, \"species\": \"virginica\"}, {\"sepalLength\": 6.3, \"sepalWidth\": 3.4, \"petalLength\": 5.6, \"petalWidth\": 2.4, \"species\": \"virginica\"}, {\"sepalLength\": 6.4, \"sepalWidth\": 3.1, \"petalLength\": 5.5, \"petalWidth\": 1.8, \"species\": \"virginica\"}, {\"sepalLength\": 6.0, \"sepalWidth\": 3.0, \"petalLength\": 4.8, \"petalWidth\": 1.8, \"species\": \"virginica\"}, {\"sepalLength\": 6.9, \"sepalWidth\": 3.1, \"petalLength\": 5.4, \"petalWidth\": 2.1, \"species\": \"virginica\"}, {\"sepalLength\": 6.7, \"sepalWidth\": 3.1, \"petalLength\": 5.6, \"petalWidth\": 2.4, \"species\": \"virginica\"}, {\"sepalLength\": 6.9, \"sepalWidth\": 3.1, \"petalLength\": 5.1, \"petalWidth\": 2.3, \"species\": \"virginica\"}, {\"sepalLength\": 5.8, \"sepalWidth\": 2.7, \"petalLength\": 5.1, \"petalWidth\": 1.9, \"species\": \"virginica\"}, {\"sepalLength\": 6.8, \"sepalWidth\": 3.2, \"petalLength\": 5.9, \"petalWidth\": 2.3, \"species\": \"virginica\"}, {\"sepalLength\": 6.7, \"sepalWidth\": 3.3, \"petalLength\": 5.7, \"petalWidth\": 2.5, \"species\": \"virginica\"}, {\"sepalLength\": 6.7, \"sepalWidth\": 3.0, \"petalLength\": 5.2, \"petalWidth\": 2.3, \"species\": \"virginica\"}, {\"sepalLength\": 6.3, \"sepalWidth\": 2.5, \"petalLength\": 5.0, \"petalWidth\": 1.9, \"species\": \"virginica\"}, {\"sepalLength\": 6.5, \"sepalWidth\": 3.0, \"petalLength\": 5.2, \"petalWidth\": 2.0, \"species\": \"virginica\"}, {\"sepalLength\": 6.2, \"sepalWidth\": 3.4, \"petalLength\": 5.4, \"petalWidth\": 2.3, \"species\": \"virginica\"}, {\"sepalLength\": 5.9, \"sepalWidth\": 3.0, \"petalLength\": 5.1, \"petalWidth\": 1.8, \"species\": \"virginica\"}]}}, {\"mode\": \"vega-lite\"});\n",
              "</script>"
            ],
            "text/plain": [
              "alt.Chart(...)"
            ]
          },
          "metadata": {},
          "execution_count": 33
        }
      ],
      "source": [
        "interval = alt.selection_interval()\n",
        "\n",
        "alt.Chart(iris).mark_point().encode(\n",
        "    x='petalLength',\n",
        "    y='petalWidth',\n",
        "    color='species'\n",
        ").properties(\n",
        "    selection=interval\n",
        ")"
      ]
    },
    {
      "cell_type": "markdown",
      "metadata": {
        "id": "RmMFTrwiu27q"
      },
      "source": [
        "Currently this selection doesn't actually do anything, but we can change that by conditioning the color on this selection:"
      ]
    },
    {
      "cell_type": "code",
      "execution_count": 34,
      "metadata": {
        "colab": {
          "base_uri": "https://localhost:8080/",
          "height": 363
        },
        "id": "o0LsxLhhu27q",
        "outputId": "0d9932ef-6b88-4cb0-9e44-f51f9cbb368d"
      },
      "outputs": [
        {
          "output_type": "execute_result",
          "data": {
            "text/html": [
              "\n",
              "<div id=\"altair-viz-7c57ff71daab4bd99f5a1ed26b0a65fc\"></div>\n",
              "<script type=\"text/javascript\">\n",
              "  var VEGA_DEBUG = (typeof VEGA_DEBUG == \"undefined\") ? {} : VEGA_DEBUG;\n",
              "  (function(spec, embedOpt){\n",
              "    let outputDiv = document.currentScript.previousElementSibling;\n",
              "    if (outputDiv.id !== \"altair-viz-7c57ff71daab4bd99f5a1ed26b0a65fc\") {\n",
              "      outputDiv = document.getElementById(\"altair-viz-7c57ff71daab4bd99f5a1ed26b0a65fc\");\n",
              "    }\n",
              "    const paths = {\n",
              "      \"vega\": \"https://cdn.jsdelivr.net/npm//vega@5?noext\",\n",
              "      \"vega-lib\": \"https://cdn.jsdelivr.net/npm//vega-lib?noext\",\n",
              "      \"vega-lite\": \"https://cdn.jsdelivr.net/npm//vega-lite@4.17.0?noext\",\n",
              "      \"vega-embed\": \"https://cdn.jsdelivr.net/npm//vega-embed@6?noext\",\n",
              "    };\n",
              "\n",
              "    function maybeLoadScript(lib, version) {\n",
              "      var key = `${lib.replace(\"-\", \"\")}_version`;\n",
              "      return (VEGA_DEBUG[key] == version) ?\n",
              "        Promise.resolve(paths[lib]) :\n",
              "        new Promise(function(resolve, reject) {\n",
              "          var s = document.createElement('script');\n",
              "          document.getElementsByTagName(\"head\")[0].appendChild(s);\n",
              "          s.async = true;\n",
              "          s.onload = () => {\n",
              "            VEGA_DEBUG[key] = version;\n",
              "            return resolve(paths[lib]);\n",
              "          };\n",
              "          s.onerror = () => reject(`Error loading script: ${paths[lib]}`);\n",
              "          s.src = paths[lib];\n",
              "        });\n",
              "    }\n",
              "\n",
              "    function showError(err) {\n",
              "      outputDiv.innerHTML = `<div class=\"error\" style=\"color:red;\">${err}</div>`;\n",
              "      throw err;\n",
              "    }\n",
              "\n",
              "    function displayChart(vegaEmbed) {\n",
              "      vegaEmbed(outputDiv, spec, embedOpt)\n",
              "        .catch(err => showError(`Javascript Error: ${err.message}<br>This usually means there's a typo in your chart specification. See the javascript console for the full traceback.`));\n",
              "    }\n",
              "\n",
              "    if(typeof define === \"function\" && define.amd) {\n",
              "      requirejs.config({paths});\n",
              "      require([\"vega-embed\"], displayChart, err => showError(`Error loading script: ${err.message}`));\n",
              "    } else {\n",
              "      maybeLoadScript(\"vega\", \"5\")\n",
              "        .then(() => maybeLoadScript(\"vega-lite\", \"4.17.0\"))\n",
              "        .then(() => maybeLoadScript(\"vega-embed\", \"6\"))\n",
              "        .catch(showError)\n",
              "        .then(() => displayChart(vegaEmbed));\n",
              "    }\n",
              "  })({\"config\": {\"view\": {\"continuousWidth\": 400, \"continuousHeight\": 300}}, \"data\": {\"name\": \"data-a264acbd6e539a8b3afc0cb5f240fb57\"}, \"mark\": \"point\", \"encoding\": {\"color\": {\"condition\": {\"field\": \"species\", \"type\": \"nominal\", \"selection\": \"selector004\"}, \"value\": \"lightgray\"}, \"x\": {\"field\": \"petalLength\", \"type\": \"quantitative\"}, \"y\": {\"field\": \"petalWidth\", \"type\": \"quantitative\"}}, \"selection\": {\"selector004\": {\"type\": \"interval\"}}, \"$schema\": \"https://vega.github.io/schema/vega-lite/v4.17.0.json\", \"datasets\": {\"data-a264acbd6e539a8b3afc0cb5f240fb57\": [{\"sepalLength\": 5.1, \"sepalWidth\": 3.5, \"petalLength\": 1.4, \"petalWidth\": 0.2, \"species\": \"setosa\"}, {\"sepalLength\": 4.9, \"sepalWidth\": 3.0, \"petalLength\": 1.4, \"petalWidth\": 0.2, \"species\": \"setosa\"}, {\"sepalLength\": 4.7, \"sepalWidth\": 3.2, \"petalLength\": 1.3, \"petalWidth\": 0.2, \"species\": \"setosa\"}, {\"sepalLength\": 4.6, \"sepalWidth\": 3.1, \"petalLength\": 1.5, \"petalWidth\": 0.2, \"species\": \"setosa\"}, {\"sepalLength\": 5.0, \"sepalWidth\": 3.6, \"petalLength\": 1.4, \"petalWidth\": 0.2, \"species\": \"setosa\"}, {\"sepalLength\": 5.4, \"sepalWidth\": 3.9, \"petalLength\": 1.7000000000000002, \"petalWidth\": 0.4, \"species\": \"setosa\"}, {\"sepalLength\": 4.6, \"sepalWidth\": 3.4, \"petalLength\": 1.4, \"petalWidth\": 0.30000000000000004, \"species\": \"setosa\"}, {\"sepalLength\": 5.0, \"sepalWidth\": 3.4, \"petalLength\": 1.5, \"petalWidth\": 0.2, \"species\": \"setosa\"}, {\"sepalLength\": 4.4, \"sepalWidth\": 2.9, \"petalLength\": 1.4, \"petalWidth\": 0.2, \"species\": \"setosa\"}, {\"sepalLength\": 4.9, \"sepalWidth\": 3.1, \"petalLength\": 1.5, \"petalWidth\": 0.1, \"species\": \"setosa\"}, {\"sepalLength\": 5.4, \"sepalWidth\": 3.7, \"petalLength\": 1.5, \"petalWidth\": 0.2, \"species\": \"setosa\"}, {\"sepalLength\": 4.8, \"sepalWidth\": 3.4, \"petalLength\": 1.6, \"petalWidth\": 0.2, \"species\": \"setosa\"}, {\"sepalLength\": 4.8, \"sepalWidth\": 3.0, \"petalLength\": 1.4, \"petalWidth\": 0.1, \"species\": \"setosa\"}, {\"sepalLength\": 4.3, \"sepalWidth\": 3.0, \"petalLength\": 1.1, \"petalWidth\": 0.1, \"species\": \"setosa\"}, {\"sepalLength\": 5.8, \"sepalWidth\": 4.0, \"petalLength\": 1.2, \"petalWidth\": 0.2, \"species\": \"setosa\"}, {\"sepalLength\": 5.7, \"sepalWidth\": 4.4, \"petalLength\": 1.5, \"petalWidth\": 0.4, \"species\": \"setosa\"}, {\"sepalLength\": 5.4, \"sepalWidth\": 3.9, \"petalLength\": 1.3, \"petalWidth\": 0.4, \"species\": \"setosa\"}, {\"sepalLength\": 5.1, \"sepalWidth\": 3.5, \"petalLength\": 1.4, \"petalWidth\": 0.30000000000000004, \"species\": \"setosa\"}, {\"sepalLength\": 5.7, \"sepalWidth\": 3.8, \"petalLength\": 1.7000000000000002, \"petalWidth\": 0.30000000000000004, \"species\": \"setosa\"}, {\"sepalLength\": 5.1, \"sepalWidth\": 3.8, \"petalLength\": 1.5, \"petalWidth\": 0.30000000000000004, \"species\": \"setosa\"}, {\"sepalLength\": 5.4, \"sepalWidth\": 3.4, \"petalLength\": 1.7000000000000002, \"petalWidth\": 0.2, \"species\": \"setosa\"}, {\"sepalLength\": 5.1, \"sepalWidth\": 3.7, \"petalLength\": 1.5, \"petalWidth\": 0.4, \"species\": \"setosa\"}, {\"sepalLength\": 4.6, \"sepalWidth\": 3.6, \"petalLength\": 1.0, \"petalWidth\": 0.2, \"species\": \"setosa\"}, {\"sepalLength\": 5.1, \"sepalWidth\": 3.3, \"petalLength\": 1.7000000000000002, \"petalWidth\": 0.5, \"species\": \"setosa\"}, {\"sepalLength\": 4.8, \"sepalWidth\": 3.4, \"petalLength\": 1.9, \"petalWidth\": 0.2, \"species\": \"setosa\"}, {\"sepalLength\": 5.0, \"sepalWidth\": 3.0, \"petalLength\": 1.6, \"petalWidth\": 0.2, \"species\": \"setosa\"}, {\"sepalLength\": 5.0, \"sepalWidth\": 3.4, \"petalLength\": 1.6, \"petalWidth\": 0.4, \"species\": \"setosa\"}, {\"sepalLength\": 5.2, \"sepalWidth\": 3.5, \"petalLength\": 1.5, \"petalWidth\": 0.2, \"species\": \"setosa\"}, {\"sepalLength\": 5.2, \"sepalWidth\": 3.4, \"petalLength\": 1.4, \"petalWidth\": 0.2, \"species\": \"setosa\"}, {\"sepalLength\": 4.7, \"sepalWidth\": 3.2, \"petalLength\": 1.6, \"petalWidth\": 0.2, \"species\": \"setosa\"}, {\"sepalLength\": 4.8, \"sepalWidth\": 3.1, \"petalLength\": 1.6, \"petalWidth\": 0.2, \"species\": \"setosa\"}, {\"sepalLength\": 5.4, \"sepalWidth\": 3.4, \"petalLength\": 1.5, \"petalWidth\": 0.4, \"species\": \"setosa\"}, {\"sepalLength\": 5.2, \"sepalWidth\": 4.1, \"petalLength\": 1.5, \"petalWidth\": 0.1, \"species\": \"setosa\"}, {\"sepalLength\": 5.5, \"sepalWidth\": 4.2, \"petalLength\": 1.4, \"petalWidth\": 0.2, \"species\": \"setosa\"}, {\"sepalLength\": 4.9, \"sepalWidth\": 3.1, \"petalLength\": 1.5, \"petalWidth\": 0.2, \"species\": \"setosa\"}, {\"sepalLength\": 5.0, \"sepalWidth\": 3.2, \"petalLength\": 1.2, \"petalWidth\": 0.2, \"species\": \"setosa\"}, {\"sepalLength\": 5.5, \"sepalWidth\": 3.5, \"petalLength\": 1.3, \"petalWidth\": 0.2, \"species\": \"setosa\"}, {\"sepalLength\": 4.9, \"sepalWidth\": 3.6, \"petalLength\": 1.4, \"petalWidth\": 0.1, \"species\": \"setosa\"}, {\"sepalLength\": 4.4, \"sepalWidth\": 3.0, \"petalLength\": 1.3, \"petalWidth\": 0.2, \"species\": \"setosa\"}, {\"sepalLength\": 5.1, \"sepalWidth\": 3.4, \"petalLength\": 1.5, \"petalWidth\": 0.2, \"species\": \"setosa\"}, {\"sepalLength\": 5.0, \"sepalWidth\": 3.5, \"petalLength\": 1.3, \"petalWidth\": 0.30000000000000004, \"species\": \"setosa\"}, {\"sepalLength\": 4.5, \"sepalWidth\": 2.3, \"petalLength\": 1.3, \"petalWidth\": 0.30000000000000004, \"species\": \"setosa\"}, {\"sepalLength\": 4.4, \"sepalWidth\": 3.2, \"petalLength\": 1.3, \"petalWidth\": 0.2, \"species\": \"setosa\"}, {\"sepalLength\": 5.0, \"sepalWidth\": 3.5, \"petalLength\": 1.6, \"petalWidth\": 0.6000000000000001, \"species\": \"setosa\"}, {\"sepalLength\": 5.1, \"sepalWidth\": 3.8, \"petalLength\": 1.9, \"petalWidth\": 0.4, \"species\": \"setosa\"}, {\"sepalLength\": 4.8, \"sepalWidth\": 3.0, \"petalLength\": 1.4, \"petalWidth\": 0.30000000000000004, \"species\": \"setosa\"}, {\"sepalLength\": 5.1, \"sepalWidth\": 3.8, \"petalLength\": 1.6, \"petalWidth\": 0.2, \"species\": \"setosa\"}, {\"sepalLength\": 4.6, \"sepalWidth\": 3.2, \"petalLength\": 1.4, \"petalWidth\": 0.2, \"species\": \"setosa\"}, {\"sepalLength\": 5.3, \"sepalWidth\": 3.7, \"petalLength\": 1.5, \"petalWidth\": 0.2, \"species\": \"setosa\"}, {\"sepalLength\": 5.0, \"sepalWidth\": 3.3, \"petalLength\": 1.4, \"petalWidth\": 0.2, \"species\": \"setosa\"}, {\"sepalLength\": 7.0, \"sepalWidth\": 3.2, \"petalLength\": 4.7, \"petalWidth\": 1.4, \"species\": \"versicolor\"}, {\"sepalLength\": 6.4, \"sepalWidth\": 3.2, \"petalLength\": 4.5, \"petalWidth\": 1.5, \"species\": \"versicolor\"}, {\"sepalLength\": 6.9, \"sepalWidth\": 3.1, \"petalLength\": 4.9, \"petalWidth\": 1.5, \"species\": \"versicolor\"}, {\"sepalLength\": 5.5, \"sepalWidth\": 2.3, \"petalLength\": 4.0, \"petalWidth\": 1.3, \"species\": \"versicolor\"}, {\"sepalLength\": 6.5, \"sepalWidth\": 2.8, \"petalLength\": 4.6, \"petalWidth\": 1.5, \"species\": \"versicolor\"}, {\"sepalLength\": 5.7, \"sepalWidth\": 2.8, \"petalLength\": 4.5, \"petalWidth\": 1.3, \"species\": \"versicolor\"}, {\"sepalLength\": 6.3, \"sepalWidth\": 3.3, \"petalLength\": 4.7, \"petalWidth\": 1.6, \"species\": \"versicolor\"}, {\"sepalLength\": 4.9, \"sepalWidth\": 2.4, \"petalLength\": 3.3, \"petalWidth\": 1.0, \"species\": \"versicolor\"}, {\"sepalLength\": 6.6, \"sepalWidth\": 2.9, \"petalLength\": 4.6, \"petalWidth\": 1.3, \"species\": \"versicolor\"}, {\"sepalLength\": 5.2, \"sepalWidth\": 2.7, \"petalLength\": 3.9, \"petalWidth\": 1.4, \"species\": \"versicolor\"}, {\"sepalLength\": 5.0, \"sepalWidth\": 2.0, \"petalLength\": 3.5, \"petalWidth\": 1.0, \"species\": \"versicolor\"}, {\"sepalLength\": 5.9, \"sepalWidth\": 3.0, \"petalLength\": 4.2, \"petalWidth\": 1.5, \"species\": \"versicolor\"}, {\"sepalLength\": 6.0, \"sepalWidth\": 2.2, \"petalLength\": 4.0, \"petalWidth\": 1.0, \"species\": \"versicolor\"}, {\"sepalLength\": 6.1, \"sepalWidth\": 2.9, \"petalLength\": 4.7, \"petalWidth\": 1.4, \"species\": \"versicolor\"}, {\"sepalLength\": 5.6, \"sepalWidth\": 2.9, \"petalLength\": 3.6, \"petalWidth\": 1.3, \"species\": \"versicolor\"}, {\"sepalLength\": 6.7, \"sepalWidth\": 3.1, \"petalLength\": 4.4, \"petalWidth\": 1.4, \"species\": \"versicolor\"}, {\"sepalLength\": 5.6, \"sepalWidth\": 3.0, \"petalLength\": 4.5, \"petalWidth\": 1.5, \"species\": \"versicolor\"}, {\"sepalLength\": 5.8, \"sepalWidth\": 2.7, \"petalLength\": 4.1, \"petalWidth\": 1.0, \"species\": \"versicolor\"}, {\"sepalLength\": 6.2, \"sepalWidth\": 2.2, \"petalLength\": 4.5, \"petalWidth\": 1.5, \"species\": \"versicolor\"}, {\"sepalLength\": 5.6, \"sepalWidth\": 2.5, \"petalLength\": 3.9, \"petalWidth\": 1.1, \"species\": \"versicolor\"}, {\"sepalLength\": 5.9, \"sepalWidth\": 3.2, \"petalLength\": 4.8, \"petalWidth\": 1.8, \"species\": \"versicolor\"}, {\"sepalLength\": 6.1, \"sepalWidth\": 2.8, \"petalLength\": 4.0, \"petalWidth\": 1.3, \"species\": \"versicolor\"}, {\"sepalLength\": 6.3, \"sepalWidth\": 2.5, \"petalLength\": 4.9, \"petalWidth\": 1.5, \"species\": \"versicolor\"}, {\"sepalLength\": 6.1, \"sepalWidth\": 2.8, \"petalLength\": 4.7, \"petalWidth\": 1.2, \"species\": \"versicolor\"}, {\"sepalLength\": 6.4, \"sepalWidth\": 2.9, \"petalLength\": 4.3, \"petalWidth\": 1.3, \"species\": \"versicolor\"}, {\"sepalLength\": 6.6, \"sepalWidth\": 3.0, \"petalLength\": 4.4, \"petalWidth\": 1.4, \"species\": \"versicolor\"}, {\"sepalLength\": 6.8, \"sepalWidth\": 2.8, \"petalLength\": 4.8, \"petalWidth\": 1.4, \"species\": \"versicolor\"}, {\"sepalLength\": 6.7, \"sepalWidth\": 3.0, \"petalLength\": 5.0, \"petalWidth\": 1.7000000000000002, \"species\": \"versicolor\"}, {\"sepalLength\": 6.0, \"sepalWidth\": 2.9, \"petalLength\": 4.5, \"petalWidth\": 1.5, \"species\": \"versicolor\"}, {\"sepalLength\": 5.7, \"sepalWidth\": 2.6, \"petalLength\": 3.5, \"petalWidth\": 1.0, \"species\": \"versicolor\"}, {\"sepalLength\": 5.5, \"sepalWidth\": 2.4, \"petalLength\": 3.8, \"petalWidth\": 1.1, \"species\": \"versicolor\"}, {\"sepalLength\": 5.5, \"sepalWidth\": 2.4, \"petalLength\": 3.7, \"petalWidth\": 1.0, \"species\": \"versicolor\"}, {\"sepalLength\": 5.8, \"sepalWidth\": 2.7, \"petalLength\": 3.9, \"petalWidth\": 1.2, \"species\": \"versicolor\"}, {\"sepalLength\": 6.0, \"sepalWidth\": 2.7, \"petalLength\": 5.1, \"petalWidth\": 1.6, \"species\": \"versicolor\"}, {\"sepalLength\": 5.4, \"sepalWidth\": 3.0, \"petalLength\": 4.5, \"petalWidth\": 1.5, \"species\": \"versicolor\"}, {\"sepalLength\": 6.0, \"sepalWidth\": 3.4, \"petalLength\": 4.5, \"petalWidth\": 1.6, \"species\": \"versicolor\"}, {\"sepalLength\": 6.7, \"sepalWidth\": 3.1, \"petalLength\": 4.7, \"petalWidth\": 1.5, \"species\": \"versicolor\"}, {\"sepalLength\": 6.3, \"sepalWidth\": 2.3, \"petalLength\": 4.4, \"petalWidth\": 1.3, \"species\": \"versicolor\"}, {\"sepalLength\": 5.6, \"sepalWidth\": 3.0, \"petalLength\": 4.1, \"petalWidth\": 1.3, \"species\": \"versicolor\"}, {\"sepalLength\": 5.5, \"sepalWidth\": 2.5, \"petalLength\": 4.0, \"petalWidth\": 1.3, \"species\": \"versicolor\"}, {\"sepalLength\": 5.5, \"sepalWidth\": 2.6, \"petalLength\": 4.4, \"petalWidth\": 1.2, \"species\": \"versicolor\"}, {\"sepalLength\": 6.1, \"sepalWidth\": 3.0, \"petalLength\": 4.6, \"petalWidth\": 1.4, \"species\": \"versicolor\"}, {\"sepalLength\": 5.8, \"sepalWidth\": 2.6, \"petalLength\": 4.0, \"petalWidth\": 1.2, \"species\": \"versicolor\"}, {\"sepalLength\": 5.0, \"sepalWidth\": 2.3, \"petalLength\": 3.3, \"petalWidth\": 1.0, \"species\": \"versicolor\"}, {\"sepalLength\": 5.6, \"sepalWidth\": 2.7, \"petalLength\": 4.2, \"petalWidth\": 1.3, \"species\": \"versicolor\"}, {\"sepalLength\": 5.7, \"sepalWidth\": 3.0, \"petalLength\": 4.2, \"petalWidth\": 1.2, \"species\": \"versicolor\"}, {\"sepalLength\": 5.7, \"sepalWidth\": 2.9, \"petalLength\": 4.2, \"petalWidth\": 1.3, \"species\": \"versicolor\"}, {\"sepalLength\": 6.2, \"sepalWidth\": 2.9, \"petalLength\": 4.3, \"petalWidth\": 1.3, \"species\": \"versicolor\"}, {\"sepalLength\": 5.1, \"sepalWidth\": 2.5, \"petalLength\": 3.0, \"petalWidth\": 1.1, \"species\": \"versicolor\"}, {\"sepalLength\": 5.7, \"sepalWidth\": 2.8, \"petalLength\": 4.1, \"petalWidth\": 1.3, \"species\": \"versicolor\"}, {\"sepalLength\": 6.3, \"sepalWidth\": 3.3, \"petalLength\": 6.0, \"petalWidth\": 2.5, \"species\": \"virginica\"}, {\"sepalLength\": 5.8, \"sepalWidth\": 2.7, \"petalLength\": 5.1, \"petalWidth\": 1.9, \"species\": \"virginica\"}, {\"sepalLength\": 7.1, \"sepalWidth\": 3.0, \"petalLength\": 5.9, \"petalWidth\": 2.1, \"species\": \"virginica\"}, {\"sepalLength\": 6.3, \"sepalWidth\": 2.9, \"petalLength\": 5.6, \"petalWidth\": 1.8, \"species\": \"virginica\"}, {\"sepalLength\": 6.5, \"sepalWidth\": 3.0, \"petalLength\": 5.8, \"petalWidth\": 2.2, \"species\": \"virginica\"}, {\"sepalLength\": 7.6, \"sepalWidth\": 3.0, \"petalLength\": 6.6, \"petalWidth\": 2.1, \"species\": \"virginica\"}, {\"sepalLength\": 4.9, \"sepalWidth\": 2.5, \"petalLength\": 4.5, \"petalWidth\": 1.7000000000000002, \"species\": \"virginica\"}, {\"sepalLength\": 7.3, \"sepalWidth\": 2.9, \"petalLength\": 6.3, \"petalWidth\": 1.8, \"species\": \"virginica\"}, {\"sepalLength\": 6.7, \"sepalWidth\": 2.5, \"petalLength\": 5.8, \"petalWidth\": 1.8, \"species\": \"virginica\"}, {\"sepalLength\": 7.2, \"sepalWidth\": 3.6, \"petalLength\": 6.1, \"petalWidth\": 2.5, \"species\": \"virginica\"}, {\"sepalLength\": 6.5, \"sepalWidth\": 3.2, \"petalLength\": 5.1, \"petalWidth\": 2.0, \"species\": \"virginica\"}, {\"sepalLength\": 6.4, \"sepalWidth\": 2.7, \"petalLength\": 5.3, \"petalWidth\": 1.9, \"species\": \"virginica\"}, {\"sepalLength\": 6.8, \"sepalWidth\": 3.0, \"petalLength\": 5.5, \"petalWidth\": 2.1, \"species\": \"virginica\"}, {\"sepalLength\": 5.7, \"sepalWidth\": 2.5, \"petalLength\": 5.0, \"petalWidth\": 2.0, \"species\": \"virginica\"}, {\"sepalLength\": 5.8, \"sepalWidth\": 2.8, \"petalLength\": 5.1, \"petalWidth\": 2.4, \"species\": \"virginica\"}, {\"sepalLength\": 6.4, \"sepalWidth\": 3.2, \"petalLength\": 5.3, \"petalWidth\": 2.3, \"species\": \"virginica\"}, {\"sepalLength\": 6.5, \"sepalWidth\": 3.0, \"petalLength\": 5.5, \"petalWidth\": 1.8, \"species\": \"virginica\"}, {\"sepalLength\": 7.7, \"sepalWidth\": 3.8, \"petalLength\": 6.7, \"petalWidth\": 2.2, \"species\": \"virginica\"}, {\"sepalLength\": 7.7, \"sepalWidth\": 2.6, \"petalLength\": 6.9, \"petalWidth\": 2.3, \"species\": \"virginica\"}, {\"sepalLength\": 6.0, \"sepalWidth\": 2.2, \"petalLength\": 5.0, \"petalWidth\": 1.5, \"species\": \"virginica\"}, {\"sepalLength\": 6.9, \"sepalWidth\": 3.2, \"petalLength\": 5.7, \"petalWidth\": 2.3, \"species\": \"virginica\"}, {\"sepalLength\": 5.6, \"sepalWidth\": 2.8, \"petalLength\": 4.9, \"petalWidth\": 2.0, \"species\": \"virginica\"}, {\"sepalLength\": 7.7, \"sepalWidth\": 2.8, \"petalLength\": 6.7, \"petalWidth\": 2.0, \"species\": \"virginica\"}, {\"sepalLength\": 6.3, \"sepalWidth\": 2.7, \"petalLength\": 4.9, \"petalWidth\": 1.8, \"species\": \"virginica\"}, {\"sepalLength\": 6.7, \"sepalWidth\": 3.3, \"petalLength\": 5.7, \"petalWidth\": 2.1, \"species\": \"virginica\"}, {\"sepalLength\": 7.2, \"sepalWidth\": 3.2, \"petalLength\": 6.0, \"petalWidth\": 1.8, \"species\": \"virginica\"}, {\"sepalLength\": 6.2, \"sepalWidth\": 2.8, \"petalLength\": 4.8, \"petalWidth\": 1.8, \"species\": \"virginica\"}, {\"sepalLength\": 6.1, \"sepalWidth\": 3.0, \"petalLength\": 4.9, \"petalWidth\": 1.8, \"species\": \"virginica\"}, {\"sepalLength\": 6.4, \"sepalWidth\": 2.8, \"petalLength\": 5.6, \"petalWidth\": 2.1, \"species\": \"virginica\"}, {\"sepalLength\": 7.2, \"sepalWidth\": 3.0, \"petalLength\": 5.8, \"petalWidth\": 1.6, \"species\": \"virginica\"}, {\"sepalLength\": 7.4, \"sepalWidth\": 2.8, \"petalLength\": 6.1, \"petalWidth\": 1.9, \"species\": \"virginica\"}, {\"sepalLength\": 7.9, \"sepalWidth\": 3.8, \"petalLength\": 6.4, \"petalWidth\": 2.0, \"species\": \"virginica\"}, {\"sepalLength\": 6.4, \"sepalWidth\": 2.8, \"petalLength\": 5.6, \"petalWidth\": 2.2, \"species\": \"virginica\"}, {\"sepalLength\": 6.3, \"sepalWidth\": 2.8, \"petalLength\": 5.1, \"petalWidth\": 1.5, \"species\": \"virginica\"}, {\"sepalLength\": 6.1, \"sepalWidth\": 2.6, \"petalLength\": 5.6, \"petalWidth\": 1.4, \"species\": \"virginica\"}, {\"sepalLength\": 7.7, \"sepalWidth\": 3.0, \"petalLength\": 6.1, \"petalWidth\": 2.3, \"species\": \"virginica\"}, {\"sepalLength\": 6.3, \"sepalWidth\": 3.4, \"petalLength\": 5.6, \"petalWidth\": 2.4, \"species\": \"virginica\"}, {\"sepalLength\": 6.4, \"sepalWidth\": 3.1, \"petalLength\": 5.5, \"petalWidth\": 1.8, \"species\": \"virginica\"}, {\"sepalLength\": 6.0, \"sepalWidth\": 3.0, \"petalLength\": 4.8, \"petalWidth\": 1.8, \"species\": \"virginica\"}, {\"sepalLength\": 6.9, \"sepalWidth\": 3.1, \"petalLength\": 5.4, \"petalWidth\": 2.1, \"species\": \"virginica\"}, {\"sepalLength\": 6.7, \"sepalWidth\": 3.1, \"petalLength\": 5.6, \"petalWidth\": 2.4, \"species\": \"virginica\"}, {\"sepalLength\": 6.9, \"sepalWidth\": 3.1, \"petalLength\": 5.1, \"petalWidth\": 2.3, \"species\": \"virginica\"}, {\"sepalLength\": 5.8, \"sepalWidth\": 2.7, \"petalLength\": 5.1, \"petalWidth\": 1.9, \"species\": \"virginica\"}, {\"sepalLength\": 6.8, \"sepalWidth\": 3.2, \"petalLength\": 5.9, \"petalWidth\": 2.3, \"species\": \"virginica\"}, {\"sepalLength\": 6.7, \"sepalWidth\": 3.3, \"petalLength\": 5.7, \"petalWidth\": 2.5, \"species\": \"virginica\"}, {\"sepalLength\": 6.7, \"sepalWidth\": 3.0, \"petalLength\": 5.2, \"petalWidth\": 2.3, \"species\": \"virginica\"}, {\"sepalLength\": 6.3, \"sepalWidth\": 2.5, \"petalLength\": 5.0, \"petalWidth\": 1.9, \"species\": \"virginica\"}, {\"sepalLength\": 6.5, \"sepalWidth\": 3.0, \"petalLength\": 5.2, \"petalWidth\": 2.0, \"species\": \"virginica\"}, {\"sepalLength\": 6.2, \"sepalWidth\": 3.4, \"petalLength\": 5.4, \"petalWidth\": 2.3, \"species\": \"virginica\"}, {\"sepalLength\": 5.9, \"sepalWidth\": 3.0, \"petalLength\": 5.1, \"petalWidth\": 1.8, \"species\": \"virginica\"}]}}, {\"mode\": \"vega-lite\"});\n",
              "</script>"
            ],
            "text/plain": [
              "alt.Chart(...)"
            ]
          },
          "metadata": {},
          "execution_count": 34
        }
      ],
      "source": [
        "interval = alt.selection_interval()\n",
        "\n",
        "alt.Chart(iris).mark_point().encode(\n",
        "    x='petalLength',\n",
        "    y='petalWidth',\n",
        "    color=alt.condition(interval, 'species', alt.value('lightgray'))\n",
        ").properties(\n",
        "    selection=interval\n",
        ")"
      ]
    },
    {
      "cell_type": "markdown",
      "metadata": {
        "id": "DPohM1vYu27q"
      },
      "source": [
        "The nice thing about this selection API is that it *automatically* applies across any compound charts; for example, here we can horizontally concatenate two charts, and since they both have the same selection they both respond appropriately:"
      ]
    },
    {
      "cell_type": "code",
      "execution_count": 35,
      "metadata": {
        "colab": {
          "base_uri": "https://localhost:8080/",
          "height": 365
        },
        "id": "OmtD6EV9u27r",
        "outputId": "08a96c0d-62c9-4542-ec0f-b714814dabdd"
      },
      "outputs": [
        {
          "output_type": "execute_result",
          "data": {
            "text/html": [
              "\n",
              "<div id=\"altair-viz-3fe0727dbedd480abda7270d46014ffe\"></div>\n",
              "<script type=\"text/javascript\">\n",
              "  var VEGA_DEBUG = (typeof VEGA_DEBUG == \"undefined\") ? {} : VEGA_DEBUG;\n",
              "  (function(spec, embedOpt){\n",
              "    let outputDiv = document.currentScript.previousElementSibling;\n",
              "    if (outputDiv.id !== \"altair-viz-3fe0727dbedd480abda7270d46014ffe\") {\n",
              "      outputDiv = document.getElementById(\"altair-viz-3fe0727dbedd480abda7270d46014ffe\");\n",
              "    }\n",
              "    const paths = {\n",
              "      \"vega\": \"https://cdn.jsdelivr.net/npm//vega@5?noext\",\n",
              "      \"vega-lib\": \"https://cdn.jsdelivr.net/npm//vega-lib?noext\",\n",
              "      \"vega-lite\": \"https://cdn.jsdelivr.net/npm//vega-lite@4.17.0?noext\",\n",
              "      \"vega-embed\": \"https://cdn.jsdelivr.net/npm//vega-embed@6?noext\",\n",
              "    };\n",
              "\n",
              "    function maybeLoadScript(lib, version) {\n",
              "      var key = `${lib.replace(\"-\", \"\")}_version`;\n",
              "      return (VEGA_DEBUG[key] == version) ?\n",
              "        Promise.resolve(paths[lib]) :\n",
              "        new Promise(function(resolve, reject) {\n",
              "          var s = document.createElement('script');\n",
              "          document.getElementsByTagName(\"head\")[0].appendChild(s);\n",
              "          s.async = true;\n",
              "          s.onload = () => {\n",
              "            VEGA_DEBUG[key] = version;\n",
              "            return resolve(paths[lib]);\n",
              "          };\n",
              "          s.onerror = () => reject(`Error loading script: ${paths[lib]}`);\n",
              "          s.src = paths[lib];\n",
              "        });\n",
              "    }\n",
              "\n",
              "    function showError(err) {\n",
              "      outputDiv.innerHTML = `<div class=\"error\" style=\"color:red;\">${err}</div>`;\n",
              "      throw err;\n",
              "    }\n",
              "\n",
              "    function displayChart(vegaEmbed) {\n",
              "      vegaEmbed(outputDiv, spec, embedOpt)\n",
              "        .catch(err => showError(`Javascript Error: ${err.message}<br>This usually means there's a typo in your chart specification. See the javascript console for the full traceback.`));\n",
              "    }\n",
              "\n",
              "    if(typeof define === \"function\" && define.amd) {\n",
              "      requirejs.config({paths});\n",
              "      require([\"vega-embed\"], displayChart, err => showError(`Error loading script: ${err.message}`));\n",
              "    } else {\n",
              "      maybeLoadScript(\"vega\", \"5\")\n",
              "        .then(() => maybeLoadScript(\"vega-lite\", \"4.17.0\"))\n",
              "        .then(() => maybeLoadScript(\"vega-embed\", \"6\"))\n",
              "        .catch(showError)\n",
              "        .then(() => displayChart(vegaEmbed));\n",
              "    }\n",
              "  })({\"config\": {\"view\": {\"continuousWidth\": 400, \"continuousHeight\": 300}}, \"hconcat\": [{\"mark\": \"point\", \"encoding\": {\"color\": {\"condition\": {\"field\": \"species\", \"type\": \"nominal\", \"selection\": \"selector005\"}, \"value\": \"lightgray\"}, \"x\": {\"field\": \"petalLength\", \"type\": \"quantitative\"}, \"y\": {\"field\": \"petalWidth\", \"type\": \"quantitative\"}}, \"selection\": {\"selector005\": {\"type\": \"interval\"}}}, {\"mark\": \"point\", \"encoding\": {\"color\": {\"condition\": {\"field\": \"species\", \"type\": \"nominal\", \"selection\": \"selector005\"}, \"value\": \"lightgray\"}, \"x\": {\"field\": \"sepalLength\", \"type\": \"quantitative\"}, \"y\": {\"field\": \"petalWidth\", \"type\": \"quantitative\"}}, \"selection\": {\"selector005\": {\"type\": \"interval\"}}}], \"data\": {\"name\": \"data-a264acbd6e539a8b3afc0cb5f240fb57\"}, \"$schema\": \"https://vega.github.io/schema/vega-lite/v4.17.0.json\", \"datasets\": {\"data-a264acbd6e539a8b3afc0cb5f240fb57\": [{\"sepalLength\": 5.1, \"sepalWidth\": 3.5, \"petalLength\": 1.4, \"petalWidth\": 0.2, \"species\": \"setosa\"}, {\"sepalLength\": 4.9, \"sepalWidth\": 3.0, \"petalLength\": 1.4, \"petalWidth\": 0.2, \"species\": \"setosa\"}, {\"sepalLength\": 4.7, \"sepalWidth\": 3.2, \"petalLength\": 1.3, \"petalWidth\": 0.2, \"species\": \"setosa\"}, {\"sepalLength\": 4.6, \"sepalWidth\": 3.1, \"petalLength\": 1.5, \"petalWidth\": 0.2, \"species\": \"setosa\"}, {\"sepalLength\": 5.0, \"sepalWidth\": 3.6, \"petalLength\": 1.4, \"petalWidth\": 0.2, \"species\": \"setosa\"}, {\"sepalLength\": 5.4, \"sepalWidth\": 3.9, \"petalLength\": 1.7000000000000002, \"petalWidth\": 0.4, \"species\": \"setosa\"}, {\"sepalLength\": 4.6, \"sepalWidth\": 3.4, \"petalLength\": 1.4, \"petalWidth\": 0.30000000000000004, \"species\": \"setosa\"}, {\"sepalLength\": 5.0, \"sepalWidth\": 3.4, \"petalLength\": 1.5, \"petalWidth\": 0.2, \"species\": \"setosa\"}, {\"sepalLength\": 4.4, \"sepalWidth\": 2.9, \"petalLength\": 1.4, \"petalWidth\": 0.2, \"species\": \"setosa\"}, {\"sepalLength\": 4.9, \"sepalWidth\": 3.1, \"petalLength\": 1.5, \"petalWidth\": 0.1, \"species\": \"setosa\"}, {\"sepalLength\": 5.4, \"sepalWidth\": 3.7, \"petalLength\": 1.5, \"petalWidth\": 0.2, \"species\": \"setosa\"}, {\"sepalLength\": 4.8, \"sepalWidth\": 3.4, \"petalLength\": 1.6, \"petalWidth\": 0.2, \"species\": \"setosa\"}, {\"sepalLength\": 4.8, \"sepalWidth\": 3.0, \"petalLength\": 1.4, \"petalWidth\": 0.1, \"species\": \"setosa\"}, {\"sepalLength\": 4.3, \"sepalWidth\": 3.0, \"petalLength\": 1.1, \"petalWidth\": 0.1, \"species\": \"setosa\"}, {\"sepalLength\": 5.8, \"sepalWidth\": 4.0, \"petalLength\": 1.2, \"petalWidth\": 0.2, \"species\": \"setosa\"}, {\"sepalLength\": 5.7, \"sepalWidth\": 4.4, \"petalLength\": 1.5, \"petalWidth\": 0.4, \"species\": \"setosa\"}, {\"sepalLength\": 5.4, \"sepalWidth\": 3.9, \"petalLength\": 1.3, \"petalWidth\": 0.4, \"species\": \"setosa\"}, {\"sepalLength\": 5.1, \"sepalWidth\": 3.5, \"petalLength\": 1.4, \"petalWidth\": 0.30000000000000004, \"species\": \"setosa\"}, {\"sepalLength\": 5.7, \"sepalWidth\": 3.8, \"petalLength\": 1.7000000000000002, \"petalWidth\": 0.30000000000000004, \"species\": \"setosa\"}, {\"sepalLength\": 5.1, \"sepalWidth\": 3.8, \"petalLength\": 1.5, \"petalWidth\": 0.30000000000000004, \"species\": \"setosa\"}, {\"sepalLength\": 5.4, \"sepalWidth\": 3.4, \"petalLength\": 1.7000000000000002, \"petalWidth\": 0.2, \"species\": \"setosa\"}, {\"sepalLength\": 5.1, \"sepalWidth\": 3.7, \"petalLength\": 1.5, \"petalWidth\": 0.4, \"species\": \"setosa\"}, {\"sepalLength\": 4.6, \"sepalWidth\": 3.6, \"petalLength\": 1.0, \"petalWidth\": 0.2, \"species\": \"setosa\"}, {\"sepalLength\": 5.1, \"sepalWidth\": 3.3, \"petalLength\": 1.7000000000000002, \"petalWidth\": 0.5, \"species\": \"setosa\"}, {\"sepalLength\": 4.8, \"sepalWidth\": 3.4, \"petalLength\": 1.9, \"petalWidth\": 0.2, \"species\": \"setosa\"}, {\"sepalLength\": 5.0, \"sepalWidth\": 3.0, \"petalLength\": 1.6, \"petalWidth\": 0.2, \"species\": \"setosa\"}, {\"sepalLength\": 5.0, \"sepalWidth\": 3.4, \"petalLength\": 1.6, \"petalWidth\": 0.4, \"species\": \"setosa\"}, {\"sepalLength\": 5.2, \"sepalWidth\": 3.5, \"petalLength\": 1.5, \"petalWidth\": 0.2, \"species\": \"setosa\"}, {\"sepalLength\": 5.2, \"sepalWidth\": 3.4, \"petalLength\": 1.4, \"petalWidth\": 0.2, \"species\": \"setosa\"}, {\"sepalLength\": 4.7, \"sepalWidth\": 3.2, \"petalLength\": 1.6, \"petalWidth\": 0.2, \"species\": \"setosa\"}, {\"sepalLength\": 4.8, \"sepalWidth\": 3.1, \"petalLength\": 1.6, \"petalWidth\": 0.2, \"species\": \"setosa\"}, {\"sepalLength\": 5.4, \"sepalWidth\": 3.4, \"petalLength\": 1.5, \"petalWidth\": 0.4, \"species\": \"setosa\"}, {\"sepalLength\": 5.2, \"sepalWidth\": 4.1, \"petalLength\": 1.5, \"petalWidth\": 0.1, \"species\": \"setosa\"}, {\"sepalLength\": 5.5, \"sepalWidth\": 4.2, \"petalLength\": 1.4, \"petalWidth\": 0.2, \"species\": \"setosa\"}, {\"sepalLength\": 4.9, \"sepalWidth\": 3.1, \"petalLength\": 1.5, \"petalWidth\": 0.2, \"species\": \"setosa\"}, {\"sepalLength\": 5.0, \"sepalWidth\": 3.2, \"petalLength\": 1.2, \"petalWidth\": 0.2, \"species\": \"setosa\"}, {\"sepalLength\": 5.5, \"sepalWidth\": 3.5, \"petalLength\": 1.3, \"petalWidth\": 0.2, \"species\": \"setosa\"}, {\"sepalLength\": 4.9, \"sepalWidth\": 3.6, \"petalLength\": 1.4, \"petalWidth\": 0.1, \"species\": \"setosa\"}, {\"sepalLength\": 4.4, \"sepalWidth\": 3.0, \"petalLength\": 1.3, \"petalWidth\": 0.2, \"species\": \"setosa\"}, {\"sepalLength\": 5.1, \"sepalWidth\": 3.4, \"petalLength\": 1.5, \"petalWidth\": 0.2, \"species\": \"setosa\"}, {\"sepalLength\": 5.0, \"sepalWidth\": 3.5, \"petalLength\": 1.3, \"petalWidth\": 0.30000000000000004, \"species\": \"setosa\"}, {\"sepalLength\": 4.5, \"sepalWidth\": 2.3, \"petalLength\": 1.3, \"petalWidth\": 0.30000000000000004, \"species\": \"setosa\"}, {\"sepalLength\": 4.4, \"sepalWidth\": 3.2, \"petalLength\": 1.3, \"petalWidth\": 0.2, \"species\": \"setosa\"}, {\"sepalLength\": 5.0, \"sepalWidth\": 3.5, \"petalLength\": 1.6, \"petalWidth\": 0.6000000000000001, \"species\": \"setosa\"}, {\"sepalLength\": 5.1, \"sepalWidth\": 3.8, \"petalLength\": 1.9, \"petalWidth\": 0.4, \"species\": \"setosa\"}, {\"sepalLength\": 4.8, \"sepalWidth\": 3.0, \"petalLength\": 1.4, \"petalWidth\": 0.30000000000000004, \"species\": \"setosa\"}, {\"sepalLength\": 5.1, \"sepalWidth\": 3.8, \"petalLength\": 1.6, \"petalWidth\": 0.2, \"species\": \"setosa\"}, {\"sepalLength\": 4.6, \"sepalWidth\": 3.2, \"petalLength\": 1.4, \"petalWidth\": 0.2, \"species\": \"setosa\"}, {\"sepalLength\": 5.3, \"sepalWidth\": 3.7, \"petalLength\": 1.5, \"petalWidth\": 0.2, \"species\": \"setosa\"}, {\"sepalLength\": 5.0, \"sepalWidth\": 3.3, \"petalLength\": 1.4, \"petalWidth\": 0.2, \"species\": \"setosa\"}, {\"sepalLength\": 7.0, \"sepalWidth\": 3.2, \"petalLength\": 4.7, \"petalWidth\": 1.4, \"species\": \"versicolor\"}, {\"sepalLength\": 6.4, \"sepalWidth\": 3.2, \"petalLength\": 4.5, \"petalWidth\": 1.5, \"species\": \"versicolor\"}, {\"sepalLength\": 6.9, \"sepalWidth\": 3.1, \"petalLength\": 4.9, \"petalWidth\": 1.5, \"species\": \"versicolor\"}, {\"sepalLength\": 5.5, \"sepalWidth\": 2.3, \"petalLength\": 4.0, \"petalWidth\": 1.3, \"species\": \"versicolor\"}, {\"sepalLength\": 6.5, \"sepalWidth\": 2.8, \"petalLength\": 4.6, \"petalWidth\": 1.5, \"species\": \"versicolor\"}, {\"sepalLength\": 5.7, \"sepalWidth\": 2.8, \"petalLength\": 4.5, \"petalWidth\": 1.3, \"species\": \"versicolor\"}, {\"sepalLength\": 6.3, \"sepalWidth\": 3.3, \"petalLength\": 4.7, \"petalWidth\": 1.6, \"species\": \"versicolor\"}, {\"sepalLength\": 4.9, \"sepalWidth\": 2.4, \"petalLength\": 3.3, \"petalWidth\": 1.0, \"species\": \"versicolor\"}, {\"sepalLength\": 6.6, \"sepalWidth\": 2.9, \"petalLength\": 4.6, \"petalWidth\": 1.3, \"species\": \"versicolor\"}, {\"sepalLength\": 5.2, \"sepalWidth\": 2.7, \"petalLength\": 3.9, \"petalWidth\": 1.4, \"species\": \"versicolor\"}, {\"sepalLength\": 5.0, \"sepalWidth\": 2.0, \"petalLength\": 3.5, \"petalWidth\": 1.0, \"species\": \"versicolor\"}, {\"sepalLength\": 5.9, \"sepalWidth\": 3.0, \"petalLength\": 4.2, \"petalWidth\": 1.5, \"species\": \"versicolor\"}, {\"sepalLength\": 6.0, \"sepalWidth\": 2.2, \"petalLength\": 4.0, \"petalWidth\": 1.0, \"species\": \"versicolor\"}, {\"sepalLength\": 6.1, \"sepalWidth\": 2.9, \"petalLength\": 4.7, \"petalWidth\": 1.4, \"species\": \"versicolor\"}, {\"sepalLength\": 5.6, \"sepalWidth\": 2.9, \"petalLength\": 3.6, \"petalWidth\": 1.3, \"species\": \"versicolor\"}, {\"sepalLength\": 6.7, \"sepalWidth\": 3.1, \"petalLength\": 4.4, \"petalWidth\": 1.4, \"species\": \"versicolor\"}, {\"sepalLength\": 5.6, \"sepalWidth\": 3.0, \"petalLength\": 4.5, \"petalWidth\": 1.5, \"species\": \"versicolor\"}, {\"sepalLength\": 5.8, \"sepalWidth\": 2.7, \"petalLength\": 4.1, \"petalWidth\": 1.0, \"species\": \"versicolor\"}, {\"sepalLength\": 6.2, \"sepalWidth\": 2.2, \"petalLength\": 4.5, \"petalWidth\": 1.5, \"species\": \"versicolor\"}, {\"sepalLength\": 5.6, \"sepalWidth\": 2.5, \"petalLength\": 3.9, \"petalWidth\": 1.1, \"species\": \"versicolor\"}, {\"sepalLength\": 5.9, \"sepalWidth\": 3.2, \"petalLength\": 4.8, \"petalWidth\": 1.8, \"species\": \"versicolor\"}, {\"sepalLength\": 6.1, \"sepalWidth\": 2.8, \"petalLength\": 4.0, \"petalWidth\": 1.3, \"species\": \"versicolor\"}, {\"sepalLength\": 6.3, \"sepalWidth\": 2.5, \"petalLength\": 4.9, \"petalWidth\": 1.5, \"species\": \"versicolor\"}, {\"sepalLength\": 6.1, \"sepalWidth\": 2.8, \"petalLength\": 4.7, \"petalWidth\": 1.2, \"species\": \"versicolor\"}, {\"sepalLength\": 6.4, \"sepalWidth\": 2.9, \"petalLength\": 4.3, \"petalWidth\": 1.3, \"species\": \"versicolor\"}, {\"sepalLength\": 6.6, \"sepalWidth\": 3.0, \"petalLength\": 4.4, \"petalWidth\": 1.4, \"species\": \"versicolor\"}, {\"sepalLength\": 6.8, \"sepalWidth\": 2.8, \"petalLength\": 4.8, \"petalWidth\": 1.4, \"species\": \"versicolor\"}, {\"sepalLength\": 6.7, \"sepalWidth\": 3.0, \"petalLength\": 5.0, \"petalWidth\": 1.7000000000000002, \"species\": \"versicolor\"}, {\"sepalLength\": 6.0, \"sepalWidth\": 2.9, \"petalLength\": 4.5, \"petalWidth\": 1.5, \"species\": \"versicolor\"}, {\"sepalLength\": 5.7, \"sepalWidth\": 2.6, \"petalLength\": 3.5, \"petalWidth\": 1.0, \"species\": \"versicolor\"}, {\"sepalLength\": 5.5, \"sepalWidth\": 2.4, \"petalLength\": 3.8, \"petalWidth\": 1.1, \"species\": \"versicolor\"}, {\"sepalLength\": 5.5, \"sepalWidth\": 2.4, \"petalLength\": 3.7, \"petalWidth\": 1.0, \"species\": \"versicolor\"}, {\"sepalLength\": 5.8, \"sepalWidth\": 2.7, \"petalLength\": 3.9, \"petalWidth\": 1.2, \"species\": \"versicolor\"}, {\"sepalLength\": 6.0, \"sepalWidth\": 2.7, \"petalLength\": 5.1, \"petalWidth\": 1.6, \"species\": \"versicolor\"}, {\"sepalLength\": 5.4, \"sepalWidth\": 3.0, \"petalLength\": 4.5, \"petalWidth\": 1.5, \"species\": \"versicolor\"}, {\"sepalLength\": 6.0, \"sepalWidth\": 3.4, \"petalLength\": 4.5, \"petalWidth\": 1.6, \"species\": \"versicolor\"}, {\"sepalLength\": 6.7, \"sepalWidth\": 3.1, \"petalLength\": 4.7, \"petalWidth\": 1.5, \"species\": \"versicolor\"}, {\"sepalLength\": 6.3, \"sepalWidth\": 2.3, \"petalLength\": 4.4, \"petalWidth\": 1.3, \"species\": \"versicolor\"}, {\"sepalLength\": 5.6, \"sepalWidth\": 3.0, \"petalLength\": 4.1, \"petalWidth\": 1.3, \"species\": \"versicolor\"}, {\"sepalLength\": 5.5, \"sepalWidth\": 2.5, \"petalLength\": 4.0, \"petalWidth\": 1.3, \"species\": \"versicolor\"}, {\"sepalLength\": 5.5, \"sepalWidth\": 2.6, \"petalLength\": 4.4, \"petalWidth\": 1.2, \"species\": \"versicolor\"}, {\"sepalLength\": 6.1, \"sepalWidth\": 3.0, \"petalLength\": 4.6, \"petalWidth\": 1.4, \"species\": \"versicolor\"}, {\"sepalLength\": 5.8, \"sepalWidth\": 2.6, \"petalLength\": 4.0, \"petalWidth\": 1.2, \"species\": \"versicolor\"}, {\"sepalLength\": 5.0, \"sepalWidth\": 2.3, \"petalLength\": 3.3, \"petalWidth\": 1.0, \"species\": \"versicolor\"}, {\"sepalLength\": 5.6, \"sepalWidth\": 2.7, \"petalLength\": 4.2, \"petalWidth\": 1.3, \"species\": \"versicolor\"}, {\"sepalLength\": 5.7, \"sepalWidth\": 3.0, \"petalLength\": 4.2, \"petalWidth\": 1.2, \"species\": \"versicolor\"}, {\"sepalLength\": 5.7, \"sepalWidth\": 2.9, \"petalLength\": 4.2, \"petalWidth\": 1.3, \"species\": \"versicolor\"}, {\"sepalLength\": 6.2, \"sepalWidth\": 2.9, \"petalLength\": 4.3, \"petalWidth\": 1.3, \"species\": \"versicolor\"}, {\"sepalLength\": 5.1, \"sepalWidth\": 2.5, \"petalLength\": 3.0, \"petalWidth\": 1.1, \"species\": \"versicolor\"}, {\"sepalLength\": 5.7, \"sepalWidth\": 2.8, \"petalLength\": 4.1, \"petalWidth\": 1.3, \"species\": \"versicolor\"}, {\"sepalLength\": 6.3, \"sepalWidth\": 3.3, \"petalLength\": 6.0, \"petalWidth\": 2.5, \"species\": \"virginica\"}, {\"sepalLength\": 5.8, \"sepalWidth\": 2.7, \"petalLength\": 5.1, \"petalWidth\": 1.9, \"species\": \"virginica\"}, {\"sepalLength\": 7.1, \"sepalWidth\": 3.0, \"petalLength\": 5.9, \"petalWidth\": 2.1, \"species\": \"virginica\"}, {\"sepalLength\": 6.3, \"sepalWidth\": 2.9, \"petalLength\": 5.6, \"petalWidth\": 1.8, \"species\": \"virginica\"}, {\"sepalLength\": 6.5, \"sepalWidth\": 3.0, \"petalLength\": 5.8, \"petalWidth\": 2.2, \"species\": \"virginica\"}, {\"sepalLength\": 7.6, \"sepalWidth\": 3.0, \"petalLength\": 6.6, \"petalWidth\": 2.1, \"species\": \"virginica\"}, {\"sepalLength\": 4.9, \"sepalWidth\": 2.5, \"petalLength\": 4.5, \"petalWidth\": 1.7000000000000002, \"species\": \"virginica\"}, {\"sepalLength\": 7.3, \"sepalWidth\": 2.9, \"petalLength\": 6.3, \"petalWidth\": 1.8, \"species\": \"virginica\"}, {\"sepalLength\": 6.7, \"sepalWidth\": 2.5, \"petalLength\": 5.8, \"petalWidth\": 1.8, \"species\": \"virginica\"}, {\"sepalLength\": 7.2, \"sepalWidth\": 3.6, \"petalLength\": 6.1, \"petalWidth\": 2.5, \"species\": \"virginica\"}, {\"sepalLength\": 6.5, \"sepalWidth\": 3.2, \"petalLength\": 5.1, \"petalWidth\": 2.0, \"species\": \"virginica\"}, {\"sepalLength\": 6.4, \"sepalWidth\": 2.7, \"petalLength\": 5.3, \"petalWidth\": 1.9, \"species\": \"virginica\"}, {\"sepalLength\": 6.8, \"sepalWidth\": 3.0, \"petalLength\": 5.5, \"petalWidth\": 2.1, \"species\": \"virginica\"}, {\"sepalLength\": 5.7, \"sepalWidth\": 2.5, \"petalLength\": 5.0, \"petalWidth\": 2.0, \"species\": \"virginica\"}, {\"sepalLength\": 5.8, \"sepalWidth\": 2.8, \"petalLength\": 5.1, \"petalWidth\": 2.4, \"species\": \"virginica\"}, {\"sepalLength\": 6.4, \"sepalWidth\": 3.2, \"petalLength\": 5.3, \"petalWidth\": 2.3, \"species\": \"virginica\"}, {\"sepalLength\": 6.5, \"sepalWidth\": 3.0, \"petalLength\": 5.5, \"petalWidth\": 1.8, \"species\": \"virginica\"}, {\"sepalLength\": 7.7, \"sepalWidth\": 3.8, \"petalLength\": 6.7, \"petalWidth\": 2.2, \"species\": \"virginica\"}, {\"sepalLength\": 7.7, \"sepalWidth\": 2.6, \"petalLength\": 6.9, \"petalWidth\": 2.3, \"species\": \"virginica\"}, {\"sepalLength\": 6.0, \"sepalWidth\": 2.2, \"petalLength\": 5.0, \"petalWidth\": 1.5, \"species\": \"virginica\"}, {\"sepalLength\": 6.9, \"sepalWidth\": 3.2, \"petalLength\": 5.7, \"petalWidth\": 2.3, \"species\": \"virginica\"}, {\"sepalLength\": 5.6, \"sepalWidth\": 2.8, \"petalLength\": 4.9, \"petalWidth\": 2.0, \"species\": \"virginica\"}, {\"sepalLength\": 7.7, \"sepalWidth\": 2.8, \"petalLength\": 6.7, \"petalWidth\": 2.0, \"species\": \"virginica\"}, {\"sepalLength\": 6.3, \"sepalWidth\": 2.7, \"petalLength\": 4.9, \"petalWidth\": 1.8, \"species\": \"virginica\"}, {\"sepalLength\": 6.7, \"sepalWidth\": 3.3, \"petalLength\": 5.7, \"petalWidth\": 2.1, \"species\": \"virginica\"}, {\"sepalLength\": 7.2, \"sepalWidth\": 3.2, \"petalLength\": 6.0, \"petalWidth\": 1.8, \"species\": \"virginica\"}, {\"sepalLength\": 6.2, \"sepalWidth\": 2.8, \"petalLength\": 4.8, \"petalWidth\": 1.8, \"species\": \"virginica\"}, {\"sepalLength\": 6.1, \"sepalWidth\": 3.0, \"petalLength\": 4.9, \"petalWidth\": 1.8, \"species\": \"virginica\"}, {\"sepalLength\": 6.4, \"sepalWidth\": 2.8, \"petalLength\": 5.6, \"petalWidth\": 2.1, \"species\": \"virginica\"}, {\"sepalLength\": 7.2, \"sepalWidth\": 3.0, \"petalLength\": 5.8, \"petalWidth\": 1.6, \"species\": \"virginica\"}, {\"sepalLength\": 7.4, \"sepalWidth\": 2.8, \"petalLength\": 6.1, \"petalWidth\": 1.9, \"species\": \"virginica\"}, {\"sepalLength\": 7.9, \"sepalWidth\": 3.8, \"petalLength\": 6.4, \"petalWidth\": 2.0, \"species\": \"virginica\"}, {\"sepalLength\": 6.4, \"sepalWidth\": 2.8, \"petalLength\": 5.6, \"petalWidth\": 2.2, \"species\": \"virginica\"}, {\"sepalLength\": 6.3, \"sepalWidth\": 2.8, \"petalLength\": 5.1, \"petalWidth\": 1.5, \"species\": \"virginica\"}, {\"sepalLength\": 6.1, \"sepalWidth\": 2.6, \"petalLength\": 5.6, \"petalWidth\": 1.4, \"species\": \"virginica\"}, {\"sepalLength\": 7.7, \"sepalWidth\": 3.0, \"petalLength\": 6.1, \"petalWidth\": 2.3, \"species\": \"virginica\"}, {\"sepalLength\": 6.3, \"sepalWidth\": 3.4, \"petalLength\": 5.6, \"petalWidth\": 2.4, \"species\": \"virginica\"}, {\"sepalLength\": 6.4, \"sepalWidth\": 3.1, \"petalLength\": 5.5, \"petalWidth\": 1.8, \"species\": \"virginica\"}, {\"sepalLength\": 6.0, \"sepalWidth\": 3.0, \"petalLength\": 4.8, \"petalWidth\": 1.8, \"species\": \"virginica\"}, {\"sepalLength\": 6.9, \"sepalWidth\": 3.1, \"petalLength\": 5.4, \"petalWidth\": 2.1, \"species\": \"virginica\"}, {\"sepalLength\": 6.7, \"sepalWidth\": 3.1, \"petalLength\": 5.6, \"petalWidth\": 2.4, \"species\": \"virginica\"}, {\"sepalLength\": 6.9, \"sepalWidth\": 3.1, \"petalLength\": 5.1, \"petalWidth\": 2.3, \"species\": \"virginica\"}, {\"sepalLength\": 5.8, \"sepalWidth\": 2.7, \"petalLength\": 5.1, \"petalWidth\": 1.9, \"species\": \"virginica\"}, {\"sepalLength\": 6.8, \"sepalWidth\": 3.2, \"petalLength\": 5.9, \"petalWidth\": 2.3, \"species\": \"virginica\"}, {\"sepalLength\": 6.7, \"sepalWidth\": 3.3, \"petalLength\": 5.7, \"petalWidth\": 2.5, \"species\": \"virginica\"}, {\"sepalLength\": 6.7, \"sepalWidth\": 3.0, \"petalLength\": 5.2, \"petalWidth\": 2.3, \"species\": \"virginica\"}, {\"sepalLength\": 6.3, \"sepalWidth\": 2.5, \"petalLength\": 5.0, \"petalWidth\": 1.9, \"species\": \"virginica\"}, {\"sepalLength\": 6.5, \"sepalWidth\": 3.0, \"petalLength\": 5.2, \"petalWidth\": 2.0, \"species\": \"virginica\"}, {\"sepalLength\": 6.2, \"sepalWidth\": 3.4, \"petalLength\": 5.4, \"petalWidth\": 2.3, \"species\": \"virginica\"}, {\"sepalLength\": 5.9, \"sepalWidth\": 3.0, \"petalLength\": 5.1, \"petalWidth\": 1.8, \"species\": \"virginica\"}]}}, {\"mode\": \"vega-lite\"});\n",
              "</script>"
            ],
            "text/plain": [
              "alt.HConcatChart(...)"
            ]
          },
          "metadata": {},
          "execution_count": 35
        }
      ],
      "source": [
        "interval = alt.selection_interval()\n",
        "\n",
        "base = alt.Chart(iris).mark_point().encode(\n",
        "    y='petalWidth',\n",
        "    color=alt.condition(interval, 'species', alt.value('lightgray'))\n",
        ").properties(\n",
        "    selection=interval\n",
        ")\n",
        "\n",
        "base.encode(x='petalLength') | base.encode(x='sepalLength')"
      ]
    },
    {
      "cell_type": "markdown",
      "metadata": {
        "id": "_6b4cFoSu27r"
      },
      "source": [
        "The properties of the interval selection can be easily modified; for example, we can specify that it only applies to the x encoding:"
      ]
    },
    {
      "cell_type": "code",
      "execution_count": 36,
      "metadata": {
        "colab": {
          "base_uri": "https://localhost:8080/",
          "height": 365
        },
        "id": "r-CDA_64u27r",
        "outputId": "4368a94b-c790-4dae-ea92-92c907e8e175"
      },
      "outputs": [
        {
          "output_type": "execute_result",
          "data": {
            "text/html": [
              "\n",
              "<div id=\"altair-viz-351abfdf8f734719a97c214672008f25\"></div>\n",
              "<script type=\"text/javascript\">\n",
              "  var VEGA_DEBUG = (typeof VEGA_DEBUG == \"undefined\") ? {} : VEGA_DEBUG;\n",
              "  (function(spec, embedOpt){\n",
              "    let outputDiv = document.currentScript.previousElementSibling;\n",
              "    if (outputDiv.id !== \"altair-viz-351abfdf8f734719a97c214672008f25\") {\n",
              "      outputDiv = document.getElementById(\"altair-viz-351abfdf8f734719a97c214672008f25\");\n",
              "    }\n",
              "    const paths = {\n",
              "      \"vega\": \"https://cdn.jsdelivr.net/npm//vega@5?noext\",\n",
              "      \"vega-lib\": \"https://cdn.jsdelivr.net/npm//vega-lib?noext\",\n",
              "      \"vega-lite\": \"https://cdn.jsdelivr.net/npm//vega-lite@4.17.0?noext\",\n",
              "      \"vega-embed\": \"https://cdn.jsdelivr.net/npm//vega-embed@6?noext\",\n",
              "    };\n",
              "\n",
              "    function maybeLoadScript(lib, version) {\n",
              "      var key = `${lib.replace(\"-\", \"\")}_version`;\n",
              "      return (VEGA_DEBUG[key] == version) ?\n",
              "        Promise.resolve(paths[lib]) :\n",
              "        new Promise(function(resolve, reject) {\n",
              "          var s = document.createElement('script');\n",
              "          document.getElementsByTagName(\"head\")[0].appendChild(s);\n",
              "          s.async = true;\n",
              "          s.onload = () => {\n",
              "            VEGA_DEBUG[key] = version;\n",
              "            return resolve(paths[lib]);\n",
              "          };\n",
              "          s.onerror = () => reject(`Error loading script: ${paths[lib]}`);\n",
              "          s.src = paths[lib];\n",
              "        });\n",
              "    }\n",
              "\n",
              "    function showError(err) {\n",
              "      outputDiv.innerHTML = `<div class=\"error\" style=\"color:red;\">${err}</div>`;\n",
              "      throw err;\n",
              "    }\n",
              "\n",
              "    function displayChart(vegaEmbed) {\n",
              "      vegaEmbed(outputDiv, spec, embedOpt)\n",
              "        .catch(err => showError(`Javascript Error: ${err.message}<br>This usually means there's a typo in your chart specification. See the javascript console for the full traceback.`));\n",
              "    }\n",
              "\n",
              "    if(typeof define === \"function\" && define.amd) {\n",
              "      requirejs.config({paths});\n",
              "      require([\"vega-embed\"], displayChart, err => showError(`Error loading script: ${err.message}`));\n",
              "    } else {\n",
              "      maybeLoadScript(\"vega\", \"5\")\n",
              "        .then(() => maybeLoadScript(\"vega-lite\", \"4.17.0\"))\n",
              "        .then(() => maybeLoadScript(\"vega-embed\", \"6\"))\n",
              "        .catch(showError)\n",
              "        .then(() => displayChart(vegaEmbed));\n",
              "    }\n",
              "  })({\"config\": {\"view\": {\"continuousWidth\": 400, \"continuousHeight\": 300}}, \"hconcat\": [{\"mark\": \"point\", \"encoding\": {\"color\": {\"condition\": {\"field\": \"species\", \"type\": \"nominal\", \"selection\": \"selector006\"}, \"value\": \"lightgray\"}, \"x\": {\"field\": \"petalLength\", \"type\": \"quantitative\"}, \"y\": {\"field\": \"petalWidth\", \"type\": \"quantitative\"}}, \"selection\": {\"selector006\": {\"type\": \"interval\", \"encodings\": [\"x\"]}}}, {\"mark\": \"point\", \"encoding\": {\"color\": {\"condition\": {\"field\": \"species\", \"type\": \"nominal\", \"selection\": \"selector006\"}, \"value\": \"lightgray\"}, \"x\": {\"field\": \"sepalLength\", \"type\": \"quantitative\"}, \"y\": {\"field\": \"petalWidth\", \"type\": \"quantitative\"}}, \"selection\": {\"selector006\": {\"type\": \"interval\", \"encodings\": [\"x\"]}}}], \"data\": {\"name\": \"data-a264acbd6e539a8b3afc0cb5f240fb57\"}, \"$schema\": \"https://vega.github.io/schema/vega-lite/v4.17.0.json\", \"datasets\": {\"data-a264acbd6e539a8b3afc0cb5f240fb57\": [{\"sepalLength\": 5.1, \"sepalWidth\": 3.5, \"petalLength\": 1.4, \"petalWidth\": 0.2, \"species\": \"setosa\"}, {\"sepalLength\": 4.9, \"sepalWidth\": 3.0, \"petalLength\": 1.4, \"petalWidth\": 0.2, \"species\": \"setosa\"}, {\"sepalLength\": 4.7, \"sepalWidth\": 3.2, \"petalLength\": 1.3, \"petalWidth\": 0.2, \"species\": \"setosa\"}, {\"sepalLength\": 4.6, \"sepalWidth\": 3.1, \"petalLength\": 1.5, \"petalWidth\": 0.2, \"species\": \"setosa\"}, {\"sepalLength\": 5.0, \"sepalWidth\": 3.6, \"petalLength\": 1.4, \"petalWidth\": 0.2, \"species\": \"setosa\"}, {\"sepalLength\": 5.4, \"sepalWidth\": 3.9, \"petalLength\": 1.7000000000000002, \"petalWidth\": 0.4, \"species\": \"setosa\"}, {\"sepalLength\": 4.6, \"sepalWidth\": 3.4, \"petalLength\": 1.4, \"petalWidth\": 0.30000000000000004, \"species\": \"setosa\"}, {\"sepalLength\": 5.0, \"sepalWidth\": 3.4, \"petalLength\": 1.5, \"petalWidth\": 0.2, \"species\": \"setosa\"}, {\"sepalLength\": 4.4, \"sepalWidth\": 2.9, \"petalLength\": 1.4, \"petalWidth\": 0.2, \"species\": \"setosa\"}, {\"sepalLength\": 4.9, \"sepalWidth\": 3.1, \"petalLength\": 1.5, \"petalWidth\": 0.1, \"species\": \"setosa\"}, {\"sepalLength\": 5.4, \"sepalWidth\": 3.7, \"petalLength\": 1.5, \"petalWidth\": 0.2, \"species\": \"setosa\"}, {\"sepalLength\": 4.8, \"sepalWidth\": 3.4, \"petalLength\": 1.6, \"petalWidth\": 0.2, \"species\": \"setosa\"}, {\"sepalLength\": 4.8, \"sepalWidth\": 3.0, \"petalLength\": 1.4, \"petalWidth\": 0.1, \"species\": \"setosa\"}, {\"sepalLength\": 4.3, \"sepalWidth\": 3.0, \"petalLength\": 1.1, \"petalWidth\": 0.1, \"species\": \"setosa\"}, {\"sepalLength\": 5.8, \"sepalWidth\": 4.0, \"petalLength\": 1.2, \"petalWidth\": 0.2, \"species\": \"setosa\"}, {\"sepalLength\": 5.7, \"sepalWidth\": 4.4, \"petalLength\": 1.5, \"petalWidth\": 0.4, \"species\": \"setosa\"}, {\"sepalLength\": 5.4, \"sepalWidth\": 3.9, \"petalLength\": 1.3, \"petalWidth\": 0.4, \"species\": \"setosa\"}, {\"sepalLength\": 5.1, \"sepalWidth\": 3.5, \"petalLength\": 1.4, \"petalWidth\": 0.30000000000000004, \"species\": \"setosa\"}, {\"sepalLength\": 5.7, \"sepalWidth\": 3.8, \"petalLength\": 1.7000000000000002, \"petalWidth\": 0.30000000000000004, \"species\": \"setosa\"}, {\"sepalLength\": 5.1, \"sepalWidth\": 3.8, \"petalLength\": 1.5, \"petalWidth\": 0.30000000000000004, \"species\": \"setosa\"}, {\"sepalLength\": 5.4, \"sepalWidth\": 3.4, \"petalLength\": 1.7000000000000002, \"petalWidth\": 0.2, \"species\": \"setosa\"}, {\"sepalLength\": 5.1, \"sepalWidth\": 3.7, \"petalLength\": 1.5, \"petalWidth\": 0.4, \"species\": \"setosa\"}, {\"sepalLength\": 4.6, \"sepalWidth\": 3.6, \"petalLength\": 1.0, \"petalWidth\": 0.2, \"species\": \"setosa\"}, {\"sepalLength\": 5.1, \"sepalWidth\": 3.3, \"petalLength\": 1.7000000000000002, \"petalWidth\": 0.5, \"species\": \"setosa\"}, {\"sepalLength\": 4.8, \"sepalWidth\": 3.4, \"petalLength\": 1.9, \"petalWidth\": 0.2, \"species\": \"setosa\"}, {\"sepalLength\": 5.0, \"sepalWidth\": 3.0, \"petalLength\": 1.6, \"petalWidth\": 0.2, \"species\": \"setosa\"}, {\"sepalLength\": 5.0, \"sepalWidth\": 3.4, \"petalLength\": 1.6, \"petalWidth\": 0.4, \"species\": \"setosa\"}, {\"sepalLength\": 5.2, \"sepalWidth\": 3.5, \"petalLength\": 1.5, \"petalWidth\": 0.2, \"species\": \"setosa\"}, {\"sepalLength\": 5.2, \"sepalWidth\": 3.4, \"petalLength\": 1.4, \"petalWidth\": 0.2, \"species\": \"setosa\"}, {\"sepalLength\": 4.7, \"sepalWidth\": 3.2, \"petalLength\": 1.6, \"petalWidth\": 0.2, \"species\": \"setosa\"}, {\"sepalLength\": 4.8, \"sepalWidth\": 3.1, \"petalLength\": 1.6, \"petalWidth\": 0.2, \"species\": \"setosa\"}, {\"sepalLength\": 5.4, \"sepalWidth\": 3.4, \"petalLength\": 1.5, \"petalWidth\": 0.4, \"species\": \"setosa\"}, {\"sepalLength\": 5.2, \"sepalWidth\": 4.1, \"petalLength\": 1.5, \"petalWidth\": 0.1, \"species\": \"setosa\"}, {\"sepalLength\": 5.5, \"sepalWidth\": 4.2, \"petalLength\": 1.4, \"petalWidth\": 0.2, \"species\": \"setosa\"}, {\"sepalLength\": 4.9, \"sepalWidth\": 3.1, \"petalLength\": 1.5, \"petalWidth\": 0.2, \"species\": \"setosa\"}, {\"sepalLength\": 5.0, \"sepalWidth\": 3.2, \"petalLength\": 1.2, \"petalWidth\": 0.2, \"species\": \"setosa\"}, {\"sepalLength\": 5.5, \"sepalWidth\": 3.5, \"petalLength\": 1.3, \"petalWidth\": 0.2, \"species\": \"setosa\"}, {\"sepalLength\": 4.9, \"sepalWidth\": 3.6, \"petalLength\": 1.4, \"petalWidth\": 0.1, \"species\": \"setosa\"}, {\"sepalLength\": 4.4, \"sepalWidth\": 3.0, \"petalLength\": 1.3, \"petalWidth\": 0.2, \"species\": \"setosa\"}, {\"sepalLength\": 5.1, \"sepalWidth\": 3.4, \"petalLength\": 1.5, \"petalWidth\": 0.2, \"species\": \"setosa\"}, {\"sepalLength\": 5.0, \"sepalWidth\": 3.5, \"petalLength\": 1.3, \"petalWidth\": 0.30000000000000004, \"species\": \"setosa\"}, {\"sepalLength\": 4.5, \"sepalWidth\": 2.3, \"petalLength\": 1.3, \"petalWidth\": 0.30000000000000004, \"species\": \"setosa\"}, {\"sepalLength\": 4.4, \"sepalWidth\": 3.2, \"petalLength\": 1.3, \"petalWidth\": 0.2, \"species\": \"setosa\"}, {\"sepalLength\": 5.0, \"sepalWidth\": 3.5, \"petalLength\": 1.6, \"petalWidth\": 0.6000000000000001, \"species\": \"setosa\"}, {\"sepalLength\": 5.1, \"sepalWidth\": 3.8, \"petalLength\": 1.9, \"petalWidth\": 0.4, \"species\": \"setosa\"}, {\"sepalLength\": 4.8, \"sepalWidth\": 3.0, \"petalLength\": 1.4, \"petalWidth\": 0.30000000000000004, \"species\": \"setosa\"}, {\"sepalLength\": 5.1, \"sepalWidth\": 3.8, \"petalLength\": 1.6, \"petalWidth\": 0.2, \"species\": \"setosa\"}, {\"sepalLength\": 4.6, \"sepalWidth\": 3.2, \"petalLength\": 1.4, \"petalWidth\": 0.2, \"species\": \"setosa\"}, {\"sepalLength\": 5.3, \"sepalWidth\": 3.7, \"petalLength\": 1.5, \"petalWidth\": 0.2, \"species\": \"setosa\"}, {\"sepalLength\": 5.0, \"sepalWidth\": 3.3, \"petalLength\": 1.4, \"petalWidth\": 0.2, \"species\": \"setosa\"}, {\"sepalLength\": 7.0, \"sepalWidth\": 3.2, \"petalLength\": 4.7, \"petalWidth\": 1.4, \"species\": \"versicolor\"}, {\"sepalLength\": 6.4, \"sepalWidth\": 3.2, \"petalLength\": 4.5, \"petalWidth\": 1.5, \"species\": \"versicolor\"}, {\"sepalLength\": 6.9, \"sepalWidth\": 3.1, \"petalLength\": 4.9, \"petalWidth\": 1.5, \"species\": \"versicolor\"}, {\"sepalLength\": 5.5, \"sepalWidth\": 2.3, \"petalLength\": 4.0, \"petalWidth\": 1.3, \"species\": \"versicolor\"}, {\"sepalLength\": 6.5, \"sepalWidth\": 2.8, \"petalLength\": 4.6, \"petalWidth\": 1.5, \"species\": \"versicolor\"}, {\"sepalLength\": 5.7, \"sepalWidth\": 2.8, \"petalLength\": 4.5, \"petalWidth\": 1.3, \"species\": \"versicolor\"}, {\"sepalLength\": 6.3, \"sepalWidth\": 3.3, \"petalLength\": 4.7, \"petalWidth\": 1.6, \"species\": \"versicolor\"}, {\"sepalLength\": 4.9, \"sepalWidth\": 2.4, \"petalLength\": 3.3, \"petalWidth\": 1.0, \"species\": \"versicolor\"}, {\"sepalLength\": 6.6, \"sepalWidth\": 2.9, \"petalLength\": 4.6, \"petalWidth\": 1.3, \"species\": \"versicolor\"}, {\"sepalLength\": 5.2, \"sepalWidth\": 2.7, \"petalLength\": 3.9, \"petalWidth\": 1.4, \"species\": \"versicolor\"}, {\"sepalLength\": 5.0, \"sepalWidth\": 2.0, \"petalLength\": 3.5, \"petalWidth\": 1.0, \"species\": \"versicolor\"}, {\"sepalLength\": 5.9, \"sepalWidth\": 3.0, \"petalLength\": 4.2, \"petalWidth\": 1.5, \"species\": \"versicolor\"}, {\"sepalLength\": 6.0, \"sepalWidth\": 2.2, \"petalLength\": 4.0, \"petalWidth\": 1.0, \"species\": \"versicolor\"}, {\"sepalLength\": 6.1, \"sepalWidth\": 2.9, \"petalLength\": 4.7, \"petalWidth\": 1.4, \"species\": \"versicolor\"}, {\"sepalLength\": 5.6, \"sepalWidth\": 2.9, \"petalLength\": 3.6, \"petalWidth\": 1.3, \"species\": \"versicolor\"}, {\"sepalLength\": 6.7, \"sepalWidth\": 3.1, \"petalLength\": 4.4, \"petalWidth\": 1.4, \"species\": \"versicolor\"}, {\"sepalLength\": 5.6, \"sepalWidth\": 3.0, \"petalLength\": 4.5, \"petalWidth\": 1.5, \"species\": \"versicolor\"}, {\"sepalLength\": 5.8, \"sepalWidth\": 2.7, \"petalLength\": 4.1, \"petalWidth\": 1.0, \"species\": \"versicolor\"}, {\"sepalLength\": 6.2, \"sepalWidth\": 2.2, \"petalLength\": 4.5, \"petalWidth\": 1.5, \"species\": \"versicolor\"}, {\"sepalLength\": 5.6, \"sepalWidth\": 2.5, \"petalLength\": 3.9, \"petalWidth\": 1.1, \"species\": \"versicolor\"}, {\"sepalLength\": 5.9, \"sepalWidth\": 3.2, \"petalLength\": 4.8, \"petalWidth\": 1.8, \"species\": \"versicolor\"}, {\"sepalLength\": 6.1, \"sepalWidth\": 2.8, \"petalLength\": 4.0, \"petalWidth\": 1.3, \"species\": \"versicolor\"}, {\"sepalLength\": 6.3, \"sepalWidth\": 2.5, \"petalLength\": 4.9, \"petalWidth\": 1.5, \"species\": \"versicolor\"}, {\"sepalLength\": 6.1, \"sepalWidth\": 2.8, \"petalLength\": 4.7, \"petalWidth\": 1.2, \"species\": \"versicolor\"}, {\"sepalLength\": 6.4, \"sepalWidth\": 2.9, \"petalLength\": 4.3, \"petalWidth\": 1.3, \"species\": \"versicolor\"}, {\"sepalLength\": 6.6, \"sepalWidth\": 3.0, \"petalLength\": 4.4, \"petalWidth\": 1.4, \"species\": \"versicolor\"}, {\"sepalLength\": 6.8, \"sepalWidth\": 2.8, \"petalLength\": 4.8, \"petalWidth\": 1.4, \"species\": \"versicolor\"}, {\"sepalLength\": 6.7, \"sepalWidth\": 3.0, \"petalLength\": 5.0, \"petalWidth\": 1.7000000000000002, \"species\": \"versicolor\"}, {\"sepalLength\": 6.0, \"sepalWidth\": 2.9, \"petalLength\": 4.5, \"petalWidth\": 1.5, \"species\": \"versicolor\"}, {\"sepalLength\": 5.7, \"sepalWidth\": 2.6, \"petalLength\": 3.5, \"petalWidth\": 1.0, \"species\": \"versicolor\"}, {\"sepalLength\": 5.5, \"sepalWidth\": 2.4, \"petalLength\": 3.8, \"petalWidth\": 1.1, \"species\": \"versicolor\"}, {\"sepalLength\": 5.5, \"sepalWidth\": 2.4, \"petalLength\": 3.7, \"petalWidth\": 1.0, \"species\": \"versicolor\"}, {\"sepalLength\": 5.8, \"sepalWidth\": 2.7, \"petalLength\": 3.9, \"petalWidth\": 1.2, \"species\": \"versicolor\"}, {\"sepalLength\": 6.0, \"sepalWidth\": 2.7, \"petalLength\": 5.1, \"petalWidth\": 1.6, \"species\": \"versicolor\"}, {\"sepalLength\": 5.4, \"sepalWidth\": 3.0, \"petalLength\": 4.5, \"petalWidth\": 1.5, \"species\": \"versicolor\"}, {\"sepalLength\": 6.0, \"sepalWidth\": 3.4, \"petalLength\": 4.5, \"petalWidth\": 1.6, \"species\": \"versicolor\"}, {\"sepalLength\": 6.7, \"sepalWidth\": 3.1, \"petalLength\": 4.7, \"petalWidth\": 1.5, \"species\": \"versicolor\"}, {\"sepalLength\": 6.3, \"sepalWidth\": 2.3, \"petalLength\": 4.4, \"petalWidth\": 1.3, \"species\": \"versicolor\"}, {\"sepalLength\": 5.6, \"sepalWidth\": 3.0, \"petalLength\": 4.1, \"petalWidth\": 1.3, \"species\": \"versicolor\"}, {\"sepalLength\": 5.5, \"sepalWidth\": 2.5, \"petalLength\": 4.0, \"petalWidth\": 1.3, \"species\": \"versicolor\"}, {\"sepalLength\": 5.5, \"sepalWidth\": 2.6, \"petalLength\": 4.4, \"petalWidth\": 1.2, \"species\": \"versicolor\"}, {\"sepalLength\": 6.1, \"sepalWidth\": 3.0, \"petalLength\": 4.6, \"petalWidth\": 1.4, \"species\": \"versicolor\"}, {\"sepalLength\": 5.8, \"sepalWidth\": 2.6, \"petalLength\": 4.0, \"petalWidth\": 1.2, \"species\": \"versicolor\"}, {\"sepalLength\": 5.0, \"sepalWidth\": 2.3, \"petalLength\": 3.3, \"petalWidth\": 1.0, \"species\": \"versicolor\"}, {\"sepalLength\": 5.6, \"sepalWidth\": 2.7, \"petalLength\": 4.2, \"petalWidth\": 1.3, \"species\": \"versicolor\"}, {\"sepalLength\": 5.7, \"sepalWidth\": 3.0, \"petalLength\": 4.2, \"petalWidth\": 1.2, \"species\": \"versicolor\"}, {\"sepalLength\": 5.7, \"sepalWidth\": 2.9, \"petalLength\": 4.2, \"petalWidth\": 1.3, \"species\": \"versicolor\"}, {\"sepalLength\": 6.2, \"sepalWidth\": 2.9, \"petalLength\": 4.3, \"petalWidth\": 1.3, \"species\": \"versicolor\"}, {\"sepalLength\": 5.1, \"sepalWidth\": 2.5, \"petalLength\": 3.0, \"petalWidth\": 1.1, \"species\": \"versicolor\"}, {\"sepalLength\": 5.7, \"sepalWidth\": 2.8, \"petalLength\": 4.1, \"petalWidth\": 1.3, \"species\": \"versicolor\"}, {\"sepalLength\": 6.3, \"sepalWidth\": 3.3, \"petalLength\": 6.0, \"petalWidth\": 2.5, \"species\": \"virginica\"}, {\"sepalLength\": 5.8, \"sepalWidth\": 2.7, \"petalLength\": 5.1, \"petalWidth\": 1.9, \"species\": \"virginica\"}, {\"sepalLength\": 7.1, \"sepalWidth\": 3.0, \"petalLength\": 5.9, \"petalWidth\": 2.1, \"species\": \"virginica\"}, {\"sepalLength\": 6.3, \"sepalWidth\": 2.9, \"petalLength\": 5.6, \"petalWidth\": 1.8, \"species\": \"virginica\"}, {\"sepalLength\": 6.5, \"sepalWidth\": 3.0, \"petalLength\": 5.8, \"petalWidth\": 2.2, \"species\": \"virginica\"}, {\"sepalLength\": 7.6, \"sepalWidth\": 3.0, \"petalLength\": 6.6, \"petalWidth\": 2.1, \"species\": \"virginica\"}, {\"sepalLength\": 4.9, \"sepalWidth\": 2.5, \"petalLength\": 4.5, \"petalWidth\": 1.7000000000000002, \"species\": \"virginica\"}, {\"sepalLength\": 7.3, \"sepalWidth\": 2.9, \"petalLength\": 6.3, \"petalWidth\": 1.8, \"species\": \"virginica\"}, {\"sepalLength\": 6.7, \"sepalWidth\": 2.5, \"petalLength\": 5.8, \"petalWidth\": 1.8, \"species\": \"virginica\"}, {\"sepalLength\": 7.2, \"sepalWidth\": 3.6, \"petalLength\": 6.1, \"petalWidth\": 2.5, \"species\": \"virginica\"}, {\"sepalLength\": 6.5, \"sepalWidth\": 3.2, \"petalLength\": 5.1, \"petalWidth\": 2.0, \"species\": \"virginica\"}, {\"sepalLength\": 6.4, \"sepalWidth\": 2.7, \"petalLength\": 5.3, \"petalWidth\": 1.9, \"species\": \"virginica\"}, {\"sepalLength\": 6.8, \"sepalWidth\": 3.0, \"petalLength\": 5.5, \"petalWidth\": 2.1, \"species\": \"virginica\"}, {\"sepalLength\": 5.7, \"sepalWidth\": 2.5, \"petalLength\": 5.0, \"petalWidth\": 2.0, \"species\": \"virginica\"}, {\"sepalLength\": 5.8, \"sepalWidth\": 2.8, \"petalLength\": 5.1, \"petalWidth\": 2.4, \"species\": \"virginica\"}, {\"sepalLength\": 6.4, \"sepalWidth\": 3.2, \"petalLength\": 5.3, \"petalWidth\": 2.3, \"species\": \"virginica\"}, {\"sepalLength\": 6.5, \"sepalWidth\": 3.0, \"petalLength\": 5.5, \"petalWidth\": 1.8, \"species\": \"virginica\"}, {\"sepalLength\": 7.7, \"sepalWidth\": 3.8, \"petalLength\": 6.7, \"petalWidth\": 2.2, \"species\": \"virginica\"}, {\"sepalLength\": 7.7, \"sepalWidth\": 2.6, \"petalLength\": 6.9, \"petalWidth\": 2.3, \"species\": \"virginica\"}, {\"sepalLength\": 6.0, \"sepalWidth\": 2.2, \"petalLength\": 5.0, \"petalWidth\": 1.5, \"species\": \"virginica\"}, {\"sepalLength\": 6.9, \"sepalWidth\": 3.2, \"petalLength\": 5.7, \"petalWidth\": 2.3, \"species\": \"virginica\"}, {\"sepalLength\": 5.6, \"sepalWidth\": 2.8, \"petalLength\": 4.9, \"petalWidth\": 2.0, \"species\": \"virginica\"}, {\"sepalLength\": 7.7, \"sepalWidth\": 2.8, \"petalLength\": 6.7, \"petalWidth\": 2.0, \"species\": \"virginica\"}, {\"sepalLength\": 6.3, \"sepalWidth\": 2.7, \"petalLength\": 4.9, \"petalWidth\": 1.8, \"species\": \"virginica\"}, {\"sepalLength\": 6.7, \"sepalWidth\": 3.3, \"petalLength\": 5.7, \"petalWidth\": 2.1, \"species\": \"virginica\"}, {\"sepalLength\": 7.2, \"sepalWidth\": 3.2, \"petalLength\": 6.0, \"petalWidth\": 1.8, \"species\": \"virginica\"}, {\"sepalLength\": 6.2, \"sepalWidth\": 2.8, \"petalLength\": 4.8, \"petalWidth\": 1.8, \"species\": \"virginica\"}, {\"sepalLength\": 6.1, \"sepalWidth\": 3.0, \"petalLength\": 4.9, \"petalWidth\": 1.8, \"species\": \"virginica\"}, {\"sepalLength\": 6.4, \"sepalWidth\": 2.8, \"petalLength\": 5.6, \"petalWidth\": 2.1, \"species\": \"virginica\"}, {\"sepalLength\": 7.2, \"sepalWidth\": 3.0, \"petalLength\": 5.8, \"petalWidth\": 1.6, \"species\": \"virginica\"}, {\"sepalLength\": 7.4, \"sepalWidth\": 2.8, \"petalLength\": 6.1, \"petalWidth\": 1.9, \"species\": \"virginica\"}, {\"sepalLength\": 7.9, \"sepalWidth\": 3.8, \"petalLength\": 6.4, \"petalWidth\": 2.0, \"species\": \"virginica\"}, {\"sepalLength\": 6.4, \"sepalWidth\": 2.8, \"petalLength\": 5.6, \"petalWidth\": 2.2, \"species\": \"virginica\"}, {\"sepalLength\": 6.3, \"sepalWidth\": 2.8, \"petalLength\": 5.1, \"petalWidth\": 1.5, \"species\": \"virginica\"}, {\"sepalLength\": 6.1, \"sepalWidth\": 2.6, \"petalLength\": 5.6, \"petalWidth\": 1.4, \"species\": \"virginica\"}, {\"sepalLength\": 7.7, \"sepalWidth\": 3.0, \"petalLength\": 6.1, \"petalWidth\": 2.3, \"species\": \"virginica\"}, {\"sepalLength\": 6.3, \"sepalWidth\": 3.4, \"petalLength\": 5.6, \"petalWidth\": 2.4, \"species\": \"virginica\"}, {\"sepalLength\": 6.4, \"sepalWidth\": 3.1, \"petalLength\": 5.5, \"petalWidth\": 1.8, \"species\": \"virginica\"}, {\"sepalLength\": 6.0, \"sepalWidth\": 3.0, \"petalLength\": 4.8, \"petalWidth\": 1.8, \"species\": \"virginica\"}, {\"sepalLength\": 6.9, \"sepalWidth\": 3.1, \"petalLength\": 5.4, \"petalWidth\": 2.1, \"species\": \"virginica\"}, {\"sepalLength\": 6.7, \"sepalWidth\": 3.1, \"petalLength\": 5.6, \"petalWidth\": 2.4, \"species\": \"virginica\"}, {\"sepalLength\": 6.9, \"sepalWidth\": 3.1, \"petalLength\": 5.1, \"petalWidth\": 2.3, \"species\": \"virginica\"}, {\"sepalLength\": 5.8, \"sepalWidth\": 2.7, \"petalLength\": 5.1, \"petalWidth\": 1.9, \"species\": \"virginica\"}, {\"sepalLength\": 6.8, \"sepalWidth\": 3.2, \"petalLength\": 5.9, \"petalWidth\": 2.3, \"species\": \"virginica\"}, {\"sepalLength\": 6.7, \"sepalWidth\": 3.3, \"petalLength\": 5.7, \"petalWidth\": 2.5, \"species\": \"virginica\"}, {\"sepalLength\": 6.7, \"sepalWidth\": 3.0, \"petalLength\": 5.2, \"petalWidth\": 2.3, \"species\": \"virginica\"}, {\"sepalLength\": 6.3, \"sepalWidth\": 2.5, \"petalLength\": 5.0, \"petalWidth\": 1.9, \"species\": \"virginica\"}, {\"sepalLength\": 6.5, \"sepalWidth\": 3.0, \"petalLength\": 5.2, \"petalWidth\": 2.0, \"species\": \"virginica\"}, {\"sepalLength\": 6.2, \"sepalWidth\": 3.4, \"petalLength\": 5.4, \"petalWidth\": 2.3, \"species\": \"virginica\"}, {\"sepalLength\": 5.9, \"sepalWidth\": 3.0, \"petalLength\": 5.1, \"petalWidth\": 1.8, \"species\": \"virginica\"}]}}, {\"mode\": \"vega-lite\"});\n",
              "</script>"
            ],
            "text/plain": [
              "alt.HConcatChart(...)"
            ]
          },
          "metadata": {},
          "execution_count": 36
        }
      ],
      "source": [
        "interval = alt.selection_interval(encodings=['x'])\n",
        "\n",
        "base = alt.Chart(iris).mark_point().encode(\n",
        "    y='petalWidth',\n",
        "    color=alt.condition(interval, 'species', alt.value('lightgray'))\n",
        ").properties(\n",
        "    selection=interval\n",
        ")\n",
        "\n",
        "base.encode(x='petalLength') | base.encode(x='sepalLength')"
      ]
    },
    {
      "cell_type": "markdown",
      "metadata": {
        "id": "9-PcWcrRu27r"
      },
      "source": [
        "We can do even more sophisticated things with selections as well.\n",
        "For example, let's make a histogram of the number of records by species, and stack it on our scatter plot:"
      ]
    },
    {
      "cell_type": "code",
      "execution_count": 37,
      "metadata": {
        "colab": {
          "base_uri": "https://localhost:8080/",
          "height": 504
        },
        "id": "tftz7riVu27r",
        "outputId": "783b3583-8bae-431a-eee0-4813410b36f1"
      },
      "outputs": [
        {
          "output_type": "execute_result",
          "data": {
            "text/html": [
              "\n",
              "<div id=\"altair-viz-879d1aa2fbcb430f981db1dabcab6d97\"></div>\n",
              "<script type=\"text/javascript\">\n",
              "  var VEGA_DEBUG = (typeof VEGA_DEBUG == \"undefined\") ? {} : VEGA_DEBUG;\n",
              "  (function(spec, embedOpt){\n",
              "    let outputDiv = document.currentScript.previousElementSibling;\n",
              "    if (outputDiv.id !== \"altair-viz-879d1aa2fbcb430f981db1dabcab6d97\") {\n",
              "      outputDiv = document.getElementById(\"altair-viz-879d1aa2fbcb430f981db1dabcab6d97\");\n",
              "    }\n",
              "    const paths = {\n",
              "      \"vega\": \"https://cdn.jsdelivr.net/npm//vega@5?noext\",\n",
              "      \"vega-lib\": \"https://cdn.jsdelivr.net/npm//vega-lib?noext\",\n",
              "      \"vega-lite\": \"https://cdn.jsdelivr.net/npm//vega-lite@4.17.0?noext\",\n",
              "      \"vega-embed\": \"https://cdn.jsdelivr.net/npm//vega-embed@6?noext\",\n",
              "    };\n",
              "\n",
              "    function maybeLoadScript(lib, version) {\n",
              "      var key = `${lib.replace(\"-\", \"\")}_version`;\n",
              "      return (VEGA_DEBUG[key] == version) ?\n",
              "        Promise.resolve(paths[lib]) :\n",
              "        new Promise(function(resolve, reject) {\n",
              "          var s = document.createElement('script');\n",
              "          document.getElementsByTagName(\"head\")[0].appendChild(s);\n",
              "          s.async = true;\n",
              "          s.onload = () => {\n",
              "            VEGA_DEBUG[key] = version;\n",
              "            return resolve(paths[lib]);\n",
              "          };\n",
              "          s.onerror = () => reject(`Error loading script: ${paths[lib]}`);\n",
              "          s.src = paths[lib];\n",
              "        });\n",
              "    }\n",
              "\n",
              "    function showError(err) {\n",
              "      outputDiv.innerHTML = `<div class=\"error\" style=\"color:red;\">${err}</div>`;\n",
              "      throw err;\n",
              "    }\n",
              "\n",
              "    function displayChart(vegaEmbed) {\n",
              "      vegaEmbed(outputDiv, spec, embedOpt)\n",
              "        .catch(err => showError(`Javascript Error: ${err.message}<br>This usually means there's a typo in your chart specification. See the javascript console for the full traceback.`));\n",
              "    }\n",
              "\n",
              "    if(typeof define === \"function\" && define.amd) {\n",
              "      requirejs.config({paths});\n",
              "      require([\"vega-embed\"], displayChart, err => showError(`Error loading script: ${err.message}`));\n",
              "    } else {\n",
              "      maybeLoadScript(\"vega\", \"5\")\n",
              "        .then(() => maybeLoadScript(\"vega-lite\", \"4.17.0\"))\n",
              "        .then(() => maybeLoadScript(\"vega-embed\", \"6\"))\n",
              "        .catch(showError)\n",
              "        .then(() => displayChart(vegaEmbed));\n",
              "    }\n",
              "  })({\"config\": {\"view\": {\"continuousWidth\": 400, \"continuousHeight\": 300}}, \"vconcat\": [{\"hconcat\": [{\"mark\": \"point\", \"encoding\": {\"color\": {\"condition\": {\"field\": \"species\", \"type\": \"nominal\", \"selection\": \"selector007\"}, \"value\": \"lightgray\"}, \"x\": {\"field\": \"petalWidth\", \"type\": \"quantitative\"}, \"y\": {\"field\": \"petalLength\", \"type\": \"quantitative\"}}, \"selection\": {\"selector007\": {\"type\": \"interval\"}}}, {\"mark\": \"point\", \"encoding\": {\"color\": {\"condition\": {\"field\": \"species\", \"type\": \"nominal\", \"selection\": \"selector007\"}, \"value\": \"lightgray\"}, \"x\": {\"field\": \"sepalWidth\", \"type\": \"quantitative\"}, \"y\": {\"field\": \"petalLength\", \"type\": \"quantitative\"}}, \"selection\": {\"selector007\": {\"type\": \"interval\"}}}]}, {\"mark\": \"bar\", \"encoding\": {\"color\": {\"field\": \"species\", \"type\": \"nominal\"}, \"x\": {\"aggregate\": \"count\", \"type\": \"quantitative\"}, \"y\": {\"field\": \"species\", \"type\": \"nominal\"}}, \"height\": 80, \"transform\": [{\"filter\": {\"selection\": \"selector007\"}}], \"width\": 800}], \"data\": {\"name\": \"data-a264acbd6e539a8b3afc0cb5f240fb57\"}, \"$schema\": \"https://vega.github.io/schema/vega-lite/v4.17.0.json\", \"datasets\": {\"data-a264acbd6e539a8b3afc0cb5f240fb57\": [{\"sepalLength\": 5.1, \"sepalWidth\": 3.5, \"petalLength\": 1.4, \"petalWidth\": 0.2, \"species\": \"setosa\"}, {\"sepalLength\": 4.9, \"sepalWidth\": 3.0, \"petalLength\": 1.4, \"petalWidth\": 0.2, \"species\": \"setosa\"}, {\"sepalLength\": 4.7, \"sepalWidth\": 3.2, \"petalLength\": 1.3, \"petalWidth\": 0.2, \"species\": \"setosa\"}, {\"sepalLength\": 4.6, \"sepalWidth\": 3.1, \"petalLength\": 1.5, \"petalWidth\": 0.2, \"species\": \"setosa\"}, {\"sepalLength\": 5.0, \"sepalWidth\": 3.6, \"petalLength\": 1.4, \"petalWidth\": 0.2, \"species\": \"setosa\"}, {\"sepalLength\": 5.4, \"sepalWidth\": 3.9, \"petalLength\": 1.7000000000000002, \"petalWidth\": 0.4, \"species\": \"setosa\"}, {\"sepalLength\": 4.6, \"sepalWidth\": 3.4, \"petalLength\": 1.4, \"petalWidth\": 0.30000000000000004, \"species\": \"setosa\"}, {\"sepalLength\": 5.0, \"sepalWidth\": 3.4, \"petalLength\": 1.5, \"petalWidth\": 0.2, \"species\": \"setosa\"}, {\"sepalLength\": 4.4, \"sepalWidth\": 2.9, \"petalLength\": 1.4, \"petalWidth\": 0.2, \"species\": \"setosa\"}, {\"sepalLength\": 4.9, \"sepalWidth\": 3.1, \"petalLength\": 1.5, \"petalWidth\": 0.1, \"species\": \"setosa\"}, {\"sepalLength\": 5.4, \"sepalWidth\": 3.7, \"petalLength\": 1.5, \"petalWidth\": 0.2, \"species\": \"setosa\"}, {\"sepalLength\": 4.8, \"sepalWidth\": 3.4, \"petalLength\": 1.6, \"petalWidth\": 0.2, \"species\": \"setosa\"}, {\"sepalLength\": 4.8, \"sepalWidth\": 3.0, \"petalLength\": 1.4, \"petalWidth\": 0.1, \"species\": \"setosa\"}, {\"sepalLength\": 4.3, \"sepalWidth\": 3.0, \"petalLength\": 1.1, \"petalWidth\": 0.1, \"species\": \"setosa\"}, {\"sepalLength\": 5.8, \"sepalWidth\": 4.0, \"petalLength\": 1.2, \"petalWidth\": 0.2, \"species\": \"setosa\"}, {\"sepalLength\": 5.7, \"sepalWidth\": 4.4, \"petalLength\": 1.5, \"petalWidth\": 0.4, \"species\": \"setosa\"}, {\"sepalLength\": 5.4, \"sepalWidth\": 3.9, \"petalLength\": 1.3, \"petalWidth\": 0.4, \"species\": \"setosa\"}, {\"sepalLength\": 5.1, \"sepalWidth\": 3.5, \"petalLength\": 1.4, \"petalWidth\": 0.30000000000000004, \"species\": \"setosa\"}, {\"sepalLength\": 5.7, \"sepalWidth\": 3.8, \"petalLength\": 1.7000000000000002, \"petalWidth\": 0.30000000000000004, \"species\": \"setosa\"}, {\"sepalLength\": 5.1, \"sepalWidth\": 3.8, \"petalLength\": 1.5, \"petalWidth\": 0.30000000000000004, \"species\": \"setosa\"}, {\"sepalLength\": 5.4, \"sepalWidth\": 3.4, \"petalLength\": 1.7000000000000002, \"petalWidth\": 0.2, \"species\": \"setosa\"}, {\"sepalLength\": 5.1, \"sepalWidth\": 3.7, \"petalLength\": 1.5, \"petalWidth\": 0.4, \"species\": \"setosa\"}, {\"sepalLength\": 4.6, \"sepalWidth\": 3.6, \"petalLength\": 1.0, \"petalWidth\": 0.2, \"species\": \"setosa\"}, {\"sepalLength\": 5.1, \"sepalWidth\": 3.3, \"petalLength\": 1.7000000000000002, \"petalWidth\": 0.5, \"species\": \"setosa\"}, {\"sepalLength\": 4.8, \"sepalWidth\": 3.4, \"petalLength\": 1.9, \"petalWidth\": 0.2, \"species\": \"setosa\"}, {\"sepalLength\": 5.0, \"sepalWidth\": 3.0, \"petalLength\": 1.6, \"petalWidth\": 0.2, \"species\": \"setosa\"}, {\"sepalLength\": 5.0, \"sepalWidth\": 3.4, \"petalLength\": 1.6, \"petalWidth\": 0.4, \"species\": \"setosa\"}, {\"sepalLength\": 5.2, \"sepalWidth\": 3.5, \"petalLength\": 1.5, \"petalWidth\": 0.2, \"species\": \"setosa\"}, {\"sepalLength\": 5.2, \"sepalWidth\": 3.4, \"petalLength\": 1.4, \"petalWidth\": 0.2, \"species\": \"setosa\"}, {\"sepalLength\": 4.7, \"sepalWidth\": 3.2, \"petalLength\": 1.6, \"petalWidth\": 0.2, \"species\": \"setosa\"}, {\"sepalLength\": 4.8, \"sepalWidth\": 3.1, \"petalLength\": 1.6, \"petalWidth\": 0.2, \"species\": \"setosa\"}, {\"sepalLength\": 5.4, \"sepalWidth\": 3.4, \"petalLength\": 1.5, \"petalWidth\": 0.4, \"species\": \"setosa\"}, {\"sepalLength\": 5.2, \"sepalWidth\": 4.1, \"petalLength\": 1.5, \"petalWidth\": 0.1, \"species\": \"setosa\"}, {\"sepalLength\": 5.5, \"sepalWidth\": 4.2, \"petalLength\": 1.4, \"petalWidth\": 0.2, \"species\": \"setosa\"}, {\"sepalLength\": 4.9, \"sepalWidth\": 3.1, \"petalLength\": 1.5, \"petalWidth\": 0.2, \"species\": \"setosa\"}, {\"sepalLength\": 5.0, \"sepalWidth\": 3.2, \"petalLength\": 1.2, \"petalWidth\": 0.2, \"species\": \"setosa\"}, {\"sepalLength\": 5.5, \"sepalWidth\": 3.5, \"petalLength\": 1.3, \"petalWidth\": 0.2, \"species\": \"setosa\"}, {\"sepalLength\": 4.9, \"sepalWidth\": 3.6, \"petalLength\": 1.4, \"petalWidth\": 0.1, \"species\": \"setosa\"}, {\"sepalLength\": 4.4, \"sepalWidth\": 3.0, \"petalLength\": 1.3, \"petalWidth\": 0.2, \"species\": \"setosa\"}, {\"sepalLength\": 5.1, \"sepalWidth\": 3.4, \"petalLength\": 1.5, \"petalWidth\": 0.2, \"species\": \"setosa\"}, {\"sepalLength\": 5.0, \"sepalWidth\": 3.5, \"petalLength\": 1.3, \"petalWidth\": 0.30000000000000004, \"species\": \"setosa\"}, {\"sepalLength\": 4.5, \"sepalWidth\": 2.3, \"petalLength\": 1.3, \"petalWidth\": 0.30000000000000004, \"species\": \"setosa\"}, {\"sepalLength\": 4.4, \"sepalWidth\": 3.2, \"petalLength\": 1.3, \"petalWidth\": 0.2, \"species\": \"setosa\"}, {\"sepalLength\": 5.0, \"sepalWidth\": 3.5, \"petalLength\": 1.6, \"petalWidth\": 0.6000000000000001, \"species\": \"setosa\"}, {\"sepalLength\": 5.1, \"sepalWidth\": 3.8, \"petalLength\": 1.9, \"petalWidth\": 0.4, \"species\": \"setosa\"}, {\"sepalLength\": 4.8, \"sepalWidth\": 3.0, \"petalLength\": 1.4, \"petalWidth\": 0.30000000000000004, \"species\": \"setosa\"}, {\"sepalLength\": 5.1, \"sepalWidth\": 3.8, \"petalLength\": 1.6, \"petalWidth\": 0.2, \"species\": \"setosa\"}, {\"sepalLength\": 4.6, \"sepalWidth\": 3.2, \"petalLength\": 1.4, \"petalWidth\": 0.2, \"species\": \"setosa\"}, {\"sepalLength\": 5.3, \"sepalWidth\": 3.7, \"petalLength\": 1.5, \"petalWidth\": 0.2, \"species\": \"setosa\"}, {\"sepalLength\": 5.0, \"sepalWidth\": 3.3, \"petalLength\": 1.4, \"petalWidth\": 0.2, \"species\": \"setosa\"}, {\"sepalLength\": 7.0, \"sepalWidth\": 3.2, \"petalLength\": 4.7, \"petalWidth\": 1.4, \"species\": \"versicolor\"}, {\"sepalLength\": 6.4, \"sepalWidth\": 3.2, \"petalLength\": 4.5, \"petalWidth\": 1.5, \"species\": \"versicolor\"}, {\"sepalLength\": 6.9, \"sepalWidth\": 3.1, \"petalLength\": 4.9, \"petalWidth\": 1.5, \"species\": \"versicolor\"}, {\"sepalLength\": 5.5, \"sepalWidth\": 2.3, \"petalLength\": 4.0, \"petalWidth\": 1.3, \"species\": \"versicolor\"}, {\"sepalLength\": 6.5, \"sepalWidth\": 2.8, \"petalLength\": 4.6, \"petalWidth\": 1.5, \"species\": \"versicolor\"}, {\"sepalLength\": 5.7, \"sepalWidth\": 2.8, \"petalLength\": 4.5, \"petalWidth\": 1.3, \"species\": \"versicolor\"}, {\"sepalLength\": 6.3, \"sepalWidth\": 3.3, \"petalLength\": 4.7, \"petalWidth\": 1.6, \"species\": \"versicolor\"}, {\"sepalLength\": 4.9, \"sepalWidth\": 2.4, \"petalLength\": 3.3, \"petalWidth\": 1.0, \"species\": \"versicolor\"}, {\"sepalLength\": 6.6, \"sepalWidth\": 2.9, \"petalLength\": 4.6, \"petalWidth\": 1.3, \"species\": \"versicolor\"}, {\"sepalLength\": 5.2, \"sepalWidth\": 2.7, \"petalLength\": 3.9, \"petalWidth\": 1.4, \"species\": \"versicolor\"}, {\"sepalLength\": 5.0, \"sepalWidth\": 2.0, \"petalLength\": 3.5, \"petalWidth\": 1.0, \"species\": \"versicolor\"}, {\"sepalLength\": 5.9, \"sepalWidth\": 3.0, \"petalLength\": 4.2, \"petalWidth\": 1.5, \"species\": \"versicolor\"}, {\"sepalLength\": 6.0, \"sepalWidth\": 2.2, \"petalLength\": 4.0, \"petalWidth\": 1.0, \"species\": \"versicolor\"}, {\"sepalLength\": 6.1, \"sepalWidth\": 2.9, \"petalLength\": 4.7, \"petalWidth\": 1.4, \"species\": \"versicolor\"}, {\"sepalLength\": 5.6, \"sepalWidth\": 2.9, \"petalLength\": 3.6, \"petalWidth\": 1.3, \"species\": \"versicolor\"}, {\"sepalLength\": 6.7, \"sepalWidth\": 3.1, \"petalLength\": 4.4, \"petalWidth\": 1.4, \"species\": \"versicolor\"}, {\"sepalLength\": 5.6, \"sepalWidth\": 3.0, \"petalLength\": 4.5, \"petalWidth\": 1.5, \"species\": \"versicolor\"}, {\"sepalLength\": 5.8, \"sepalWidth\": 2.7, \"petalLength\": 4.1, \"petalWidth\": 1.0, \"species\": \"versicolor\"}, {\"sepalLength\": 6.2, \"sepalWidth\": 2.2, \"petalLength\": 4.5, \"petalWidth\": 1.5, \"species\": \"versicolor\"}, {\"sepalLength\": 5.6, \"sepalWidth\": 2.5, \"petalLength\": 3.9, \"petalWidth\": 1.1, \"species\": \"versicolor\"}, {\"sepalLength\": 5.9, \"sepalWidth\": 3.2, \"petalLength\": 4.8, \"petalWidth\": 1.8, \"species\": \"versicolor\"}, {\"sepalLength\": 6.1, \"sepalWidth\": 2.8, \"petalLength\": 4.0, \"petalWidth\": 1.3, \"species\": \"versicolor\"}, {\"sepalLength\": 6.3, \"sepalWidth\": 2.5, \"petalLength\": 4.9, \"petalWidth\": 1.5, \"species\": \"versicolor\"}, {\"sepalLength\": 6.1, \"sepalWidth\": 2.8, \"petalLength\": 4.7, \"petalWidth\": 1.2, \"species\": \"versicolor\"}, {\"sepalLength\": 6.4, \"sepalWidth\": 2.9, \"petalLength\": 4.3, \"petalWidth\": 1.3, \"species\": \"versicolor\"}, {\"sepalLength\": 6.6, \"sepalWidth\": 3.0, \"petalLength\": 4.4, \"petalWidth\": 1.4, \"species\": \"versicolor\"}, {\"sepalLength\": 6.8, \"sepalWidth\": 2.8, \"petalLength\": 4.8, \"petalWidth\": 1.4, \"species\": \"versicolor\"}, {\"sepalLength\": 6.7, \"sepalWidth\": 3.0, \"petalLength\": 5.0, \"petalWidth\": 1.7000000000000002, \"species\": \"versicolor\"}, {\"sepalLength\": 6.0, \"sepalWidth\": 2.9, \"petalLength\": 4.5, \"petalWidth\": 1.5, \"species\": \"versicolor\"}, {\"sepalLength\": 5.7, \"sepalWidth\": 2.6, \"petalLength\": 3.5, \"petalWidth\": 1.0, \"species\": \"versicolor\"}, {\"sepalLength\": 5.5, \"sepalWidth\": 2.4, \"petalLength\": 3.8, \"petalWidth\": 1.1, \"species\": \"versicolor\"}, {\"sepalLength\": 5.5, \"sepalWidth\": 2.4, \"petalLength\": 3.7, \"petalWidth\": 1.0, \"species\": \"versicolor\"}, {\"sepalLength\": 5.8, \"sepalWidth\": 2.7, \"petalLength\": 3.9, \"petalWidth\": 1.2, \"species\": \"versicolor\"}, {\"sepalLength\": 6.0, \"sepalWidth\": 2.7, \"petalLength\": 5.1, \"petalWidth\": 1.6, \"species\": \"versicolor\"}, {\"sepalLength\": 5.4, \"sepalWidth\": 3.0, \"petalLength\": 4.5, \"petalWidth\": 1.5, \"species\": \"versicolor\"}, {\"sepalLength\": 6.0, \"sepalWidth\": 3.4, \"petalLength\": 4.5, \"petalWidth\": 1.6, \"species\": \"versicolor\"}, {\"sepalLength\": 6.7, \"sepalWidth\": 3.1, \"petalLength\": 4.7, \"petalWidth\": 1.5, \"species\": \"versicolor\"}, {\"sepalLength\": 6.3, \"sepalWidth\": 2.3, \"petalLength\": 4.4, \"petalWidth\": 1.3, \"species\": \"versicolor\"}, {\"sepalLength\": 5.6, \"sepalWidth\": 3.0, \"petalLength\": 4.1, \"petalWidth\": 1.3, \"species\": \"versicolor\"}, {\"sepalLength\": 5.5, \"sepalWidth\": 2.5, \"petalLength\": 4.0, \"petalWidth\": 1.3, \"species\": \"versicolor\"}, {\"sepalLength\": 5.5, \"sepalWidth\": 2.6, \"petalLength\": 4.4, \"petalWidth\": 1.2, \"species\": \"versicolor\"}, {\"sepalLength\": 6.1, \"sepalWidth\": 3.0, \"petalLength\": 4.6, \"petalWidth\": 1.4, \"species\": \"versicolor\"}, {\"sepalLength\": 5.8, \"sepalWidth\": 2.6, \"petalLength\": 4.0, \"petalWidth\": 1.2, \"species\": \"versicolor\"}, {\"sepalLength\": 5.0, \"sepalWidth\": 2.3, \"petalLength\": 3.3, \"petalWidth\": 1.0, \"species\": \"versicolor\"}, {\"sepalLength\": 5.6, \"sepalWidth\": 2.7, \"petalLength\": 4.2, \"petalWidth\": 1.3, \"species\": \"versicolor\"}, {\"sepalLength\": 5.7, \"sepalWidth\": 3.0, \"petalLength\": 4.2, \"petalWidth\": 1.2, \"species\": \"versicolor\"}, {\"sepalLength\": 5.7, \"sepalWidth\": 2.9, \"petalLength\": 4.2, \"petalWidth\": 1.3, \"species\": \"versicolor\"}, {\"sepalLength\": 6.2, \"sepalWidth\": 2.9, \"petalLength\": 4.3, \"petalWidth\": 1.3, \"species\": \"versicolor\"}, {\"sepalLength\": 5.1, \"sepalWidth\": 2.5, \"petalLength\": 3.0, \"petalWidth\": 1.1, \"species\": \"versicolor\"}, {\"sepalLength\": 5.7, \"sepalWidth\": 2.8, \"petalLength\": 4.1, \"petalWidth\": 1.3, \"species\": \"versicolor\"}, {\"sepalLength\": 6.3, \"sepalWidth\": 3.3, \"petalLength\": 6.0, \"petalWidth\": 2.5, \"species\": \"virginica\"}, {\"sepalLength\": 5.8, \"sepalWidth\": 2.7, \"petalLength\": 5.1, \"petalWidth\": 1.9, \"species\": \"virginica\"}, {\"sepalLength\": 7.1, \"sepalWidth\": 3.0, \"petalLength\": 5.9, \"petalWidth\": 2.1, \"species\": \"virginica\"}, {\"sepalLength\": 6.3, \"sepalWidth\": 2.9, \"petalLength\": 5.6, \"petalWidth\": 1.8, \"species\": \"virginica\"}, {\"sepalLength\": 6.5, \"sepalWidth\": 3.0, \"petalLength\": 5.8, \"petalWidth\": 2.2, \"species\": \"virginica\"}, {\"sepalLength\": 7.6, \"sepalWidth\": 3.0, \"petalLength\": 6.6, \"petalWidth\": 2.1, \"species\": \"virginica\"}, {\"sepalLength\": 4.9, \"sepalWidth\": 2.5, \"petalLength\": 4.5, \"petalWidth\": 1.7000000000000002, \"species\": \"virginica\"}, {\"sepalLength\": 7.3, \"sepalWidth\": 2.9, \"petalLength\": 6.3, \"petalWidth\": 1.8, \"species\": \"virginica\"}, {\"sepalLength\": 6.7, \"sepalWidth\": 2.5, \"petalLength\": 5.8, \"petalWidth\": 1.8, \"species\": \"virginica\"}, {\"sepalLength\": 7.2, \"sepalWidth\": 3.6, \"petalLength\": 6.1, \"petalWidth\": 2.5, \"species\": \"virginica\"}, {\"sepalLength\": 6.5, \"sepalWidth\": 3.2, \"petalLength\": 5.1, \"petalWidth\": 2.0, \"species\": \"virginica\"}, {\"sepalLength\": 6.4, \"sepalWidth\": 2.7, \"petalLength\": 5.3, \"petalWidth\": 1.9, \"species\": \"virginica\"}, {\"sepalLength\": 6.8, \"sepalWidth\": 3.0, \"petalLength\": 5.5, \"petalWidth\": 2.1, \"species\": \"virginica\"}, {\"sepalLength\": 5.7, \"sepalWidth\": 2.5, \"petalLength\": 5.0, \"petalWidth\": 2.0, \"species\": \"virginica\"}, {\"sepalLength\": 5.8, \"sepalWidth\": 2.8, \"petalLength\": 5.1, \"petalWidth\": 2.4, \"species\": \"virginica\"}, {\"sepalLength\": 6.4, \"sepalWidth\": 3.2, \"petalLength\": 5.3, \"petalWidth\": 2.3, \"species\": \"virginica\"}, {\"sepalLength\": 6.5, \"sepalWidth\": 3.0, \"petalLength\": 5.5, \"petalWidth\": 1.8, \"species\": \"virginica\"}, {\"sepalLength\": 7.7, \"sepalWidth\": 3.8, \"petalLength\": 6.7, \"petalWidth\": 2.2, \"species\": \"virginica\"}, {\"sepalLength\": 7.7, \"sepalWidth\": 2.6, \"petalLength\": 6.9, \"petalWidth\": 2.3, \"species\": \"virginica\"}, {\"sepalLength\": 6.0, \"sepalWidth\": 2.2, \"petalLength\": 5.0, \"petalWidth\": 1.5, \"species\": \"virginica\"}, {\"sepalLength\": 6.9, \"sepalWidth\": 3.2, \"petalLength\": 5.7, \"petalWidth\": 2.3, \"species\": \"virginica\"}, {\"sepalLength\": 5.6, \"sepalWidth\": 2.8, \"petalLength\": 4.9, \"petalWidth\": 2.0, \"species\": \"virginica\"}, {\"sepalLength\": 7.7, \"sepalWidth\": 2.8, \"petalLength\": 6.7, \"petalWidth\": 2.0, \"species\": \"virginica\"}, {\"sepalLength\": 6.3, \"sepalWidth\": 2.7, \"petalLength\": 4.9, \"petalWidth\": 1.8, \"species\": \"virginica\"}, {\"sepalLength\": 6.7, \"sepalWidth\": 3.3, \"petalLength\": 5.7, \"petalWidth\": 2.1, \"species\": \"virginica\"}, {\"sepalLength\": 7.2, \"sepalWidth\": 3.2, \"petalLength\": 6.0, \"petalWidth\": 1.8, \"species\": \"virginica\"}, {\"sepalLength\": 6.2, \"sepalWidth\": 2.8, \"petalLength\": 4.8, \"petalWidth\": 1.8, \"species\": \"virginica\"}, {\"sepalLength\": 6.1, \"sepalWidth\": 3.0, \"petalLength\": 4.9, \"petalWidth\": 1.8, \"species\": \"virginica\"}, {\"sepalLength\": 6.4, \"sepalWidth\": 2.8, \"petalLength\": 5.6, \"petalWidth\": 2.1, \"species\": \"virginica\"}, {\"sepalLength\": 7.2, \"sepalWidth\": 3.0, \"petalLength\": 5.8, \"petalWidth\": 1.6, \"species\": \"virginica\"}, {\"sepalLength\": 7.4, \"sepalWidth\": 2.8, \"petalLength\": 6.1, \"petalWidth\": 1.9, \"species\": \"virginica\"}, {\"sepalLength\": 7.9, \"sepalWidth\": 3.8, \"petalLength\": 6.4, \"petalWidth\": 2.0, \"species\": \"virginica\"}, {\"sepalLength\": 6.4, \"sepalWidth\": 2.8, \"petalLength\": 5.6, \"petalWidth\": 2.2, \"species\": \"virginica\"}, {\"sepalLength\": 6.3, \"sepalWidth\": 2.8, \"petalLength\": 5.1, \"petalWidth\": 1.5, \"species\": \"virginica\"}, {\"sepalLength\": 6.1, \"sepalWidth\": 2.6, \"petalLength\": 5.6, \"petalWidth\": 1.4, \"species\": \"virginica\"}, {\"sepalLength\": 7.7, \"sepalWidth\": 3.0, \"petalLength\": 6.1, \"petalWidth\": 2.3, \"species\": \"virginica\"}, {\"sepalLength\": 6.3, \"sepalWidth\": 3.4, \"petalLength\": 5.6, \"petalWidth\": 2.4, \"species\": \"virginica\"}, {\"sepalLength\": 6.4, \"sepalWidth\": 3.1, \"petalLength\": 5.5, \"petalWidth\": 1.8, \"species\": \"virginica\"}, {\"sepalLength\": 6.0, \"sepalWidth\": 3.0, \"petalLength\": 4.8, \"petalWidth\": 1.8, \"species\": \"virginica\"}, {\"sepalLength\": 6.9, \"sepalWidth\": 3.1, \"petalLength\": 5.4, \"petalWidth\": 2.1, \"species\": \"virginica\"}, {\"sepalLength\": 6.7, \"sepalWidth\": 3.1, \"petalLength\": 5.6, \"petalWidth\": 2.4, \"species\": \"virginica\"}, {\"sepalLength\": 6.9, \"sepalWidth\": 3.1, \"petalLength\": 5.1, \"petalWidth\": 2.3, \"species\": \"virginica\"}, {\"sepalLength\": 5.8, \"sepalWidth\": 2.7, \"petalLength\": 5.1, \"petalWidth\": 1.9, \"species\": \"virginica\"}, {\"sepalLength\": 6.8, \"sepalWidth\": 3.2, \"petalLength\": 5.9, \"petalWidth\": 2.3, \"species\": \"virginica\"}, {\"sepalLength\": 6.7, \"sepalWidth\": 3.3, \"petalLength\": 5.7, \"petalWidth\": 2.5, \"species\": \"virginica\"}, {\"sepalLength\": 6.7, \"sepalWidth\": 3.0, \"petalLength\": 5.2, \"petalWidth\": 2.3, \"species\": \"virginica\"}, {\"sepalLength\": 6.3, \"sepalWidth\": 2.5, \"petalLength\": 5.0, \"petalWidth\": 1.9, \"species\": \"virginica\"}, {\"sepalLength\": 6.5, \"sepalWidth\": 3.0, \"petalLength\": 5.2, \"petalWidth\": 2.0, \"species\": \"virginica\"}, {\"sepalLength\": 6.2, \"sepalWidth\": 3.4, \"petalLength\": 5.4, \"petalWidth\": 2.3, \"species\": \"virginica\"}, {\"sepalLength\": 5.9, \"sepalWidth\": 3.0, \"petalLength\": 5.1, \"petalWidth\": 1.8, \"species\": \"virginica\"}]}}, {\"mode\": \"vega-lite\"});\n",
              "</script>"
            ],
            "text/plain": [
              "alt.VConcatChart(...)"
            ]
          },
          "metadata": {},
          "execution_count": 37
        }
      ],
      "source": [
        "interval = alt.selection_interval()\n",
        "\n",
        "base = alt.Chart(iris).mark_point().encode(\n",
        "    y='petalLength',\n",
        "    color=alt.condition(interval, 'species', alt.value('lightgray'))\n",
        ").properties(\n",
        "    selection=interval\n",
        ")\n",
        "\n",
        "hist = alt.Chart(iris).mark_bar().encode(\n",
        "    x='count()',\n",
        "    y='species',\n",
        "    color='species'\n",
        ").properties(\n",
        "    width=800,\n",
        "    height=80\n",
        ").transform_filter(\n",
        "    interval\n",
        ")\n",
        "\n",
        "scatter = base.encode(x='petalWidth') | base.encode(x='sepalWidth')\n",
        "\n",
        "scatter & hist"
      ]
    },
    {
      "cell_type": "markdown",
      "metadata": {
        "id": "pyMipJuju27r"
      },
      "source": [
        "This demo has covered a number of the available components of Altair.\n",
        "In the following sections, we'll look into each of these a bit more systematically."
      ]
    }
  ],
  "metadata": {
    "kernelspec": {
      "display_name": "Python 3",
      "language": "python",
      "name": "python3"
    },
    "language_info": {
      "codemirror_mode": {
        "name": "ipython",
        "version": 3
      },
      "file_extension": ".py",
      "mimetype": "text/x-python",
      "name": "python",
      "nbconvert_exporter": "python",
      "pygments_lexer": "ipython3",
      "version": "3.7.0"
    },
    "colab": {
      "provenance": [],
      "include_colab_link": true
    }
  },
  "nbformat": 4,
  "nbformat_minor": 0
}